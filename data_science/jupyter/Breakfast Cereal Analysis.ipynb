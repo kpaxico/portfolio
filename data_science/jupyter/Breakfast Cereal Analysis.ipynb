{
 "cells": [
  {
   "cell_type": "markdown",
   "metadata": {
    "toc": true
   },
   "source": [
    "<h1>Table of Contents<span class=\"tocSkip\"></span></h1>\n",
    "<div class=\"toc\"><ul class=\"toc-item\"><li><span><a href=\"#BREAKFAST-CEREAL-ANALYSIS\" data-toc-modified-id=\"BREAKFAST-CEREAL-ANALYSIS-1\"><span class=\"toc-item-num\">1&nbsp;&nbsp;</span>BREAKFAST CEREAL ANALYSIS</a></span><ul class=\"toc-item\"><li><span><a href=\"#Load-Dataset\" data-toc-modified-id=\"Load-Dataset-1.1\"><span class=\"toc-item-num\">1.1&nbsp;&nbsp;</span>Load Dataset</a></span></li><li><span><a href=\"#Data-Cleaning-and-Structuring\" data-toc-modified-id=\"Data-Cleaning-and-Structuring-1.2\"><span class=\"toc-item-num\">1.2&nbsp;&nbsp;</span>Data Cleaning and Structuring</a></span><ul class=\"toc-item\"><li><span><a href=\"#Remove-unnecessary-columns\" data-toc-modified-id=\"Remove-unnecessary-columns-1.2.1\"><span class=\"toc-item-num\">1.2.1&nbsp;&nbsp;</span>Remove unnecessary columns<a id=\"remove_cols\"></a></a></span></li><li><span><a href=\"#Rename-columns\" data-toc-modified-id=\"Rename-columns-1.2.2\"><span class=\"toc-item-num\">1.2.2&nbsp;&nbsp;</span>Rename columns</a></span></li><li><span><a href=\"#Replace-Manufacturer-'codes'-with-'names'\" data-toc-modified-id=\"Replace-Manufacturer-'codes'-with-'names'-1.2.3\"><span class=\"toc-item-num\">1.2.3&nbsp;&nbsp;</span>Replace <code>Manufacturer</code> 'codes' with 'names'</a></span></li><li><span><a href=\"#Replace-Type-'codes'-with-'names'\" data-toc-modified-id=\"Replace-Type-'codes'-with-'names'-1.2.4\"><span class=\"toc-item-num\">1.2.4&nbsp;&nbsp;</span>Replace <code>Type</code> 'codes' with 'names'</a></span></li><li><span><a href=\"#Change-column-types-from-float-to-integer\" data-toc-modified-id=\"Change-column-types-from-float-to-integer-1.2.5\"><span class=\"toc-item-num\">1.2.5&nbsp;&nbsp;</span>Change column types from <code>float</code> to <code>integer</code></a></span></li><li><span><a href=\"#Round-and-change-column-types-from-float-to-integer\" data-toc-modified-id=\"Round-and-change-column-types-from-float-to-integer-1.2.6\"><span class=\"toc-item-num\">1.2.6&nbsp;&nbsp;</span>Round and change column types from <code>float</code> to <code>integer</code></a></span></li><li><span><a href=\"#Round-float-columns-to-2-digit\" data-toc-modified-id=\"Round-float-columns-to-2-digit-1.2.7\"><span class=\"toc-item-num\">1.2.7&nbsp;&nbsp;</span>Round <code>float</code> columns to 2 digit</a></span></li><li><span><a href=\"#Save-cleansed-dataset\" data-toc-modified-id=\"Save-cleansed-dataset-1.2.8\"><span class=\"toc-item-num\">1.2.8&nbsp;&nbsp;</span>Save cleansed dataset</a></span></li></ul></li><li><span><a href=\"#Data-Visualization\" data-toc-modified-id=\"Data-Visualization-1.3\"><span class=\"toc-item-num\">1.3&nbsp;&nbsp;</span>Data Visualization</a></span><ul class=\"toc-item\"><li><span><a href=\"#Comparison-of-numerical-value-distribution-between-1993-and-2020\" data-toc-modified-id=\"Comparison-of-numerical-value-distribution-between-1993-and-2020-1.3.1\"><span class=\"toc-item-num\">1.3.1&nbsp;&nbsp;</span>Comparison of numerical value distribution between 1993 and 2020</a></span><ul class=\"toc-item\"><li><span><a href=\"#Calories-and-Cups\" data-toc-modified-id=\"Calories-and-Cups-1.3.1.1\"><span class=\"toc-item-num\">1.3.1.1&nbsp;&nbsp;</span><code>Calories</code> and <code>Cups</code></a></span></li><li><span><a href=\"#Protein,-Fat,-Fiber,-Carbohydrate-and-Sugar\" data-toc-modified-id=\"Protein,-Fat,-Fiber,-Carbohydrate-and-Sugar-1.3.1.2\"><span class=\"toc-item-num\">1.3.1.2&nbsp;&nbsp;</span><code>Protein</code>, <code>Fat</code>, <code>Fiber</code>, <code>Carbohydrate</code> and <code>Sugar</code></a></span></li><li><span><a href=\"#Sodium-and-Potassium\" data-toc-modified-id=\"Sodium-and-Potassium-1.3.1.3\"><span class=\"toc-item-num\">1.3.1.3&nbsp;&nbsp;</span><code>Sodium</code> and <code>Potassium</code></a></span></li></ul></li><li><span><a href=\"#Comparison-of-Calories-vs-nutrients-relationship-between-1993-and-2020\" data-toc-modified-id=\"Comparison-of-Calories-vs-nutrients-relationship-between-1993-and-2020-1.3.2\"><span class=\"toc-item-num\">1.3.2&nbsp;&nbsp;</span>Comparison of <code>Calories</code> vs nutrients relationship between 1993 and 2020</a></span></li><li><span><a href=\"#Comparison-of-common-cereals-between-1993-and-2020\" data-toc-modified-id=\"Comparison-of-common-cereals-between-1993-and-2020-1.3.3\"><span class=\"toc-item-num\">1.3.3&nbsp;&nbsp;</span>Comparison of common cereals between 1993 and 2020</a></span></li><li><span><a href=\"#Pareto-chart-analysis-of-top-manufacturers-in-1993\" data-toc-modified-id=\"Pareto-chart-analysis-of-top-manufacturers-in-1993-1.3.4\"><span class=\"toc-item-num\">1.3.4&nbsp;&nbsp;</span>Pareto chart analysis of top manufacturers in 1993</a></span></li></ul></li><li><span><a href=\"#References\" data-toc-modified-id=\"References-1.4\"><span class=\"toc-item-num\">1.4&nbsp;&nbsp;</span>References</a></span></li></ul></li></ul></div>"
   ]
  },
  {
   "cell_type": "markdown",
   "metadata": {},
   "source": [
    "# BREAKFAST CEREAL ANALYSIS\n",
    "\n",
    "We are going to analyze a [multivariate dataset](http://lib.stat.cmu.edu/datasets/1993.expo/) which is augmented with 2020 records by _Alex Cyril Veliyathumari_ and _Ravi Nakulan_. The dataset contains 125 breakfast cereals, based on the information now available on the newly-mandated FDA food label."
   ]
  },
  {
   "cell_type": "code",
   "execution_count": 2,
   "metadata": {
    "ExecuteTime": {
     "end_time": "2021-03-21T10:46:02.380999Z",
     "start_time": "2021-03-21T10:46:02.365016Z"
    }
   },
   "outputs": [],
   "source": [
    "from IPython.core.interactiveshell import InteractiveShell\n",
    "InteractiveShell.ast_node_interactivity = 'all'\n",
    "\n",
    "# Disable warnings in Anaconda\n",
    "import warnings\n",
    "warnings.filterwarnings('ignore')"
   ]
  },
  {
   "cell_type": "code",
   "execution_count": 3,
   "metadata": {
    "ExecuteTime": {
     "end_time": "2021-03-21T10:46:06.643080Z",
     "start_time": "2021-03-21T10:46:02.380999Z"
    }
   },
   "outputs": [
    {
     "data": {
      "text/html": [
       "        <script type=\"text/javascript\">\n",
       "        window.PlotlyConfig = {MathJaxConfig: 'local'};\n",
       "        if (window.MathJax) {MathJax.Hub.Config({SVG: {font: \"STIX-Web\"}});}\n",
       "        if (typeof require !== 'undefined') {\n",
       "        require.undef(\"plotly\");\n",
       "        requirejs.config({\n",
       "            paths: {\n",
       "                'plotly': ['https://cdn.plot.ly/plotly-latest.min']\n",
       "            }\n",
       "        });\n",
       "        require(['plotly'], function(Plotly) {\n",
       "            window._Plotly = Plotly;\n",
       "        });\n",
       "        }\n",
       "        </script>\n",
       "        "
      ]
     },
     "metadata": {},
     "output_type": "display_data"
    }
   ],
   "source": [
    "import pandas as pd\n",
    "import numpy as np\n",
    "import seaborn as sns\n",
    "\n",
    "%matplotlib inline\n",
    "import matplotlib.pyplot as plt\n",
    "# from __future__ import division\n",
    "from __future__ import division\n",
    "\n",
    "# Import plotly\n",
    "import chart_studio\n",
    "chart_studio.tools.set_credentials_file(username='kpaxico', api_key='QZo5kDysZVCVTIiyhOgx')\n",
    "chart_studio.tools.set_config_file(world_readable=True, sharing='public')\n",
    "\n",
    "import chart_studio.plotly as py\n",
    "import plotly.graph_objects as go\n",
    "from plotly.subplots import make_subplots\n",
    "\n",
    "from plotly.offline import iplot, init_notebook_mode\n",
    "init_notebook_mode(connected = True)\n",
    "\n",
    "from sklearn.linear_model import LinearRegression"
   ]
  },
  {
   "cell_type": "markdown",
   "metadata": {
    "ExecuteTime": {
     "end_time": "2021-03-12T20:44:25.372180Z",
     "start_time": "2021-03-12T20:44:25.355187Z"
    }
   },
   "source": [
    "## Load Dataset"
   ]
  },
  {
   "cell_type": "code",
   "execution_count": 4,
   "metadata": {
    "ExecuteTime": {
     "end_time": "2021-03-21T10:46:06.995078Z",
     "start_time": "2021-03-21T10:46:06.643080Z"
    }
   },
   "outputs": [],
   "source": [
    "df = pd.read_excel('./data/Cereal_Assignment No 5.xlsx', sheet_name = 'all', \n",
    "                   nrows = 126, thousands = '.', convert_float = True)\n",
    "\n",
    "df_main = df.copy()"
   ]
  },
  {
   "cell_type": "code",
   "execution_count": 5,
   "metadata": {
    "ExecuteTime": {
     "end_time": "2021-03-21T10:46:07.083077Z",
     "start_time": "2021-03-21T10:46:06.995078Z"
    }
   },
   "outputs": [
    {
     "data": {
      "text/plain": [
       "(125, 19)"
      ]
     },
     "execution_count": 5,
     "metadata": {},
     "output_type": "execute_result"
    },
    {
     "name": "stdout",
     "output_type": "stream",
     "text": [
      "<class 'pandas.core.frame.DataFrame'>\n",
      "RangeIndex: 125 entries, 0 to 124\n",
      "Data columns (total 19 columns):\n",
      " #   Column      Non-Null Count  Dtype  \n",
      "---  ------      --------------  -----  \n",
      " 0   Sr. No.     125 non-null    int64  \n",
      " 1   Year        125 non-null    int64  \n",
      " 2   CerealId    125 non-null    int64  \n",
      " 3   Name        125 non-null    object \n",
      " 4   Mfr         125 non-null    object \n",
      " 5   Type        125 non-null    object \n",
      " 6   Calories    125 non-null    float64\n",
      " 7   Protein     125 non-null    float64\n",
      " 8   Fat         125 non-null    float64\n",
      " 9   Sodium      125 non-null    float64\n",
      " 10  Fiber       125 non-null    float64\n",
      " 11  Carbo       125 non-null    float64\n",
      " 12  Sugar       125 non-null    float64\n",
      " 13  Potass      125 non-null    float64\n",
      " 14  Vitamins    125 non-null    int64  \n",
      " 15  Shelf       125 non-null    float64\n",
      " 16  Cups/Ounce  125 non-null    float64\n",
      " 17  Rating      125 non-null    float64\n",
      " 18  Source      105 non-null    object \n",
      "dtypes: float64(11), int64(4), object(4)\n",
      "memory usage: 18.7+ KB\n"
     ]
    },
    {
     "data": {
      "text/html": [
       "<div>\n",
       "<style scoped>\n",
       "    .dataframe tbody tr th:only-of-type {\n",
       "        vertical-align: middle;\n",
       "    }\n",
       "\n",
       "    .dataframe tbody tr th {\n",
       "        vertical-align: top;\n",
       "    }\n",
       "\n",
       "    .dataframe thead th {\n",
       "        text-align: right;\n",
       "    }\n",
       "</style>\n",
       "<table border=\"1\" class=\"dataframe\">\n",
       "  <thead>\n",
       "    <tr style=\"text-align: right;\">\n",
       "      <th></th>\n",
       "      <th>Sr. No.</th>\n",
       "      <th>Year</th>\n",
       "      <th>CerealId</th>\n",
       "      <th>Name</th>\n",
       "      <th>Mfr</th>\n",
       "      <th>Type</th>\n",
       "      <th>Calories</th>\n",
       "      <th>Protein</th>\n",
       "      <th>Fat</th>\n",
       "      <th>Sodium</th>\n",
       "      <th>Fiber</th>\n",
       "      <th>Carbo</th>\n",
       "      <th>Sugar</th>\n",
       "      <th>Potass</th>\n",
       "      <th>Vitamins</th>\n",
       "      <th>Shelf</th>\n",
       "      <th>Cups/Ounce</th>\n",
       "      <th>Rating</th>\n",
       "      <th>Source</th>\n",
       "    </tr>\n",
       "  </thead>\n",
       "  <tbody>\n",
       "    <tr>\n",
       "      <th>0</th>\n",
       "      <td>1</td>\n",
       "      <td>1993</td>\n",
       "      <td>1</td>\n",
       "      <td>100% Bran</td>\n",
       "      <td>N</td>\n",
       "      <td>C</td>\n",
       "      <td>70.0</td>\n",
       "      <td>4.0</td>\n",
       "      <td>1.0</td>\n",
       "      <td>0.130</td>\n",
       "      <td>10.0</td>\n",
       "      <td>5.0</td>\n",
       "      <td>6.0</td>\n",
       "      <td>0.280</td>\n",
       "      <td>25</td>\n",
       "      <td>3.0</td>\n",
       "      <td>0.33</td>\n",
       "      <td>3.420149</td>\n",
       "      <td>https://perso.telecom-paristech.fr/eagan/class...</td>\n",
       "    </tr>\n",
       "    <tr>\n",
       "      <th>1</th>\n",
       "      <td>2</td>\n",
       "      <td>1993</td>\n",
       "      <td>2</td>\n",
       "      <td>100% Natural Bran</td>\n",
       "      <td>Q</td>\n",
       "      <td>C</td>\n",
       "      <td>120.0</td>\n",
       "      <td>3.0</td>\n",
       "      <td>5.0</td>\n",
       "      <td>0.015</td>\n",
       "      <td>2.0</td>\n",
       "      <td>8.0</td>\n",
       "      <td>8.0</td>\n",
       "      <td>0.135</td>\n",
       "      <td>0</td>\n",
       "      <td>3.0</td>\n",
       "      <td>1.00</td>\n",
       "      <td>1.699184</td>\n",
       "      <td>https://perso.telecom-paristech.fr/eagan/class...</td>\n",
       "    </tr>\n",
       "    <tr>\n",
       "      <th>2</th>\n",
       "      <td>3</td>\n",
       "      <td>1993</td>\n",
       "      <td>3</td>\n",
       "      <td>All-Bran</td>\n",
       "      <td>K</td>\n",
       "      <td>C</td>\n",
       "      <td>70.0</td>\n",
       "      <td>4.0</td>\n",
       "      <td>1.0</td>\n",
       "      <td>0.260</td>\n",
       "      <td>9.0</td>\n",
       "      <td>7.0</td>\n",
       "      <td>5.0</td>\n",
       "      <td>0.320</td>\n",
       "      <td>25</td>\n",
       "      <td>3.0</td>\n",
       "      <td>0.33</td>\n",
       "      <td>2.971275</td>\n",
       "      <td>https://perso.telecom-paristech.fr/eagan/class...</td>\n",
       "    </tr>\n",
       "    <tr>\n",
       "      <th>3</th>\n",
       "      <td>4</td>\n",
       "      <td>1993</td>\n",
       "      <td>4</td>\n",
       "      <td>All-Bran with Extra Fiber</td>\n",
       "      <td>K</td>\n",
       "      <td>C</td>\n",
       "      <td>50.0</td>\n",
       "      <td>4.0</td>\n",
       "      <td>0.0</td>\n",
       "      <td>0.140</td>\n",
       "      <td>14.0</td>\n",
       "      <td>8.0</td>\n",
       "      <td>0.0</td>\n",
       "      <td>0.330</td>\n",
       "      <td>25</td>\n",
       "      <td>3.0</td>\n",
       "      <td>0.50</td>\n",
       "      <td>4.685246</td>\n",
       "      <td>https://perso.telecom-paristech.fr/eagan/class...</td>\n",
       "    </tr>\n",
       "    <tr>\n",
       "      <th>4</th>\n",
       "      <td>5</td>\n",
       "      <td>1993</td>\n",
       "      <td>5</td>\n",
       "      <td>Almond Delight</td>\n",
       "      <td>R</td>\n",
       "      <td>C</td>\n",
       "      <td>110.0</td>\n",
       "      <td>2.0</td>\n",
       "      <td>2.0</td>\n",
       "      <td>0.200</td>\n",
       "      <td>1.0</td>\n",
       "      <td>14.0</td>\n",
       "      <td>8.0</td>\n",
       "      <td>-0.001</td>\n",
       "      <td>25</td>\n",
       "      <td>3.0</td>\n",
       "      <td>0.75</td>\n",
       "      <td>1.719242</td>\n",
       "      <td>https://perso.telecom-paristech.fr/eagan/class...</td>\n",
       "    </tr>\n",
       "  </tbody>\n",
       "</table>\n",
       "</div>"
      ],
      "text/plain": [
       "   Sr. No.  Year  CerealId                       Name Mfr Type  Calories  \\\n",
       "0        1  1993         1                  100% Bran   N    C      70.0   \n",
       "1        2  1993         2          100% Natural Bran   Q    C     120.0   \n",
       "2        3  1993         3                   All-Bran   K    C      70.0   \n",
       "3        4  1993         4  All-Bran with Extra Fiber   K    C      50.0   \n",
       "4        5  1993         5             Almond Delight   R    C     110.0   \n",
       "\n",
       "   Protein  Fat  Sodium  Fiber  Carbo  Sugar  Potass  Vitamins  Shelf  \\\n",
       "0      4.0  1.0   0.130   10.0    5.0    6.0   0.280        25    3.0   \n",
       "1      3.0  5.0   0.015    2.0    8.0    8.0   0.135         0    3.0   \n",
       "2      4.0  1.0   0.260    9.0    7.0    5.0   0.320        25    3.0   \n",
       "3      4.0  0.0   0.140   14.0    8.0    0.0   0.330        25    3.0   \n",
       "4      2.0  2.0   0.200    1.0   14.0    8.0  -0.001        25    3.0   \n",
       "\n",
       "   Cups/Ounce    Rating                                             Source  \n",
       "0        0.33  3.420149  https://perso.telecom-paristech.fr/eagan/class...  \n",
       "1        1.00  1.699184  https://perso.telecom-paristech.fr/eagan/class...  \n",
       "2        0.33  2.971275  https://perso.telecom-paristech.fr/eagan/class...  \n",
       "3        0.50  4.685246  https://perso.telecom-paristech.fr/eagan/class...  \n",
       "4        0.75  1.719242  https://perso.telecom-paristech.fr/eagan/class...  "
      ]
     },
     "execution_count": 5,
     "metadata": {},
     "output_type": "execute_result"
    }
   ],
   "source": [
    "df_main.shape\n",
    "df_main.info()\n",
    "\n",
    "df_main.head()"
   ]
  },
  {
   "cell_type": "markdown",
   "metadata": {},
   "source": [
    "## Data Cleaning and Structuring"
   ]
  },
  {
   "cell_type": "markdown",
   "metadata": {},
   "source": [
    "### Remove unnecessary columns<a id=\"remove_cols\"></a>"
   ]
  },
  {
   "cell_type": "code",
   "execution_count": 6,
   "metadata": {
    "ExecuteTime": {
     "end_time": "2021-03-21T10:46:07.091088Z",
     "start_time": "2021-03-21T10:46:07.083077Z"
    }
   },
   "outputs": [],
   "source": [
    "df_main.drop(['Source', 'Sr. No.'], axis = 1, inplace = True)"
   ]
  },
  {
   "cell_type": "markdown",
   "metadata": {},
   "source": [
    "### Rename columns"
   ]
  },
  {
   "cell_type": "code",
   "execution_count": 7,
   "metadata": {
    "ExecuteTime": {
     "end_time": "2021-03-21T10:46:07.139077Z",
     "start_time": "2021-03-21T10:46:07.091088Z"
    }
   },
   "outputs": [
    {
     "data": {
      "text/html": [
       "<div>\n",
       "<style scoped>\n",
       "    .dataframe tbody tr th:only-of-type {\n",
       "        vertical-align: middle;\n",
       "    }\n",
       "\n",
       "    .dataframe tbody tr th {\n",
       "        vertical-align: top;\n",
       "    }\n",
       "\n",
       "    .dataframe thead th {\n",
       "        text-align: right;\n",
       "    }\n",
       "</style>\n",
       "<table border=\"1\" class=\"dataframe\">\n",
       "  <thead>\n",
       "    <tr style=\"text-align: right;\">\n",
       "      <th></th>\n",
       "      <th>Year</th>\n",
       "      <th>CerealId</th>\n",
       "      <th>Name</th>\n",
       "      <th>Manufacturer</th>\n",
       "      <th>Type</th>\n",
       "      <th>Calories</th>\n",
       "      <th>Protein</th>\n",
       "      <th>Fat</th>\n",
       "      <th>Sodium</th>\n",
       "      <th>Fiber</th>\n",
       "      <th>Carbohydrate</th>\n",
       "      <th>Sugar</th>\n",
       "      <th>Potassium</th>\n",
       "      <th>Vitamins</th>\n",
       "      <th>Shelf</th>\n",
       "      <th>Cups</th>\n",
       "      <th>Rating</th>\n",
       "    </tr>\n",
       "  </thead>\n",
       "  <tbody>\n",
       "    <tr>\n",
       "      <th>0</th>\n",
       "      <td>1993</td>\n",
       "      <td>1</td>\n",
       "      <td>100% Bran</td>\n",
       "      <td>N</td>\n",
       "      <td>C</td>\n",
       "      <td>70.0</td>\n",
       "      <td>4.0</td>\n",
       "      <td>1.0</td>\n",
       "      <td>0.130</td>\n",
       "      <td>10.0</td>\n",
       "      <td>5.0</td>\n",
       "      <td>6.0</td>\n",
       "      <td>0.280</td>\n",
       "      <td>25</td>\n",
       "      <td>3.0</td>\n",
       "      <td>0.33</td>\n",
       "      <td>3.420149</td>\n",
       "    </tr>\n",
       "    <tr>\n",
       "      <th>1</th>\n",
       "      <td>1993</td>\n",
       "      <td>2</td>\n",
       "      <td>100% Natural Bran</td>\n",
       "      <td>Q</td>\n",
       "      <td>C</td>\n",
       "      <td>120.0</td>\n",
       "      <td>3.0</td>\n",
       "      <td>5.0</td>\n",
       "      <td>0.015</td>\n",
       "      <td>2.0</td>\n",
       "      <td>8.0</td>\n",
       "      <td>8.0</td>\n",
       "      <td>0.135</td>\n",
       "      <td>0</td>\n",
       "      <td>3.0</td>\n",
       "      <td>1.00</td>\n",
       "      <td>1.699184</td>\n",
       "    </tr>\n",
       "    <tr>\n",
       "      <th>2</th>\n",
       "      <td>1993</td>\n",
       "      <td>3</td>\n",
       "      <td>All-Bran</td>\n",
       "      <td>K</td>\n",
       "      <td>C</td>\n",
       "      <td>70.0</td>\n",
       "      <td>4.0</td>\n",
       "      <td>1.0</td>\n",
       "      <td>0.260</td>\n",
       "      <td>9.0</td>\n",
       "      <td>7.0</td>\n",
       "      <td>5.0</td>\n",
       "      <td>0.320</td>\n",
       "      <td>25</td>\n",
       "      <td>3.0</td>\n",
       "      <td>0.33</td>\n",
       "      <td>2.971275</td>\n",
       "    </tr>\n",
       "    <tr>\n",
       "      <th>3</th>\n",
       "      <td>1993</td>\n",
       "      <td>4</td>\n",
       "      <td>All-Bran with Extra Fiber</td>\n",
       "      <td>K</td>\n",
       "      <td>C</td>\n",
       "      <td>50.0</td>\n",
       "      <td>4.0</td>\n",
       "      <td>0.0</td>\n",
       "      <td>0.140</td>\n",
       "      <td>14.0</td>\n",
       "      <td>8.0</td>\n",
       "      <td>0.0</td>\n",
       "      <td>0.330</td>\n",
       "      <td>25</td>\n",
       "      <td>3.0</td>\n",
       "      <td>0.50</td>\n",
       "      <td>4.685246</td>\n",
       "    </tr>\n",
       "    <tr>\n",
       "      <th>4</th>\n",
       "      <td>1993</td>\n",
       "      <td>5</td>\n",
       "      <td>Almond Delight</td>\n",
       "      <td>R</td>\n",
       "      <td>C</td>\n",
       "      <td>110.0</td>\n",
       "      <td>2.0</td>\n",
       "      <td>2.0</td>\n",
       "      <td>0.200</td>\n",
       "      <td>1.0</td>\n",
       "      <td>14.0</td>\n",
       "      <td>8.0</td>\n",
       "      <td>-0.001</td>\n",
       "      <td>25</td>\n",
       "      <td>3.0</td>\n",
       "      <td>0.75</td>\n",
       "      <td>1.719242</td>\n",
       "    </tr>\n",
       "  </tbody>\n",
       "</table>\n",
       "</div>"
      ],
      "text/plain": [
       "   Year  CerealId                       Name Manufacturer Type  Calories  \\\n",
       "0  1993         1                  100% Bran            N    C      70.0   \n",
       "1  1993         2          100% Natural Bran            Q    C     120.0   \n",
       "2  1993         3                   All-Bran            K    C      70.0   \n",
       "3  1993         4  All-Bran with Extra Fiber            K    C      50.0   \n",
       "4  1993         5             Almond Delight            R    C     110.0   \n",
       "\n",
       "   Protein  Fat  Sodium  Fiber  Carbohydrate  Sugar  Potassium  Vitamins  \\\n",
       "0      4.0  1.0   0.130   10.0           5.0    6.0      0.280        25   \n",
       "1      3.0  5.0   0.015    2.0           8.0    8.0      0.135         0   \n",
       "2      4.0  1.0   0.260    9.0           7.0    5.0      0.320        25   \n",
       "3      4.0  0.0   0.140   14.0           8.0    0.0      0.330        25   \n",
       "4      2.0  2.0   0.200    1.0          14.0    8.0     -0.001        25   \n",
       "\n",
       "   Shelf  Cups    Rating  \n",
       "0    3.0  0.33  3.420149  \n",
       "1    3.0  1.00  1.699184  \n",
       "2    3.0  0.33  2.971275  \n",
       "3    3.0  0.50  4.685246  \n",
       "4    3.0  0.75  1.719242  "
      ]
     },
     "execution_count": 7,
     "metadata": {},
     "output_type": "execute_result"
    }
   ],
   "source": [
    "df_main.rename(columns = {'Mfr': 'Manufacturer',\n",
    "                          'Potass': 'Potassium', 'Carbo': 'Carbohydrate',\n",
    "                          'Cups/Ounce': 'Cups'}, inplace = True)\n",
    "df_main.head()"
   ]
  },
  {
   "cell_type": "markdown",
   "metadata": {
    "ExecuteTime": {
     "end_time": "2021-03-12T20:47:13.100476Z",
     "start_time": "2021-03-12T20:47:13.077468Z"
    }
   },
   "source": [
    "### Replace `Manufacturer` 'codes' with 'names'"
   ]
  },
  {
   "cell_type": "code",
   "execution_count": 8,
   "metadata": {
    "ExecuteTime": {
     "end_time": "2021-03-21T10:46:07.171075Z",
     "start_time": "2021-03-21T10:46:07.147083Z"
    }
   },
   "outputs": [
    {
     "data": {
      "text/plain": [
       "G    42\n",
       "K    42\n",
       "Q    11\n",
       "P    10\n",
       "R     8\n",
       "N     6\n",
       "D     5\n",
       "A     1\n",
       "Name: Manufacturer, dtype: int64"
      ]
     },
     "execution_count": 8,
     "metadata": {},
     "output_type": "execute_result"
    }
   ],
   "source": [
    "df_main['Manufacturer'].value_counts()"
   ]
  },
  {
   "cell_type": "code",
   "execution_count": 9,
   "metadata": {
    "ExecuteTime": {
     "end_time": "2021-03-21T10:46:07.219075Z",
     "start_time": "2021-03-21T10:46:07.171075Z"
    }
   },
   "outputs": [
    {
     "data": {
      "text/html": [
       "<div>\n",
       "<style scoped>\n",
       "    .dataframe tbody tr th:only-of-type {\n",
       "        vertical-align: middle;\n",
       "    }\n",
       "\n",
       "    .dataframe tbody tr th {\n",
       "        vertical-align: top;\n",
       "    }\n",
       "\n",
       "    .dataframe thead th {\n",
       "        text-align: right;\n",
       "    }\n",
       "</style>\n",
       "<table border=\"1\" class=\"dataframe\">\n",
       "  <thead>\n",
       "    <tr style=\"text-align: right;\">\n",
       "      <th></th>\n",
       "      <th>Year</th>\n",
       "      <th>CerealId</th>\n",
       "      <th>Name</th>\n",
       "      <th>Manufacturer</th>\n",
       "      <th>Type</th>\n",
       "      <th>Calories</th>\n",
       "      <th>Protein</th>\n",
       "      <th>Fat</th>\n",
       "      <th>Sodium</th>\n",
       "      <th>Fiber</th>\n",
       "      <th>Carbohydrate</th>\n",
       "      <th>Sugar</th>\n",
       "      <th>Potassium</th>\n",
       "      <th>Vitamins</th>\n",
       "      <th>Shelf</th>\n",
       "      <th>Cups</th>\n",
       "      <th>Rating</th>\n",
       "    </tr>\n",
       "  </thead>\n",
       "  <tbody>\n",
       "    <tr>\n",
       "      <th>0</th>\n",
       "      <td>1993</td>\n",
       "      <td>1</td>\n",
       "      <td>100% Bran</td>\n",
       "      <td>Nabisco</td>\n",
       "      <td>C</td>\n",
       "      <td>70.0</td>\n",
       "      <td>4.0</td>\n",
       "      <td>1.0</td>\n",
       "      <td>0.130</td>\n",
       "      <td>10.0</td>\n",
       "      <td>5.0</td>\n",
       "      <td>6.0</td>\n",
       "      <td>0.280</td>\n",
       "      <td>25</td>\n",
       "      <td>3.0</td>\n",
       "      <td>0.33</td>\n",
       "      <td>3.420149</td>\n",
       "    </tr>\n",
       "    <tr>\n",
       "      <th>1</th>\n",
       "      <td>1993</td>\n",
       "      <td>2</td>\n",
       "      <td>100% Natural Bran</td>\n",
       "      <td>Quaker Oats</td>\n",
       "      <td>C</td>\n",
       "      <td>120.0</td>\n",
       "      <td>3.0</td>\n",
       "      <td>5.0</td>\n",
       "      <td>0.015</td>\n",
       "      <td>2.0</td>\n",
       "      <td>8.0</td>\n",
       "      <td>8.0</td>\n",
       "      <td>0.135</td>\n",
       "      <td>0</td>\n",
       "      <td>3.0</td>\n",
       "      <td>1.00</td>\n",
       "      <td>1.699184</td>\n",
       "    </tr>\n",
       "    <tr>\n",
       "      <th>2</th>\n",
       "      <td>1993</td>\n",
       "      <td>3</td>\n",
       "      <td>All-Bran</td>\n",
       "      <td>Kelloggs</td>\n",
       "      <td>C</td>\n",
       "      <td>70.0</td>\n",
       "      <td>4.0</td>\n",
       "      <td>1.0</td>\n",
       "      <td>0.260</td>\n",
       "      <td>9.0</td>\n",
       "      <td>7.0</td>\n",
       "      <td>5.0</td>\n",
       "      <td>0.320</td>\n",
       "      <td>25</td>\n",
       "      <td>3.0</td>\n",
       "      <td>0.33</td>\n",
       "      <td>2.971275</td>\n",
       "    </tr>\n",
       "    <tr>\n",
       "      <th>3</th>\n",
       "      <td>1993</td>\n",
       "      <td>4</td>\n",
       "      <td>All-Bran with Extra Fiber</td>\n",
       "      <td>Kelloggs</td>\n",
       "      <td>C</td>\n",
       "      <td>50.0</td>\n",
       "      <td>4.0</td>\n",
       "      <td>0.0</td>\n",
       "      <td>0.140</td>\n",
       "      <td>14.0</td>\n",
       "      <td>8.0</td>\n",
       "      <td>0.0</td>\n",
       "      <td>0.330</td>\n",
       "      <td>25</td>\n",
       "      <td>3.0</td>\n",
       "      <td>0.50</td>\n",
       "      <td>4.685246</td>\n",
       "    </tr>\n",
       "    <tr>\n",
       "      <th>4</th>\n",
       "      <td>1993</td>\n",
       "      <td>5</td>\n",
       "      <td>Almond Delight</td>\n",
       "      <td>Ralston Purina</td>\n",
       "      <td>C</td>\n",
       "      <td>110.0</td>\n",
       "      <td>2.0</td>\n",
       "      <td>2.0</td>\n",
       "      <td>0.200</td>\n",
       "      <td>1.0</td>\n",
       "      <td>14.0</td>\n",
       "      <td>8.0</td>\n",
       "      <td>-0.001</td>\n",
       "      <td>25</td>\n",
       "      <td>3.0</td>\n",
       "      <td>0.75</td>\n",
       "      <td>1.719242</td>\n",
       "    </tr>\n",
       "  </tbody>\n",
       "</table>\n",
       "</div>"
      ],
      "text/plain": [
       "   Year  CerealId                       Name    Manufacturer Type  Calories  \\\n",
       "0  1993         1                  100% Bran         Nabisco    C      70.0   \n",
       "1  1993         2          100% Natural Bran     Quaker Oats    C     120.0   \n",
       "2  1993         3                   All-Bran        Kelloggs    C      70.0   \n",
       "3  1993         4  All-Bran with Extra Fiber        Kelloggs    C      50.0   \n",
       "4  1993         5             Almond Delight  Ralston Purina    C     110.0   \n",
       "\n",
       "   Protein  Fat  Sodium  Fiber  Carbohydrate  Sugar  Potassium  Vitamins  \\\n",
       "0      4.0  1.0   0.130   10.0           5.0    6.0      0.280        25   \n",
       "1      3.0  5.0   0.015    2.0           8.0    8.0      0.135         0   \n",
       "2      4.0  1.0   0.260    9.0           7.0    5.0      0.320        25   \n",
       "3      4.0  0.0   0.140   14.0           8.0    0.0      0.330        25   \n",
       "4      2.0  2.0   0.200    1.0          14.0    8.0     -0.001        25   \n",
       "\n",
       "   Shelf  Cups    Rating  \n",
       "0    3.0  0.33  3.420149  \n",
       "1    3.0  1.00  1.699184  \n",
       "2    3.0  0.33  2.971275  \n",
       "3    3.0  0.50  4.685246  \n",
       "4    3.0  0.75  1.719242  "
      ]
     },
     "execution_count": 9,
     "metadata": {},
     "output_type": "execute_result"
    }
   ],
   "source": [
    "df_main['Manufacturer'].replace({'A': 'American Home Food Products',\n",
    "                                 'G': 'General Mills',\n",
    "                                 'K': 'Kelloggs',\n",
    "                                 'N': 'Nabisco',\n",
    "                                 'P': 'Post Holdings',\n",
    "                                 'Q': 'Quaker Oats',\n",
    "                                 'R': 'Ralston Purina',\n",
    "                                 'D': 'Ahold Delhaize'\n",
    "                                }, inplace = True)\n",
    "df_main.head()"
   ]
  },
  {
   "cell_type": "markdown",
   "metadata": {},
   "source": [
    "### Replace `Type` 'codes' with 'names'"
   ]
  },
  {
   "cell_type": "code",
   "execution_count": 10,
   "metadata": {
    "ExecuteTime": {
     "end_time": "2021-03-21T10:46:07.251075Z",
     "start_time": "2021-03-21T10:46:07.219075Z"
    }
   },
   "outputs": [
    {
     "data": {
      "text/html": [
       "<div>\n",
       "<style scoped>\n",
       "    .dataframe tbody tr th:only-of-type {\n",
       "        vertical-align: middle;\n",
       "    }\n",
       "\n",
       "    .dataframe tbody tr th {\n",
       "        vertical-align: top;\n",
       "    }\n",
       "\n",
       "    .dataframe thead th {\n",
       "        text-align: right;\n",
       "    }\n",
       "</style>\n",
       "<table border=\"1\" class=\"dataframe\">\n",
       "  <thead>\n",
       "    <tr style=\"text-align: right;\">\n",
       "      <th></th>\n",
       "      <th>Year</th>\n",
       "      <th>CerealId</th>\n",
       "      <th>Name</th>\n",
       "      <th>Manufacturer</th>\n",
       "      <th>Type</th>\n",
       "      <th>Calories</th>\n",
       "      <th>Protein</th>\n",
       "      <th>Fat</th>\n",
       "      <th>Sodium</th>\n",
       "      <th>Fiber</th>\n",
       "      <th>Carbohydrate</th>\n",
       "      <th>Sugar</th>\n",
       "      <th>Potassium</th>\n",
       "      <th>Vitamins</th>\n",
       "      <th>Shelf</th>\n",
       "      <th>Cups</th>\n",
       "      <th>Rating</th>\n",
       "    </tr>\n",
       "  </thead>\n",
       "  <tbody>\n",
       "    <tr>\n",
       "      <th>0</th>\n",
       "      <td>1993</td>\n",
       "      <td>1</td>\n",
       "      <td>100% Bran</td>\n",
       "      <td>Nabisco</td>\n",
       "      <td>Cold</td>\n",
       "      <td>70.0</td>\n",
       "      <td>4.0</td>\n",
       "      <td>1.0</td>\n",
       "      <td>0.130</td>\n",
       "      <td>10.0</td>\n",
       "      <td>5.0</td>\n",
       "      <td>6.0</td>\n",
       "      <td>0.280</td>\n",
       "      <td>25</td>\n",
       "      <td>3.0</td>\n",
       "      <td>0.33</td>\n",
       "      <td>3.420149</td>\n",
       "    </tr>\n",
       "    <tr>\n",
       "      <th>1</th>\n",
       "      <td>1993</td>\n",
       "      <td>2</td>\n",
       "      <td>100% Natural Bran</td>\n",
       "      <td>Quaker Oats</td>\n",
       "      <td>Cold</td>\n",
       "      <td>120.0</td>\n",
       "      <td>3.0</td>\n",
       "      <td>5.0</td>\n",
       "      <td>0.015</td>\n",
       "      <td>2.0</td>\n",
       "      <td>8.0</td>\n",
       "      <td>8.0</td>\n",
       "      <td>0.135</td>\n",
       "      <td>0</td>\n",
       "      <td>3.0</td>\n",
       "      <td>1.00</td>\n",
       "      <td>1.699184</td>\n",
       "    </tr>\n",
       "    <tr>\n",
       "      <th>2</th>\n",
       "      <td>1993</td>\n",
       "      <td>3</td>\n",
       "      <td>All-Bran</td>\n",
       "      <td>Kelloggs</td>\n",
       "      <td>Cold</td>\n",
       "      <td>70.0</td>\n",
       "      <td>4.0</td>\n",
       "      <td>1.0</td>\n",
       "      <td>0.260</td>\n",
       "      <td>9.0</td>\n",
       "      <td>7.0</td>\n",
       "      <td>5.0</td>\n",
       "      <td>0.320</td>\n",
       "      <td>25</td>\n",
       "      <td>3.0</td>\n",
       "      <td>0.33</td>\n",
       "      <td>2.971275</td>\n",
       "    </tr>\n",
       "    <tr>\n",
       "      <th>3</th>\n",
       "      <td>1993</td>\n",
       "      <td>4</td>\n",
       "      <td>All-Bran with Extra Fiber</td>\n",
       "      <td>Kelloggs</td>\n",
       "      <td>Cold</td>\n",
       "      <td>50.0</td>\n",
       "      <td>4.0</td>\n",
       "      <td>0.0</td>\n",
       "      <td>0.140</td>\n",
       "      <td>14.0</td>\n",
       "      <td>8.0</td>\n",
       "      <td>0.0</td>\n",
       "      <td>0.330</td>\n",
       "      <td>25</td>\n",
       "      <td>3.0</td>\n",
       "      <td>0.50</td>\n",
       "      <td>4.685246</td>\n",
       "    </tr>\n",
       "    <tr>\n",
       "      <th>4</th>\n",
       "      <td>1993</td>\n",
       "      <td>5</td>\n",
       "      <td>Almond Delight</td>\n",
       "      <td>Ralston Purina</td>\n",
       "      <td>Cold</td>\n",
       "      <td>110.0</td>\n",
       "      <td>2.0</td>\n",
       "      <td>2.0</td>\n",
       "      <td>0.200</td>\n",
       "      <td>1.0</td>\n",
       "      <td>14.0</td>\n",
       "      <td>8.0</td>\n",
       "      <td>-0.001</td>\n",
       "      <td>25</td>\n",
       "      <td>3.0</td>\n",
       "      <td>0.75</td>\n",
       "      <td>1.719242</td>\n",
       "    </tr>\n",
       "  </tbody>\n",
       "</table>\n",
       "</div>"
      ],
      "text/plain": [
       "   Year  CerealId                       Name    Manufacturer  Type  Calories  \\\n",
       "0  1993         1                  100% Bran         Nabisco  Cold      70.0   \n",
       "1  1993         2          100% Natural Bran     Quaker Oats  Cold     120.0   \n",
       "2  1993         3                   All-Bran        Kelloggs  Cold      70.0   \n",
       "3  1993         4  All-Bran with Extra Fiber        Kelloggs  Cold      50.0   \n",
       "4  1993         5             Almond Delight  Ralston Purina  Cold     110.0   \n",
       "\n",
       "   Protein  Fat  Sodium  Fiber  Carbohydrate  Sugar  Potassium  Vitamins  \\\n",
       "0      4.0  1.0   0.130   10.0           5.0    6.0      0.280        25   \n",
       "1      3.0  5.0   0.015    2.0           8.0    8.0      0.135         0   \n",
       "2      4.0  1.0   0.260    9.0           7.0    5.0      0.320        25   \n",
       "3      4.0  0.0   0.140   14.0           8.0    0.0      0.330        25   \n",
       "4      2.0  2.0   0.200    1.0          14.0    8.0     -0.001        25   \n",
       "\n",
       "   Shelf  Cups    Rating  \n",
       "0    3.0  0.33  3.420149  \n",
       "1    3.0  1.00  1.699184  \n",
       "2    3.0  0.33  2.971275  \n",
       "3    3.0  0.50  4.685246  \n",
       "4    3.0  0.75  1.719242  "
      ]
     },
     "execution_count": 10,
     "metadata": {},
     "output_type": "execute_result"
    }
   ],
   "source": [
    "df_main['Type'].replace({'C': 'Cold', 'H': 'Hot'}, inplace = True)\n",
    "df_main.head()"
   ]
  },
  {
   "cell_type": "markdown",
   "metadata": {},
   "source": [
    "### Change column types from `float` to `integer`"
   ]
  },
  {
   "cell_type": "code",
   "execution_count": 11,
   "metadata": {
    "ExecuteTime": {
     "end_time": "2021-03-21T10:46:07.299079Z",
     "start_time": "2021-03-21T10:46:07.251075Z"
    }
   },
   "outputs": [
    {
     "data": {
      "text/html": [
       "<div>\n",
       "<style scoped>\n",
       "    .dataframe tbody tr th:only-of-type {\n",
       "        vertical-align: middle;\n",
       "    }\n",
       "\n",
       "    .dataframe tbody tr th {\n",
       "        vertical-align: top;\n",
       "    }\n",
       "\n",
       "    .dataframe thead th {\n",
       "        text-align: right;\n",
       "    }\n",
       "</style>\n",
       "<table border=\"1\" class=\"dataframe\">\n",
       "  <thead>\n",
       "    <tr style=\"text-align: right;\">\n",
       "      <th></th>\n",
       "      <th>Year</th>\n",
       "      <th>CerealId</th>\n",
       "      <th>Name</th>\n",
       "      <th>Manufacturer</th>\n",
       "      <th>Type</th>\n",
       "      <th>Calories</th>\n",
       "      <th>Protein</th>\n",
       "      <th>Fat</th>\n",
       "      <th>Sodium</th>\n",
       "      <th>Fiber</th>\n",
       "      <th>Carbohydrate</th>\n",
       "      <th>Sugar</th>\n",
       "      <th>Potassium</th>\n",
       "      <th>Vitamins</th>\n",
       "      <th>Shelf</th>\n",
       "      <th>Cups</th>\n",
       "      <th>Rating</th>\n",
       "    </tr>\n",
       "  </thead>\n",
       "  <tbody>\n",
       "    <tr>\n",
       "      <th>0</th>\n",
       "      <td>1993</td>\n",
       "      <td>1</td>\n",
       "      <td>100% Bran</td>\n",
       "      <td>Nabisco</td>\n",
       "      <td>Cold</td>\n",
       "      <td>70.0</td>\n",
       "      <td>4.0</td>\n",
       "      <td>1.0</td>\n",
       "      <td>0.130</td>\n",
       "      <td>10.0</td>\n",
       "      <td>5.0</td>\n",
       "      <td>6.0</td>\n",
       "      <td>0.280</td>\n",
       "      <td>25</td>\n",
       "      <td>3</td>\n",
       "      <td>0.33</td>\n",
       "      <td>3.420149</td>\n",
       "    </tr>\n",
       "    <tr>\n",
       "      <th>1</th>\n",
       "      <td>1993</td>\n",
       "      <td>2</td>\n",
       "      <td>100% Natural Bran</td>\n",
       "      <td>Quaker Oats</td>\n",
       "      <td>Cold</td>\n",
       "      <td>120.0</td>\n",
       "      <td>3.0</td>\n",
       "      <td>5.0</td>\n",
       "      <td>0.015</td>\n",
       "      <td>2.0</td>\n",
       "      <td>8.0</td>\n",
       "      <td>8.0</td>\n",
       "      <td>0.135</td>\n",
       "      <td>0</td>\n",
       "      <td>3</td>\n",
       "      <td>1.00</td>\n",
       "      <td>1.699184</td>\n",
       "    </tr>\n",
       "    <tr>\n",
       "      <th>2</th>\n",
       "      <td>1993</td>\n",
       "      <td>3</td>\n",
       "      <td>All-Bran</td>\n",
       "      <td>Kelloggs</td>\n",
       "      <td>Cold</td>\n",
       "      <td>70.0</td>\n",
       "      <td>4.0</td>\n",
       "      <td>1.0</td>\n",
       "      <td>0.260</td>\n",
       "      <td>9.0</td>\n",
       "      <td>7.0</td>\n",
       "      <td>5.0</td>\n",
       "      <td>0.320</td>\n",
       "      <td>25</td>\n",
       "      <td>3</td>\n",
       "      <td>0.33</td>\n",
       "      <td>2.971275</td>\n",
       "    </tr>\n",
       "    <tr>\n",
       "      <th>3</th>\n",
       "      <td>1993</td>\n",
       "      <td>4</td>\n",
       "      <td>All-Bran with Extra Fiber</td>\n",
       "      <td>Kelloggs</td>\n",
       "      <td>Cold</td>\n",
       "      <td>50.0</td>\n",
       "      <td>4.0</td>\n",
       "      <td>0.0</td>\n",
       "      <td>0.140</td>\n",
       "      <td>14.0</td>\n",
       "      <td>8.0</td>\n",
       "      <td>0.0</td>\n",
       "      <td>0.330</td>\n",
       "      <td>25</td>\n",
       "      <td>3</td>\n",
       "      <td>0.50</td>\n",
       "      <td>4.685246</td>\n",
       "    </tr>\n",
       "    <tr>\n",
       "      <th>4</th>\n",
       "      <td>1993</td>\n",
       "      <td>5</td>\n",
       "      <td>Almond Delight</td>\n",
       "      <td>Ralston Purina</td>\n",
       "      <td>Cold</td>\n",
       "      <td>110.0</td>\n",
       "      <td>2.0</td>\n",
       "      <td>2.0</td>\n",
       "      <td>0.200</td>\n",
       "      <td>1.0</td>\n",
       "      <td>14.0</td>\n",
       "      <td>8.0</td>\n",
       "      <td>-0.001</td>\n",
       "      <td>25</td>\n",
       "      <td>3</td>\n",
       "      <td>0.75</td>\n",
       "      <td>1.719242</td>\n",
       "    </tr>\n",
       "  </tbody>\n",
       "</table>\n",
       "</div>"
      ],
      "text/plain": [
       "   Year  CerealId                       Name    Manufacturer  Type  Calories  \\\n",
       "0  1993         1                  100% Bran         Nabisco  Cold      70.0   \n",
       "1  1993         2          100% Natural Bran     Quaker Oats  Cold     120.0   \n",
       "2  1993         3                   All-Bran        Kelloggs  Cold      70.0   \n",
       "3  1993         4  All-Bran with Extra Fiber        Kelloggs  Cold      50.0   \n",
       "4  1993         5             Almond Delight  Ralston Purina  Cold     110.0   \n",
       "\n",
       "   Protein  Fat  Sodium  Fiber  Carbohydrate  Sugar  Potassium  Vitamins  \\\n",
       "0      4.0  1.0   0.130   10.0           5.0    6.0      0.280        25   \n",
       "1      3.0  5.0   0.015    2.0           8.0    8.0      0.135         0   \n",
       "2      4.0  1.0   0.260    9.0           7.0    5.0      0.320        25   \n",
       "3      4.0  0.0   0.140   14.0           8.0    0.0      0.330        25   \n",
       "4      2.0  2.0   0.200    1.0          14.0    8.0     -0.001        25   \n",
       "\n",
       "   Shelf  Cups    Rating  \n",
       "0      3  0.33  3.420149  \n",
       "1      3  1.00  1.699184  \n",
       "2      3  0.33  2.971275  \n",
       "3      3  0.50  4.685246  \n",
       "4      3  0.75  1.719242  "
      ]
     },
     "execution_count": 11,
     "metadata": {},
     "output_type": "execute_result"
    }
   ],
   "source": [
    "int_col_names = ['Vitamins', 'Shelf']\n",
    "for col_name in int_col_names:\n",
    "    df_main[col_name] = df_main[col_name].astype(int)\n",
    "\n",
    "df_main.head()"
   ]
  },
  {
   "cell_type": "markdown",
   "metadata": {},
   "source": [
    "### Round and change column types from `float` to `integer`"
   ]
  },
  {
   "cell_type": "code",
   "execution_count": 12,
   "metadata": {
    "ExecuteTime": {
     "end_time": "2021-03-21T10:46:07.323077Z",
     "start_time": "2021-03-21T10:46:07.299079Z"
    }
   },
   "outputs": [
    {
     "data": {
      "text/plain": [
       "array([ 70.        , 120.        ,  50.        , 110.        ,\n",
       "        97.7443609 ,  90.        , 100.        ,  96.        ,\n",
       "        90.22556391, 107.69230769, 150.        , 106.66666667,\n",
       "       105.26315789, 104.        ,  96.38554217,  93.33333333,\n",
       "       160.        , 130.        , 170.        , 240.        ,\n",
       "       210.        , 140.        , 280.        , 230.        ,\n",
       "       110.6302439 , 103.71585366,  96.80146341,  82.97268293,\n",
       "        91.9427027 , 109.03461538, 103.08727273, 110.24611111,\n",
       "       101.24642857, 106.30875   , 116.43339286,  99.60459459,\n",
       "       113.396     , 108.67116667,  91.29338983, 104.67323077,\n",
       "       127.5705    , 116.30358974, 102.37138889])"
      ]
     },
     "execution_count": 12,
     "metadata": {},
     "output_type": "execute_result"
    }
   ],
   "source": [
    "df_main.Calories.unique()"
   ]
  },
  {
   "cell_type": "code",
   "execution_count": 13,
   "metadata": {
    "ExecuteTime": {
     "end_time": "2021-03-21T10:46:07.379076Z",
     "start_time": "2021-03-21T10:46:07.323077Z"
    }
   },
   "outputs": [
    {
     "data": {
      "text/html": [
       "<div>\n",
       "<style scoped>\n",
       "    .dataframe tbody tr th:only-of-type {\n",
       "        vertical-align: middle;\n",
       "    }\n",
       "\n",
       "    .dataframe tbody tr th {\n",
       "        vertical-align: top;\n",
       "    }\n",
       "\n",
       "    .dataframe thead th {\n",
       "        text-align: right;\n",
       "    }\n",
       "</style>\n",
       "<table border=\"1\" class=\"dataframe\">\n",
       "  <thead>\n",
       "    <tr style=\"text-align: right;\">\n",
       "      <th></th>\n",
       "      <th>Year</th>\n",
       "      <th>CerealId</th>\n",
       "      <th>Name</th>\n",
       "      <th>Manufacturer</th>\n",
       "      <th>Type</th>\n",
       "      <th>Calories</th>\n",
       "      <th>Protein</th>\n",
       "      <th>Fat</th>\n",
       "      <th>Sodium</th>\n",
       "      <th>Fiber</th>\n",
       "      <th>Carbohydrate</th>\n",
       "      <th>Sugar</th>\n",
       "      <th>Potassium</th>\n",
       "      <th>Vitamins</th>\n",
       "      <th>Shelf</th>\n",
       "      <th>Cups</th>\n",
       "      <th>Rating</th>\n",
       "    </tr>\n",
       "  </thead>\n",
       "  <tbody>\n",
       "    <tr>\n",
       "      <th>0</th>\n",
       "      <td>1993</td>\n",
       "      <td>1</td>\n",
       "      <td>100% Bran</td>\n",
       "      <td>Nabisco</td>\n",
       "      <td>Cold</td>\n",
       "      <td>70</td>\n",
       "      <td>4</td>\n",
       "      <td>1</td>\n",
       "      <td>0.130</td>\n",
       "      <td>10</td>\n",
       "      <td>5</td>\n",
       "      <td>6</td>\n",
       "      <td>0.280</td>\n",
       "      <td>25</td>\n",
       "      <td>3</td>\n",
       "      <td>0.33</td>\n",
       "      <td>3.420149</td>\n",
       "    </tr>\n",
       "    <tr>\n",
       "      <th>1</th>\n",
       "      <td>1993</td>\n",
       "      <td>2</td>\n",
       "      <td>100% Natural Bran</td>\n",
       "      <td>Quaker Oats</td>\n",
       "      <td>Cold</td>\n",
       "      <td>120</td>\n",
       "      <td>3</td>\n",
       "      <td>5</td>\n",
       "      <td>0.015</td>\n",
       "      <td>2</td>\n",
       "      <td>8</td>\n",
       "      <td>8</td>\n",
       "      <td>0.135</td>\n",
       "      <td>0</td>\n",
       "      <td>3</td>\n",
       "      <td>1.00</td>\n",
       "      <td>1.699184</td>\n",
       "    </tr>\n",
       "    <tr>\n",
       "      <th>2</th>\n",
       "      <td>1993</td>\n",
       "      <td>3</td>\n",
       "      <td>All-Bran</td>\n",
       "      <td>Kelloggs</td>\n",
       "      <td>Cold</td>\n",
       "      <td>70</td>\n",
       "      <td>4</td>\n",
       "      <td>1</td>\n",
       "      <td>0.260</td>\n",
       "      <td>9</td>\n",
       "      <td>7</td>\n",
       "      <td>5</td>\n",
       "      <td>0.320</td>\n",
       "      <td>25</td>\n",
       "      <td>3</td>\n",
       "      <td>0.33</td>\n",
       "      <td>2.971275</td>\n",
       "    </tr>\n",
       "    <tr>\n",
       "      <th>3</th>\n",
       "      <td>1993</td>\n",
       "      <td>4</td>\n",
       "      <td>All-Bran with Extra Fiber</td>\n",
       "      <td>Kelloggs</td>\n",
       "      <td>Cold</td>\n",
       "      <td>50</td>\n",
       "      <td>4</td>\n",
       "      <td>0</td>\n",
       "      <td>0.140</td>\n",
       "      <td>14</td>\n",
       "      <td>8</td>\n",
       "      <td>0</td>\n",
       "      <td>0.330</td>\n",
       "      <td>25</td>\n",
       "      <td>3</td>\n",
       "      <td>0.50</td>\n",
       "      <td>4.685246</td>\n",
       "    </tr>\n",
       "    <tr>\n",
       "      <th>4</th>\n",
       "      <td>1993</td>\n",
       "      <td>5</td>\n",
       "      <td>Almond Delight</td>\n",
       "      <td>Ralston Purina</td>\n",
       "      <td>Cold</td>\n",
       "      <td>110</td>\n",
       "      <td>2</td>\n",
       "      <td>2</td>\n",
       "      <td>0.200</td>\n",
       "      <td>1</td>\n",
       "      <td>14</td>\n",
       "      <td>8</td>\n",
       "      <td>-0.001</td>\n",
       "      <td>25</td>\n",
       "      <td>3</td>\n",
       "      <td>0.75</td>\n",
       "      <td>1.719242</td>\n",
       "    </tr>\n",
       "  </tbody>\n",
       "</table>\n",
       "</div>"
      ],
      "text/plain": [
       "   Year  CerealId                       Name    Manufacturer  Type  Calories  \\\n",
       "0  1993         1                  100% Bran         Nabisco  Cold        70   \n",
       "1  1993         2          100% Natural Bran     Quaker Oats  Cold       120   \n",
       "2  1993         3                   All-Bran        Kelloggs  Cold        70   \n",
       "3  1993         4  All-Bran with Extra Fiber        Kelloggs  Cold        50   \n",
       "4  1993         5             Almond Delight  Ralston Purina  Cold       110   \n",
       "\n",
       "   Protein  Fat  Sodium  Fiber  Carbohydrate  Sugar  Potassium  Vitamins  \\\n",
       "0        4    1   0.130     10             5      6      0.280        25   \n",
       "1        3    5   0.015      2             8      8      0.135         0   \n",
       "2        4    1   0.260      9             7      5      0.320        25   \n",
       "3        4    0   0.140     14             8      0      0.330        25   \n",
       "4        2    2   0.200      1            14      8     -0.001        25   \n",
       "\n",
       "   Shelf  Cups    Rating  \n",
       "0      3  0.33  3.420149  \n",
       "1      3  1.00  1.699184  \n",
       "2      3  0.33  2.971275  \n",
       "3      3  0.50  4.685246  \n",
       "4      3  0.75  1.719242  "
      ]
     },
     "execution_count": 13,
     "metadata": {},
     "output_type": "execute_result"
    }
   ],
   "source": [
    "int_col_names = ['Calories', 'Protein', 'Fat', 'Fiber', 'Carbohydrate', 'Sugar']\n",
    "for col_name in int_col_names:\n",
    "    df_main[col_name] = df_main[col_name].round(0).astype(int)\n",
    "\n",
    "df_main.head()"
   ]
  },
  {
   "cell_type": "markdown",
   "metadata": {
    "ExecuteTime": {
     "end_time": "2021-03-16T15:22:05.490625Z",
     "start_time": "2021-03-16T15:22:05.483627Z"
    }
   },
   "source": [
    "### Round `float` columns to 2 digit"
   ]
  },
  {
   "cell_type": "code",
   "execution_count": 14,
   "metadata": {
    "ExecuteTime": {
     "end_time": "2021-03-21T10:46:07.395080Z",
     "start_time": "2021-03-21T10:46:07.379076Z"
    }
   },
   "outputs": [
    {
     "data": {
      "text/plain": [
       "array([0.13      , 0.015     , 0.26      , 0.14      , 0.2       ,\n",
       "       0.18      , 0.125     , 0.15789474, 0.21      , 0.22      ,\n",
       "       0.29      , 0.28      , 0.09      , 0.08      , 0.19      ,\n",
       "       0.        , 0.128     , 0.18045113, 0.135     , 0.045     ,\n",
       "       0.17      , 0.075     , 0.25      , 0.13076923, 0.15      ,\n",
       "       0.095     , 0.1       , 0.16541353, 0.136     , 0.15037594,\n",
       "       0.32      , 0.24      , 0.07      , 0.23      , 0.12666667,\n",
       "       0.19920919, 0.11754463, 0.03543625, 0.09680146, 0.11730621,\n",
       "       0.11516781, 0.07911349, 0.12845641, 0.10903462, 0.16336712,\n",
       "       0.141745  , 0.11630359, 0.0992215 , 0.10548465, 0.11241845,\n",
       "       0.05906042, 0.06378525, 0.11190395, 0.16718641, 0.15903098,\n",
       "       0.1382878 , 0.13137341, 0.17285976, 0.10371585, 0.11063024,\n",
       "       0.15991744, 0.14432218, 0.10237139, 0.20249286, 0.113396  ,\n",
       "       0.03290509, 0.18899333, 0.15264846, 0.14557595, 0.2126175 ,\n",
       "       0.1559195 , 0.09609831, 0.12211877, 0.19626231, 0.170094  ,\n",
       "       0.13084154])"
      ]
     },
     "execution_count": 14,
     "metadata": {},
     "output_type": "execute_result"
    }
   ],
   "source": [
    "df_main.Sodium.unique()"
   ]
  },
  {
   "cell_type": "code",
   "execution_count": 15,
   "metadata": {
    "ExecuteTime": {
     "end_time": "2021-03-21T10:46:07.427076Z",
     "start_time": "2021-03-21T10:46:07.395080Z"
    }
   },
   "outputs": [
    {
     "data": {
      "text/html": [
       "<div>\n",
       "<style scoped>\n",
       "    .dataframe tbody tr th:only-of-type {\n",
       "        vertical-align: middle;\n",
       "    }\n",
       "\n",
       "    .dataframe tbody tr th {\n",
       "        vertical-align: top;\n",
       "    }\n",
       "\n",
       "    .dataframe thead th {\n",
       "        text-align: right;\n",
       "    }\n",
       "</style>\n",
       "<table border=\"1\" class=\"dataframe\">\n",
       "  <thead>\n",
       "    <tr style=\"text-align: right;\">\n",
       "      <th></th>\n",
       "      <th>Year</th>\n",
       "      <th>CerealId</th>\n",
       "      <th>Name</th>\n",
       "      <th>Manufacturer</th>\n",
       "      <th>Type</th>\n",
       "      <th>Calories</th>\n",
       "      <th>Protein</th>\n",
       "      <th>Fat</th>\n",
       "      <th>Sodium</th>\n",
       "      <th>Fiber</th>\n",
       "      <th>Carbohydrate</th>\n",
       "      <th>Sugar</th>\n",
       "      <th>Potassium</th>\n",
       "      <th>Vitamins</th>\n",
       "      <th>Shelf</th>\n",
       "      <th>Cups</th>\n",
       "      <th>Rating</th>\n",
       "    </tr>\n",
       "  </thead>\n",
       "  <tbody>\n",
       "    <tr>\n",
       "      <th>0</th>\n",
       "      <td>1993</td>\n",
       "      <td>1</td>\n",
       "      <td>100% Bran</td>\n",
       "      <td>Nabisco</td>\n",
       "      <td>Cold</td>\n",
       "      <td>70</td>\n",
       "      <td>4</td>\n",
       "      <td>1</td>\n",
       "      <td>0.13</td>\n",
       "      <td>10</td>\n",
       "      <td>5</td>\n",
       "      <td>6</td>\n",
       "      <td>0.28</td>\n",
       "      <td>25</td>\n",
       "      <td>3</td>\n",
       "      <td>0.33</td>\n",
       "      <td>3.42</td>\n",
       "    </tr>\n",
       "    <tr>\n",
       "      <th>1</th>\n",
       "      <td>1993</td>\n",
       "      <td>2</td>\n",
       "      <td>100% Natural Bran</td>\n",
       "      <td>Quaker Oats</td>\n",
       "      <td>Cold</td>\n",
       "      <td>120</td>\n",
       "      <td>3</td>\n",
       "      <td>5</td>\n",
       "      <td>0.02</td>\n",
       "      <td>2</td>\n",
       "      <td>8</td>\n",
       "      <td>8</td>\n",
       "      <td>0.14</td>\n",
       "      <td>0</td>\n",
       "      <td>3</td>\n",
       "      <td>1.00</td>\n",
       "      <td>1.70</td>\n",
       "    </tr>\n",
       "    <tr>\n",
       "      <th>2</th>\n",
       "      <td>1993</td>\n",
       "      <td>3</td>\n",
       "      <td>All-Bran</td>\n",
       "      <td>Kelloggs</td>\n",
       "      <td>Cold</td>\n",
       "      <td>70</td>\n",
       "      <td>4</td>\n",
       "      <td>1</td>\n",
       "      <td>0.26</td>\n",
       "      <td>9</td>\n",
       "      <td>7</td>\n",
       "      <td>5</td>\n",
       "      <td>0.32</td>\n",
       "      <td>25</td>\n",
       "      <td>3</td>\n",
       "      <td>0.33</td>\n",
       "      <td>2.97</td>\n",
       "    </tr>\n",
       "    <tr>\n",
       "      <th>3</th>\n",
       "      <td>1993</td>\n",
       "      <td>4</td>\n",
       "      <td>All-Bran with Extra Fiber</td>\n",
       "      <td>Kelloggs</td>\n",
       "      <td>Cold</td>\n",
       "      <td>50</td>\n",
       "      <td>4</td>\n",
       "      <td>0</td>\n",
       "      <td>0.14</td>\n",
       "      <td>14</td>\n",
       "      <td>8</td>\n",
       "      <td>0</td>\n",
       "      <td>0.33</td>\n",
       "      <td>25</td>\n",
       "      <td>3</td>\n",
       "      <td>0.50</td>\n",
       "      <td>4.69</td>\n",
       "    </tr>\n",
       "    <tr>\n",
       "      <th>4</th>\n",
       "      <td>1993</td>\n",
       "      <td>5</td>\n",
       "      <td>Almond Delight</td>\n",
       "      <td>Ralston Purina</td>\n",
       "      <td>Cold</td>\n",
       "      <td>110</td>\n",
       "      <td>2</td>\n",
       "      <td>2</td>\n",
       "      <td>0.20</td>\n",
       "      <td>1</td>\n",
       "      <td>14</td>\n",
       "      <td>8</td>\n",
       "      <td>-0.00</td>\n",
       "      <td>25</td>\n",
       "      <td>3</td>\n",
       "      <td>0.75</td>\n",
       "      <td>1.72</td>\n",
       "    </tr>\n",
       "  </tbody>\n",
       "</table>\n",
       "</div>"
      ],
      "text/plain": [
       "   Year  CerealId                       Name    Manufacturer  Type  Calories  \\\n",
       "0  1993         1                  100% Bran         Nabisco  Cold        70   \n",
       "1  1993         2          100% Natural Bran     Quaker Oats  Cold       120   \n",
       "2  1993         3                   All-Bran        Kelloggs  Cold        70   \n",
       "3  1993         4  All-Bran with Extra Fiber        Kelloggs  Cold        50   \n",
       "4  1993         5             Almond Delight  Ralston Purina  Cold       110   \n",
       "\n",
       "   Protein  Fat  Sodium  Fiber  Carbohydrate  Sugar  Potassium  Vitamins  \\\n",
       "0        4    1    0.13     10             5      6       0.28        25   \n",
       "1        3    5    0.02      2             8      8       0.14         0   \n",
       "2        4    1    0.26      9             7      5       0.32        25   \n",
       "3        4    0    0.14     14             8      0       0.33        25   \n",
       "4        2    2    0.20      1            14      8      -0.00        25   \n",
       "\n",
       "   Shelf  Cups  Rating  \n",
       "0      3  0.33    3.42  \n",
       "1      3  1.00    1.70  \n",
       "2      3  0.33    2.97  \n",
       "3      3  0.50    4.69  \n",
       "4      3  0.75    1.72  "
      ]
     },
     "execution_count": 15,
     "metadata": {},
     "output_type": "execute_result"
    }
   ],
   "source": [
    "col_names = ['Sodium', 'Potassium', 'Cups', 'Rating']\n",
    "for col_name in col_names:\n",
    "    df_main[col_name] = df_main[col_name].round(2)\n",
    "\n",
    "df_main.head()"
   ]
  },
  {
   "cell_type": "markdown",
   "metadata": {},
   "source": [
    "### Save cleansed dataset"
   ]
  },
  {
   "cell_type": "code",
   "execution_count": 16,
   "metadata": {
    "ExecuteTime": {
     "end_time": "2021-03-21T10:46:07.443075Z",
     "start_time": "2021-03-21T10:46:07.427076Z"
    }
   },
   "outputs": [],
   "source": [
    "df_main.to_csv('./data/cereal_all.csv', index = False)"
   ]
  },
  {
   "cell_type": "markdown",
   "metadata": {},
   "source": [
    "## Data Visualization"
   ]
  },
  {
   "cell_type": "markdown",
   "metadata": {},
   "source": [
    "Column Name | Per Ounce | UOM / Range | Type | Description\n",
    "----------- | ------- | ----------- | ---- | -----------\n",
    "Calories | Yes | - | int\n",
    "Protein | Yes | gram | int\n",
    "Fat | Yes | gram | int\n",
    "Sodium | Yes | gram | float\n",
    "Fiber | Yes | gram | int\n",
    "Carbohydrate | Yes | gram | int\n",
    "Sugar | Yes | gram | int\n",
    "Potassium | Yes | gram | float\n",
    "Vitamins | No | [0, 25, 100] | int | 0, 25, or 100, respectively indicating 'none added'; 'enriched, often to 25% FDA recommended'; '100% of FDA recommended'\n",
    "Shelf | No | [1, 2, 3] | int | 1, 2, or 3, counting from the floor\n",
    "Cups | Yes | - | float\n",
    "Rating | No | 0 - 5 | float"
   ]
  },
  {
   "cell_type": "code",
   "execution_count": 17,
   "metadata": {
    "ExecuteTime": {
     "end_time": "2021-03-21T10:46:07.507075Z",
     "start_time": "2021-03-21T10:46:07.443075Z"
    }
   },
   "outputs": [],
   "source": [
    "years = [1993, 2020]\n",
    "\n",
    "df_main_old = df_main[df_main.Year == 1993]\n",
    "df_main_new = df_main[df_main.Year == 2020]"
   ]
  },
  {
   "cell_type": "code",
   "execution_count": 18,
   "metadata": {
    "ExecuteTime": {
     "end_time": "2021-03-21T10:46:07.651080Z",
     "start_time": "2021-03-21T10:46:07.507075Z"
    }
   },
   "outputs": [
    {
     "data": {
      "text/html": [
       "<div>\n",
       "<style scoped>\n",
       "    .dataframe tbody tr th:only-of-type {\n",
       "        vertical-align: middle;\n",
       "    }\n",
       "\n",
       "    .dataframe tbody tr th {\n",
       "        vertical-align: top;\n",
       "    }\n",
       "\n",
       "    .dataframe thead th {\n",
       "        text-align: right;\n",
       "    }\n",
       "</style>\n",
       "<table border=\"1\" class=\"dataframe\">\n",
       "  <thead>\n",
       "    <tr style=\"text-align: right;\">\n",
       "      <th></th>\n",
       "      <th>Year</th>\n",
       "      <th>CerealId</th>\n",
       "      <th>Calories</th>\n",
       "      <th>Protein</th>\n",
       "      <th>Fat</th>\n",
       "      <th>Sodium</th>\n",
       "      <th>Fiber</th>\n",
       "      <th>Carbohydrate</th>\n",
       "      <th>Sugar</th>\n",
       "      <th>Potassium</th>\n",
       "      <th>Vitamins</th>\n",
       "      <th>Shelf</th>\n",
       "      <th>Cups</th>\n",
       "      <th>Rating</th>\n",
       "    </tr>\n",
       "  </thead>\n",
       "  <tbody>\n",
       "    <tr>\n",
       "      <th>count</th>\n",
       "      <td>77.0</td>\n",
       "      <td>77.000000</td>\n",
       "      <td>77.000000</td>\n",
       "      <td>77.000000</td>\n",
       "      <td>77.000000</td>\n",
       "      <td>77.000000</td>\n",
       "      <td>77.000000</td>\n",
       "      <td>77.000000</td>\n",
       "      <td>77.000000</td>\n",
       "      <td>77.000000</td>\n",
       "      <td>77.000000</td>\n",
       "      <td>77.000000</td>\n",
       "      <td>77.000000</td>\n",
       "      <td>77.000000</td>\n",
       "    </tr>\n",
       "    <tr>\n",
       "      <th>mean</th>\n",
       "      <td>1993.0</td>\n",
       "      <td>39.000000</td>\n",
       "      <td>103.805195</td>\n",
       "      <td>2.454545</td>\n",
       "      <td>1.012987</td>\n",
       "      <td>0.152857</td>\n",
       "      <td>2.129870</td>\n",
       "      <td>14.350649</td>\n",
       "      <td>6.558442</td>\n",
       "      <td>0.092727</td>\n",
       "      <td>27.272727</td>\n",
       "      <td>2.168831</td>\n",
       "      <td>0.822987</td>\n",
       "      <td>2.136883</td>\n",
       "    </tr>\n",
       "    <tr>\n",
       "      <th>std</th>\n",
       "      <td>0.0</td>\n",
       "      <td>22.371857</td>\n",
       "      <td>13.879215</td>\n",
       "      <td>1.094790</td>\n",
       "      <td>1.006473</td>\n",
       "      <td>0.082412</td>\n",
       "      <td>2.324643</td>\n",
       "      <td>4.581904</td>\n",
       "      <td>4.165944</td>\n",
       "      <td>0.065124</td>\n",
       "      <td>19.943101</td>\n",
       "      <td>0.992108</td>\n",
       "      <td>0.317743</td>\n",
       "      <td>0.701608</td>\n",
       "    </tr>\n",
       "    <tr>\n",
       "      <th>min</th>\n",
       "      <td>1993.0</td>\n",
       "      <td>1.000000</td>\n",
       "      <td>50.000000</td>\n",
       "      <td>1.000000</td>\n",
       "      <td>0.000000</td>\n",
       "      <td>0.000000</td>\n",
       "      <td>0.000000</td>\n",
       "      <td>-1.000000</td>\n",
       "      <td>-1.000000</td>\n",
       "      <td>-0.000000</td>\n",
       "      <td>0.000000</td>\n",
       "      <td>1.000000</td>\n",
       "      <td>0.250000</td>\n",
       "      <td>0.900000</td>\n",
       "    </tr>\n",
       "    <tr>\n",
       "      <th>25%</th>\n",
       "      <td>1993.0</td>\n",
       "      <td>20.000000</td>\n",
       "      <td>100.000000</td>\n",
       "      <td>2.000000</td>\n",
       "      <td>0.000000</td>\n",
       "      <td>0.120000</td>\n",
       "      <td>1.000000</td>\n",
       "      <td>11.000000</td>\n",
       "      <td>3.000000</td>\n",
       "      <td>0.040000</td>\n",
       "      <td>25.000000</td>\n",
       "      <td>1.000000</td>\n",
       "      <td>0.580000</td>\n",
       "      <td>1.660000</td>\n",
       "    </tr>\n",
       "    <tr>\n",
       "      <th>50%</th>\n",
       "      <td>1993.0</td>\n",
       "      <td>39.000000</td>\n",
       "      <td>105.000000</td>\n",
       "      <td>2.000000</td>\n",
       "      <td>1.000000</td>\n",
       "      <td>0.160000</td>\n",
       "      <td>2.000000</td>\n",
       "      <td>14.000000</td>\n",
       "      <td>6.000000</td>\n",
       "      <td>0.090000</td>\n",
       "      <td>25.000000</td>\n",
       "      <td>2.000000</td>\n",
       "      <td>0.750000</td>\n",
       "      <td>2.020000</td>\n",
       "    </tr>\n",
       "    <tr>\n",
       "      <th>75%</th>\n",
       "      <td>1993.0</td>\n",
       "      <td>58.000000</td>\n",
       "      <td>110.000000</td>\n",
       "      <td>3.000000</td>\n",
       "      <td>2.000000</td>\n",
       "      <td>0.200000</td>\n",
       "      <td>3.000000</td>\n",
       "      <td>17.000000</td>\n",
       "      <td>10.000000</td>\n",
       "      <td>0.120000</td>\n",
       "      <td>25.000000</td>\n",
       "      <td>3.000000</td>\n",
       "      <td>1.000000</td>\n",
       "      <td>2.540000</td>\n",
       "    </tr>\n",
       "    <tr>\n",
       "      <th>max</th>\n",
       "      <td>1993.0</td>\n",
       "      <td>77.000000</td>\n",
       "      <td>150.000000</td>\n",
       "      <td>6.000000</td>\n",
       "      <td>5.000000</td>\n",
       "      <td>0.320000</td>\n",
       "      <td>14.000000</td>\n",
       "      <td>26.000000</td>\n",
       "      <td>15.000000</td>\n",
       "      <td>0.330000</td>\n",
       "      <td>100.000000</td>\n",
       "      <td>6.000000</td>\n",
       "      <td>2.000000</td>\n",
       "      <td>4.690000</td>\n",
       "    </tr>\n",
       "  </tbody>\n",
       "</table>\n",
       "</div>"
      ],
      "text/plain": [
       "         Year   CerealId    Calories    Protein        Fat     Sodium  \\\n",
       "count    77.0  77.000000   77.000000  77.000000  77.000000  77.000000   \n",
       "mean   1993.0  39.000000  103.805195   2.454545   1.012987   0.152857   \n",
       "std       0.0  22.371857   13.879215   1.094790   1.006473   0.082412   \n",
       "min    1993.0   1.000000   50.000000   1.000000   0.000000   0.000000   \n",
       "25%    1993.0  20.000000  100.000000   2.000000   0.000000   0.120000   \n",
       "50%    1993.0  39.000000  105.000000   2.000000   1.000000   0.160000   \n",
       "75%    1993.0  58.000000  110.000000   3.000000   2.000000   0.200000   \n",
       "max    1993.0  77.000000  150.000000   6.000000   5.000000   0.320000   \n",
       "\n",
       "           Fiber  Carbohydrate      Sugar  Potassium    Vitamins      Shelf  \\\n",
       "count  77.000000     77.000000  77.000000  77.000000   77.000000  77.000000   \n",
       "mean    2.129870     14.350649   6.558442   0.092727   27.272727   2.168831   \n",
       "std     2.324643      4.581904   4.165944   0.065124   19.943101   0.992108   \n",
       "min     0.000000     -1.000000  -1.000000  -0.000000    0.000000   1.000000   \n",
       "25%     1.000000     11.000000   3.000000   0.040000   25.000000   1.000000   \n",
       "50%     2.000000     14.000000   6.000000   0.090000   25.000000   2.000000   \n",
       "75%     3.000000     17.000000  10.000000   0.120000   25.000000   3.000000   \n",
       "max    14.000000     26.000000  15.000000   0.330000  100.000000   6.000000   \n",
       "\n",
       "            Cups     Rating  \n",
       "count  77.000000  77.000000  \n",
       "mean    0.822987   2.136883  \n",
       "std     0.317743   0.701608  \n",
       "min     0.250000   0.900000  \n",
       "25%     0.580000   1.660000  \n",
       "50%     0.750000   2.020000  \n",
       "75%     1.000000   2.540000  \n",
       "max     2.000000   4.690000  "
      ]
     },
     "execution_count": 18,
     "metadata": {},
     "output_type": "execute_result"
    },
    {
     "data": {
      "text/html": [
       "<div>\n",
       "<style scoped>\n",
       "    .dataframe tbody tr th:only-of-type {\n",
       "        vertical-align: middle;\n",
       "    }\n",
       "\n",
       "    .dataframe tbody tr th {\n",
       "        vertical-align: top;\n",
       "    }\n",
       "\n",
       "    .dataframe thead th {\n",
       "        text-align: right;\n",
       "    }\n",
       "</style>\n",
       "<table border=\"1\" class=\"dataframe\">\n",
       "  <thead>\n",
       "    <tr style=\"text-align: right;\">\n",
       "      <th></th>\n",
       "      <th>Year</th>\n",
       "      <th>CerealId</th>\n",
       "      <th>Calories</th>\n",
       "      <th>Protein</th>\n",
       "      <th>Fat</th>\n",
       "      <th>Sodium</th>\n",
       "      <th>Fiber</th>\n",
       "      <th>Carbohydrate</th>\n",
       "      <th>Sugar</th>\n",
       "      <th>Potassium</th>\n",
       "      <th>Vitamins</th>\n",
       "      <th>Shelf</th>\n",
       "      <th>Cups</th>\n",
       "      <th>Rating</th>\n",
       "    </tr>\n",
       "  </thead>\n",
       "  <tbody>\n",
       "    <tr>\n",
       "      <th>count</th>\n",
       "      <td>48.0</td>\n",
       "      <td>48.000000</td>\n",
       "      <td>48.000000</td>\n",
       "      <td>48.000000</td>\n",
       "      <td>48.000000</td>\n",
       "      <td>48.000000</td>\n",
       "      <td>48.000000</td>\n",
       "      <td>48.00000</td>\n",
       "      <td>48.000000</td>\n",
       "      <td>48.000000</td>\n",
       "      <td>48.00</td>\n",
       "      <td>48.000000</td>\n",
       "      <td>48.000000</td>\n",
       "      <td>48.000000</td>\n",
       "    </tr>\n",
       "    <tr>\n",
       "      <th>mean</th>\n",
       "      <td>2020.0</td>\n",
       "      <td>69.187500</td>\n",
       "      <td>130.625000</td>\n",
       "      <td>2.458333</td>\n",
       "      <td>1.062500</td>\n",
       "      <td>0.129583</td>\n",
       "      <td>2.270833</td>\n",
       "      <td>13.43750</td>\n",
       "      <td>6.541667</td>\n",
       "      <td>0.081458</td>\n",
       "      <td>43.75</td>\n",
       "      <td>1.895833</td>\n",
       "      <td>1.104375</td>\n",
       "      <td>4.304375</td>\n",
       "    </tr>\n",
       "    <tr>\n",
       "      <th>std</th>\n",
       "      <td>0.0</td>\n",
       "      <td>31.721968</td>\n",
       "      <td>43.248232</td>\n",
       "      <td>1.749873</td>\n",
       "      <td>1.227456</td>\n",
       "      <td>0.047801</td>\n",
       "      <td>2.028935</td>\n",
       "      <td>3.47579</td>\n",
       "      <td>3.267886</td>\n",
       "      <td>0.096425</td>\n",
       "      <td>25.00</td>\n",
       "      <td>0.805291</td>\n",
       "      <td>0.592021</td>\n",
       "      <td>0.552926</td>\n",
       "    </tr>\n",
       "    <tr>\n",
       "      <th>min</th>\n",
       "      <td>2020.0</td>\n",
       "      <td>3.000000</td>\n",
       "      <td>83.000000</td>\n",
       "      <td>1.000000</td>\n",
       "      <td>0.000000</td>\n",
       "      <td>0.000000</td>\n",
       "      <td>0.000000</td>\n",
       "      <td>6.00000</td>\n",
       "      <td>0.000000</td>\n",
       "      <td>0.000000</td>\n",
       "      <td>0.00</td>\n",
       "      <td>1.000000</td>\n",
       "      <td>0.000000</td>\n",
       "      <td>1.810000</td>\n",
       "    </tr>\n",
       "    <tr>\n",
       "      <th>25%</th>\n",
       "      <td>2020.0</td>\n",
       "      <td>49.250000</td>\n",
       "      <td>105.750000</td>\n",
       "      <td>2.000000</td>\n",
       "      <td>0.000000</td>\n",
       "      <td>0.107500</td>\n",
       "      <td>1.000000</td>\n",
       "      <td>11.75000</td>\n",
       "      <td>4.000000</td>\n",
       "      <td>0.020000</td>\n",
       "      <td>25.00</td>\n",
       "      <td>1.000000</td>\n",
       "      <td>0.707500</td>\n",
       "      <td>4.100000</td>\n",
       "    </tr>\n",
       "    <tr>\n",
       "      <th>50%</th>\n",
       "      <td>2020.0</td>\n",
       "      <td>81.500000</td>\n",
       "      <td>111.000000</td>\n",
       "      <td>2.000000</td>\n",
       "      <td>1.000000</td>\n",
       "      <td>0.130000</td>\n",
       "      <td>2.000000</td>\n",
       "      <td>13.00000</td>\n",
       "      <td>6.500000</td>\n",
       "      <td>0.060000</td>\n",
       "      <td>50.00</td>\n",
       "      <td>2.000000</td>\n",
       "      <td>0.830000</td>\n",
       "      <td>4.500000</td>\n",
       "    </tr>\n",
       "    <tr>\n",
       "      <th>75%</th>\n",
       "      <td>2020.0</td>\n",
       "      <td>93.250000</td>\n",
       "      <td>150.000000</td>\n",
       "      <td>3.000000</td>\n",
       "      <td>1.000000</td>\n",
       "      <td>0.160000</td>\n",
       "      <td>3.000000</td>\n",
       "      <td>15.00000</td>\n",
       "      <td>9.000000</td>\n",
       "      <td>0.100000</td>\n",
       "      <td>50.00</td>\n",
       "      <td>3.000000</td>\n",
       "      <td>1.540000</td>\n",
       "      <td>4.700000</td>\n",
       "    </tr>\n",
       "    <tr>\n",
       "      <th>max</th>\n",
       "      <td>2020.0</td>\n",
       "      <td>105.000000</td>\n",
       "      <td>280.000000</td>\n",
       "      <td>12.000000</td>\n",
       "      <td>6.000000</td>\n",
       "      <td>0.210000</td>\n",
       "      <td>13.000000</td>\n",
       "      <td>23.00000</td>\n",
       "      <td>14.000000</td>\n",
       "      <td>0.590000</td>\n",
       "      <td>100.00</td>\n",
       "      <td>3.000000</td>\n",
       "      <td>2.290000</td>\n",
       "      <td>4.900000</td>\n",
       "    </tr>\n",
       "  </tbody>\n",
       "</table>\n",
       "</div>"
      ],
      "text/plain": [
       "         Year    CerealId    Calories    Protein        Fat     Sodium  \\\n",
       "count    48.0   48.000000   48.000000  48.000000  48.000000  48.000000   \n",
       "mean   2020.0   69.187500  130.625000   2.458333   1.062500   0.129583   \n",
       "std       0.0   31.721968   43.248232   1.749873   1.227456   0.047801   \n",
       "min    2020.0    3.000000   83.000000   1.000000   0.000000   0.000000   \n",
       "25%    2020.0   49.250000  105.750000   2.000000   0.000000   0.107500   \n",
       "50%    2020.0   81.500000  111.000000   2.000000   1.000000   0.130000   \n",
       "75%    2020.0   93.250000  150.000000   3.000000   1.000000   0.160000   \n",
       "max    2020.0  105.000000  280.000000  12.000000   6.000000   0.210000   \n",
       "\n",
       "           Fiber  Carbohydrate      Sugar  Potassium  Vitamins      Shelf  \\\n",
       "count  48.000000      48.00000  48.000000  48.000000     48.00  48.000000   \n",
       "mean    2.270833      13.43750   6.541667   0.081458     43.75   1.895833   \n",
       "std     2.028935       3.47579   3.267886   0.096425     25.00   0.805291   \n",
       "min     0.000000       6.00000   0.000000   0.000000      0.00   1.000000   \n",
       "25%     1.000000      11.75000   4.000000   0.020000     25.00   1.000000   \n",
       "50%     2.000000      13.00000   6.500000   0.060000     50.00   2.000000   \n",
       "75%     3.000000      15.00000   9.000000   0.100000     50.00   3.000000   \n",
       "max    13.000000      23.00000  14.000000   0.590000    100.00   3.000000   \n",
       "\n",
       "            Cups     Rating  \n",
       "count  48.000000  48.000000  \n",
       "mean    1.104375   4.304375  \n",
       "std     0.592021   0.552926  \n",
       "min     0.000000   1.810000  \n",
       "25%     0.707500   4.100000  \n",
       "50%     0.830000   4.500000  \n",
       "75%     1.540000   4.700000  \n",
       "max     2.290000   4.900000  "
      ]
     },
     "execution_count": 18,
     "metadata": {},
     "output_type": "execute_result"
    }
   ],
   "source": [
    "df_main_old.describe()\n",
    "df_main_new.describe()"
   ]
  },
  {
   "cell_type": "code",
   "execution_count": 19,
   "metadata": {
    "ExecuteTime": {
     "end_time": "2021-03-21T10:46:07.667076Z",
     "start_time": "2021-03-21T10:46:07.651080Z"
    }
   },
   "outputs": [],
   "source": [
    "int_col_names = ['Calories', 'Protein', 'Fat', 'Fiber', 'Carbohydrate', 'Sugar', 'Vitamins', 'Shelf']\n",
    "float_col_names = ['Sodium', 'Potassium', 'Cups', 'Rating']"
   ]
  },
  {
   "cell_type": "code",
   "execution_count": 20,
   "metadata": {
    "ExecuteTime": {
     "end_time": "2021-03-21T10:46:07.683076Z",
     "start_time": "2021-03-21T10:46:07.667076Z"
    }
   },
   "outputs": [],
   "source": [
    "InteractiveShell.ast_node_interactivity = 'last'"
   ]
  },
  {
   "cell_type": "markdown",
   "metadata": {
    "ExecuteTime": {
     "end_time": "2021-03-16T20:18:07.315386Z",
     "start_time": "2021-03-16T20:18:07.306388Z"
    }
   },
   "source": [
    "### Comparison of numerical value distribution between 1993 and 2020"
   ]
  },
  {
   "cell_type": "markdown",
   "metadata": {},
   "source": [
    "#### `Calories` and `Cups`"
   ]
  },
  {
   "cell_type": "code",
   "execution_count": 21,
   "metadata": {
    "ExecuteTime": {
     "end_time": "2021-03-21T10:46:07.891198Z",
     "start_time": "2021-03-21T10:46:07.699081Z"
    }
   },
   "outputs": [
    {
     "data": {
      "application/vnd.plotly.v1+json": {
       "config": {
        "plotlyServerURL": "https://plotly.com"
       },
       "data": [
        {
         "boxpoints": "all",
         "name": "Calories",
         "text": [
          "100% Bran",
          "100% Natural Bran",
          "All-Bran",
          "All-Bran with Extra Fiber",
          "Almond Delight",
          "Apple Cinnamon Cheerios",
          "Apple Jacks",
          "Basic 4",
          "Bran Chex",
          "Bran Flakes",
          "Cap'n'Crunch",
          "Cheerios",
          "Cinnamon Toast Crunch",
          "Clusters",
          "Cocoa Puffs",
          "Corn Chex",
          "Corn Flakes",
          "Corn Pops",
          "Count Chocula",
          "Cracklin' Oat Bran",
          "Cream of Wheat (Quick)",
          "Crispix",
          "Crispy Wheat & Raisins",
          "Double Chex",
          "Froot Loops",
          "Frosted Flakes",
          "Frosted Mini-Wheats",
          "Fruit & Fibre Dates",
          "Fruitful Bran",
          "Fruity Pebbles",
          "Golden Crisp",
          "Golden Grahams",
          "Grape Nuts Flakes",
          "Grape-Nuts",
          "Great Grains Pecan",
          "Honey Graham Ohs",
          "Honey Nut Cheerios",
          "Honey-comb",
          "Just Right Crunchy  Nuggets",
          "Just Right Fruit & Nut",
          "Kix",
          "Life",
          "Lucky Charms",
          "Maypo",
          "Dates & Almonds",
          "Peaches & Pecans",
          "Mueslix Crispy Blend",
          "Multi-Grain Cheerios",
          "Nut&Honey Crunch",
          "Nutri-Grain Almond-Raisin",
          "Nutri-grain Wheat",
          "Oatmeal Raisin Crisp",
          "Post Nat. Raisin Bran",
          "Product 19",
          "Puffed Rice",
          "Puffed Wheat",
          "Quaker Oat Squares",
          "Quaker Oatmeal",
          "Raisin Bran",
          "Raisin Nut Bran",
          "Raisin Squares",
          "Rice Chex",
          "Rice Krispies",
          "Shredded Wheat",
          "Shredded Wheat 'n'Bran",
          "Shredded Wheat spoon size",
          "Smacks",
          "Special K",
          "Strawberry Fruit Wheats",
          "Total Corn Flakes",
          "Total Raisin Bran",
          "Total Whole Grain",
          "Triples",
          "Trix",
          "Walnuts & Oats",
          "Wheat Chex",
          "Wheaties",
          "Wheaties Honey Gold",
          "All-Bran Complete Wheat Flakes Cereal",
          "Eggo",
          "Honey Smacks",
          "Krave Double Chocolate",
          "Peeps",
          "Smart Start",
          "Annie's Whole Grain Cereal",
          "Cascadian Farm Organic Raisin Bran",
          "Cheerios Multi Grain",
          "Chex Wheat Cereal",
          "Cookie Crisp",
          "Dunkaroos",
          "Fiber One",
          "Good Belly",
          "Larabar (Peanut Butter)",
          "Oatmeal Crisp",
          "Wonderworks (Peanut Butter)",
          "Ahold 100% Whole Grain",
          "Hannaford Frosted Flakes",
          "Martin's Food Lion",
          "Hannaford Tasteeos Cereal",
          "Ahold Vanilla Almond Cereal",
          "Kelloggs Special Fruit & Yogurt",
          "Kelloggs Special Original Cereal",
          "Quaker Life Cinnamon Multigrain",
          "Quaker Life Original Multigrain",
          "Quaker Life Ltd. Edition, Pumpkin Spice",
          "All-Bran",
          "Apple Jacks",
          "Basic 4",
          "Cocoa Puffs",
          "Corn Flakes",
          "Corn Pops",
          "Cracklin' Oat Bran",
          "Crispix",
          "Froot Loops",
          "Frosted Flakes",
          "Golden Grahams",
          "Kix",
          "Oatmeal Raisin Crisp",
          "Raisin Bran",
          "Raisin Nut Bran",
          "Rice Krispies",
          "Special K",
          "Total Whole Grain",
          "Trix",
          "Wheaties"
         ],
         "type": "box",
         "x": [
          1993,
          1993,
          1993,
          1993,
          1993,
          1993,
          1993,
          1993,
          1993,
          1993,
          1993,
          1993,
          1993,
          1993,
          1993,
          1993,
          1993,
          1993,
          1993,
          1993,
          1993,
          1993,
          1993,
          1993,
          1993,
          1993,
          1993,
          1993,
          1993,
          1993,
          1993,
          1993,
          1993,
          1993,
          1993,
          1993,
          1993,
          1993,
          1993,
          1993,
          1993,
          1993,
          1993,
          1993,
          1993,
          1993,
          1993,
          1993,
          1993,
          1993,
          1993,
          1993,
          1993,
          1993,
          1993,
          1993,
          1993,
          1993,
          1993,
          1993,
          1993,
          1993,
          1993,
          1993,
          1993,
          1993,
          1993,
          1993,
          1993,
          1993,
          1993,
          1993,
          1993,
          1993,
          1993,
          1993,
          1993,
          2020,
          2020,
          2020,
          2020,
          2020,
          2020,
          2020,
          2020,
          2020,
          2020,
          2020,
          2020,
          2020,
          2020,
          2020,
          2020,
          2020,
          2020,
          2020,
          2020,
          2020,
          2020,
          2020,
          2020,
          2020,
          2020,
          2020,
          2020,
          2020,
          2020,
          2020,
          2020,
          2020,
          2020,
          2020,
          2020,
          2020,
          2020,
          2020,
          2020,
          2020,
          2020,
          2020,
          2020,
          2020,
          2020,
          2020,
          2020
         ],
         "xaxis": "x",
         "y": [
          70,
          120,
          70,
          50,
          110,
          110,
          110,
          98,
          90,
          90,
          120,
          110,
          120,
          110,
          110,
          110,
          100,
          110,
          110,
          110,
          100,
          110,
          100,
          100,
          110,
          110,
          100,
          96,
          90,
          110,
          100,
          110,
          100,
          110,
          120,
          120,
          110,
          110,
          110,
          108,
          110,
          100,
          110,
          100,
          150,
          150,
          107,
          100,
          120,
          105,
          90,
          104,
          90,
          100,
          100,
          100,
          100,
          100,
          90,
          100,
          90,
          110,
          110,
          96,
          90,
          90,
          110,
          110,
          90,
          110,
          93,
          100,
          110,
          110,
          96,
          100,
          100,
          110,
          120,
          160,
          130,
          170,
          110,
          240,
          160,
          210,
          150,
          210,
          140,
          150,
          90,
          170,
          280,
          230,
          160,
          170,
          150,
          120,
          111,
          104,
          111,
          97,
          83,
          111,
          83,
          92,
          109,
          103,
          110,
          101,
          106,
          116,
          109,
          109,
          100,
          106,
          113,
          109,
          91,
          105,
          106,
          109,
          128,
          116,
          102
         ],
         "yaxis": "y"
        },
        {
         "boxpoints": "all",
         "name": "Cups",
         "text": [
          "100% Bran",
          "100% Natural Bran",
          "All-Bran",
          "All-Bran with Extra Fiber",
          "Almond Delight",
          "Apple Cinnamon Cheerios",
          "Apple Jacks",
          "Basic 4",
          "Bran Chex",
          "Bran Flakes",
          "Cap'n'Crunch",
          "Cheerios",
          "Cinnamon Toast Crunch",
          "Clusters",
          "Cocoa Puffs",
          "Corn Chex",
          "Corn Flakes",
          "Corn Pops",
          "Count Chocula",
          "Cracklin' Oat Bran",
          "Cream of Wheat (Quick)",
          "Crispix",
          "Crispy Wheat & Raisins",
          "Double Chex",
          "Froot Loops",
          "Frosted Flakes",
          "Frosted Mini-Wheats",
          "Fruit & Fibre Dates",
          "Fruitful Bran",
          "Fruity Pebbles",
          "Golden Crisp",
          "Golden Grahams",
          "Grape Nuts Flakes",
          "Grape-Nuts",
          "Great Grains Pecan",
          "Honey Graham Ohs",
          "Honey Nut Cheerios",
          "Honey-comb",
          "Just Right Crunchy  Nuggets",
          "Just Right Fruit & Nut",
          "Kix",
          "Life",
          "Lucky Charms",
          "Maypo",
          "Dates & Almonds",
          "Peaches & Pecans",
          "Mueslix Crispy Blend",
          "Multi-Grain Cheerios",
          "Nut&Honey Crunch",
          "Nutri-Grain Almond-Raisin",
          "Nutri-grain Wheat",
          "Oatmeal Raisin Crisp",
          "Post Nat. Raisin Bran",
          "Product 19",
          "Puffed Rice",
          "Puffed Wheat",
          "Quaker Oat Squares",
          "Quaker Oatmeal",
          "Raisin Bran",
          "Raisin Nut Bran",
          "Raisin Squares",
          "Rice Chex",
          "Rice Krispies",
          "Shredded Wheat",
          "Shredded Wheat 'n'Bran",
          "Shredded Wheat spoon size",
          "Smacks",
          "Special K",
          "Strawberry Fruit Wheats",
          "Total Corn Flakes",
          "Total Raisin Bran",
          "Total Whole Grain",
          "Triples",
          "Trix",
          "Walnuts & Oats",
          "Wheat Chex",
          "Wheaties",
          "Wheaties Honey Gold",
          "All-Bran Complete Wheat Flakes Cereal",
          "Eggo",
          "Honey Smacks",
          "Krave Double Chocolate",
          "Peeps",
          "Smart Start",
          "Annie's Whole Grain Cereal",
          "Cascadian Farm Organic Raisin Bran",
          "Cheerios Multi Grain",
          "Chex Wheat Cereal",
          "Cookie Crisp",
          "Dunkaroos",
          "Fiber One",
          "Good Belly",
          "Larabar (Peanut Butter)",
          "Oatmeal Crisp",
          "Wonderworks (Peanut Butter)",
          "Ahold 100% Whole Grain",
          "Hannaford Frosted Flakes",
          "Martin's Food Lion",
          "Hannaford Tasteeos Cereal",
          "Ahold Vanilla Almond Cereal",
          "Kelloggs Special Fruit & Yogurt",
          "Kelloggs Special Original Cereal",
          "Quaker Life Cinnamon Multigrain",
          "Quaker Life Original Multigrain",
          "Quaker Life Ltd. Edition, Pumpkin Spice",
          "All-Bran",
          "Apple Jacks",
          "Basic 4",
          "Cocoa Puffs",
          "Corn Flakes",
          "Corn Pops",
          "Cracklin' Oat Bran",
          "Crispix",
          "Froot Loops",
          "Frosted Flakes",
          "Golden Grahams",
          "Kix",
          "Oatmeal Raisin Crisp",
          "Raisin Bran",
          "Raisin Nut Bran",
          "Rice Krispies",
          "Special K",
          "Total Whole Grain",
          "Trix",
          "Wheaties"
         ],
         "type": "box",
         "x": [
          1993,
          1993,
          1993,
          1993,
          1993,
          1993,
          1993,
          1993,
          1993,
          1993,
          1993,
          1993,
          1993,
          1993,
          1993,
          1993,
          1993,
          1993,
          1993,
          1993,
          1993,
          1993,
          1993,
          1993,
          1993,
          1993,
          1993,
          1993,
          1993,
          1993,
          1993,
          1993,
          1993,
          1993,
          1993,
          1993,
          1993,
          1993,
          1993,
          1993,
          1993,
          1993,
          1993,
          1993,
          1993,
          1993,
          1993,
          1993,
          1993,
          1993,
          1993,
          1993,
          1993,
          1993,
          1993,
          1993,
          1993,
          1993,
          1993,
          1993,
          1993,
          1993,
          1993,
          1993,
          1993,
          1993,
          1993,
          1993,
          1993,
          1993,
          1993,
          1993,
          1993,
          1993,
          1993,
          1993,
          1993,
          2020,
          2020,
          2020,
          2020,
          2020,
          2020,
          2020,
          2020,
          2020,
          2020,
          2020,
          2020,
          2020,
          2020,
          2020,
          2020,
          2020,
          2020,
          2020,
          2020,
          2020,
          2020,
          2020,
          2020,
          2020,
          2020,
          2020,
          2020,
          2020,
          2020,
          2020,
          2020,
          2020,
          2020,
          2020,
          2020,
          2020,
          2020,
          2020,
          2020,
          2020,
          2020,
          2020,
          2020,
          2020,
          2020,
          2020,
          2020
         ],
         "xaxis": "x2",
         "y": [
          0.33,
          1,
          0.33,
          0.5,
          0.75,
          0.75,
          1,
          0.56,
          0.67,
          0.67,
          0.75,
          1.25,
          0.75,
          0.5,
          1,
          1,
          1,
          1,
          1,
          0.5,
          1,
          1,
          0.75,
          0.75,
          1,
          0.75,
          0.8,
          0.54,
          0.5,
          0.75,
          0.88,
          0.75,
          0.88,
          0.25,
          0.33,
          1,
          0.75,
          1.33,
          1,
          0.58,
          1.5,
          0.67,
          1,
          1,
          1,
          1,
          0.45,
          1,
          0.67,
          0.5,
          1,
          0.4,
          0.5,
          1,
          2,
          2,
          0.5,
          0.67,
          0.56,
          0.5,
          0.5,
          1.13,
          1,
          1.2,
          0.67,
          0.67,
          0.75,
          1,
          1,
          1,
          0.67,
          1,
          0.75,
          1,
          0.54,
          0.67,
          1,
          0.75,
          0.77,
          0.86,
          0.79,
          0.69,
          0.98,
          0.55,
          0.66,
          0.55,
          0.97,
          0.48,
          0.79,
          0.73,
          0.47,
          0.82,
          0.33,
          0.47,
          0.71,
          0.71,
          0.75,
          0.73,
          1.04,
          0,
          0.7,
          0.84,
          0.7,
          0.72,
          0.71,
          1.31,
          1.83,
          0.52,
          1.27,
          2.22,
          1.88,
          1.48,
          1.83,
          1.83,
          1.31,
          1.41,
          2.12,
          2.12,
          2.08,
          2.29,
          2.12,
          1.72,
          1.41,
          1.72,
          1.27
         ],
         "yaxis": "y2"
        }
       ],
       "layout": {
        "annotations": [
         {
          "font": {
           "size": 16
          },
          "showarrow": false,
          "text": "Calories",
          "x": 0.225,
          "xanchor": "center",
          "xref": "paper",
          "y": 1,
          "yanchor": "bottom",
          "yref": "paper"
         },
         {
          "font": {
           "size": 16
          },
          "showarrow": false,
          "text": "Cups",
          "x": 0.775,
          "xanchor": "center",
          "xref": "paper",
          "y": 1,
          "yanchor": "bottom",
          "yref": "paper"
         }
        ],
        "boxmode": "group",
        "showlegend": false,
        "template": {
         "data": {
          "bar": [
           {
            "error_x": {
             "color": "#2a3f5f"
            },
            "error_y": {
             "color": "#2a3f5f"
            },
            "marker": {
             "line": {
              "color": "#E5ECF6",
              "width": 0.5
             }
            },
            "type": "bar"
           }
          ],
          "barpolar": [
           {
            "marker": {
             "line": {
              "color": "#E5ECF6",
              "width": 0.5
             }
            },
            "type": "barpolar"
           }
          ],
          "carpet": [
           {
            "aaxis": {
             "endlinecolor": "#2a3f5f",
             "gridcolor": "white",
             "linecolor": "white",
             "minorgridcolor": "white",
             "startlinecolor": "#2a3f5f"
            },
            "baxis": {
             "endlinecolor": "#2a3f5f",
             "gridcolor": "white",
             "linecolor": "white",
             "minorgridcolor": "white",
             "startlinecolor": "#2a3f5f"
            },
            "type": "carpet"
           }
          ],
          "choropleth": [
           {
            "colorbar": {
             "outlinewidth": 0,
             "ticks": ""
            },
            "type": "choropleth"
           }
          ],
          "contour": [
           {
            "colorbar": {
             "outlinewidth": 0,
             "ticks": ""
            },
            "colorscale": [
             [
              0,
              "#0d0887"
             ],
             [
              0.1111111111111111,
              "#46039f"
             ],
             [
              0.2222222222222222,
              "#7201a8"
             ],
             [
              0.3333333333333333,
              "#9c179e"
             ],
             [
              0.4444444444444444,
              "#bd3786"
             ],
             [
              0.5555555555555556,
              "#d8576b"
             ],
             [
              0.6666666666666666,
              "#ed7953"
             ],
             [
              0.7777777777777778,
              "#fb9f3a"
             ],
             [
              0.8888888888888888,
              "#fdca26"
             ],
             [
              1,
              "#f0f921"
             ]
            ],
            "type": "contour"
           }
          ],
          "contourcarpet": [
           {
            "colorbar": {
             "outlinewidth": 0,
             "ticks": ""
            },
            "type": "contourcarpet"
           }
          ],
          "heatmap": [
           {
            "colorbar": {
             "outlinewidth": 0,
             "ticks": ""
            },
            "colorscale": [
             [
              0,
              "#0d0887"
             ],
             [
              0.1111111111111111,
              "#46039f"
             ],
             [
              0.2222222222222222,
              "#7201a8"
             ],
             [
              0.3333333333333333,
              "#9c179e"
             ],
             [
              0.4444444444444444,
              "#bd3786"
             ],
             [
              0.5555555555555556,
              "#d8576b"
             ],
             [
              0.6666666666666666,
              "#ed7953"
             ],
             [
              0.7777777777777778,
              "#fb9f3a"
             ],
             [
              0.8888888888888888,
              "#fdca26"
             ],
             [
              1,
              "#f0f921"
             ]
            ],
            "type": "heatmap"
           }
          ],
          "heatmapgl": [
           {
            "colorbar": {
             "outlinewidth": 0,
             "ticks": ""
            },
            "colorscale": [
             [
              0,
              "#0d0887"
             ],
             [
              0.1111111111111111,
              "#46039f"
             ],
             [
              0.2222222222222222,
              "#7201a8"
             ],
             [
              0.3333333333333333,
              "#9c179e"
             ],
             [
              0.4444444444444444,
              "#bd3786"
             ],
             [
              0.5555555555555556,
              "#d8576b"
             ],
             [
              0.6666666666666666,
              "#ed7953"
             ],
             [
              0.7777777777777778,
              "#fb9f3a"
             ],
             [
              0.8888888888888888,
              "#fdca26"
             ],
             [
              1,
              "#f0f921"
             ]
            ],
            "type": "heatmapgl"
           }
          ],
          "histogram": [
           {
            "marker": {
             "colorbar": {
              "outlinewidth": 0,
              "ticks": ""
             }
            },
            "type": "histogram"
           }
          ],
          "histogram2d": [
           {
            "colorbar": {
             "outlinewidth": 0,
             "ticks": ""
            },
            "colorscale": [
             [
              0,
              "#0d0887"
             ],
             [
              0.1111111111111111,
              "#46039f"
             ],
             [
              0.2222222222222222,
              "#7201a8"
             ],
             [
              0.3333333333333333,
              "#9c179e"
             ],
             [
              0.4444444444444444,
              "#bd3786"
             ],
             [
              0.5555555555555556,
              "#d8576b"
             ],
             [
              0.6666666666666666,
              "#ed7953"
             ],
             [
              0.7777777777777778,
              "#fb9f3a"
             ],
             [
              0.8888888888888888,
              "#fdca26"
             ],
             [
              1,
              "#f0f921"
             ]
            ],
            "type": "histogram2d"
           }
          ],
          "histogram2dcontour": [
           {
            "colorbar": {
             "outlinewidth": 0,
             "ticks": ""
            },
            "colorscale": [
             [
              0,
              "#0d0887"
             ],
             [
              0.1111111111111111,
              "#46039f"
             ],
             [
              0.2222222222222222,
              "#7201a8"
             ],
             [
              0.3333333333333333,
              "#9c179e"
             ],
             [
              0.4444444444444444,
              "#bd3786"
             ],
             [
              0.5555555555555556,
              "#d8576b"
             ],
             [
              0.6666666666666666,
              "#ed7953"
             ],
             [
              0.7777777777777778,
              "#fb9f3a"
             ],
             [
              0.8888888888888888,
              "#fdca26"
             ],
             [
              1,
              "#f0f921"
             ]
            ],
            "type": "histogram2dcontour"
           }
          ],
          "mesh3d": [
           {
            "colorbar": {
             "outlinewidth": 0,
             "ticks": ""
            },
            "type": "mesh3d"
           }
          ],
          "parcoords": [
           {
            "line": {
             "colorbar": {
              "outlinewidth": 0,
              "ticks": ""
             }
            },
            "type": "parcoords"
           }
          ],
          "pie": [
           {
            "automargin": true,
            "type": "pie"
           }
          ],
          "scatter": [
           {
            "marker": {
             "colorbar": {
              "outlinewidth": 0,
              "ticks": ""
             }
            },
            "type": "scatter"
           }
          ],
          "scatter3d": [
           {
            "line": {
             "colorbar": {
              "outlinewidth": 0,
              "ticks": ""
             }
            },
            "marker": {
             "colorbar": {
              "outlinewidth": 0,
              "ticks": ""
             }
            },
            "type": "scatter3d"
           }
          ],
          "scattercarpet": [
           {
            "marker": {
             "colorbar": {
              "outlinewidth": 0,
              "ticks": ""
             }
            },
            "type": "scattercarpet"
           }
          ],
          "scattergeo": [
           {
            "marker": {
             "colorbar": {
              "outlinewidth": 0,
              "ticks": ""
             }
            },
            "type": "scattergeo"
           }
          ],
          "scattergl": [
           {
            "marker": {
             "colorbar": {
              "outlinewidth": 0,
              "ticks": ""
             }
            },
            "type": "scattergl"
           }
          ],
          "scattermapbox": [
           {
            "marker": {
             "colorbar": {
              "outlinewidth": 0,
              "ticks": ""
             }
            },
            "type": "scattermapbox"
           }
          ],
          "scatterpolar": [
           {
            "marker": {
             "colorbar": {
              "outlinewidth": 0,
              "ticks": ""
             }
            },
            "type": "scatterpolar"
           }
          ],
          "scatterpolargl": [
           {
            "marker": {
             "colorbar": {
              "outlinewidth": 0,
              "ticks": ""
             }
            },
            "type": "scatterpolargl"
           }
          ],
          "scatterternary": [
           {
            "marker": {
             "colorbar": {
              "outlinewidth": 0,
              "ticks": ""
             }
            },
            "type": "scatterternary"
           }
          ],
          "surface": [
           {
            "colorbar": {
             "outlinewidth": 0,
             "ticks": ""
            },
            "colorscale": [
             [
              0,
              "#0d0887"
             ],
             [
              0.1111111111111111,
              "#46039f"
             ],
             [
              0.2222222222222222,
              "#7201a8"
             ],
             [
              0.3333333333333333,
              "#9c179e"
             ],
             [
              0.4444444444444444,
              "#bd3786"
             ],
             [
              0.5555555555555556,
              "#d8576b"
             ],
             [
              0.6666666666666666,
              "#ed7953"
             ],
             [
              0.7777777777777778,
              "#fb9f3a"
             ],
             [
              0.8888888888888888,
              "#fdca26"
             ],
             [
              1,
              "#f0f921"
             ]
            ],
            "type": "surface"
           }
          ],
          "table": [
           {
            "cells": {
             "fill": {
              "color": "#EBF0F8"
             },
             "line": {
              "color": "white"
             }
            },
            "header": {
             "fill": {
              "color": "#C8D4E3"
             },
             "line": {
              "color": "white"
             }
            },
            "type": "table"
           }
          ]
         },
         "layout": {
          "annotationdefaults": {
           "arrowcolor": "#2a3f5f",
           "arrowhead": 0,
           "arrowwidth": 1
          },
          "coloraxis": {
           "colorbar": {
            "outlinewidth": 0,
            "ticks": ""
           }
          },
          "colorscale": {
           "diverging": [
            [
             0,
             "#8e0152"
            ],
            [
             0.1,
             "#c51b7d"
            ],
            [
             0.2,
             "#de77ae"
            ],
            [
             0.3,
             "#f1b6da"
            ],
            [
             0.4,
             "#fde0ef"
            ],
            [
             0.5,
             "#f7f7f7"
            ],
            [
             0.6,
             "#e6f5d0"
            ],
            [
             0.7,
             "#b8e186"
            ],
            [
             0.8,
             "#7fbc41"
            ],
            [
             0.9,
             "#4d9221"
            ],
            [
             1,
             "#276419"
            ]
           ],
           "sequential": [
            [
             0,
             "#0d0887"
            ],
            [
             0.1111111111111111,
             "#46039f"
            ],
            [
             0.2222222222222222,
             "#7201a8"
            ],
            [
             0.3333333333333333,
             "#9c179e"
            ],
            [
             0.4444444444444444,
             "#bd3786"
            ],
            [
             0.5555555555555556,
             "#d8576b"
            ],
            [
             0.6666666666666666,
             "#ed7953"
            ],
            [
             0.7777777777777778,
             "#fb9f3a"
            ],
            [
             0.8888888888888888,
             "#fdca26"
            ],
            [
             1,
             "#f0f921"
            ]
           ],
           "sequentialminus": [
            [
             0,
             "#0d0887"
            ],
            [
             0.1111111111111111,
             "#46039f"
            ],
            [
             0.2222222222222222,
             "#7201a8"
            ],
            [
             0.3333333333333333,
             "#9c179e"
            ],
            [
             0.4444444444444444,
             "#bd3786"
            ],
            [
             0.5555555555555556,
             "#d8576b"
            ],
            [
             0.6666666666666666,
             "#ed7953"
            ],
            [
             0.7777777777777778,
             "#fb9f3a"
            ],
            [
             0.8888888888888888,
             "#fdca26"
            ],
            [
             1,
             "#f0f921"
            ]
           ]
          },
          "colorway": [
           "#636efa",
           "#EF553B",
           "#00cc96",
           "#ab63fa",
           "#FFA15A",
           "#19d3f3",
           "#FF6692",
           "#B6E880",
           "#FF97FF",
           "#FECB52"
          ],
          "font": {
           "color": "#2a3f5f"
          },
          "geo": {
           "bgcolor": "white",
           "lakecolor": "white",
           "landcolor": "#E5ECF6",
           "showlakes": true,
           "showland": true,
           "subunitcolor": "white"
          },
          "hoverlabel": {
           "align": "left"
          },
          "hovermode": "closest",
          "mapbox": {
           "style": "light"
          },
          "paper_bgcolor": "white",
          "plot_bgcolor": "#E5ECF6",
          "polar": {
           "angularaxis": {
            "gridcolor": "white",
            "linecolor": "white",
            "ticks": ""
           },
           "bgcolor": "#E5ECF6",
           "radialaxis": {
            "gridcolor": "white",
            "linecolor": "white",
            "ticks": ""
           }
          },
          "scene": {
           "xaxis": {
            "backgroundcolor": "#E5ECF6",
            "gridcolor": "white",
            "gridwidth": 2,
            "linecolor": "white",
            "showbackground": true,
            "ticks": "",
            "zerolinecolor": "white"
           },
           "yaxis": {
            "backgroundcolor": "#E5ECF6",
            "gridcolor": "white",
            "gridwidth": 2,
            "linecolor": "white",
            "showbackground": true,
            "ticks": "",
            "zerolinecolor": "white"
           },
           "zaxis": {
            "backgroundcolor": "#E5ECF6",
            "gridcolor": "white",
            "gridwidth": 2,
            "linecolor": "white",
            "showbackground": true,
            "ticks": "",
            "zerolinecolor": "white"
           }
          },
          "shapedefaults": {
           "line": {
            "color": "#2a3f5f"
           }
          },
          "ternary": {
           "aaxis": {
            "gridcolor": "white",
            "linecolor": "white",
            "ticks": ""
           },
           "baxis": {
            "gridcolor": "white",
            "linecolor": "white",
            "ticks": ""
           },
           "bgcolor": "#E5ECF6",
           "caxis": {
            "gridcolor": "white",
            "linecolor": "white",
            "ticks": ""
           }
          },
          "title": {
           "x": 0.05
          },
          "xaxis": {
           "automargin": true,
           "gridcolor": "white",
           "linecolor": "white",
           "ticks": "",
           "title": {
            "standoff": 15
           },
           "zerolinecolor": "white",
           "zerolinewidth": 2
          },
          "yaxis": {
           "automargin": true,
           "gridcolor": "white",
           "linecolor": "white",
           "ticks": "",
           "title": {
            "standoff": 15
           },
           "zerolinecolor": "white",
           "zerolinewidth": 2
          }
         }
        },
        "title": {
         "text": "Calories and Cups per ounce distribution change between 1993 and 2020"
        },
        "xaxis": {
         "anchor": "y",
         "domain": [
          0,
          0.45
         ]
        },
        "xaxis2": {
         "anchor": "y2",
         "domain": [
          0.55,
          1
         ]
        },
        "yaxis": {
         "anchor": "x",
         "domain": [
          0,
          1
         ]
        },
        "yaxis2": {
         "anchor": "x2",
         "domain": [
          0,
          1
         ]
        }
       }
      },
      "text/html": [
       "<div>                            <div id=\"2fa27a31-94b0-48b6-8e83-28b491fb38c1\" class=\"plotly-graph-div\" style=\"height:525px; width:100%;\"></div>            <script type=\"text/javascript\">                require([\"plotly\"], function(Plotly) {                    window.PLOTLYENV=window.PLOTLYENV || {};                                    if (document.getElementById(\"2fa27a31-94b0-48b6-8e83-28b491fb38c1\")) {                    Plotly.newPlot(                        \"2fa27a31-94b0-48b6-8e83-28b491fb38c1\",                        [{\"boxpoints\": \"all\", \"name\": \"Calories\", \"text\": [\"100% Bran\", \"100% Natural Bran\", \"All-Bran\", \"All-Bran with Extra Fiber\", \"Almond Delight\", \"Apple Cinnamon Cheerios\", \"Apple Jacks\", \"Basic 4\", \"Bran Chex\", \"Bran Flakes\", \"Cap'n'Crunch\", \"Cheerios\", \"Cinnamon Toast Crunch\", \"Clusters\", \"Cocoa Puffs\", \"Corn Chex\", \"Corn Flakes\", \"Corn Pops\", \"Count Chocula\", \"Cracklin' Oat Bran\", \"Cream of Wheat (Quick)\", \"Crispix\", \"Crispy Wheat & Raisins\", \"Double Chex\", \"Froot Loops\", \"Frosted Flakes\", \"Frosted Mini-Wheats\", \"Fruit & Fibre Dates\", \"Fruitful Bran\", \"Fruity Pebbles\", \"Golden Crisp\", \"Golden Grahams\", \"Grape Nuts Flakes\", \"Grape-Nuts\", \"Great Grains Pecan\", \"Honey Graham Ohs\", \"Honey Nut Cheerios\", \"Honey-comb\", \"Just Right Crunchy  Nuggets\", \"Just Right Fruit & Nut\", \"Kix\", \"Life\", \"Lucky Charms\", \"Maypo\", \"Dates & Almonds\", \"Peaches & Pecans\", \"Mueslix Crispy Blend\", \"Multi-Grain Cheerios\", \"Nut&Honey Crunch\", \"Nutri-Grain Almond-Raisin\", \"Nutri-grain Wheat\", \"Oatmeal Raisin Crisp\", \"Post Nat. Raisin Bran\", \"Product 19\", \"Puffed Rice\", \"Puffed Wheat\", \"Quaker Oat Squares\", \"Quaker Oatmeal\", \"Raisin Bran\", \"Raisin Nut Bran\", \"Raisin Squares\", \"Rice Chex\", \"Rice Krispies\", \"Shredded Wheat\", \"Shredded Wheat 'n'Bran\", \"Shredded Wheat spoon size\", \"Smacks\", \"Special K\", \"Strawberry Fruit Wheats\", \"Total Corn Flakes\", \"Total Raisin Bran\", \"Total Whole Grain\", \"Triples\", \"Trix\", \"Walnuts & Oats\", \"Wheat Chex\", \"Wheaties\", \"Wheaties Honey Gold\", \"All-Bran Complete Wheat Flakes Cereal\", \"Eggo\", \"Honey Smacks\", \"Krave Double Chocolate\", \"Peeps\", \"Smart Start\", \"Annie's Whole Grain Cereal\", \"Cascadian Farm Organic Raisin Bran\", \"Cheerios Multi Grain\", \"Chex Wheat Cereal\", \"Cookie Crisp\", \"Dunkaroos\", \"Fiber One\", \"Good Belly\", \"Larabar (Peanut Butter)\", \"Oatmeal Crisp\", \"Wonderworks (Peanut Butter)\", \"Ahold 100% Whole Grain\", \"Hannaford Frosted Flakes\", \"Martin's Food Lion\", \"Hannaford Tasteeos Cereal\", \"Ahold Vanilla Almond Cereal\", \"Kelloggs Special Fruit & Yogurt\", \"Kelloggs Special Original Cereal\", \"Quaker Life Cinnamon Multigrain\", \"Quaker Life Original Multigrain\", \"Quaker Life Ltd. Edition, Pumpkin Spice\", \"All-Bran\", \"Apple Jacks\", \"Basic 4\", \"Cocoa Puffs\", \"Corn Flakes\", \"Corn Pops\", \"Cracklin' Oat Bran\", \"Crispix\", \"Froot Loops\", \"Frosted Flakes\", \"Golden Grahams\", \"Kix\", \"Oatmeal Raisin Crisp\", \"Raisin Bran\", \"Raisin Nut Bran\", \"Rice Krispies\", \"Special K\", \"Total Whole Grain\", \"Trix\", \"Wheaties\"], \"type\": \"box\", \"x\": [1993, 1993, 1993, 1993, 1993, 1993, 1993, 1993, 1993, 1993, 1993, 1993, 1993, 1993, 1993, 1993, 1993, 1993, 1993, 1993, 1993, 1993, 1993, 1993, 1993, 1993, 1993, 1993, 1993, 1993, 1993, 1993, 1993, 1993, 1993, 1993, 1993, 1993, 1993, 1993, 1993, 1993, 1993, 1993, 1993, 1993, 1993, 1993, 1993, 1993, 1993, 1993, 1993, 1993, 1993, 1993, 1993, 1993, 1993, 1993, 1993, 1993, 1993, 1993, 1993, 1993, 1993, 1993, 1993, 1993, 1993, 1993, 1993, 1993, 1993, 1993, 1993, 2020, 2020, 2020, 2020, 2020, 2020, 2020, 2020, 2020, 2020, 2020, 2020, 2020, 2020, 2020, 2020, 2020, 2020, 2020, 2020, 2020, 2020, 2020, 2020, 2020, 2020, 2020, 2020, 2020, 2020, 2020, 2020, 2020, 2020, 2020, 2020, 2020, 2020, 2020, 2020, 2020, 2020, 2020, 2020, 2020, 2020, 2020, 2020], \"xaxis\": \"x\", \"y\": [70, 120, 70, 50, 110, 110, 110, 98, 90, 90, 120, 110, 120, 110, 110, 110, 100, 110, 110, 110, 100, 110, 100, 100, 110, 110, 100, 96, 90, 110, 100, 110, 100, 110, 120, 120, 110, 110, 110, 108, 110, 100, 110, 100, 150, 150, 107, 100, 120, 105, 90, 104, 90, 100, 100, 100, 100, 100, 90, 100, 90, 110, 110, 96, 90, 90, 110, 110, 90, 110, 93, 100, 110, 110, 96, 100, 100, 110, 120, 160, 130, 170, 110, 240, 160, 210, 150, 210, 140, 150, 90, 170, 280, 230, 160, 170, 150, 120, 111, 104, 111, 97, 83, 111, 83, 92, 109, 103, 110, 101, 106, 116, 109, 109, 100, 106, 113, 109, 91, 105, 106, 109, 128, 116, 102], \"yaxis\": \"y\"}, {\"boxpoints\": \"all\", \"name\": \"Cups\", \"text\": [\"100% Bran\", \"100% Natural Bran\", \"All-Bran\", \"All-Bran with Extra Fiber\", \"Almond Delight\", \"Apple Cinnamon Cheerios\", \"Apple Jacks\", \"Basic 4\", \"Bran Chex\", \"Bran Flakes\", \"Cap'n'Crunch\", \"Cheerios\", \"Cinnamon Toast Crunch\", \"Clusters\", \"Cocoa Puffs\", \"Corn Chex\", \"Corn Flakes\", \"Corn Pops\", \"Count Chocula\", \"Cracklin' Oat Bran\", \"Cream of Wheat (Quick)\", \"Crispix\", \"Crispy Wheat & Raisins\", \"Double Chex\", \"Froot Loops\", \"Frosted Flakes\", \"Frosted Mini-Wheats\", \"Fruit & Fibre Dates\", \"Fruitful Bran\", \"Fruity Pebbles\", \"Golden Crisp\", \"Golden Grahams\", \"Grape Nuts Flakes\", \"Grape-Nuts\", \"Great Grains Pecan\", \"Honey Graham Ohs\", \"Honey Nut Cheerios\", \"Honey-comb\", \"Just Right Crunchy  Nuggets\", \"Just Right Fruit & Nut\", \"Kix\", \"Life\", \"Lucky Charms\", \"Maypo\", \"Dates & Almonds\", \"Peaches & Pecans\", \"Mueslix Crispy Blend\", \"Multi-Grain Cheerios\", \"Nut&Honey Crunch\", \"Nutri-Grain Almond-Raisin\", \"Nutri-grain Wheat\", \"Oatmeal Raisin Crisp\", \"Post Nat. Raisin Bran\", \"Product 19\", \"Puffed Rice\", \"Puffed Wheat\", \"Quaker Oat Squares\", \"Quaker Oatmeal\", \"Raisin Bran\", \"Raisin Nut Bran\", \"Raisin Squares\", \"Rice Chex\", \"Rice Krispies\", \"Shredded Wheat\", \"Shredded Wheat 'n'Bran\", \"Shredded Wheat spoon size\", \"Smacks\", \"Special K\", \"Strawberry Fruit Wheats\", \"Total Corn Flakes\", \"Total Raisin Bran\", \"Total Whole Grain\", \"Triples\", \"Trix\", \"Walnuts & Oats\", \"Wheat Chex\", \"Wheaties\", \"Wheaties Honey Gold\", \"All-Bran Complete Wheat Flakes Cereal\", \"Eggo\", \"Honey Smacks\", \"Krave Double Chocolate\", \"Peeps\", \"Smart Start\", \"Annie's Whole Grain Cereal\", \"Cascadian Farm Organic Raisin Bran\", \"Cheerios Multi Grain\", \"Chex Wheat Cereal\", \"Cookie Crisp\", \"Dunkaroos\", \"Fiber One\", \"Good Belly\", \"Larabar (Peanut Butter)\", \"Oatmeal Crisp\", \"Wonderworks (Peanut Butter)\", \"Ahold 100% Whole Grain\", \"Hannaford Frosted Flakes\", \"Martin's Food Lion\", \"Hannaford Tasteeos Cereal\", \"Ahold Vanilla Almond Cereal\", \"Kelloggs Special Fruit & Yogurt\", \"Kelloggs Special Original Cereal\", \"Quaker Life Cinnamon Multigrain\", \"Quaker Life Original Multigrain\", \"Quaker Life Ltd. Edition, Pumpkin Spice\", \"All-Bran\", \"Apple Jacks\", \"Basic 4\", \"Cocoa Puffs\", \"Corn Flakes\", \"Corn Pops\", \"Cracklin' Oat Bran\", \"Crispix\", \"Froot Loops\", \"Frosted Flakes\", \"Golden Grahams\", \"Kix\", \"Oatmeal Raisin Crisp\", \"Raisin Bran\", \"Raisin Nut Bran\", \"Rice Krispies\", \"Special K\", \"Total Whole Grain\", \"Trix\", \"Wheaties\"], \"type\": \"box\", \"x\": [1993, 1993, 1993, 1993, 1993, 1993, 1993, 1993, 1993, 1993, 1993, 1993, 1993, 1993, 1993, 1993, 1993, 1993, 1993, 1993, 1993, 1993, 1993, 1993, 1993, 1993, 1993, 1993, 1993, 1993, 1993, 1993, 1993, 1993, 1993, 1993, 1993, 1993, 1993, 1993, 1993, 1993, 1993, 1993, 1993, 1993, 1993, 1993, 1993, 1993, 1993, 1993, 1993, 1993, 1993, 1993, 1993, 1993, 1993, 1993, 1993, 1993, 1993, 1993, 1993, 1993, 1993, 1993, 1993, 1993, 1993, 1993, 1993, 1993, 1993, 1993, 1993, 2020, 2020, 2020, 2020, 2020, 2020, 2020, 2020, 2020, 2020, 2020, 2020, 2020, 2020, 2020, 2020, 2020, 2020, 2020, 2020, 2020, 2020, 2020, 2020, 2020, 2020, 2020, 2020, 2020, 2020, 2020, 2020, 2020, 2020, 2020, 2020, 2020, 2020, 2020, 2020, 2020, 2020, 2020, 2020, 2020, 2020, 2020, 2020], \"xaxis\": \"x2\", \"y\": [0.33, 1.0, 0.33, 0.5, 0.75, 0.75, 1.0, 0.56, 0.67, 0.67, 0.75, 1.25, 0.75, 0.5, 1.0, 1.0, 1.0, 1.0, 1.0, 0.5, 1.0, 1.0, 0.75, 0.75, 1.0, 0.75, 0.8, 0.54, 0.5, 0.75, 0.88, 0.75, 0.88, 0.25, 0.33, 1.0, 0.75, 1.33, 1.0, 0.58, 1.5, 0.67, 1.0, 1.0, 1.0, 1.0, 0.45, 1.0, 0.67, 0.5, 1.0, 0.4, 0.5, 1.0, 2.0, 2.0, 0.5, 0.67, 0.56, 0.5, 0.5, 1.13, 1.0, 1.2, 0.67, 0.67, 0.75, 1.0, 1.0, 1.0, 0.67, 1.0, 0.75, 1.0, 0.54, 0.67, 1.0, 0.75, 0.77, 0.86, 0.79, 0.69, 0.98, 0.55, 0.66, 0.55, 0.97, 0.48, 0.79, 0.73, 0.47, 0.82, 0.33, 0.47, 0.71, 0.71, 0.75, 0.73, 1.04, 0.0, 0.7, 0.84, 0.7, 0.72, 0.71, 1.31, 1.83, 0.52, 1.27, 2.22, 1.88, 1.48, 1.83, 1.83, 1.31, 1.41, 2.12, 2.12, 2.08, 2.29, 2.12, 1.72, 1.41, 1.72, 1.27], \"yaxis\": \"y2\"}],                        {\"annotations\": [{\"font\": {\"size\": 16}, \"showarrow\": false, \"text\": \"Calories\", \"x\": 0.225, \"xanchor\": \"center\", \"xref\": \"paper\", \"y\": 1.0, \"yanchor\": \"bottom\", \"yref\": \"paper\"}, {\"font\": {\"size\": 16}, \"showarrow\": false, \"text\": \"Cups\", \"x\": 0.775, \"xanchor\": \"center\", \"xref\": \"paper\", \"y\": 1.0, \"yanchor\": \"bottom\", \"yref\": \"paper\"}], \"boxmode\": \"group\", \"showlegend\": false, \"template\": {\"data\": {\"bar\": [{\"error_x\": {\"color\": \"#2a3f5f\"}, \"error_y\": {\"color\": \"#2a3f5f\"}, \"marker\": {\"line\": {\"color\": \"#E5ECF6\", \"width\": 0.5}}, \"type\": \"bar\"}], \"barpolar\": [{\"marker\": {\"line\": {\"color\": \"#E5ECF6\", \"width\": 0.5}}, \"type\": \"barpolar\"}], \"carpet\": [{\"aaxis\": {\"endlinecolor\": \"#2a3f5f\", \"gridcolor\": \"white\", \"linecolor\": \"white\", \"minorgridcolor\": \"white\", \"startlinecolor\": \"#2a3f5f\"}, \"baxis\": {\"endlinecolor\": \"#2a3f5f\", \"gridcolor\": \"white\", \"linecolor\": \"white\", \"minorgridcolor\": \"white\", \"startlinecolor\": \"#2a3f5f\"}, \"type\": \"carpet\"}], \"choropleth\": [{\"colorbar\": {\"outlinewidth\": 0, \"ticks\": \"\"}, \"type\": \"choropleth\"}], \"contour\": [{\"colorbar\": {\"outlinewidth\": 0, \"ticks\": \"\"}, \"colorscale\": [[0.0, \"#0d0887\"], [0.1111111111111111, \"#46039f\"], [0.2222222222222222, \"#7201a8\"], [0.3333333333333333, \"#9c179e\"], [0.4444444444444444, \"#bd3786\"], [0.5555555555555556, \"#d8576b\"], [0.6666666666666666, \"#ed7953\"], [0.7777777777777778, \"#fb9f3a\"], [0.8888888888888888, \"#fdca26\"], [1.0, \"#f0f921\"]], \"type\": \"contour\"}], \"contourcarpet\": [{\"colorbar\": {\"outlinewidth\": 0, \"ticks\": \"\"}, \"type\": \"contourcarpet\"}], \"heatmap\": [{\"colorbar\": {\"outlinewidth\": 0, \"ticks\": \"\"}, \"colorscale\": [[0.0, \"#0d0887\"], [0.1111111111111111, \"#46039f\"], [0.2222222222222222, \"#7201a8\"], [0.3333333333333333, \"#9c179e\"], [0.4444444444444444, \"#bd3786\"], [0.5555555555555556, \"#d8576b\"], [0.6666666666666666, \"#ed7953\"], [0.7777777777777778, \"#fb9f3a\"], [0.8888888888888888, \"#fdca26\"], [1.0, \"#f0f921\"]], \"type\": \"heatmap\"}], \"heatmapgl\": [{\"colorbar\": {\"outlinewidth\": 0, \"ticks\": \"\"}, \"colorscale\": [[0.0, \"#0d0887\"], [0.1111111111111111, \"#46039f\"], [0.2222222222222222, \"#7201a8\"], [0.3333333333333333, \"#9c179e\"], [0.4444444444444444, \"#bd3786\"], [0.5555555555555556, \"#d8576b\"], [0.6666666666666666, \"#ed7953\"], [0.7777777777777778, \"#fb9f3a\"], [0.8888888888888888, \"#fdca26\"], [1.0, \"#f0f921\"]], \"type\": \"heatmapgl\"}], \"histogram\": [{\"marker\": {\"colorbar\": {\"outlinewidth\": 0, \"ticks\": \"\"}}, \"type\": \"histogram\"}], \"histogram2d\": [{\"colorbar\": {\"outlinewidth\": 0, \"ticks\": \"\"}, \"colorscale\": [[0.0, \"#0d0887\"], [0.1111111111111111, \"#46039f\"], [0.2222222222222222, \"#7201a8\"], [0.3333333333333333, \"#9c179e\"], [0.4444444444444444, \"#bd3786\"], [0.5555555555555556, \"#d8576b\"], [0.6666666666666666, \"#ed7953\"], [0.7777777777777778, \"#fb9f3a\"], [0.8888888888888888, \"#fdca26\"], [1.0, \"#f0f921\"]], \"type\": \"histogram2d\"}], \"histogram2dcontour\": [{\"colorbar\": {\"outlinewidth\": 0, \"ticks\": \"\"}, \"colorscale\": [[0.0, \"#0d0887\"], [0.1111111111111111, \"#46039f\"], [0.2222222222222222, \"#7201a8\"], [0.3333333333333333, \"#9c179e\"], [0.4444444444444444, \"#bd3786\"], [0.5555555555555556, \"#d8576b\"], [0.6666666666666666, \"#ed7953\"], [0.7777777777777778, \"#fb9f3a\"], [0.8888888888888888, \"#fdca26\"], [1.0, \"#f0f921\"]], \"type\": \"histogram2dcontour\"}], \"mesh3d\": [{\"colorbar\": {\"outlinewidth\": 0, \"ticks\": \"\"}, \"type\": \"mesh3d\"}], \"parcoords\": [{\"line\": {\"colorbar\": {\"outlinewidth\": 0, \"ticks\": \"\"}}, \"type\": \"parcoords\"}], \"pie\": [{\"automargin\": true, \"type\": \"pie\"}], \"scatter\": [{\"marker\": {\"colorbar\": {\"outlinewidth\": 0, \"ticks\": \"\"}}, \"type\": \"scatter\"}], \"scatter3d\": [{\"line\": {\"colorbar\": {\"outlinewidth\": 0, \"ticks\": \"\"}}, \"marker\": {\"colorbar\": {\"outlinewidth\": 0, \"ticks\": \"\"}}, \"type\": \"scatter3d\"}], \"scattercarpet\": [{\"marker\": {\"colorbar\": {\"outlinewidth\": 0, \"ticks\": \"\"}}, \"type\": \"scattercarpet\"}], \"scattergeo\": [{\"marker\": {\"colorbar\": {\"outlinewidth\": 0, \"ticks\": \"\"}}, \"type\": \"scattergeo\"}], \"scattergl\": [{\"marker\": {\"colorbar\": {\"outlinewidth\": 0, \"ticks\": \"\"}}, \"type\": \"scattergl\"}], \"scattermapbox\": [{\"marker\": {\"colorbar\": {\"outlinewidth\": 0, \"ticks\": \"\"}}, \"type\": \"scattermapbox\"}], \"scatterpolar\": [{\"marker\": {\"colorbar\": {\"outlinewidth\": 0, \"ticks\": \"\"}}, \"type\": \"scatterpolar\"}], \"scatterpolargl\": [{\"marker\": {\"colorbar\": {\"outlinewidth\": 0, \"ticks\": \"\"}}, \"type\": \"scatterpolargl\"}], \"scatterternary\": [{\"marker\": {\"colorbar\": {\"outlinewidth\": 0, \"ticks\": \"\"}}, \"type\": \"scatterternary\"}], \"surface\": [{\"colorbar\": {\"outlinewidth\": 0, \"ticks\": \"\"}, \"colorscale\": [[0.0, \"#0d0887\"], [0.1111111111111111, \"#46039f\"], [0.2222222222222222, \"#7201a8\"], [0.3333333333333333, \"#9c179e\"], [0.4444444444444444, \"#bd3786\"], [0.5555555555555556, \"#d8576b\"], [0.6666666666666666, \"#ed7953\"], [0.7777777777777778, \"#fb9f3a\"], [0.8888888888888888, \"#fdca26\"], [1.0, \"#f0f921\"]], \"type\": \"surface\"}], \"table\": [{\"cells\": {\"fill\": {\"color\": \"#EBF0F8\"}, \"line\": {\"color\": \"white\"}}, \"header\": {\"fill\": {\"color\": \"#C8D4E3\"}, \"line\": {\"color\": \"white\"}}, \"type\": \"table\"}]}, \"layout\": {\"annotationdefaults\": {\"arrowcolor\": \"#2a3f5f\", \"arrowhead\": 0, \"arrowwidth\": 1}, \"coloraxis\": {\"colorbar\": {\"outlinewidth\": 0, \"ticks\": \"\"}}, \"colorscale\": {\"diverging\": [[0, \"#8e0152\"], [0.1, \"#c51b7d\"], [0.2, \"#de77ae\"], [0.3, \"#f1b6da\"], [0.4, \"#fde0ef\"], [0.5, \"#f7f7f7\"], [0.6, \"#e6f5d0\"], [0.7, \"#b8e186\"], [0.8, \"#7fbc41\"], [0.9, \"#4d9221\"], [1, \"#276419\"]], \"sequential\": [[0.0, \"#0d0887\"], [0.1111111111111111, \"#46039f\"], [0.2222222222222222, \"#7201a8\"], [0.3333333333333333, \"#9c179e\"], [0.4444444444444444, \"#bd3786\"], [0.5555555555555556, \"#d8576b\"], [0.6666666666666666, \"#ed7953\"], [0.7777777777777778, \"#fb9f3a\"], [0.8888888888888888, \"#fdca26\"], [1.0, \"#f0f921\"]], \"sequentialminus\": [[0.0, \"#0d0887\"], [0.1111111111111111, \"#46039f\"], [0.2222222222222222, \"#7201a8\"], [0.3333333333333333, \"#9c179e\"], [0.4444444444444444, \"#bd3786\"], [0.5555555555555556, \"#d8576b\"], [0.6666666666666666, \"#ed7953\"], [0.7777777777777778, \"#fb9f3a\"], [0.8888888888888888, \"#fdca26\"], [1.0, \"#f0f921\"]]}, \"colorway\": [\"#636efa\", \"#EF553B\", \"#00cc96\", \"#ab63fa\", \"#FFA15A\", \"#19d3f3\", \"#FF6692\", \"#B6E880\", \"#FF97FF\", \"#FECB52\"], \"font\": {\"color\": \"#2a3f5f\"}, \"geo\": {\"bgcolor\": \"white\", \"lakecolor\": \"white\", \"landcolor\": \"#E5ECF6\", \"showlakes\": true, \"showland\": true, \"subunitcolor\": \"white\"}, \"hoverlabel\": {\"align\": \"left\"}, \"hovermode\": \"closest\", \"mapbox\": {\"style\": \"light\"}, \"paper_bgcolor\": \"white\", \"plot_bgcolor\": \"#E5ECF6\", \"polar\": {\"angularaxis\": {\"gridcolor\": \"white\", \"linecolor\": \"white\", \"ticks\": \"\"}, \"bgcolor\": \"#E5ECF6\", \"radialaxis\": {\"gridcolor\": \"white\", \"linecolor\": \"white\", \"ticks\": \"\"}}, \"scene\": {\"xaxis\": {\"backgroundcolor\": \"#E5ECF6\", \"gridcolor\": \"white\", \"gridwidth\": 2, \"linecolor\": \"white\", \"showbackground\": true, \"ticks\": \"\", \"zerolinecolor\": \"white\"}, \"yaxis\": {\"backgroundcolor\": \"#E5ECF6\", \"gridcolor\": \"white\", \"gridwidth\": 2, \"linecolor\": \"white\", \"showbackground\": true, \"ticks\": \"\", \"zerolinecolor\": \"white\"}, \"zaxis\": {\"backgroundcolor\": \"#E5ECF6\", \"gridcolor\": \"white\", \"gridwidth\": 2, \"linecolor\": \"white\", \"showbackground\": true, \"ticks\": \"\", \"zerolinecolor\": \"white\"}}, \"shapedefaults\": {\"line\": {\"color\": \"#2a3f5f\"}}, \"ternary\": {\"aaxis\": {\"gridcolor\": \"white\", \"linecolor\": \"white\", \"ticks\": \"\"}, \"baxis\": {\"gridcolor\": \"white\", \"linecolor\": \"white\", \"ticks\": \"\"}, \"bgcolor\": \"#E5ECF6\", \"caxis\": {\"gridcolor\": \"white\", \"linecolor\": \"white\", \"ticks\": \"\"}}, \"title\": {\"x\": 0.05}, \"xaxis\": {\"automargin\": true, \"gridcolor\": \"white\", \"linecolor\": \"white\", \"ticks\": \"\", \"title\": {\"standoff\": 15}, \"zerolinecolor\": \"white\", \"zerolinewidth\": 2}, \"yaxis\": {\"automargin\": true, \"gridcolor\": \"white\", \"linecolor\": \"white\", \"ticks\": \"\", \"title\": {\"standoff\": 15}, \"zerolinecolor\": \"white\", \"zerolinewidth\": 2}}}, \"title\": {\"text\": \"Calories and Cups per ounce distribution change between 1993 and 2020\"}, \"xaxis\": {\"anchor\": \"y\", \"domain\": [0.0, 0.45]}, \"xaxis2\": {\"anchor\": \"y2\", \"domain\": [0.55, 1.0]}, \"yaxis\": {\"anchor\": \"x\", \"domain\": [0.0, 1.0]}, \"yaxis2\": {\"anchor\": \"x2\", \"domain\": [0.0, 1.0]}},                        {\"responsive\": true}                    ).then(function(){\n",
       "                            \n",
       "var gd = document.getElementById('2fa27a31-94b0-48b6-8e83-28b491fb38c1');\n",
       "var x = new MutationObserver(function (mutations, observer) {{\n",
       "        var display = window.getComputedStyle(gd).display;\n",
       "        if (!display || display === 'none') {{\n",
       "            console.log([gd, 'removed!']);\n",
       "            Plotly.purge(gd);\n",
       "            observer.disconnect();\n",
       "        }}\n",
       "}});\n",
       "\n",
       "// Listen for the removal of the full notebook cells\n",
       "var notebookContainer = gd.closest('#notebook-container');\n",
       "if (notebookContainer) {{\n",
       "    x.observe(notebookContainer, {childList: true});\n",
       "}}\n",
       "\n",
       "// Listen for the clearing of the current output cell\n",
       "var outputEl = gd.closest('.output');\n",
       "if (outputEl) {{\n",
       "    x.observe(outputEl, {childList: true});\n",
       "}}\n",
       "\n",
       "                        })                };                });            </script>        </div>"
      ]
     },
     "metadata": {},
     "output_type": "display_data"
    }
   ],
   "source": [
    "fig = make_subplots(rows = 1, cols = 2, \n",
    "                    subplot_titles = ('Calories', 'Cups'))\n",
    "\n",
    "for col_name in (int_col_names[0:1]):\n",
    "    fig.add_trace(go.Box(y = df_main[col_name], x = df_main.Year, name = col_name, text = df_main['Name'], \n",
    "                         boxpoints='all'), row = 1, col = 1)\n",
    "\n",
    "for col_name in float_col_names[-2:-1]:\n",
    "    fig.add_trace(go.Box(y = df_main[col_name], x = df_main.Year, name = col_name, text = df_main['Name'],\n",
    "                         boxpoints='all'), row = 1, col = 2)\n",
    "\n",
    "fig.update_layout(showlegend = False, boxmode = 'group',\n",
    "                  title_text = 'Calories and Cups per ounce distribution change between 1993 and 2020')\n",
    "fig.show()"
   ]
  },
  {
   "cell_type": "markdown",
   "metadata": {},
   "source": [
    "#### `Protein`, `Fat`, `Fiber`, `Carbohydrate` and `Sugar`"
   ]
  },
  {
   "cell_type": "code",
   "execution_count": 22,
   "metadata": {
    "ExecuteTime": {
     "end_time": "2021-03-21T10:46:07.979199Z",
     "start_time": "2021-03-21T10:46:07.891198Z"
    }
   },
   "outputs": [
    {
     "data": {
      "application/vnd.plotly.v1+json": {
       "config": {
        "plotlyServerURL": "https://plotly.com"
       },
       "data": [
        {
         "name": "Protein",
         "text": [
          "100% Bran",
          "100% Natural Bran",
          "All-Bran",
          "All-Bran with Extra Fiber",
          "Almond Delight",
          "Apple Cinnamon Cheerios",
          "Apple Jacks",
          "Basic 4",
          "Bran Chex",
          "Bran Flakes",
          "Cap'n'Crunch",
          "Cheerios",
          "Cinnamon Toast Crunch",
          "Clusters",
          "Cocoa Puffs",
          "Corn Chex",
          "Corn Flakes",
          "Corn Pops",
          "Count Chocula",
          "Cracklin' Oat Bran",
          "Cream of Wheat (Quick)",
          "Crispix",
          "Crispy Wheat & Raisins",
          "Double Chex",
          "Froot Loops",
          "Frosted Flakes",
          "Frosted Mini-Wheats",
          "Fruit & Fibre Dates",
          "Fruitful Bran",
          "Fruity Pebbles",
          "Golden Crisp",
          "Golden Grahams",
          "Grape Nuts Flakes",
          "Grape-Nuts",
          "Great Grains Pecan",
          "Honey Graham Ohs",
          "Honey Nut Cheerios",
          "Honey-comb",
          "Just Right Crunchy  Nuggets",
          "Just Right Fruit & Nut",
          "Kix",
          "Life",
          "Lucky Charms",
          "Maypo",
          "Dates & Almonds",
          "Peaches & Pecans",
          "Mueslix Crispy Blend",
          "Multi-Grain Cheerios",
          "Nut&Honey Crunch",
          "Nutri-Grain Almond-Raisin",
          "Nutri-grain Wheat",
          "Oatmeal Raisin Crisp",
          "Post Nat. Raisin Bran",
          "Product 19",
          "Puffed Rice",
          "Puffed Wheat",
          "Quaker Oat Squares",
          "Quaker Oatmeal",
          "Raisin Bran",
          "Raisin Nut Bran",
          "Raisin Squares",
          "Rice Chex",
          "Rice Krispies",
          "Shredded Wheat",
          "Shredded Wheat 'n'Bran",
          "Shredded Wheat spoon size",
          "Smacks",
          "Special K",
          "Strawberry Fruit Wheats",
          "Total Corn Flakes",
          "Total Raisin Bran",
          "Total Whole Grain",
          "Triples",
          "Trix",
          "Walnuts & Oats",
          "Wheat Chex",
          "Wheaties",
          "Wheaties Honey Gold",
          "All-Bran Complete Wheat Flakes Cereal",
          "Eggo",
          "Honey Smacks",
          "Krave Double Chocolate",
          "Peeps",
          "Smart Start",
          "Annie's Whole Grain Cereal",
          "Cascadian Farm Organic Raisin Bran",
          "Cheerios Multi Grain",
          "Chex Wheat Cereal",
          "Cookie Crisp",
          "Dunkaroos",
          "Fiber One",
          "Good Belly",
          "Larabar (Peanut Butter)",
          "Oatmeal Crisp",
          "Wonderworks (Peanut Butter)",
          "Ahold 100% Whole Grain",
          "Hannaford Frosted Flakes",
          "Martin's Food Lion",
          "Hannaford Tasteeos Cereal",
          "Ahold Vanilla Almond Cereal",
          "Kelloggs Special Fruit & Yogurt",
          "Kelloggs Special Original Cereal",
          "Quaker Life Cinnamon Multigrain",
          "Quaker Life Original Multigrain",
          "Quaker Life Ltd. Edition, Pumpkin Spice",
          "All-Bran",
          "Apple Jacks",
          "Basic 4",
          "Cocoa Puffs",
          "Corn Flakes",
          "Corn Pops",
          "Cracklin' Oat Bran",
          "Crispix",
          "Froot Loops",
          "Frosted Flakes",
          "Golden Grahams",
          "Kix",
          "Oatmeal Raisin Crisp",
          "Raisin Bran",
          "Raisin Nut Bran",
          "Rice Krispies",
          "Special K",
          "Total Whole Grain",
          "Trix",
          "Wheaties"
         ],
         "type": "box",
         "x": [
          1993,
          1993,
          1993,
          1993,
          1993,
          1993,
          1993,
          1993,
          1993,
          1993,
          1993,
          1993,
          1993,
          1993,
          1993,
          1993,
          1993,
          1993,
          1993,
          1993,
          1993,
          1993,
          1993,
          1993,
          1993,
          1993,
          1993,
          1993,
          1993,
          1993,
          1993,
          1993,
          1993,
          1993,
          1993,
          1993,
          1993,
          1993,
          1993,
          1993,
          1993,
          1993,
          1993,
          1993,
          1993,
          1993,
          1993,
          1993,
          1993,
          1993,
          1993,
          1993,
          1993,
          1993,
          1993,
          1993,
          1993,
          1993,
          1993,
          1993,
          1993,
          1993,
          1993,
          1993,
          1993,
          1993,
          1993,
          1993,
          1993,
          1993,
          1993,
          1993,
          1993,
          1993,
          1993,
          1993,
          1993,
          2020,
          2020,
          2020,
          2020,
          2020,
          2020,
          2020,
          2020,
          2020,
          2020,
          2020,
          2020,
          2020,
          2020,
          2020,
          2020,
          2020,
          2020,
          2020,
          2020,
          2020,
          2020,
          2020,
          2020,
          2020,
          2020,
          2020,
          2020,
          2020,
          2020,
          2020,
          2020,
          2020,
          2020,
          2020,
          2020,
          2020,
          2020,
          2020,
          2020,
          2020,
          2020,
          2020,
          2020,
          2020,
          2020,
          2020,
          2020
         ],
         "y": [
          4,
          3,
          4,
          4,
          2,
          2,
          2,
          2,
          2,
          3,
          1,
          6,
          1,
          3,
          1,
          2,
          2,
          1,
          1,
          3,
          3,
          2,
          2,
          2,
          2,
          1,
          3,
          2,
          2,
          1,
          2,
          1,
          3,
          3,
          3,
          1,
          3,
          1,
          2,
          2,
          2,
          4,
          2,
          4,
          4,
          4,
          2,
          2,
          2,
          2,
          3,
          2,
          2,
          3,
          2,
          4,
          4,
          5,
          2,
          3,
          2,
          1,
          2,
          2,
          3,
          3,
          2,
          6,
          2,
          2,
          2,
          3,
          2,
          1,
          2,
          3,
          3,
          2,
          3,
          2,
          2,
          2,
          1,
          2,
          3,
          2,
          2,
          3,
          2,
          1,
          2,
          3,
          3,
          3,
          12,
          3,
          1,
          3,
          3,
          2,
          2,
          5,
          2,
          3,
          2,
          3,
          1,
          2,
          2,
          2,
          1,
          2,
          2,
          1,
          2,
          1,
          2,
          1,
          2,
          2,
          2,
          5,
          6,
          1,
          2
         ]
        },
        {
         "name": "Fat",
         "text": [
          "100% Bran",
          "100% Natural Bran",
          "All-Bran",
          "All-Bran with Extra Fiber",
          "Almond Delight",
          "Apple Cinnamon Cheerios",
          "Apple Jacks",
          "Basic 4",
          "Bran Chex",
          "Bran Flakes",
          "Cap'n'Crunch",
          "Cheerios",
          "Cinnamon Toast Crunch",
          "Clusters",
          "Cocoa Puffs",
          "Corn Chex",
          "Corn Flakes",
          "Corn Pops",
          "Count Chocula",
          "Cracklin' Oat Bran",
          "Cream of Wheat (Quick)",
          "Crispix",
          "Crispy Wheat & Raisins",
          "Double Chex",
          "Froot Loops",
          "Frosted Flakes",
          "Frosted Mini-Wheats",
          "Fruit & Fibre Dates",
          "Fruitful Bran",
          "Fruity Pebbles",
          "Golden Crisp",
          "Golden Grahams",
          "Grape Nuts Flakes",
          "Grape-Nuts",
          "Great Grains Pecan",
          "Honey Graham Ohs",
          "Honey Nut Cheerios",
          "Honey-comb",
          "Just Right Crunchy  Nuggets",
          "Just Right Fruit & Nut",
          "Kix",
          "Life",
          "Lucky Charms",
          "Maypo",
          "Dates & Almonds",
          "Peaches & Pecans",
          "Mueslix Crispy Blend",
          "Multi-Grain Cheerios",
          "Nut&Honey Crunch",
          "Nutri-Grain Almond-Raisin",
          "Nutri-grain Wheat",
          "Oatmeal Raisin Crisp",
          "Post Nat. Raisin Bran",
          "Product 19",
          "Puffed Rice",
          "Puffed Wheat",
          "Quaker Oat Squares",
          "Quaker Oatmeal",
          "Raisin Bran",
          "Raisin Nut Bran",
          "Raisin Squares",
          "Rice Chex",
          "Rice Krispies",
          "Shredded Wheat",
          "Shredded Wheat 'n'Bran",
          "Shredded Wheat spoon size",
          "Smacks",
          "Special K",
          "Strawberry Fruit Wheats",
          "Total Corn Flakes",
          "Total Raisin Bran",
          "Total Whole Grain",
          "Triples",
          "Trix",
          "Walnuts & Oats",
          "Wheat Chex",
          "Wheaties",
          "Wheaties Honey Gold",
          "All-Bran Complete Wheat Flakes Cereal",
          "Eggo",
          "Honey Smacks",
          "Krave Double Chocolate",
          "Peeps",
          "Smart Start",
          "Annie's Whole Grain Cereal",
          "Cascadian Farm Organic Raisin Bran",
          "Cheerios Multi Grain",
          "Chex Wheat Cereal",
          "Cookie Crisp",
          "Dunkaroos",
          "Fiber One",
          "Good Belly",
          "Larabar (Peanut Butter)",
          "Oatmeal Crisp",
          "Wonderworks (Peanut Butter)",
          "Ahold 100% Whole Grain",
          "Hannaford Frosted Flakes",
          "Martin's Food Lion",
          "Hannaford Tasteeos Cereal",
          "Ahold Vanilla Almond Cereal",
          "Kelloggs Special Fruit & Yogurt",
          "Kelloggs Special Original Cereal",
          "Quaker Life Cinnamon Multigrain",
          "Quaker Life Original Multigrain",
          "Quaker Life Ltd. Edition, Pumpkin Spice",
          "All-Bran",
          "Apple Jacks",
          "Basic 4",
          "Cocoa Puffs",
          "Corn Flakes",
          "Corn Pops",
          "Cracklin' Oat Bran",
          "Crispix",
          "Froot Loops",
          "Frosted Flakes",
          "Golden Grahams",
          "Kix",
          "Oatmeal Raisin Crisp",
          "Raisin Bran",
          "Raisin Nut Bran",
          "Rice Krispies",
          "Special K",
          "Total Whole Grain",
          "Trix",
          "Wheaties"
         ],
         "type": "box",
         "x": [
          1993,
          1993,
          1993,
          1993,
          1993,
          1993,
          1993,
          1993,
          1993,
          1993,
          1993,
          1993,
          1993,
          1993,
          1993,
          1993,
          1993,
          1993,
          1993,
          1993,
          1993,
          1993,
          1993,
          1993,
          1993,
          1993,
          1993,
          1993,
          1993,
          1993,
          1993,
          1993,
          1993,
          1993,
          1993,
          1993,
          1993,
          1993,
          1993,
          1993,
          1993,
          1993,
          1993,
          1993,
          1993,
          1993,
          1993,
          1993,
          1993,
          1993,
          1993,
          1993,
          1993,
          1993,
          1993,
          1993,
          1993,
          1993,
          1993,
          1993,
          1993,
          1993,
          1993,
          1993,
          1993,
          1993,
          1993,
          1993,
          1993,
          1993,
          1993,
          1993,
          1993,
          1993,
          1993,
          1993,
          1993,
          2020,
          2020,
          2020,
          2020,
          2020,
          2020,
          2020,
          2020,
          2020,
          2020,
          2020,
          2020,
          2020,
          2020,
          2020,
          2020,
          2020,
          2020,
          2020,
          2020,
          2020,
          2020,
          2020,
          2020,
          2020,
          2020,
          2020,
          2020,
          2020,
          2020,
          2020,
          2020,
          2020,
          2020,
          2020,
          2020,
          2020,
          2020,
          2020,
          2020,
          2020,
          2020,
          2020,
          2020,
          2020,
          2020,
          2020,
          2020
         ],
         "y": [
          1,
          5,
          1,
          0,
          2,
          2,
          0,
          2,
          1,
          0,
          2,
          2,
          3,
          2,
          1,
          0,
          0,
          0,
          1,
          3,
          0,
          0,
          1,
          0,
          1,
          0,
          0,
          2,
          0,
          1,
          0,
          1,
          1,
          0,
          3,
          2,
          1,
          0,
          1,
          1,
          1,
          2,
          1,
          1,
          3,
          3,
          1,
          1,
          1,
          2,
          0,
          2,
          1,
          0,
          0,
          0,
          1,
          2,
          1,
          2,
          0,
          0,
          0,
          0,
          0,
          0,
          1,
          0,
          0,
          1,
          1,
          1,
          1,
          1,
          2,
          1,
          1,
          1,
          0,
          1,
          0,
          3,
          0,
          0,
          1,
          1,
          1,
          0,
          1,
          1,
          1,
          3,
          6,
          0,
          4,
          1,
          0,
          1,
          2,
          1,
          1,
          0,
          1,
          1,
          1,
          1,
          1,
          1,
          2,
          0,
          0,
          4,
          0,
          1,
          0,
          1,
          1,
          2,
          0,
          2,
          0,
          0,
          1,
          1,
          0
         ]
        },
        {
         "name": "Fiber",
         "text": [
          "100% Bran",
          "100% Natural Bran",
          "All-Bran",
          "All-Bran with Extra Fiber",
          "Almond Delight",
          "Apple Cinnamon Cheerios",
          "Apple Jacks",
          "Basic 4",
          "Bran Chex",
          "Bran Flakes",
          "Cap'n'Crunch",
          "Cheerios",
          "Cinnamon Toast Crunch",
          "Clusters",
          "Cocoa Puffs",
          "Corn Chex",
          "Corn Flakes",
          "Corn Pops",
          "Count Chocula",
          "Cracklin' Oat Bran",
          "Cream of Wheat (Quick)",
          "Crispix",
          "Crispy Wheat & Raisins",
          "Double Chex",
          "Froot Loops",
          "Frosted Flakes",
          "Frosted Mini-Wheats",
          "Fruit & Fibre Dates",
          "Fruitful Bran",
          "Fruity Pebbles",
          "Golden Crisp",
          "Golden Grahams",
          "Grape Nuts Flakes",
          "Grape-Nuts",
          "Great Grains Pecan",
          "Honey Graham Ohs",
          "Honey Nut Cheerios",
          "Honey-comb",
          "Just Right Crunchy  Nuggets",
          "Just Right Fruit & Nut",
          "Kix",
          "Life",
          "Lucky Charms",
          "Maypo",
          "Dates & Almonds",
          "Peaches & Pecans",
          "Mueslix Crispy Blend",
          "Multi-Grain Cheerios",
          "Nut&Honey Crunch",
          "Nutri-Grain Almond-Raisin",
          "Nutri-grain Wheat",
          "Oatmeal Raisin Crisp",
          "Post Nat. Raisin Bran",
          "Product 19",
          "Puffed Rice",
          "Puffed Wheat",
          "Quaker Oat Squares",
          "Quaker Oatmeal",
          "Raisin Bran",
          "Raisin Nut Bran",
          "Raisin Squares",
          "Rice Chex",
          "Rice Krispies",
          "Shredded Wheat",
          "Shredded Wheat 'n'Bran",
          "Shredded Wheat spoon size",
          "Smacks",
          "Special K",
          "Strawberry Fruit Wheats",
          "Total Corn Flakes",
          "Total Raisin Bran",
          "Total Whole Grain",
          "Triples",
          "Trix",
          "Walnuts & Oats",
          "Wheat Chex",
          "Wheaties",
          "Wheaties Honey Gold",
          "All-Bran Complete Wheat Flakes Cereal",
          "Eggo",
          "Honey Smacks",
          "Krave Double Chocolate",
          "Peeps",
          "Smart Start",
          "Annie's Whole Grain Cereal",
          "Cascadian Farm Organic Raisin Bran",
          "Cheerios Multi Grain",
          "Chex Wheat Cereal",
          "Cookie Crisp",
          "Dunkaroos",
          "Fiber One",
          "Good Belly",
          "Larabar (Peanut Butter)",
          "Oatmeal Crisp",
          "Wonderworks (Peanut Butter)",
          "Ahold 100% Whole Grain",
          "Hannaford Frosted Flakes",
          "Martin's Food Lion",
          "Hannaford Tasteeos Cereal",
          "Ahold Vanilla Almond Cereal",
          "Kelloggs Special Fruit & Yogurt",
          "Kelloggs Special Original Cereal",
          "Quaker Life Cinnamon Multigrain",
          "Quaker Life Original Multigrain",
          "Quaker Life Ltd. Edition, Pumpkin Spice",
          "All-Bran",
          "Apple Jacks",
          "Basic 4",
          "Cocoa Puffs",
          "Corn Flakes",
          "Corn Pops",
          "Cracklin' Oat Bran",
          "Crispix",
          "Froot Loops",
          "Frosted Flakes",
          "Golden Grahams",
          "Kix",
          "Oatmeal Raisin Crisp",
          "Raisin Bran",
          "Raisin Nut Bran",
          "Rice Krispies",
          "Special K",
          "Total Whole Grain",
          "Trix",
          "Wheaties"
         ],
         "type": "box",
         "x": [
          1993,
          1993,
          1993,
          1993,
          1993,
          1993,
          1993,
          1993,
          1993,
          1993,
          1993,
          1993,
          1993,
          1993,
          1993,
          1993,
          1993,
          1993,
          1993,
          1993,
          1993,
          1993,
          1993,
          1993,
          1993,
          1993,
          1993,
          1993,
          1993,
          1993,
          1993,
          1993,
          1993,
          1993,
          1993,
          1993,
          1993,
          1993,
          1993,
          1993,
          1993,
          1993,
          1993,
          1993,
          1993,
          1993,
          1993,
          1993,
          1993,
          1993,
          1993,
          1993,
          1993,
          1993,
          1993,
          1993,
          1993,
          1993,
          1993,
          1993,
          1993,
          1993,
          1993,
          1993,
          1993,
          1993,
          1993,
          1993,
          1993,
          1993,
          1993,
          1993,
          1993,
          1993,
          1993,
          1993,
          1993,
          2020,
          2020,
          2020,
          2020,
          2020,
          2020,
          2020,
          2020,
          2020,
          2020,
          2020,
          2020,
          2020,
          2020,
          2020,
          2020,
          2020,
          2020,
          2020,
          2020,
          2020,
          2020,
          2020,
          2020,
          2020,
          2020,
          2020,
          2020,
          2020,
          2020,
          2020,
          2020,
          2020,
          2020,
          2020,
          2020,
          2020,
          2020,
          2020,
          2020,
          2020,
          2020,
          2020,
          2020,
          2020,
          2020,
          2020,
          2020
         ],
         "y": [
          10,
          2,
          9,
          14,
          1,
          2,
          1,
          2,
          4,
          5,
          0,
          2,
          0,
          2,
          0,
          0,
          1,
          1,
          0,
          4,
          1,
          1,
          2,
          1,
          1,
          1,
          3,
          4,
          4,
          0,
          0,
          0,
          3,
          3,
          3,
          1,
          2,
          0,
          1,
          2,
          0,
          2,
          0,
          0,
          3,
          3,
          2,
          2,
          0,
          2,
          3,
          1,
          5,
          1,
          0,
          2,
          2,
          3,
          4,
          2,
          2,
          0,
          0,
          4,
          4,
          3,
          1,
          1,
          3,
          0,
          3,
          3,
          0,
          0,
          4,
          3,
          3,
          1,
          5,
          2,
          2,
          2,
          1,
          1,
          3,
          3,
          3,
          4,
          2,
          1,
          13,
          3,
          2,
          3,
          2,
          3,
          1,
          5,
          2,
          2,
          2,
          0,
          1,
          2,
          1,
          5,
          1,
          3,
          2,
          1,
          0,
          4,
          0,
          1,
          1,
          1,
          2,
          3,
          2,
          3,
          0,
          1,
          3,
          1,
          3
         ]
        },
        {
         "name": "Carbohydrate",
         "text": [
          "100% Bran",
          "100% Natural Bran",
          "All-Bran",
          "All-Bran with Extra Fiber",
          "Almond Delight",
          "Apple Cinnamon Cheerios",
          "Apple Jacks",
          "Basic 4",
          "Bran Chex",
          "Bran Flakes",
          "Cap'n'Crunch",
          "Cheerios",
          "Cinnamon Toast Crunch",
          "Clusters",
          "Cocoa Puffs",
          "Corn Chex",
          "Corn Flakes",
          "Corn Pops",
          "Count Chocula",
          "Cracklin' Oat Bran",
          "Cream of Wheat (Quick)",
          "Crispix",
          "Crispy Wheat & Raisins",
          "Double Chex",
          "Froot Loops",
          "Frosted Flakes",
          "Frosted Mini-Wheats",
          "Fruit & Fibre Dates",
          "Fruitful Bran",
          "Fruity Pebbles",
          "Golden Crisp",
          "Golden Grahams",
          "Grape Nuts Flakes",
          "Grape-Nuts",
          "Great Grains Pecan",
          "Honey Graham Ohs",
          "Honey Nut Cheerios",
          "Honey-comb",
          "Just Right Crunchy  Nuggets",
          "Just Right Fruit & Nut",
          "Kix",
          "Life",
          "Lucky Charms",
          "Maypo",
          "Dates & Almonds",
          "Peaches & Pecans",
          "Mueslix Crispy Blend",
          "Multi-Grain Cheerios",
          "Nut&Honey Crunch",
          "Nutri-Grain Almond-Raisin",
          "Nutri-grain Wheat",
          "Oatmeal Raisin Crisp",
          "Post Nat. Raisin Bran",
          "Product 19",
          "Puffed Rice",
          "Puffed Wheat",
          "Quaker Oat Squares",
          "Quaker Oatmeal",
          "Raisin Bran",
          "Raisin Nut Bran",
          "Raisin Squares",
          "Rice Chex",
          "Rice Krispies",
          "Shredded Wheat",
          "Shredded Wheat 'n'Bran",
          "Shredded Wheat spoon size",
          "Smacks",
          "Special K",
          "Strawberry Fruit Wheats",
          "Total Corn Flakes",
          "Total Raisin Bran",
          "Total Whole Grain",
          "Triples",
          "Trix",
          "Walnuts & Oats",
          "Wheat Chex",
          "Wheaties",
          "Wheaties Honey Gold",
          "All-Bran Complete Wheat Flakes Cereal",
          "Eggo",
          "Honey Smacks",
          "Krave Double Chocolate",
          "Peeps",
          "Smart Start",
          "Annie's Whole Grain Cereal",
          "Cascadian Farm Organic Raisin Bran",
          "Cheerios Multi Grain",
          "Chex Wheat Cereal",
          "Cookie Crisp",
          "Dunkaroos",
          "Fiber One",
          "Good Belly",
          "Larabar (Peanut Butter)",
          "Oatmeal Crisp",
          "Wonderworks (Peanut Butter)",
          "Ahold 100% Whole Grain",
          "Hannaford Frosted Flakes",
          "Martin's Food Lion",
          "Hannaford Tasteeos Cereal",
          "Ahold Vanilla Almond Cereal",
          "Kelloggs Special Fruit & Yogurt",
          "Kelloggs Special Original Cereal",
          "Quaker Life Cinnamon Multigrain",
          "Quaker Life Original Multigrain",
          "Quaker Life Ltd. Edition, Pumpkin Spice",
          "All-Bran",
          "Apple Jacks",
          "Basic 4",
          "Cocoa Puffs",
          "Corn Flakes",
          "Corn Pops",
          "Cracklin' Oat Bran",
          "Crispix",
          "Froot Loops",
          "Frosted Flakes",
          "Golden Grahams",
          "Kix",
          "Oatmeal Raisin Crisp",
          "Raisin Bran",
          "Raisin Nut Bran",
          "Rice Krispies",
          "Special K",
          "Total Whole Grain",
          "Trix",
          "Wheaties"
         ],
         "type": "box",
         "x": [
          1993,
          1993,
          1993,
          1993,
          1993,
          1993,
          1993,
          1993,
          1993,
          1993,
          1993,
          1993,
          1993,
          1993,
          1993,
          1993,
          1993,
          1993,
          1993,
          1993,
          1993,
          1993,
          1993,
          1993,
          1993,
          1993,
          1993,
          1993,
          1993,
          1993,
          1993,
          1993,
          1993,
          1993,
          1993,
          1993,
          1993,
          1993,
          1993,
          1993,
          1993,
          1993,
          1993,
          1993,
          1993,
          1993,
          1993,
          1993,
          1993,
          1993,
          1993,
          1993,
          1993,
          1993,
          1993,
          1993,
          1993,
          1993,
          1993,
          1993,
          1993,
          1993,
          1993,
          1993,
          1993,
          1993,
          1993,
          1993,
          1993,
          1993,
          1993,
          1993,
          1993,
          1993,
          1993,
          1993,
          1993,
          2020,
          2020,
          2020,
          2020,
          2020,
          2020,
          2020,
          2020,
          2020,
          2020,
          2020,
          2020,
          2020,
          2020,
          2020,
          2020,
          2020,
          2020,
          2020,
          2020,
          2020,
          2020,
          2020,
          2020,
          2020,
          2020,
          2020,
          2020,
          2020,
          2020,
          2020,
          2020,
          2020,
          2020,
          2020,
          2020,
          2020,
          2020,
          2020,
          2020,
          2020,
          2020,
          2020,
          2020,
          2020,
          2020,
          2020,
          2020
         ],
         "y": [
          5,
          8,
          7,
          8,
          14,
          10,
          11,
          14,
          15,
          13,
          12,
          17,
          13,
          13,
          12,
          22,
          21,
          13,
          12,
          10,
          21,
          21,
          11,
          18,
          11,
          14,
          14,
          10,
          11,
          13,
          11,
          15,
          15,
          17,
          13,
          12,
          12,
          14,
          17,
          15,
          21,
          12,
          12,
          16,
          16,
          16,
          11,
          15,
          15,
          16,
          18,
          11,
          8,
          20,
          26,
          20,
          14,
          -1,
          11,
          10,
          15,
          23,
          22,
          19,
          19,
          20,
          9,
          16,
          15,
          21,
          10,
          16,
          21,
          13,
          10,
          17,
          17,
          16,
          13,
          11,
          9,
          8,
          12,
          16,
          13,
          12,
          15,
          18,
          13,
          15,
          11,
          11,
          11,
          13,
          7,
          19,
          14,
          13,
          18,
          13,
          14,
          15,
          10,
          15,
          12,
          8,
          14,
          13,
          12,
          20,
          15,
          6,
          21,
          13,
          15,
          13,
          17,
          10,
          9,
          12,
          23,
          16,
          14,
          14,
          13
         ]
        },
        {
         "name": "Sugar",
         "text": [
          "100% Bran",
          "100% Natural Bran",
          "All-Bran",
          "All-Bran with Extra Fiber",
          "Almond Delight",
          "Apple Cinnamon Cheerios",
          "Apple Jacks",
          "Basic 4",
          "Bran Chex",
          "Bran Flakes",
          "Cap'n'Crunch",
          "Cheerios",
          "Cinnamon Toast Crunch",
          "Clusters",
          "Cocoa Puffs",
          "Corn Chex",
          "Corn Flakes",
          "Corn Pops",
          "Count Chocula",
          "Cracklin' Oat Bran",
          "Cream of Wheat (Quick)",
          "Crispix",
          "Crispy Wheat & Raisins",
          "Double Chex",
          "Froot Loops",
          "Frosted Flakes",
          "Frosted Mini-Wheats",
          "Fruit & Fibre Dates",
          "Fruitful Bran",
          "Fruity Pebbles",
          "Golden Crisp",
          "Golden Grahams",
          "Grape Nuts Flakes",
          "Grape-Nuts",
          "Great Grains Pecan",
          "Honey Graham Ohs",
          "Honey Nut Cheerios",
          "Honey-comb",
          "Just Right Crunchy  Nuggets",
          "Just Right Fruit & Nut",
          "Kix",
          "Life",
          "Lucky Charms",
          "Maypo",
          "Dates & Almonds",
          "Peaches & Pecans",
          "Mueslix Crispy Blend",
          "Multi-Grain Cheerios",
          "Nut&Honey Crunch",
          "Nutri-Grain Almond-Raisin",
          "Nutri-grain Wheat",
          "Oatmeal Raisin Crisp",
          "Post Nat. Raisin Bran",
          "Product 19",
          "Puffed Rice",
          "Puffed Wheat",
          "Quaker Oat Squares",
          "Quaker Oatmeal",
          "Raisin Bran",
          "Raisin Nut Bran",
          "Raisin Squares",
          "Rice Chex",
          "Rice Krispies",
          "Shredded Wheat",
          "Shredded Wheat 'n'Bran",
          "Shredded Wheat spoon size",
          "Smacks",
          "Special K",
          "Strawberry Fruit Wheats",
          "Total Corn Flakes",
          "Total Raisin Bran",
          "Total Whole Grain",
          "Triples",
          "Trix",
          "Walnuts & Oats",
          "Wheat Chex",
          "Wheaties",
          "Wheaties Honey Gold",
          "All-Bran Complete Wheat Flakes Cereal",
          "Eggo",
          "Honey Smacks",
          "Krave Double Chocolate",
          "Peeps",
          "Smart Start",
          "Annie's Whole Grain Cereal",
          "Cascadian Farm Organic Raisin Bran",
          "Cheerios Multi Grain",
          "Chex Wheat Cereal",
          "Cookie Crisp",
          "Dunkaroos",
          "Fiber One",
          "Good Belly",
          "Larabar (Peanut Butter)",
          "Oatmeal Crisp",
          "Wonderworks (Peanut Butter)",
          "Ahold 100% Whole Grain",
          "Hannaford Frosted Flakes",
          "Martin's Food Lion",
          "Hannaford Tasteeos Cereal",
          "Ahold Vanilla Almond Cereal",
          "Kelloggs Special Fruit & Yogurt",
          "Kelloggs Special Original Cereal",
          "Quaker Life Cinnamon Multigrain",
          "Quaker Life Original Multigrain",
          "Quaker Life Ltd. Edition, Pumpkin Spice",
          "All-Bran",
          "Apple Jacks",
          "Basic 4",
          "Cocoa Puffs",
          "Corn Flakes",
          "Corn Pops",
          "Cracklin' Oat Bran",
          "Crispix",
          "Froot Loops",
          "Frosted Flakes",
          "Golden Grahams",
          "Kix",
          "Oatmeal Raisin Crisp",
          "Raisin Bran",
          "Raisin Nut Bran",
          "Rice Krispies",
          "Special K",
          "Total Whole Grain",
          "Trix",
          "Wheaties"
         ],
         "type": "box",
         "x": [
          1993,
          1993,
          1993,
          1993,
          1993,
          1993,
          1993,
          1993,
          1993,
          1993,
          1993,
          1993,
          1993,
          1993,
          1993,
          1993,
          1993,
          1993,
          1993,
          1993,
          1993,
          1993,
          1993,
          1993,
          1993,
          1993,
          1993,
          1993,
          1993,
          1993,
          1993,
          1993,
          1993,
          1993,
          1993,
          1993,
          1993,
          1993,
          1993,
          1993,
          1993,
          1993,
          1993,
          1993,
          1993,
          1993,
          1993,
          1993,
          1993,
          1993,
          1993,
          1993,
          1993,
          1993,
          1993,
          1993,
          1993,
          1993,
          1993,
          1993,
          1993,
          1993,
          1993,
          1993,
          1993,
          1993,
          1993,
          1993,
          1993,
          1993,
          1993,
          1993,
          1993,
          1993,
          1993,
          1993,
          1993,
          2020,
          2020,
          2020,
          2020,
          2020,
          2020,
          2020,
          2020,
          2020,
          2020,
          2020,
          2020,
          2020,
          2020,
          2020,
          2020,
          2020,
          2020,
          2020,
          2020,
          2020,
          2020,
          2020,
          2020,
          2020,
          2020,
          2020,
          2020,
          2020,
          2020,
          2020,
          2020,
          2020,
          2020,
          2020,
          2020,
          2020,
          2020,
          2020,
          2020,
          2020,
          2020,
          2020,
          2020,
          2020,
          2020,
          2020,
          2020
         ],
         "y": [
          6,
          8,
          5,
          0,
          8,
          10,
          14,
          6,
          6,
          5,
          12,
          1,
          9,
          7,
          13,
          3,
          2,
          12,
          13,
          7,
          0,
          3,
          10,
          5,
          13,
          11,
          7,
          8,
          9,
          12,
          15,
          9,
          5,
          3,
          4,
          11,
          10,
          11,
          6,
          7,
          3,
          6,
          12,
          3,
          11,
          11,
          9,
          6,
          9,
          5,
          2,
          8,
          11,
          3,
          0,
          0,
          6,
          -1,
          9,
          8,
          6,
          2,
          3,
          0,
          0,
          0,
          15,
          3,
          5,
          3,
          9,
          3,
          3,
          12,
          8,
          3,
          3,
          8,
          5,
          10,
          14,
          11,
          13,
          8,
          7,
          7,
          6,
          3,
          9,
          10,
          0,
          7,
          5,
          6,
          1,
          0,
          10,
          4,
          1,
          8,
          9,
          3,
          6,
          6,
          4,
          5,
          10,
          6,
          9,
          3,
          11,
          8,
          4,
          9,
          9,
          9,
          3,
          6,
          9,
          8,
          3,
          4,
          4,
          9,
          4
         ]
        }
       ],
       "layout": {
        "boxmode": "group",
        "height": 700,
        "legend": {
         "orientation": "h",
         "x": 0,
         "xanchor": "left",
         "y": 1,
         "yanchor": "bottom"
        },
        "template": {
         "data": {
          "bar": [
           {
            "error_x": {
             "color": "#2a3f5f"
            },
            "error_y": {
             "color": "#2a3f5f"
            },
            "marker": {
             "line": {
              "color": "#E5ECF6",
              "width": 0.5
             }
            },
            "type": "bar"
           }
          ],
          "barpolar": [
           {
            "marker": {
             "line": {
              "color": "#E5ECF6",
              "width": 0.5
             }
            },
            "type": "barpolar"
           }
          ],
          "carpet": [
           {
            "aaxis": {
             "endlinecolor": "#2a3f5f",
             "gridcolor": "white",
             "linecolor": "white",
             "minorgridcolor": "white",
             "startlinecolor": "#2a3f5f"
            },
            "baxis": {
             "endlinecolor": "#2a3f5f",
             "gridcolor": "white",
             "linecolor": "white",
             "minorgridcolor": "white",
             "startlinecolor": "#2a3f5f"
            },
            "type": "carpet"
           }
          ],
          "choropleth": [
           {
            "colorbar": {
             "outlinewidth": 0,
             "ticks": ""
            },
            "type": "choropleth"
           }
          ],
          "contour": [
           {
            "colorbar": {
             "outlinewidth": 0,
             "ticks": ""
            },
            "colorscale": [
             [
              0,
              "#0d0887"
             ],
             [
              0.1111111111111111,
              "#46039f"
             ],
             [
              0.2222222222222222,
              "#7201a8"
             ],
             [
              0.3333333333333333,
              "#9c179e"
             ],
             [
              0.4444444444444444,
              "#bd3786"
             ],
             [
              0.5555555555555556,
              "#d8576b"
             ],
             [
              0.6666666666666666,
              "#ed7953"
             ],
             [
              0.7777777777777778,
              "#fb9f3a"
             ],
             [
              0.8888888888888888,
              "#fdca26"
             ],
             [
              1,
              "#f0f921"
             ]
            ],
            "type": "contour"
           }
          ],
          "contourcarpet": [
           {
            "colorbar": {
             "outlinewidth": 0,
             "ticks": ""
            },
            "type": "contourcarpet"
           }
          ],
          "heatmap": [
           {
            "colorbar": {
             "outlinewidth": 0,
             "ticks": ""
            },
            "colorscale": [
             [
              0,
              "#0d0887"
             ],
             [
              0.1111111111111111,
              "#46039f"
             ],
             [
              0.2222222222222222,
              "#7201a8"
             ],
             [
              0.3333333333333333,
              "#9c179e"
             ],
             [
              0.4444444444444444,
              "#bd3786"
             ],
             [
              0.5555555555555556,
              "#d8576b"
             ],
             [
              0.6666666666666666,
              "#ed7953"
             ],
             [
              0.7777777777777778,
              "#fb9f3a"
             ],
             [
              0.8888888888888888,
              "#fdca26"
             ],
             [
              1,
              "#f0f921"
             ]
            ],
            "type": "heatmap"
           }
          ],
          "heatmapgl": [
           {
            "colorbar": {
             "outlinewidth": 0,
             "ticks": ""
            },
            "colorscale": [
             [
              0,
              "#0d0887"
             ],
             [
              0.1111111111111111,
              "#46039f"
             ],
             [
              0.2222222222222222,
              "#7201a8"
             ],
             [
              0.3333333333333333,
              "#9c179e"
             ],
             [
              0.4444444444444444,
              "#bd3786"
             ],
             [
              0.5555555555555556,
              "#d8576b"
             ],
             [
              0.6666666666666666,
              "#ed7953"
             ],
             [
              0.7777777777777778,
              "#fb9f3a"
             ],
             [
              0.8888888888888888,
              "#fdca26"
             ],
             [
              1,
              "#f0f921"
             ]
            ],
            "type": "heatmapgl"
           }
          ],
          "histogram": [
           {
            "marker": {
             "colorbar": {
              "outlinewidth": 0,
              "ticks": ""
             }
            },
            "type": "histogram"
           }
          ],
          "histogram2d": [
           {
            "colorbar": {
             "outlinewidth": 0,
             "ticks": ""
            },
            "colorscale": [
             [
              0,
              "#0d0887"
             ],
             [
              0.1111111111111111,
              "#46039f"
             ],
             [
              0.2222222222222222,
              "#7201a8"
             ],
             [
              0.3333333333333333,
              "#9c179e"
             ],
             [
              0.4444444444444444,
              "#bd3786"
             ],
             [
              0.5555555555555556,
              "#d8576b"
             ],
             [
              0.6666666666666666,
              "#ed7953"
             ],
             [
              0.7777777777777778,
              "#fb9f3a"
             ],
             [
              0.8888888888888888,
              "#fdca26"
             ],
             [
              1,
              "#f0f921"
             ]
            ],
            "type": "histogram2d"
           }
          ],
          "histogram2dcontour": [
           {
            "colorbar": {
             "outlinewidth": 0,
             "ticks": ""
            },
            "colorscale": [
             [
              0,
              "#0d0887"
             ],
             [
              0.1111111111111111,
              "#46039f"
             ],
             [
              0.2222222222222222,
              "#7201a8"
             ],
             [
              0.3333333333333333,
              "#9c179e"
             ],
             [
              0.4444444444444444,
              "#bd3786"
             ],
             [
              0.5555555555555556,
              "#d8576b"
             ],
             [
              0.6666666666666666,
              "#ed7953"
             ],
             [
              0.7777777777777778,
              "#fb9f3a"
             ],
             [
              0.8888888888888888,
              "#fdca26"
             ],
             [
              1,
              "#f0f921"
             ]
            ],
            "type": "histogram2dcontour"
           }
          ],
          "mesh3d": [
           {
            "colorbar": {
             "outlinewidth": 0,
             "ticks": ""
            },
            "type": "mesh3d"
           }
          ],
          "parcoords": [
           {
            "line": {
             "colorbar": {
              "outlinewidth": 0,
              "ticks": ""
             }
            },
            "type": "parcoords"
           }
          ],
          "pie": [
           {
            "automargin": true,
            "type": "pie"
           }
          ],
          "scatter": [
           {
            "marker": {
             "colorbar": {
              "outlinewidth": 0,
              "ticks": ""
             }
            },
            "type": "scatter"
           }
          ],
          "scatter3d": [
           {
            "line": {
             "colorbar": {
              "outlinewidth": 0,
              "ticks": ""
             }
            },
            "marker": {
             "colorbar": {
              "outlinewidth": 0,
              "ticks": ""
             }
            },
            "type": "scatter3d"
           }
          ],
          "scattercarpet": [
           {
            "marker": {
             "colorbar": {
              "outlinewidth": 0,
              "ticks": ""
             }
            },
            "type": "scattercarpet"
           }
          ],
          "scattergeo": [
           {
            "marker": {
             "colorbar": {
              "outlinewidth": 0,
              "ticks": ""
             }
            },
            "type": "scattergeo"
           }
          ],
          "scattergl": [
           {
            "marker": {
             "colorbar": {
              "outlinewidth": 0,
              "ticks": ""
             }
            },
            "type": "scattergl"
           }
          ],
          "scattermapbox": [
           {
            "marker": {
             "colorbar": {
              "outlinewidth": 0,
              "ticks": ""
             }
            },
            "type": "scattermapbox"
           }
          ],
          "scatterpolar": [
           {
            "marker": {
             "colorbar": {
              "outlinewidth": 0,
              "ticks": ""
             }
            },
            "type": "scatterpolar"
           }
          ],
          "scatterpolargl": [
           {
            "marker": {
             "colorbar": {
              "outlinewidth": 0,
              "ticks": ""
             }
            },
            "type": "scatterpolargl"
           }
          ],
          "scatterternary": [
           {
            "marker": {
             "colorbar": {
              "outlinewidth": 0,
              "ticks": ""
             }
            },
            "type": "scatterternary"
           }
          ],
          "surface": [
           {
            "colorbar": {
             "outlinewidth": 0,
             "ticks": ""
            },
            "colorscale": [
             [
              0,
              "#0d0887"
             ],
             [
              0.1111111111111111,
              "#46039f"
             ],
             [
              0.2222222222222222,
              "#7201a8"
             ],
             [
              0.3333333333333333,
              "#9c179e"
             ],
             [
              0.4444444444444444,
              "#bd3786"
             ],
             [
              0.5555555555555556,
              "#d8576b"
             ],
             [
              0.6666666666666666,
              "#ed7953"
             ],
             [
              0.7777777777777778,
              "#fb9f3a"
             ],
             [
              0.8888888888888888,
              "#fdca26"
             ],
             [
              1,
              "#f0f921"
             ]
            ],
            "type": "surface"
           }
          ],
          "table": [
           {
            "cells": {
             "fill": {
              "color": "#EBF0F8"
             },
             "line": {
              "color": "white"
             }
            },
            "header": {
             "fill": {
              "color": "#C8D4E3"
             },
             "line": {
              "color": "white"
             }
            },
            "type": "table"
           }
          ]
         },
         "layout": {
          "annotationdefaults": {
           "arrowcolor": "#2a3f5f",
           "arrowhead": 0,
           "arrowwidth": 1
          },
          "coloraxis": {
           "colorbar": {
            "outlinewidth": 0,
            "ticks": ""
           }
          },
          "colorscale": {
           "diverging": [
            [
             0,
             "#8e0152"
            ],
            [
             0.1,
             "#c51b7d"
            ],
            [
             0.2,
             "#de77ae"
            ],
            [
             0.3,
             "#f1b6da"
            ],
            [
             0.4,
             "#fde0ef"
            ],
            [
             0.5,
             "#f7f7f7"
            ],
            [
             0.6,
             "#e6f5d0"
            ],
            [
             0.7,
             "#b8e186"
            ],
            [
             0.8,
             "#7fbc41"
            ],
            [
             0.9,
             "#4d9221"
            ],
            [
             1,
             "#276419"
            ]
           ],
           "sequential": [
            [
             0,
             "#0d0887"
            ],
            [
             0.1111111111111111,
             "#46039f"
            ],
            [
             0.2222222222222222,
             "#7201a8"
            ],
            [
             0.3333333333333333,
             "#9c179e"
            ],
            [
             0.4444444444444444,
             "#bd3786"
            ],
            [
             0.5555555555555556,
             "#d8576b"
            ],
            [
             0.6666666666666666,
             "#ed7953"
            ],
            [
             0.7777777777777778,
             "#fb9f3a"
            ],
            [
             0.8888888888888888,
             "#fdca26"
            ],
            [
             1,
             "#f0f921"
            ]
           ],
           "sequentialminus": [
            [
             0,
             "#0d0887"
            ],
            [
             0.1111111111111111,
             "#46039f"
            ],
            [
             0.2222222222222222,
             "#7201a8"
            ],
            [
             0.3333333333333333,
             "#9c179e"
            ],
            [
             0.4444444444444444,
             "#bd3786"
            ],
            [
             0.5555555555555556,
             "#d8576b"
            ],
            [
             0.6666666666666666,
             "#ed7953"
            ],
            [
             0.7777777777777778,
             "#fb9f3a"
            ],
            [
             0.8888888888888888,
             "#fdca26"
            ],
            [
             1,
             "#f0f921"
            ]
           ]
          },
          "colorway": [
           "#636efa",
           "#EF553B",
           "#00cc96",
           "#ab63fa",
           "#FFA15A",
           "#19d3f3",
           "#FF6692",
           "#B6E880",
           "#FF97FF",
           "#FECB52"
          ],
          "font": {
           "color": "#2a3f5f"
          },
          "geo": {
           "bgcolor": "white",
           "lakecolor": "white",
           "landcolor": "#E5ECF6",
           "showlakes": true,
           "showland": true,
           "subunitcolor": "white"
          },
          "hoverlabel": {
           "align": "left"
          },
          "hovermode": "closest",
          "mapbox": {
           "style": "light"
          },
          "paper_bgcolor": "white",
          "plot_bgcolor": "#E5ECF6",
          "polar": {
           "angularaxis": {
            "gridcolor": "white",
            "linecolor": "white",
            "ticks": ""
           },
           "bgcolor": "#E5ECF6",
           "radialaxis": {
            "gridcolor": "white",
            "linecolor": "white",
            "ticks": ""
           }
          },
          "scene": {
           "xaxis": {
            "backgroundcolor": "#E5ECF6",
            "gridcolor": "white",
            "gridwidth": 2,
            "linecolor": "white",
            "showbackground": true,
            "ticks": "",
            "zerolinecolor": "white"
           },
           "yaxis": {
            "backgroundcolor": "#E5ECF6",
            "gridcolor": "white",
            "gridwidth": 2,
            "linecolor": "white",
            "showbackground": true,
            "ticks": "",
            "zerolinecolor": "white"
           },
           "zaxis": {
            "backgroundcolor": "#E5ECF6",
            "gridcolor": "white",
            "gridwidth": 2,
            "linecolor": "white",
            "showbackground": true,
            "ticks": "",
            "zerolinecolor": "white"
           }
          },
          "shapedefaults": {
           "line": {
            "color": "#2a3f5f"
           }
          },
          "ternary": {
           "aaxis": {
            "gridcolor": "white",
            "linecolor": "white",
            "ticks": ""
           },
           "baxis": {
            "gridcolor": "white",
            "linecolor": "white",
            "ticks": ""
           },
           "bgcolor": "#E5ECF6",
           "caxis": {
            "gridcolor": "white",
            "linecolor": "white",
            "ticks": ""
           }
          },
          "title": {
           "x": 0.05
          },
          "xaxis": {
           "automargin": true,
           "gridcolor": "white",
           "linecolor": "white",
           "ticks": "",
           "title": {
            "standoff": 15
           },
           "zerolinecolor": "white",
           "zerolinewidth": 2
          },
          "yaxis": {
           "automargin": true,
           "gridcolor": "white",
           "linecolor": "white",
           "ticks": "",
           "title": {
            "standoff": 15
           },
           "zerolinecolor": "white",
           "zerolinewidth": 2
          }
         }
        },
        "title": {
         "text": "Protein, Fat, Fiber, Carbohydrate and Sugar per ounce distribution change between 1993 and 2020"
        },
        "yaxis": {
         "title": {
          "text": "grams/ounce"
         }
        }
       }
      },
      "text/html": [
       "<div>                            <div id=\"80349bc4-8a95-4cce-802f-cef290a6c9ca\" class=\"plotly-graph-div\" style=\"height:700px; width:100%;\"></div>            <script type=\"text/javascript\">                require([\"plotly\"], function(Plotly) {                    window.PLOTLYENV=window.PLOTLYENV || {};                                    if (document.getElementById(\"80349bc4-8a95-4cce-802f-cef290a6c9ca\")) {                    Plotly.newPlot(                        \"80349bc4-8a95-4cce-802f-cef290a6c9ca\",                        [{\"name\": \"Protein\", \"text\": [\"100% Bran\", \"100% Natural Bran\", \"All-Bran\", \"All-Bran with Extra Fiber\", \"Almond Delight\", \"Apple Cinnamon Cheerios\", \"Apple Jacks\", \"Basic 4\", \"Bran Chex\", \"Bran Flakes\", \"Cap'n'Crunch\", \"Cheerios\", \"Cinnamon Toast Crunch\", \"Clusters\", \"Cocoa Puffs\", \"Corn Chex\", \"Corn Flakes\", \"Corn Pops\", \"Count Chocula\", \"Cracklin' Oat Bran\", \"Cream of Wheat (Quick)\", \"Crispix\", \"Crispy Wheat & Raisins\", \"Double Chex\", \"Froot Loops\", \"Frosted Flakes\", \"Frosted Mini-Wheats\", \"Fruit & Fibre Dates\", \"Fruitful Bran\", \"Fruity Pebbles\", \"Golden Crisp\", \"Golden Grahams\", \"Grape Nuts Flakes\", \"Grape-Nuts\", \"Great Grains Pecan\", \"Honey Graham Ohs\", \"Honey Nut Cheerios\", \"Honey-comb\", \"Just Right Crunchy  Nuggets\", \"Just Right Fruit & Nut\", \"Kix\", \"Life\", \"Lucky Charms\", \"Maypo\", \"Dates & Almonds\", \"Peaches & Pecans\", \"Mueslix Crispy Blend\", \"Multi-Grain Cheerios\", \"Nut&Honey Crunch\", \"Nutri-Grain Almond-Raisin\", \"Nutri-grain Wheat\", \"Oatmeal Raisin Crisp\", \"Post Nat. Raisin Bran\", \"Product 19\", \"Puffed Rice\", \"Puffed Wheat\", \"Quaker Oat Squares\", \"Quaker Oatmeal\", \"Raisin Bran\", \"Raisin Nut Bran\", \"Raisin Squares\", \"Rice Chex\", \"Rice Krispies\", \"Shredded Wheat\", \"Shredded Wheat 'n'Bran\", \"Shredded Wheat spoon size\", \"Smacks\", \"Special K\", \"Strawberry Fruit Wheats\", \"Total Corn Flakes\", \"Total Raisin Bran\", \"Total Whole Grain\", \"Triples\", \"Trix\", \"Walnuts & Oats\", \"Wheat Chex\", \"Wheaties\", \"Wheaties Honey Gold\", \"All-Bran Complete Wheat Flakes Cereal\", \"Eggo\", \"Honey Smacks\", \"Krave Double Chocolate\", \"Peeps\", \"Smart Start\", \"Annie's Whole Grain Cereal\", \"Cascadian Farm Organic Raisin Bran\", \"Cheerios Multi Grain\", \"Chex Wheat Cereal\", \"Cookie Crisp\", \"Dunkaroos\", \"Fiber One\", \"Good Belly\", \"Larabar (Peanut Butter)\", \"Oatmeal Crisp\", \"Wonderworks (Peanut Butter)\", \"Ahold 100% Whole Grain\", \"Hannaford Frosted Flakes\", \"Martin's Food Lion\", \"Hannaford Tasteeos Cereal\", \"Ahold Vanilla Almond Cereal\", \"Kelloggs Special Fruit & Yogurt\", \"Kelloggs Special Original Cereal\", \"Quaker Life Cinnamon Multigrain\", \"Quaker Life Original Multigrain\", \"Quaker Life Ltd. Edition, Pumpkin Spice\", \"All-Bran\", \"Apple Jacks\", \"Basic 4\", \"Cocoa Puffs\", \"Corn Flakes\", \"Corn Pops\", \"Cracklin' Oat Bran\", \"Crispix\", \"Froot Loops\", \"Frosted Flakes\", \"Golden Grahams\", \"Kix\", \"Oatmeal Raisin Crisp\", \"Raisin Bran\", \"Raisin Nut Bran\", \"Rice Krispies\", \"Special K\", \"Total Whole Grain\", \"Trix\", \"Wheaties\"], \"type\": \"box\", \"x\": [1993, 1993, 1993, 1993, 1993, 1993, 1993, 1993, 1993, 1993, 1993, 1993, 1993, 1993, 1993, 1993, 1993, 1993, 1993, 1993, 1993, 1993, 1993, 1993, 1993, 1993, 1993, 1993, 1993, 1993, 1993, 1993, 1993, 1993, 1993, 1993, 1993, 1993, 1993, 1993, 1993, 1993, 1993, 1993, 1993, 1993, 1993, 1993, 1993, 1993, 1993, 1993, 1993, 1993, 1993, 1993, 1993, 1993, 1993, 1993, 1993, 1993, 1993, 1993, 1993, 1993, 1993, 1993, 1993, 1993, 1993, 1993, 1993, 1993, 1993, 1993, 1993, 2020, 2020, 2020, 2020, 2020, 2020, 2020, 2020, 2020, 2020, 2020, 2020, 2020, 2020, 2020, 2020, 2020, 2020, 2020, 2020, 2020, 2020, 2020, 2020, 2020, 2020, 2020, 2020, 2020, 2020, 2020, 2020, 2020, 2020, 2020, 2020, 2020, 2020, 2020, 2020, 2020, 2020, 2020, 2020, 2020, 2020, 2020, 2020], \"y\": [4, 3, 4, 4, 2, 2, 2, 2, 2, 3, 1, 6, 1, 3, 1, 2, 2, 1, 1, 3, 3, 2, 2, 2, 2, 1, 3, 2, 2, 1, 2, 1, 3, 3, 3, 1, 3, 1, 2, 2, 2, 4, 2, 4, 4, 4, 2, 2, 2, 2, 3, 2, 2, 3, 2, 4, 4, 5, 2, 3, 2, 1, 2, 2, 3, 3, 2, 6, 2, 2, 2, 3, 2, 1, 2, 3, 3, 2, 3, 2, 2, 2, 1, 2, 3, 2, 2, 3, 2, 1, 2, 3, 3, 3, 12, 3, 1, 3, 3, 2, 2, 5, 2, 3, 2, 3, 1, 2, 2, 2, 1, 2, 2, 1, 2, 1, 2, 1, 2, 2, 2, 5, 6, 1, 2]}, {\"name\": \"Fat\", \"text\": [\"100% Bran\", \"100% Natural Bran\", \"All-Bran\", \"All-Bran with Extra Fiber\", \"Almond Delight\", \"Apple Cinnamon Cheerios\", \"Apple Jacks\", \"Basic 4\", \"Bran Chex\", \"Bran Flakes\", \"Cap'n'Crunch\", \"Cheerios\", \"Cinnamon Toast Crunch\", \"Clusters\", \"Cocoa Puffs\", \"Corn Chex\", \"Corn Flakes\", \"Corn Pops\", \"Count Chocula\", \"Cracklin' Oat Bran\", \"Cream of Wheat (Quick)\", \"Crispix\", \"Crispy Wheat & Raisins\", \"Double Chex\", \"Froot Loops\", \"Frosted Flakes\", \"Frosted Mini-Wheats\", \"Fruit & Fibre Dates\", \"Fruitful Bran\", \"Fruity Pebbles\", \"Golden Crisp\", \"Golden Grahams\", \"Grape Nuts Flakes\", \"Grape-Nuts\", \"Great Grains Pecan\", \"Honey Graham Ohs\", \"Honey Nut Cheerios\", \"Honey-comb\", \"Just Right Crunchy  Nuggets\", \"Just Right Fruit & Nut\", \"Kix\", \"Life\", \"Lucky Charms\", \"Maypo\", \"Dates & Almonds\", \"Peaches & Pecans\", \"Mueslix Crispy Blend\", \"Multi-Grain Cheerios\", \"Nut&Honey Crunch\", \"Nutri-Grain Almond-Raisin\", \"Nutri-grain Wheat\", \"Oatmeal Raisin Crisp\", \"Post Nat. Raisin Bran\", \"Product 19\", \"Puffed Rice\", \"Puffed Wheat\", \"Quaker Oat Squares\", \"Quaker Oatmeal\", \"Raisin Bran\", \"Raisin Nut Bran\", \"Raisin Squares\", \"Rice Chex\", \"Rice Krispies\", \"Shredded Wheat\", \"Shredded Wheat 'n'Bran\", \"Shredded Wheat spoon size\", \"Smacks\", \"Special K\", \"Strawberry Fruit Wheats\", \"Total Corn Flakes\", \"Total Raisin Bran\", \"Total Whole Grain\", \"Triples\", \"Trix\", \"Walnuts & Oats\", \"Wheat Chex\", \"Wheaties\", \"Wheaties Honey Gold\", \"All-Bran Complete Wheat Flakes Cereal\", \"Eggo\", \"Honey Smacks\", \"Krave Double Chocolate\", \"Peeps\", \"Smart Start\", \"Annie's Whole Grain Cereal\", \"Cascadian Farm Organic Raisin Bran\", \"Cheerios Multi Grain\", \"Chex Wheat Cereal\", \"Cookie Crisp\", \"Dunkaroos\", \"Fiber One\", \"Good Belly\", \"Larabar (Peanut Butter)\", \"Oatmeal Crisp\", \"Wonderworks (Peanut Butter)\", \"Ahold 100% Whole Grain\", \"Hannaford Frosted Flakes\", \"Martin's Food Lion\", \"Hannaford Tasteeos Cereal\", \"Ahold Vanilla Almond Cereal\", \"Kelloggs Special Fruit & Yogurt\", \"Kelloggs Special Original Cereal\", \"Quaker Life Cinnamon Multigrain\", \"Quaker Life Original Multigrain\", \"Quaker Life Ltd. Edition, Pumpkin Spice\", \"All-Bran\", \"Apple Jacks\", \"Basic 4\", \"Cocoa Puffs\", \"Corn Flakes\", \"Corn Pops\", \"Cracklin' Oat Bran\", \"Crispix\", \"Froot Loops\", \"Frosted Flakes\", \"Golden Grahams\", \"Kix\", \"Oatmeal Raisin Crisp\", \"Raisin Bran\", \"Raisin Nut Bran\", \"Rice Krispies\", \"Special K\", \"Total Whole Grain\", \"Trix\", \"Wheaties\"], \"type\": \"box\", \"x\": [1993, 1993, 1993, 1993, 1993, 1993, 1993, 1993, 1993, 1993, 1993, 1993, 1993, 1993, 1993, 1993, 1993, 1993, 1993, 1993, 1993, 1993, 1993, 1993, 1993, 1993, 1993, 1993, 1993, 1993, 1993, 1993, 1993, 1993, 1993, 1993, 1993, 1993, 1993, 1993, 1993, 1993, 1993, 1993, 1993, 1993, 1993, 1993, 1993, 1993, 1993, 1993, 1993, 1993, 1993, 1993, 1993, 1993, 1993, 1993, 1993, 1993, 1993, 1993, 1993, 1993, 1993, 1993, 1993, 1993, 1993, 1993, 1993, 1993, 1993, 1993, 1993, 2020, 2020, 2020, 2020, 2020, 2020, 2020, 2020, 2020, 2020, 2020, 2020, 2020, 2020, 2020, 2020, 2020, 2020, 2020, 2020, 2020, 2020, 2020, 2020, 2020, 2020, 2020, 2020, 2020, 2020, 2020, 2020, 2020, 2020, 2020, 2020, 2020, 2020, 2020, 2020, 2020, 2020, 2020, 2020, 2020, 2020, 2020, 2020], \"y\": [1, 5, 1, 0, 2, 2, 0, 2, 1, 0, 2, 2, 3, 2, 1, 0, 0, 0, 1, 3, 0, 0, 1, 0, 1, 0, 0, 2, 0, 1, 0, 1, 1, 0, 3, 2, 1, 0, 1, 1, 1, 2, 1, 1, 3, 3, 1, 1, 1, 2, 0, 2, 1, 0, 0, 0, 1, 2, 1, 2, 0, 0, 0, 0, 0, 0, 1, 0, 0, 1, 1, 1, 1, 1, 2, 1, 1, 1, 0, 1, 0, 3, 0, 0, 1, 1, 1, 0, 1, 1, 1, 3, 6, 0, 4, 1, 0, 1, 2, 1, 1, 0, 1, 1, 1, 1, 1, 1, 2, 0, 0, 4, 0, 1, 0, 1, 1, 2, 0, 2, 0, 0, 1, 1, 0]}, {\"name\": \"Fiber\", \"text\": [\"100% Bran\", \"100% Natural Bran\", \"All-Bran\", \"All-Bran with Extra Fiber\", \"Almond Delight\", \"Apple Cinnamon Cheerios\", \"Apple Jacks\", \"Basic 4\", \"Bran Chex\", \"Bran Flakes\", \"Cap'n'Crunch\", \"Cheerios\", \"Cinnamon Toast Crunch\", \"Clusters\", \"Cocoa Puffs\", \"Corn Chex\", \"Corn Flakes\", \"Corn Pops\", \"Count Chocula\", \"Cracklin' Oat Bran\", \"Cream of Wheat (Quick)\", \"Crispix\", \"Crispy Wheat & Raisins\", \"Double Chex\", \"Froot Loops\", \"Frosted Flakes\", \"Frosted Mini-Wheats\", \"Fruit & Fibre Dates\", \"Fruitful Bran\", \"Fruity Pebbles\", \"Golden Crisp\", \"Golden Grahams\", \"Grape Nuts Flakes\", \"Grape-Nuts\", \"Great Grains Pecan\", \"Honey Graham Ohs\", \"Honey Nut Cheerios\", \"Honey-comb\", \"Just Right Crunchy  Nuggets\", \"Just Right Fruit & Nut\", \"Kix\", \"Life\", \"Lucky Charms\", \"Maypo\", \"Dates & Almonds\", \"Peaches & Pecans\", \"Mueslix Crispy Blend\", \"Multi-Grain Cheerios\", \"Nut&Honey Crunch\", \"Nutri-Grain Almond-Raisin\", \"Nutri-grain Wheat\", \"Oatmeal Raisin Crisp\", \"Post Nat. Raisin Bran\", \"Product 19\", \"Puffed Rice\", \"Puffed Wheat\", \"Quaker Oat Squares\", \"Quaker Oatmeal\", \"Raisin Bran\", \"Raisin Nut Bran\", \"Raisin Squares\", \"Rice Chex\", \"Rice Krispies\", \"Shredded Wheat\", \"Shredded Wheat 'n'Bran\", \"Shredded Wheat spoon size\", \"Smacks\", \"Special K\", \"Strawberry Fruit Wheats\", \"Total Corn Flakes\", \"Total Raisin Bran\", \"Total Whole Grain\", \"Triples\", \"Trix\", \"Walnuts & Oats\", \"Wheat Chex\", \"Wheaties\", \"Wheaties Honey Gold\", \"All-Bran Complete Wheat Flakes Cereal\", \"Eggo\", \"Honey Smacks\", \"Krave Double Chocolate\", \"Peeps\", \"Smart Start\", \"Annie's Whole Grain Cereal\", \"Cascadian Farm Organic Raisin Bran\", \"Cheerios Multi Grain\", \"Chex Wheat Cereal\", \"Cookie Crisp\", \"Dunkaroos\", \"Fiber One\", \"Good Belly\", \"Larabar (Peanut Butter)\", \"Oatmeal Crisp\", \"Wonderworks (Peanut Butter)\", \"Ahold 100% Whole Grain\", \"Hannaford Frosted Flakes\", \"Martin's Food Lion\", \"Hannaford Tasteeos Cereal\", \"Ahold Vanilla Almond Cereal\", \"Kelloggs Special Fruit & Yogurt\", \"Kelloggs Special Original Cereal\", \"Quaker Life Cinnamon Multigrain\", \"Quaker Life Original Multigrain\", \"Quaker Life Ltd. Edition, Pumpkin Spice\", \"All-Bran\", \"Apple Jacks\", \"Basic 4\", \"Cocoa Puffs\", \"Corn Flakes\", \"Corn Pops\", \"Cracklin' Oat Bran\", \"Crispix\", \"Froot Loops\", \"Frosted Flakes\", \"Golden Grahams\", \"Kix\", \"Oatmeal Raisin Crisp\", \"Raisin Bran\", \"Raisin Nut Bran\", \"Rice Krispies\", \"Special K\", \"Total Whole Grain\", \"Trix\", \"Wheaties\"], \"type\": \"box\", \"x\": [1993, 1993, 1993, 1993, 1993, 1993, 1993, 1993, 1993, 1993, 1993, 1993, 1993, 1993, 1993, 1993, 1993, 1993, 1993, 1993, 1993, 1993, 1993, 1993, 1993, 1993, 1993, 1993, 1993, 1993, 1993, 1993, 1993, 1993, 1993, 1993, 1993, 1993, 1993, 1993, 1993, 1993, 1993, 1993, 1993, 1993, 1993, 1993, 1993, 1993, 1993, 1993, 1993, 1993, 1993, 1993, 1993, 1993, 1993, 1993, 1993, 1993, 1993, 1993, 1993, 1993, 1993, 1993, 1993, 1993, 1993, 1993, 1993, 1993, 1993, 1993, 1993, 2020, 2020, 2020, 2020, 2020, 2020, 2020, 2020, 2020, 2020, 2020, 2020, 2020, 2020, 2020, 2020, 2020, 2020, 2020, 2020, 2020, 2020, 2020, 2020, 2020, 2020, 2020, 2020, 2020, 2020, 2020, 2020, 2020, 2020, 2020, 2020, 2020, 2020, 2020, 2020, 2020, 2020, 2020, 2020, 2020, 2020, 2020, 2020], \"y\": [10, 2, 9, 14, 1, 2, 1, 2, 4, 5, 0, 2, 0, 2, 0, 0, 1, 1, 0, 4, 1, 1, 2, 1, 1, 1, 3, 4, 4, 0, 0, 0, 3, 3, 3, 1, 2, 0, 1, 2, 0, 2, 0, 0, 3, 3, 2, 2, 0, 2, 3, 1, 5, 1, 0, 2, 2, 3, 4, 2, 2, 0, 0, 4, 4, 3, 1, 1, 3, 0, 3, 3, 0, 0, 4, 3, 3, 1, 5, 2, 2, 2, 1, 1, 3, 3, 3, 4, 2, 1, 13, 3, 2, 3, 2, 3, 1, 5, 2, 2, 2, 0, 1, 2, 1, 5, 1, 3, 2, 1, 0, 4, 0, 1, 1, 1, 2, 3, 2, 3, 0, 1, 3, 1, 3]}, {\"name\": \"Carbohydrate\", \"text\": [\"100% Bran\", \"100% Natural Bran\", \"All-Bran\", \"All-Bran with Extra Fiber\", \"Almond Delight\", \"Apple Cinnamon Cheerios\", \"Apple Jacks\", \"Basic 4\", \"Bran Chex\", \"Bran Flakes\", \"Cap'n'Crunch\", \"Cheerios\", \"Cinnamon Toast Crunch\", \"Clusters\", \"Cocoa Puffs\", \"Corn Chex\", \"Corn Flakes\", \"Corn Pops\", \"Count Chocula\", \"Cracklin' Oat Bran\", \"Cream of Wheat (Quick)\", \"Crispix\", \"Crispy Wheat & Raisins\", \"Double Chex\", \"Froot Loops\", \"Frosted Flakes\", \"Frosted Mini-Wheats\", \"Fruit & Fibre Dates\", \"Fruitful Bran\", \"Fruity Pebbles\", \"Golden Crisp\", \"Golden Grahams\", \"Grape Nuts Flakes\", \"Grape-Nuts\", \"Great Grains Pecan\", \"Honey Graham Ohs\", \"Honey Nut Cheerios\", \"Honey-comb\", \"Just Right Crunchy  Nuggets\", \"Just Right Fruit & Nut\", \"Kix\", \"Life\", \"Lucky Charms\", \"Maypo\", \"Dates & Almonds\", \"Peaches & Pecans\", \"Mueslix Crispy Blend\", \"Multi-Grain Cheerios\", \"Nut&Honey Crunch\", \"Nutri-Grain Almond-Raisin\", \"Nutri-grain Wheat\", \"Oatmeal Raisin Crisp\", \"Post Nat. Raisin Bran\", \"Product 19\", \"Puffed Rice\", \"Puffed Wheat\", \"Quaker Oat Squares\", \"Quaker Oatmeal\", \"Raisin Bran\", \"Raisin Nut Bran\", \"Raisin Squares\", \"Rice Chex\", \"Rice Krispies\", \"Shredded Wheat\", \"Shredded Wheat 'n'Bran\", \"Shredded Wheat spoon size\", \"Smacks\", \"Special K\", \"Strawberry Fruit Wheats\", \"Total Corn Flakes\", \"Total Raisin Bran\", \"Total Whole Grain\", \"Triples\", \"Trix\", \"Walnuts & Oats\", \"Wheat Chex\", \"Wheaties\", \"Wheaties Honey Gold\", \"All-Bran Complete Wheat Flakes Cereal\", \"Eggo\", \"Honey Smacks\", \"Krave Double Chocolate\", \"Peeps\", \"Smart Start\", \"Annie's Whole Grain Cereal\", \"Cascadian Farm Organic Raisin Bran\", \"Cheerios Multi Grain\", \"Chex Wheat Cereal\", \"Cookie Crisp\", \"Dunkaroos\", \"Fiber One\", \"Good Belly\", \"Larabar (Peanut Butter)\", \"Oatmeal Crisp\", \"Wonderworks (Peanut Butter)\", \"Ahold 100% Whole Grain\", \"Hannaford Frosted Flakes\", \"Martin's Food Lion\", \"Hannaford Tasteeos Cereal\", \"Ahold Vanilla Almond Cereal\", \"Kelloggs Special Fruit & Yogurt\", \"Kelloggs Special Original Cereal\", \"Quaker Life Cinnamon Multigrain\", \"Quaker Life Original Multigrain\", \"Quaker Life Ltd. Edition, Pumpkin Spice\", \"All-Bran\", \"Apple Jacks\", \"Basic 4\", \"Cocoa Puffs\", \"Corn Flakes\", \"Corn Pops\", \"Cracklin' Oat Bran\", \"Crispix\", \"Froot Loops\", \"Frosted Flakes\", \"Golden Grahams\", \"Kix\", \"Oatmeal Raisin Crisp\", \"Raisin Bran\", \"Raisin Nut Bran\", \"Rice Krispies\", \"Special K\", \"Total Whole Grain\", \"Trix\", \"Wheaties\"], \"type\": \"box\", \"x\": [1993, 1993, 1993, 1993, 1993, 1993, 1993, 1993, 1993, 1993, 1993, 1993, 1993, 1993, 1993, 1993, 1993, 1993, 1993, 1993, 1993, 1993, 1993, 1993, 1993, 1993, 1993, 1993, 1993, 1993, 1993, 1993, 1993, 1993, 1993, 1993, 1993, 1993, 1993, 1993, 1993, 1993, 1993, 1993, 1993, 1993, 1993, 1993, 1993, 1993, 1993, 1993, 1993, 1993, 1993, 1993, 1993, 1993, 1993, 1993, 1993, 1993, 1993, 1993, 1993, 1993, 1993, 1993, 1993, 1993, 1993, 1993, 1993, 1993, 1993, 1993, 1993, 2020, 2020, 2020, 2020, 2020, 2020, 2020, 2020, 2020, 2020, 2020, 2020, 2020, 2020, 2020, 2020, 2020, 2020, 2020, 2020, 2020, 2020, 2020, 2020, 2020, 2020, 2020, 2020, 2020, 2020, 2020, 2020, 2020, 2020, 2020, 2020, 2020, 2020, 2020, 2020, 2020, 2020, 2020, 2020, 2020, 2020, 2020, 2020], \"y\": [5, 8, 7, 8, 14, 10, 11, 14, 15, 13, 12, 17, 13, 13, 12, 22, 21, 13, 12, 10, 21, 21, 11, 18, 11, 14, 14, 10, 11, 13, 11, 15, 15, 17, 13, 12, 12, 14, 17, 15, 21, 12, 12, 16, 16, 16, 11, 15, 15, 16, 18, 11, 8, 20, 26, 20, 14, -1, 11, 10, 15, 23, 22, 19, 19, 20, 9, 16, 15, 21, 10, 16, 21, 13, 10, 17, 17, 16, 13, 11, 9, 8, 12, 16, 13, 12, 15, 18, 13, 15, 11, 11, 11, 13, 7, 19, 14, 13, 18, 13, 14, 15, 10, 15, 12, 8, 14, 13, 12, 20, 15, 6, 21, 13, 15, 13, 17, 10, 9, 12, 23, 16, 14, 14, 13]}, {\"name\": \"Sugar\", \"text\": [\"100% Bran\", \"100% Natural Bran\", \"All-Bran\", \"All-Bran with Extra Fiber\", \"Almond Delight\", \"Apple Cinnamon Cheerios\", \"Apple Jacks\", \"Basic 4\", \"Bran Chex\", \"Bran Flakes\", \"Cap'n'Crunch\", \"Cheerios\", \"Cinnamon Toast Crunch\", \"Clusters\", \"Cocoa Puffs\", \"Corn Chex\", \"Corn Flakes\", \"Corn Pops\", \"Count Chocula\", \"Cracklin' Oat Bran\", \"Cream of Wheat (Quick)\", \"Crispix\", \"Crispy Wheat & Raisins\", \"Double Chex\", \"Froot Loops\", \"Frosted Flakes\", \"Frosted Mini-Wheats\", \"Fruit & Fibre Dates\", \"Fruitful Bran\", \"Fruity Pebbles\", \"Golden Crisp\", \"Golden Grahams\", \"Grape Nuts Flakes\", \"Grape-Nuts\", \"Great Grains Pecan\", \"Honey Graham Ohs\", \"Honey Nut Cheerios\", \"Honey-comb\", \"Just Right Crunchy  Nuggets\", \"Just Right Fruit & Nut\", \"Kix\", \"Life\", \"Lucky Charms\", \"Maypo\", \"Dates & Almonds\", \"Peaches & Pecans\", \"Mueslix Crispy Blend\", \"Multi-Grain Cheerios\", \"Nut&Honey Crunch\", \"Nutri-Grain Almond-Raisin\", \"Nutri-grain Wheat\", \"Oatmeal Raisin Crisp\", \"Post Nat. Raisin Bran\", \"Product 19\", \"Puffed Rice\", \"Puffed Wheat\", \"Quaker Oat Squares\", \"Quaker Oatmeal\", \"Raisin Bran\", \"Raisin Nut Bran\", \"Raisin Squares\", \"Rice Chex\", \"Rice Krispies\", \"Shredded Wheat\", \"Shredded Wheat 'n'Bran\", \"Shredded Wheat spoon size\", \"Smacks\", \"Special K\", \"Strawberry Fruit Wheats\", \"Total Corn Flakes\", \"Total Raisin Bran\", \"Total Whole Grain\", \"Triples\", \"Trix\", \"Walnuts & Oats\", \"Wheat Chex\", \"Wheaties\", \"Wheaties Honey Gold\", \"All-Bran Complete Wheat Flakes Cereal\", \"Eggo\", \"Honey Smacks\", \"Krave Double Chocolate\", \"Peeps\", \"Smart Start\", \"Annie's Whole Grain Cereal\", \"Cascadian Farm Organic Raisin Bran\", \"Cheerios Multi Grain\", \"Chex Wheat Cereal\", \"Cookie Crisp\", \"Dunkaroos\", \"Fiber One\", \"Good Belly\", \"Larabar (Peanut Butter)\", \"Oatmeal Crisp\", \"Wonderworks (Peanut Butter)\", \"Ahold 100% Whole Grain\", \"Hannaford Frosted Flakes\", \"Martin's Food Lion\", \"Hannaford Tasteeos Cereal\", \"Ahold Vanilla Almond Cereal\", \"Kelloggs Special Fruit & Yogurt\", \"Kelloggs Special Original Cereal\", \"Quaker Life Cinnamon Multigrain\", \"Quaker Life Original Multigrain\", \"Quaker Life Ltd. Edition, Pumpkin Spice\", \"All-Bran\", \"Apple Jacks\", \"Basic 4\", \"Cocoa Puffs\", \"Corn Flakes\", \"Corn Pops\", \"Cracklin' Oat Bran\", \"Crispix\", \"Froot Loops\", \"Frosted Flakes\", \"Golden Grahams\", \"Kix\", \"Oatmeal Raisin Crisp\", \"Raisin Bran\", \"Raisin Nut Bran\", \"Rice Krispies\", \"Special K\", \"Total Whole Grain\", \"Trix\", \"Wheaties\"], \"type\": \"box\", \"x\": [1993, 1993, 1993, 1993, 1993, 1993, 1993, 1993, 1993, 1993, 1993, 1993, 1993, 1993, 1993, 1993, 1993, 1993, 1993, 1993, 1993, 1993, 1993, 1993, 1993, 1993, 1993, 1993, 1993, 1993, 1993, 1993, 1993, 1993, 1993, 1993, 1993, 1993, 1993, 1993, 1993, 1993, 1993, 1993, 1993, 1993, 1993, 1993, 1993, 1993, 1993, 1993, 1993, 1993, 1993, 1993, 1993, 1993, 1993, 1993, 1993, 1993, 1993, 1993, 1993, 1993, 1993, 1993, 1993, 1993, 1993, 1993, 1993, 1993, 1993, 1993, 1993, 2020, 2020, 2020, 2020, 2020, 2020, 2020, 2020, 2020, 2020, 2020, 2020, 2020, 2020, 2020, 2020, 2020, 2020, 2020, 2020, 2020, 2020, 2020, 2020, 2020, 2020, 2020, 2020, 2020, 2020, 2020, 2020, 2020, 2020, 2020, 2020, 2020, 2020, 2020, 2020, 2020, 2020, 2020, 2020, 2020, 2020, 2020, 2020], \"y\": [6, 8, 5, 0, 8, 10, 14, 6, 6, 5, 12, 1, 9, 7, 13, 3, 2, 12, 13, 7, 0, 3, 10, 5, 13, 11, 7, 8, 9, 12, 15, 9, 5, 3, 4, 11, 10, 11, 6, 7, 3, 6, 12, 3, 11, 11, 9, 6, 9, 5, 2, 8, 11, 3, 0, 0, 6, -1, 9, 8, 6, 2, 3, 0, 0, 0, 15, 3, 5, 3, 9, 3, 3, 12, 8, 3, 3, 8, 5, 10, 14, 11, 13, 8, 7, 7, 6, 3, 9, 10, 0, 7, 5, 6, 1, 0, 10, 4, 1, 8, 9, 3, 6, 6, 4, 5, 10, 6, 9, 3, 11, 8, 4, 9, 9, 9, 3, 6, 9, 8, 3, 4, 4, 9, 4]}],                        {\"boxmode\": \"group\", \"height\": 700, \"legend\": {\"orientation\": \"h\", \"x\": 0, \"xanchor\": \"left\", \"y\": 1.0, \"yanchor\": \"bottom\"}, \"template\": {\"data\": {\"bar\": [{\"error_x\": {\"color\": \"#2a3f5f\"}, \"error_y\": {\"color\": \"#2a3f5f\"}, \"marker\": {\"line\": {\"color\": \"#E5ECF6\", \"width\": 0.5}}, \"type\": \"bar\"}], \"barpolar\": [{\"marker\": {\"line\": {\"color\": \"#E5ECF6\", \"width\": 0.5}}, \"type\": \"barpolar\"}], \"carpet\": [{\"aaxis\": {\"endlinecolor\": \"#2a3f5f\", \"gridcolor\": \"white\", \"linecolor\": \"white\", \"minorgridcolor\": \"white\", \"startlinecolor\": \"#2a3f5f\"}, \"baxis\": {\"endlinecolor\": \"#2a3f5f\", \"gridcolor\": \"white\", \"linecolor\": \"white\", \"minorgridcolor\": \"white\", \"startlinecolor\": \"#2a3f5f\"}, \"type\": \"carpet\"}], \"choropleth\": [{\"colorbar\": {\"outlinewidth\": 0, \"ticks\": \"\"}, \"type\": \"choropleth\"}], \"contour\": [{\"colorbar\": {\"outlinewidth\": 0, \"ticks\": \"\"}, \"colorscale\": [[0.0, \"#0d0887\"], [0.1111111111111111, \"#46039f\"], [0.2222222222222222, \"#7201a8\"], [0.3333333333333333, \"#9c179e\"], [0.4444444444444444, \"#bd3786\"], [0.5555555555555556, \"#d8576b\"], [0.6666666666666666, \"#ed7953\"], [0.7777777777777778, \"#fb9f3a\"], [0.8888888888888888, \"#fdca26\"], [1.0, \"#f0f921\"]], \"type\": \"contour\"}], \"contourcarpet\": [{\"colorbar\": {\"outlinewidth\": 0, \"ticks\": \"\"}, \"type\": \"contourcarpet\"}], \"heatmap\": [{\"colorbar\": {\"outlinewidth\": 0, \"ticks\": \"\"}, \"colorscale\": [[0.0, \"#0d0887\"], [0.1111111111111111, \"#46039f\"], [0.2222222222222222, \"#7201a8\"], [0.3333333333333333, \"#9c179e\"], [0.4444444444444444, \"#bd3786\"], [0.5555555555555556, \"#d8576b\"], [0.6666666666666666, \"#ed7953\"], [0.7777777777777778, \"#fb9f3a\"], [0.8888888888888888, \"#fdca26\"], [1.0, \"#f0f921\"]], \"type\": \"heatmap\"}], \"heatmapgl\": [{\"colorbar\": {\"outlinewidth\": 0, \"ticks\": \"\"}, \"colorscale\": [[0.0, \"#0d0887\"], [0.1111111111111111, \"#46039f\"], [0.2222222222222222, \"#7201a8\"], [0.3333333333333333, \"#9c179e\"], [0.4444444444444444, \"#bd3786\"], [0.5555555555555556, \"#d8576b\"], [0.6666666666666666, \"#ed7953\"], [0.7777777777777778, \"#fb9f3a\"], [0.8888888888888888, \"#fdca26\"], [1.0, \"#f0f921\"]], \"type\": \"heatmapgl\"}], \"histogram\": [{\"marker\": {\"colorbar\": {\"outlinewidth\": 0, \"ticks\": \"\"}}, \"type\": \"histogram\"}], \"histogram2d\": [{\"colorbar\": {\"outlinewidth\": 0, \"ticks\": \"\"}, \"colorscale\": [[0.0, \"#0d0887\"], [0.1111111111111111, \"#46039f\"], [0.2222222222222222, \"#7201a8\"], [0.3333333333333333, \"#9c179e\"], [0.4444444444444444, \"#bd3786\"], [0.5555555555555556, \"#d8576b\"], [0.6666666666666666, \"#ed7953\"], [0.7777777777777778, \"#fb9f3a\"], [0.8888888888888888, \"#fdca26\"], [1.0, \"#f0f921\"]], \"type\": \"histogram2d\"}], \"histogram2dcontour\": [{\"colorbar\": {\"outlinewidth\": 0, \"ticks\": \"\"}, \"colorscale\": [[0.0, \"#0d0887\"], [0.1111111111111111, \"#46039f\"], [0.2222222222222222, \"#7201a8\"], [0.3333333333333333, \"#9c179e\"], [0.4444444444444444, \"#bd3786\"], [0.5555555555555556, \"#d8576b\"], [0.6666666666666666, \"#ed7953\"], [0.7777777777777778, \"#fb9f3a\"], [0.8888888888888888, \"#fdca26\"], [1.0, \"#f0f921\"]], \"type\": \"histogram2dcontour\"}], \"mesh3d\": [{\"colorbar\": {\"outlinewidth\": 0, \"ticks\": \"\"}, \"type\": \"mesh3d\"}], \"parcoords\": [{\"line\": {\"colorbar\": {\"outlinewidth\": 0, \"ticks\": \"\"}}, \"type\": \"parcoords\"}], \"pie\": [{\"automargin\": true, \"type\": \"pie\"}], \"scatter\": [{\"marker\": {\"colorbar\": {\"outlinewidth\": 0, \"ticks\": \"\"}}, \"type\": \"scatter\"}], \"scatter3d\": [{\"line\": {\"colorbar\": {\"outlinewidth\": 0, \"ticks\": \"\"}}, \"marker\": {\"colorbar\": {\"outlinewidth\": 0, \"ticks\": \"\"}}, \"type\": \"scatter3d\"}], \"scattercarpet\": [{\"marker\": {\"colorbar\": {\"outlinewidth\": 0, \"ticks\": \"\"}}, \"type\": \"scattercarpet\"}], \"scattergeo\": [{\"marker\": {\"colorbar\": {\"outlinewidth\": 0, \"ticks\": \"\"}}, \"type\": \"scattergeo\"}], \"scattergl\": [{\"marker\": {\"colorbar\": {\"outlinewidth\": 0, \"ticks\": \"\"}}, \"type\": \"scattergl\"}], \"scattermapbox\": [{\"marker\": {\"colorbar\": {\"outlinewidth\": 0, \"ticks\": \"\"}}, \"type\": \"scattermapbox\"}], \"scatterpolar\": [{\"marker\": {\"colorbar\": {\"outlinewidth\": 0, \"ticks\": \"\"}}, \"type\": \"scatterpolar\"}], \"scatterpolargl\": [{\"marker\": {\"colorbar\": {\"outlinewidth\": 0, \"ticks\": \"\"}}, \"type\": \"scatterpolargl\"}], \"scatterternary\": [{\"marker\": {\"colorbar\": {\"outlinewidth\": 0, \"ticks\": \"\"}}, \"type\": \"scatterternary\"}], \"surface\": [{\"colorbar\": {\"outlinewidth\": 0, \"ticks\": \"\"}, \"colorscale\": [[0.0, \"#0d0887\"], [0.1111111111111111, \"#46039f\"], [0.2222222222222222, \"#7201a8\"], [0.3333333333333333, \"#9c179e\"], [0.4444444444444444, \"#bd3786\"], [0.5555555555555556, \"#d8576b\"], [0.6666666666666666, \"#ed7953\"], [0.7777777777777778, \"#fb9f3a\"], [0.8888888888888888, \"#fdca26\"], [1.0, \"#f0f921\"]], \"type\": \"surface\"}], \"table\": [{\"cells\": {\"fill\": {\"color\": \"#EBF0F8\"}, \"line\": {\"color\": \"white\"}}, \"header\": {\"fill\": {\"color\": \"#C8D4E3\"}, \"line\": {\"color\": \"white\"}}, \"type\": \"table\"}]}, \"layout\": {\"annotationdefaults\": {\"arrowcolor\": \"#2a3f5f\", \"arrowhead\": 0, \"arrowwidth\": 1}, \"coloraxis\": {\"colorbar\": {\"outlinewidth\": 0, \"ticks\": \"\"}}, \"colorscale\": {\"diverging\": [[0, \"#8e0152\"], [0.1, \"#c51b7d\"], [0.2, \"#de77ae\"], [0.3, \"#f1b6da\"], [0.4, \"#fde0ef\"], [0.5, \"#f7f7f7\"], [0.6, \"#e6f5d0\"], [0.7, \"#b8e186\"], [0.8, \"#7fbc41\"], [0.9, \"#4d9221\"], [1, \"#276419\"]], \"sequential\": [[0.0, \"#0d0887\"], [0.1111111111111111, \"#46039f\"], [0.2222222222222222, \"#7201a8\"], [0.3333333333333333, \"#9c179e\"], [0.4444444444444444, \"#bd3786\"], [0.5555555555555556, \"#d8576b\"], [0.6666666666666666, \"#ed7953\"], [0.7777777777777778, \"#fb9f3a\"], [0.8888888888888888, \"#fdca26\"], [1.0, \"#f0f921\"]], \"sequentialminus\": [[0.0, \"#0d0887\"], [0.1111111111111111, \"#46039f\"], [0.2222222222222222, \"#7201a8\"], [0.3333333333333333, \"#9c179e\"], [0.4444444444444444, \"#bd3786\"], [0.5555555555555556, \"#d8576b\"], [0.6666666666666666, \"#ed7953\"], [0.7777777777777778, \"#fb9f3a\"], [0.8888888888888888, \"#fdca26\"], [1.0, \"#f0f921\"]]}, \"colorway\": [\"#636efa\", \"#EF553B\", \"#00cc96\", \"#ab63fa\", \"#FFA15A\", \"#19d3f3\", \"#FF6692\", \"#B6E880\", \"#FF97FF\", \"#FECB52\"], \"font\": {\"color\": \"#2a3f5f\"}, \"geo\": {\"bgcolor\": \"white\", \"lakecolor\": \"white\", \"landcolor\": \"#E5ECF6\", \"showlakes\": true, \"showland\": true, \"subunitcolor\": \"white\"}, \"hoverlabel\": {\"align\": \"left\"}, \"hovermode\": \"closest\", \"mapbox\": {\"style\": \"light\"}, \"paper_bgcolor\": \"white\", \"plot_bgcolor\": \"#E5ECF6\", \"polar\": {\"angularaxis\": {\"gridcolor\": \"white\", \"linecolor\": \"white\", \"ticks\": \"\"}, \"bgcolor\": \"#E5ECF6\", \"radialaxis\": {\"gridcolor\": \"white\", \"linecolor\": \"white\", \"ticks\": \"\"}}, \"scene\": {\"xaxis\": {\"backgroundcolor\": \"#E5ECF6\", \"gridcolor\": \"white\", \"gridwidth\": 2, \"linecolor\": \"white\", \"showbackground\": true, \"ticks\": \"\", \"zerolinecolor\": \"white\"}, \"yaxis\": {\"backgroundcolor\": \"#E5ECF6\", \"gridcolor\": \"white\", \"gridwidth\": 2, \"linecolor\": \"white\", \"showbackground\": true, \"ticks\": \"\", \"zerolinecolor\": \"white\"}, \"zaxis\": {\"backgroundcolor\": \"#E5ECF6\", \"gridcolor\": \"white\", \"gridwidth\": 2, \"linecolor\": \"white\", \"showbackground\": true, \"ticks\": \"\", \"zerolinecolor\": \"white\"}}, \"shapedefaults\": {\"line\": {\"color\": \"#2a3f5f\"}}, \"ternary\": {\"aaxis\": {\"gridcolor\": \"white\", \"linecolor\": \"white\", \"ticks\": \"\"}, \"baxis\": {\"gridcolor\": \"white\", \"linecolor\": \"white\", \"ticks\": \"\"}, \"bgcolor\": \"#E5ECF6\", \"caxis\": {\"gridcolor\": \"white\", \"linecolor\": \"white\", \"ticks\": \"\"}}, \"title\": {\"x\": 0.05}, \"xaxis\": {\"automargin\": true, \"gridcolor\": \"white\", \"linecolor\": \"white\", \"ticks\": \"\", \"title\": {\"standoff\": 15}, \"zerolinecolor\": \"white\", \"zerolinewidth\": 2}, \"yaxis\": {\"automargin\": true, \"gridcolor\": \"white\", \"linecolor\": \"white\", \"ticks\": \"\", \"title\": {\"standoff\": 15}, \"zerolinecolor\": \"white\", \"zerolinewidth\": 2}}}, \"title\": {\"text\": \"Protein, Fat, Fiber, Carbohydrate and Sugar per ounce distribution change between 1993 and 2020\"}, \"yaxis\": {\"title\": {\"text\": \"grams/ounce\"}}},                        {\"responsive\": true}                    ).then(function(){\n",
       "                            \n",
       "var gd = document.getElementById('80349bc4-8a95-4cce-802f-cef290a6c9ca');\n",
       "var x = new MutationObserver(function (mutations, observer) {{\n",
       "        var display = window.getComputedStyle(gd).display;\n",
       "        if (!display || display === 'none') {{\n",
       "            console.log([gd, 'removed!']);\n",
       "            Plotly.purge(gd);\n",
       "            observer.disconnect();\n",
       "        }}\n",
       "}});\n",
       "\n",
       "// Listen for the removal of the full notebook cells\n",
       "var notebookContainer = gd.closest('#notebook-container');\n",
       "if (notebookContainer) {{\n",
       "    x.observe(notebookContainer, {childList: true});\n",
       "}}\n",
       "\n",
       "// Listen for the clearing of the current output cell\n",
       "var outputEl = gd.closest('.output');\n",
       "if (outputEl) {{\n",
       "    x.observe(outputEl, {childList: true});\n",
       "}}\n",
       "\n",
       "                        })                };                });            </script>        </div>"
      ]
     },
     "metadata": {},
     "output_type": "display_data"
    }
   ],
   "source": [
    "fig = go.Figure()\n",
    "\n",
    "for col_name in int_col_names[1:-2]:\n",
    "    fig.add_trace(go.Box(y = df_main[col_name], x = df_main.Year, name = col_name, text = df_main['Name']))\n",
    "\n",
    "fig.update_yaxes(title_text = 'grams/ounce')\n",
    "\n",
    "fig.update_layout(boxmode = 'group', \n",
    "                  legend = dict(orientation = 'h', yanchor = 'bottom', y = 1.0, xanchor = 'left', x = 0),\n",
    "                  height = 700,\n",
    "                  title_text = 'Protein, Fat, Fiber, Carbohydrate and Sugar per ounce distribution change between 1993 and 2020')\n",
    "fig.show()"
   ]
  },
  {
   "cell_type": "markdown",
   "metadata": {},
   "source": [
    "#### `Sodium` and `Potassium`"
   ]
  },
  {
   "cell_type": "code",
   "execution_count": 23,
   "metadata": {
    "ExecuteTime": {
     "end_time": "2021-03-21T10:46:08.027202Z",
     "start_time": "2021-03-21T10:46:07.979199Z"
    }
   },
   "outputs": [
    {
     "data": {
      "application/vnd.plotly.v1+json": {
       "config": {
        "plotlyServerURL": "https://plotly.com"
       },
       "data": [
        {
         "name": "Sodium",
         "text": [
          "100% Bran",
          "100% Natural Bran",
          "All-Bran",
          "All-Bran with Extra Fiber",
          "Almond Delight",
          "Apple Cinnamon Cheerios",
          "Apple Jacks",
          "Basic 4",
          "Bran Chex",
          "Bran Flakes",
          "Cap'n'Crunch",
          "Cheerios",
          "Cinnamon Toast Crunch",
          "Clusters",
          "Cocoa Puffs",
          "Corn Chex",
          "Corn Flakes",
          "Corn Pops",
          "Count Chocula",
          "Cracklin' Oat Bran",
          "Cream of Wheat (Quick)",
          "Crispix",
          "Crispy Wheat & Raisins",
          "Double Chex",
          "Froot Loops",
          "Frosted Flakes",
          "Frosted Mini-Wheats",
          "Fruit & Fibre Dates",
          "Fruitful Bran",
          "Fruity Pebbles",
          "Golden Crisp",
          "Golden Grahams",
          "Grape Nuts Flakes",
          "Grape-Nuts",
          "Great Grains Pecan",
          "Honey Graham Ohs",
          "Honey Nut Cheerios",
          "Honey-comb",
          "Just Right Crunchy  Nuggets",
          "Just Right Fruit & Nut",
          "Kix",
          "Life",
          "Lucky Charms",
          "Maypo",
          "Dates & Almonds",
          "Peaches & Pecans",
          "Mueslix Crispy Blend",
          "Multi-Grain Cheerios",
          "Nut&Honey Crunch",
          "Nutri-Grain Almond-Raisin",
          "Nutri-grain Wheat",
          "Oatmeal Raisin Crisp",
          "Post Nat. Raisin Bran",
          "Product 19",
          "Puffed Rice",
          "Puffed Wheat",
          "Quaker Oat Squares",
          "Quaker Oatmeal",
          "Raisin Bran",
          "Raisin Nut Bran",
          "Raisin Squares",
          "Rice Chex",
          "Rice Krispies",
          "Shredded Wheat",
          "Shredded Wheat 'n'Bran",
          "Shredded Wheat spoon size",
          "Smacks",
          "Special K",
          "Strawberry Fruit Wheats",
          "Total Corn Flakes",
          "Total Raisin Bran",
          "Total Whole Grain",
          "Triples",
          "Trix",
          "Walnuts & Oats",
          "Wheat Chex",
          "Wheaties",
          "Wheaties Honey Gold",
          "All-Bran Complete Wheat Flakes Cereal",
          "Eggo",
          "Honey Smacks",
          "Krave Double Chocolate",
          "Peeps",
          "Smart Start",
          "Annie's Whole Grain Cereal",
          "Cascadian Farm Organic Raisin Bran",
          "Cheerios Multi Grain",
          "Chex Wheat Cereal",
          "Cookie Crisp",
          "Dunkaroos",
          "Fiber One",
          "Good Belly",
          "Larabar (Peanut Butter)",
          "Oatmeal Crisp",
          "Wonderworks (Peanut Butter)",
          "Ahold 100% Whole Grain",
          "Hannaford Frosted Flakes",
          "Martin's Food Lion",
          "Hannaford Tasteeos Cereal",
          "Ahold Vanilla Almond Cereal",
          "Kelloggs Special Fruit & Yogurt",
          "Kelloggs Special Original Cereal",
          "Quaker Life Cinnamon Multigrain",
          "Quaker Life Original Multigrain",
          "Quaker Life Ltd. Edition, Pumpkin Spice",
          "All-Bran",
          "Apple Jacks",
          "Basic 4",
          "Cocoa Puffs",
          "Corn Flakes",
          "Corn Pops",
          "Cracklin' Oat Bran",
          "Crispix",
          "Froot Loops",
          "Frosted Flakes",
          "Golden Grahams",
          "Kix",
          "Oatmeal Raisin Crisp",
          "Raisin Bran",
          "Raisin Nut Bran",
          "Rice Krispies",
          "Special K",
          "Total Whole Grain",
          "Trix",
          "Wheaties"
         ],
         "type": "box",
         "x": [
          1993,
          1993,
          1993,
          1993,
          1993,
          1993,
          1993,
          1993,
          1993,
          1993,
          1993,
          1993,
          1993,
          1993,
          1993,
          1993,
          1993,
          1993,
          1993,
          1993,
          1993,
          1993,
          1993,
          1993,
          1993,
          1993,
          1993,
          1993,
          1993,
          1993,
          1993,
          1993,
          1993,
          1993,
          1993,
          1993,
          1993,
          1993,
          1993,
          1993,
          1993,
          1993,
          1993,
          1993,
          1993,
          1993,
          1993,
          1993,
          1993,
          1993,
          1993,
          1993,
          1993,
          1993,
          1993,
          1993,
          1993,
          1993,
          1993,
          1993,
          1993,
          1993,
          1993,
          1993,
          1993,
          1993,
          1993,
          1993,
          1993,
          1993,
          1993,
          1993,
          1993,
          1993,
          1993,
          1993,
          1993,
          2020,
          2020,
          2020,
          2020,
          2020,
          2020,
          2020,
          2020,
          2020,
          2020,
          2020,
          2020,
          2020,
          2020,
          2020,
          2020,
          2020,
          2020,
          2020,
          2020,
          2020,
          2020,
          2020,
          2020,
          2020,
          2020,
          2020,
          2020,
          2020,
          2020,
          2020,
          2020,
          2020,
          2020,
          2020,
          2020,
          2020,
          2020,
          2020,
          2020,
          2020,
          2020,
          2020,
          2020,
          2020,
          2020,
          2020,
          2020
         ],
         "y": [
          0.13,
          0.02,
          0.26,
          0.14,
          0.2,
          0.18,
          0.12,
          0.16,
          0.2,
          0.21,
          0.22,
          0.29,
          0.21,
          0.14,
          0.18,
          0.28,
          0.29,
          0.09,
          0.18,
          0.14,
          0.08,
          0.22,
          0.14,
          0.19,
          0.12,
          0.2,
          0,
          0.13,
          0.18,
          0.14,
          0.04,
          0.28,
          0.14,
          0.17,
          0.08,
          0.22,
          0.25,
          0.18,
          0.17,
          0.13,
          0.26,
          0.15,
          0.18,
          0,
          0.1,
          0.15,
          0.1,
          0.22,
          0.19,
          0.17,
          0.17,
          0.14,
          0.15,
          0.32,
          0,
          0,
          0.14,
          0,
          0.16,
          0.14,
          0,
          0.24,
          0.29,
          0,
          0,
          0,
          0.07,
          0.23,
          0.02,
          0.2,
          0.13,
          0.2,
          0.25,
          0.14,
          0.13,
          0.23,
          0.2,
          0.2,
          0.2,
          0.12,
          0.04,
          0.1,
          0.12,
          0.12,
          0.08,
          0.13,
          0.11,
          0.16,
          0.14,
          0.12,
          0.1,
          0.11,
          0.11,
          0.06,
          0.06,
          0,
          0.11,
          0.17,
          0.16,
          0.14,
          0.13,
          0.17,
          0.1,
          0.14,
          0.11,
          0.2,
          0.16,
          0.14,
          0.1,
          0.2,
          0.11,
          0.03,
          0.19,
          0.15,
          0.15,
          0.21,
          0.16,
          0.06,
          0.1,
          0.12,
          0.14,
          0.2,
          0.17,
          0.13,
          0.19
         ]
        },
        {
         "name": "Potassium",
         "text": [
          "100% Bran",
          "100% Natural Bran",
          "All-Bran",
          "All-Bran with Extra Fiber",
          "Almond Delight",
          "Apple Cinnamon Cheerios",
          "Apple Jacks",
          "Basic 4",
          "Bran Chex",
          "Bran Flakes",
          "Cap'n'Crunch",
          "Cheerios",
          "Cinnamon Toast Crunch",
          "Clusters",
          "Cocoa Puffs",
          "Corn Chex",
          "Corn Flakes",
          "Corn Pops",
          "Count Chocula",
          "Cracklin' Oat Bran",
          "Cream of Wheat (Quick)",
          "Crispix",
          "Crispy Wheat & Raisins",
          "Double Chex",
          "Froot Loops",
          "Frosted Flakes",
          "Frosted Mini-Wheats",
          "Fruit & Fibre Dates",
          "Fruitful Bran",
          "Fruity Pebbles",
          "Golden Crisp",
          "Golden Grahams",
          "Grape Nuts Flakes",
          "Grape-Nuts",
          "Great Grains Pecan",
          "Honey Graham Ohs",
          "Honey Nut Cheerios",
          "Honey-comb",
          "Just Right Crunchy  Nuggets",
          "Just Right Fruit & Nut",
          "Kix",
          "Life",
          "Lucky Charms",
          "Maypo",
          "Dates & Almonds",
          "Peaches & Pecans",
          "Mueslix Crispy Blend",
          "Multi-Grain Cheerios",
          "Nut&Honey Crunch",
          "Nutri-Grain Almond-Raisin",
          "Nutri-grain Wheat",
          "Oatmeal Raisin Crisp",
          "Post Nat. Raisin Bran",
          "Product 19",
          "Puffed Rice",
          "Puffed Wheat",
          "Quaker Oat Squares",
          "Quaker Oatmeal",
          "Raisin Bran",
          "Raisin Nut Bran",
          "Raisin Squares",
          "Rice Chex",
          "Rice Krispies",
          "Shredded Wheat",
          "Shredded Wheat 'n'Bran",
          "Shredded Wheat spoon size",
          "Smacks",
          "Special K",
          "Strawberry Fruit Wheats",
          "Total Corn Flakes",
          "Total Raisin Bran",
          "Total Whole Grain",
          "Triples",
          "Trix",
          "Walnuts & Oats",
          "Wheat Chex",
          "Wheaties",
          "Wheaties Honey Gold",
          "All-Bran Complete Wheat Flakes Cereal",
          "Eggo",
          "Honey Smacks",
          "Krave Double Chocolate",
          "Peeps",
          "Smart Start",
          "Annie's Whole Grain Cereal",
          "Cascadian Farm Organic Raisin Bran",
          "Cheerios Multi Grain",
          "Chex Wheat Cereal",
          "Cookie Crisp",
          "Dunkaroos",
          "Fiber One",
          "Good Belly",
          "Larabar (Peanut Butter)",
          "Oatmeal Crisp",
          "Wonderworks (Peanut Butter)",
          "Ahold 100% Whole Grain",
          "Hannaford Frosted Flakes",
          "Martin's Food Lion",
          "Hannaford Tasteeos Cereal",
          "Ahold Vanilla Almond Cereal",
          "Kelloggs Special Fruit & Yogurt",
          "Kelloggs Special Original Cereal",
          "Quaker Life Cinnamon Multigrain",
          "Quaker Life Original Multigrain",
          "Quaker Life Ltd. Edition, Pumpkin Spice",
          "All-Bran",
          "Apple Jacks",
          "Basic 4",
          "Cocoa Puffs",
          "Corn Flakes",
          "Corn Pops",
          "Cracklin' Oat Bran",
          "Crispix",
          "Froot Loops",
          "Frosted Flakes",
          "Golden Grahams",
          "Kix",
          "Oatmeal Raisin Crisp",
          "Raisin Bran",
          "Raisin Nut Bran",
          "Rice Krispies",
          "Special K",
          "Total Whole Grain",
          "Trix",
          "Wheaties"
         ],
         "type": "box",
         "x": [
          1993,
          1993,
          1993,
          1993,
          1993,
          1993,
          1993,
          1993,
          1993,
          1993,
          1993,
          1993,
          1993,
          1993,
          1993,
          1993,
          1993,
          1993,
          1993,
          1993,
          1993,
          1993,
          1993,
          1993,
          1993,
          1993,
          1993,
          1993,
          1993,
          1993,
          1993,
          1993,
          1993,
          1993,
          1993,
          1993,
          1993,
          1993,
          1993,
          1993,
          1993,
          1993,
          1993,
          1993,
          1993,
          1993,
          1993,
          1993,
          1993,
          1993,
          1993,
          1993,
          1993,
          1993,
          1993,
          1993,
          1993,
          1993,
          1993,
          1993,
          1993,
          1993,
          1993,
          1993,
          1993,
          1993,
          1993,
          1993,
          1993,
          1993,
          1993,
          1993,
          1993,
          1993,
          1993,
          1993,
          1993,
          2020,
          2020,
          2020,
          2020,
          2020,
          2020,
          2020,
          2020,
          2020,
          2020,
          2020,
          2020,
          2020,
          2020,
          2020,
          2020,
          2020,
          2020,
          2020,
          2020,
          2020,
          2020,
          2020,
          2020,
          2020,
          2020,
          2020,
          2020,
          2020,
          2020,
          2020,
          2020,
          2020,
          2020,
          2020,
          2020,
          2020,
          2020,
          2020,
          2020,
          2020,
          2020,
          2020,
          2020,
          2020,
          2020,
          2020,
          2020
         ],
         "y": [
          0.28,
          0.14,
          0.32,
          0.33,
          0,
          0.07,
          0.03,
          0.08,
          0.12,
          0.19,
          0.04,
          0.1,
          0.04,
          0.1,
          0.06,
          0.02,
          0.04,
          0.02,
          0.06,
          0.16,
          0,
          0.03,
          0.12,
          0.08,
          0.03,
          0.02,
          0.1,
          0.16,
          0.14,
          0.02,
          0.04,
          0.04,
          0.08,
          0.09,
          0.1,
          0.04,
          0.09,
          0.04,
          0.06,
          0.07,
          0.04,
          0.1,
          0.06,
          0.1,
          0.17,
          0.17,
          0.11,
          0.09,
          0.04,
          0.1,
          0.09,
          0.1,
          0.2,
          0.04,
          0.03,
          0.1,
          0.11,
          0.11,
          0.18,
          0.14,
          0.11,
          0.03,
          0.04,
          0.11,
          0.14,
          0.12,
          0.04,
          0.06,
          0.09,
          0.04,
          0.15,
          0.11,
          0.06,
          0.02,
          0.16,
          0.12,
          0.11,
          0.06,
          0.15,
          0.06,
          0.06,
          0.09,
          0.03,
          0.06,
          0.09,
          0.14,
          0.12,
          0.09,
          0,
          0,
          0,
          0.13,
          0.1,
          0.09,
          0.08,
          0.1,
          0,
          0.16,
          0.04,
          0,
          0.06,
          0,
          0.59,
          0.26,
          0.06,
          0.15,
          0.04,
          0.09,
          0.08,
          0.04,
          0.02,
          0.11,
          0.01,
          0.04,
          0.02,
          0,
          0,
          0.09,
          0.13,
          0.1,
          0.02,
          0.01,
          0.24,
          0,
          0.1
         ]
        }
       ],
       "layout": {
        "boxmode": "group",
        "height": 600,
        "legend": {
         "orientation": "h",
         "x": 0,
         "xanchor": "left",
         "y": 1,
         "yanchor": "bottom"
        },
        "template": {
         "data": {
          "bar": [
           {
            "error_x": {
             "color": "#2a3f5f"
            },
            "error_y": {
             "color": "#2a3f5f"
            },
            "marker": {
             "line": {
              "color": "#E5ECF6",
              "width": 0.5
             }
            },
            "type": "bar"
           }
          ],
          "barpolar": [
           {
            "marker": {
             "line": {
              "color": "#E5ECF6",
              "width": 0.5
             }
            },
            "type": "barpolar"
           }
          ],
          "carpet": [
           {
            "aaxis": {
             "endlinecolor": "#2a3f5f",
             "gridcolor": "white",
             "linecolor": "white",
             "minorgridcolor": "white",
             "startlinecolor": "#2a3f5f"
            },
            "baxis": {
             "endlinecolor": "#2a3f5f",
             "gridcolor": "white",
             "linecolor": "white",
             "minorgridcolor": "white",
             "startlinecolor": "#2a3f5f"
            },
            "type": "carpet"
           }
          ],
          "choropleth": [
           {
            "colorbar": {
             "outlinewidth": 0,
             "ticks": ""
            },
            "type": "choropleth"
           }
          ],
          "contour": [
           {
            "colorbar": {
             "outlinewidth": 0,
             "ticks": ""
            },
            "colorscale": [
             [
              0,
              "#0d0887"
             ],
             [
              0.1111111111111111,
              "#46039f"
             ],
             [
              0.2222222222222222,
              "#7201a8"
             ],
             [
              0.3333333333333333,
              "#9c179e"
             ],
             [
              0.4444444444444444,
              "#bd3786"
             ],
             [
              0.5555555555555556,
              "#d8576b"
             ],
             [
              0.6666666666666666,
              "#ed7953"
             ],
             [
              0.7777777777777778,
              "#fb9f3a"
             ],
             [
              0.8888888888888888,
              "#fdca26"
             ],
             [
              1,
              "#f0f921"
             ]
            ],
            "type": "contour"
           }
          ],
          "contourcarpet": [
           {
            "colorbar": {
             "outlinewidth": 0,
             "ticks": ""
            },
            "type": "contourcarpet"
           }
          ],
          "heatmap": [
           {
            "colorbar": {
             "outlinewidth": 0,
             "ticks": ""
            },
            "colorscale": [
             [
              0,
              "#0d0887"
             ],
             [
              0.1111111111111111,
              "#46039f"
             ],
             [
              0.2222222222222222,
              "#7201a8"
             ],
             [
              0.3333333333333333,
              "#9c179e"
             ],
             [
              0.4444444444444444,
              "#bd3786"
             ],
             [
              0.5555555555555556,
              "#d8576b"
             ],
             [
              0.6666666666666666,
              "#ed7953"
             ],
             [
              0.7777777777777778,
              "#fb9f3a"
             ],
             [
              0.8888888888888888,
              "#fdca26"
             ],
             [
              1,
              "#f0f921"
             ]
            ],
            "type": "heatmap"
           }
          ],
          "heatmapgl": [
           {
            "colorbar": {
             "outlinewidth": 0,
             "ticks": ""
            },
            "colorscale": [
             [
              0,
              "#0d0887"
             ],
             [
              0.1111111111111111,
              "#46039f"
             ],
             [
              0.2222222222222222,
              "#7201a8"
             ],
             [
              0.3333333333333333,
              "#9c179e"
             ],
             [
              0.4444444444444444,
              "#bd3786"
             ],
             [
              0.5555555555555556,
              "#d8576b"
             ],
             [
              0.6666666666666666,
              "#ed7953"
             ],
             [
              0.7777777777777778,
              "#fb9f3a"
             ],
             [
              0.8888888888888888,
              "#fdca26"
             ],
             [
              1,
              "#f0f921"
             ]
            ],
            "type": "heatmapgl"
           }
          ],
          "histogram": [
           {
            "marker": {
             "colorbar": {
              "outlinewidth": 0,
              "ticks": ""
             }
            },
            "type": "histogram"
           }
          ],
          "histogram2d": [
           {
            "colorbar": {
             "outlinewidth": 0,
             "ticks": ""
            },
            "colorscale": [
             [
              0,
              "#0d0887"
             ],
             [
              0.1111111111111111,
              "#46039f"
             ],
             [
              0.2222222222222222,
              "#7201a8"
             ],
             [
              0.3333333333333333,
              "#9c179e"
             ],
             [
              0.4444444444444444,
              "#bd3786"
             ],
             [
              0.5555555555555556,
              "#d8576b"
             ],
             [
              0.6666666666666666,
              "#ed7953"
             ],
             [
              0.7777777777777778,
              "#fb9f3a"
             ],
             [
              0.8888888888888888,
              "#fdca26"
             ],
             [
              1,
              "#f0f921"
             ]
            ],
            "type": "histogram2d"
           }
          ],
          "histogram2dcontour": [
           {
            "colorbar": {
             "outlinewidth": 0,
             "ticks": ""
            },
            "colorscale": [
             [
              0,
              "#0d0887"
             ],
             [
              0.1111111111111111,
              "#46039f"
             ],
             [
              0.2222222222222222,
              "#7201a8"
             ],
             [
              0.3333333333333333,
              "#9c179e"
             ],
             [
              0.4444444444444444,
              "#bd3786"
             ],
             [
              0.5555555555555556,
              "#d8576b"
             ],
             [
              0.6666666666666666,
              "#ed7953"
             ],
             [
              0.7777777777777778,
              "#fb9f3a"
             ],
             [
              0.8888888888888888,
              "#fdca26"
             ],
             [
              1,
              "#f0f921"
             ]
            ],
            "type": "histogram2dcontour"
           }
          ],
          "mesh3d": [
           {
            "colorbar": {
             "outlinewidth": 0,
             "ticks": ""
            },
            "type": "mesh3d"
           }
          ],
          "parcoords": [
           {
            "line": {
             "colorbar": {
              "outlinewidth": 0,
              "ticks": ""
             }
            },
            "type": "parcoords"
           }
          ],
          "pie": [
           {
            "automargin": true,
            "type": "pie"
           }
          ],
          "scatter": [
           {
            "marker": {
             "colorbar": {
              "outlinewidth": 0,
              "ticks": ""
             }
            },
            "type": "scatter"
           }
          ],
          "scatter3d": [
           {
            "line": {
             "colorbar": {
              "outlinewidth": 0,
              "ticks": ""
             }
            },
            "marker": {
             "colorbar": {
              "outlinewidth": 0,
              "ticks": ""
             }
            },
            "type": "scatter3d"
           }
          ],
          "scattercarpet": [
           {
            "marker": {
             "colorbar": {
              "outlinewidth": 0,
              "ticks": ""
             }
            },
            "type": "scattercarpet"
           }
          ],
          "scattergeo": [
           {
            "marker": {
             "colorbar": {
              "outlinewidth": 0,
              "ticks": ""
             }
            },
            "type": "scattergeo"
           }
          ],
          "scattergl": [
           {
            "marker": {
             "colorbar": {
              "outlinewidth": 0,
              "ticks": ""
             }
            },
            "type": "scattergl"
           }
          ],
          "scattermapbox": [
           {
            "marker": {
             "colorbar": {
              "outlinewidth": 0,
              "ticks": ""
             }
            },
            "type": "scattermapbox"
           }
          ],
          "scatterpolar": [
           {
            "marker": {
             "colorbar": {
              "outlinewidth": 0,
              "ticks": ""
             }
            },
            "type": "scatterpolar"
           }
          ],
          "scatterpolargl": [
           {
            "marker": {
             "colorbar": {
              "outlinewidth": 0,
              "ticks": ""
             }
            },
            "type": "scatterpolargl"
           }
          ],
          "scatterternary": [
           {
            "marker": {
             "colorbar": {
              "outlinewidth": 0,
              "ticks": ""
             }
            },
            "type": "scatterternary"
           }
          ],
          "surface": [
           {
            "colorbar": {
             "outlinewidth": 0,
             "ticks": ""
            },
            "colorscale": [
             [
              0,
              "#0d0887"
             ],
             [
              0.1111111111111111,
              "#46039f"
             ],
             [
              0.2222222222222222,
              "#7201a8"
             ],
             [
              0.3333333333333333,
              "#9c179e"
             ],
             [
              0.4444444444444444,
              "#bd3786"
             ],
             [
              0.5555555555555556,
              "#d8576b"
             ],
             [
              0.6666666666666666,
              "#ed7953"
             ],
             [
              0.7777777777777778,
              "#fb9f3a"
             ],
             [
              0.8888888888888888,
              "#fdca26"
             ],
             [
              1,
              "#f0f921"
             ]
            ],
            "type": "surface"
           }
          ],
          "table": [
           {
            "cells": {
             "fill": {
              "color": "#EBF0F8"
             },
             "line": {
              "color": "white"
             }
            },
            "header": {
             "fill": {
              "color": "#C8D4E3"
             },
             "line": {
              "color": "white"
             }
            },
            "type": "table"
           }
          ]
         },
         "layout": {
          "annotationdefaults": {
           "arrowcolor": "#2a3f5f",
           "arrowhead": 0,
           "arrowwidth": 1
          },
          "coloraxis": {
           "colorbar": {
            "outlinewidth": 0,
            "ticks": ""
           }
          },
          "colorscale": {
           "diverging": [
            [
             0,
             "#8e0152"
            ],
            [
             0.1,
             "#c51b7d"
            ],
            [
             0.2,
             "#de77ae"
            ],
            [
             0.3,
             "#f1b6da"
            ],
            [
             0.4,
             "#fde0ef"
            ],
            [
             0.5,
             "#f7f7f7"
            ],
            [
             0.6,
             "#e6f5d0"
            ],
            [
             0.7,
             "#b8e186"
            ],
            [
             0.8,
             "#7fbc41"
            ],
            [
             0.9,
             "#4d9221"
            ],
            [
             1,
             "#276419"
            ]
           ],
           "sequential": [
            [
             0,
             "#0d0887"
            ],
            [
             0.1111111111111111,
             "#46039f"
            ],
            [
             0.2222222222222222,
             "#7201a8"
            ],
            [
             0.3333333333333333,
             "#9c179e"
            ],
            [
             0.4444444444444444,
             "#bd3786"
            ],
            [
             0.5555555555555556,
             "#d8576b"
            ],
            [
             0.6666666666666666,
             "#ed7953"
            ],
            [
             0.7777777777777778,
             "#fb9f3a"
            ],
            [
             0.8888888888888888,
             "#fdca26"
            ],
            [
             1,
             "#f0f921"
            ]
           ],
           "sequentialminus": [
            [
             0,
             "#0d0887"
            ],
            [
             0.1111111111111111,
             "#46039f"
            ],
            [
             0.2222222222222222,
             "#7201a8"
            ],
            [
             0.3333333333333333,
             "#9c179e"
            ],
            [
             0.4444444444444444,
             "#bd3786"
            ],
            [
             0.5555555555555556,
             "#d8576b"
            ],
            [
             0.6666666666666666,
             "#ed7953"
            ],
            [
             0.7777777777777778,
             "#fb9f3a"
            ],
            [
             0.8888888888888888,
             "#fdca26"
            ],
            [
             1,
             "#f0f921"
            ]
           ]
          },
          "colorway": [
           "#636efa",
           "#EF553B",
           "#00cc96",
           "#ab63fa",
           "#FFA15A",
           "#19d3f3",
           "#FF6692",
           "#B6E880",
           "#FF97FF",
           "#FECB52"
          ],
          "font": {
           "color": "#2a3f5f"
          },
          "geo": {
           "bgcolor": "white",
           "lakecolor": "white",
           "landcolor": "#E5ECF6",
           "showlakes": true,
           "showland": true,
           "subunitcolor": "white"
          },
          "hoverlabel": {
           "align": "left"
          },
          "hovermode": "closest",
          "mapbox": {
           "style": "light"
          },
          "paper_bgcolor": "white",
          "plot_bgcolor": "#E5ECF6",
          "polar": {
           "angularaxis": {
            "gridcolor": "white",
            "linecolor": "white",
            "ticks": ""
           },
           "bgcolor": "#E5ECF6",
           "radialaxis": {
            "gridcolor": "white",
            "linecolor": "white",
            "ticks": ""
           }
          },
          "scene": {
           "xaxis": {
            "backgroundcolor": "#E5ECF6",
            "gridcolor": "white",
            "gridwidth": 2,
            "linecolor": "white",
            "showbackground": true,
            "ticks": "",
            "zerolinecolor": "white"
           },
           "yaxis": {
            "backgroundcolor": "#E5ECF6",
            "gridcolor": "white",
            "gridwidth": 2,
            "linecolor": "white",
            "showbackground": true,
            "ticks": "",
            "zerolinecolor": "white"
           },
           "zaxis": {
            "backgroundcolor": "#E5ECF6",
            "gridcolor": "white",
            "gridwidth": 2,
            "linecolor": "white",
            "showbackground": true,
            "ticks": "",
            "zerolinecolor": "white"
           }
          },
          "shapedefaults": {
           "line": {
            "color": "#2a3f5f"
           }
          },
          "ternary": {
           "aaxis": {
            "gridcolor": "white",
            "linecolor": "white",
            "ticks": ""
           },
           "baxis": {
            "gridcolor": "white",
            "linecolor": "white",
            "ticks": ""
           },
           "bgcolor": "#E5ECF6",
           "caxis": {
            "gridcolor": "white",
            "linecolor": "white",
            "ticks": ""
           }
          },
          "title": {
           "x": 0.05
          },
          "xaxis": {
           "automargin": true,
           "gridcolor": "white",
           "linecolor": "white",
           "ticks": "",
           "title": {
            "standoff": 15
           },
           "zerolinecolor": "white",
           "zerolinewidth": 2
          },
          "yaxis": {
           "automargin": true,
           "gridcolor": "white",
           "linecolor": "white",
           "ticks": "",
           "title": {
            "standoff": 15
           },
           "zerolinecolor": "white",
           "zerolinewidth": 2
          }
         }
        },
        "title": {
         "text": "Sodium and Potassium per ounce Distribution Change between 1993 and 2020"
        },
        "yaxis": {
         "title": {
          "text": "grams/ounce"
         }
        }
       }
      },
      "text/html": [
       "<div>                            <div id=\"22dc8fd5-58f0-4699-b2db-7b0d358424c2\" class=\"plotly-graph-div\" style=\"height:600px; width:100%;\"></div>            <script type=\"text/javascript\">                require([\"plotly\"], function(Plotly) {                    window.PLOTLYENV=window.PLOTLYENV || {};                                    if (document.getElementById(\"22dc8fd5-58f0-4699-b2db-7b0d358424c2\")) {                    Plotly.newPlot(                        \"22dc8fd5-58f0-4699-b2db-7b0d358424c2\",                        [{\"name\": \"Sodium\", \"text\": [\"100% Bran\", \"100% Natural Bran\", \"All-Bran\", \"All-Bran with Extra Fiber\", \"Almond Delight\", \"Apple Cinnamon Cheerios\", \"Apple Jacks\", \"Basic 4\", \"Bran Chex\", \"Bran Flakes\", \"Cap'n'Crunch\", \"Cheerios\", \"Cinnamon Toast Crunch\", \"Clusters\", \"Cocoa Puffs\", \"Corn Chex\", \"Corn Flakes\", \"Corn Pops\", \"Count Chocula\", \"Cracklin' Oat Bran\", \"Cream of Wheat (Quick)\", \"Crispix\", \"Crispy Wheat & Raisins\", \"Double Chex\", \"Froot Loops\", \"Frosted Flakes\", \"Frosted Mini-Wheats\", \"Fruit & Fibre Dates\", \"Fruitful Bran\", \"Fruity Pebbles\", \"Golden Crisp\", \"Golden Grahams\", \"Grape Nuts Flakes\", \"Grape-Nuts\", \"Great Grains Pecan\", \"Honey Graham Ohs\", \"Honey Nut Cheerios\", \"Honey-comb\", \"Just Right Crunchy  Nuggets\", \"Just Right Fruit & Nut\", \"Kix\", \"Life\", \"Lucky Charms\", \"Maypo\", \"Dates & Almonds\", \"Peaches & Pecans\", \"Mueslix Crispy Blend\", \"Multi-Grain Cheerios\", \"Nut&Honey Crunch\", \"Nutri-Grain Almond-Raisin\", \"Nutri-grain Wheat\", \"Oatmeal Raisin Crisp\", \"Post Nat. Raisin Bran\", \"Product 19\", \"Puffed Rice\", \"Puffed Wheat\", \"Quaker Oat Squares\", \"Quaker Oatmeal\", \"Raisin Bran\", \"Raisin Nut Bran\", \"Raisin Squares\", \"Rice Chex\", \"Rice Krispies\", \"Shredded Wheat\", \"Shredded Wheat 'n'Bran\", \"Shredded Wheat spoon size\", \"Smacks\", \"Special K\", \"Strawberry Fruit Wheats\", \"Total Corn Flakes\", \"Total Raisin Bran\", \"Total Whole Grain\", \"Triples\", \"Trix\", \"Walnuts & Oats\", \"Wheat Chex\", \"Wheaties\", \"Wheaties Honey Gold\", \"All-Bran Complete Wheat Flakes Cereal\", \"Eggo\", \"Honey Smacks\", \"Krave Double Chocolate\", \"Peeps\", \"Smart Start\", \"Annie's Whole Grain Cereal\", \"Cascadian Farm Organic Raisin Bran\", \"Cheerios Multi Grain\", \"Chex Wheat Cereal\", \"Cookie Crisp\", \"Dunkaroos\", \"Fiber One\", \"Good Belly\", \"Larabar (Peanut Butter)\", \"Oatmeal Crisp\", \"Wonderworks (Peanut Butter)\", \"Ahold 100% Whole Grain\", \"Hannaford Frosted Flakes\", \"Martin's Food Lion\", \"Hannaford Tasteeos Cereal\", \"Ahold Vanilla Almond Cereal\", \"Kelloggs Special Fruit & Yogurt\", \"Kelloggs Special Original Cereal\", \"Quaker Life Cinnamon Multigrain\", \"Quaker Life Original Multigrain\", \"Quaker Life Ltd. Edition, Pumpkin Spice\", \"All-Bran\", \"Apple Jacks\", \"Basic 4\", \"Cocoa Puffs\", \"Corn Flakes\", \"Corn Pops\", \"Cracklin' Oat Bran\", \"Crispix\", \"Froot Loops\", \"Frosted Flakes\", \"Golden Grahams\", \"Kix\", \"Oatmeal Raisin Crisp\", \"Raisin Bran\", \"Raisin Nut Bran\", \"Rice Krispies\", \"Special K\", \"Total Whole Grain\", \"Trix\", \"Wheaties\"], \"type\": \"box\", \"x\": [1993, 1993, 1993, 1993, 1993, 1993, 1993, 1993, 1993, 1993, 1993, 1993, 1993, 1993, 1993, 1993, 1993, 1993, 1993, 1993, 1993, 1993, 1993, 1993, 1993, 1993, 1993, 1993, 1993, 1993, 1993, 1993, 1993, 1993, 1993, 1993, 1993, 1993, 1993, 1993, 1993, 1993, 1993, 1993, 1993, 1993, 1993, 1993, 1993, 1993, 1993, 1993, 1993, 1993, 1993, 1993, 1993, 1993, 1993, 1993, 1993, 1993, 1993, 1993, 1993, 1993, 1993, 1993, 1993, 1993, 1993, 1993, 1993, 1993, 1993, 1993, 1993, 2020, 2020, 2020, 2020, 2020, 2020, 2020, 2020, 2020, 2020, 2020, 2020, 2020, 2020, 2020, 2020, 2020, 2020, 2020, 2020, 2020, 2020, 2020, 2020, 2020, 2020, 2020, 2020, 2020, 2020, 2020, 2020, 2020, 2020, 2020, 2020, 2020, 2020, 2020, 2020, 2020, 2020, 2020, 2020, 2020, 2020, 2020, 2020], \"y\": [0.13, 0.02, 0.26, 0.14, 0.2, 0.18, 0.12, 0.16, 0.2, 0.21, 0.22, 0.29, 0.21, 0.14, 0.18, 0.28, 0.29, 0.09, 0.18, 0.14, 0.08, 0.22, 0.14, 0.19, 0.12, 0.2, 0.0, 0.13, 0.18, 0.14, 0.04, 0.28, 0.14, 0.17, 0.08, 0.22, 0.25, 0.18, 0.17, 0.13, 0.26, 0.15, 0.18, 0.0, 0.1, 0.15, 0.1, 0.22, 0.19, 0.17, 0.17, 0.14, 0.15, 0.32, 0.0, 0.0, 0.14, 0.0, 0.16, 0.14, 0.0, 0.24, 0.29, 0.0, 0.0, 0.0, 0.07, 0.23, 0.02, 0.2, 0.13, 0.2, 0.25, 0.14, 0.13, 0.23, 0.2, 0.2, 0.2, 0.12, 0.04, 0.1, 0.12, 0.12, 0.08, 0.13, 0.11, 0.16, 0.14, 0.12, 0.1, 0.11, 0.11, 0.06, 0.06, 0.0, 0.11, 0.17, 0.16, 0.14, 0.13, 0.17, 0.1, 0.14, 0.11, 0.2, 0.16, 0.14, 0.1, 0.2, 0.11, 0.03, 0.19, 0.15, 0.15, 0.21, 0.16, 0.06, 0.1, 0.12, 0.14, 0.2, 0.17, 0.13, 0.19]}, {\"name\": \"Potassium\", \"text\": [\"100% Bran\", \"100% Natural Bran\", \"All-Bran\", \"All-Bran with Extra Fiber\", \"Almond Delight\", \"Apple Cinnamon Cheerios\", \"Apple Jacks\", \"Basic 4\", \"Bran Chex\", \"Bran Flakes\", \"Cap'n'Crunch\", \"Cheerios\", \"Cinnamon Toast Crunch\", \"Clusters\", \"Cocoa Puffs\", \"Corn Chex\", \"Corn Flakes\", \"Corn Pops\", \"Count Chocula\", \"Cracklin' Oat Bran\", \"Cream of Wheat (Quick)\", \"Crispix\", \"Crispy Wheat & Raisins\", \"Double Chex\", \"Froot Loops\", \"Frosted Flakes\", \"Frosted Mini-Wheats\", \"Fruit & Fibre Dates\", \"Fruitful Bran\", \"Fruity Pebbles\", \"Golden Crisp\", \"Golden Grahams\", \"Grape Nuts Flakes\", \"Grape-Nuts\", \"Great Grains Pecan\", \"Honey Graham Ohs\", \"Honey Nut Cheerios\", \"Honey-comb\", \"Just Right Crunchy  Nuggets\", \"Just Right Fruit & Nut\", \"Kix\", \"Life\", \"Lucky Charms\", \"Maypo\", \"Dates & Almonds\", \"Peaches & Pecans\", \"Mueslix Crispy Blend\", \"Multi-Grain Cheerios\", \"Nut&Honey Crunch\", \"Nutri-Grain Almond-Raisin\", \"Nutri-grain Wheat\", \"Oatmeal Raisin Crisp\", \"Post Nat. Raisin Bran\", \"Product 19\", \"Puffed Rice\", \"Puffed Wheat\", \"Quaker Oat Squares\", \"Quaker Oatmeal\", \"Raisin Bran\", \"Raisin Nut Bran\", \"Raisin Squares\", \"Rice Chex\", \"Rice Krispies\", \"Shredded Wheat\", \"Shredded Wheat 'n'Bran\", \"Shredded Wheat spoon size\", \"Smacks\", \"Special K\", \"Strawberry Fruit Wheats\", \"Total Corn Flakes\", \"Total Raisin Bran\", \"Total Whole Grain\", \"Triples\", \"Trix\", \"Walnuts & Oats\", \"Wheat Chex\", \"Wheaties\", \"Wheaties Honey Gold\", \"All-Bran Complete Wheat Flakes Cereal\", \"Eggo\", \"Honey Smacks\", \"Krave Double Chocolate\", \"Peeps\", \"Smart Start\", \"Annie's Whole Grain Cereal\", \"Cascadian Farm Organic Raisin Bran\", \"Cheerios Multi Grain\", \"Chex Wheat Cereal\", \"Cookie Crisp\", \"Dunkaroos\", \"Fiber One\", \"Good Belly\", \"Larabar (Peanut Butter)\", \"Oatmeal Crisp\", \"Wonderworks (Peanut Butter)\", \"Ahold 100% Whole Grain\", \"Hannaford Frosted Flakes\", \"Martin's Food Lion\", \"Hannaford Tasteeos Cereal\", \"Ahold Vanilla Almond Cereal\", \"Kelloggs Special Fruit & Yogurt\", \"Kelloggs Special Original Cereal\", \"Quaker Life Cinnamon Multigrain\", \"Quaker Life Original Multigrain\", \"Quaker Life Ltd. Edition, Pumpkin Spice\", \"All-Bran\", \"Apple Jacks\", \"Basic 4\", \"Cocoa Puffs\", \"Corn Flakes\", \"Corn Pops\", \"Cracklin' Oat Bran\", \"Crispix\", \"Froot Loops\", \"Frosted Flakes\", \"Golden Grahams\", \"Kix\", \"Oatmeal Raisin Crisp\", \"Raisin Bran\", \"Raisin Nut Bran\", \"Rice Krispies\", \"Special K\", \"Total Whole Grain\", \"Trix\", \"Wheaties\"], \"type\": \"box\", \"x\": [1993, 1993, 1993, 1993, 1993, 1993, 1993, 1993, 1993, 1993, 1993, 1993, 1993, 1993, 1993, 1993, 1993, 1993, 1993, 1993, 1993, 1993, 1993, 1993, 1993, 1993, 1993, 1993, 1993, 1993, 1993, 1993, 1993, 1993, 1993, 1993, 1993, 1993, 1993, 1993, 1993, 1993, 1993, 1993, 1993, 1993, 1993, 1993, 1993, 1993, 1993, 1993, 1993, 1993, 1993, 1993, 1993, 1993, 1993, 1993, 1993, 1993, 1993, 1993, 1993, 1993, 1993, 1993, 1993, 1993, 1993, 1993, 1993, 1993, 1993, 1993, 1993, 2020, 2020, 2020, 2020, 2020, 2020, 2020, 2020, 2020, 2020, 2020, 2020, 2020, 2020, 2020, 2020, 2020, 2020, 2020, 2020, 2020, 2020, 2020, 2020, 2020, 2020, 2020, 2020, 2020, 2020, 2020, 2020, 2020, 2020, 2020, 2020, 2020, 2020, 2020, 2020, 2020, 2020, 2020, 2020, 2020, 2020, 2020, 2020], \"y\": [0.28, 0.14, 0.32, 0.33, -0.0, 0.07, 0.03, 0.08, 0.12, 0.19, 0.04, 0.1, 0.04, 0.1, 0.06, 0.02, 0.04, 0.02, 0.06, 0.16, -0.0, 0.03, 0.12, 0.08, 0.03, 0.02, 0.1, 0.16, 0.14, 0.02, 0.04, 0.04, 0.08, 0.09, 0.1, 0.04, 0.09, 0.04, 0.06, 0.07, 0.04, 0.1, 0.06, 0.1, 0.17, 0.17, 0.11, 0.09, 0.04, 0.1, 0.09, 0.1, 0.2, 0.04, 0.03, 0.1, 0.11, 0.11, 0.18, 0.14, 0.11, 0.03, 0.04, 0.11, 0.14, 0.12, 0.04, 0.06, 0.09, 0.04, 0.15, 0.11, 0.06, 0.02, 0.16, 0.12, 0.11, 0.06, 0.15, 0.06, 0.06, 0.09, 0.03, 0.06, 0.09, 0.14, 0.12, 0.09, 0.0, 0.0, 0.0, 0.13, 0.1, 0.09, 0.08, 0.1, 0.0, 0.16, 0.04, 0.0, 0.06, 0.0, 0.59, 0.26, 0.06, 0.15, 0.04, 0.09, 0.08, 0.04, 0.02, 0.11, 0.01, 0.04, 0.02, 0.0, 0.0, 0.09, 0.13, 0.1, 0.02, 0.01, 0.24, 0.0, 0.1]}],                        {\"boxmode\": \"group\", \"height\": 600, \"legend\": {\"orientation\": \"h\", \"x\": 0, \"xanchor\": \"left\", \"y\": 1.0, \"yanchor\": \"bottom\"}, \"template\": {\"data\": {\"bar\": [{\"error_x\": {\"color\": \"#2a3f5f\"}, \"error_y\": {\"color\": \"#2a3f5f\"}, \"marker\": {\"line\": {\"color\": \"#E5ECF6\", \"width\": 0.5}}, \"type\": \"bar\"}], \"barpolar\": [{\"marker\": {\"line\": {\"color\": \"#E5ECF6\", \"width\": 0.5}}, \"type\": \"barpolar\"}], \"carpet\": [{\"aaxis\": {\"endlinecolor\": \"#2a3f5f\", \"gridcolor\": \"white\", \"linecolor\": \"white\", \"minorgridcolor\": \"white\", \"startlinecolor\": \"#2a3f5f\"}, \"baxis\": {\"endlinecolor\": \"#2a3f5f\", \"gridcolor\": \"white\", \"linecolor\": \"white\", \"minorgridcolor\": \"white\", \"startlinecolor\": \"#2a3f5f\"}, \"type\": \"carpet\"}], \"choropleth\": [{\"colorbar\": {\"outlinewidth\": 0, \"ticks\": \"\"}, \"type\": \"choropleth\"}], \"contour\": [{\"colorbar\": {\"outlinewidth\": 0, \"ticks\": \"\"}, \"colorscale\": [[0.0, \"#0d0887\"], [0.1111111111111111, \"#46039f\"], [0.2222222222222222, \"#7201a8\"], [0.3333333333333333, \"#9c179e\"], [0.4444444444444444, \"#bd3786\"], [0.5555555555555556, \"#d8576b\"], [0.6666666666666666, \"#ed7953\"], [0.7777777777777778, \"#fb9f3a\"], [0.8888888888888888, \"#fdca26\"], [1.0, \"#f0f921\"]], \"type\": \"contour\"}], \"contourcarpet\": [{\"colorbar\": {\"outlinewidth\": 0, \"ticks\": \"\"}, \"type\": \"contourcarpet\"}], \"heatmap\": [{\"colorbar\": {\"outlinewidth\": 0, \"ticks\": \"\"}, \"colorscale\": [[0.0, \"#0d0887\"], [0.1111111111111111, \"#46039f\"], [0.2222222222222222, \"#7201a8\"], [0.3333333333333333, \"#9c179e\"], [0.4444444444444444, \"#bd3786\"], [0.5555555555555556, \"#d8576b\"], [0.6666666666666666, \"#ed7953\"], [0.7777777777777778, \"#fb9f3a\"], [0.8888888888888888, \"#fdca26\"], [1.0, \"#f0f921\"]], \"type\": \"heatmap\"}], \"heatmapgl\": [{\"colorbar\": {\"outlinewidth\": 0, \"ticks\": \"\"}, \"colorscale\": [[0.0, \"#0d0887\"], [0.1111111111111111, \"#46039f\"], [0.2222222222222222, \"#7201a8\"], [0.3333333333333333, \"#9c179e\"], [0.4444444444444444, \"#bd3786\"], [0.5555555555555556, \"#d8576b\"], [0.6666666666666666, \"#ed7953\"], [0.7777777777777778, \"#fb9f3a\"], [0.8888888888888888, \"#fdca26\"], [1.0, \"#f0f921\"]], \"type\": \"heatmapgl\"}], \"histogram\": [{\"marker\": {\"colorbar\": {\"outlinewidth\": 0, \"ticks\": \"\"}}, \"type\": \"histogram\"}], \"histogram2d\": [{\"colorbar\": {\"outlinewidth\": 0, \"ticks\": \"\"}, \"colorscale\": [[0.0, \"#0d0887\"], [0.1111111111111111, \"#46039f\"], [0.2222222222222222, \"#7201a8\"], [0.3333333333333333, \"#9c179e\"], [0.4444444444444444, \"#bd3786\"], [0.5555555555555556, \"#d8576b\"], [0.6666666666666666, \"#ed7953\"], [0.7777777777777778, \"#fb9f3a\"], [0.8888888888888888, \"#fdca26\"], [1.0, \"#f0f921\"]], \"type\": \"histogram2d\"}], \"histogram2dcontour\": [{\"colorbar\": {\"outlinewidth\": 0, \"ticks\": \"\"}, \"colorscale\": [[0.0, \"#0d0887\"], [0.1111111111111111, \"#46039f\"], [0.2222222222222222, \"#7201a8\"], [0.3333333333333333, \"#9c179e\"], [0.4444444444444444, \"#bd3786\"], [0.5555555555555556, \"#d8576b\"], [0.6666666666666666, \"#ed7953\"], [0.7777777777777778, \"#fb9f3a\"], [0.8888888888888888, \"#fdca26\"], [1.0, \"#f0f921\"]], \"type\": \"histogram2dcontour\"}], \"mesh3d\": [{\"colorbar\": {\"outlinewidth\": 0, \"ticks\": \"\"}, \"type\": \"mesh3d\"}], \"parcoords\": [{\"line\": {\"colorbar\": {\"outlinewidth\": 0, \"ticks\": \"\"}}, \"type\": \"parcoords\"}], \"pie\": [{\"automargin\": true, \"type\": \"pie\"}], \"scatter\": [{\"marker\": {\"colorbar\": {\"outlinewidth\": 0, \"ticks\": \"\"}}, \"type\": \"scatter\"}], \"scatter3d\": [{\"line\": {\"colorbar\": {\"outlinewidth\": 0, \"ticks\": \"\"}}, \"marker\": {\"colorbar\": {\"outlinewidth\": 0, \"ticks\": \"\"}}, \"type\": \"scatter3d\"}], \"scattercarpet\": [{\"marker\": {\"colorbar\": {\"outlinewidth\": 0, \"ticks\": \"\"}}, \"type\": \"scattercarpet\"}], \"scattergeo\": [{\"marker\": {\"colorbar\": {\"outlinewidth\": 0, \"ticks\": \"\"}}, \"type\": \"scattergeo\"}], \"scattergl\": [{\"marker\": {\"colorbar\": {\"outlinewidth\": 0, \"ticks\": \"\"}}, \"type\": \"scattergl\"}], \"scattermapbox\": [{\"marker\": {\"colorbar\": {\"outlinewidth\": 0, \"ticks\": \"\"}}, \"type\": \"scattermapbox\"}], \"scatterpolar\": [{\"marker\": {\"colorbar\": {\"outlinewidth\": 0, \"ticks\": \"\"}}, \"type\": \"scatterpolar\"}], \"scatterpolargl\": [{\"marker\": {\"colorbar\": {\"outlinewidth\": 0, \"ticks\": \"\"}}, \"type\": \"scatterpolargl\"}], \"scatterternary\": [{\"marker\": {\"colorbar\": {\"outlinewidth\": 0, \"ticks\": \"\"}}, \"type\": \"scatterternary\"}], \"surface\": [{\"colorbar\": {\"outlinewidth\": 0, \"ticks\": \"\"}, \"colorscale\": [[0.0, \"#0d0887\"], [0.1111111111111111, \"#46039f\"], [0.2222222222222222, \"#7201a8\"], [0.3333333333333333, \"#9c179e\"], [0.4444444444444444, \"#bd3786\"], [0.5555555555555556, \"#d8576b\"], [0.6666666666666666, \"#ed7953\"], [0.7777777777777778, \"#fb9f3a\"], [0.8888888888888888, \"#fdca26\"], [1.0, \"#f0f921\"]], \"type\": \"surface\"}], \"table\": [{\"cells\": {\"fill\": {\"color\": \"#EBF0F8\"}, \"line\": {\"color\": \"white\"}}, \"header\": {\"fill\": {\"color\": \"#C8D4E3\"}, \"line\": {\"color\": \"white\"}}, \"type\": \"table\"}]}, \"layout\": {\"annotationdefaults\": {\"arrowcolor\": \"#2a3f5f\", \"arrowhead\": 0, \"arrowwidth\": 1}, \"coloraxis\": {\"colorbar\": {\"outlinewidth\": 0, \"ticks\": \"\"}}, \"colorscale\": {\"diverging\": [[0, \"#8e0152\"], [0.1, \"#c51b7d\"], [0.2, \"#de77ae\"], [0.3, \"#f1b6da\"], [0.4, \"#fde0ef\"], [0.5, \"#f7f7f7\"], [0.6, \"#e6f5d0\"], [0.7, \"#b8e186\"], [0.8, \"#7fbc41\"], [0.9, \"#4d9221\"], [1, \"#276419\"]], \"sequential\": [[0.0, \"#0d0887\"], [0.1111111111111111, \"#46039f\"], [0.2222222222222222, \"#7201a8\"], [0.3333333333333333, \"#9c179e\"], [0.4444444444444444, \"#bd3786\"], [0.5555555555555556, \"#d8576b\"], [0.6666666666666666, \"#ed7953\"], [0.7777777777777778, \"#fb9f3a\"], [0.8888888888888888, \"#fdca26\"], [1.0, \"#f0f921\"]], \"sequentialminus\": [[0.0, \"#0d0887\"], [0.1111111111111111, \"#46039f\"], [0.2222222222222222, \"#7201a8\"], [0.3333333333333333, \"#9c179e\"], [0.4444444444444444, \"#bd3786\"], [0.5555555555555556, \"#d8576b\"], [0.6666666666666666, \"#ed7953\"], [0.7777777777777778, \"#fb9f3a\"], [0.8888888888888888, \"#fdca26\"], [1.0, \"#f0f921\"]]}, \"colorway\": [\"#636efa\", \"#EF553B\", \"#00cc96\", \"#ab63fa\", \"#FFA15A\", \"#19d3f3\", \"#FF6692\", \"#B6E880\", \"#FF97FF\", \"#FECB52\"], \"font\": {\"color\": \"#2a3f5f\"}, \"geo\": {\"bgcolor\": \"white\", \"lakecolor\": \"white\", \"landcolor\": \"#E5ECF6\", \"showlakes\": true, \"showland\": true, \"subunitcolor\": \"white\"}, \"hoverlabel\": {\"align\": \"left\"}, \"hovermode\": \"closest\", \"mapbox\": {\"style\": \"light\"}, \"paper_bgcolor\": \"white\", \"plot_bgcolor\": \"#E5ECF6\", \"polar\": {\"angularaxis\": {\"gridcolor\": \"white\", \"linecolor\": \"white\", \"ticks\": \"\"}, \"bgcolor\": \"#E5ECF6\", \"radialaxis\": {\"gridcolor\": \"white\", \"linecolor\": \"white\", \"ticks\": \"\"}}, \"scene\": {\"xaxis\": {\"backgroundcolor\": \"#E5ECF6\", \"gridcolor\": \"white\", \"gridwidth\": 2, \"linecolor\": \"white\", \"showbackground\": true, \"ticks\": \"\", \"zerolinecolor\": \"white\"}, \"yaxis\": {\"backgroundcolor\": \"#E5ECF6\", \"gridcolor\": \"white\", \"gridwidth\": 2, \"linecolor\": \"white\", \"showbackground\": true, \"ticks\": \"\", \"zerolinecolor\": \"white\"}, \"zaxis\": {\"backgroundcolor\": \"#E5ECF6\", \"gridcolor\": \"white\", \"gridwidth\": 2, \"linecolor\": \"white\", \"showbackground\": true, \"ticks\": \"\", \"zerolinecolor\": \"white\"}}, \"shapedefaults\": {\"line\": {\"color\": \"#2a3f5f\"}}, \"ternary\": {\"aaxis\": {\"gridcolor\": \"white\", \"linecolor\": \"white\", \"ticks\": \"\"}, \"baxis\": {\"gridcolor\": \"white\", \"linecolor\": \"white\", \"ticks\": \"\"}, \"bgcolor\": \"#E5ECF6\", \"caxis\": {\"gridcolor\": \"white\", \"linecolor\": \"white\", \"ticks\": \"\"}}, \"title\": {\"x\": 0.05}, \"xaxis\": {\"automargin\": true, \"gridcolor\": \"white\", \"linecolor\": \"white\", \"ticks\": \"\", \"title\": {\"standoff\": 15}, \"zerolinecolor\": \"white\", \"zerolinewidth\": 2}, \"yaxis\": {\"automargin\": true, \"gridcolor\": \"white\", \"linecolor\": \"white\", \"ticks\": \"\", \"title\": {\"standoff\": 15}, \"zerolinecolor\": \"white\", \"zerolinewidth\": 2}}}, \"title\": {\"text\": \"Sodium and Potassium per ounce Distribution Change between 1993 and 2020\"}, \"yaxis\": {\"title\": {\"text\": \"grams/ounce\"}}},                        {\"responsive\": true}                    ).then(function(){\n",
       "                            \n",
       "var gd = document.getElementById('22dc8fd5-58f0-4699-b2db-7b0d358424c2');\n",
       "var x = new MutationObserver(function (mutations, observer) {{\n",
       "        var display = window.getComputedStyle(gd).display;\n",
       "        if (!display || display === 'none') {{\n",
       "            console.log([gd, 'removed!']);\n",
       "            Plotly.purge(gd);\n",
       "            observer.disconnect();\n",
       "        }}\n",
       "}});\n",
       "\n",
       "// Listen for the removal of the full notebook cells\n",
       "var notebookContainer = gd.closest('#notebook-container');\n",
       "if (notebookContainer) {{\n",
       "    x.observe(notebookContainer, {childList: true});\n",
       "}}\n",
       "\n",
       "// Listen for the clearing of the current output cell\n",
       "var outputEl = gd.closest('.output');\n",
       "if (outputEl) {{\n",
       "    x.observe(outputEl, {childList: true});\n",
       "}}\n",
       "\n",
       "                        })                };                });            </script>        </div>"
      ]
     },
     "metadata": {},
     "output_type": "display_data"
    }
   ],
   "source": [
    "fig = go.Figure()\n",
    "\n",
    "for col_name in float_col_names[0:-2]:\n",
    "    fig.add_trace(go.Box(y = df_main[col_name], x = df_main.Year, name = col_name, text = df_main['Name']))\n",
    "\n",
    "fig.update_yaxes(title_text = 'grams/ounce')\n",
    "\n",
    "fig.update_layout(boxmode = 'group',\n",
    "                  legend = dict(orientation = 'h', yanchor = 'bottom', y = 1.0, xanchor = 'left', x = 0),\n",
    "                  height = 600,\n",
    "                  title_text = 'Sodium and Potassium per ounce Distribution Change between 1993 and 2020')\n",
    "fig.show()"
   ]
  },
  {
   "cell_type": "markdown",
   "metadata": {},
   "source": [
    "### Comparison of `Calories` vs nutrients relationship between 1993 and 2020"
   ]
  },
  {
   "cell_type": "code",
   "execution_count": 24,
   "metadata": {
    "ExecuteTime": {
     "end_time": "2021-03-21T10:46:08.444184Z",
     "start_time": "2021-03-21T10:46:08.027202Z"
    },
    "scrolled": false
   },
   "outputs": [
    {
     "data": {
      "application/vnd.plotly.v1+json": {
       "config": {
        "plotlyServerURL": "https://plotly.com"
       },
       "data": [
        {
         "marker": {
          "line": {
           "width": 2
          },
          "size": 5
         },
         "mode": "markers",
         "name": "1993",
         "text": [
          "100% Bran",
          "100% Natural Bran",
          "All-Bran",
          "All-Bran with Extra Fiber",
          "Almond Delight",
          "Apple Cinnamon Cheerios",
          "Apple Jacks",
          "Basic 4",
          "Bran Chex",
          "Bran Flakes",
          "Cap'n'Crunch",
          "Cheerios",
          "Cinnamon Toast Crunch",
          "Clusters",
          "Cocoa Puffs",
          "Corn Chex",
          "Corn Flakes",
          "Corn Pops",
          "Count Chocula",
          "Cracklin' Oat Bran",
          "Cream of Wheat (Quick)",
          "Crispix",
          "Crispy Wheat & Raisins",
          "Double Chex",
          "Froot Loops",
          "Frosted Flakes",
          "Frosted Mini-Wheats",
          "Fruit & Fibre Dates",
          "Fruitful Bran",
          "Fruity Pebbles",
          "Golden Crisp",
          "Golden Grahams",
          "Grape Nuts Flakes",
          "Grape-Nuts",
          "Great Grains Pecan",
          "Honey Graham Ohs",
          "Honey Nut Cheerios",
          "Honey-comb",
          "Just Right Crunchy  Nuggets",
          "Just Right Fruit & Nut",
          "Kix",
          "Life",
          "Lucky Charms",
          "Maypo",
          "Dates & Almonds",
          "Peaches & Pecans",
          "Mueslix Crispy Blend",
          "Multi-Grain Cheerios",
          "Nut&Honey Crunch",
          "Nutri-Grain Almond-Raisin",
          "Nutri-grain Wheat",
          "Oatmeal Raisin Crisp",
          "Post Nat. Raisin Bran",
          "Product 19",
          "Puffed Rice",
          "Puffed Wheat",
          "Quaker Oat Squares",
          "Quaker Oatmeal",
          "Raisin Bran",
          "Raisin Nut Bran",
          "Raisin Squares",
          "Rice Chex",
          "Rice Krispies",
          "Shredded Wheat",
          "Shredded Wheat 'n'Bran",
          "Shredded Wheat spoon size",
          "Smacks",
          "Special K",
          "Strawberry Fruit Wheats",
          "Total Corn Flakes",
          "Total Raisin Bran",
          "Total Whole Grain",
          "Triples",
          "Trix",
          "Walnuts & Oats",
          "Wheat Chex",
          "Wheaties"
         ],
         "type": "scatter",
         "x": [
          4,
          3,
          4,
          4,
          2,
          2,
          2,
          2,
          2,
          3,
          1,
          6,
          1,
          3,
          1,
          2,
          2,
          1,
          1,
          3,
          3,
          2,
          2,
          2,
          2,
          1,
          3,
          2,
          2,
          1,
          2,
          1,
          3,
          3,
          3,
          1,
          3,
          1,
          2,
          2,
          2,
          4,
          2,
          4,
          4,
          4,
          2,
          2,
          2,
          2,
          3,
          2,
          2,
          3,
          2,
          4,
          4,
          5,
          2,
          3,
          2,
          1,
          2,
          2,
          3,
          3,
          2,
          6,
          2,
          2,
          2,
          3,
          2,
          1,
          2,
          3,
          3
         ],
         "xaxis": "x",
         "y": [
          70,
          120,
          70,
          50,
          110,
          110,
          110,
          98,
          90,
          90,
          120,
          110,
          120,
          110,
          110,
          110,
          100,
          110,
          110,
          110,
          100,
          110,
          100,
          100,
          110,
          110,
          100,
          96,
          90,
          110,
          100,
          110,
          100,
          110,
          120,
          120,
          110,
          110,
          110,
          108,
          110,
          100,
          110,
          100,
          150,
          150,
          107,
          100,
          120,
          105,
          90,
          104,
          90,
          100,
          100,
          100,
          100,
          100,
          90,
          100,
          90,
          110,
          110,
          96,
          90,
          90,
          110,
          110,
          90,
          110,
          93,
          100,
          110,
          110,
          96,
          100,
          100
         ],
         "yaxis": "y"
        },
        {
         "marker": {
          "line": {
           "width": 2
          },
          "size": 5
         },
         "mode": "markers",
         "name": "Regression Fit",
         "type": "scatter",
         "x": [
          1,
          1.0505050505050506,
          1.101010101010101,
          1.1515151515151516,
          1.202020202020202,
          1.2525252525252526,
          1.303030303030303,
          1.3535353535353536,
          1.404040404040404,
          1.4545454545454546,
          1.5050505050505052,
          1.5555555555555556,
          1.606060606060606,
          1.6565656565656566,
          1.7070707070707072,
          1.7575757575757576,
          1.808080808080808,
          1.8585858585858586,
          1.9090909090909092,
          1.9595959595959596,
          2.0101010101010104,
          2.0606060606060606,
          2.111111111111111,
          2.1616161616161618,
          2.212121212121212,
          2.2626262626262625,
          2.313131313131313,
          2.3636363636363633,
          2.4141414141414144,
          2.4646464646464645,
          2.515151515151515,
          2.5656565656565657,
          2.616161616161616,
          2.666666666666667,
          2.717171717171717,
          2.7676767676767677,
          2.8181818181818183,
          2.8686868686868685,
          2.919191919191919,
          2.9696969696969697,
          3.0202020202020203,
          3.0707070707070705,
          3.121212121212121,
          3.1717171717171717,
          3.2222222222222223,
          3.2727272727272725,
          3.323232323232323,
          3.3737373737373737,
          3.4242424242424243,
          3.474747474747475,
          3.525252525252525,
          3.5757575757575757,
          3.6262626262626263,
          3.676767676767677,
          3.727272727272727,
          3.7777777777777777,
          3.8282828282828283,
          3.878787878787879,
          3.929292929292929,
          3.9797979797979797,
          4.03030303030303,
          4.080808080808081,
          4.1313131313131315,
          4.181818181818182,
          4.232323232323232,
          4.282828282828283,
          4.333333333333334,
          4.383838383838384,
          4.434343434343434,
          4.484848484848484,
          4.5353535353535355,
          4.585858585858586,
          4.636363636363637,
          4.686868686868687,
          4.737373737373737,
          4.787878787878787,
          4.838383838383838,
          4.888888888888889,
          4.9393939393939394,
          4.98989898989899,
          5.040404040404041,
          5.090909090909091,
          5.141414141414141,
          5.191919191919192,
          5.242424242424242,
          5.292929292929293,
          5.343434343434343,
          5.393939393939394,
          5.444444444444445,
          5.494949494949495,
          5.545454545454545,
          5.595959595959596,
          5.646464646464646,
          5.696969696969697,
          5.747474747474747,
          5.797979797979798,
          5.848484848484849,
          5.898989898989899,
          5.94949494949495,
          6
         ],
         "xaxis": "x",
         "y": [
          106.73025377815796,
          106.62868923048563,
          106.5271246828133,
          106.42556013514096,
          106.32399558746863,
          106.2224310397963,
          106.12086649212397,
          106.01930194445164,
          105.9177373967793,
          105.81617284910698,
          105.71460830143464,
          105.61304375376231,
          105.51147920608997,
          105.40991465841765,
          105.30835011074531,
          105.20678556307298,
          105.10522101540064,
          105.00365646772832,
          104.90209192005598,
          104.80052737238366,
          104.69896282471132,
          104.59739827703899,
          104.49583372936665,
          104.39426918169433,
          104.29270463402199,
          104.19114008634966,
          104.08957553867732,
          103.988010991005,
          103.88644644333266,
          103.78488189566033,
          103.683317347988,
          103.58175280031567,
          103.48018825264333,
          103.378623704971,
          103.27705915729867,
          103.17549460962634,
          103.073930061954,
          102.97236551428168,
          102.87080096660934,
          102.76923641893701,
          102.66767187126467,
          102.56610732359235,
          102.46454277592001,
          102.36297822824768,
          102.26141368057534,
          102.15984913290302,
          102.05828458523068,
          101.95672003755836,
          101.85515548988602,
          101.75359094221369,
          101.65202639454135,
          101.55046184686903,
          101.44889729919669,
          101.34733275152436,
          101.24576820385202,
          101.1442036561797,
          101.04263910850736,
          100.94107456083503,
          100.8395100131627,
          100.73794546549037,
          100.63638091781803,
          100.5348163701457,
          100.43325182247337,
          100.33168727480104,
          100.2301227271287,
          100.12855817945638,
          100.02699363178404,
          99.92542908411171,
          99.82386453643937,
          99.72229998876705,
          99.62073544109471,
          99.51917089342238,
          99.41760634575004,
          99.31604179807772,
          99.21447725040538,
          99.11291270273306,
          99.01134815506072,
          98.90978360738839,
          98.80821905971605,
          98.70665451204373,
          98.60508996437139,
          98.50352541669906,
          98.40196086902674,
          98.3003963213544,
          98.19883177368206,
          98.09726722600973,
          97.9957026783374,
          97.89413813066507,
          97.79257358299273,
          97.6910090353204,
          97.58944448764808,
          97.48787993997574,
          97.3863153923034,
          97.28475084463108,
          97.18318629695875,
          97.08162174928641,
          96.98005720161407,
          96.87849265394175,
          96.77692810626942,
          96.67536355859708
         ],
         "yaxis": "y"
        },
        {
         "marker": {
          "line": {
           "width": 2
          },
          "size": 5
         },
         "mode": "markers",
         "name": "2020",
         "text": [
          "Wheaties Honey Gold",
          "All-Bran Complete Wheat Flakes Cereal",
          "Eggo",
          "Honey Smacks",
          "Krave Double Chocolate",
          "Peeps",
          "Smart Start",
          "Annie's Whole Grain Cereal",
          "Cascadian Farm Organic Raisin Bran",
          "Cheerios Multi Grain",
          "Chex Wheat Cereal",
          "Cookie Crisp",
          "Dunkaroos",
          "Fiber One",
          "Good Belly",
          "Larabar (Peanut Butter)",
          "Oatmeal Crisp",
          "Wonderworks (Peanut Butter)",
          "Ahold 100% Whole Grain",
          "Hannaford Frosted Flakes",
          "Martin's Food Lion",
          "Hannaford Tasteeos Cereal",
          "Ahold Vanilla Almond Cereal",
          "Kelloggs Special Fruit & Yogurt",
          "Kelloggs Special Original Cereal",
          "Quaker Life Cinnamon Multigrain",
          "Quaker Life Original Multigrain",
          "Quaker Life Ltd. Edition, Pumpkin Spice",
          "All-Bran",
          "Apple Jacks",
          "Basic 4",
          "Cocoa Puffs",
          "Corn Flakes",
          "Corn Pops",
          "Cracklin' Oat Bran",
          "Crispix",
          "Froot Loops",
          "Frosted Flakes",
          "Golden Grahams",
          "Kix",
          "Oatmeal Raisin Crisp",
          "Raisin Bran",
          "Raisin Nut Bran",
          "Rice Krispies",
          "Special K",
          "Total Whole Grain",
          "Trix",
          "Wheaties"
         ],
         "type": "scatter",
         "x": [
          2,
          3,
          2,
          2,
          2,
          1,
          2,
          3,
          2,
          2,
          3,
          2,
          1,
          2,
          3,
          3,
          3,
          12,
          3,
          1,
          3,
          3,
          2,
          2,
          5,
          2,
          3,
          2,
          3,
          1,
          2,
          2,
          2,
          1,
          2,
          2,
          1,
          2,
          1,
          2,
          1,
          2,
          2,
          2,
          5,
          6,
          1,
          2
         ],
         "xaxis": "x2",
         "y": [
          110,
          120,
          160,
          130,
          170,
          110,
          240,
          160,
          210,
          150,
          210,
          140,
          150,
          90,
          170,
          280,
          230,
          160,
          170,
          150,
          120,
          111,
          104,
          111,
          97,
          83,
          111,
          83,
          92,
          109,
          103,
          110,
          101,
          106,
          116,
          109,
          109,
          100,
          106,
          113,
          109,
          91,
          105,
          106,
          109,
          128,
          116,
          102
         ],
         "yaxis": "y2"
        },
        {
         "marker": {
          "line": {
           "width": 2
          },
          "size": 5
         },
         "mode": "markers",
         "name": "Regression Fit",
         "type": "scatter",
         "x": [
          1,
          1.1111111111111112,
          1.2222222222222223,
          1.3333333333333333,
          1.4444444444444444,
          1.5555555555555556,
          1.6666666666666665,
          1.7777777777777777,
          1.8888888888888888,
          2,
          2.111111111111111,
          2.2222222222222223,
          2.333333333333333,
          2.4444444444444446,
          2.5555555555555554,
          2.6666666666666665,
          2.7777777777777777,
          2.888888888888889,
          3,
          3.111111111111111,
          3.2222222222222223,
          3.333333333333333,
          3.444444444444444,
          3.5555555555555554,
          3.6666666666666665,
          3.7777777777777777,
          3.888888888888889,
          4,
          4.111111111111111,
          4.222222222222221,
          4.333333333333333,
          4.444444444444445,
          4.555555555555555,
          4.666666666666666,
          4.777777777777778,
          4.888888888888889,
          5,
          5.111111111111111,
          5.222222222222222,
          5.333333333333333,
          5.444444444444445,
          5.555555555555555,
          5.666666666666666,
          5.777777777777778,
          5.888888888888888,
          6,
          6.111111111111111,
          6.222222222222222,
          6.333333333333333,
          6.444444444444444,
          6.555555555555555,
          6.666666666666666,
          6.777777777777778,
          6.888888888888888,
          7,
          7.111111111111111,
          7.222222222222221,
          7.333333333333333,
          7.444444444444444,
          7.555555555555555,
          7.666666666666666,
          7.777777777777778,
          7.888888888888888,
          8,
          8.11111111111111,
          8.222222222222221,
          8.333333333333332,
          8.444444444444443,
          8.555555555555555,
          8.666666666666666,
          8.777777777777779,
          8.88888888888889,
          9,
          9.11111111111111,
          9.222222222222221,
          9.333333333333332,
          9.444444444444445,
          9.555555555555555,
          9.666666666666666,
          9.777777777777777,
          9.88888888888889,
          10,
          10.11111111111111,
          10.222222222222221,
          10.333333333333332,
          10.444444444444445,
          10.555555555555555,
          10.666666666666666,
          10.777777777777777,
          10.888888888888888,
          11,
          11.11111111111111,
          11.222222222222221,
          11.333333333333332,
          11.444444444444445,
          11.555555555555555,
          11.666666666666666,
          11.777777777777777,
          11.888888888888888,
          12
         ],
         "xaxis": "x2",
         "y": [
          124.89722061378112,
          125.33362285273112,
          125.77002509168113,
          126.20642733063116,
          126.64282956958117,
          127.07923180853118,
          127.51563404748119,
          127.9520362864312,
          128.3884385253812,
          128.8248407643312,
          129.2612430032812,
          129.69764524223123,
          130.13404748118123,
          130.57044972013125,
          131.00685195908125,
          131.44325419803127,
          131.8796564369813,
          132.3160586759313,
          132.7524609148813,
          133.1888631538313,
          133.62526539278133,
          134.06166763173132,
          134.49806987068135,
          134.93447210963134,
          135.37087434858137,
          135.80727658753136,
          136.24367882648139,
          136.68008106543138,
          137.1164833043814,
          137.5528855433314,
          137.98928778228142,
          138.42569002123142,
          138.86209226018144,
          139.29849449913144,
          139.73489673808146,
          140.17129897703148,
          140.60770121598148,
          141.04410345493147,
          141.4805056938815,
          141.91690793283152,
          142.35331017178152,
          142.7897124107315,
          143.22611464968153,
          143.66251688863156,
          144.09891912758155,
          144.53532136653158,
          144.97172360548157,
          145.4081258444316,
          145.8445280833816,
          146.2809303223316,
          146.7173325612816,
          147.15373480023163,
          147.59013703918163,
          148.02653927813165,
          148.46294151708165,
          148.89934375603167,
          149.33574599498166,
          149.7721482339317,
          150.20855047288168,
          150.6449527118317,
          151.0813549507817,
          151.51775718973173,
          151.95415942868172,
          152.39056166763174,
          152.82696390658174,
          153.26336614553176,
          153.69976838448179,
          154.13617062343178,
          154.57257286238178,
          155.0089751013318,
          155.44537734028182,
          155.88177957923182,
          156.31818181818184,
          156.75458405713184,
          157.19098629608186,
          157.62738853503186,
          158.06379077398188,
          158.50019301293187,
          158.9365952518819,
          159.3729974908319,
          159.80939972978192,
          160.24580196873194,
          160.68220420768193,
          161.11860644663193,
          161.55500868558195,
          161.99141092453198,
          162.42781316348197,
          162.86421540243197,
          163.300617641382,
          163.73701988033199,
          164.173422119282,
          164.609824358232,
          165.04622659718203,
          165.48262883613205,
          165.91903107508205,
          166.35543331403207,
          166.79183555298206,
          167.2282377919321,
          167.66464003088208,
          168.1010422698321
         ],
         "yaxis": "y2"
        }
       ],
       "layout": {
        "annotations": [
         {
          "font": {
           "size": 16
          },
          "showarrow": false,
          "text": "1993",
          "x": 0.225,
          "xanchor": "center",
          "xref": "paper",
          "y": 1,
          "yanchor": "bottom",
          "yref": "paper"
         },
         {
          "font": {
           "size": 16
          },
          "showarrow": false,
          "text": "2020",
          "x": 0.775,
          "xanchor": "center",
          "xref": "paper",
          "y": 1,
          "yanchor": "bottom",
          "yref": "paper"
         }
        ],
        "showlegend": false,
        "template": {
         "data": {
          "bar": [
           {
            "error_x": {
             "color": "#2a3f5f"
            },
            "error_y": {
             "color": "#2a3f5f"
            },
            "marker": {
             "line": {
              "color": "#E5ECF6",
              "width": 0.5
             }
            },
            "type": "bar"
           }
          ],
          "barpolar": [
           {
            "marker": {
             "line": {
              "color": "#E5ECF6",
              "width": 0.5
             }
            },
            "type": "barpolar"
           }
          ],
          "carpet": [
           {
            "aaxis": {
             "endlinecolor": "#2a3f5f",
             "gridcolor": "white",
             "linecolor": "white",
             "minorgridcolor": "white",
             "startlinecolor": "#2a3f5f"
            },
            "baxis": {
             "endlinecolor": "#2a3f5f",
             "gridcolor": "white",
             "linecolor": "white",
             "minorgridcolor": "white",
             "startlinecolor": "#2a3f5f"
            },
            "type": "carpet"
           }
          ],
          "choropleth": [
           {
            "colorbar": {
             "outlinewidth": 0,
             "ticks": ""
            },
            "type": "choropleth"
           }
          ],
          "contour": [
           {
            "colorbar": {
             "outlinewidth": 0,
             "ticks": ""
            },
            "colorscale": [
             [
              0,
              "#0d0887"
             ],
             [
              0.1111111111111111,
              "#46039f"
             ],
             [
              0.2222222222222222,
              "#7201a8"
             ],
             [
              0.3333333333333333,
              "#9c179e"
             ],
             [
              0.4444444444444444,
              "#bd3786"
             ],
             [
              0.5555555555555556,
              "#d8576b"
             ],
             [
              0.6666666666666666,
              "#ed7953"
             ],
             [
              0.7777777777777778,
              "#fb9f3a"
             ],
             [
              0.8888888888888888,
              "#fdca26"
             ],
             [
              1,
              "#f0f921"
             ]
            ],
            "type": "contour"
           }
          ],
          "contourcarpet": [
           {
            "colorbar": {
             "outlinewidth": 0,
             "ticks": ""
            },
            "type": "contourcarpet"
           }
          ],
          "heatmap": [
           {
            "colorbar": {
             "outlinewidth": 0,
             "ticks": ""
            },
            "colorscale": [
             [
              0,
              "#0d0887"
             ],
             [
              0.1111111111111111,
              "#46039f"
             ],
             [
              0.2222222222222222,
              "#7201a8"
             ],
             [
              0.3333333333333333,
              "#9c179e"
             ],
             [
              0.4444444444444444,
              "#bd3786"
             ],
             [
              0.5555555555555556,
              "#d8576b"
             ],
             [
              0.6666666666666666,
              "#ed7953"
             ],
             [
              0.7777777777777778,
              "#fb9f3a"
             ],
             [
              0.8888888888888888,
              "#fdca26"
             ],
             [
              1,
              "#f0f921"
             ]
            ],
            "type": "heatmap"
           }
          ],
          "heatmapgl": [
           {
            "colorbar": {
             "outlinewidth": 0,
             "ticks": ""
            },
            "colorscale": [
             [
              0,
              "#0d0887"
             ],
             [
              0.1111111111111111,
              "#46039f"
             ],
             [
              0.2222222222222222,
              "#7201a8"
             ],
             [
              0.3333333333333333,
              "#9c179e"
             ],
             [
              0.4444444444444444,
              "#bd3786"
             ],
             [
              0.5555555555555556,
              "#d8576b"
             ],
             [
              0.6666666666666666,
              "#ed7953"
             ],
             [
              0.7777777777777778,
              "#fb9f3a"
             ],
             [
              0.8888888888888888,
              "#fdca26"
             ],
             [
              1,
              "#f0f921"
             ]
            ],
            "type": "heatmapgl"
           }
          ],
          "histogram": [
           {
            "marker": {
             "colorbar": {
              "outlinewidth": 0,
              "ticks": ""
             }
            },
            "type": "histogram"
           }
          ],
          "histogram2d": [
           {
            "colorbar": {
             "outlinewidth": 0,
             "ticks": ""
            },
            "colorscale": [
             [
              0,
              "#0d0887"
             ],
             [
              0.1111111111111111,
              "#46039f"
             ],
             [
              0.2222222222222222,
              "#7201a8"
             ],
             [
              0.3333333333333333,
              "#9c179e"
             ],
             [
              0.4444444444444444,
              "#bd3786"
             ],
             [
              0.5555555555555556,
              "#d8576b"
             ],
             [
              0.6666666666666666,
              "#ed7953"
             ],
             [
              0.7777777777777778,
              "#fb9f3a"
             ],
             [
              0.8888888888888888,
              "#fdca26"
             ],
             [
              1,
              "#f0f921"
             ]
            ],
            "type": "histogram2d"
           }
          ],
          "histogram2dcontour": [
           {
            "colorbar": {
             "outlinewidth": 0,
             "ticks": ""
            },
            "colorscale": [
             [
              0,
              "#0d0887"
             ],
             [
              0.1111111111111111,
              "#46039f"
             ],
             [
              0.2222222222222222,
              "#7201a8"
             ],
             [
              0.3333333333333333,
              "#9c179e"
             ],
             [
              0.4444444444444444,
              "#bd3786"
             ],
             [
              0.5555555555555556,
              "#d8576b"
             ],
             [
              0.6666666666666666,
              "#ed7953"
             ],
             [
              0.7777777777777778,
              "#fb9f3a"
             ],
             [
              0.8888888888888888,
              "#fdca26"
             ],
             [
              1,
              "#f0f921"
             ]
            ],
            "type": "histogram2dcontour"
           }
          ],
          "mesh3d": [
           {
            "colorbar": {
             "outlinewidth": 0,
             "ticks": ""
            },
            "type": "mesh3d"
           }
          ],
          "parcoords": [
           {
            "line": {
             "colorbar": {
              "outlinewidth": 0,
              "ticks": ""
             }
            },
            "type": "parcoords"
           }
          ],
          "pie": [
           {
            "automargin": true,
            "type": "pie"
           }
          ],
          "scatter": [
           {
            "marker": {
             "colorbar": {
              "outlinewidth": 0,
              "ticks": ""
             }
            },
            "type": "scatter"
           }
          ],
          "scatter3d": [
           {
            "line": {
             "colorbar": {
              "outlinewidth": 0,
              "ticks": ""
             }
            },
            "marker": {
             "colorbar": {
              "outlinewidth": 0,
              "ticks": ""
             }
            },
            "type": "scatter3d"
           }
          ],
          "scattercarpet": [
           {
            "marker": {
             "colorbar": {
              "outlinewidth": 0,
              "ticks": ""
             }
            },
            "type": "scattercarpet"
           }
          ],
          "scattergeo": [
           {
            "marker": {
             "colorbar": {
              "outlinewidth": 0,
              "ticks": ""
             }
            },
            "type": "scattergeo"
           }
          ],
          "scattergl": [
           {
            "marker": {
             "colorbar": {
              "outlinewidth": 0,
              "ticks": ""
             }
            },
            "type": "scattergl"
           }
          ],
          "scattermapbox": [
           {
            "marker": {
             "colorbar": {
              "outlinewidth": 0,
              "ticks": ""
             }
            },
            "type": "scattermapbox"
           }
          ],
          "scatterpolar": [
           {
            "marker": {
             "colorbar": {
              "outlinewidth": 0,
              "ticks": ""
             }
            },
            "type": "scatterpolar"
           }
          ],
          "scatterpolargl": [
           {
            "marker": {
             "colorbar": {
              "outlinewidth": 0,
              "ticks": ""
             }
            },
            "type": "scatterpolargl"
           }
          ],
          "scatterternary": [
           {
            "marker": {
             "colorbar": {
              "outlinewidth": 0,
              "ticks": ""
             }
            },
            "type": "scatterternary"
           }
          ],
          "surface": [
           {
            "colorbar": {
             "outlinewidth": 0,
             "ticks": ""
            },
            "colorscale": [
             [
              0,
              "#0d0887"
             ],
             [
              0.1111111111111111,
              "#46039f"
             ],
             [
              0.2222222222222222,
              "#7201a8"
             ],
             [
              0.3333333333333333,
              "#9c179e"
             ],
             [
              0.4444444444444444,
              "#bd3786"
             ],
             [
              0.5555555555555556,
              "#d8576b"
             ],
             [
              0.6666666666666666,
              "#ed7953"
             ],
             [
              0.7777777777777778,
              "#fb9f3a"
             ],
             [
              0.8888888888888888,
              "#fdca26"
             ],
             [
              1,
              "#f0f921"
             ]
            ],
            "type": "surface"
           }
          ],
          "table": [
           {
            "cells": {
             "fill": {
              "color": "#EBF0F8"
             },
             "line": {
              "color": "white"
             }
            },
            "header": {
             "fill": {
              "color": "#C8D4E3"
             },
             "line": {
              "color": "white"
             }
            },
            "type": "table"
           }
          ]
         },
         "layout": {
          "annotationdefaults": {
           "arrowcolor": "#2a3f5f",
           "arrowhead": 0,
           "arrowwidth": 1
          },
          "coloraxis": {
           "colorbar": {
            "outlinewidth": 0,
            "ticks": ""
           }
          },
          "colorscale": {
           "diverging": [
            [
             0,
             "#8e0152"
            ],
            [
             0.1,
             "#c51b7d"
            ],
            [
             0.2,
             "#de77ae"
            ],
            [
             0.3,
             "#f1b6da"
            ],
            [
             0.4,
             "#fde0ef"
            ],
            [
             0.5,
             "#f7f7f7"
            ],
            [
             0.6,
             "#e6f5d0"
            ],
            [
             0.7,
             "#b8e186"
            ],
            [
             0.8,
             "#7fbc41"
            ],
            [
             0.9,
             "#4d9221"
            ],
            [
             1,
             "#276419"
            ]
           ],
           "sequential": [
            [
             0,
             "#0d0887"
            ],
            [
             0.1111111111111111,
             "#46039f"
            ],
            [
             0.2222222222222222,
             "#7201a8"
            ],
            [
             0.3333333333333333,
             "#9c179e"
            ],
            [
             0.4444444444444444,
             "#bd3786"
            ],
            [
             0.5555555555555556,
             "#d8576b"
            ],
            [
             0.6666666666666666,
             "#ed7953"
            ],
            [
             0.7777777777777778,
             "#fb9f3a"
            ],
            [
             0.8888888888888888,
             "#fdca26"
            ],
            [
             1,
             "#f0f921"
            ]
           ],
           "sequentialminus": [
            [
             0,
             "#0d0887"
            ],
            [
             0.1111111111111111,
             "#46039f"
            ],
            [
             0.2222222222222222,
             "#7201a8"
            ],
            [
             0.3333333333333333,
             "#9c179e"
            ],
            [
             0.4444444444444444,
             "#bd3786"
            ],
            [
             0.5555555555555556,
             "#d8576b"
            ],
            [
             0.6666666666666666,
             "#ed7953"
            ],
            [
             0.7777777777777778,
             "#fb9f3a"
            ],
            [
             0.8888888888888888,
             "#fdca26"
            ],
            [
             1,
             "#f0f921"
            ]
           ]
          },
          "colorway": [
           "#636efa",
           "#EF553B",
           "#00cc96",
           "#ab63fa",
           "#FFA15A",
           "#19d3f3",
           "#FF6692",
           "#B6E880",
           "#FF97FF",
           "#FECB52"
          ],
          "font": {
           "color": "#2a3f5f"
          },
          "geo": {
           "bgcolor": "white",
           "lakecolor": "white",
           "landcolor": "#E5ECF6",
           "showlakes": true,
           "showland": true,
           "subunitcolor": "white"
          },
          "hoverlabel": {
           "align": "left"
          },
          "hovermode": "closest",
          "mapbox": {
           "style": "light"
          },
          "paper_bgcolor": "white",
          "plot_bgcolor": "#E5ECF6",
          "polar": {
           "angularaxis": {
            "gridcolor": "white",
            "linecolor": "white",
            "ticks": ""
           },
           "bgcolor": "#E5ECF6",
           "radialaxis": {
            "gridcolor": "white",
            "linecolor": "white",
            "ticks": ""
           }
          },
          "scene": {
           "xaxis": {
            "backgroundcolor": "#E5ECF6",
            "gridcolor": "white",
            "gridwidth": 2,
            "linecolor": "white",
            "showbackground": true,
            "ticks": "",
            "zerolinecolor": "white"
           },
           "yaxis": {
            "backgroundcolor": "#E5ECF6",
            "gridcolor": "white",
            "gridwidth": 2,
            "linecolor": "white",
            "showbackground": true,
            "ticks": "",
            "zerolinecolor": "white"
           },
           "zaxis": {
            "backgroundcolor": "#E5ECF6",
            "gridcolor": "white",
            "gridwidth": 2,
            "linecolor": "white",
            "showbackground": true,
            "ticks": "",
            "zerolinecolor": "white"
           }
          },
          "shapedefaults": {
           "line": {
            "color": "#2a3f5f"
           }
          },
          "ternary": {
           "aaxis": {
            "gridcolor": "white",
            "linecolor": "white",
            "ticks": ""
           },
           "baxis": {
            "gridcolor": "white",
            "linecolor": "white",
            "ticks": ""
           },
           "bgcolor": "#E5ECF6",
           "caxis": {
            "gridcolor": "white",
            "linecolor": "white",
            "ticks": ""
           }
          },
          "title": {
           "x": 0.05
          },
          "xaxis": {
           "automargin": true,
           "gridcolor": "white",
           "linecolor": "white",
           "ticks": "",
           "title": {
            "standoff": 15
           },
           "zerolinecolor": "white",
           "zerolinewidth": 2
          },
          "yaxis": {
           "automargin": true,
           "gridcolor": "white",
           "linecolor": "white",
           "ticks": "",
           "title": {
            "standoff": 15
           },
           "zerolinecolor": "white",
           "zerolinewidth": 2
          }
         }
        },
        "title": {
         "text": "Calories vs Protein in 1993 and 2020"
        },
        "xaxis": {
         "anchor": "y",
         "domain": [
          0,
          0.45
         ],
         "title": {
          "text": "Protein"
         }
        },
        "xaxis2": {
         "anchor": "y2",
         "domain": [
          0.55,
          1
         ],
         "title": {
          "text": "Protein"
         }
        },
        "yaxis": {
         "anchor": "x",
         "domain": [
          0,
          1
         ],
         "title": {
          "text": "Calories"
         }
        },
        "yaxis2": {
         "anchor": "x2",
         "domain": [
          0,
          1
         ],
         "matches": "y",
         "showticklabels": false
        }
       }
      },
      "text/html": [
       "<div>                            <div id=\"99242079-fc9d-4087-892d-a75467c60660\" class=\"plotly-graph-div\" style=\"height:525px; width:100%;\"></div>            <script type=\"text/javascript\">                require([\"plotly\"], function(Plotly) {                    window.PLOTLYENV=window.PLOTLYENV || {};                                    if (document.getElementById(\"99242079-fc9d-4087-892d-a75467c60660\")) {                    Plotly.newPlot(                        \"99242079-fc9d-4087-892d-a75467c60660\",                        [{\"marker\": {\"line\": {\"width\": 2}, \"size\": 5}, \"mode\": \"markers\", \"name\": \"1993\", \"text\": [\"100% Bran\", \"100% Natural Bran\", \"All-Bran\", \"All-Bran with Extra Fiber\", \"Almond Delight\", \"Apple Cinnamon Cheerios\", \"Apple Jacks\", \"Basic 4\", \"Bran Chex\", \"Bran Flakes\", \"Cap'n'Crunch\", \"Cheerios\", \"Cinnamon Toast Crunch\", \"Clusters\", \"Cocoa Puffs\", \"Corn Chex\", \"Corn Flakes\", \"Corn Pops\", \"Count Chocula\", \"Cracklin' Oat Bran\", \"Cream of Wheat (Quick)\", \"Crispix\", \"Crispy Wheat & Raisins\", \"Double Chex\", \"Froot Loops\", \"Frosted Flakes\", \"Frosted Mini-Wheats\", \"Fruit & Fibre Dates\", \"Fruitful Bran\", \"Fruity Pebbles\", \"Golden Crisp\", \"Golden Grahams\", \"Grape Nuts Flakes\", \"Grape-Nuts\", \"Great Grains Pecan\", \"Honey Graham Ohs\", \"Honey Nut Cheerios\", \"Honey-comb\", \"Just Right Crunchy  Nuggets\", \"Just Right Fruit & Nut\", \"Kix\", \"Life\", \"Lucky Charms\", \"Maypo\", \"Dates & Almonds\", \"Peaches & Pecans\", \"Mueslix Crispy Blend\", \"Multi-Grain Cheerios\", \"Nut&Honey Crunch\", \"Nutri-Grain Almond-Raisin\", \"Nutri-grain Wheat\", \"Oatmeal Raisin Crisp\", \"Post Nat. Raisin Bran\", \"Product 19\", \"Puffed Rice\", \"Puffed Wheat\", \"Quaker Oat Squares\", \"Quaker Oatmeal\", \"Raisin Bran\", \"Raisin Nut Bran\", \"Raisin Squares\", \"Rice Chex\", \"Rice Krispies\", \"Shredded Wheat\", \"Shredded Wheat 'n'Bran\", \"Shredded Wheat spoon size\", \"Smacks\", \"Special K\", \"Strawberry Fruit Wheats\", \"Total Corn Flakes\", \"Total Raisin Bran\", \"Total Whole Grain\", \"Triples\", \"Trix\", \"Walnuts & Oats\", \"Wheat Chex\", \"Wheaties\"], \"type\": \"scatter\", \"x\": [4, 3, 4, 4, 2, 2, 2, 2, 2, 3, 1, 6, 1, 3, 1, 2, 2, 1, 1, 3, 3, 2, 2, 2, 2, 1, 3, 2, 2, 1, 2, 1, 3, 3, 3, 1, 3, 1, 2, 2, 2, 4, 2, 4, 4, 4, 2, 2, 2, 2, 3, 2, 2, 3, 2, 4, 4, 5, 2, 3, 2, 1, 2, 2, 3, 3, 2, 6, 2, 2, 2, 3, 2, 1, 2, 3, 3], \"xaxis\": \"x\", \"y\": [70, 120, 70, 50, 110, 110, 110, 98, 90, 90, 120, 110, 120, 110, 110, 110, 100, 110, 110, 110, 100, 110, 100, 100, 110, 110, 100, 96, 90, 110, 100, 110, 100, 110, 120, 120, 110, 110, 110, 108, 110, 100, 110, 100, 150, 150, 107, 100, 120, 105, 90, 104, 90, 100, 100, 100, 100, 100, 90, 100, 90, 110, 110, 96, 90, 90, 110, 110, 90, 110, 93, 100, 110, 110, 96, 100, 100], \"yaxis\": \"y\"}, {\"marker\": {\"line\": {\"width\": 2}, \"size\": 5}, \"mode\": \"markers\", \"name\": \"Regression Fit\", \"type\": \"scatter\", \"x\": [1.0, 1.0505050505050506, 1.101010101010101, 1.1515151515151516, 1.202020202020202, 1.2525252525252526, 1.303030303030303, 1.3535353535353536, 1.404040404040404, 1.4545454545454546, 1.5050505050505052, 1.5555555555555556, 1.606060606060606, 1.6565656565656566, 1.7070707070707072, 1.7575757575757576, 1.808080808080808, 1.8585858585858586, 1.9090909090909092, 1.9595959595959596, 2.0101010101010104, 2.0606060606060606, 2.111111111111111, 2.1616161616161618, 2.212121212121212, 2.2626262626262625, 2.313131313131313, 2.3636363636363633, 2.4141414141414144, 2.4646464646464645, 2.515151515151515, 2.5656565656565657, 2.616161616161616, 2.666666666666667, 2.717171717171717, 2.7676767676767677, 2.8181818181818183, 2.8686868686868685, 2.919191919191919, 2.9696969696969697, 3.0202020202020203, 3.0707070707070705, 3.121212121212121, 3.1717171717171717, 3.2222222222222223, 3.2727272727272725, 3.323232323232323, 3.3737373737373737, 3.4242424242424243, 3.474747474747475, 3.525252525252525, 3.5757575757575757, 3.6262626262626263, 3.676767676767677, 3.727272727272727, 3.7777777777777777, 3.8282828282828283, 3.878787878787879, 3.929292929292929, 3.9797979797979797, 4.03030303030303, 4.080808080808081, 4.1313131313131315, 4.181818181818182, 4.232323232323232, 4.282828282828283, 4.333333333333334, 4.383838383838384, 4.434343434343434, 4.484848484848484, 4.5353535353535355, 4.585858585858586, 4.636363636363637, 4.686868686868687, 4.737373737373737, 4.787878787878787, 4.838383838383838, 4.888888888888889, 4.9393939393939394, 4.98989898989899, 5.040404040404041, 5.090909090909091, 5.141414141414141, 5.191919191919192, 5.242424242424242, 5.292929292929293, 5.343434343434343, 5.393939393939394, 5.444444444444445, 5.494949494949495, 5.545454545454545, 5.595959595959596, 5.646464646464646, 5.696969696969697, 5.747474747474747, 5.797979797979798, 5.848484848484849, 5.898989898989899, 5.94949494949495, 6.0], \"xaxis\": \"x\", \"y\": [106.73025377815796, 106.62868923048563, 106.5271246828133, 106.42556013514096, 106.32399558746863, 106.2224310397963, 106.12086649212397, 106.01930194445164, 105.9177373967793, 105.81617284910698, 105.71460830143464, 105.61304375376231, 105.51147920608997, 105.40991465841765, 105.30835011074531, 105.20678556307298, 105.10522101540064, 105.00365646772832, 104.90209192005598, 104.80052737238366, 104.69896282471132, 104.59739827703899, 104.49583372936665, 104.39426918169433, 104.29270463402199, 104.19114008634966, 104.08957553867732, 103.988010991005, 103.88644644333266, 103.78488189566033, 103.683317347988, 103.58175280031567, 103.48018825264333, 103.378623704971, 103.27705915729867, 103.17549460962634, 103.073930061954, 102.97236551428168, 102.87080096660934, 102.76923641893701, 102.66767187126467, 102.56610732359235, 102.46454277592001, 102.36297822824768, 102.26141368057534, 102.15984913290302, 102.05828458523068, 101.95672003755836, 101.85515548988602, 101.75359094221369, 101.65202639454135, 101.55046184686903, 101.44889729919669, 101.34733275152436, 101.24576820385202, 101.1442036561797, 101.04263910850736, 100.94107456083503, 100.8395100131627, 100.73794546549037, 100.63638091781803, 100.5348163701457, 100.43325182247337, 100.33168727480104, 100.2301227271287, 100.12855817945638, 100.02699363178404, 99.92542908411171, 99.82386453643937, 99.72229998876705, 99.62073544109471, 99.51917089342238, 99.41760634575004, 99.31604179807772, 99.21447725040538, 99.11291270273306, 99.01134815506072, 98.90978360738839, 98.80821905971605, 98.70665451204373, 98.60508996437139, 98.50352541669906, 98.40196086902674, 98.3003963213544, 98.19883177368206, 98.09726722600973, 97.9957026783374, 97.89413813066507, 97.79257358299273, 97.6910090353204, 97.58944448764808, 97.48787993997574, 97.3863153923034, 97.28475084463108, 97.18318629695875, 97.08162174928641, 96.98005720161407, 96.87849265394175, 96.77692810626942, 96.67536355859708], \"yaxis\": \"y\"}, {\"marker\": {\"line\": {\"width\": 2}, \"size\": 5}, \"mode\": \"markers\", \"name\": \"2020\", \"text\": [\"Wheaties Honey Gold\", \"All-Bran Complete Wheat Flakes Cereal\", \"Eggo\", \"Honey Smacks\", \"Krave Double Chocolate\", \"Peeps\", \"Smart Start\", \"Annie's Whole Grain Cereal\", \"Cascadian Farm Organic Raisin Bran\", \"Cheerios Multi Grain\", \"Chex Wheat Cereal\", \"Cookie Crisp\", \"Dunkaroos\", \"Fiber One\", \"Good Belly\", \"Larabar (Peanut Butter)\", \"Oatmeal Crisp\", \"Wonderworks (Peanut Butter)\", \"Ahold 100% Whole Grain\", \"Hannaford Frosted Flakes\", \"Martin's Food Lion\", \"Hannaford Tasteeos Cereal\", \"Ahold Vanilla Almond Cereal\", \"Kelloggs Special Fruit & Yogurt\", \"Kelloggs Special Original Cereal\", \"Quaker Life Cinnamon Multigrain\", \"Quaker Life Original Multigrain\", \"Quaker Life Ltd. Edition, Pumpkin Spice\", \"All-Bran\", \"Apple Jacks\", \"Basic 4\", \"Cocoa Puffs\", \"Corn Flakes\", \"Corn Pops\", \"Cracklin' Oat Bran\", \"Crispix\", \"Froot Loops\", \"Frosted Flakes\", \"Golden Grahams\", \"Kix\", \"Oatmeal Raisin Crisp\", \"Raisin Bran\", \"Raisin Nut Bran\", \"Rice Krispies\", \"Special K\", \"Total Whole Grain\", \"Trix\", \"Wheaties\"], \"type\": \"scatter\", \"x\": [2, 3, 2, 2, 2, 1, 2, 3, 2, 2, 3, 2, 1, 2, 3, 3, 3, 12, 3, 1, 3, 3, 2, 2, 5, 2, 3, 2, 3, 1, 2, 2, 2, 1, 2, 2, 1, 2, 1, 2, 1, 2, 2, 2, 5, 6, 1, 2], \"xaxis\": \"x2\", \"y\": [110, 120, 160, 130, 170, 110, 240, 160, 210, 150, 210, 140, 150, 90, 170, 280, 230, 160, 170, 150, 120, 111, 104, 111, 97, 83, 111, 83, 92, 109, 103, 110, 101, 106, 116, 109, 109, 100, 106, 113, 109, 91, 105, 106, 109, 128, 116, 102], \"yaxis\": \"y2\"}, {\"marker\": {\"line\": {\"width\": 2}, \"size\": 5}, \"mode\": \"markers\", \"name\": \"Regression Fit\", \"type\": \"scatter\", \"x\": [1.0, 1.1111111111111112, 1.2222222222222223, 1.3333333333333333, 1.4444444444444444, 1.5555555555555556, 1.6666666666666665, 1.7777777777777777, 1.8888888888888888, 2.0, 2.111111111111111, 2.2222222222222223, 2.333333333333333, 2.4444444444444446, 2.5555555555555554, 2.6666666666666665, 2.7777777777777777, 2.888888888888889, 3.0, 3.111111111111111, 3.2222222222222223, 3.333333333333333, 3.444444444444444, 3.5555555555555554, 3.6666666666666665, 3.7777777777777777, 3.888888888888889, 4.0, 4.111111111111111, 4.222222222222221, 4.333333333333333, 4.444444444444445, 4.555555555555555, 4.666666666666666, 4.777777777777778, 4.888888888888889, 5.0, 5.111111111111111, 5.222222222222222, 5.333333333333333, 5.444444444444445, 5.555555555555555, 5.666666666666666, 5.777777777777778, 5.888888888888888, 6.0, 6.111111111111111, 6.222222222222222, 6.333333333333333, 6.444444444444444, 6.555555555555555, 6.666666666666666, 6.777777777777778, 6.888888888888888, 7.0, 7.111111111111111, 7.222222222222221, 7.333333333333333, 7.444444444444444, 7.555555555555555, 7.666666666666666, 7.777777777777778, 7.888888888888888, 8.0, 8.11111111111111, 8.222222222222221, 8.333333333333332, 8.444444444444443, 8.555555555555555, 8.666666666666666, 8.777777777777779, 8.88888888888889, 9.0, 9.11111111111111, 9.222222222222221, 9.333333333333332, 9.444444444444445, 9.555555555555555, 9.666666666666666, 9.777777777777777, 9.88888888888889, 10.0, 10.11111111111111, 10.222222222222221, 10.333333333333332, 10.444444444444445, 10.555555555555555, 10.666666666666666, 10.777777777777777, 10.888888888888888, 11.0, 11.11111111111111, 11.222222222222221, 11.333333333333332, 11.444444444444445, 11.555555555555555, 11.666666666666666, 11.777777777777777, 11.888888888888888, 12.0], \"xaxis\": \"x2\", \"y\": [124.89722061378112, 125.33362285273112, 125.77002509168113, 126.20642733063116, 126.64282956958117, 127.07923180853118, 127.51563404748119, 127.9520362864312, 128.3884385253812, 128.8248407643312, 129.2612430032812, 129.69764524223123, 130.13404748118123, 130.57044972013125, 131.00685195908125, 131.44325419803127, 131.8796564369813, 132.3160586759313, 132.7524609148813, 133.1888631538313, 133.62526539278133, 134.06166763173132, 134.49806987068135, 134.93447210963134, 135.37087434858137, 135.80727658753136, 136.24367882648139, 136.68008106543138, 137.1164833043814, 137.5528855433314, 137.98928778228142, 138.42569002123142, 138.86209226018144, 139.29849449913144, 139.73489673808146, 140.17129897703148, 140.60770121598148, 141.04410345493147, 141.4805056938815, 141.91690793283152, 142.35331017178152, 142.7897124107315, 143.22611464968153, 143.66251688863156, 144.09891912758155, 144.53532136653158, 144.97172360548157, 145.4081258444316, 145.8445280833816, 146.2809303223316, 146.7173325612816, 147.15373480023163, 147.59013703918163, 148.02653927813165, 148.46294151708165, 148.89934375603167, 149.33574599498166, 149.7721482339317, 150.20855047288168, 150.6449527118317, 151.0813549507817, 151.51775718973173, 151.95415942868172, 152.39056166763174, 152.82696390658174, 153.26336614553176, 153.69976838448179, 154.13617062343178, 154.57257286238178, 155.0089751013318, 155.44537734028182, 155.88177957923182, 156.31818181818184, 156.75458405713184, 157.19098629608186, 157.62738853503186, 158.06379077398188, 158.50019301293187, 158.9365952518819, 159.3729974908319, 159.80939972978192, 160.24580196873194, 160.68220420768193, 161.11860644663193, 161.55500868558195, 161.99141092453198, 162.42781316348197, 162.86421540243197, 163.300617641382, 163.73701988033199, 164.173422119282, 164.609824358232, 165.04622659718203, 165.48262883613205, 165.91903107508205, 166.35543331403207, 166.79183555298206, 167.2282377919321, 167.66464003088208, 168.1010422698321], \"yaxis\": \"y2\"}],                        {\"annotations\": [{\"font\": {\"size\": 16}, \"showarrow\": false, \"text\": \"1993\", \"x\": 0.225, \"xanchor\": \"center\", \"xref\": \"paper\", \"y\": 1.0, \"yanchor\": \"bottom\", \"yref\": \"paper\"}, {\"font\": {\"size\": 16}, \"showarrow\": false, \"text\": \"2020\", \"x\": 0.775, \"xanchor\": \"center\", \"xref\": \"paper\", \"y\": 1.0, \"yanchor\": \"bottom\", \"yref\": \"paper\"}], \"showlegend\": false, \"template\": {\"data\": {\"bar\": [{\"error_x\": {\"color\": \"#2a3f5f\"}, \"error_y\": {\"color\": \"#2a3f5f\"}, \"marker\": {\"line\": {\"color\": \"#E5ECF6\", \"width\": 0.5}}, \"type\": \"bar\"}], \"barpolar\": [{\"marker\": {\"line\": {\"color\": \"#E5ECF6\", \"width\": 0.5}}, \"type\": \"barpolar\"}], \"carpet\": [{\"aaxis\": {\"endlinecolor\": \"#2a3f5f\", \"gridcolor\": \"white\", \"linecolor\": \"white\", \"minorgridcolor\": \"white\", \"startlinecolor\": \"#2a3f5f\"}, \"baxis\": {\"endlinecolor\": \"#2a3f5f\", \"gridcolor\": \"white\", \"linecolor\": \"white\", \"minorgridcolor\": \"white\", \"startlinecolor\": \"#2a3f5f\"}, \"type\": \"carpet\"}], \"choropleth\": [{\"colorbar\": {\"outlinewidth\": 0, \"ticks\": \"\"}, \"type\": \"choropleth\"}], \"contour\": [{\"colorbar\": {\"outlinewidth\": 0, \"ticks\": \"\"}, \"colorscale\": [[0.0, \"#0d0887\"], [0.1111111111111111, \"#46039f\"], [0.2222222222222222, \"#7201a8\"], [0.3333333333333333, \"#9c179e\"], [0.4444444444444444, \"#bd3786\"], [0.5555555555555556, \"#d8576b\"], [0.6666666666666666, \"#ed7953\"], [0.7777777777777778, \"#fb9f3a\"], [0.8888888888888888, \"#fdca26\"], [1.0, \"#f0f921\"]], \"type\": \"contour\"}], \"contourcarpet\": [{\"colorbar\": {\"outlinewidth\": 0, \"ticks\": \"\"}, \"type\": \"contourcarpet\"}], \"heatmap\": [{\"colorbar\": {\"outlinewidth\": 0, \"ticks\": \"\"}, \"colorscale\": [[0.0, \"#0d0887\"], [0.1111111111111111, \"#46039f\"], [0.2222222222222222, \"#7201a8\"], [0.3333333333333333, \"#9c179e\"], [0.4444444444444444, \"#bd3786\"], [0.5555555555555556, \"#d8576b\"], [0.6666666666666666, \"#ed7953\"], [0.7777777777777778, \"#fb9f3a\"], [0.8888888888888888, \"#fdca26\"], [1.0, \"#f0f921\"]], \"type\": \"heatmap\"}], \"heatmapgl\": [{\"colorbar\": {\"outlinewidth\": 0, \"ticks\": \"\"}, \"colorscale\": [[0.0, \"#0d0887\"], [0.1111111111111111, \"#46039f\"], [0.2222222222222222, \"#7201a8\"], [0.3333333333333333, \"#9c179e\"], [0.4444444444444444, \"#bd3786\"], [0.5555555555555556, \"#d8576b\"], [0.6666666666666666, \"#ed7953\"], [0.7777777777777778, \"#fb9f3a\"], [0.8888888888888888, \"#fdca26\"], [1.0, \"#f0f921\"]], \"type\": \"heatmapgl\"}], \"histogram\": [{\"marker\": {\"colorbar\": {\"outlinewidth\": 0, \"ticks\": \"\"}}, \"type\": \"histogram\"}], \"histogram2d\": [{\"colorbar\": {\"outlinewidth\": 0, \"ticks\": \"\"}, \"colorscale\": [[0.0, \"#0d0887\"], [0.1111111111111111, \"#46039f\"], [0.2222222222222222, \"#7201a8\"], [0.3333333333333333, \"#9c179e\"], [0.4444444444444444, \"#bd3786\"], [0.5555555555555556, \"#d8576b\"], [0.6666666666666666, \"#ed7953\"], [0.7777777777777778, \"#fb9f3a\"], [0.8888888888888888, \"#fdca26\"], [1.0, \"#f0f921\"]], \"type\": \"histogram2d\"}], \"histogram2dcontour\": [{\"colorbar\": {\"outlinewidth\": 0, \"ticks\": \"\"}, \"colorscale\": [[0.0, \"#0d0887\"], [0.1111111111111111, \"#46039f\"], [0.2222222222222222, \"#7201a8\"], [0.3333333333333333, \"#9c179e\"], [0.4444444444444444, \"#bd3786\"], [0.5555555555555556, \"#d8576b\"], [0.6666666666666666, \"#ed7953\"], [0.7777777777777778, \"#fb9f3a\"], [0.8888888888888888, \"#fdca26\"], [1.0, \"#f0f921\"]], \"type\": \"histogram2dcontour\"}], \"mesh3d\": [{\"colorbar\": {\"outlinewidth\": 0, \"ticks\": \"\"}, \"type\": \"mesh3d\"}], \"parcoords\": [{\"line\": {\"colorbar\": {\"outlinewidth\": 0, \"ticks\": \"\"}}, \"type\": \"parcoords\"}], \"pie\": [{\"automargin\": true, \"type\": \"pie\"}], \"scatter\": [{\"marker\": {\"colorbar\": {\"outlinewidth\": 0, \"ticks\": \"\"}}, \"type\": \"scatter\"}], \"scatter3d\": [{\"line\": {\"colorbar\": {\"outlinewidth\": 0, \"ticks\": \"\"}}, \"marker\": {\"colorbar\": {\"outlinewidth\": 0, \"ticks\": \"\"}}, \"type\": \"scatter3d\"}], \"scattercarpet\": [{\"marker\": {\"colorbar\": {\"outlinewidth\": 0, \"ticks\": \"\"}}, \"type\": \"scattercarpet\"}], \"scattergeo\": [{\"marker\": {\"colorbar\": {\"outlinewidth\": 0, \"ticks\": \"\"}}, \"type\": \"scattergeo\"}], \"scattergl\": [{\"marker\": {\"colorbar\": {\"outlinewidth\": 0, \"ticks\": \"\"}}, \"type\": \"scattergl\"}], \"scattermapbox\": [{\"marker\": {\"colorbar\": {\"outlinewidth\": 0, \"ticks\": \"\"}}, \"type\": \"scattermapbox\"}], \"scatterpolar\": [{\"marker\": {\"colorbar\": {\"outlinewidth\": 0, \"ticks\": \"\"}}, \"type\": \"scatterpolar\"}], \"scatterpolargl\": [{\"marker\": {\"colorbar\": {\"outlinewidth\": 0, \"ticks\": \"\"}}, \"type\": \"scatterpolargl\"}], \"scatterternary\": [{\"marker\": {\"colorbar\": {\"outlinewidth\": 0, \"ticks\": \"\"}}, \"type\": \"scatterternary\"}], \"surface\": [{\"colorbar\": {\"outlinewidth\": 0, \"ticks\": \"\"}, \"colorscale\": [[0.0, \"#0d0887\"], [0.1111111111111111, \"#46039f\"], [0.2222222222222222, \"#7201a8\"], [0.3333333333333333, \"#9c179e\"], [0.4444444444444444, \"#bd3786\"], [0.5555555555555556, \"#d8576b\"], [0.6666666666666666, \"#ed7953\"], [0.7777777777777778, \"#fb9f3a\"], [0.8888888888888888, \"#fdca26\"], [1.0, \"#f0f921\"]], \"type\": \"surface\"}], \"table\": [{\"cells\": {\"fill\": {\"color\": \"#EBF0F8\"}, \"line\": {\"color\": \"white\"}}, \"header\": {\"fill\": {\"color\": \"#C8D4E3\"}, \"line\": {\"color\": \"white\"}}, \"type\": \"table\"}]}, \"layout\": {\"annotationdefaults\": {\"arrowcolor\": \"#2a3f5f\", \"arrowhead\": 0, \"arrowwidth\": 1}, \"coloraxis\": {\"colorbar\": {\"outlinewidth\": 0, \"ticks\": \"\"}}, \"colorscale\": {\"diverging\": [[0, \"#8e0152\"], [0.1, \"#c51b7d\"], [0.2, \"#de77ae\"], [0.3, \"#f1b6da\"], [0.4, \"#fde0ef\"], [0.5, \"#f7f7f7\"], [0.6, \"#e6f5d0\"], [0.7, \"#b8e186\"], [0.8, \"#7fbc41\"], [0.9, \"#4d9221\"], [1, \"#276419\"]], \"sequential\": [[0.0, \"#0d0887\"], [0.1111111111111111, \"#46039f\"], [0.2222222222222222, \"#7201a8\"], [0.3333333333333333, \"#9c179e\"], [0.4444444444444444, \"#bd3786\"], [0.5555555555555556, \"#d8576b\"], [0.6666666666666666, \"#ed7953\"], [0.7777777777777778, \"#fb9f3a\"], [0.8888888888888888, \"#fdca26\"], [1.0, \"#f0f921\"]], \"sequentialminus\": [[0.0, \"#0d0887\"], [0.1111111111111111, \"#46039f\"], [0.2222222222222222, \"#7201a8\"], [0.3333333333333333, \"#9c179e\"], [0.4444444444444444, \"#bd3786\"], [0.5555555555555556, \"#d8576b\"], [0.6666666666666666, \"#ed7953\"], [0.7777777777777778, \"#fb9f3a\"], [0.8888888888888888, \"#fdca26\"], [1.0, \"#f0f921\"]]}, \"colorway\": [\"#636efa\", \"#EF553B\", \"#00cc96\", \"#ab63fa\", \"#FFA15A\", \"#19d3f3\", \"#FF6692\", \"#B6E880\", \"#FF97FF\", \"#FECB52\"], \"font\": {\"color\": \"#2a3f5f\"}, \"geo\": {\"bgcolor\": \"white\", \"lakecolor\": \"white\", \"landcolor\": \"#E5ECF6\", \"showlakes\": true, \"showland\": true, \"subunitcolor\": \"white\"}, \"hoverlabel\": {\"align\": \"left\"}, \"hovermode\": \"closest\", \"mapbox\": {\"style\": \"light\"}, \"paper_bgcolor\": \"white\", \"plot_bgcolor\": \"#E5ECF6\", \"polar\": {\"angularaxis\": {\"gridcolor\": \"white\", \"linecolor\": \"white\", \"ticks\": \"\"}, \"bgcolor\": \"#E5ECF6\", \"radialaxis\": {\"gridcolor\": \"white\", \"linecolor\": \"white\", \"ticks\": \"\"}}, \"scene\": {\"xaxis\": {\"backgroundcolor\": \"#E5ECF6\", \"gridcolor\": \"white\", \"gridwidth\": 2, \"linecolor\": \"white\", \"showbackground\": true, \"ticks\": \"\", \"zerolinecolor\": \"white\"}, \"yaxis\": {\"backgroundcolor\": \"#E5ECF6\", \"gridcolor\": \"white\", \"gridwidth\": 2, \"linecolor\": \"white\", \"showbackground\": true, \"ticks\": \"\", \"zerolinecolor\": \"white\"}, \"zaxis\": {\"backgroundcolor\": \"#E5ECF6\", \"gridcolor\": \"white\", \"gridwidth\": 2, \"linecolor\": \"white\", \"showbackground\": true, \"ticks\": \"\", \"zerolinecolor\": \"white\"}}, \"shapedefaults\": {\"line\": {\"color\": \"#2a3f5f\"}}, \"ternary\": {\"aaxis\": {\"gridcolor\": \"white\", \"linecolor\": \"white\", \"ticks\": \"\"}, \"baxis\": {\"gridcolor\": \"white\", \"linecolor\": \"white\", \"ticks\": \"\"}, \"bgcolor\": \"#E5ECF6\", \"caxis\": {\"gridcolor\": \"white\", \"linecolor\": \"white\", \"ticks\": \"\"}}, \"title\": {\"x\": 0.05}, \"xaxis\": {\"automargin\": true, \"gridcolor\": \"white\", \"linecolor\": \"white\", \"ticks\": \"\", \"title\": {\"standoff\": 15}, \"zerolinecolor\": \"white\", \"zerolinewidth\": 2}, \"yaxis\": {\"automargin\": true, \"gridcolor\": \"white\", \"linecolor\": \"white\", \"ticks\": \"\", \"title\": {\"standoff\": 15}, \"zerolinecolor\": \"white\", \"zerolinewidth\": 2}}}, \"title\": {\"text\": \"Calories vs Protein in 1993 and 2020\"}, \"xaxis\": {\"anchor\": \"y\", \"domain\": [0.0, 0.45], \"title\": {\"text\": \"Protein\"}}, \"xaxis2\": {\"anchor\": \"y2\", \"domain\": [0.55, 1.0], \"title\": {\"text\": \"Protein\"}}, \"yaxis\": {\"anchor\": \"x\", \"domain\": [0.0, 1.0], \"title\": {\"text\": \"Calories\"}}, \"yaxis2\": {\"anchor\": \"x2\", \"domain\": [0.0, 1.0], \"matches\": \"y\", \"showticklabels\": false}},                        {\"responsive\": true}                    ).then(function(){\n",
       "                            \n",
       "var gd = document.getElementById('99242079-fc9d-4087-892d-a75467c60660');\n",
       "var x = new MutationObserver(function (mutations, observer) {{\n",
       "        var display = window.getComputedStyle(gd).display;\n",
       "        if (!display || display === 'none') {{\n",
       "            console.log([gd, 'removed!']);\n",
       "            Plotly.purge(gd);\n",
       "            observer.disconnect();\n",
       "        }}\n",
       "}});\n",
       "\n",
       "// Listen for the removal of the full notebook cells\n",
       "var notebookContainer = gd.closest('#notebook-container');\n",
       "if (notebookContainer) {{\n",
       "    x.observe(notebookContainer, {childList: true});\n",
       "}}\n",
       "\n",
       "// Listen for the clearing of the current output cell\n",
       "var outputEl = gd.closest('.output');\n",
       "if (outputEl) {{\n",
       "    x.observe(outputEl, {childList: true});\n",
       "}}\n",
       "\n",
       "                        })                };                });            </script>        </div>"
      ]
     },
     "metadata": {},
     "output_type": "display_data"
    },
    {
     "data": {
      "application/vnd.plotly.v1+json": {
       "config": {
        "plotlyServerURL": "https://plotly.com"
       },
       "data": [
        {
         "marker": {
          "line": {
           "width": 2
          },
          "size": 5
         },
         "mode": "markers",
         "name": "1993",
         "text": [
          "100% Bran",
          "100% Natural Bran",
          "All-Bran",
          "All-Bran with Extra Fiber",
          "Almond Delight",
          "Apple Cinnamon Cheerios",
          "Apple Jacks",
          "Basic 4",
          "Bran Chex",
          "Bran Flakes",
          "Cap'n'Crunch",
          "Cheerios",
          "Cinnamon Toast Crunch",
          "Clusters",
          "Cocoa Puffs",
          "Corn Chex",
          "Corn Flakes",
          "Corn Pops",
          "Count Chocula",
          "Cracklin' Oat Bran",
          "Cream of Wheat (Quick)",
          "Crispix",
          "Crispy Wheat & Raisins",
          "Double Chex",
          "Froot Loops",
          "Frosted Flakes",
          "Frosted Mini-Wheats",
          "Fruit & Fibre Dates",
          "Fruitful Bran",
          "Fruity Pebbles",
          "Golden Crisp",
          "Golden Grahams",
          "Grape Nuts Flakes",
          "Grape-Nuts",
          "Great Grains Pecan",
          "Honey Graham Ohs",
          "Honey Nut Cheerios",
          "Honey-comb",
          "Just Right Crunchy  Nuggets",
          "Just Right Fruit & Nut",
          "Kix",
          "Life",
          "Lucky Charms",
          "Maypo",
          "Dates & Almonds",
          "Peaches & Pecans",
          "Mueslix Crispy Blend",
          "Multi-Grain Cheerios",
          "Nut&Honey Crunch",
          "Nutri-Grain Almond-Raisin",
          "Nutri-grain Wheat",
          "Oatmeal Raisin Crisp",
          "Post Nat. Raisin Bran",
          "Product 19",
          "Puffed Rice",
          "Puffed Wheat",
          "Quaker Oat Squares",
          "Quaker Oatmeal",
          "Raisin Bran",
          "Raisin Nut Bran",
          "Raisin Squares",
          "Rice Chex",
          "Rice Krispies",
          "Shredded Wheat",
          "Shredded Wheat 'n'Bran",
          "Shredded Wheat spoon size",
          "Smacks",
          "Special K",
          "Strawberry Fruit Wheats",
          "Total Corn Flakes",
          "Total Raisin Bran",
          "Total Whole Grain",
          "Triples",
          "Trix",
          "Walnuts & Oats",
          "Wheat Chex",
          "Wheaties"
         ],
         "type": "scatter",
         "x": [
          1,
          5,
          1,
          0,
          2,
          2,
          0,
          2,
          1,
          0,
          2,
          2,
          3,
          2,
          1,
          0,
          0,
          0,
          1,
          3,
          0,
          0,
          1,
          0,
          1,
          0,
          0,
          2,
          0,
          1,
          0,
          1,
          1,
          0,
          3,
          2,
          1,
          0,
          1,
          1,
          1,
          2,
          1,
          1,
          3,
          3,
          1,
          1,
          1,
          2,
          0,
          2,
          1,
          0,
          0,
          0,
          1,
          2,
          1,
          2,
          0,
          0,
          0,
          0,
          0,
          0,
          1,
          0,
          0,
          1,
          1,
          1,
          1,
          1,
          2,
          1,
          1
         ],
         "xaxis": "x",
         "y": [
          70,
          120,
          70,
          50,
          110,
          110,
          110,
          98,
          90,
          90,
          120,
          110,
          120,
          110,
          110,
          110,
          100,
          110,
          110,
          110,
          100,
          110,
          100,
          100,
          110,
          110,
          100,
          96,
          90,
          110,
          100,
          110,
          100,
          110,
          120,
          120,
          110,
          110,
          110,
          108,
          110,
          100,
          110,
          100,
          150,
          150,
          107,
          100,
          120,
          105,
          90,
          104,
          90,
          100,
          100,
          100,
          100,
          100,
          90,
          100,
          90,
          110,
          110,
          96,
          90,
          90,
          110,
          110,
          90,
          110,
          93,
          100,
          110,
          110,
          96,
          100,
          100
         ],
         "yaxis": "y"
        },
        {
         "marker": {
          "line": {
           "width": 2
          },
          "size": 5
         },
         "mode": "markers",
         "name": "Regression Fit",
         "type": "scatter",
         "x": [
          0,
          0.050505050505050504,
          0.10101010101010101,
          0.15151515151515152,
          0.20202020202020202,
          0.25252525252525254,
          0.30303030303030304,
          0.35353535353535354,
          0.40404040404040403,
          0.45454545454545453,
          0.5050505050505051,
          0.5555555555555556,
          0.6060606060606061,
          0.6565656565656566,
          0.7070707070707071,
          0.7575757575757576,
          0.8080808080808081,
          0.8585858585858586,
          0.9090909090909091,
          0.9595959595959596,
          1.0101010101010102,
          1.0606060606060606,
          1.1111111111111112,
          1.1616161616161615,
          1.2121212121212122,
          1.2626262626262625,
          1.3131313131313131,
          1.3636363636363635,
          1.4141414141414141,
          1.4646464646464645,
          1.5151515151515151,
          1.5656565656565655,
          1.6161616161616161,
          1.6666666666666667,
          1.7171717171717171,
          1.7676767676767677,
          1.8181818181818181,
          1.8686868686868687,
          1.9191919191919191,
          1.9696969696969697,
          2.0202020202020203,
          2.0707070707070705,
          2.121212121212121,
          2.1717171717171717,
          2.2222222222222223,
          2.2727272727272725,
          2.323232323232323,
          2.3737373737373737,
          2.4242424242424243,
          2.474747474747475,
          2.525252525252525,
          2.5757575757575757,
          2.6262626262626263,
          2.676767676767677,
          2.727272727272727,
          2.7777777777777777,
          2.8282828282828283,
          2.878787878787879,
          2.929292929292929,
          2.9797979797979797,
          3.0303030303030303,
          3.080808080808081,
          3.131313131313131,
          3.1818181818181817,
          3.2323232323232323,
          3.282828282828283,
          3.3333333333333335,
          3.3838383838383836,
          3.4343434343434343,
          3.484848484848485,
          3.5353535353535355,
          3.5858585858585856,
          3.6363636363636362,
          3.686868686868687,
          3.7373737373737375,
          3.7878787878787876,
          3.8383838383838382,
          3.888888888888889,
          3.9393939393939394,
          3.9898989898989896,
          4.040404040404041,
          4.090909090909091,
          4.141414141414141,
          4.191919191919192,
          4.242424242424242,
          4.292929292929293,
          4.343434343434343,
          4.393939393939394,
          4.444444444444445,
          4.494949494949495,
          4.545454545454545,
          4.595959595959596,
          4.646464646464646,
          4.696969696969697,
          4.747474747474747,
          4.797979797979798,
          4.848484848484849,
          4.898989898989899,
          4.94949494949495,
          5
         ],
         "xaxis": "x",
         "y": [
          97.5,
          97.81436156436156,
          98.12872312872312,
          98.4430846930847,
          98.75744625744626,
          99.07180782180782,
          99.38616938616939,
          99.70053095053095,
          100.01489251489251,
          100.32925407925408,
          100.64361564361565,
          100.95797720797721,
          101.27233877233877,
          101.58670033670033,
          101.9010619010619,
          102.21542346542347,
          102.52978502978503,
          102.8441465941466,
          103.15850815850816,
          103.47286972286972,
          103.7872312872313,
          104.10159285159286,
          104.41595441595442,
          104.73031598031598,
          105.04467754467754,
          105.3590391090391,
          105.67340067340068,
          105.98776223776224,
          106.3021238021238,
          106.61648536648536,
          106.93084693084693,
          107.24520849520849,
          107.55957005957006,
          107.87393162393163,
          108.18829318829319,
          108.50265475265475,
          108.81701631701631,
          109.13137788137789,
          109.44573944573945,
          109.76010101010101,
          110.07446257446257,
          110.38882413882413,
          110.70318570318571,
          111.01754726754727,
          111.33190883190883,
          111.6462703962704,
          111.96063196063196,
          112.27499352499352,
          112.5893550893551,
          112.90371665371666,
          113.21807821807822,
          113.53243978243978,
          113.84680134680134,
          114.1611629111629,
          114.47552447552448,
          114.78988603988604,
          115.1042476042476,
          115.41860916860917,
          115.73297073297073,
          116.0473322973323,
          116.36169386169387,
          116.67605542605543,
          116.99041699041699,
          117.30477855477855,
          117.61914011914013,
          117.93350168350169,
          118.24786324786325,
          118.56222481222481,
          118.87658637658637,
          119.19094794094795,
          119.5053095053095,
          119.81967106967107,
          120.13403263403264,
          120.4483941983942,
          120.76275576275576,
          121.07711732711732,
          121.3914788914789,
          121.70584045584046,
          122.02020202020202,
          122.33456358456358,
          122.64892514892514,
          122.96328671328672,
          123.27764827764827,
          123.59200984200984,
          123.9063714063714,
          124.22073297073297,
          124.53509453509454,
          124.84945609945609,
          125.16381766381767,
          125.47817922817923,
          125.79254079254079,
          126.10690235690235,
          126.42126392126391,
          126.73562548562549,
          127.04998704998705,
          127.36434861434861,
          127.67871017871018,
          127.99307174307174,
          128.3074333074333,
          128.62179487179486
         ],
         "yaxis": "y"
        },
        {
         "marker": {
          "line": {
           "width": 2
          },
          "size": 5
         },
         "mode": "markers",
         "name": "2020",
         "text": [
          "Wheaties Honey Gold",
          "All-Bran Complete Wheat Flakes Cereal",
          "Eggo",
          "Honey Smacks",
          "Krave Double Chocolate",
          "Peeps",
          "Smart Start",
          "Annie's Whole Grain Cereal",
          "Cascadian Farm Organic Raisin Bran",
          "Cheerios Multi Grain",
          "Chex Wheat Cereal",
          "Cookie Crisp",
          "Dunkaroos",
          "Fiber One",
          "Good Belly",
          "Larabar (Peanut Butter)",
          "Oatmeal Crisp",
          "Wonderworks (Peanut Butter)",
          "Ahold 100% Whole Grain",
          "Hannaford Frosted Flakes",
          "Martin's Food Lion",
          "Hannaford Tasteeos Cereal",
          "Ahold Vanilla Almond Cereal",
          "Kelloggs Special Fruit & Yogurt",
          "Kelloggs Special Original Cereal",
          "Quaker Life Cinnamon Multigrain",
          "Quaker Life Original Multigrain",
          "Quaker Life Ltd. Edition, Pumpkin Spice",
          "All-Bran",
          "Apple Jacks",
          "Basic 4",
          "Cocoa Puffs",
          "Corn Flakes",
          "Corn Pops",
          "Cracklin' Oat Bran",
          "Crispix",
          "Froot Loops",
          "Frosted Flakes",
          "Golden Grahams",
          "Kix",
          "Oatmeal Raisin Crisp",
          "Raisin Bran",
          "Raisin Nut Bran",
          "Rice Krispies",
          "Special K",
          "Total Whole Grain",
          "Trix",
          "Wheaties"
         ],
         "type": "scatter",
         "x": [
          1,
          0,
          1,
          0,
          3,
          0,
          0,
          1,
          1,
          1,
          0,
          1,
          1,
          1,
          3,
          6,
          0,
          4,
          1,
          0,
          1,
          2,
          1,
          1,
          0,
          1,
          1,
          1,
          1,
          1,
          1,
          2,
          0,
          0,
          4,
          0,
          1,
          0,
          1,
          1,
          2,
          0,
          2,
          0,
          0,
          1,
          1,
          0
         ],
         "xaxis": "x2",
         "y": [
          110,
          120,
          160,
          130,
          170,
          110,
          240,
          160,
          210,
          150,
          210,
          140,
          150,
          90,
          170,
          280,
          230,
          160,
          170,
          150,
          120,
          111,
          104,
          111,
          97,
          83,
          111,
          83,
          92,
          109,
          103,
          110,
          101,
          106,
          116,
          109,
          109,
          100,
          106,
          113,
          109,
          91,
          105,
          106,
          109,
          128,
          116,
          102
         ],
         "yaxis": "y2"
        },
        {
         "marker": {
          "line": {
           "width": 2
          },
          "size": 5
         },
         "mode": "markers",
         "name": "Regression Fit",
         "type": "scatter",
         "x": [
          0,
          0.06060606060606061,
          0.12121212121212122,
          0.18181818181818182,
          0.24242424242424243,
          0.30303030303030304,
          0.36363636363636365,
          0.42424242424242425,
          0.48484848484848486,
          0.5454545454545454,
          0.6060606060606061,
          0.6666666666666667,
          0.7272727272727273,
          0.7878787878787878,
          0.8484848484848485,
          0.9090909090909092,
          0.9696969696969697,
          1.0303030303030303,
          1.0909090909090908,
          1.1515151515151516,
          1.2121212121212122,
          1.2727272727272727,
          1.3333333333333335,
          1.393939393939394,
          1.4545454545454546,
          1.5151515151515151,
          1.5757575757575757,
          1.6363636363636365,
          1.696969696969697,
          1.7575757575757576,
          1.8181818181818183,
          1.878787878787879,
          1.9393939393939394,
          2,
          2.0606060606060606,
          2.121212121212121,
          2.1818181818181817,
          2.2424242424242427,
          2.303030303030303,
          2.3636363636363638,
          2.4242424242424243,
          2.484848484848485,
          2.5454545454545454,
          2.606060606060606,
          2.666666666666667,
          2.7272727272727275,
          2.787878787878788,
          2.8484848484848486,
          2.909090909090909,
          2.9696969696969697,
          3.0303030303030303,
          3.090909090909091,
          3.1515151515151514,
          3.2121212121212124,
          3.272727272727273,
          3.3333333333333335,
          3.393939393939394,
          3.4545454545454546,
          3.515151515151515,
          3.5757575757575757,
          3.6363636363636367,
          3.6969696969696972,
          3.757575757575758,
          3.8181818181818183,
          3.878787878787879,
          3.9393939393939394,
          4,
          4.0606060606060606,
          4.121212121212121,
          4.181818181818182,
          4.242424242424242,
          4.303030303030303,
          4.363636363636363,
          4.424242424242425,
          4.484848484848485,
          4.545454545454546,
          4.606060606060606,
          4.666666666666667,
          4.7272727272727275,
          4.787878787878788,
          4.848484848484849,
          4.909090909090909,
          4.96969696969697,
          5.03030303030303,
          5.090909090909091,
          5.151515151515151,
          5.212121212121212,
          5.2727272727272725,
          5.333333333333334,
          5.3939393939393945,
          5.454545454545455,
          5.515151515151516,
          5.575757575757576,
          5.636363636363637,
          5.696969696969697,
          5.757575757575758,
          5.818181818181818,
          5.878787878787879,
          5.9393939393939394,
          6
         ],
         "xaxis": "x2",
         "y": [
          118.01941747572815,
          118.7384524860253,
          119.45748749632244,
          120.17652250661959,
          120.89555751691674,
          121.61459252721387,
          122.33362753751102,
          123.05266254780817,
          123.77169755810532,
          124.49073256840246,
          125.20976757869961,
          125.92880258899676,
          126.64783759929391,
          127.36687260959104,
          128.0859076198882,
          128.80494263018534,
          129.52397764048249,
          130.24301265077963,
          130.96204766107678,
          131.68108267137393,
          132.40011768167108,
          133.11915269196822,
          133.83818770226537,
          134.55722271256252,
          135.27625772285967,
          135.99529273315682,
          136.71432774345396,
          137.4333627537511,
          138.15239776404823,
          138.87143277434538,
          139.59046778464253,
          140.30950279493968,
          141.02853780523682,
          141.74757281553397,
          142.46660782583112,
          143.18564283612827,
          143.90467784642541,
          144.62371285672256,
          145.3427478670197,
          146.06178287731686,
          146.780817887614,
          147.49985289791115,
          148.2188879082083,
          148.93792291850542,
          149.6569579288026,
          150.37599293909972,
          151.09502794939687,
          151.814062959694,
          152.53309796999116,
          153.2521329802883,
          153.97116799058546,
          154.6902030008826,
          155.40923801117975,
          156.1282730214769,
          156.84730803177405,
          157.5663430420712,
          158.28537805236834,
          159.0044130626655,
          159.72344807296264,
          160.4424830832598,
          161.16151809355694,
          161.88055310385408,
          162.59958811415123,
          163.31862312444838,
          164.03765813474553,
          164.75669314504265,
          165.4757281553398,
          166.19476316563694,
          166.9137981759341,
          167.63283318623124,
          168.3518681965284,
          169.07090320682553,
          169.78993821712268,
          170.50897322741983,
          171.22800823771698,
          171.94704324801413,
          172.66607825831127,
          173.38511326860842,
          174.10414827890557,
          174.8231832892027,
          175.54221829949984,
          176.26125330979698,
          176.98028832009413,
          177.69932333039128,
          178.41835834068843,
          179.13739335098558,
          179.85642836128272,
          180.57546337157987,
          181.29449838187702,
          182.01353339217417,
          182.73256840247132,
          183.45160341276846,
          184.1706384230656,
          184.88967343336276,
          185.6087084436599,
          186.32774345395705,
          187.0467784642542,
          187.76581347455135,
          188.4848484848485,
          189.20388349514565
         ],
         "yaxis": "y2"
        }
       ],
       "layout": {
        "annotations": [
         {
          "font": {
           "size": 16
          },
          "showarrow": false,
          "text": "1993",
          "x": 0.225,
          "xanchor": "center",
          "xref": "paper",
          "y": 1,
          "yanchor": "bottom",
          "yref": "paper"
         },
         {
          "font": {
           "size": 16
          },
          "showarrow": false,
          "text": "2020",
          "x": 0.775,
          "xanchor": "center",
          "xref": "paper",
          "y": 1,
          "yanchor": "bottom",
          "yref": "paper"
         }
        ],
        "showlegend": false,
        "template": {
         "data": {
          "bar": [
           {
            "error_x": {
             "color": "#2a3f5f"
            },
            "error_y": {
             "color": "#2a3f5f"
            },
            "marker": {
             "line": {
              "color": "#E5ECF6",
              "width": 0.5
             }
            },
            "type": "bar"
           }
          ],
          "barpolar": [
           {
            "marker": {
             "line": {
              "color": "#E5ECF6",
              "width": 0.5
             }
            },
            "type": "barpolar"
           }
          ],
          "carpet": [
           {
            "aaxis": {
             "endlinecolor": "#2a3f5f",
             "gridcolor": "white",
             "linecolor": "white",
             "minorgridcolor": "white",
             "startlinecolor": "#2a3f5f"
            },
            "baxis": {
             "endlinecolor": "#2a3f5f",
             "gridcolor": "white",
             "linecolor": "white",
             "minorgridcolor": "white",
             "startlinecolor": "#2a3f5f"
            },
            "type": "carpet"
           }
          ],
          "choropleth": [
           {
            "colorbar": {
             "outlinewidth": 0,
             "ticks": ""
            },
            "type": "choropleth"
           }
          ],
          "contour": [
           {
            "colorbar": {
             "outlinewidth": 0,
             "ticks": ""
            },
            "colorscale": [
             [
              0,
              "#0d0887"
             ],
             [
              0.1111111111111111,
              "#46039f"
             ],
             [
              0.2222222222222222,
              "#7201a8"
             ],
             [
              0.3333333333333333,
              "#9c179e"
             ],
             [
              0.4444444444444444,
              "#bd3786"
             ],
             [
              0.5555555555555556,
              "#d8576b"
             ],
             [
              0.6666666666666666,
              "#ed7953"
             ],
             [
              0.7777777777777778,
              "#fb9f3a"
             ],
             [
              0.8888888888888888,
              "#fdca26"
             ],
             [
              1,
              "#f0f921"
             ]
            ],
            "type": "contour"
           }
          ],
          "contourcarpet": [
           {
            "colorbar": {
             "outlinewidth": 0,
             "ticks": ""
            },
            "type": "contourcarpet"
           }
          ],
          "heatmap": [
           {
            "colorbar": {
             "outlinewidth": 0,
             "ticks": ""
            },
            "colorscale": [
             [
              0,
              "#0d0887"
             ],
             [
              0.1111111111111111,
              "#46039f"
             ],
             [
              0.2222222222222222,
              "#7201a8"
             ],
             [
              0.3333333333333333,
              "#9c179e"
             ],
             [
              0.4444444444444444,
              "#bd3786"
             ],
             [
              0.5555555555555556,
              "#d8576b"
             ],
             [
              0.6666666666666666,
              "#ed7953"
             ],
             [
              0.7777777777777778,
              "#fb9f3a"
             ],
             [
              0.8888888888888888,
              "#fdca26"
             ],
             [
              1,
              "#f0f921"
             ]
            ],
            "type": "heatmap"
           }
          ],
          "heatmapgl": [
           {
            "colorbar": {
             "outlinewidth": 0,
             "ticks": ""
            },
            "colorscale": [
             [
              0,
              "#0d0887"
             ],
             [
              0.1111111111111111,
              "#46039f"
             ],
             [
              0.2222222222222222,
              "#7201a8"
             ],
             [
              0.3333333333333333,
              "#9c179e"
             ],
             [
              0.4444444444444444,
              "#bd3786"
             ],
             [
              0.5555555555555556,
              "#d8576b"
             ],
             [
              0.6666666666666666,
              "#ed7953"
             ],
             [
              0.7777777777777778,
              "#fb9f3a"
             ],
             [
              0.8888888888888888,
              "#fdca26"
             ],
             [
              1,
              "#f0f921"
             ]
            ],
            "type": "heatmapgl"
           }
          ],
          "histogram": [
           {
            "marker": {
             "colorbar": {
              "outlinewidth": 0,
              "ticks": ""
             }
            },
            "type": "histogram"
           }
          ],
          "histogram2d": [
           {
            "colorbar": {
             "outlinewidth": 0,
             "ticks": ""
            },
            "colorscale": [
             [
              0,
              "#0d0887"
             ],
             [
              0.1111111111111111,
              "#46039f"
             ],
             [
              0.2222222222222222,
              "#7201a8"
             ],
             [
              0.3333333333333333,
              "#9c179e"
             ],
             [
              0.4444444444444444,
              "#bd3786"
             ],
             [
              0.5555555555555556,
              "#d8576b"
             ],
             [
              0.6666666666666666,
              "#ed7953"
             ],
             [
              0.7777777777777778,
              "#fb9f3a"
             ],
             [
              0.8888888888888888,
              "#fdca26"
             ],
             [
              1,
              "#f0f921"
             ]
            ],
            "type": "histogram2d"
           }
          ],
          "histogram2dcontour": [
           {
            "colorbar": {
             "outlinewidth": 0,
             "ticks": ""
            },
            "colorscale": [
             [
              0,
              "#0d0887"
             ],
             [
              0.1111111111111111,
              "#46039f"
             ],
             [
              0.2222222222222222,
              "#7201a8"
             ],
             [
              0.3333333333333333,
              "#9c179e"
             ],
             [
              0.4444444444444444,
              "#bd3786"
             ],
             [
              0.5555555555555556,
              "#d8576b"
             ],
             [
              0.6666666666666666,
              "#ed7953"
             ],
             [
              0.7777777777777778,
              "#fb9f3a"
             ],
             [
              0.8888888888888888,
              "#fdca26"
             ],
             [
              1,
              "#f0f921"
             ]
            ],
            "type": "histogram2dcontour"
           }
          ],
          "mesh3d": [
           {
            "colorbar": {
             "outlinewidth": 0,
             "ticks": ""
            },
            "type": "mesh3d"
           }
          ],
          "parcoords": [
           {
            "line": {
             "colorbar": {
              "outlinewidth": 0,
              "ticks": ""
             }
            },
            "type": "parcoords"
           }
          ],
          "pie": [
           {
            "automargin": true,
            "type": "pie"
           }
          ],
          "scatter": [
           {
            "marker": {
             "colorbar": {
              "outlinewidth": 0,
              "ticks": ""
             }
            },
            "type": "scatter"
           }
          ],
          "scatter3d": [
           {
            "line": {
             "colorbar": {
              "outlinewidth": 0,
              "ticks": ""
             }
            },
            "marker": {
             "colorbar": {
              "outlinewidth": 0,
              "ticks": ""
             }
            },
            "type": "scatter3d"
           }
          ],
          "scattercarpet": [
           {
            "marker": {
             "colorbar": {
              "outlinewidth": 0,
              "ticks": ""
             }
            },
            "type": "scattercarpet"
           }
          ],
          "scattergeo": [
           {
            "marker": {
             "colorbar": {
              "outlinewidth": 0,
              "ticks": ""
             }
            },
            "type": "scattergeo"
           }
          ],
          "scattergl": [
           {
            "marker": {
             "colorbar": {
              "outlinewidth": 0,
              "ticks": ""
             }
            },
            "type": "scattergl"
           }
          ],
          "scattermapbox": [
           {
            "marker": {
             "colorbar": {
              "outlinewidth": 0,
              "ticks": ""
             }
            },
            "type": "scattermapbox"
           }
          ],
          "scatterpolar": [
           {
            "marker": {
             "colorbar": {
              "outlinewidth": 0,
              "ticks": ""
             }
            },
            "type": "scatterpolar"
           }
          ],
          "scatterpolargl": [
           {
            "marker": {
             "colorbar": {
              "outlinewidth": 0,
              "ticks": ""
             }
            },
            "type": "scatterpolargl"
           }
          ],
          "scatterternary": [
           {
            "marker": {
             "colorbar": {
              "outlinewidth": 0,
              "ticks": ""
             }
            },
            "type": "scatterternary"
           }
          ],
          "surface": [
           {
            "colorbar": {
             "outlinewidth": 0,
             "ticks": ""
            },
            "colorscale": [
             [
              0,
              "#0d0887"
             ],
             [
              0.1111111111111111,
              "#46039f"
             ],
             [
              0.2222222222222222,
              "#7201a8"
             ],
             [
              0.3333333333333333,
              "#9c179e"
             ],
             [
              0.4444444444444444,
              "#bd3786"
             ],
             [
              0.5555555555555556,
              "#d8576b"
             ],
             [
              0.6666666666666666,
              "#ed7953"
             ],
             [
              0.7777777777777778,
              "#fb9f3a"
             ],
             [
              0.8888888888888888,
              "#fdca26"
             ],
             [
              1,
              "#f0f921"
             ]
            ],
            "type": "surface"
           }
          ],
          "table": [
           {
            "cells": {
             "fill": {
              "color": "#EBF0F8"
             },
             "line": {
              "color": "white"
             }
            },
            "header": {
             "fill": {
              "color": "#C8D4E3"
             },
             "line": {
              "color": "white"
             }
            },
            "type": "table"
           }
          ]
         },
         "layout": {
          "annotationdefaults": {
           "arrowcolor": "#2a3f5f",
           "arrowhead": 0,
           "arrowwidth": 1
          },
          "coloraxis": {
           "colorbar": {
            "outlinewidth": 0,
            "ticks": ""
           }
          },
          "colorscale": {
           "diverging": [
            [
             0,
             "#8e0152"
            ],
            [
             0.1,
             "#c51b7d"
            ],
            [
             0.2,
             "#de77ae"
            ],
            [
             0.3,
             "#f1b6da"
            ],
            [
             0.4,
             "#fde0ef"
            ],
            [
             0.5,
             "#f7f7f7"
            ],
            [
             0.6,
             "#e6f5d0"
            ],
            [
             0.7,
             "#b8e186"
            ],
            [
             0.8,
             "#7fbc41"
            ],
            [
             0.9,
             "#4d9221"
            ],
            [
             1,
             "#276419"
            ]
           ],
           "sequential": [
            [
             0,
             "#0d0887"
            ],
            [
             0.1111111111111111,
             "#46039f"
            ],
            [
             0.2222222222222222,
             "#7201a8"
            ],
            [
             0.3333333333333333,
             "#9c179e"
            ],
            [
             0.4444444444444444,
             "#bd3786"
            ],
            [
             0.5555555555555556,
             "#d8576b"
            ],
            [
             0.6666666666666666,
             "#ed7953"
            ],
            [
             0.7777777777777778,
             "#fb9f3a"
            ],
            [
             0.8888888888888888,
             "#fdca26"
            ],
            [
             1,
             "#f0f921"
            ]
           ],
           "sequentialminus": [
            [
             0,
             "#0d0887"
            ],
            [
             0.1111111111111111,
             "#46039f"
            ],
            [
             0.2222222222222222,
             "#7201a8"
            ],
            [
             0.3333333333333333,
             "#9c179e"
            ],
            [
             0.4444444444444444,
             "#bd3786"
            ],
            [
             0.5555555555555556,
             "#d8576b"
            ],
            [
             0.6666666666666666,
             "#ed7953"
            ],
            [
             0.7777777777777778,
             "#fb9f3a"
            ],
            [
             0.8888888888888888,
             "#fdca26"
            ],
            [
             1,
             "#f0f921"
            ]
           ]
          },
          "colorway": [
           "#636efa",
           "#EF553B",
           "#00cc96",
           "#ab63fa",
           "#FFA15A",
           "#19d3f3",
           "#FF6692",
           "#B6E880",
           "#FF97FF",
           "#FECB52"
          ],
          "font": {
           "color": "#2a3f5f"
          },
          "geo": {
           "bgcolor": "white",
           "lakecolor": "white",
           "landcolor": "#E5ECF6",
           "showlakes": true,
           "showland": true,
           "subunitcolor": "white"
          },
          "hoverlabel": {
           "align": "left"
          },
          "hovermode": "closest",
          "mapbox": {
           "style": "light"
          },
          "paper_bgcolor": "white",
          "plot_bgcolor": "#E5ECF6",
          "polar": {
           "angularaxis": {
            "gridcolor": "white",
            "linecolor": "white",
            "ticks": ""
           },
           "bgcolor": "#E5ECF6",
           "radialaxis": {
            "gridcolor": "white",
            "linecolor": "white",
            "ticks": ""
           }
          },
          "scene": {
           "xaxis": {
            "backgroundcolor": "#E5ECF6",
            "gridcolor": "white",
            "gridwidth": 2,
            "linecolor": "white",
            "showbackground": true,
            "ticks": "",
            "zerolinecolor": "white"
           },
           "yaxis": {
            "backgroundcolor": "#E5ECF6",
            "gridcolor": "white",
            "gridwidth": 2,
            "linecolor": "white",
            "showbackground": true,
            "ticks": "",
            "zerolinecolor": "white"
           },
           "zaxis": {
            "backgroundcolor": "#E5ECF6",
            "gridcolor": "white",
            "gridwidth": 2,
            "linecolor": "white",
            "showbackground": true,
            "ticks": "",
            "zerolinecolor": "white"
           }
          },
          "shapedefaults": {
           "line": {
            "color": "#2a3f5f"
           }
          },
          "ternary": {
           "aaxis": {
            "gridcolor": "white",
            "linecolor": "white",
            "ticks": ""
           },
           "baxis": {
            "gridcolor": "white",
            "linecolor": "white",
            "ticks": ""
           },
           "bgcolor": "#E5ECF6",
           "caxis": {
            "gridcolor": "white",
            "linecolor": "white",
            "ticks": ""
           }
          },
          "title": {
           "x": 0.05
          },
          "xaxis": {
           "automargin": true,
           "gridcolor": "white",
           "linecolor": "white",
           "ticks": "",
           "title": {
            "standoff": 15
           },
           "zerolinecolor": "white",
           "zerolinewidth": 2
          },
          "yaxis": {
           "automargin": true,
           "gridcolor": "white",
           "linecolor": "white",
           "ticks": "",
           "title": {
            "standoff": 15
           },
           "zerolinecolor": "white",
           "zerolinewidth": 2
          }
         }
        },
        "title": {
         "text": "Calories vs Fat in 1993 and 2020"
        },
        "xaxis": {
         "anchor": "y",
         "domain": [
          0,
          0.45
         ],
         "title": {
          "text": "Fat"
         }
        },
        "xaxis2": {
         "anchor": "y2",
         "domain": [
          0.55,
          1
         ],
         "title": {
          "text": "Fat"
         }
        },
        "yaxis": {
         "anchor": "x",
         "domain": [
          0,
          1
         ],
         "title": {
          "text": "Calories"
         }
        },
        "yaxis2": {
         "anchor": "x2",
         "domain": [
          0,
          1
         ],
         "matches": "y",
         "showticklabels": false
        }
       }
      },
      "text/html": [
       "<div>                            <div id=\"aa96f5f2-9cf2-475c-9eb8-f36148abcc00\" class=\"plotly-graph-div\" style=\"height:525px; width:100%;\"></div>            <script type=\"text/javascript\">                require([\"plotly\"], function(Plotly) {                    window.PLOTLYENV=window.PLOTLYENV || {};                                    if (document.getElementById(\"aa96f5f2-9cf2-475c-9eb8-f36148abcc00\")) {                    Plotly.newPlot(                        \"aa96f5f2-9cf2-475c-9eb8-f36148abcc00\",                        [{\"marker\": {\"line\": {\"width\": 2}, \"size\": 5}, \"mode\": \"markers\", \"name\": \"1993\", \"text\": [\"100% Bran\", \"100% Natural Bran\", \"All-Bran\", \"All-Bran with Extra Fiber\", \"Almond Delight\", \"Apple Cinnamon Cheerios\", \"Apple Jacks\", \"Basic 4\", \"Bran Chex\", \"Bran Flakes\", \"Cap'n'Crunch\", \"Cheerios\", \"Cinnamon Toast Crunch\", \"Clusters\", \"Cocoa Puffs\", \"Corn Chex\", \"Corn Flakes\", \"Corn Pops\", \"Count Chocula\", \"Cracklin' Oat Bran\", \"Cream of Wheat (Quick)\", \"Crispix\", \"Crispy Wheat & Raisins\", \"Double Chex\", \"Froot Loops\", \"Frosted Flakes\", \"Frosted Mini-Wheats\", \"Fruit & Fibre Dates\", \"Fruitful Bran\", \"Fruity Pebbles\", \"Golden Crisp\", \"Golden Grahams\", \"Grape Nuts Flakes\", \"Grape-Nuts\", \"Great Grains Pecan\", \"Honey Graham Ohs\", \"Honey Nut Cheerios\", \"Honey-comb\", \"Just Right Crunchy  Nuggets\", \"Just Right Fruit & Nut\", \"Kix\", \"Life\", \"Lucky Charms\", \"Maypo\", \"Dates & Almonds\", \"Peaches & Pecans\", \"Mueslix Crispy Blend\", \"Multi-Grain Cheerios\", \"Nut&Honey Crunch\", \"Nutri-Grain Almond-Raisin\", \"Nutri-grain Wheat\", \"Oatmeal Raisin Crisp\", \"Post Nat. Raisin Bran\", \"Product 19\", \"Puffed Rice\", \"Puffed Wheat\", \"Quaker Oat Squares\", \"Quaker Oatmeal\", \"Raisin Bran\", \"Raisin Nut Bran\", \"Raisin Squares\", \"Rice Chex\", \"Rice Krispies\", \"Shredded Wheat\", \"Shredded Wheat 'n'Bran\", \"Shredded Wheat spoon size\", \"Smacks\", \"Special K\", \"Strawberry Fruit Wheats\", \"Total Corn Flakes\", \"Total Raisin Bran\", \"Total Whole Grain\", \"Triples\", \"Trix\", \"Walnuts & Oats\", \"Wheat Chex\", \"Wheaties\"], \"type\": \"scatter\", \"x\": [1, 5, 1, 0, 2, 2, 0, 2, 1, 0, 2, 2, 3, 2, 1, 0, 0, 0, 1, 3, 0, 0, 1, 0, 1, 0, 0, 2, 0, 1, 0, 1, 1, 0, 3, 2, 1, 0, 1, 1, 1, 2, 1, 1, 3, 3, 1, 1, 1, 2, 0, 2, 1, 0, 0, 0, 1, 2, 1, 2, 0, 0, 0, 0, 0, 0, 1, 0, 0, 1, 1, 1, 1, 1, 2, 1, 1], \"xaxis\": \"x\", \"y\": [70, 120, 70, 50, 110, 110, 110, 98, 90, 90, 120, 110, 120, 110, 110, 110, 100, 110, 110, 110, 100, 110, 100, 100, 110, 110, 100, 96, 90, 110, 100, 110, 100, 110, 120, 120, 110, 110, 110, 108, 110, 100, 110, 100, 150, 150, 107, 100, 120, 105, 90, 104, 90, 100, 100, 100, 100, 100, 90, 100, 90, 110, 110, 96, 90, 90, 110, 110, 90, 110, 93, 100, 110, 110, 96, 100, 100], \"yaxis\": \"y\"}, {\"marker\": {\"line\": {\"width\": 2}, \"size\": 5}, \"mode\": \"markers\", \"name\": \"Regression Fit\", \"type\": \"scatter\", \"x\": [0.0, 0.050505050505050504, 0.10101010101010101, 0.15151515151515152, 0.20202020202020202, 0.25252525252525254, 0.30303030303030304, 0.35353535353535354, 0.40404040404040403, 0.45454545454545453, 0.5050505050505051, 0.5555555555555556, 0.6060606060606061, 0.6565656565656566, 0.7070707070707071, 0.7575757575757576, 0.8080808080808081, 0.8585858585858586, 0.9090909090909091, 0.9595959595959596, 1.0101010101010102, 1.0606060606060606, 1.1111111111111112, 1.1616161616161615, 1.2121212121212122, 1.2626262626262625, 1.3131313131313131, 1.3636363636363635, 1.4141414141414141, 1.4646464646464645, 1.5151515151515151, 1.5656565656565655, 1.6161616161616161, 1.6666666666666667, 1.7171717171717171, 1.7676767676767677, 1.8181818181818181, 1.8686868686868687, 1.9191919191919191, 1.9696969696969697, 2.0202020202020203, 2.0707070707070705, 2.121212121212121, 2.1717171717171717, 2.2222222222222223, 2.2727272727272725, 2.323232323232323, 2.3737373737373737, 2.4242424242424243, 2.474747474747475, 2.525252525252525, 2.5757575757575757, 2.6262626262626263, 2.676767676767677, 2.727272727272727, 2.7777777777777777, 2.8282828282828283, 2.878787878787879, 2.929292929292929, 2.9797979797979797, 3.0303030303030303, 3.080808080808081, 3.131313131313131, 3.1818181818181817, 3.2323232323232323, 3.282828282828283, 3.3333333333333335, 3.3838383838383836, 3.4343434343434343, 3.484848484848485, 3.5353535353535355, 3.5858585858585856, 3.6363636363636362, 3.686868686868687, 3.7373737373737375, 3.7878787878787876, 3.8383838383838382, 3.888888888888889, 3.9393939393939394, 3.9898989898989896, 4.040404040404041, 4.090909090909091, 4.141414141414141, 4.191919191919192, 4.242424242424242, 4.292929292929293, 4.343434343434343, 4.393939393939394, 4.444444444444445, 4.494949494949495, 4.545454545454545, 4.595959595959596, 4.646464646464646, 4.696969696969697, 4.747474747474747, 4.797979797979798, 4.848484848484849, 4.898989898989899, 4.94949494949495, 5.0], \"xaxis\": \"x\", \"y\": [97.5, 97.81436156436156, 98.12872312872312, 98.4430846930847, 98.75744625744626, 99.07180782180782, 99.38616938616939, 99.70053095053095, 100.01489251489251, 100.32925407925408, 100.64361564361565, 100.95797720797721, 101.27233877233877, 101.58670033670033, 101.9010619010619, 102.21542346542347, 102.52978502978503, 102.8441465941466, 103.15850815850816, 103.47286972286972, 103.7872312872313, 104.10159285159286, 104.41595441595442, 104.73031598031598, 105.04467754467754, 105.3590391090391, 105.67340067340068, 105.98776223776224, 106.3021238021238, 106.61648536648536, 106.93084693084693, 107.24520849520849, 107.55957005957006, 107.87393162393163, 108.18829318829319, 108.50265475265475, 108.81701631701631, 109.13137788137789, 109.44573944573945, 109.76010101010101, 110.07446257446257, 110.38882413882413, 110.70318570318571, 111.01754726754727, 111.33190883190883, 111.6462703962704, 111.96063196063196, 112.27499352499352, 112.5893550893551, 112.90371665371666, 113.21807821807822, 113.53243978243978, 113.84680134680134, 114.1611629111629, 114.47552447552448, 114.78988603988604, 115.1042476042476, 115.41860916860917, 115.73297073297073, 116.0473322973323, 116.36169386169387, 116.67605542605543, 116.99041699041699, 117.30477855477855, 117.61914011914013, 117.93350168350169, 118.24786324786325, 118.56222481222481, 118.87658637658637, 119.19094794094795, 119.5053095053095, 119.81967106967107, 120.13403263403264, 120.4483941983942, 120.76275576275576, 121.07711732711732, 121.3914788914789, 121.70584045584046, 122.02020202020202, 122.33456358456358, 122.64892514892514, 122.96328671328672, 123.27764827764827, 123.59200984200984, 123.9063714063714, 124.22073297073297, 124.53509453509454, 124.84945609945609, 125.16381766381767, 125.47817922817923, 125.79254079254079, 126.10690235690235, 126.42126392126391, 126.73562548562549, 127.04998704998705, 127.36434861434861, 127.67871017871018, 127.99307174307174, 128.3074333074333, 128.62179487179486], \"yaxis\": \"y\"}, {\"marker\": {\"line\": {\"width\": 2}, \"size\": 5}, \"mode\": \"markers\", \"name\": \"2020\", \"text\": [\"Wheaties Honey Gold\", \"All-Bran Complete Wheat Flakes Cereal\", \"Eggo\", \"Honey Smacks\", \"Krave Double Chocolate\", \"Peeps\", \"Smart Start\", \"Annie's Whole Grain Cereal\", \"Cascadian Farm Organic Raisin Bran\", \"Cheerios Multi Grain\", \"Chex Wheat Cereal\", \"Cookie Crisp\", \"Dunkaroos\", \"Fiber One\", \"Good Belly\", \"Larabar (Peanut Butter)\", \"Oatmeal Crisp\", \"Wonderworks (Peanut Butter)\", \"Ahold 100% Whole Grain\", \"Hannaford Frosted Flakes\", \"Martin's Food Lion\", \"Hannaford Tasteeos Cereal\", \"Ahold Vanilla Almond Cereal\", \"Kelloggs Special Fruit & Yogurt\", \"Kelloggs Special Original Cereal\", \"Quaker Life Cinnamon Multigrain\", \"Quaker Life Original Multigrain\", \"Quaker Life Ltd. Edition, Pumpkin Spice\", \"All-Bran\", \"Apple Jacks\", \"Basic 4\", \"Cocoa Puffs\", \"Corn Flakes\", \"Corn Pops\", \"Cracklin' Oat Bran\", \"Crispix\", \"Froot Loops\", \"Frosted Flakes\", \"Golden Grahams\", \"Kix\", \"Oatmeal Raisin Crisp\", \"Raisin Bran\", \"Raisin Nut Bran\", \"Rice Krispies\", \"Special K\", \"Total Whole Grain\", \"Trix\", \"Wheaties\"], \"type\": \"scatter\", \"x\": [1, 0, 1, 0, 3, 0, 0, 1, 1, 1, 0, 1, 1, 1, 3, 6, 0, 4, 1, 0, 1, 2, 1, 1, 0, 1, 1, 1, 1, 1, 1, 2, 0, 0, 4, 0, 1, 0, 1, 1, 2, 0, 2, 0, 0, 1, 1, 0], \"xaxis\": \"x2\", \"y\": [110, 120, 160, 130, 170, 110, 240, 160, 210, 150, 210, 140, 150, 90, 170, 280, 230, 160, 170, 150, 120, 111, 104, 111, 97, 83, 111, 83, 92, 109, 103, 110, 101, 106, 116, 109, 109, 100, 106, 113, 109, 91, 105, 106, 109, 128, 116, 102], \"yaxis\": \"y2\"}, {\"marker\": {\"line\": {\"width\": 2}, \"size\": 5}, \"mode\": \"markers\", \"name\": \"Regression Fit\", \"type\": \"scatter\", \"x\": [0.0, 0.06060606060606061, 0.12121212121212122, 0.18181818181818182, 0.24242424242424243, 0.30303030303030304, 0.36363636363636365, 0.42424242424242425, 0.48484848484848486, 0.5454545454545454, 0.6060606060606061, 0.6666666666666667, 0.7272727272727273, 0.7878787878787878, 0.8484848484848485, 0.9090909090909092, 0.9696969696969697, 1.0303030303030303, 1.0909090909090908, 1.1515151515151516, 1.2121212121212122, 1.2727272727272727, 1.3333333333333335, 1.393939393939394, 1.4545454545454546, 1.5151515151515151, 1.5757575757575757, 1.6363636363636365, 1.696969696969697, 1.7575757575757576, 1.8181818181818183, 1.878787878787879, 1.9393939393939394, 2.0, 2.0606060606060606, 2.121212121212121, 2.1818181818181817, 2.2424242424242427, 2.303030303030303, 2.3636363636363638, 2.4242424242424243, 2.484848484848485, 2.5454545454545454, 2.606060606060606, 2.666666666666667, 2.7272727272727275, 2.787878787878788, 2.8484848484848486, 2.909090909090909, 2.9696969696969697, 3.0303030303030303, 3.090909090909091, 3.1515151515151514, 3.2121212121212124, 3.272727272727273, 3.3333333333333335, 3.393939393939394, 3.4545454545454546, 3.515151515151515, 3.5757575757575757, 3.6363636363636367, 3.6969696969696972, 3.757575757575758, 3.8181818181818183, 3.878787878787879, 3.9393939393939394, 4.0, 4.0606060606060606, 4.121212121212121, 4.181818181818182, 4.242424242424242, 4.303030303030303, 4.363636363636363, 4.424242424242425, 4.484848484848485, 4.545454545454546, 4.606060606060606, 4.666666666666667, 4.7272727272727275, 4.787878787878788, 4.848484848484849, 4.909090909090909, 4.96969696969697, 5.03030303030303, 5.090909090909091, 5.151515151515151, 5.212121212121212, 5.2727272727272725, 5.333333333333334, 5.3939393939393945, 5.454545454545455, 5.515151515151516, 5.575757575757576, 5.636363636363637, 5.696969696969697, 5.757575757575758, 5.818181818181818, 5.878787878787879, 5.9393939393939394, 6.0], \"xaxis\": \"x2\", \"y\": [118.01941747572815, 118.7384524860253, 119.45748749632244, 120.17652250661959, 120.89555751691674, 121.61459252721387, 122.33362753751102, 123.05266254780817, 123.77169755810532, 124.49073256840246, 125.20976757869961, 125.92880258899676, 126.64783759929391, 127.36687260959104, 128.0859076198882, 128.80494263018534, 129.52397764048249, 130.24301265077963, 130.96204766107678, 131.68108267137393, 132.40011768167108, 133.11915269196822, 133.83818770226537, 134.55722271256252, 135.27625772285967, 135.99529273315682, 136.71432774345396, 137.4333627537511, 138.15239776404823, 138.87143277434538, 139.59046778464253, 140.30950279493968, 141.02853780523682, 141.74757281553397, 142.46660782583112, 143.18564283612827, 143.90467784642541, 144.62371285672256, 145.3427478670197, 146.06178287731686, 146.780817887614, 147.49985289791115, 148.2188879082083, 148.93792291850542, 149.6569579288026, 150.37599293909972, 151.09502794939687, 151.814062959694, 152.53309796999116, 153.2521329802883, 153.97116799058546, 154.6902030008826, 155.40923801117975, 156.1282730214769, 156.84730803177405, 157.5663430420712, 158.28537805236834, 159.0044130626655, 159.72344807296264, 160.4424830832598, 161.16151809355694, 161.88055310385408, 162.59958811415123, 163.31862312444838, 164.03765813474553, 164.75669314504265, 165.4757281553398, 166.19476316563694, 166.9137981759341, 167.63283318623124, 168.3518681965284, 169.07090320682553, 169.78993821712268, 170.50897322741983, 171.22800823771698, 171.94704324801413, 172.66607825831127, 173.38511326860842, 174.10414827890557, 174.8231832892027, 175.54221829949984, 176.26125330979698, 176.98028832009413, 177.69932333039128, 178.41835834068843, 179.13739335098558, 179.85642836128272, 180.57546337157987, 181.29449838187702, 182.01353339217417, 182.73256840247132, 183.45160341276846, 184.1706384230656, 184.88967343336276, 185.6087084436599, 186.32774345395705, 187.0467784642542, 187.76581347455135, 188.4848484848485, 189.20388349514565], \"yaxis\": \"y2\"}],                        {\"annotations\": [{\"font\": {\"size\": 16}, \"showarrow\": false, \"text\": \"1993\", \"x\": 0.225, \"xanchor\": \"center\", \"xref\": \"paper\", \"y\": 1.0, \"yanchor\": \"bottom\", \"yref\": \"paper\"}, {\"font\": {\"size\": 16}, \"showarrow\": false, \"text\": \"2020\", \"x\": 0.775, \"xanchor\": \"center\", \"xref\": \"paper\", \"y\": 1.0, \"yanchor\": \"bottom\", \"yref\": \"paper\"}], \"showlegend\": false, \"template\": {\"data\": {\"bar\": [{\"error_x\": {\"color\": \"#2a3f5f\"}, \"error_y\": {\"color\": \"#2a3f5f\"}, \"marker\": {\"line\": {\"color\": \"#E5ECF6\", \"width\": 0.5}}, \"type\": \"bar\"}], \"barpolar\": [{\"marker\": {\"line\": {\"color\": \"#E5ECF6\", \"width\": 0.5}}, \"type\": \"barpolar\"}], \"carpet\": [{\"aaxis\": {\"endlinecolor\": \"#2a3f5f\", \"gridcolor\": \"white\", \"linecolor\": \"white\", \"minorgridcolor\": \"white\", \"startlinecolor\": \"#2a3f5f\"}, \"baxis\": {\"endlinecolor\": \"#2a3f5f\", \"gridcolor\": \"white\", \"linecolor\": \"white\", \"minorgridcolor\": \"white\", \"startlinecolor\": \"#2a3f5f\"}, \"type\": \"carpet\"}], \"choropleth\": [{\"colorbar\": {\"outlinewidth\": 0, \"ticks\": \"\"}, \"type\": \"choropleth\"}], \"contour\": [{\"colorbar\": {\"outlinewidth\": 0, \"ticks\": \"\"}, \"colorscale\": [[0.0, \"#0d0887\"], [0.1111111111111111, \"#46039f\"], [0.2222222222222222, \"#7201a8\"], [0.3333333333333333, \"#9c179e\"], [0.4444444444444444, \"#bd3786\"], [0.5555555555555556, \"#d8576b\"], [0.6666666666666666, \"#ed7953\"], [0.7777777777777778, \"#fb9f3a\"], [0.8888888888888888, \"#fdca26\"], [1.0, \"#f0f921\"]], \"type\": \"contour\"}], \"contourcarpet\": [{\"colorbar\": {\"outlinewidth\": 0, \"ticks\": \"\"}, \"type\": \"contourcarpet\"}], \"heatmap\": [{\"colorbar\": {\"outlinewidth\": 0, \"ticks\": \"\"}, \"colorscale\": [[0.0, \"#0d0887\"], [0.1111111111111111, \"#46039f\"], [0.2222222222222222, \"#7201a8\"], [0.3333333333333333, \"#9c179e\"], [0.4444444444444444, \"#bd3786\"], [0.5555555555555556, \"#d8576b\"], [0.6666666666666666, \"#ed7953\"], [0.7777777777777778, \"#fb9f3a\"], [0.8888888888888888, \"#fdca26\"], [1.0, \"#f0f921\"]], \"type\": \"heatmap\"}], \"heatmapgl\": [{\"colorbar\": {\"outlinewidth\": 0, \"ticks\": \"\"}, \"colorscale\": [[0.0, \"#0d0887\"], [0.1111111111111111, \"#46039f\"], [0.2222222222222222, \"#7201a8\"], [0.3333333333333333, \"#9c179e\"], [0.4444444444444444, \"#bd3786\"], [0.5555555555555556, \"#d8576b\"], [0.6666666666666666, \"#ed7953\"], [0.7777777777777778, \"#fb9f3a\"], [0.8888888888888888, \"#fdca26\"], [1.0, \"#f0f921\"]], \"type\": \"heatmapgl\"}], \"histogram\": [{\"marker\": {\"colorbar\": {\"outlinewidth\": 0, \"ticks\": \"\"}}, \"type\": \"histogram\"}], \"histogram2d\": [{\"colorbar\": {\"outlinewidth\": 0, \"ticks\": \"\"}, \"colorscale\": [[0.0, \"#0d0887\"], [0.1111111111111111, \"#46039f\"], [0.2222222222222222, \"#7201a8\"], [0.3333333333333333, \"#9c179e\"], [0.4444444444444444, \"#bd3786\"], [0.5555555555555556, \"#d8576b\"], [0.6666666666666666, \"#ed7953\"], [0.7777777777777778, \"#fb9f3a\"], [0.8888888888888888, \"#fdca26\"], [1.0, \"#f0f921\"]], \"type\": \"histogram2d\"}], \"histogram2dcontour\": [{\"colorbar\": {\"outlinewidth\": 0, \"ticks\": \"\"}, \"colorscale\": [[0.0, \"#0d0887\"], [0.1111111111111111, \"#46039f\"], [0.2222222222222222, \"#7201a8\"], [0.3333333333333333, \"#9c179e\"], [0.4444444444444444, \"#bd3786\"], [0.5555555555555556, \"#d8576b\"], [0.6666666666666666, \"#ed7953\"], [0.7777777777777778, \"#fb9f3a\"], [0.8888888888888888, \"#fdca26\"], [1.0, \"#f0f921\"]], \"type\": \"histogram2dcontour\"}], \"mesh3d\": [{\"colorbar\": {\"outlinewidth\": 0, \"ticks\": \"\"}, \"type\": \"mesh3d\"}], \"parcoords\": [{\"line\": {\"colorbar\": {\"outlinewidth\": 0, \"ticks\": \"\"}}, \"type\": \"parcoords\"}], \"pie\": [{\"automargin\": true, \"type\": \"pie\"}], \"scatter\": [{\"marker\": {\"colorbar\": {\"outlinewidth\": 0, \"ticks\": \"\"}}, \"type\": \"scatter\"}], \"scatter3d\": [{\"line\": {\"colorbar\": {\"outlinewidth\": 0, \"ticks\": \"\"}}, \"marker\": {\"colorbar\": {\"outlinewidth\": 0, \"ticks\": \"\"}}, \"type\": \"scatter3d\"}], \"scattercarpet\": [{\"marker\": {\"colorbar\": {\"outlinewidth\": 0, \"ticks\": \"\"}}, \"type\": \"scattercarpet\"}], \"scattergeo\": [{\"marker\": {\"colorbar\": {\"outlinewidth\": 0, \"ticks\": \"\"}}, \"type\": \"scattergeo\"}], \"scattergl\": [{\"marker\": {\"colorbar\": {\"outlinewidth\": 0, \"ticks\": \"\"}}, \"type\": \"scattergl\"}], \"scattermapbox\": [{\"marker\": {\"colorbar\": {\"outlinewidth\": 0, \"ticks\": \"\"}}, \"type\": \"scattermapbox\"}], \"scatterpolar\": [{\"marker\": {\"colorbar\": {\"outlinewidth\": 0, \"ticks\": \"\"}}, \"type\": \"scatterpolar\"}], \"scatterpolargl\": [{\"marker\": {\"colorbar\": {\"outlinewidth\": 0, \"ticks\": \"\"}}, \"type\": \"scatterpolargl\"}], \"scatterternary\": [{\"marker\": {\"colorbar\": {\"outlinewidth\": 0, \"ticks\": \"\"}}, \"type\": \"scatterternary\"}], \"surface\": [{\"colorbar\": {\"outlinewidth\": 0, \"ticks\": \"\"}, \"colorscale\": [[0.0, \"#0d0887\"], [0.1111111111111111, \"#46039f\"], [0.2222222222222222, \"#7201a8\"], [0.3333333333333333, \"#9c179e\"], [0.4444444444444444, \"#bd3786\"], [0.5555555555555556, \"#d8576b\"], [0.6666666666666666, \"#ed7953\"], [0.7777777777777778, \"#fb9f3a\"], [0.8888888888888888, \"#fdca26\"], [1.0, \"#f0f921\"]], \"type\": \"surface\"}], \"table\": [{\"cells\": {\"fill\": {\"color\": \"#EBF0F8\"}, \"line\": {\"color\": \"white\"}}, \"header\": {\"fill\": {\"color\": \"#C8D4E3\"}, \"line\": {\"color\": \"white\"}}, \"type\": \"table\"}]}, \"layout\": {\"annotationdefaults\": {\"arrowcolor\": \"#2a3f5f\", \"arrowhead\": 0, \"arrowwidth\": 1}, \"coloraxis\": {\"colorbar\": {\"outlinewidth\": 0, \"ticks\": \"\"}}, \"colorscale\": {\"diverging\": [[0, \"#8e0152\"], [0.1, \"#c51b7d\"], [0.2, \"#de77ae\"], [0.3, \"#f1b6da\"], [0.4, \"#fde0ef\"], [0.5, \"#f7f7f7\"], [0.6, \"#e6f5d0\"], [0.7, \"#b8e186\"], [0.8, \"#7fbc41\"], [0.9, \"#4d9221\"], [1, \"#276419\"]], \"sequential\": [[0.0, \"#0d0887\"], [0.1111111111111111, \"#46039f\"], [0.2222222222222222, \"#7201a8\"], [0.3333333333333333, \"#9c179e\"], [0.4444444444444444, \"#bd3786\"], [0.5555555555555556, \"#d8576b\"], [0.6666666666666666, \"#ed7953\"], [0.7777777777777778, \"#fb9f3a\"], [0.8888888888888888, \"#fdca26\"], [1.0, \"#f0f921\"]], \"sequentialminus\": [[0.0, \"#0d0887\"], [0.1111111111111111, \"#46039f\"], [0.2222222222222222, \"#7201a8\"], [0.3333333333333333, \"#9c179e\"], [0.4444444444444444, \"#bd3786\"], [0.5555555555555556, \"#d8576b\"], [0.6666666666666666, \"#ed7953\"], [0.7777777777777778, \"#fb9f3a\"], [0.8888888888888888, \"#fdca26\"], [1.0, \"#f0f921\"]]}, \"colorway\": [\"#636efa\", \"#EF553B\", \"#00cc96\", \"#ab63fa\", \"#FFA15A\", \"#19d3f3\", \"#FF6692\", \"#B6E880\", \"#FF97FF\", \"#FECB52\"], \"font\": {\"color\": \"#2a3f5f\"}, \"geo\": {\"bgcolor\": \"white\", \"lakecolor\": \"white\", \"landcolor\": \"#E5ECF6\", \"showlakes\": true, \"showland\": true, \"subunitcolor\": \"white\"}, \"hoverlabel\": {\"align\": \"left\"}, \"hovermode\": \"closest\", \"mapbox\": {\"style\": \"light\"}, \"paper_bgcolor\": \"white\", \"plot_bgcolor\": \"#E5ECF6\", \"polar\": {\"angularaxis\": {\"gridcolor\": \"white\", \"linecolor\": \"white\", \"ticks\": \"\"}, \"bgcolor\": \"#E5ECF6\", \"radialaxis\": {\"gridcolor\": \"white\", \"linecolor\": \"white\", \"ticks\": \"\"}}, \"scene\": {\"xaxis\": {\"backgroundcolor\": \"#E5ECF6\", \"gridcolor\": \"white\", \"gridwidth\": 2, \"linecolor\": \"white\", \"showbackground\": true, \"ticks\": \"\", \"zerolinecolor\": \"white\"}, \"yaxis\": {\"backgroundcolor\": \"#E5ECF6\", \"gridcolor\": \"white\", \"gridwidth\": 2, \"linecolor\": \"white\", \"showbackground\": true, \"ticks\": \"\", \"zerolinecolor\": \"white\"}, \"zaxis\": {\"backgroundcolor\": \"#E5ECF6\", \"gridcolor\": \"white\", \"gridwidth\": 2, \"linecolor\": \"white\", \"showbackground\": true, \"ticks\": \"\", \"zerolinecolor\": \"white\"}}, \"shapedefaults\": {\"line\": {\"color\": \"#2a3f5f\"}}, \"ternary\": {\"aaxis\": {\"gridcolor\": \"white\", \"linecolor\": \"white\", \"ticks\": \"\"}, \"baxis\": {\"gridcolor\": \"white\", \"linecolor\": \"white\", \"ticks\": \"\"}, \"bgcolor\": \"#E5ECF6\", \"caxis\": {\"gridcolor\": \"white\", \"linecolor\": \"white\", \"ticks\": \"\"}}, \"title\": {\"x\": 0.05}, \"xaxis\": {\"automargin\": true, \"gridcolor\": \"white\", \"linecolor\": \"white\", \"ticks\": \"\", \"title\": {\"standoff\": 15}, \"zerolinecolor\": \"white\", \"zerolinewidth\": 2}, \"yaxis\": {\"automargin\": true, \"gridcolor\": \"white\", \"linecolor\": \"white\", \"ticks\": \"\", \"title\": {\"standoff\": 15}, \"zerolinecolor\": \"white\", \"zerolinewidth\": 2}}}, \"title\": {\"text\": \"Calories vs Fat in 1993 and 2020\"}, \"xaxis\": {\"anchor\": \"y\", \"domain\": [0.0, 0.45], \"title\": {\"text\": \"Fat\"}}, \"xaxis2\": {\"anchor\": \"y2\", \"domain\": [0.55, 1.0], \"title\": {\"text\": \"Fat\"}}, \"yaxis\": {\"anchor\": \"x\", \"domain\": [0.0, 1.0], \"title\": {\"text\": \"Calories\"}}, \"yaxis2\": {\"anchor\": \"x2\", \"domain\": [0.0, 1.0], \"matches\": \"y\", \"showticklabels\": false}},                        {\"responsive\": true}                    ).then(function(){\n",
       "                            \n",
       "var gd = document.getElementById('aa96f5f2-9cf2-475c-9eb8-f36148abcc00');\n",
       "var x = new MutationObserver(function (mutations, observer) {{\n",
       "        var display = window.getComputedStyle(gd).display;\n",
       "        if (!display || display === 'none') {{\n",
       "            console.log([gd, 'removed!']);\n",
       "            Plotly.purge(gd);\n",
       "            observer.disconnect();\n",
       "        }}\n",
       "}});\n",
       "\n",
       "// Listen for the removal of the full notebook cells\n",
       "var notebookContainer = gd.closest('#notebook-container');\n",
       "if (notebookContainer) {{\n",
       "    x.observe(notebookContainer, {childList: true});\n",
       "}}\n",
       "\n",
       "// Listen for the clearing of the current output cell\n",
       "var outputEl = gd.closest('.output');\n",
       "if (outputEl) {{\n",
       "    x.observe(outputEl, {childList: true});\n",
       "}}\n",
       "\n",
       "                        })                };                });            </script>        </div>"
      ]
     },
     "metadata": {},
     "output_type": "display_data"
    },
    {
     "data": {
      "application/vnd.plotly.v1+json": {
       "config": {
        "plotlyServerURL": "https://plotly.com"
       },
       "data": [
        {
         "marker": {
          "line": {
           "width": 2
          },
          "size": 5
         },
         "mode": "markers",
         "name": "1993",
         "text": [
          "100% Bran",
          "100% Natural Bran",
          "All-Bran",
          "All-Bran with Extra Fiber",
          "Almond Delight",
          "Apple Cinnamon Cheerios",
          "Apple Jacks",
          "Basic 4",
          "Bran Chex",
          "Bran Flakes",
          "Cap'n'Crunch",
          "Cheerios",
          "Cinnamon Toast Crunch",
          "Clusters",
          "Cocoa Puffs",
          "Corn Chex",
          "Corn Flakes",
          "Corn Pops",
          "Count Chocula",
          "Cracklin' Oat Bran",
          "Cream of Wheat (Quick)",
          "Crispix",
          "Crispy Wheat & Raisins",
          "Double Chex",
          "Froot Loops",
          "Frosted Flakes",
          "Frosted Mini-Wheats",
          "Fruit & Fibre Dates",
          "Fruitful Bran",
          "Fruity Pebbles",
          "Golden Crisp",
          "Golden Grahams",
          "Grape Nuts Flakes",
          "Grape-Nuts",
          "Great Grains Pecan",
          "Honey Graham Ohs",
          "Honey Nut Cheerios",
          "Honey-comb",
          "Just Right Crunchy  Nuggets",
          "Just Right Fruit & Nut",
          "Kix",
          "Life",
          "Lucky Charms",
          "Maypo",
          "Dates & Almonds",
          "Peaches & Pecans",
          "Mueslix Crispy Blend",
          "Multi-Grain Cheerios",
          "Nut&Honey Crunch",
          "Nutri-Grain Almond-Raisin",
          "Nutri-grain Wheat",
          "Oatmeal Raisin Crisp",
          "Post Nat. Raisin Bran",
          "Product 19",
          "Puffed Rice",
          "Puffed Wheat",
          "Quaker Oat Squares",
          "Quaker Oatmeal",
          "Raisin Bran",
          "Raisin Nut Bran",
          "Raisin Squares",
          "Rice Chex",
          "Rice Krispies",
          "Shredded Wheat",
          "Shredded Wheat 'n'Bran",
          "Shredded Wheat spoon size",
          "Smacks",
          "Special K",
          "Strawberry Fruit Wheats",
          "Total Corn Flakes",
          "Total Raisin Bran",
          "Total Whole Grain",
          "Triples",
          "Trix",
          "Walnuts & Oats",
          "Wheat Chex",
          "Wheaties"
         ],
         "type": "scatter",
         "x": [
          10,
          2,
          9,
          14,
          1,
          2,
          1,
          2,
          4,
          5,
          0,
          2,
          0,
          2,
          0,
          0,
          1,
          1,
          0,
          4,
          1,
          1,
          2,
          1,
          1,
          1,
          3,
          4,
          4,
          0,
          0,
          0,
          3,
          3,
          3,
          1,
          2,
          0,
          1,
          2,
          0,
          2,
          0,
          0,
          3,
          3,
          2,
          2,
          0,
          2,
          3,
          1,
          5,
          1,
          0,
          2,
          2,
          3,
          4,
          2,
          2,
          0,
          0,
          4,
          4,
          3,
          1,
          1,
          3,
          0,
          3,
          3,
          0,
          0,
          4,
          3,
          3
         ],
         "xaxis": "x",
         "y": [
          70,
          120,
          70,
          50,
          110,
          110,
          110,
          98,
          90,
          90,
          120,
          110,
          120,
          110,
          110,
          110,
          100,
          110,
          110,
          110,
          100,
          110,
          100,
          100,
          110,
          110,
          100,
          96,
          90,
          110,
          100,
          110,
          100,
          110,
          120,
          120,
          110,
          110,
          110,
          108,
          110,
          100,
          110,
          100,
          150,
          150,
          107,
          100,
          120,
          105,
          90,
          104,
          90,
          100,
          100,
          100,
          100,
          100,
          90,
          100,
          90,
          110,
          110,
          96,
          90,
          90,
          110,
          110,
          90,
          110,
          93,
          100,
          110,
          110,
          96,
          100,
          100
         ],
         "yaxis": "y"
        },
        {
         "marker": {
          "line": {
           "width": 2
          },
          "size": 5
         },
         "mode": "markers",
         "name": "Regression Fit",
         "type": "scatter",
         "x": [
          0,
          0.1414141414141414,
          0.2828282828282828,
          0.4242424242424242,
          0.5656565656565656,
          0.7070707070707071,
          0.8484848484848484,
          0.9898989898989898,
          1.1313131313131313,
          1.2727272727272727,
          1.4141414141414141,
          1.5555555555555556,
          1.6969696969696968,
          1.8383838383838382,
          1.9797979797979797,
          2.121212121212121,
          2.2626262626262625,
          2.404040404040404,
          2.5454545454545454,
          2.686868686868687,
          2.8282828282828283,
          2.9696969696969697,
          3.111111111111111,
          3.2525252525252526,
          3.3939393939393936,
          3.535353535353535,
          3.6767676767676765,
          3.818181818181818,
          3.9595959595959593,
          4.101010101010101,
          4.242424242424242,
          4.383838383838384,
          4.525252525252525,
          4.666666666666666,
          4.808080808080808,
          4.949494949494949,
          5.090909090909091,
          5.232323232323232,
          5.373737373737374,
          5.515151515151515,
          5.656565656565657,
          5.797979797979798,
          5.9393939393939394,
          6.08080808080808,
          6.222222222222222,
          6.363636363636363,
          6.505050505050505,
          6.646464646464646,
          6.787878787878787,
          6.929292929292929,
          7.07070707070707,
          7.212121212121212,
          7.353535353535353,
          7.494949494949495,
          7.636363636363636,
          7.777777777777778,
          7.919191919191919,
          8.06060606060606,
          8.202020202020202,
          8.343434343434343,
          8.484848484848484,
          8.626262626262626,
          8.767676767676768,
          8.909090909090908,
          9.05050505050505,
          9.191919191919192,
          9.333333333333332,
          9.474747474747474,
          9.616161616161616,
          9.757575757575758,
          9.898989898989898,
          10.04040404040404,
          10.181818181818182,
          10.323232323232324,
          10.464646464646464,
          10.606060606060606,
          10.747474747474747,
          10.88888888888889,
          11.03030303030303,
          11.171717171717171,
          11.313131313131313,
          11.454545454545453,
          11.595959595959595,
          11.737373737373737,
          11.878787878787879,
          12.020202020202019,
          12.16161616161616,
          12.303030303030303,
          12.444444444444445,
          12.585858585858585,
          12.727272727272727,
          12.868686868686869,
          13.01010101010101,
          13.15151515151515,
          13.292929292929292,
          13.434343434343434,
          13.575757575757574,
          13.717171717171716,
          13.858585858585858,
          14
         ],
         "xaxis": "x",
         "y": [
          112.27409562357703,
          111.7117973307576,
          111.1494990379382,
          110.58720074511878,
          110.02490245229936,
          109.46260415947995,
          108.90030586666053,
          108.33800757384111,
          107.77570928102169,
          107.21341098820228,
          106.65111269538286,
          106.08881440256344,
          105.52651610974404,
          104.96421781692462,
          104.4019195241052,
          103.83962123128578,
          103.27732293846637,
          102.71502464564695,
          102.15272635282753,
          101.59042806000812,
          101.0281297671887,
          100.46583147436928,
          99.90353318154988,
          99.34123488873045,
          98.77893659591103,
          98.21663830309163,
          97.65434001027221,
          97.09204171745279,
          96.52974342463338,
          95.96744513181396,
          95.40514683899454,
          94.84284854617512,
          94.28055025335571,
          93.71825196053629,
          93.15595366771687,
          92.59365537489747,
          92.03135708207805,
          91.46905878925863,
          90.9067604964392,
          90.3444622036198,
          89.78216391080038,
          89.21986561798096,
          88.65756732516155,
          88.09526903234213,
          87.53297073952271,
          86.9706724467033,
          86.40837415388388,
          85.84607586106446,
          85.28377756824506,
          84.72147927542564,
          84.15918098260622,
          83.59688268978681,
          83.03458439696739,
          82.47228610414797,
          81.90998781132856,
          81.34768951850913,
          80.78539122568972,
          80.2230929328703,
          79.66079464005088,
          79.09849634723147,
          78.53619805441205,
          77.97389976159263,
          77.41160146877323,
          76.8493031759538,
          76.28700488313439,
          75.72470659031498,
          75.16240829749556,
          74.60011000467614,
          74.03781171185673,
          73.47551341903731,
          72.91321512621789,
          72.35091683339849,
          71.78861854057907,
          71.22632024775965,
          70.66402195494024,
          70.10172366212082,
          69.5394253693014,
          68.97712707648198,
          68.41482878366257,
          67.85253049084315,
          67.29023219802373,
          66.72793390520432,
          66.1656356123849,
          65.60333731956548,
          65.04103902674606,
          64.47874073392666,
          63.916442441107236,
          63.35414414828782,
          62.7918458554684,
          62.22954756264899,
          61.667249269829576,
          61.104950977010155,
          60.542652684190735,
          59.98035439137133,
          59.41805609855191,
          58.85575780573249,
          58.29345951291308,
          57.73116122009366,
          57.16886292727424,
          56.60656463445483
         ],
         "yaxis": "y"
        },
        {
         "marker": {
          "line": {
           "width": 2
          },
          "size": 5
         },
         "mode": "markers",
         "name": "2020",
         "text": [
          "Wheaties Honey Gold",
          "All-Bran Complete Wheat Flakes Cereal",
          "Eggo",
          "Honey Smacks",
          "Krave Double Chocolate",
          "Peeps",
          "Smart Start",
          "Annie's Whole Grain Cereal",
          "Cascadian Farm Organic Raisin Bran",
          "Cheerios Multi Grain",
          "Chex Wheat Cereal",
          "Cookie Crisp",
          "Dunkaroos",
          "Fiber One",
          "Good Belly",
          "Larabar (Peanut Butter)",
          "Oatmeal Crisp",
          "Wonderworks (Peanut Butter)",
          "Ahold 100% Whole Grain",
          "Hannaford Frosted Flakes",
          "Martin's Food Lion",
          "Hannaford Tasteeos Cereal",
          "Ahold Vanilla Almond Cereal",
          "Kelloggs Special Fruit & Yogurt",
          "Kelloggs Special Original Cereal",
          "Quaker Life Cinnamon Multigrain",
          "Quaker Life Original Multigrain",
          "Quaker Life Ltd. Edition, Pumpkin Spice",
          "All-Bran",
          "Apple Jacks",
          "Basic 4",
          "Cocoa Puffs",
          "Corn Flakes",
          "Corn Pops",
          "Cracklin' Oat Bran",
          "Crispix",
          "Froot Loops",
          "Frosted Flakes",
          "Golden Grahams",
          "Kix",
          "Oatmeal Raisin Crisp",
          "Raisin Bran",
          "Raisin Nut Bran",
          "Rice Krispies",
          "Special K",
          "Total Whole Grain",
          "Trix",
          "Wheaties"
         ],
         "type": "scatter",
         "x": [
          1,
          5,
          2,
          2,
          2,
          1,
          1,
          3,
          3,
          3,
          4,
          2,
          1,
          13,
          3,
          2,
          3,
          2,
          3,
          1,
          5,
          2,
          2,
          2,
          0,
          1,
          2,
          1,
          5,
          1,
          3,
          2,
          1,
          0,
          4,
          0,
          1,
          1,
          1,
          2,
          3,
          2,
          3,
          0,
          1,
          3,
          1,
          3
         ],
         "xaxis": "x2",
         "y": [
          110,
          120,
          160,
          130,
          170,
          110,
          240,
          160,
          210,
          150,
          210,
          140,
          150,
          90,
          170,
          280,
          230,
          160,
          170,
          150,
          120,
          111,
          104,
          111,
          97,
          83,
          111,
          83,
          92,
          109,
          103,
          110,
          101,
          106,
          116,
          109,
          109,
          100,
          106,
          113,
          109,
          91,
          105,
          106,
          109,
          128,
          116,
          102
         ],
         "yaxis": "y2"
        },
        {
         "marker": {
          "line": {
           "width": 2
          },
          "size": 5
         },
         "mode": "markers",
         "name": "Regression Fit",
         "type": "scatter",
         "x": [
          0,
          0.13131313131313133,
          0.26262626262626265,
          0.393939393939394,
          0.5252525252525253,
          0.6565656565656566,
          0.787878787878788,
          0.9191919191919193,
          1.0505050505050506,
          1.1818181818181819,
          1.3131313131313131,
          1.4444444444444446,
          1.575757575757576,
          1.7070707070707072,
          1.8383838383838387,
          1.96969696969697,
          2.101010101010101,
          2.2323232323232327,
          2.3636363636363638,
          2.4949494949494953,
          2.6262626262626263,
          2.757575757575758,
          2.8888888888888893,
          3.0202020202020203,
          3.151515151515152,
          3.2828282828282833,
          3.4141414141414144,
          3.545454545454546,
          3.6767676767676774,
          3.8080808080808084,
          3.93939393939394,
          4.070707070707071,
          4.202020202020202,
          4.333333333333334,
          4.464646464646465,
          4.595959595959596,
          4.7272727272727275,
          4.858585858585859,
          4.9898989898989905,
          5.121212121212122,
          5.252525252525253,
          5.383838383838384,
          5.515151515151516,
          5.646464646464647,
          5.777777777777779,
          5.90909090909091,
          6.040404040404041,
          6.171717171717172,
          6.303030303030304,
          6.434343434343435,
          6.565656565656567,
          6.696969696969697,
          6.828282828282829,
          6.95959595959596,
          7.090909090909092,
          7.222222222222223,
          7.353535353535355,
          7.484848484848485,
          7.616161616161617,
          7.747474747474748,
          7.87878787878788,
          8.01010101010101,
          8.141414141414142,
          8.272727272727273,
          8.404040404040405,
          8.535353535353536,
          8.666666666666668,
          8.7979797979798,
          8.92929292929293,
          9.060606060606062,
          9.191919191919192,
          9.323232323232324,
          9.454545454545455,
          9.585858585858587,
          9.717171717171718,
          9.84848484848485,
          9.979797979797981,
          10.111111111111112,
          10.242424242424244,
          10.373737373737375,
          10.505050505050505,
          10.636363636363637,
          10.767676767676768,
          10.8989898989899,
          11.030303030303031,
          11.161616161616163,
          11.292929292929294,
          11.424242424242426,
          11.555555555555557,
          11.686868686868689,
          11.81818181818182,
          11.94949494949495,
          12.080808080808081,
          12.212121212121213,
          12.343434343434344,
          12.474747474747476,
          12.606060606060607,
          12.737373737373739,
          12.86868686868687,
          13
         ],
         "xaxis": "x2",
         "y": [
          129.8635727360827,
          129.90760300322052,
          129.95163327035837,
          129.9956635374962,
          130.03969380463403,
          130.08372407177188,
          130.1277543389097,
          130.17178460604754,
          130.2158148731854,
          130.25984514032322,
          130.30387540746105,
          130.3479056745989,
          130.39193594173673,
          130.43596620887456,
          130.47999647601242,
          130.52402674315024,
          130.56805701028807,
          130.61208727742593,
          130.65611754456376,
          130.70014781170158,
          130.7441780788394,
          130.78820834597727,
          130.8322386131151,
          130.87626888025292,
          130.92029914739078,
          130.9643294145286,
          131.00835968166643,
          131.0523899488043,
          131.09642021594212,
          131.14045048307995,
          131.1844807502178,
          131.22851101735563,
          131.27254128449346,
          131.3165715516313,
          131.36060181876914,
          131.40463208590697,
          131.44866235304482,
          131.49269262018265,
          131.53672288732048,
          131.58075315445834,
          131.62478342159616,
          131.668813688734,
          131.71284395587185,
          131.75687422300967,
          131.8009044901475,
          131.84493475728536,
          131.8889650244232,
          131.932995291561,
          131.97702555869887,
          132.0210558258367,
          132.06508609297452,
          132.10911636011238,
          132.1531466272502,
          132.19717689438804,
          132.2412071615259,
          132.28523742866372,
          132.32926769580155,
          132.37329796293938,
          132.41732823007723,
          132.46135849721506,
          132.5053887643529,
          132.54941903149074,
          132.59344929862857,
          132.6374795657664,
          132.68150983290425,
          132.72554010004208,
          132.7695703671799,
          132.81360063431777,
          132.8576309014556,
          132.90166116859342,
          132.94569143573128,
          132.9897217028691,
          133.03375197000693,
          133.0777822371448,
          133.12181250428262,
          133.16584277142044,
          133.2098730385583,
          133.25390330569613,
          133.29793357283395,
          133.3419638399718,
          133.38599410710964,
          133.43002437424747,
          133.47405464138532,
          133.51808490852315,
          133.56211517566098,
          133.60614544279883,
          133.65017570993666,
          133.6942059770745,
          133.73823624421235,
          133.78226651135017,
          133.826296778488,
          133.87032704562586,
          133.91435731276368,
          133.9583875799015,
          134.00241784703934,
          134.0464481141772,
          134.09047838131502,
          134.13450864845285,
          134.1785389155907,
          134.22256918272853
         ],
         "yaxis": "y2"
        }
       ],
       "layout": {
        "annotations": [
         {
          "font": {
           "size": 16
          },
          "showarrow": false,
          "text": "1993",
          "x": 0.225,
          "xanchor": "center",
          "xref": "paper",
          "y": 1,
          "yanchor": "bottom",
          "yref": "paper"
         },
         {
          "font": {
           "size": 16
          },
          "showarrow": false,
          "text": "2020",
          "x": 0.775,
          "xanchor": "center",
          "xref": "paper",
          "y": 1,
          "yanchor": "bottom",
          "yref": "paper"
         }
        ],
        "showlegend": false,
        "template": {
         "data": {
          "bar": [
           {
            "error_x": {
             "color": "#2a3f5f"
            },
            "error_y": {
             "color": "#2a3f5f"
            },
            "marker": {
             "line": {
              "color": "#E5ECF6",
              "width": 0.5
             }
            },
            "type": "bar"
           }
          ],
          "barpolar": [
           {
            "marker": {
             "line": {
              "color": "#E5ECF6",
              "width": 0.5
             }
            },
            "type": "barpolar"
           }
          ],
          "carpet": [
           {
            "aaxis": {
             "endlinecolor": "#2a3f5f",
             "gridcolor": "white",
             "linecolor": "white",
             "minorgridcolor": "white",
             "startlinecolor": "#2a3f5f"
            },
            "baxis": {
             "endlinecolor": "#2a3f5f",
             "gridcolor": "white",
             "linecolor": "white",
             "minorgridcolor": "white",
             "startlinecolor": "#2a3f5f"
            },
            "type": "carpet"
           }
          ],
          "choropleth": [
           {
            "colorbar": {
             "outlinewidth": 0,
             "ticks": ""
            },
            "type": "choropleth"
           }
          ],
          "contour": [
           {
            "colorbar": {
             "outlinewidth": 0,
             "ticks": ""
            },
            "colorscale": [
             [
              0,
              "#0d0887"
             ],
             [
              0.1111111111111111,
              "#46039f"
             ],
             [
              0.2222222222222222,
              "#7201a8"
             ],
             [
              0.3333333333333333,
              "#9c179e"
             ],
             [
              0.4444444444444444,
              "#bd3786"
             ],
             [
              0.5555555555555556,
              "#d8576b"
             ],
             [
              0.6666666666666666,
              "#ed7953"
             ],
             [
              0.7777777777777778,
              "#fb9f3a"
             ],
             [
              0.8888888888888888,
              "#fdca26"
             ],
             [
              1,
              "#f0f921"
             ]
            ],
            "type": "contour"
           }
          ],
          "contourcarpet": [
           {
            "colorbar": {
             "outlinewidth": 0,
             "ticks": ""
            },
            "type": "contourcarpet"
           }
          ],
          "heatmap": [
           {
            "colorbar": {
             "outlinewidth": 0,
             "ticks": ""
            },
            "colorscale": [
             [
              0,
              "#0d0887"
             ],
             [
              0.1111111111111111,
              "#46039f"
             ],
             [
              0.2222222222222222,
              "#7201a8"
             ],
             [
              0.3333333333333333,
              "#9c179e"
             ],
             [
              0.4444444444444444,
              "#bd3786"
             ],
             [
              0.5555555555555556,
              "#d8576b"
             ],
             [
              0.6666666666666666,
              "#ed7953"
             ],
             [
              0.7777777777777778,
              "#fb9f3a"
             ],
             [
              0.8888888888888888,
              "#fdca26"
             ],
             [
              1,
              "#f0f921"
             ]
            ],
            "type": "heatmap"
           }
          ],
          "heatmapgl": [
           {
            "colorbar": {
             "outlinewidth": 0,
             "ticks": ""
            },
            "colorscale": [
             [
              0,
              "#0d0887"
             ],
             [
              0.1111111111111111,
              "#46039f"
             ],
             [
              0.2222222222222222,
              "#7201a8"
             ],
             [
              0.3333333333333333,
              "#9c179e"
             ],
             [
              0.4444444444444444,
              "#bd3786"
             ],
             [
              0.5555555555555556,
              "#d8576b"
             ],
             [
              0.6666666666666666,
              "#ed7953"
             ],
             [
              0.7777777777777778,
              "#fb9f3a"
             ],
             [
              0.8888888888888888,
              "#fdca26"
             ],
             [
              1,
              "#f0f921"
             ]
            ],
            "type": "heatmapgl"
           }
          ],
          "histogram": [
           {
            "marker": {
             "colorbar": {
              "outlinewidth": 0,
              "ticks": ""
             }
            },
            "type": "histogram"
           }
          ],
          "histogram2d": [
           {
            "colorbar": {
             "outlinewidth": 0,
             "ticks": ""
            },
            "colorscale": [
             [
              0,
              "#0d0887"
             ],
             [
              0.1111111111111111,
              "#46039f"
             ],
             [
              0.2222222222222222,
              "#7201a8"
             ],
             [
              0.3333333333333333,
              "#9c179e"
             ],
             [
              0.4444444444444444,
              "#bd3786"
             ],
             [
              0.5555555555555556,
              "#d8576b"
             ],
             [
              0.6666666666666666,
              "#ed7953"
             ],
             [
              0.7777777777777778,
              "#fb9f3a"
             ],
             [
              0.8888888888888888,
              "#fdca26"
             ],
             [
              1,
              "#f0f921"
             ]
            ],
            "type": "histogram2d"
           }
          ],
          "histogram2dcontour": [
           {
            "colorbar": {
             "outlinewidth": 0,
             "ticks": ""
            },
            "colorscale": [
             [
              0,
              "#0d0887"
             ],
             [
              0.1111111111111111,
              "#46039f"
             ],
             [
              0.2222222222222222,
              "#7201a8"
             ],
             [
              0.3333333333333333,
              "#9c179e"
             ],
             [
              0.4444444444444444,
              "#bd3786"
             ],
             [
              0.5555555555555556,
              "#d8576b"
             ],
             [
              0.6666666666666666,
              "#ed7953"
             ],
             [
              0.7777777777777778,
              "#fb9f3a"
             ],
             [
              0.8888888888888888,
              "#fdca26"
             ],
             [
              1,
              "#f0f921"
             ]
            ],
            "type": "histogram2dcontour"
           }
          ],
          "mesh3d": [
           {
            "colorbar": {
             "outlinewidth": 0,
             "ticks": ""
            },
            "type": "mesh3d"
           }
          ],
          "parcoords": [
           {
            "line": {
             "colorbar": {
              "outlinewidth": 0,
              "ticks": ""
             }
            },
            "type": "parcoords"
           }
          ],
          "pie": [
           {
            "automargin": true,
            "type": "pie"
           }
          ],
          "scatter": [
           {
            "marker": {
             "colorbar": {
              "outlinewidth": 0,
              "ticks": ""
             }
            },
            "type": "scatter"
           }
          ],
          "scatter3d": [
           {
            "line": {
             "colorbar": {
              "outlinewidth": 0,
              "ticks": ""
             }
            },
            "marker": {
             "colorbar": {
              "outlinewidth": 0,
              "ticks": ""
             }
            },
            "type": "scatter3d"
           }
          ],
          "scattercarpet": [
           {
            "marker": {
             "colorbar": {
              "outlinewidth": 0,
              "ticks": ""
             }
            },
            "type": "scattercarpet"
           }
          ],
          "scattergeo": [
           {
            "marker": {
             "colorbar": {
              "outlinewidth": 0,
              "ticks": ""
             }
            },
            "type": "scattergeo"
           }
          ],
          "scattergl": [
           {
            "marker": {
             "colorbar": {
              "outlinewidth": 0,
              "ticks": ""
             }
            },
            "type": "scattergl"
           }
          ],
          "scattermapbox": [
           {
            "marker": {
             "colorbar": {
              "outlinewidth": 0,
              "ticks": ""
             }
            },
            "type": "scattermapbox"
           }
          ],
          "scatterpolar": [
           {
            "marker": {
             "colorbar": {
              "outlinewidth": 0,
              "ticks": ""
             }
            },
            "type": "scatterpolar"
           }
          ],
          "scatterpolargl": [
           {
            "marker": {
             "colorbar": {
              "outlinewidth": 0,
              "ticks": ""
             }
            },
            "type": "scatterpolargl"
           }
          ],
          "scatterternary": [
           {
            "marker": {
             "colorbar": {
              "outlinewidth": 0,
              "ticks": ""
             }
            },
            "type": "scatterternary"
           }
          ],
          "surface": [
           {
            "colorbar": {
             "outlinewidth": 0,
             "ticks": ""
            },
            "colorscale": [
             [
              0,
              "#0d0887"
             ],
             [
              0.1111111111111111,
              "#46039f"
             ],
             [
              0.2222222222222222,
              "#7201a8"
             ],
             [
              0.3333333333333333,
              "#9c179e"
             ],
             [
              0.4444444444444444,
              "#bd3786"
             ],
             [
              0.5555555555555556,
              "#d8576b"
             ],
             [
              0.6666666666666666,
              "#ed7953"
             ],
             [
              0.7777777777777778,
              "#fb9f3a"
             ],
             [
              0.8888888888888888,
              "#fdca26"
             ],
             [
              1,
              "#f0f921"
             ]
            ],
            "type": "surface"
           }
          ],
          "table": [
           {
            "cells": {
             "fill": {
              "color": "#EBF0F8"
             },
             "line": {
              "color": "white"
             }
            },
            "header": {
             "fill": {
              "color": "#C8D4E3"
             },
             "line": {
              "color": "white"
             }
            },
            "type": "table"
           }
          ]
         },
         "layout": {
          "annotationdefaults": {
           "arrowcolor": "#2a3f5f",
           "arrowhead": 0,
           "arrowwidth": 1
          },
          "coloraxis": {
           "colorbar": {
            "outlinewidth": 0,
            "ticks": ""
           }
          },
          "colorscale": {
           "diverging": [
            [
             0,
             "#8e0152"
            ],
            [
             0.1,
             "#c51b7d"
            ],
            [
             0.2,
             "#de77ae"
            ],
            [
             0.3,
             "#f1b6da"
            ],
            [
             0.4,
             "#fde0ef"
            ],
            [
             0.5,
             "#f7f7f7"
            ],
            [
             0.6,
             "#e6f5d0"
            ],
            [
             0.7,
             "#b8e186"
            ],
            [
             0.8,
             "#7fbc41"
            ],
            [
             0.9,
             "#4d9221"
            ],
            [
             1,
             "#276419"
            ]
           ],
           "sequential": [
            [
             0,
             "#0d0887"
            ],
            [
             0.1111111111111111,
             "#46039f"
            ],
            [
             0.2222222222222222,
             "#7201a8"
            ],
            [
             0.3333333333333333,
             "#9c179e"
            ],
            [
             0.4444444444444444,
             "#bd3786"
            ],
            [
             0.5555555555555556,
             "#d8576b"
            ],
            [
             0.6666666666666666,
             "#ed7953"
            ],
            [
             0.7777777777777778,
             "#fb9f3a"
            ],
            [
             0.8888888888888888,
             "#fdca26"
            ],
            [
             1,
             "#f0f921"
            ]
           ],
           "sequentialminus": [
            [
             0,
             "#0d0887"
            ],
            [
             0.1111111111111111,
             "#46039f"
            ],
            [
             0.2222222222222222,
             "#7201a8"
            ],
            [
             0.3333333333333333,
             "#9c179e"
            ],
            [
             0.4444444444444444,
             "#bd3786"
            ],
            [
             0.5555555555555556,
             "#d8576b"
            ],
            [
             0.6666666666666666,
             "#ed7953"
            ],
            [
             0.7777777777777778,
             "#fb9f3a"
            ],
            [
             0.8888888888888888,
             "#fdca26"
            ],
            [
             1,
             "#f0f921"
            ]
           ]
          },
          "colorway": [
           "#636efa",
           "#EF553B",
           "#00cc96",
           "#ab63fa",
           "#FFA15A",
           "#19d3f3",
           "#FF6692",
           "#B6E880",
           "#FF97FF",
           "#FECB52"
          ],
          "font": {
           "color": "#2a3f5f"
          },
          "geo": {
           "bgcolor": "white",
           "lakecolor": "white",
           "landcolor": "#E5ECF6",
           "showlakes": true,
           "showland": true,
           "subunitcolor": "white"
          },
          "hoverlabel": {
           "align": "left"
          },
          "hovermode": "closest",
          "mapbox": {
           "style": "light"
          },
          "paper_bgcolor": "white",
          "plot_bgcolor": "#E5ECF6",
          "polar": {
           "angularaxis": {
            "gridcolor": "white",
            "linecolor": "white",
            "ticks": ""
           },
           "bgcolor": "#E5ECF6",
           "radialaxis": {
            "gridcolor": "white",
            "linecolor": "white",
            "ticks": ""
           }
          },
          "scene": {
           "xaxis": {
            "backgroundcolor": "#E5ECF6",
            "gridcolor": "white",
            "gridwidth": 2,
            "linecolor": "white",
            "showbackground": true,
            "ticks": "",
            "zerolinecolor": "white"
           },
           "yaxis": {
            "backgroundcolor": "#E5ECF6",
            "gridcolor": "white",
            "gridwidth": 2,
            "linecolor": "white",
            "showbackground": true,
            "ticks": "",
            "zerolinecolor": "white"
           },
           "zaxis": {
            "backgroundcolor": "#E5ECF6",
            "gridcolor": "white",
            "gridwidth": 2,
            "linecolor": "white",
            "showbackground": true,
            "ticks": "",
            "zerolinecolor": "white"
           }
          },
          "shapedefaults": {
           "line": {
            "color": "#2a3f5f"
           }
          },
          "ternary": {
           "aaxis": {
            "gridcolor": "white",
            "linecolor": "white",
            "ticks": ""
           },
           "baxis": {
            "gridcolor": "white",
            "linecolor": "white",
            "ticks": ""
           },
           "bgcolor": "#E5ECF6",
           "caxis": {
            "gridcolor": "white",
            "linecolor": "white",
            "ticks": ""
           }
          },
          "title": {
           "x": 0.05
          },
          "xaxis": {
           "automargin": true,
           "gridcolor": "white",
           "linecolor": "white",
           "ticks": "",
           "title": {
            "standoff": 15
           },
           "zerolinecolor": "white",
           "zerolinewidth": 2
          },
          "yaxis": {
           "automargin": true,
           "gridcolor": "white",
           "linecolor": "white",
           "ticks": "",
           "title": {
            "standoff": 15
           },
           "zerolinecolor": "white",
           "zerolinewidth": 2
          }
         }
        },
        "title": {
         "text": "Calories vs Fiber in 1993 and 2020"
        },
        "xaxis": {
         "anchor": "y",
         "domain": [
          0,
          0.45
         ],
         "title": {
          "text": "Fiber"
         }
        },
        "xaxis2": {
         "anchor": "y2",
         "domain": [
          0.55,
          1
         ],
         "title": {
          "text": "Fiber"
         }
        },
        "yaxis": {
         "anchor": "x",
         "domain": [
          0,
          1
         ],
         "title": {
          "text": "Calories"
         }
        },
        "yaxis2": {
         "anchor": "x2",
         "domain": [
          0,
          1
         ],
         "matches": "y",
         "showticklabels": false
        }
       }
      },
      "text/html": [
       "<div>                            <div id=\"edafb6e8-df9f-4d35-9c93-6dae5f02bdfd\" class=\"plotly-graph-div\" style=\"height:525px; width:100%;\"></div>            <script type=\"text/javascript\">                require([\"plotly\"], function(Plotly) {                    window.PLOTLYENV=window.PLOTLYENV || {};                                    if (document.getElementById(\"edafb6e8-df9f-4d35-9c93-6dae5f02bdfd\")) {                    Plotly.newPlot(                        \"edafb6e8-df9f-4d35-9c93-6dae5f02bdfd\",                        [{\"marker\": {\"line\": {\"width\": 2}, \"size\": 5}, \"mode\": \"markers\", \"name\": \"1993\", \"text\": [\"100% Bran\", \"100% Natural Bran\", \"All-Bran\", \"All-Bran with Extra Fiber\", \"Almond Delight\", \"Apple Cinnamon Cheerios\", \"Apple Jacks\", \"Basic 4\", \"Bran Chex\", \"Bran Flakes\", \"Cap'n'Crunch\", \"Cheerios\", \"Cinnamon Toast Crunch\", \"Clusters\", \"Cocoa Puffs\", \"Corn Chex\", \"Corn Flakes\", \"Corn Pops\", \"Count Chocula\", \"Cracklin' Oat Bran\", \"Cream of Wheat (Quick)\", \"Crispix\", \"Crispy Wheat & Raisins\", \"Double Chex\", \"Froot Loops\", \"Frosted Flakes\", \"Frosted Mini-Wheats\", \"Fruit & Fibre Dates\", \"Fruitful Bran\", \"Fruity Pebbles\", \"Golden Crisp\", \"Golden Grahams\", \"Grape Nuts Flakes\", \"Grape-Nuts\", \"Great Grains Pecan\", \"Honey Graham Ohs\", \"Honey Nut Cheerios\", \"Honey-comb\", \"Just Right Crunchy  Nuggets\", \"Just Right Fruit & Nut\", \"Kix\", \"Life\", \"Lucky Charms\", \"Maypo\", \"Dates & Almonds\", \"Peaches & Pecans\", \"Mueslix Crispy Blend\", \"Multi-Grain Cheerios\", \"Nut&Honey Crunch\", \"Nutri-Grain Almond-Raisin\", \"Nutri-grain Wheat\", \"Oatmeal Raisin Crisp\", \"Post Nat. Raisin Bran\", \"Product 19\", \"Puffed Rice\", \"Puffed Wheat\", \"Quaker Oat Squares\", \"Quaker Oatmeal\", \"Raisin Bran\", \"Raisin Nut Bran\", \"Raisin Squares\", \"Rice Chex\", \"Rice Krispies\", \"Shredded Wheat\", \"Shredded Wheat 'n'Bran\", \"Shredded Wheat spoon size\", \"Smacks\", \"Special K\", \"Strawberry Fruit Wheats\", \"Total Corn Flakes\", \"Total Raisin Bran\", \"Total Whole Grain\", \"Triples\", \"Trix\", \"Walnuts & Oats\", \"Wheat Chex\", \"Wheaties\"], \"type\": \"scatter\", \"x\": [10, 2, 9, 14, 1, 2, 1, 2, 4, 5, 0, 2, 0, 2, 0, 0, 1, 1, 0, 4, 1, 1, 2, 1, 1, 1, 3, 4, 4, 0, 0, 0, 3, 3, 3, 1, 2, 0, 1, 2, 0, 2, 0, 0, 3, 3, 2, 2, 0, 2, 3, 1, 5, 1, 0, 2, 2, 3, 4, 2, 2, 0, 0, 4, 4, 3, 1, 1, 3, 0, 3, 3, 0, 0, 4, 3, 3], \"xaxis\": \"x\", \"y\": [70, 120, 70, 50, 110, 110, 110, 98, 90, 90, 120, 110, 120, 110, 110, 110, 100, 110, 110, 110, 100, 110, 100, 100, 110, 110, 100, 96, 90, 110, 100, 110, 100, 110, 120, 120, 110, 110, 110, 108, 110, 100, 110, 100, 150, 150, 107, 100, 120, 105, 90, 104, 90, 100, 100, 100, 100, 100, 90, 100, 90, 110, 110, 96, 90, 90, 110, 110, 90, 110, 93, 100, 110, 110, 96, 100, 100], \"yaxis\": \"y\"}, {\"marker\": {\"line\": {\"width\": 2}, \"size\": 5}, \"mode\": \"markers\", \"name\": \"Regression Fit\", \"type\": \"scatter\", \"x\": [0.0, 0.1414141414141414, 0.2828282828282828, 0.4242424242424242, 0.5656565656565656, 0.7070707070707071, 0.8484848484848484, 0.9898989898989898, 1.1313131313131313, 1.2727272727272727, 1.4141414141414141, 1.5555555555555556, 1.6969696969696968, 1.8383838383838382, 1.9797979797979797, 2.121212121212121, 2.2626262626262625, 2.404040404040404, 2.5454545454545454, 2.686868686868687, 2.8282828282828283, 2.9696969696969697, 3.111111111111111, 3.2525252525252526, 3.3939393939393936, 3.535353535353535, 3.6767676767676765, 3.818181818181818, 3.9595959595959593, 4.101010101010101, 4.242424242424242, 4.383838383838384, 4.525252525252525, 4.666666666666666, 4.808080808080808, 4.949494949494949, 5.090909090909091, 5.232323232323232, 5.373737373737374, 5.515151515151515, 5.656565656565657, 5.797979797979798, 5.9393939393939394, 6.08080808080808, 6.222222222222222, 6.363636363636363, 6.505050505050505, 6.646464646464646, 6.787878787878787, 6.929292929292929, 7.07070707070707, 7.212121212121212, 7.353535353535353, 7.494949494949495, 7.636363636363636, 7.777777777777778, 7.919191919191919, 8.06060606060606, 8.202020202020202, 8.343434343434343, 8.484848484848484, 8.626262626262626, 8.767676767676768, 8.909090909090908, 9.05050505050505, 9.191919191919192, 9.333333333333332, 9.474747474747474, 9.616161616161616, 9.757575757575758, 9.898989898989898, 10.04040404040404, 10.181818181818182, 10.323232323232324, 10.464646464646464, 10.606060606060606, 10.747474747474747, 10.88888888888889, 11.03030303030303, 11.171717171717171, 11.313131313131313, 11.454545454545453, 11.595959595959595, 11.737373737373737, 11.878787878787879, 12.020202020202019, 12.16161616161616, 12.303030303030303, 12.444444444444445, 12.585858585858585, 12.727272727272727, 12.868686868686869, 13.01010101010101, 13.15151515151515, 13.292929292929292, 13.434343434343434, 13.575757575757574, 13.717171717171716, 13.858585858585858, 14.0], \"xaxis\": \"x\", \"y\": [112.27409562357703, 111.7117973307576, 111.1494990379382, 110.58720074511878, 110.02490245229936, 109.46260415947995, 108.90030586666053, 108.33800757384111, 107.77570928102169, 107.21341098820228, 106.65111269538286, 106.08881440256344, 105.52651610974404, 104.96421781692462, 104.4019195241052, 103.83962123128578, 103.27732293846637, 102.71502464564695, 102.15272635282753, 101.59042806000812, 101.0281297671887, 100.46583147436928, 99.90353318154988, 99.34123488873045, 98.77893659591103, 98.21663830309163, 97.65434001027221, 97.09204171745279, 96.52974342463338, 95.96744513181396, 95.40514683899454, 94.84284854617512, 94.28055025335571, 93.71825196053629, 93.15595366771687, 92.59365537489747, 92.03135708207805, 91.46905878925863, 90.9067604964392, 90.3444622036198, 89.78216391080038, 89.21986561798096, 88.65756732516155, 88.09526903234213, 87.53297073952271, 86.9706724467033, 86.40837415388388, 85.84607586106446, 85.28377756824506, 84.72147927542564, 84.15918098260622, 83.59688268978681, 83.03458439696739, 82.47228610414797, 81.90998781132856, 81.34768951850913, 80.78539122568972, 80.2230929328703, 79.66079464005088, 79.09849634723147, 78.53619805441205, 77.97389976159263, 77.41160146877323, 76.8493031759538, 76.28700488313439, 75.72470659031498, 75.16240829749556, 74.60011000467614, 74.03781171185673, 73.47551341903731, 72.91321512621789, 72.35091683339849, 71.78861854057907, 71.22632024775965, 70.66402195494024, 70.10172366212082, 69.5394253693014, 68.97712707648198, 68.41482878366257, 67.85253049084315, 67.29023219802373, 66.72793390520432, 66.1656356123849, 65.60333731956548, 65.04103902674606, 64.47874073392666, 63.916442441107236, 63.35414414828782, 62.7918458554684, 62.22954756264899, 61.667249269829576, 61.104950977010155, 60.542652684190735, 59.98035439137133, 59.41805609855191, 58.85575780573249, 58.29345951291308, 57.73116122009366, 57.16886292727424, 56.60656463445483], \"yaxis\": \"y\"}, {\"marker\": {\"line\": {\"width\": 2}, \"size\": 5}, \"mode\": \"markers\", \"name\": \"2020\", \"text\": [\"Wheaties Honey Gold\", \"All-Bran Complete Wheat Flakes Cereal\", \"Eggo\", \"Honey Smacks\", \"Krave Double Chocolate\", \"Peeps\", \"Smart Start\", \"Annie's Whole Grain Cereal\", \"Cascadian Farm Organic Raisin Bran\", \"Cheerios Multi Grain\", \"Chex Wheat Cereal\", \"Cookie Crisp\", \"Dunkaroos\", \"Fiber One\", \"Good Belly\", \"Larabar (Peanut Butter)\", \"Oatmeal Crisp\", \"Wonderworks (Peanut Butter)\", \"Ahold 100% Whole Grain\", \"Hannaford Frosted Flakes\", \"Martin's Food Lion\", \"Hannaford Tasteeos Cereal\", \"Ahold Vanilla Almond Cereal\", \"Kelloggs Special Fruit & Yogurt\", \"Kelloggs Special Original Cereal\", \"Quaker Life Cinnamon Multigrain\", \"Quaker Life Original Multigrain\", \"Quaker Life Ltd. Edition, Pumpkin Spice\", \"All-Bran\", \"Apple Jacks\", \"Basic 4\", \"Cocoa Puffs\", \"Corn Flakes\", \"Corn Pops\", \"Cracklin' Oat Bran\", \"Crispix\", \"Froot Loops\", \"Frosted Flakes\", \"Golden Grahams\", \"Kix\", \"Oatmeal Raisin Crisp\", \"Raisin Bran\", \"Raisin Nut Bran\", \"Rice Krispies\", \"Special K\", \"Total Whole Grain\", \"Trix\", \"Wheaties\"], \"type\": \"scatter\", \"x\": [1, 5, 2, 2, 2, 1, 1, 3, 3, 3, 4, 2, 1, 13, 3, 2, 3, 2, 3, 1, 5, 2, 2, 2, 0, 1, 2, 1, 5, 1, 3, 2, 1, 0, 4, 0, 1, 1, 1, 2, 3, 2, 3, 0, 1, 3, 1, 3], \"xaxis\": \"x2\", \"y\": [110, 120, 160, 130, 170, 110, 240, 160, 210, 150, 210, 140, 150, 90, 170, 280, 230, 160, 170, 150, 120, 111, 104, 111, 97, 83, 111, 83, 92, 109, 103, 110, 101, 106, 116, 109, 109, 100, 106, 113, 109, 91, 105, 106, 109, 128, 116, 102], \"yaxis\": \"y2\"}, {\"marker\": {\"line\": {\"width\": 2}, \"size\": 5}, \"mode\": \"markers\", \"name\": \"Regression Fit\", \"type\": \"scatter\", \"x\": [0.0, 0.13131313131313133, 0.26262626262626265, 0.393939393939394, 0.5252525252525253, 0.6565656565656566, 0.787878787878788, 0.9191919191919193, 1.0505050505050506, 1.1818181818181819, 1.3131313131313131, 1.4444444444444446, 1.575757575757576, 1.7070707070707072, 1.8383838383838387, 1.96969696969697, 2.101010101010101, 2.2323232323232327, 2.3636363636363638, 2.4949494949494953, 2.6262626262626263, 2.757575757575758, 2.8888888888888893, 3.0202020202020203, 3.151515151515152, 3.2828282828282833, 3.4141414141414144, 3.545454545454546, 3.6767676767676774, 3.8080808080808084, 3.93939393939394, 4.070707070707071, 4.202020202020202, 4.333333333333334, 4.464646464646465, 4.595959595959596, 4.7272727272727275, 4.858585858585859, 4.9898989898989905, 5.121212121212122, 5.252525252525253, 5.383838383838384, 5.515151515151516, 5.646464646464647, 5.777777777777779, 5.90909090909091, 6.040404040404041, 6.171717171717172, 6.303030303030304, 6.434343434343435, 6.565656565656567, 6.696969696969697, 6.828282828282829, 6.95959595959596, 7.090909090909092, 7.222222222222223, 7.353535353535355, 7.484848484848485, 7.616161616161617, 7.747474747474748, 7.87878787878788, 8.01010101010101, 8.141414141414142, 8.272727272727273, 8.404040404040405, 8.535353535353536, 8.666666666666668, 8.7979797979798, 8.92929292929293, 9.060606060606062, 9.191919191919192, 9.323232323232324, 9.454545454545455, 9.585858585858587, 9.717171717171718, 9.84848484848485, 9.979797979797981, 10.111111111111112, 10.242424242424244, 10.373737373737375, 10.505050505050505, 10.636363636363637, 10.767676767676768, 10.8989898989899, 11.030303030303031, 11.161616161616163, 11.292929292929294, 11.424242424242426, 11.555555555555557, 11.686868686868689, 11.81818181818182, 11.94949494949495, 12.080808080808081, 12.212121212121213, 12.343434343434344, 12.474747474747476, 12.606060606060607, 12.737373737373739, 12.86868686868687, 13.0], \"xaxis\": \"x2\", \"y\": [129.8635727360827, 129.90760300322052, 129.95163327035837, 129.9956635374962, 130.03969380463403, 130.08372407177188, 130.1277543389097, 130.17178460604754, 130.2158148731854, 130.25984514032322, 130.30387540746105, 130.3479056745989, 130.39193594173673, 130.43596620887456, 130.47999647601242, 130.52402674315024, 130.56805701028807, 130.61208727742593, 130.65611754456376, 130.70014781170158, 130.7441780788394, 130.78820834597727, 130.8322386131151, 130.87626888025292, 130.92029914739078, 130.9643294145286, 131.00835968166643, 131.0523899488043, 131.09642021594212, 131.14045048307995, 131.1844807502178, 131.22851101735563, 131.27254128449346, 131.3165715516313, 131.36060181876914, 131.40463208590697, 131.44866235304482, 131.49269262018265, 131.53672288732048, 131.58075315445834, 131.62478342159616, 131.668813688734, 131.71284395587185, 131.75687422300967, 131.8009044901475, 131.84493475728536, 131.8889650244232, 131.932995291561, 131.97702555869887, 132.0210558258367, 132.06508609297452, 132.10911636011238, 132.1531466272502, 132.19717689438804, 132.2412071615259, 132.28523742866372, 132.32926769580155, 132.37329796293938, 132.41732823007723, 132.46135849721506, 132.5053887643529, 132.54941903149074, 132.59344929862857, 132.6374795657664, 132.68150983290425, 132.72554010004208, 132.7695703671799, 132.81360063431777, 132.8576309014556, 132.90166116859342, 132.94569143573128, 132.9897217028691, 133.03375197000693, 133.0777822371448, 133.12181250428262, 133.16584277142044, 133.2098730385583, 133.25390330569613, 133.29793357283395, 133.3419638399718, 133.38599410710964, 133.43002437424747, 133.47405464138532, 133.51808490852315, 133.56211517566098, 133.60614544279883, 133.65017570993666, 133.6942059770745, 133.73823624421235, 133.78226651135017, 133.826296778488, 133.87032704562586, 133.91435731276368, 133.9583875799015, 134.00241784703934, 134.0464481141772, 134.09047838131502, 134.13450864845285, 134.1785389155907, 134.22256918272853], \"yaxis\": \"y2\"}],                        {\"annotations\": [{\"font\": {\"size\": 16}, \"showarrow\": false, \"text\": \"1993\", \"x\": 0.225, \"xanchor\": \"center\", \"xref\": \"paper\", \"y\": 1.0, \"yanchor\": \"bottom\", \"yref\": \"paper\"}, {\"font\": {\"size\": 16}, \"showarrow\": false, \"text\": \"2020\", \"x\": 0.775, \"xanchor\": \"center\", \"xref\": \"paper\", \"y\": 1.0, \"yanchor\": \"bottom\", \"yref\": \"paper\"}], \"showlegend\": false, \"template\": {\"data\": {\"bar\": [{\"error_x\": {\"color\": \"#2a3f5f\"}, \"error_y\": {\"color\": \"#2a3f5f\"}, \"marker\": {\"line\": {\"color\": \"#E5ECF6\", \"width\": 0.5}}, \"type\": \"bar\"}], \"barpolar\": [{\"marker\": {\"line\": {\"color\": \"#E5ECF6\", \"width\": 0.5}}, \"type\": \"barpolar\"}], \"carpet\": [{\"aaxis\": {\"endlinecolor\": \"#2a3f5f\", \"gridcolor\": \"white\", \"linecolor\": \"white\", \"minorgridcolor\": \"white\", \"startlinecolor\": \"#2a3f5f\"}, \"baxis\": {\"endlinecolor\": \"#2a3f5f\", \"gridcolor\": \"white\", \"linecolor\": \"white\", \"minorgridcolor\": \"white\", \"startlinecolor\": \"#2a3f5f\"}, \"type\": \"carpet\"}], \"choropleth\": [{\"colorbar\": {\"outlinewidth\": 0, \"ticks\": \"\"}, \"type\": \"choropleth\"}], \"contour\": [{\"colorbar\": {\"outlinewidth\": 0, \"ticks\": \"\"}, \"colorscale\": [[0.0, \"#0d0887\"], [0.1111111111111111, \"#46039f\"], [0.2222222222222222, \"#7201a8\"], [0.3333333333333333, \"#9c179e\"], [0.4444444444444444, \"#bd3786\"], [0.5555555555555556, \"#d8576b\"], [0.6666666666666666, \"#ed7953\"], [0.7777777777777778, \"#fb9f3a\"], [0.8888888888888888, \"#fdca26\"], [1.0, \"#f0f921\"]], \"type\": \"contour\"}], \"contourcarpet\": [{\"colorbar\": {\"outlinewidth\": 0, \"ticks\": \"\"}, \"type\": \"contourcarpet\"}], \"heatmap\": [{\"colorbar\": {\"outlinewidth\": 0, \"ticks\": \"\"}, \"colorscale\": [[0.0, \"#0d0887\"], [0.1111111111111111, \"#46039f\"], [0.2222222222222222, \"#7201a8\"], [0.3333333333333333, \"#9c179e\"], [0.4444444444444444, \"#bd3786\"], [0.5555555555555556, \"#d8576b\"], [0.6666666666666666, \"#ed7953\"], [0.7777777777777778, \"#fb9f3a\"], [0.8888888888888888, \"#fdca26\"], [1.0, \"#f0f921\"]], \"type\": \"heatmap\"}], \"heatmapgl\": [{\"colorbar\": {\"outlinewidth\": 0, \"ticks\": \"\"}, \"colorscale\": [[0.0, \"#0d0887\"], [0.1111111111111111, \"#46039f\"], [0.2222222222222222, \"#7201a8\"], [0.3333333333333333, \"#9c179e\"], [0.4444444444444444, \"#bd3786\"], [0.5555555555555556, \"#d8576b\"], [0.6666666666666666, \"#ed7953\"], [0.7777777777777778, \"#fb9f3a\"], [0.8888888888888888, \"#fdca26\"], [1.0, \"#f0f921\"]], \"type\": \"heatmapgl\"}], \"histogram\": [{\"marker\": {\"colorbar\": {\"outlinewidth\": 0, \"ticks\": \"\"}}, \"type\": \"histogram\"}], \"histogram2d\": [{\"colorbar\": {\"outlinewidth\": 0, \"ticks\": \"\"}, \"colorscale\": [[0.0, \"#0d0887\"], [0.1111111111111111, \"#46039f\"], [0.2222222222222222, \"#7201a8\"], [0.3333333333333333, \"#9c179e\"], [0.4444444444444444, \"#bd3786\"], [0.5555555555555556, \"#d8576b\"], [0.6666666666666666, \"#ed7953\"], [0.7777777777777778, \"#fb9f3a\"], [0.8888888888888888, \"#fdca26\"], [1.0, \"#f0f921\"]], \"type\": \"histogram2d\"}], \"histogram2dcontour\": [{\"colorbar\": {\"outlinewidth\": 0, \"ticks\": \"\"}, \"colorscale\": [[0.0, \"#0d0887\"], [0.1111111111111111, \"#46039f\"], [0.2222222222222222, \"#7201a8\"], [0.3333333333333333, \"#9c179e\"], [0.4444444444444444, \"#bd3786\"], [0.5555555555555556, \"#d8576b\"], [0.6666666666666666, \"#ed7953\"], [0.7777777777777778, \"#fb9f3a\"], [0.8888888888888888, \"#fdca26\"], [1.0, \"#f0f921\"]], \"type\": \"histogram2dcontour\"}], \"mesh3d\": [{\"colorbar\": {\"outlinewidth\": 0, \"ticks\": \"\"}, \"type\": \"mesh3d\"}], \"parcoords\": [{\"line\": {\"colorbar\": {\"outlinewidth\": 0, \"ticks\": \"\"}}, \"type\": \"parcoords\"}], \"pie\": [{\"automargin\": true, \"type\": \"pie\"}], \"scatter\": [{\"marker\": {\"colorbar\": {\"outlinewidth\": 0, \"ticks\": \"\"}}, \"type\": \"scatter\"}], \"scatter3d\": [{\"line\": {\"colorbar\": {\"outlinewidth\": 0, \"ticks\": \"\"}}, \"marker\": {\"colorbar\": {\"outlinewidth\": 0, \"ticks\": \"\"}}, \"type\": \"scatter3d\"}], \"scattercarpet\": [{\"marker\": {\"colorbar\": {\"outlinewidth\": 0, \"ticks\": \"\"}}, \"type\": \"scattercarpet\"}], \"scattergeo\": [{\"marker\": {\"colorbar\": {\"outlinewidth\": 0, \"ticks\": \"\"}}, \"type\": \"scattergeo\"}], \"scattergl\": [{\"marker\": {\"colorbar\": {\"outlinewidth\": 0, \"ticks\": \"\"}}, \"type\": \"scattergl\"}], \"scattermapbox\": [{\"marker\": {\"colorbar\": {\"outlinewidth\": 0, \"ticks\": \"\"}}, \"type\": \"scattermapbox\"}], \"scatterpolar\": [{\"marker\": {\"colorbar\": {\"outlinewidth\": 0, \"ticks\": \"\"}}, \"type\": \"scatterpolar\"}], \"scatterpolargl\": [{\"marker\": {\"colorbar\": {\"outlinewidth\": 0, \"ticks\": \"\"}}, \"type\": \"scatterpolargl\"}], \"scatterternary\": [{\"marker\": {\"colorbar\": {\"outlinewidth\": 0, \"ticks\": \"\"}}, \"type\": \"scatterternary\"}], \"surface\": [{\"colorbar\": {\"outlinewidth\": 0, \"ticks\": \"\"}, \"colorscale\": [[0.0, \"#0d0887\"], [0.1111111111111111, \"#46039f\"], [0.2222222222222222, \"#7201a8\"], [0.3333333333333333, \"#9c179e\"], [0.4444444444444444, \"#bd3786\"], [0.5555555555555556, \"#d8576b\"], [0.6666666666666666, \"#ed7953\"], [0.7777777777777778, \"#fb9f3a\"], [0.8888888888888888, \"#fdca26\"], [1.0, \"#f0f921\"]], \"type\": \"surface\"}], \"table\": [{\"cells\": {\"fill\": {\"color\": \"#EBF0F8\"}, \"line\": {\"color\": \"white\"}}, \"header\": {\"fill\": {\"color\": \"#C8D4E3\"}, \"line\": {\"color\": \"white\"}}, \"type\": \"table\"}]}, \"layout\": {\"annotationdefaults\": {\"arrowcolor\": \"#2a3f5f\", \"arrowhead\": 0, \"arrowwidth\": 1}, \"coloraxis\": {\"colorbar\": {\"outlinewidth\": 0, \"ticks\": \"\"}}, \"colorscale\": {\"diverging\": [[0, \"#8e0152\"], [0.1, \"#c51b7d\"], [0.2, \"#de77ae\"], [0.3, \"#f1b6da\"], [0.4, \"#fde0ef\"], [0.5, \"#f7f7f7\"], [0.6, \"#e6f5d0\"], [0.7, \"#b8e186\"], [0.8, \"#7fbc41\"], [0.9, \"#4d9221\"], [1, \"#276419\"]], \"sequential\": [[0.0, \"#0d0887\"], [0.1111111111111111, \"#46039f\"], [0.2222222222222222, \"#7201a8\"], [0.3333333333333333, \"#9c179e\"], [0.4444444444444444, \"#bd3786\"], [0.5555555555555556, \"#d8576b\"], [0.6666666666666666, \"#ed7953\"], [0.7777777777777778, \"#fb9f3a\"], [0.8888888888888888, \"#fdca26\"], [1.0, \"#f0f921\"]], \"sequentialminus\": [[0.0, \"#0d0887\"], [0.1111111111111111, \"#46039f\"], [0.2222222222222222, \"#7201a8\"], [0.3333333333333333, \"#9c179e\"], [0.4444444444444444, \"#bd3786\"], [0.5555555555555556, \"#d8576b\"], [0.6666666666666666, \"#ed7953\"], [0.7777777777777778, \"#fb9f3a\"], [0.8888888888888888, \"#fdca26\"], [1.0, \"#f0f921\"]]}, \"colorway\": [\"#636efa\", \"#EF553B\", \"#00cc96\", \"#ab63fa\", \"#FFA15A\", \"#19d3f3\", \"#FF6692\", \"#B6E880\", \"#FF97FF\", \"#FECB52\"], \"font\": {\"color\": \"#2a3f5f\"}, \"geo\": {\"bgcolor\": \"white\", \"lakecolor\": \"white\", \"landcolor\": \"#E5ECF6\", \"showlakes\": true, \"showland\": true, \"subunitcolor\": \"white\"}, \"hoverlabel\": {\"align\": \"left\"}, \"hovermode\": \"closest\", \"mapbox\": {\"style\": \"light\"}, \"paper_bgcolor\": \"white\", \"plot_bgcolor\": \"#E5ECF6\", \"polar\": {\"angularaxis\": {\"gridcolor\": \"white\", \"linecolor\": \"white\", \"ticks\": \"\"}, \"bgcolor\": \"#E5ECF6\", \"radialaxis\": {\"gridcolor\": \"white\", \"linecolor\": \"white\", \"ticks\": \"\"}}, \"scene\": {\"xaxis\": {\"backgroundcolor\": \"#E5ECF6\", \"gridcolor\": \"white\", \"gridwidth\": 2, \"linecolor\": \"white\", \"showbackground\": true, \"ticks\": \"\", \"zerolinecolor\": \"white\"}, \"yaxis\": {\"backgroundcolor\": \"#E5ECF6\", \"gridcolor\": \"white\", \"gridwidth\": 2, \"linecolor\": \"white\", \"showbackground\": true, \"ticks\": \"\", \"zerolinecolor\": \"white\"}, \"zaxis\": {\"backgroundcolor\": \"#E5ECF6\", \"gridcolor\": \"white\", \"gridwidth\": 2, \"linecolor\": \"white\", \"showbackground\": true, \"ticks\": \"\", \"zerolinecolor\": \"white\"}}, \"shapedefaults\": {\"line\": {\"color\": \"#2a3f5f\"}}, \"ternary\": {\"aaxis\": {\"gridcolor\": \"white\", \"linecolor\": \"white\", \"ticks\": \"\"}, \"baxis\": {\"gridcolor\": \"white\", \"linecolor\": \"white\", \"ticks\": \"\"}, \"bgcolor\": \"#E5ECF6\", \"caxis\": {\"gridcolor\": \"white\", \"linecolor\": \"white\", \"ticks\": \"\"}}, \"title\": {\"x\": 0.05}, \"xaxis\": {\"automargin\": true, \"gridcolor\": \"white\", \"linecolor\": \"white\", \"ticks\": \"\", \"title\": {\"standoff\": 15}, \"zerolinecolor\": \"white\", \"zerolinewidth\": 2}, \"yaxis\": {\"automargin\": true, \"gridcolor\": \"white\", \"linecolor\": \"white\", \"ticks\": \"\", \"title\": {\"standoff\": 15}, \"zerolinecolor\": \"white\", \"zerolinewidth\": 2}}}, \"title\": {\"text\": \"Calories vs Fiber in 1993 and 2020\"}, \"xaxis\": {\"anchor\": \"y\", \"domain\": [0.0, 0.45], \"title\": {\"text\": \"Fiber\"}}, \"xaxis2\": {\"anchor\": \"y2\", \"domain\": [0.55, 1.0], \"title\": {\"text\": \"Fiber\"}}, \"yaxis\": {\"anchor\": \"x\", \"domain\": [0.0, 1.0], \"title\": {\"text\": \"Calories\"}}, \"yaxis2\": {\"anchor\": \"x2\", \"domain\": [0.0, 1.0], \"matches\": \"y\", \"showticklabels\": false}},                        {\"responsive\": true}                    ).then(function(){\n",
       "                            \n",
       "var gd = document.getElementById('edafb6e8-df9f-4d35-9c93-6dae5f02bdfd');\n",
       "var x = new MutationObserver(function (mutations, observer) {{\n",
       "        var display = window.getComputedStyle(gd).display;\n",
       "        if (!display || display === 'none') {{\n",
       "            console.log([gd, 'removed!']);\n",
       "            Plotly.purge(gd);\n",
       "            observer.disconnect();\n",
       "        }}\n",
       "}});\n",
       "\n",
       "// Listen for the removal of the full notebook cells\n",
       "var notebookContainer = gd.closest('#notebook-container');\n",
       "if (notebookContainer) {{\n",
       "    x.observe(notebookContainer, {childList: true});\n",
       "}}\n",
       "\n",
       "// Listen for the clearing of the current output cell\n",
       "var outputEl = gd.closest('.output');\n",
       "if (outputEl) {{\n",
       "    x.observe(outputEl, {childList: true});\n",
       "}}\n",
       "\n",
       "                        })                };                });            </script>        </div>"
      ]
     },
     "metadata": {},
     "output_type": "display_data"
    },
    {
     "data": {
      "application/vnd.plotly.v1+json": {
       "config": {
        "plotlyServerURL": "https://plotly.com"
       },
       "data": [
        {
         "marker": {
          "line": {
           "width": 2
          },
          "size": 5
         },
         "mode": "markers",
         "name": "1993",
         "text": [
          "100% Bran",
          "100% Natural Bran",
          "All-Bran",
          "All-Bran with Extra Fiber",
          "Almond Delight",
          "Apple Cinnamon Cheerios",
          "Apple Jacks",
          "Basic 4",
          "Bran Chex",
          "Bran Flakes",
          "Cap'n'Crunch",
          "Cheerios",
          "Cinnamon Toast Crunch",
          "Clusters",
          "Cocoa Puffs",
          "Corn Chex",
          "Corn Flakes",
          "Corn Pops",
          "Count Chocula",
          "Cracklin' Oat Bran",
          "Cream of Wheat (Quick)",
          "Crispix",
          "Crispy Wheat & Raisins",
          "Double Chex",
          "Froot Loops",
          "Frosted Flakes",
          "Frosted Mini-Wheats",
          "Fruit & Fibre Dates",
          "Fruitful Bran",
          "Fruity Pebbles",
          "Golden Crisp",
          "Golden Grahams",
          "Grape Nuts Flakes",
          "Grape-Nuts",
          "Great Grains Pecan",
          "Honey Graham Ohs",
          "Honey Nut Cheerios",
          "Honey-comb",
          "Just Right Crunchy  Nuggets",
          "Just Right Fruit & Nut",
          "Kix",
          "Life",
          "Lucky Charms",
          "Maypo",
          "Dates & Almonds",
          "Peaches & Pecans",
          "Mueslix Crispy Blend",
          "Multi-Grain Cheerios",
          "Nut&Honey Crunch",
          "Nutri-Grain Almond-Raisin",
          "Nutri-grain Wheat",
          "Oatmeal Raisin Crisp",
          "Post Nat. Raisin Bran",
          "Product 19",
          "Puffed Rice",
          "Puffed Wheat",
          "Quaker Oat Squares",
          "Quaker Oatmeal",
          "Raisin Bran",
          "Raisin Nut Bran",
          "Raisin Squares",
          "Rice Chex",
          "Rice Krispies",
          "Shredded Wheat",
          "Shredded Wheat 'n'Bran",
          "Shredded Wheat spoon size",
          "Smacks",
          "Special K",
          "Strawberry Fruit Wheats",
          "Total Corn Flakes",
          "Total Raisin Bran",
          "Total Whole Grain",
          "Triples",
          "Trix",
          "Walnuts & Oats",
          "Wheat Chex",
          "Wheaties"
         ],
         "type": "scatter",
         "x": [
          5,
          8,
          7,
          8,
          14,
          10,
          11,
          14,
          15,
          13,
          12,
          17,
          13,
          13,
          12,
          22,
          21,
          13,
          12,
          10,
          21,
          21,
          11,
          18,
          11,
          14,
          14,
          10,
          11,
          13,
          11,
          15,
          15,
          17,
          13,
          12,
          12,
          14,
          17,
          15,
          21,
          12,
          12,
          16,
          16,
          16,
          11,
          15,
          15,
          16,
          18,
          11,
          8,
          20,
          26,
          20,
          14,
          -1,
          11,
          10,
          15,
          23,
          22,
          19,
          19,
          20,
          9,
          16,
          15,
          21,
          10,
          16,
          21,
          13,
          10,
          17,
          17
         ],
         "xaxis": "x",
         "y": [
          70,
          120,
          70,
          50,
          110,
          110,
          110,
          98,
          90,
          90,
          120,
          110,
          120,
          110,
          110,
          110,
          100,
          110,
          110,
          110,
          100,
          110,
          100,
          100,
          110,
          110,
          100,
          96,
          90,
          110,
          100,
          110,
          100,
          110,
          120,
          120,
          110,
          110,
          110,
          108,
          110,
          100,
          110,
          100,
          150,
          150,
          107,
          100,
          120,
          105,
          90,
          104,
          90,
          100,
          100,
          100,
          100,
          100,
          90,
          100,
          90,
          110,
          110,
          96,
          90,
          90,
          110,
          110,
          90,
          110,
          93,
          100,
          110,
          110,
          96,
          100,
          100
         ],
         "yaxis": "y"
        },
        {
         "marker": {
          "line": {
           "width": 2
          },
          "size": 5
         },
         "mode": "markers",
         "name": "Regression Fit",
         "type": "scatter",
         "x": [
          -1,
          -0.7272727272727273,
          -0.4545454545454546,
          -0.18181818181818188,
          0.09090909090909083,
          0.36363636363636354,
          0.6363636363636362,
          0.909090909090909,
          1.1818181818181817,
          1.4545454545454541,
          1.727272727272727,
          2,
          2.2727272727272725,
          2.545454545454545,
          2.818181818181818,
          3.090909090909091,
          3.3636363636363633,
          3.636363636363636,
          3.9090909090909083,
          4.181818181818182,
          4.454545454545454,
          4.727272727272727,
          5,
          5.2727272727272725,
          5.545454545454545,
          5.8181818181818175,
          6.09090909090909,
          6.363636363636363,
          6.636363636363636,
          6.909090909090908,
          7.181818181818182,
          7.454545454545453,
          7.727272727272727,
          8,
          8.272727272727272,
          8.545454545454545,
          8.818181818181817,
          9.09090909090909,
          9.363636363636363,
          9.636363636363635,
          9.909090909090908,
          10.181818181818182,
          10.454545454545453,
          10.727272727272727,
          11,
          11.272727272727272,
          11.545454545454545,
          11.818181818181817,
          12.09090909090909,
          12.363636363636363,
          12.636363636363635,
          12.909090909090908,
          13.18181818181818,
          13.454545454545453,
          13.727272727272727,
          13.999999999999998,
          14.272727272727272,
          14.545454545454545,
          14.818181818181817,
          15.09090909090909,
          15.363636363636363,
          15.636363636363637,
          15.909090909090907,
          16.18181818181818,
          16.454545454545453,
          16.727272727272727,
          17,
          17.27272727272727,
          17.545454545454543,
          17.818181818181817,
          18.09090909090909,
          18.363636363636363,
          18.636363636363633,
          18.909090909090907,
          19.18181818181818,
          19.454545454545453,
          19.727272727272727,
          20,
          20.27272727272727,
          20.545454545454543,
          20.818181818181817,
          21.09090909090909,
          21.363636363636363,
          21.636363636363633,
          21.909090909090907,
          22.18181818181818,
          22.454545454545453,
          22.727272727272727,
          23,
          23.27272727272727,
          23.545454545454543,
          23.818181818181817,
          24.09090909090909,
          24.363636363636363,
          24.636363636363633,
          24.909090909090907,
          25.18181818181818,
          25.454545454545453,
          25.727272727272727,
          26
         ],
         "xaxis": "x",
         "y": [
          94.45106466106661,
          94.61725479053082,
          94.78344491999502,
          94.94963504945923,
          95.11582517892344,
          95.28201530838764,
          95.44820543785185,
          95.61439556731605,
          95.78058569678026,
          95.94677582624448,
          96.11296595570867,
          96.27915608517289,
          96.44534621463708,
          96.6115363441013,
          96.77772647356551,
          96.9439166030297,
          97.11010673249392,
          97.27629686195812,
          97.44248699142233,
          97.60867712088654,
          97.77486725035074,
          97.94105737981495,
          98.10724750927915,
          98.27343763874336,
          98.43962776820757,
          98.60581789767177,
          98.77200802713598,
          98.93819815660018,
          99.10438828606439,
          99.2705784155286,
          99.4367685449928,
          99.60295867445701,
          99.76914880392121,
          99.93533893338542,
          100.10152906284964,
          100.26771919231383,
          100.43390932177805,
          100.60009945124224,
          100.76628958070646,
          100.93247971017067,
          101.09866983963487,
          101.26485996909908,
          101.43105009856328,
          101.59724022802749,
          101.7634303574917,
          101.9296204869559,
          102.09581061642011,
          102.26200074588431,
          102.42819087534852,
          102.59438100481273,
          102.76057113427693,
          102.92676126374114,
          103.09295139320534,
          103.25914152266955,
          103.42533165213376,
          103.59152178159796,
          103.75771191106217,
          103.92390204052637,
          104.09009216999058,
          104.2562822994548,
          104.422472428919,
          104.5886625583832,
          104.7548526878474,
          104.92104281731162,
          105.08723294677583,
          105.25342307624003,
          105.41961320570424,
          105.58580333516844,
          105.75199346463265,
          105.91818359409686,
          106.08437372356106,
          106.25056385302527,
          106.41675398248947,
          106.58294411195368,
          106.74913424141789,
          106.91532437088209,
          107.0815145003463,
          107.2477046298105,
          107.41389475927471,
          107.58008488873892,
          107.74627501820312,
          107.91246514766733,
          108.07865527713153,
          108.24484540659574,
          108.41103553605996,
          108.57722566552415,
          108.74341579498837,
          108.90960592445256,
          109.07579605391678,
          109.24198618338099,
          109.40817631284519,
          109.5743664423094,
          109.7405565717736,
          109.90674670123781,
          110.07293683070202,
          110.23912696016622,
          110.40531708963043,
          110.57150721909463,
          110.73769734855884,
          110.90388747802305
         ],
         "yaxis": "y"
        },
        {
         "marker": {
          "line": {
           "width": 2
          },
          "size": 5
         },
         "mode": "markers",
         "name": "2020",
         "text": [
          "Wheaties Honey Gold",
          "All-Bran Complete Wheat Flakes Cereal",
          "Eggo",
          "Honey Smacks",
          "Krave Double Chocolate",
          "Peeps",
          "Smart Start",
          "Annie's Whole Grain Cereal",
          "Cascadian Farm Organic Raisin Bran",
          "Cheerios Multi Grain",
          "Chex Wheat Cereal",
          "Cookie Crisp",
          "Dunkaroos",
          "Fiber One",
          "Good Belly",
          "Larabar (Peanut Butter)",
          "Oatmeal Crisp",
          "Wonderworks (Peanut Butter)",
          "Ahold 100% Whole Grain",
          "Hannaford Frosted Flakes",
          "Martin's Food Lion",
          "Hannaford Tasteeos Cereal",
          "Ahold Vanilla Almond Cereal",
          "Kelloggs Special Fruit & Yogurt",
          "Kelloggs Special Original Cereal",
          "Quaker Life Cinnamon Multigrain",
          "Quaker Life Original Multigrain",
          "Quaker Life Ltd. Edition, Pumpkin Spice",
          "All-Bran",
          "Apple Jacks",
          "Basic 4",
          "Cocoa Puffs",
          "Corn Flakes",
          "Corn Pops",
          "Cracklin' Oat Bran",
          "Crispix",
          "Froot Loops",
          "Frosted Flakes",
          "Golden Grahams",
          "Kix",
          "Oatmeal Raisin Crisp",
          "Raisin Bran",
          "Raisin Nut Bran",
          "Rice Krispies",
          "Special K",
          "Total Whole Grain",
          "Trix",
          "Wheaties"
         ],
         "type": "scatter",
         "x": [
          16,
          13,
          11,
          9,
          8,
          12,
          16,
          13,
          12,
          15,
          18,
          13,
          15,
          11,
          11,
          11,
          13,
          7,
          19,
          14,
          13,
          18,
          13,
          14,
          15,
          10,
          15,
          12,
          8,
          14,
          13,
          12,
          20,
          15,
          6,
          21,
          13,
          15,
          13,
          17,
          10,
          9,
          12,
          23,
          16,
          14,
          14,
          13
         ],
         "xaxis": "x2",
         "y": [
          110,
          120,
          160,
          130,
          170,
          110,
          240,
          160,
          210,
          150,
          210,
          140,
          150,
          90,
          170,
          280,
          230,
          160,
          170,
          150,
          120,
          111,
          104,
          111,
          97,
          83,
          111,
          83,
          92,
          109,
          103,
          110,
          101,
          106,
          116,
          109,
          109,
          100,
          106,
          113,
          109,
          91,
          105,
          106,
          109,
          128,
          116,
          102
         ],
         "yaxis": "y2"
        },
        {
         "marker": {
          "line": {
           "width": 2
          },
          "size": 5
         },
         "mode": "markers",
         "name": "Regression Fit",
         "type": "scatter",
         "x": [
          6,
          6.171717171717171,
          6.343434343434343,
          6.515151515151516,
          6.686868686868687,
          6.858585858585858,
          7.03030303030303,
          7.202020202020202,
          7.373737373737374,
          7.545454545454545,
          7.717171717171717,
          7.888888888888889,
          8.06060606060606,
          8.232323232323232,
          8.404040404040405,
          8.575757575757576,
          8.747474747474747,
          8.919191919191919,
          9.09090909090909,
          9.262626262626263,
          9.434343434343434,
          9.606060606060606,
          9.777777777777779,
          9.94949494949495,
          10.121212121212121,
          10.292929292929292,
          10.464646464646464,
          10.636363636363637,
          10.808080808080808,
          10.97979797979798,
          11.151515151515152,
          11.323232323232324,
          11.494949494949495,
          11.666666666666666,
          11.838383838383837,
          12.01010101010101,
          12.181818181818182,
          12.353535353535353,
          12.525252525252526,
          12.696969696969697,
          12.868686868686869,
          13.04040404040404,
          13.212121212121211,
          13.383838383838384,
          13.555555555555555,
          13.727272727272727,
          13.8989898989899,
          14.070707070707071,
          14.242424242424242,
          14.414141414141413,
          14.585858585858585,
          14.757575757575758,
          14.929292929292929,
          15.1010101010101,
          15.272727272727273,
          15.444444444444445,
          15.616161616161616,
          15.787878787878787,
          15.959595959595958,
          16.13131313131313,
          16.303030303030305,
          16.474747474747474,
          16.646464646464647,
          16.81818181818182,
          16.98989898989899,
          17.16161616161616,
          17.333333333333332,
          17.505050505050505,
          17.676767676767675,
          17.848484848484848,
          18.02020202020202,
          18.19191919191919,
          18.363636363636363,
          18.535353535353536,
          18.707070707070706,
          18.87878787878788,
          19.050505050505052,
          19.22222222222222,
          19.393939393939394,
          19.565656565656568,
          19.737373737373737,
          19.909090909090907,
          20.08080808080808,
          20.252525252525253,
          20.424242424242422,
          20.595959595959595,
          20.767676767676768,
          20.939393939393938,
          21.11111111111111,
          21.282828282828284,
          21.454545454545453,
          21.626262626262626,
          21.7979797979798,
          21.96969696969697,
          22.141414141414142,
          22.31313131313131,
          22.484848484848484,
          22.656565656565657,
          22.828282828282827,
          23
         ],
         "xaxis": "x2",
         "y": [
          132.8271876719868,
          132.77634351217182,
          132.72549935235682,
          132.67465519254182,
          132.62381103272685,
          132.57296687291185,
          132.52212271309685,
          132.47127855328185,
          132.42043439346688,
          132.36959023365188,
          132.31874607383688,
          132.2679019140219,
          132.2170577542069,
          132.1662135943919,
          132.11536943457693,
          132.06452527476193,
          132.01368111494693,
          131.96283695513196,
          131.91199279531696,
          131.86114863550196,
          131.810304475687,
          131.759460315872,
          131.708616156057,
          131.65777199624202,
          131.60692783642702,
          131.55608367661202,
          131.50523951679705,
          131.45439535698205,
          131.40355119716705,
          131.35270703735208,
          131.30186287753708,
          131.25101871772208,
          131.20017455790708,
          131.1493303980921,
          131.0984862382771,
          131.0476420784621,
          130.99679791864713,
          130.94595375883213,
          130.89510959901713,
          130.84426543920216,
          130.79342127938716,
          130.74257711957216,
          130.6917329597572,
          130.6408887999422,
          130.5900446401272,
          130.53920048031222,
          130.48835632049722,
          130.43751216068222,
          130.38666800086725,
          130.33582384105225,
          130.28497968123725,
          130.23413552142227,
          130.18329136160727,
          130.13244720179227,
          130.0816030419773,
          130.0307588821623,
          129.9799147223473,
          129.92907056253233,
          129.87822640271733,
          129.82738224290233,
          129.77653808308733,
          129.72569392327236,
          129.67484976345736,
          129.62400560364236,
          129.5731614438274,
          129.5223172840124,
          129.4714731241974,
          129.42062896438242,
          129.36978480456742,
          129.31894064475242,
          129.26809648493744,
          129.21725232512244,
          129.16640816530744,
          129.11556400549247,
          129.06471984567747,
          129.01387568586247,
          128.9630315260475,
          128.9121873662325,
          128.8613432064175,
          128.81049904660253,
          128.75965488678753,
          128.70881072697253,
          128.65796656715756,
          128.60712240734256,
          128.55627824752756,
          128.50543408771256,
          128.4545899278976,
          128.4037457680826,
          128.3529016082676,
          128.30205744845262,
          128.25121328863762,
          128.20036912882262,
          128.14952496900764,
          128.09868080919264,
          128.04783664937764,
          127.99699248956266,
          127.94614832974767,
          127.89530416993269,
          127.84446001011769,
          127.7936158503027
         ],
         "yaxis": "y2"
        }
       ],
       "layout": {
        "annotations": [
         {
          "font": {
           "size": 16
          },
          "showarrow": false,
          "text": "1993",
          "x": 0.225,
          "xanchor": "center",
          "xref": "paper",
          "y": 1,
          "yanchor": "bottom",
          "yref": "paper"
         },
         {
          "font": {
           "size": 16
          },
          "showarrow": false,
          "text": "2020",
          "x": 0.775,
          "xanchor": "center",
          "xref": "paper",
          "y": 1,
          "yanchor": "bottom",
          "yref": "paper"
         }
        ],
        "showlegend": false,
        "template": {
         "data": {
          "bar": [
           {
            "error_x": {
             "color": "#2a3f5f"
            },
            "error_y": {
             "color": "#2a3f5f"
            },
            "marker": {
             "line": {
              "color": "#E5ECF6",
              "width": 0.5
             }
            },
            "type": "bar"
           }
          ],
          "barpolar": [
           {
            "marker": {
             "line": {
              "color": "#E5ECF6",
              "width": 0.5
             }
            },
            "type": "barpolar"
           }
          ],
          "carpet": [
           {
            "aaxis": {
             "endlinecolor": "#2a3f5f",
             "gridcolor": "white",
             "linecolor": "white",
             "minorgridcolor": "white",
             "startlinecolor": "#2a3f5f"
            },
            "baxis": {
             "endlinecolor": "#2a3f5f",
             "gridcolor": "white",
             "linecolor": "white",
             "minorgridcolor": "white",
             "startlinecolor": "#2a3f5f"
            },
            "type": "carpet"
           }
          ],
          "choropleth": [
           {
            "colorbar": {
             "outlinewidth": 0,
             "ticks": ""
            },
            "type": "choropleth"
           }
          ],
          "contour": [
           {
            "colorbar": {
             "outlinewidth": 0,
             "ticks": ""
            },
            "colorscale": [
             [
              0,
              "#0d0887"
             ],
             [
              0.1111111111111111,
              "#46039f"
             ],
             [
              0.2222222222222222,
              "#7201a8"
             ],
             [
              0.3333333333333333,
              "#9c179e"
             ],
             [
              0.4444444444444444,
              "#bd3786"
             ],
             [
              0.5555555555555556,
              "#d8576b"
             ],
             [
              0.6666666666666666,
              "#ed7953"
             ],
             [
              0.7777777777777778,
              "#fb9f3a"
             ],
             [
              0.8888888888888888,
              "#fdca26"
             ],
             [
              1,
              "#f0f921"
             ]
            ],
            "type": "contour"
           }
          ],
          "contourcarpet": [
           {
            "colorbar": {
             "outlinewidth": 0,
             "ticks": ""
            },
            "type": "contourcarpet"
           }
          ],
          "heatmap": [
           {
            "colorbar": {
             "outlinewidth": 0,
             "ticks": ""
            },
            "colorscale": [
             [
              0,
              "#0d0887"
             ],
             [
              0.1111111111111111,
              "#46039f"
             ],
             [
              0.2222222222222222,
              "#7201a8"
             ],
             [
              0.3333333333333333,
              "#9c179e"
             ],
             [
              0.4444444444444444,
              "#bd3786"
             ],
             [
              0.5555555555555556,
              "#d8576b"
             ],
             [
              0.6666666666666666,
              "#ed7953"
             ],
             [
              0.7777777777777778,
              "#fb9f3a"
             ],
             [
              0.8888888888888888,
              "#fdca26"
             ],
             [
              1,
              "#f0f921"
             ]
            ],
            "type": "heatmap"
           }
          ],
          "heatmapgl": [
           {
            "colorbar": {
             "outlinewidth": 0,
             "ticks": ""
            },
            "colorscale": [
             [
              0,
              "#0d0887"
             ],
             [
              0.1111111111111111,
              "#46039f"
             ],
             [
              0.2222222222222222,
              "#7201a8"
             ],
             [
              0.3333333333333333,
              "#9c179e"
             ],
             [
              0.4444444444444444,
              "#bd3786"
             ],
             [
              0.5555555555555556,
              "#d8576b"
             ],
             [
              0.6666666666666666,
              "#ed7953"
             ],
             [
              0.7777777777777778,
              "#fb9f3a"
             ],
             [
              0.8888888888888888,
              "#fdca26"
             ],
             [
              1,
              "#f0f921"
             ]
            ],
            "type": "heatmapgl"
           }
          ],
          "histogram": [
           {
            "marker": {
             "colorbar": {
              "outlinewidth": 0,
              "ticks": ""
             }
            },
            "type": "histogram"
           }
          ],
          "histogram2d": [
           {
            "colorbar": {
             "outlinewidth": 0,
             "ticks": ""
            },
            "colorscale": [
             [
              0,
              "#0d0887"
             ],
             [
              0.1111111111111111,
              "#46039f"
             ],
             [
              0.2222222222222222,
              "#7201a8"
             ],
             [
              0.3333333333333333,
              "#9c179e"
             ],
             [
              0.4444444444444444,
              "#bd3786"
             ],
             [
              0.5555555555555556,
              "#d8576b"
             ],
             [
              0.6666666666666666,
              "#ed7953"
             ],
             [
              0.7777777777777778,
              "#fb9f3a"
             ],
             [
              0.8888888888888888,
              "#fdca26"
             ],
             [
              1,
              "#f0f921"
             ]
            ],
            "type": "histogram2d"
           }
          ],
          "histogram2dcontour": [
           {
            "colorbar": {
             "outlinewidth": 0,
             "ticks": ""
            },
            "colorscale": [
             [
              0,
              "#0d0887"
             ],
             [
              0.1111111111111111,
              "#46039f"
             ],
             [
              0.2222222222222222,
              "#7201a8"
             ],
             [
              0.3333333333333333,
              "#9c179e"
             ],
             [
              0.4444444444444444,
              "#bd3786"
             ],
             [
              0.5555555555555556,
              "#d8576b"
             ],
             [
              0.6666666666666666,
              "#ed7953"
             ],
             [
              0.7777777777777778,
              "#fb9f3a"
             ],
             [
              0.8888888888888888,
              "#fdca26"
             ],
             [
              1,
              "#f0f921"
             ]
            ],
            "type": "histogram2dcontour"
           }
          ],
          "mesh3d": [
           {
            "colorbar": {
             "outlinewidth": 0,
             "ticks": ""
            },
            "type": "mesh3d"
           }
          ],
          "parcoords": [
           {
            "line": {
             "colorbar": {
              "outlinewidth": 0,
              "ticks": ""
             }
            },
            "type": "parcoords"
           }
          ],
          "pie": [
           {
            "automargin": true,
            "type": "pie"
           }
          ],
          "scatter": [
           {
            "marker": {
             "colorbar": {
              "outlinewidth": 0,
              "ticks": ""
             }
            },
            "type": "scatter"
           }
          ],
          "scatter3d": [
           {
            "line": {
             "colorbar": {
              "outlinewidth": 0,
              "ticks": ""
             }
            },
            "marker": {
             "colorbar": {
              "outlinewidth": 0,
              "ticks": ""
             }
            },
            "type": "scatter3d"
           }
          ],
          "scattercarpet": [
           {
            "marker": {
             "colorbar": {
              "outlinewidth": 0,
              "ticks": ""
             }
            },
            "type": "scattercarpet"
           }
          ],
          "scattergeo": [
           {
            "marker": {
             "colorbar": {
              "outlinewidth": 0,
              "ticks": ""
             }
            },
            "type": "scattergeo"
           }
          ],
          "scattergl": [
           {
            "marker": {
             "colorbar": {
              "outlinewidth": 0,
              "ticks": ""
             }
            },
            "type": "scattergl"
           }
          ],
          "scattermapbox": [
           {
            "marker": {
             "colorbar": {
              "outlinewidth": 0,
              "ticks": ""
             }
            },
            "type": "scattermapbox"
           }
          ],
          "scatterpolar": [
           {
            "marker": {
             "colorbar": {
              "outlinewidth": 0,
              "ticks": ""
             }
            },
            "type": "scatterpolar"
           }
          ],
          "scatterpolargl": [
           {
            "marker": {
             "colorbar": {
              "outlinewidth": 0,
              "ticks": ""
             }
            },
            "type": "scatterpolargl"
           }
          ],
          "scatterternary": [
           {
            "marker": {
             "colorbar": {
              "outlinewidth": 0,
              "ticks": ""
             }
            },
            "type": "scatterternary"
           }
          ],
          "surface": [
           {
            "colorbar": {
             "outlinewidth": 0,
             "ticks": ""
            },
            "colorscale": [
             [
              0,
              "#0d0887"
             ],
             [
              0.1111111111111111,
              "#46039f"
             ],
             [
              0.2222222222222222,
              "#7201a8"
             ],
             [
              0.3333333333333333,
              "#9c179e"
             ],
             [
              0.4444444444444444,
              "#bd3786"
             ],
             [
              0.5555555555555556,
              "#d8576b"
             ],
             [
              0.6666666666666666,
              "#ed7953"
             ],
             [
              0.7777777777777778,
              "#fb9f3a"
             ],
             [
              0.8888888888888888,
              "#fdca26"
             ],
             [
              1,
              "#f0f921"
             ]
            ],
            "type": "surface"
           }
          ],
          "table": [
           {
            "cells": {
             "fill": {
              "color": "#EBF0F8"
             },
             "line": {
              "color": "white"
             }
            },
            "header": {
             "fill": {
              "color": "#C8D4E3"
             },
             "line": {
              "color": "white"
             }
            },
            "type": "table"
           }
          ]
         },
         "layout": {
          "annotationdefaults": {
           "arrowcolor": "#2a3f5f",
           "arrowhead": 0,
           "arrowwidth": 1
          },
          "coloraxis": {
           "colorbar": {
            "outlinewidth": 0,
            "ticks": ""
           }
          },
          "colorscale": {
           "diverging": [
            [
             0,
             "#8e0152"
            ],
            [
             0.1,
             "#c51b7d"
            ],
            [
             0.2,
             "#de77ae"
            ],
            [
             0.3,
             "#f1b6da"
            ],
            [
             0.4,
             "#fde0ef"
            ],
            [
             0.5,
             "#f7f7f7"
            ],
            [
             0.6,
             "#e6f5d0"
            ],
            [
             0.7,
             "#b8e186"
            ],
            [
             0.8,
             "#7fbc41"
            ],
            [
             0.9,
             "#4d9221"
            ],
            [
             1,
             "#276419"
            ]
           ],
           "sequential": [
            [
             0,
             "#0d0887"
            ],
            [
             0.1111111111111111,
             "#46039f"
            ],
            [
             0.2222222222222222,
             "#7201a8"
            ],
            [
             0.3333333333333333,
             "#9c179e"
            ],
            [
             0.4444444444444444,
             "#bd3786"
            ],
            [
             0.5555555555555556,
             "#d8576b"
            ],
            [
             0.6666666666666666,
             "#ed7953"
            ],
            [
             0.7777777777777778,
             "#fb9f3a"
            ],
            [
             0.8888888888888888,
             "#fdca26"
            ],
            [
             1,
             "#f0f921"
            ]
           ],
           "sequentialminus": [
            [
             0,
             "#0d0887"
            ],
            [
             0.1111111111111111,
             "#46039f"
            ],
            [
             0.2222222222222222,
             "#7201a8"
            ],
            [
             0.3333333333333333,
             "#9c179e"
            ],
            [
             0.4444444444444444,
             "#bd3786"
            ],
            [
             0.5555555555555556,
             "#d8576b"
            ],
            [
             0.6666666666666666,
             "#ed7953"
            ],
            [
             0.7777777777777778,
             "#fb9f3a"
            ],
            [
             0.8888888888888888,
             "#fdca26"
            ],
            [
             1,
             "#f0f921"
            ]
           ]
          },
          "colorway": [
           "#636efa",
           "#EF553B",
           "#00cc96",
           "#ab63fa",
           "#FFA15A",
           "#19d3f3",
           "#FF6692",
           "#B6E880",
           "#FF97FF",
           "#FECB52"
          ],
          "font": {
           "color": "#2a3f5f"
          },
          "geo": {
           "bgcolor": "white",
           "lakecolor": "white",
           "landcolor": "#E5ECF6",
           "showlakes": true,
           "showland": true,
           "subunitcolor": "white"
          },
          "hoverlabel": {
           "align": "left"
          },
          "hovermode": "closest",
          "mapbox": {
           "style": "light"
          },
          "paper_bgcolor": "white",
          "plot_bgcolor": "#E5ECF6",
          "polar": {
           "angularaxis": {
            "gridcolor": "white",
            "linecolor": "white",
            "ticks": ""
           },
           "bgcolor": "#E5ECF6",
           "radialaxis": {
            "gridcolor": "white",
            "linecolor": "white",
            "ticks": ""
           }
          },
          "scene": {
           "xaxis": {
            "backgroundcolor": "#E5ECF6",
            "gridcolor": "white",
            "gridwidth": 2,
            "linecolor": "white",
            "showbackground": true,
            "ticks": "",
            "zerolinecolor": "white"
           },
           "yaxis": {
            "backgroundcolor": "#E5ECF6",
            "gridcolor": "white",
            "gridwidth": 2,
            "linecolor": "white",
            "showbackground": true,
            "ticks": "",
            "zerolinecolor": "white"
           },
           "zaxis": {
            "backgroundcolor": "#E5ECF6",
            "gridcolor": "white",
            "gridwidth": 2,
            "linecolor": "white",
            "showbackground": true,
            "ticks": "",
            "zerolinecolor": "white"
           }
          },
          "shapedefaults": {
           "line": {
            "color": "#2a3f5f"
           }
          },
          "ternary": {
           "aaxis": {
            "gridcolor": "white",
            "linecolor": "white",
            "ticks": ""
           },
           "baxis": {
            "gridcolor": "white",
            "linecolor": "white",
            "ticks": ""
           },
           "bgcolor": "#E5ECF6",
           "caxis": {
            "gridcolor": "white",
            "linecolor": "white",
            "ticks": ""
           }
          },
          "title": {
           "x": 0.05
          },
          "xaxis": {
           "automargin": true,
           "gridcolor": "white",
           "linecolor": "white",
           "ticks": "",
           "title": {
            "standoff": 15
           },
           "zerolinecolor": "white",
           "zerolinewidth": 2
          },
          "yaxis": {
           "automargin": true,
           "gridcolor": "white",
           "linecolor": "white",
           "ticks": "",
           "title": {
            "standoff": 15
           },
           "zerolinecolor": "white",
           "zerolinewidth": 2
          }
         }
        },
        "title": {
         "text": "Calories vs Carbohydrate in 1993 and 2020"
        },
        "xaxis": {
         "anchor": "y",
         "domain": [
          0,
          0.45
         ],
         "title": {
          "text": "Carbohydrate"
         }
        },
        "xaxis2": {
         "anchor": "y2",
         "domain": [
          0.55,
          1
         ],
         "title": {
          "text": "Carbohydrate"
         }
        },
        "yaxis": {
         "anchor": "x",
         "domain": [
          0,
          1
         ],
         "title": {
          "text": "Calories"
         }
        },
        "yaxis2": {
         "anchor": "x2",
         "domain": [
          0,
          1
         ],
         "matches": "y",
         "showticklabels": false
        }
       }
      },
      "text/html": [
       "<div>                            <div id=\"0d9f52c4-2ca3-44f6-af49-bcd722fc7c9d\" class=\"plotly-graph-div\" style=\"height:525px; width:100%;\"></div>            <script type=\"text/javascript\">                require([\"plotly\"], function(Plotly) {                    window.PLOTLYENV=window.PLOTLYENV || {};                                    if (document.getElementById(\"0d9f52c4-2ca3-44f6-af49-bcd722fc7c9d\")) {                    Plotly.newPlot(                        \"0d9f52c4-2ca3-44f6-af49-bcd722fc7c9d\",                        [{\"marker\": {\"line\": {\"width\": 2}, \"size\": 5}, \"mode\": \"markers\", \"name\": \"1993\", \"text\": [\"100% Bran\", \"100% Natural Bran\", \"All-Bran\", \"All-Bran with Extra Fiber\", \"Almond Delight\", \"Apple Cinnamon Cheerios\", \"Apple Jacks\", \"Basic 4\", \"Bran Chex\", \"Bran Flakes\", \"Cap'n'Crunch\", \"Cheerios\", \"Cinnamon Toast Crunch\", \"Clusters\", \"Cocoa Puffs\", \"Corn Chex\", \"Corn Flakes\", \"Corn Pops\", \"Count Chocula\", \"Cracklin' Oat Bran\", \"Cream of Wheat (Quick)\", \"Crispix\", \"Crispy Wheat & Raisins\", \"Double Chex\", \"Froot Loops\", \"Frosted Flakes\", \"Frosted Mini-Wheats\", \"Fruit & Fibre Dates\", \"Fruitful Bran\", \"Fruity Pebbles\", \"Golden Crisp\", \"Golden Grahams\", \"Grape Nuts Flakes\", \"Grape-Nuts\", \"Great Grains Pecan\", \"Honey Graham Ohs\", \"Honey Nut Cheerios\", \"Honey-comb\", \"Just Right Crunchy  Nuggets\", \"Just Right Fruit & Nut\", \"Kix\", \"Life\", \"Lucky Charms\", \"Maypo\", \"Dates & Almonds\", \"Peaches & Pecans\", \"Mueslix Crispy Blend\", \"Multi-Grain Cheerios\", \"Nut&Honey Crunch\", \"Nutri-Grain Almond-Raisin\", \"Nutri-grain Wheat\", \"Oatmeal Raisin Crisp\", \"Post Nat. Raisin Bran\", \"Product 19\", \"Puffed Rice\", \"Puffed Wheat\", \"Quaker Oat Squares\", \"Quaker Oatmeal\", \"Raisin Bran\", \"Raisin Nut Bran\", \"Raisin Squares\", \"Rice Chex\", \"Rice Krispies\", \"Shredded Wheat\", \"Shredded Wheat 'n'Bran\", \"Shredded Wheat spoon size\", \"Smacks\", \"Special K\", \"Strawberry Fruit Wheats\", \"Total Corn Flakes\", \"Total Raisin Bran\", \"Total Whole Grain\", \"Triples\", \"Trix\", \"Walnuts & Oats\", \"Wheat Chex\", \"Wheaties\"], \"type\": \"scatter\", \"x\": [5, 8, 7, 8, 14, 10, 11, 14, 15, 13, 12, 17, 13, 13, 12, 22, 21, 13, 12, 10, 21, 21, 11, 18, 11, 14, 14, 10, 11, 13, 11, 15, 15, 17, 13, 12, 12, 14, 17, 15, 21, 12, 12, 16, 16, 16, 11, 15, 15, 16, 18, 11, 8, 20, 26, 20, 14, -1, 11, 10, 15, 23, 22, 19, 19, 20, 9, 16, 15, 21, 10, 16, 21, 13, 10, 17, 17], \"xaxis\": \"x\", \"y\": [70, 120, 70, 50, 110, 110, 110, 98, 90, 90, 120, 110, 120, 110, 110, 110, 100, 110, 110, 110, 100, 110, 100, 100, 110, 110, 100, 96, 90, 110, 100, 110, 100, 110, 120, 120, 110, 110, 110, 108, 110, 100, 110, 100, 150, 150, 107, 100, 120, 105, 90, 104, 90, 100, 100, 100, 100, 100, 90, 100, 90, 110, 110, 96, 90, 90, 110, 110, 90, 110, 93, 100, 110, 110, 96, 100, 100], \"yaxis\": \"y\"}, {\"marker\": {\"line\": {\"width\": 2}, \"size\": 5}, \"mode\": \"markers\", \"name\": \"Regression Fit\", \"type\": \"scatter\", \"x\": [-1.0, -0.7272727272727273, -0.4545454545454546, -0.18181818181818188, 0.09090909090909083, 0.36363636363636354, 0.6363636363636362, 0.909090909090909, 1.1818181818181817, 1.4545454545454541, 1.727272727272727, 2.0, 2.2727272727272725, 2.545454545454545, 2.818181818181818, 3.090909090909091, 3.3636363636363633, 3.636363636363636, 3.9090909090909083, 4.181818181818182, 4.454545454545454, 4.727272727272727, 5.0, 5.2727272727272725, 5.545454545454545, 5.8181818181818175, 6.09090909090909, 6.363636363636363, 6.636363636363636, 6.909090909090908, 7.181818181818182, 7.454545454545453, 7.727272727272727, 8.0, 8.272727272727272, 8.545454545454545, 8.818181818181817, 9.09090909090909, 9.363636363636363, 9.636363636363635, 9.909090909090908, 10.181818181818182, 10.454545454545453, 10.727272727272727, 11.0, 11.272727272727272, 11.545454545454545, 11.818181818181817, 12.09090909090909, 12.363636363636363, 12.636363636363635, 12.909090909090908, 13.18181818181818, 13.454545454545453, 13.727272727272727, 13.999999999999998, 14.272727272727272, 14.545454545454545, 14.818181818181817, 15.09090909090909, 15.363636363636363, 15.636363636363637, 15.909090909090907, 16.18181818181818, 16.454545454545453, 16.727272727272727, 17.0, 17.27272727272727, 17.545454545454543, 17.818181818181817, 18.09090909090909, 18.363636363636363, 18.636363636363633, 18.909090909090907, 19.18181818181818, 19.454545454545453, 19.727272727272727, 20.0, 20.27272727272727, 20.545454545454543, 20.818181818181817, 21.09090909090909, 21.363636363636363, 21.636363636363633, 21.909090909090907, 22.18181818181818, 22.454545454545453, 22.727272727272727, 23.0, 23.27272727272727, 23.545454545454543, 23.818181818181817, 24.09090909090909, 24.363636363636363, 24.636363636363633, 24.909090909090907, 25.18181818181818, 25.454545454545453, 25.727272727272727, 26.0], \"xaxis\": \"x\", \"y\": [94.45106466106661, 94.61725479053082, 94.78344491999502, 94.94963504945923, 95.11582517892344, 95.28201530838764, 95.44820543785185, 95.61439556731605, 95.78058569678026, 95.94677582624448, 96.11296595570867, 96.27915608517289, 96.44534621463708, 96.6115363441013, 96.77772647356551, 96.9439166030297, 97.11010673249392, 97.27629686195812, 97.44248699142233, 97.60867712088654, 97.77486725035074, 97.94105737981495, 98.10724750927915, 98.27343763874336, 98.43962776820757, 98.60581789767177, 98.77200802713598, 98.93819815660018, 99.10438828606439, 99.2705784155286, 99.4367685449928, 99.60295867445701, 99.76914880392121, 99.93533893338542, 100.10152906284964, 100.26771919231383, 100.43390932177805, 100.60009945124224, 100.76628958070646, 100.93247971017067, 101.09866983963487, 101.26485996909908, 101.43105009856328, 101.59724022802749, 101.7634303574917, 101.9296204869559, 102.09581061642011, 102.26200074588431, 102.42819087534852, 102.59438100481273, 102.76057113427693, 102.92676126374114, 103.09295139320534, 103.25914152266955, 103.42533165213376, 103.59152178159796, 103.75771191106217, 103.92390204052637, 104.09009216999058, 104.2562822994548, 104.422472428919, 104.5886625583832, 104.7548526878474, 104.92104281731162, 105.08723294677583, 105.25342307624003, 105.41961320570424, 105.58580333516844, 105.75199346463265, 105.91818359409686, 106.08437372356106, 106.25056385302527, 106.41675398248947, 106.58294411195368, 106.74913424141789, 106.91532437088209, 107.0815145003463, 107.2477046298105, 107.41389475927471, 107.58008488873892, 107.74627501820312, 107.91246514766733, 108.07865527713153, 108.24484540659574, 108.41103553605996, 108.57722566552415, 108.74341579498837, 108.90960592445256, 109.07579605391678, 109.24198618338099, 109.40817631284519, 109.5743664423094, 109.7405565717736, 109.90674670123781, 110.07293683070202, 110.23912696016622, 110.40531708963043, 110.57150721909463, 110.73769734855884, 110.90388747802305], \"yaxis\": \"y\"}, {\"marker\": {\"line\": {\"width\": 2}, \"size\": 5}, \"mode\": \"markers\", \"name\": \"2020\", \"text\": [\"Wheaties Honey Gold\", \"All-Bran Complete Wheat Flakes Cereal\", \"Eggo\", \"Honey Smacks\", \"Krave Double Chocolate\", \"Peeps\", \"Smart Start\", \"Annie's Whole Grain Cereal\", \"Cascadian Farm Organic Raisin Bran\", \"Cheerios Multi Grain\", \"Chex Wheat Cereal\", \"Cookie Crisp\", \"Dunkaroos\", \"Fiber One\", \"Good Belly\", \"Larabar (Peanut Butter)\", \"Oatmeal Crisp\", \"Wonderworks (Peanut Butter)\", \"Ahold 100% Whole Grain\", \"Hannaford Frosted Flakes\", \"Martin's Food Lion\", \"Hannaford Tasteeos Cereal\", \"Ahold Vanilla Almond Cereal\", \"Kelloggs Special Fruit & Yogurt\", \"Kelloggs Special Original Cereal\", \"Quaker Life Cinnamon Multigrain\", \"Quaker Life Original Multigrain\", \"Quaker Life Ltd. Edition, Pumpkin Spice\", \"All-Bran\", \"Apple Jacks\", \"Basic 4\", \"Cocoa Puffs\", \"Corn Flakes\", \"Corn Pops\", \"Cracklin' Oat Bran\", \"Crispix\", \"Froot Loops\", \"Frosted Flakes\", \"Golden Grahams\", \"Kix\", \"Oatmeal Raisin Crisp\", \"Raisin Bran\", \"Raisin Nut Bran\", \"Rice Krispies\", \"Special K\", \"Total Whole Grain\", \"Trix\", \"Wheaties\"], \"type\": \"scatter\", \"x\": [16, 13, 11, 9, 8, 12, 16, 13, 12, 15, 18, 13, 15, 11, 11, 11, 13, 7, 19, 14, 13, 18, 13, 14, 15, 10, 15, 12, 8, 14, 13, 12, 20, 15, 6, 21, 13, 15, 13, 17, 10, 9, 12, 23, 16, 14, 14, 13], \"xaxis\": \"x2\", \"y\": [110, 120, 160, 130, 170, 110, 240, 160, 210, 150, 210, 140, 150, 90, 170, 280, 230, 160, 170, 150, 120, 111, 104, 111, 97, 83, 111, 83, 92, 109, 103, 110, 101, 106, 116, 109, 109, 100, 106, 113, 109, 91, 105, 106, 109, 128, 116, 102], \"yaxis\": \"y2\"}, {\"marker\": {\"line\": {\"width\": 2}, \"size\": 5}, \"mode\": \"markers\", \"name\": \"Regression Fit\", \"type\": \"scatter\", \"x\": [6.0, 6.171717171717171, 6.343434343434343, 6.515151515151516, 6.686868686868687, 6.858585858585858, 7.03030303030303, 7.202020202020202, 7.373737373737374, 7.545454545454545, 7.717171717171717, 7.888888888888889, 8.06060606060606, 8.232323232323232, 8.404040404040405, 8.575757575757576, 8.747474747474747, 8.919191919191919, 9.09090909090909, 9.262626262626263, 9.434343434343434, 9.606060606060606, 9.777777777777779, 9.94949494949495, 10.121212121212121, 10.292929292929292, 10.464646464646464, 10.636363636363637, 10.808080808080808, 10.97979797979798, 11.151515151515152, 11.323232323232324, 11.494949494949495, 11.666666666666666, 11.838383838383837, 12.01010101010101, 12.181818181818182, 12.353535353535353, 12.525252525252526, 12.696969696969697, 12.868686868686869, 13.04040404040404, 13.212121212121211, 13.383838383838384, 13.555555555555555, 13.727272727272727, 13.8989898989899, 14.070707070707071, 14.242424242424242, 14.414141414141413, 14.585858585858585, 14.757575757575758, 14.929292929292929, 15.1010101010101, 15.272727272727273, 15.444444444444445, 15.616161616161616, 15.787878787878787, 15.959595959595958, 16.13131313131313, 16.303030303030305, 16.474747474747474, 16.646464646464647, 16.81818181818182, 16.98989898989899, 17.16161616161616, 17.333333333333332, 17.505050505050505, 17.676767676767675, 17.848484848484848, 18.02020202020202, 18.19191919191919, 18.363636363636363, 18.535353535353536, 18.707070707070706, 18.87878787878788, 19.050505050505052, 19.22222222222222, 19.393939393939394, 19.565656565656568, 19.737373737373737, 19.909090909090907, 20.08080808080808, 20.252525252525253, 20.424242424242422, 20.595959595959595, 20.767676767676768, 20.939393939393938, 21.11111111111111, 21.282828282828284, 21.454545454545453, 21.626262626262626, 21.7979797979798, 21.96969696969697, 22.141414141414142, 22.31313131313131, 22.484848484848484, 22.656565656565657, 22.828282828282827, 23.0], \"xaxis\": \"x2\", \"y\": [132.8271876719868, 132.77634351217182, 132.72549935235682, 132.67465519254182, 132.62381103272685, 132.57296687291185, 132.52212271309685, 132.47127855328185, 132.42043439346688, 132.36959023365188, 132.31874607383688, 132.2679019140219, 132.2170577542069, 132.1662135943919, 132.11536943457693, 132.06452527476193, 132.01368111494693, 131.96283695513196, 131.91199279531696, 131.86114863550196, 131.810304475687, 131.759460315872, 131.708616156057, 131.65777199624202, 131.60692783642702, 131.55608367661202, 131.50523951679705, 131.45439535698205, 131.40355119716705, 131.35270703735208, 131.30186287753708, 131.25101871772208, 131.20017455790708, 131.1493303980921, 131.0984862382771, 131.0476420784621, 130.99679791864713, 130.94595375883213, 130.89510959901713, 130.84426543920216, 130.79342127938716, 130.74257711957216, 130.6917329597572, 130.6408887999422, 130.5900446401272, 130.53920048031222, 130.48835632049722, 130.43751216068222, 130.38666800086725, 130.33582384105225, 130.28497968123725, 130.23413552142227, 130.18329136160727, 130.13244720179227, 130.0816030419773, 130.0307588821623, 129.9799147223473, 129.92907056253233, 129.87822640271733, 129.82738224290233, 129.77653808308733, 129.72569392327236, 129.67484976345736, 129.62400560364236, 129.5731614438274, 129.5223172840124, 129.4714731241974, 129.42062896438242, 129.36978480456742, 129.31894064475242, 129.26809648493744, 129.21725232512244, 129.16640816530744, 129.11556400549247, 129.06471984567747, 129.01387568586247, 128.9630315260475, 128.9121873662325, 128.8613432064175, 128.81049904660253, 128.75965488678753, 128.70881072697253, 128.65796656715756, 128.60712240734256, 128.55627824752756, 128.50543408771256, 128.4545899278976, 128.4037457680826, 128.3529016082676, 128.30205744845262, 128.25121328863762, 128.20036912882262, 128.14952496900764, 128.09868080919264, 128.04783664937764, 127.99699248956266, 127.94614832974767, 127.89530416993269, 127.84446001011769, 127.7936158503027], \"yaxis\": \"y2\"}],                        {\"annotations\": [{\"font\": {\"size\": 16}, \"showarrow\": false, \"text\": \"1993\", \"x\": 0.225, \"xanchor\": \"center\", \"xref\": \"paper\", \"y\": 1.0, \"yanchor\": \"bottom\", \"yref\": \"paper\"}, {\"font\": {\"size\": 16}, \"showarrow\": false, \"text\": \"2020\", \"x\": 0.775, \"xanchor\": \"center\", \"xref\": \"paper\", \"y\": 1.0, \"yanchor\": \"bottom\", \"yref\": \"paper\"}], \"showlegend\": false, \"template\": {\"data\": {\"bar\": [{\"error_x\": {\"color\": \"#2a3f5f\"}, \"error_y\": {\"color\": \"#2a3f5f\"}, \"marker\": {\"line\": {\"color\": \"#E5ECF6\", \"width\": 0.5}}, \"type\": \"bar\"}], \"barpolar\": [{\"marker\": {\"line\": {\"color\": \"#E5ECF6\", \"width\": 0.5}}, \"type\": \"barpolar\"}], \"carpet\": [{\"aaxis\": {\"endlinecolor\": \"#2a3f5f\", \"gridcolor\": \"white\", \"linecolor\": \"white\", \"minorgridcolor\": \"white\", \"startlinecolor\": \"#2a3f5f\"}, \"baxis\": {\"endlinecolor\": \"#2a3f5f\", \"gridcolor\": \"white\", \"linecolor\": \"white\", \"minorgridcolor\": \"white\", \"startlinecolor\": \"#2a3f5f\"}, \"type\": \"carpet\"}], \"choropleth\": [{\"colorbar\": {\"outlinewidth\": 0, \"ticks\": \"\"}, \"type\": \"choropleth\"}], \"contour\": [{\"colorbar\": {\"outlinewidth\": 0, \"ticks\": \"\"}, \"colorscale\": [[0.0, \"#0d0887\"], [0.1111111111111111, \"#46039f\"], [0.2222222222222222, \"#7201a8\"], [0.3333333333333333, \"#9c179e\"], [0.4444444444444444, \"#bd3786\"], [0.5555555555555556, \"#d8576b\"], [0.6666666666666666, \"#ed7953\"], [0.7777777777777778, \"#fb9f3a\"], [0.8888888888888888, \"#fdca26\"], [1.0, \"#f0f921\"]], \"type\": \"contour\"}], \"contourcarpet\": [{\"colorbar\": {\"outlinewidth\": 0, \"ticks\": \"\"}, \"type\": \"contourcarpet\"}], \"heatmap\": [{\"colorbar\": {\"outlinewidth\": 0, \"ticks\": \"\"}, \"colorscale\": [[0.0, \"#0d0887\"], [0.1111111111111111, \"#46039f\"], [0.2222222222222222, \"#7201a8\"], [0.3333333333333333, \"#9c179e\"], [0.4444444444444444, \"#bd3786\"], [0.5555555555555556, \"#d8576b\"], [0.6666666666666666, \"#ed7953\"], [0.7777777777777778, \"#fb9f3a\"], [0.8888888888888888, \"#fdca26\"], [1.0, \"#f0f921\"]], \"type\": \"heatmap\"}], \"heatmapgl\": [{\"colorbar\": {\"outlinewidth\": 0, \"ticks\": \"\"}, \"colorscale\": [[0.0, \"#0d0887\"], [0.1111111111111111, \"#46039f\"], [0.2222222222222222, \"#7201a8\"], [0.3333333333333333, \"#9c179e\"], [0.4444444444444444, \"#bd3786\"], [0.5555555555555556, \"#d8576b\"], [0.6666666666666666, \"#ed7953\"], [0.7777777777777778, \"#fb9f3a\"], [0.8888888888888888, \"#fdca26\"], [1.0, \"#f0f921\"]], \"type\": \"heatmapgl\"}], \"histogram\": [{\"marker\": {\"colorbar\": {\"outlinewidth\": 0, \"ticks\": \"\"}}, \"type\": \"histogram\"}], \"histogram2d\": [{\"colorbar\": {\"outlinewidth\": 0, \"ticks\": \"\"}, \"colorscale\": [[0.0, \"#0d0887\"], [0.1111111111111111, \"#46039f\"], [0.2222222222222222, \"#7201a8\"], [0.3333333333333333, \"#9c179e\"], [0.4444444444444444, \"#bd3786\"], [0.5555555555555556, \"#d8576b\"], [0.6666666666666666, \"#ed7953\"], [0.7777777777777778, \"#fb9f3a\"], [0.8888888888888888, \"#fdca26\"], [1.0, \"#f0f921\"]], \"type\": \"histogram2d\"}], \"histogram2dcontour\": [{\"colorbar\": {\"outlinewidth\": 0, \"ticks\": \"\"}, \"colorscale\": [[0.0, \"#0d0887\"], [0.1111111111111111, \"#46039f\"], [0.2222222222222222, \"#7201a8\"], [0.3333333333333333, \"#9c179e\"], [0.4444444444444444, \"#bd3786\"], [0.5555555555555556, \"#d8576b\"], [0.6666666666666666, \"#ed7953\"], [0.7777777777777778, \"#fb9f3a\"], [0.8888888888888888, \"#fdca26\"], [1.0, \"#f0f921\"]], \"type\": \"histogram2dcontour\"}], \"mesh3d\": [{\"colorbar\": {\"outlinewidth\": 0, \"ticks\": \"\"}, \"type\": \"mesh3d\"}], \"parcoords\": [{\"line\": {\"colorbar\": {\"outlinewidth\": 0, \"ticks\": \"\"}}, \"type\": \"parcoords\"}], \"pie\": [{\"automargin\": true, \"type\": \"pie\"}], \"scatter\": [{\"marker\": {\"colorbar\": {\"outlinewidth\": 0, \"ticks\": \"\"}}, \"type\": \"scatter\"}], \"scatter3d\": [{\"line\": {\"colorbar\": {\"outlinewidth\": 0, \"ticks\": \"\"}}, \"marker\": {\"colorbar\": {\"outlinewidth\": 0, \"ticks\": \"\"}}, \"type\": \"scatter3d\"}], \"scattercarpet\": [{\"marker\": {\"colorbar\": {\"outlinewidth\": 0, \"ticks\": \"\"}}, \"type\": \"scattercarpet\"}], \"scattergeo\": [{\"marker\": {\"colorbar\": {\"outlinewidth\": 0, \"ticks\": \"\"}}, \"type\": \"scattergeo\"}], \"scattergl\": [{\"marker\": {\"colorbar\": {\"outlinewidth\": 0, \"ticks\": \"\"}}, \"type\": \"scattergl\"}], \"scattermapbox\": [{\"marker\": {\"colorbar\": {\"outlinewidth\": 0, \"ticks\": \"\"}}, \"type\": \"scattermapbox\"}], \"scatterpolar\": [{\"marker\": {\"colorbar\": {\"outlinewidth\": 0, \"ticks\": \"\"}}, \"type\": \"scatterpolar\"}], \"scatterpolargl\": [{\"marker\": {\"colorbar\": {\"outlinewidth\": 0, \"ticks\": \"\"}}, \"type\": \"scatterpolargl\"}], \"scatterternary\": [{\"marker\": {\"colorbar\": {\"outlinewidth\": 0, \"ticks\": \"\"}}, \"type\": \"scatterternary\"}], \"surface\": [{\"colorbar\": {\"outlinewidth\": 0, \"ticks\": \"\"}, \"colorscale\": [[0.0, \"#0d0887\"], [0.1111111111111111, \"#46039f\"], [0.2222222222222222, \"#7201a8\"], [0.3333333333333333, \"#9c179e\"], [0.4444444444444444, \"#bd3786\"], [0.5555555555555556, \"#d8576b\"], [0.6666666666666666, \"#ed7953\"], [0.7777777777777778, \"#fb9f3a\"], [0.8888888888888888, \"#fdca26\"], [1.0, \"#f0f921\"]], \"type\": \"surface\"}], \"table\": [{\"cells\": {\"fill\": {\"color\": \"#EBF0F8\"}, \"line\": {\"color\": \"white\"}}, \"header\": {\"fill\": {\"color\": \"#C8D4E3\"}, \"line\": {\"color\": \"white\"}}, \"type\": \"table\"}]}, \"layout\": {\"annotationdefaults\": {\"arrowcolor\": \"#2a3f5f\", \"arrowhead\": 0, \"arrowwidth\": 1}, \"coloraxis\": {\"colorbar\": {\"outlinewidth\": 0, \"ticks\": \"\"}}, \"colorscale\": {\"diverging\": [[0, \"#8e0152\"], [0.1, \"#c51b7d\"], [0.2, \"#de77ae\"], [0.3, \"#f1b6da\"], [0.4, \"#fde0ef\"], [0.5, \"#f7f7f7\"], [0.6, \"#e6f5d0\"], [0.7, \"#b8e186\"], [0.8, \"#7fbc41\"], [0.9, \"#4d9221\"], [1, \"#276419\"]], \"sequential\": [[0.0, \"#0d0887\"], [0.1111111111111111, \"#46039f\"], [0.2222222222222222, \"#7201a8\"], [0.3333333333333333, \"#9c179e\"], [0.4444444444444444, \"#bd3786\"], [0.5555555555555556, \"#d8576b\"], [0.6666666666666666, \"#ed7953\"], [0.7777777777777778, \"#fb9f3a\"], [0.8888888888888888, \"#fdca26\"], [1.0, \"#f0f921\"]], \"sequentialminus\": [[0.0, \"#0d0887\"], [0.1111111111111111, \"#46039f\"], [0.2222222222222222, \"#7201a8\"], [0.3333333333333333, \"#9c179e\"], [0.4444444444444444, \"#bd3786\"], [0.5555555555555556, \"#d8576b\"], [0.6666666666666666, \"#ed7953\"], [0.7777777777777778, \"#fb9f3a\"], [0.8888888888888888, \"#fdca26\"], [1.0, \"#f0f921\"]]}, \"colorway\": [\"#636efa\", \"#EF553B\", \"#00cc96\", \"#ab63fa\", \"#FFA15A\", \"#19d3f3\", \"#FF6692\", \"#B6E880\", \"#FF97FF\", \"#FECB52\"], \"font\": {\"color\": \"#2a3f5f\"}, \"geo\": {\"bgcolor\": \"white\", \"lakecolor\": \"white\", \"landcolor\": \"#E5ECF6\", \"showlakes\": true, \"showland\": true, \"subunitcolor\": \"white\"}, \"hoverlabel\": {\"align\": \"left\"}, \"hovermode\": \"closest\", \"mapbox\": {\"style\": \"light\"}, \"paper_bgcolor\": \"white\", \"plot_bgcolor\": \"#E5ECF6\", \"polar\": {\"angularaxis\": {\"gridcolor\": \"white\", \"linecolor\": \"white\", \"ticks\": \"\"}, \"bgcolor\": \"#E5ECF6\", \"radialaxis\": {\"gridcolor\": \"white\", \"linecolor\": \"white\", \"ticks\": \"\"}}, \"scene\": {\"xaxis\": {\"backgroundcolor\": \"#E5ECF6\", \"gridcolor\": \"white\", \"gridwidth\": 2, \"linecolor\": \"white\", \"showbackground\": true, \"ticks\": \"\", \"zerolinecolor\": \"white\"}, \"yaxis\": {\"backgroundcolor\": \"#E5ECF6\", \"gridcolor\": \"white\", \"gridwidth\": 2, \"linecolor\": \"white\", \"showbackground\": true, \"ticks\": \"\", \"zerolinecolor\": \"white\"}, \"zaxis\": {\"backgroundcolor\": \"#E5ECF6\", \"gridcolor\": \"white\", \"gridwidth\": 2, \"linecolor\": \"white\", \"showbackground\": true, \"ticks\": \"\", \"zerolinecolor\": \"white\"}}, \"shapedefaults\": {\"line\": {\"color\": \"#2a3f5f\"}}, \"ternary\": {\"aaxis\": {\"gridcolor\": \"white\", \"linecolor\": \"white\", \"ticks\": \"\"}, \"baxis\": {\"gridcolor\": \"white\", \"linecolor\": \"white\", \"ticks\": \"\"}, \"bgcolor\": \"#E5ECF6\", \"caxis\": {\"gridcolor\": \"white\", \"linecolor\": \"white\", \"ticks\": \"\"}}, \"title\": {\"x\": 0.05}, \"xaxis\": {\"automargin\": true, \"gridcolor\": \"white\", \"linecolor\": \"white\", \"ticks\": \"\", \"title\": {\"standoff\": 15}, \"zerolinecolor\": \"white\", \"zerolinewidth\": 2}, \"yaxis\": {\"automargin\": true, \"gridcolor\": \"white\", \"linecolor\": \"white\", \"ticks\": \"\", \"title\": {\"standoff\": 15}, \"zerolinecolor\": \"white\", \"zerolinewidth\": 2}}}, \"title\": {\"text\": \"Calories vs Carbohydrate in 1993 and 2020\"}, \"xaxis\": {\"anchor\": \"y\", \"domain\": [0.0, 0.45], \"title\": {\"text\": \"Carbohydrate\"}}, \"xaxis2\": {\"anchor\": \"y2\", \"domain\": [0.55, 1.0], \"title\": {\"text\": \"Carbohydrate\"}}, \"yaxis\": {\"anchor\": \"x\", \"domain\": [0.0, 1.0], \"title\": {\"text\": \"Calories\"}}, \"yaxis2\": {\"anchor\": \"x2\", \"domain\": [0.0, 1.0], \"matches\": \"y\", \"showticklabels\": false}},                        {\"responsive\": true}                    ).then(function(){\n",
       "                            \n",
       "var gd = document.getElementById('0d9f52c4-2ca3-44f6-af49-bcd722fc7c9d');\n",
       "var x = new MutationObserver(function (mutations, observer) {{\n",
       "        var display = window.getComputedStyle(gd).display;\n",
       "        if (!display || display === 'none') {{\n",
       "            console.log([gd, 'removed!']);\n",
       "            Plotly.purge(gd);\n",
       "            observer.disconnect();\n",
       "        }}\n",
       "}});\n",
       "\n",
       "// Listen for the removal of the full notebook cells\n",
       "var notebookContainer = gd.closest('#notebook-container');\n",
       "if (notebookContainer) {{\n",
       "    x.observe(notebookContainer, {childList: true});\n",
       "}}\n",
       "\n",
       "// Listen for the clearing of the current output cell\n",
       "var outputEl = gd.closest('.output');\n",
       "if (outputEl) {{\n",
       "    x.observe(outputEl, {childList: true});\n",
       "}}\n",
       "\n",
       "                        })                };                });            </script>        </div>"
      ]
     },
     "metadata": {},
     "output_type": "display_data"
    },
    {
     "data": {
      "application/vnd.plotly.v1+json": {
       "config": {
        "plotlyServerURL": "https://plotly.com"
       },
       "data": [
        {
         "marker": {
          "line": {
           "width": 2
          },
          "size": 5
         },
         "mode": "markers",
         "name": "1993",
         "text": [
          "100% Bran",
          "100% Natural Bran",
          "All-Bran",
          "All-Bran with Extra Fiber",
          "Almond Delight",
          "Apple Cinnamon Cheerios",
          "Apple Jacks",
          "Basic 4",
          "Bran Chex",
          "Bran Flakes",
          "Cap'n'Crunch",
          "Cheerios",
          "Cinnamon Toast Crunch",
          "Clusters",
          "Cocoa Puffs",
          "Corn Chex",
          "Corn Flakes",
          "Corn Pops",
          "Count Chocula",
          "Cracklin' Oat Bran",
          "Cream of Wheat (Quick)",
          "Crispix",
          "Crispy Wheat & Raisins",
          "Double Chex",
          "Froot Loops",
          "Frosted Flakes",
          "Frosted Mini-Wheats",
          "Fruit & Fibre Dates",
          "Fruitful Bran",
          "Fruity Pebbles",
          "Golden Crisp",
          "Golden Grahams",
          "Grape Nuts Flakes",
          "Grape-Nuts",
          "Great Grains Pecan",
          "Honey Graham Ohs",
          "Honey Nut Cheerios",
          "Honey-comb",
          "Just Right Crunchy  Nuggets",
          "Just Right Fruit & Nut",
          "Kix",
          "Life",
          "Lucky Charms",
          "Maypo",
          "Dates & Almonds",
          "Peaches & Pecans",
          "Mueslix Crispy Blend",
          "Multi-Grain Cheerios",
          "Nut&Honey Crunch",
          "Nutri-Grain Almond-Raisin",
          "Nutri-grain Wheat",
          "Oatmeal Raisin Crisp",
          "Post Nat. Raisin Bran",
          "Product 19",
          "Puffed Rice",
          "Puffed Wheat",
          "Quaker Oat Squares",
          "Quaker Oatmeal",
          "Raisin Bran",
          "Raisin Nut Bran",
          "Raisin Squares",
          "Rice Chex",
          "Rice Krispies",
          "Shredded Wheat",
          "Shredded Wheat 'n'Bran",
          "Shredded Wheat spoon size",
          "Smacks",
          "Special K",
          "Strawberry Fruit Wheats",
          "Total Corn Flakes",
          "Total Raisin Bran",
          "Total Whole Grain",
          "Triples",
          "Trix",
          "Walnuts & Oats",
          "Wheat Chex",
          "Wheaties"
         ],
         "type": "scatter",
         "x": [
          6,
          8,
          5,
          0,
          8,
          10,
          14,
          6,
          6,
          5,
          12,
          1,
          9,
          7,
          13,
          3,
          2,
          12,
          13,
          7,
          0,
          3,
          10,
          5,
          13,
          11,
          7,
          8,
          9,
          12,
          15,
          9,
          5,
          3,
          4,
          11,
          10,
          11,
          6,
          7,
          3,
          6,
          12,
          3,
          11,
          11,
          9,
          6,
          9,
          5,
          2,
          8,
          11,
          3,
          0,
          0,
          6,
          -1,
          9,
          8,
          6,
          2,
          3,
          0,
          0,
          0,
          15,
          3,
          5,
          3,
          9,
          3,
          3,
          12,
          8,
          3,
          3
         ],
         "xaxis": "x",
         "y": [
          70,
          120,
          70,
          50,
          110,
          110,
          110,
          98,
          90,
          90,
          120,
          110,
          120,
          110,
          110,
          110,
          100,
          110,
          110,
          110,
          100,
          110,
          100,
          100,
          110,
          110,
          100,
          96,
          90,
          110,
          100,
          110,
          100,
          110,
          120,
          120,
          110,
          110,
          110,
          108,
          110,
          100,
          110,
          100,
          150,
          150,
          107,
          100,
          120,
          105,
          90,
          104,
          90,
          100,
          100,
          100,
          100,
          100,
          90,
          100,
          90,
          110,
          110,
          96,
          90,
          90,
          110,
          110,
          90,
          110,
          93,
          100,
          110,
          110,
          96,
          100,
          100
         ],
         "yaxis": "y"
        },
        {
         "marker": {
          "line": {
           "width": 2
          },
          "size": 5
         },
         "mode": "markers",
         "name": "Regression Fit",
         "type": "scatter",
         "x": [
          -1,
          -0.8383838383838383,
          -0.6767676767676767,
          -0.5151515151515151,
          -0.3535353535353535,
          -0.19191919191919182,
          -0.030303030303030276,
          0.1313131313131315,
          0.29292929292929304,
          0.4545454545454546,
          0.6161616161616164,
          0.7777777777777779,
          0.9393939393939394,
          1.1010101010101012,
          1.262626262626263,
          1.4242424242424243,
          1.585858585858586,
          1.7474747474747478,
          1.9090909090909092,
          2.070707070707071,
          2.2323232323232327,
          2.393939393939394,
          2.555555555555556,
          2.7171717171717176,
          2.878787878787879,
          3.0404040404040407,
          3.2020202020202024,
          3.363636363636364,
          3.525252525252526,
          3.686868686868687,
          3.8484848484848486,
          4.01010101010101,
          4.171717171717172,
          4.333333333333334,
          4.494949494949496,
          4.6565656565656575,
          4.818181818181818,
          4.97979797979798,
          5.141414141414142,
          5.303030303030304,
          5.464646464646465,
          5.626262626262627,
          5.787878787878788,
          5.94949494949495,
          6.111111111111112,
          6.272727272727273,
          6.434343434343435,
          6.595959595959597,
          6.757575757575758,
          6.91919191919192,
          7.080808080808081,
          7.242424242424244,
          7.404040404040405,
          7.565656565656566,
          7.727272727272728,
          7.888888888888889,
          8.050505050505052,
          8.212121212121213,
          8.373737373737374,
          8.535353535353536,
          8.696969696969697,
          8.85858585858586,
          9.02020202020202,
          9.181818181818183,
          9.343434343434344,
          9.505050505050505,
          9.666666666666668,
          9.828282828282829,
          9.989898989898991,
          10.151515151515152,
          10.313131313131315,
          10.474747474747476,
          10.636363636363637,
          10.7979797979798,
          10.95959595959596,
          11.121212121212123,
          11.282828282828284,
          11.444444444444445,
          11.606060606060607,
          11.767676767676768,
          11.92929292929293,
          12.090909090909092,
          12.252525252525254,
          12.414141414141415,
          12.575757575757576,
          12.737373737373739,
          12.8989898989899,
          13.060606060606062,
          13.222222222222223,
          13.383838383838386,
          13.545454545454547,
          13.707070707070708,
          13.86868686868687,
          14.030303030303031,
          14.191919191919194,
          14.353535353535355,
          14.515151515151516,
          14.676767676767678,
          14.83838383838384,
          15
         ],
         "xaxis": "x",
         "y": [
          94.43368582737638,
          94.63406937176654,
          94.83445291615669,
          95.03483646054686,
          95.23522000493702,
          95.43560354932718,
          95.63598709371735,
          95.8363706381075,
          96.03675418249766,
          96.23713772688782,
          96.43752127127799,
          96.63790481566815,
          96.8382883600583,
          97.03867190444846,
          97.23905544883863,
          97.43943899322879,
          97.63982253761895,
          97.84020608200912,
          98.04058962639927,
          98.24097317078943,
          98.4413567151796,
          98.64174025956976,
          98.84212380395992,
          99.04250734835009,
          99.24289089274023,
          99.4432744371304,
          99.64365798152056,
          99.84404152591073,
          100.04442507030089,
          100.24480861469104,
          100.4451921590812,
          100.64557570347137,
          100.84595924786153,
          101.04634279225169,
          101.24672633664184,
          101.447109881032,
          101.64749342542217,
          101.84787696981233,
          102.0482605142025,
          102.24864405859266,
          102.44902760298281,
          102.64941114737297,
          102.84979469176314,
          103.0501782361533,
          103.25056178054346,
          103.45094532493361,
          103.65132886932378,
          103.85171241371394,
          104.0520959581041,
          104.25247950249427,
          104.45286304688443,
          104.65324659127458,
          104.85363013566474,
          105.05401368005491,
          105.25439722444507,
          105.45478076883523,
          105.65516431322538,
          105.85554785761555,
          106.05593140200571,
          106.25631494639588,
          106.45669849078604,
          106.6570820351762,
          106.85746557956635,
          107.05784912395652,
          107.25823266834668,
          107.45861621273684,
          107.658999757127,
          107.85938330151716,
          108.05976684590732,
          108.26015039029748,
          108.46053393468765,
          108.66091747907781,
          108.86130102346797,
          109.06168456785812,
          109.26206811224829,
          109.46245165663845,
          109.66283520102861,
          109.86321874541878,
          110.06360228980893,
          110.26398583419909,
          110.46436937858925,
          110.66475292297942,
          110.86513646736958,
          111.06552001175973,
          111.2659035561499,
          111.46628710054006,
          111.66667064493022,
          111.86705418932038,
          112.06743773371053,
          112.26782127810071,
          112.46820482249086,
          112.66858836688102,
          112.86897191127119,
          113.06935545566135,
          113.26973900005152,
          113.47012254444167,
          113.67050608883183,
          113.87088963322199,
          114.07127317761216,
          114.27165672200232
         ],
         "yaxis": "y"
        },
        {
         "marker": {
          "line": {
           "width": 2
          },
          "size": 5
         },
         "mode": "markers",
         "name": "2020",
         "text": [
          "Wheaties Honey Gold",
          "All-Bran Complete Wheat Flakes Cereal",
          "Eggo",
          "Honey Smacks",
          "Krave Double Chocolate",
          "Peeps",
          "Smart Start",
          "Annie's Whole Grain Cereal",
          "Cascadian Farm Organic Raisin Bran",
          "Cheerios Multi Grain",
          "Chex Wheat Cereal",
          "Cookie Crisp",
          "Dunkaroos",
          "Fiber One",
          "Good Belly",
          "Larabar (Peanut Butter)",
          "Oatmeal Crisp",
          "Wonderworks (Peanut Butter)",
          "Ahold 100% Whole Grain",
          "Hannaford Frosted Flakes",
          "Martin's Food Lion",
          "Hannaford Tasteeos Cereal",
          "Ahold Vanilla Almond Cereal",
          "Kelloggs Special Fruit & Yogurt",
          "Kelloggs Special Original Cereal",
          "Quaker Life Cinnamon Multigrain",
          "Quaker Life Original Multigrain",
          "Quaker Life Ltd. Edition, Pumpkin Spice",
          "All-Bran",
          "Apple Jacks",
          "Basic 4",
          "Cocoa Puffs",
          "Corn Flakes",
          "Corn Pops",
          "Cracklin' Oat Bran",
          "Crispix",
          "Froot Loops",
          "Frosted Flakes",
          "Golden Grahams",
          "Kix",
          "Oatmeal Raisin Crisp",
          "Raisin Bran",
          "Raisin Nut Bran",
          "Rice Krispies",
          "Special K",
          "Total Whole Grain",
          "Trix",
          "Wheaties"
         ],
         "type": "scatter",
         "x": [
          8,
          5,
          10,
          14,
          11,
          13,
          8,
          7,
          7,
          6,
          3,
          9,
          10,
          0,
          7,
          5,
          6,
          1,
          0,
          10,
          4,
          1,
          8,
          9,
          3,
          6,
          6,
          4,
          5,
          10,
          6,
          9,
          3,
          11,
          8,
          4,
          9,
          9,
          9,
          3,
          6,
          9,
          8,
          3,
          4,
          4,
          9,
          4
         ],
         "xaxis": "x2",
         "y": [
          110,
          120,
          160,
          130,
          170,
          110,
          240,
          160,
          210,
          150,
          210,
          140,
          150,
          90,
          170,
          280,
          230,
          160,
          170,
          150,
          120,
          111,
          104,
          111,
          97,
          83,
          111,
          83,
          92,
          109,
          103,
          110,
          101,
          106,
          116,
          109,
          109,
          100,
          106,
          113,
          109,
          91,
          105,
          106,
          109,
          128,
          116,
          102
         ],
         "yaxis": "y2"
        },
        {
         "marker": {
          "line": {
           "width": 2
          },
          "size": 5
         },
         "mode": "markers",
         "name": "Regression Fit",
         "type": "scatter",
         "x": [
          0,
          0.1414141414141414,
          0.2828282828282828,
          0.4242424242424242,
          0.5656565656565656,
          0.7070707070707071,
          0.8484848484848484,
          0.9898989898989898,
          1.1313131313131313,
          1.2727272727272727,
          1.4141414141414141,
          1.5555555555555556,
          1.6969696969696968,
          1.8383838383838382,
          1.9797979797979797,
          2.121212121212121,
          2.2626262626262625,
          2.404040404040404,
          2.5454545454545454,
          2.686868686868687,
          2.8282828282828283,
          2.9696969696969697,
          3.111111111111111,
          3.2525252525252526,
          3.3939393939393936,
          3.535353535353535,
          3.6767676767676765,
          3.818181818181818,
          3.9595959595959593,
          4.101010101010101,
          4.242424242424242,
          4.383838383838384,
          4.525252525252525,
          4.666666666666666,
          4.808080808080808,
          4.949494949494949,
          5.090909090909091,
          5.232323232323232,
          5.373737373737374,
          5.515151515151515,
          5.656565656565657,
          5.797979797979798,
          5.9393939393939394,
          6.08080808080808,
          6.222222222222222,
          6.363636363636363,
          6.505050505050505,
          6.646464646464646,
          6.787878787878787,
          6.929292929292929,
          7.07070707070707,
          7.212121212121212,
          7.353535353535353,
          7.494949494949495,
          7.636363636363636,
          7.777777777777778,
          7.919191919191919,
          8.06060606060606,
          8.202020202020202,
          8.343434343434343,
          8.484848484848484,
          8.626262626262626,
          8.767676767676768,
          8.909090909090908,
          9.05050505050505,
          9.191919191919192,
          9.333333333333332,
          9.474747474747474,
          9.616161616161616,
          9.757575757575758,
          9.898989898989898,
          10.04040404040404,
          10.181818181818182,
          10.323232323232324,
          10.464646464646464,
          10.606060606060606,
          10.747474747474747,
          10.88888888888889,
          11.03030303030303,
          11.171717171717171,
          11.313131313131313,
          11.454545454545453,
          11.595959595959595,
          11.737373737373737,
          11.878787878787879,
          12.020202020202019,
          12.16161616161616,
          12.303030303030303,
          12.444444444444445,
          12.585858585858585,
          12.727272727272727,
          12.868686868686869,
          13.01010101010101,
          13.15151515151515,
          13.292929292929292,
          13.434343434343434,
          13.575757575757574,
          13.717171717171716,
          13.858585858585858,
          14
         ],
         "xaxis": "x2",
         "y": [
          130.3806242736178,
          130.3859070532655,
          130.39118983291323,
          130.39647261256093,
          130.40175539220866,
          130.40703817185636,
          130.41232095150409,
          130.4176037311518,
          130.42288651079951,
          130.42816929044722,
          130.43345207009494,
          130.43873484974264,
          130.44401762939037,
          130.44930040903807,
          130.4545831886858,
          130.4598659683335,
          130.46514874798123,
          130.47043152762893,
          130.47571430727666,
          130.48099708692436,
          130.4862798665721,
          130.4915626462198,
          130.49684542586752,
          130.50212820551522,
          130.50741098516295,
          130.51269376481065,
          130.51797654445835,
          130.52325932410608,
          130.52854210375378,
          130.5338248834015,
          130.5391076630492,
          130.54439044269694,
          130.54967322234464,
          130.55495600199237,
          130.56023878164007,
          130.5655215612878,
          130.5708043409355,
          130.57608712058322,
          130.58136990023092,
          130.58665267987865,
          130.59193545952635,
          130.59721823917408,
          130.60250101882178,
          130.6077837984695,
          130.6130665781172,
          130.61834935776494,
          130.62363213741264,
          130.62891491706037,
          130.63419769670807,
          130.6394804763558,
          130.6447632560035,
          130.65004603565123,
          130.65532881529893,
          130.66061159494663,
          130.66589437459436,
          130.67117715424206,
          130.6764599338898,
          130.6817427135375,
          130.68702549318522,
          130.69230827283292,
          130.69759105248065,
          130.70287383212835,
          130.70815661177608,
          130.71343939142378,
          130.7187221710715,
          130.7240049507192,
          130.72928773036693,
          130.73457051001463,
          130.73985328966236,
          130.74513606931006,
          130.7504188489578,
          130.7557016286055,
          130.76098440825322,
          130.76626718790092,
          130.77154996754865,
          130.77683274719635,
          130.78211552684408,
          130.78739830649178,
          130.79268108613948,
          130.7979638657872,
          130.8032466454349,
          130.80852942508264,
          130.81381220473034,
          130.81909498437807,
          130.82437776402577,
          130.8296605436735,
          130.8349433233212,
          130.84022610296893,
          130.84550888261663,
          130.85079166226436,
          130.85607444191206,
          130.86135722155979,
          130.8666400012075,
          130.87192278085521,
          130.87720556050292,
          130.88248834015064,
          130.88777111979834,
          130.89305389944607,
          130.89833667909377,
          130.9036194587415
         ],
         "yaxis": "y2"
        }
       ],
       "layout": {
        "annotations": [
         {
          "font": {
           "size": 16
          },
          "showarrow": false,
          "text": "1993",
          "x": 0.225,
          "xanchor": "center",
          "xref": "paper",
          "y": 1,
          "yanchor": "bottom",
          "yref": "paper"
         },
         {
          "font": {
           "size": 16
          },
          "showarrow": false,
          "text": "2020",
          "x": 0.775,
          "xanchor": "center",
          "xref": "paper",
          "y": 1,
          "yanchor": "bottom",
          "yref": "paper"
         }
        ],
        "showlegend": false,
        "template": {
         "data": {
          "bar": [
           {
            "error_x": {
             "color": "#2a3f5f"
            },
            "error_y": {
             "color": "#2a3f5f"
            },
            "marker": {
             "line": {
              "color": "#E5ECF6",
              "width": 0.5
             }
            },
            "type": "bar"
           }
          ],
          "barpolar": [
           {
            "marker": {
             "line": {
              "color": "#E5ECF6",
              "width": 0.5
             }
            },
            "type": "barpolar"
           }
          ],
          "carpet": [
           {
            "aaxis": {
             "endlinecolor": "#2a3f5f",
             "gridcolor": "white",
             "linecolor": "white",
             "minorgridcolor": "white",
             "startlinecolor": "#2a3f5f"
            },
            "baxis": {
             "endlinecolor": "#2a3f5f",
             "gridcolor": "white",
             "linecolor": "white",
             "minorgridcolor": "white",
             "startlinecolor": "#2a3f5f"
            },
            "type": "carpet"
           }
          ],
          "choropleth": [
           {
            "colorbar": {
             "outlinewidth": 0,
             "ticks": ""
            },
            "type": "choropleth"
           }
          ],
          "contour": [
           {
            "colorbar": {
             "outlinewidth": 0,
             "ticks": ""
            },
            "colorscale": [
             [
              0,
              "#0d0887"
             ],
             [
              0.1111111111111111,
              "#46039f"
             ],
             [
              0.2222222222222222,
              "#7201a8"
             ],
             [
              0.3333333333333333,
              "#9c179e"
             ],
             [
              0.4444444444444444,
              "#bd3786"
             ],
             [
              0.5555555555555556,
              "#d8576b"
             ],
             [
              0.6666666666666666,
              "#ed7953"
             ],
             [
              0.7777777777777778,
              "#fb9f3a"
             ],
             [
              0.8888888888888888,
              "#fdca26"
             ],
             [
              1,
              "#f0f921"
             ]
            ],
            "type": "contour"
           }
          ],
          "contourcarpet": [
           {
            "colorbar": {
             "outlinewidth": 0,
             "ticks": ""
            },
            "type": "contourcarpet"
           }
          ],
          "heatmap": [
           {
            "colorbar": {
             "outlinewidth": 0,
             "ticks": ""
            },
            "colorscale": [
             [
              0,
              "#0d0887"
             ],
             [
              0.1111111111111111,
              "#46039f"
             ],
             [
              0.2222222222222222,
              "#7201a8"
             ],
             [
              0.3333333333333333,
              "#9c179e"
             ],
             [
              0.4444444444444444,
              "#bd3786"
             ],
             [
              0.5555555555555556,
              "#d8576b"
             ],
             [
              0.6666666666666666,
              "#ed7953"
             ],
             [
              0.7777777777777778,
              "#fb9f3a"
             ],
             [
              0.8888888888888888,
              "#fdca26"
             ],
             [
              1,
              "#f0f921"
             ]
            ],
            "type": "heatmap"
           }
          ],
          "heatmapgl": [
           {
            "colorbar": {
             "outlinewidth": 0,
             "ticks": ""
            },
            "colorscale": [
             [
              0,
              "#0d0887"
             ],
             [
              0.1111111111111111,
              "#46039f"
             ],
             [
              0.2222222222222222,
              "#7201a8"
             ],
             [
              0.3333333333333333,
              "#9c179e"
             ],
             [
              0.4444444444444444,
              "#bd3786"
             ],
             [
              0.5555555555555556,
              "#d8576b"
             ],
             [
              0.6666666666666666,
              "#ed7953"
             ],
             [
              0.7777777777777778,
              "#fb9f3a"
             ],
             [
              0.8888888888888888,
              "#fdca26"
             ],
             [
              1,
              "#f0f921"
             ]
            ],
            "type": "heatmapgl"
           }
          ],
          "histogram": [
           {
            "marker": {
             "colorbar": {
              "outlinewidth": 0,
              "ticks": ""
             }
            },
            "type": "histogram"
           }
          ],
          "histogram2d": [
           {
            "colorbar": {
             "outlinewidth": 0,
             "ticks": ""
            },
            "colorscale": [
             [
              0,
              "#0d0887"
             ],
             [
              0.1111111111111111,
              "#46039f"
             ],
             [
              0.2222222222222222,
              "#7201a8"
             ],
             [
              0.3333333333333333,
              "#9c179e"
             ],
             [
              0.4444444444444444,
              "#bd3786"
             ],
             [
              0.5555555555555556,
              "#d8576b"
             ],
             [
              0.6666666666666666,
              "#ed7953"
             ],
             [
              0.7777777777777778,
              "#fb9f3a"
             ],
             [
              0.8888888888888888,
              "#fdca26"
             ],
             [
              1,
              "#f0f921"
             ]
            ],
            "type": "histogram2d"
           }
          ],
          "histogram2dcontour": [
           {
            "colorbar": {
             "outlinewidth": 0,
             "ticks": ""
            },
            "colorscale": [
             [
              0,
              "#0d0887"
             ],
             [
              0.1111111111111111,
              "#46039f"
             ],
             [
              0.2222222222222222,
              "#7201a8"
             ],
             [
              0.3333333333333333,
              "#9c179e"
             ],
             [
              0.4444444444444444,
              "#bd3786"
             ],
             [
              0.5555555555555556,
              "#d8576b"
             ],
             [
              0.6666666666666666,
              "#ed7953"
             ],
             [
              0.7777777777777778,
              "#fb9f3a"
             ],
             [
              0.8888888888888888,
              "#fdca26"
             ],
             [
              1,
              "#f0f921"
             ]
            ],
            "type": "histogram2dcontour"
           }
          ],
          "mesh3d": [
           {
            "colorbar": {
             "outlinewidth": 0,
             "ticks": ""
            },
            "type": "mesh3d"
           }
          ],
          "parcoords": [
           {
            "line": {
             "colorbar": {
              "outlinewidth": 0,
              "ticks": ""
             }
            },
            "type": "parcoords"
           }
          ],
          "pie": [
           {
            "automargin": true,
            "type": "pie"
           }
          ],
          "scatter": [
           {
            "marker": {
             "colorbar": {
              "outlinewidth": 0,
              "ticks": ""
             }
            },
            "type": "scatter"
           }
          ],
          "scatter3d": [
           {
            "line": {
             "colorbar": {
              "outlinewidth": 0,
              "ticks": ""
             }
            },
            "marker": {
             "colorbar": {
              "outlinewidth": 0,
              "ticks": ""
             }
            },
            "type": "scatter3d"
           }
          ],
          "scattercarpet": [
           {
            "marker": {
             "colorbar": {
              "outlinewidth": 0,
              "ticks": ""
             }
            },
            "type": "scattercarpet"
           }
          ],
          "scattergeo": [
           {
            "marker": {
             "colorbar": {
              "outlinewidth": 0,
              "ticks": ""
             }
            },
            "type": "scattergeo"
           }
          ],
          "scattergl": [
           {
            "marker": {
             "colorbar": {
              "outlinewidth": 0,
              "ticks": ""
             }
            },
            "type": "scattergl"
           }
          ],
          "scattermapbox": [
           {
            "marker": {
             "colorbar": {
              "outlinewidth": 0,
              "ticks": ""
             }
            },
            "type": "scattermapbox"
           }
          ],
          "scatterpolar": [
           {
            "marker": {
             "colorbar": {
              "outlinewidth": 0,
              "ticks": ""
             }
            },
            "type": "scatterpolar"
           }
          ],
          "scatterpolargl": [
           {
            "marker": {
             "colorbar": {
              "outlinewidth": 0,
              "ticks": ""
             }
            },
            "type": "scatterpolargl"
           }
          ],
          "scatterternary": [
           {
            "marker": {
             "colorbar": {
              "outlinewidth": 0,
              "ticks": ""
             }
            },
            "type": "scatterternary"
           }
          ],
          "surface": [
           {
            "colorbar": {
             "outlinewidth": 0,
             "ticks": ""
            },
            "colorscale": [
             [
              0,
              "#0d0887"
             ],
             [
              0.1111111111111111,
              "#46039f"
             ],
             [
              0.2222222222222222,
              "#7201a8"
             ],
             [
              0.3333333333333333,
              "#9c179e"
             ],
             [
              0.4444444444444444,
              "#bd3786"
             ],
             [
              0.5555555555555556,
              "#d8576b"
             ],
             [
              0.6666666666666666,
              "#ed7953"
             ],
             [
              0.7777777777777778,
              "#fb9f3a"
             ],
             [
              0.8888888888888888,
              "#fdca26"
             ],
             [
              1,
              "#f0f921"
             ]
            ],
            "type": "surface"
           }
          ],
          "table": [
           {
            "cells": {
             "fill": {
              "color": "#EBF0F8"
             },
             "line": {
              "color": "white"
             }
            },
            "header": {
             "fill": {
              "color": "#C8D4E3"
             },
             "line": {
              "color": "white"
             }
            },
            "type": "table"
           }
          ]
         },
         "layout": {
          "annotationdefaults": {
           "arrowcolor": "#2a3f5f",
           "arrowhead": 0,
           "arrowwidth": 1
          },
          "coloraxis": {
           "colorbar": {
            "outlinewidth": 0,
            "ticks": ""
           }
          },
          "colorscale": {
           "diverging": [
            [
             0,
             "#8e0152"
            ],
            [
             0.1,
             "#c51b7d"
            ],
            [
             0.2,
             "#de77ae"
            ],
            [
             0.3,
             "#f1b6da"
            ],
            [
             0.4,
             "#fde0ef"
            ],
            [
             0.5,
             "#f7f7f7"
            ],
            [
             0.6,
             "#e6f5d0"
            ],
            [
             0.7,
             "#b8e186"
            ],
            [
             0.8,
             "#7fbc41"
            ],
            [
             0.9,
             "#4d9221"
            ],
            [
             1,
             "#276419"
            ]
           ],
           "sequential": [
            [
             0,
             "#0d0887"
            ],
            [
             0.1111111111111111,
             "#46039f"
            ],
            [
             0.2222222222222222,
             "#7201a8"
            ],
            [
             0.3333333333333333,
             "#9c179e"
            ],
            [
             0.4444444444444444,
             "#bd3786"
            ],
            [
             0.5555555555555556,
             "#d8576b"
            ],
            [
             0.6666666666666666,
             "#ed7953"
            ],
            [
             0.7777777777777778,
             "#fb9f3a"
            ],
            [
             0.8888888888888888,
             "#fdca26"
            ],
            [
             1,
             "#f0f921"
            ]
           ],
           "sequentialminus": [
            [
             0,
             "#0d0887"
            ],
            [
             0.1111111111111111,
             "#46039f"
            ],
            [
             0.2222222222222222,
             "#7201a8"
            ],
            [
             0.3333333333333333,
             "#9c179e"
            ],
            [
             0.4444444444444444,
             "#bd3786"
            ],
            [
             0.5555555555555556,
             "#d8576b"
            ],
            [
             0.6666666666666666,
             "#ed7953"
            ],
            [
             0.7777777777777778,
             "#fb9f3a"
            ],
            [
             0.8888888888888888,
             "#fdca26"
            ],
            [
             1,
             "#f0f921"
            ]
           ]
          },
          "colorway": [
           "#636efa",
           "#EF553B",
           "#00cc96",
           "#ab63fa",
           "#FFA15A",
           "#19d3f3",
           "#FF6692",
           "#B6E880",
           "#FF97FF",
           "#FECB52"
          ],
          "font": {
           "color": "#2a3f5f"
          },
          "geo": {
           "bgcolor": "white",
           "lakecolor": "white",
           "landcolor": "#E5ECF6",
           "showlakes": true,
           "showland": true,
           "subunitcolor": "white"
          },
          "hoverlabel": {
           "align": "left"
          },
          "hovermode": "closest",
          "mapbox": {
           "style": "light"
          },
          "paper_bgcolor": "white",
          "plot_bgcolor": "#E5ECF6",
          "polar": {
           "angularaxis": {
            "gridcolor": "white",
            "linecolor": "white",
            "ticks": ""
           },
           "bgcolor": "#E5ECF6",
           "radialaxis": {
            "gridcolor": "white",
            "linecolor": "white",
            "ticks": ""
           }
          },
          "scene": {
           "xaxis": {
            "backgroundcolor": "#E5ECF6",
            "gridcolor": "white",
            "gridwidth": 2,
            "linecolor": "white",
            "showbackground": true,
            "ticks": "",
            "zerolinecolor": "white"
           },
           "yaxis": {
            "backgroundcolor": "#E5ECF6",
            "gridcolor": "white",
            "gridwidth": 2,
            "linecolor": "white",
            "showbackground": true,
            "ticks": "",
            "zerolinecolor": "white"
           },
           "zaxis": {
            "backgroundcolor": "#E5ECF6",
            "gridcolor": "white",
            "gridwidth": 2,
            "linecolor": "white",
            "showbackground": true,
            "ticks": "",
            "zerolinecolor": "white"
           }
          },
          "shapedefaults": {
           "line": {
            "color": "#2a3f5f"
           }
          },
          "ternary": {
           "aaxis": {
            "gridcolor": "white",
            "linecolor": "white",
            "ticks": ""
           },
           "baxis": {
            "gridcolor": "white",
            "linecolor": "white",
            "ticks": ""
           },
           "bgcolor": "#E5ECF6",
           "caxis": {
            "gridcolor": "white",
            "linecolor": "white",
            "ticks": ""
           }
          },
          "title": {
           "x": 0.05
          },
          "xaxis": {
           "automargin": true,
           "gridcolor": "white",
           "linecolor": "white",
           "ticks": "",
           "title": {
            "standoff": 15
           },
           "zerolinecolor": "white",
           "zerolinewidth": 2
          },
          "yaxis": {
           "automargin": true,
           "gridcolor": "white",
           "linecolor": "white",
           "ticks": "",
           "title": {
            "standoff": 15
           },
           "zerolinecolor": "white",
           "zerolinewidth": 2
          }
         }
        },
        "title": {
         "text": "Calories vs Sugar in 1993 and 2020"
        },
        "xaxis": {
         "anchor": "y",
         "domain": [
          0,
          0.45
         ],
         "title": {
          "text": "Sugar"
         }
        },
        "xaxis2": {
         "anchor": "y2",
         "domain": [
          0.55,
          1
         ],
         "title": {
          "text": "Sugar"
         }
        },
        "yaxis": {
         "anchor": "x",
         "domain": [
          0,
          1
         ],
         "title": {
          "text": "Calories"
         }
        },
        "yaxis2": {
         "anchor": "x2",
         "domain": [
          0,
          1
         ],
         "matches": "y",
         "showticklabels": false
        }
       }
      },
      "text/html": [
       "<div>                            <div id=\"52a5d63c-a854-4770-887f-7a75e10c3040\" class=\"plotly-graph-div\" style=\"height:525px; width:100%;\"></div>            <script type=\"text/javascript\">                require([\"plotly\"], function(Plotly) {                    window.PLOTLYENV=window.PLOTLYENV || {};                                    if (document.getElementById(\"52a5d63c-a854-4770-887f-7a75e10c3040\")) {                    Plotly.newPlot(                        \"52a5d63c-a854-4770-887f-7a75e10c3040\",                        [{\"marker\": {\"line\": {\"width\": 2}, \"size\": 5}, \"mode\": \"markers\", \"name\": \"1993\", \"text\": [\"100% Bran\", \"100% Natural Bran\", \"All-Bran\", \"All-Bran with Extra Fiber\", \"Almond Delight\", \"Apple Cinnamon Cheerios\", \"Apple Jacks\", \"Basic 4\", \"Bran Chex\", \"Bran Flakes\", \"Cap'n'Crunch\", \"Cheerios\", \"Cinnamon Toast Crunch\", \"Clusters\", \"Cocoa Puffs\", \"Corn Chex\", \"Corn Flakes\", \"Corn Pops\", \"Count Chocula\", \"Cracklin' Oat Bran\", \"Cream of Wheat (Quick)\", \"Crispix\", \"Crispy Wheat & Raisins\", \"Double Chex\", \"Froot Loops\", \"Frosted Flakes\", \"Frosted Mini-Wheats\", \"Fruit & Fibre Dates\", \"Fruitful Bran\", \"Fruity Pebbles\", \"Golden Crisp\", \"Golden Grahams\", \"Grape Nuts Flakes\", \"Grape-Nuts\", \"Great Grains Pecan\", \"Honey Graham Ohs\", \"Honey Nut Cheerios\", \"Honey-comb\", \"Just Right Crunchy  Nuggets\", \"Just Right Fruit & Nut\", \"Kix\", \"Life\", \"Lucky Charms\", \"Maypo\", \"Dates & Almonds\", \"Peaches & Pecans\", \"Mueslix Crispy Blend\", \"Multi-Grain Cheerios\", \"Nut&Honey Crunch\", \"Nutri-Grain Almond-Raisin\", \"Nutri-grain Wheat\", \"Oatmeal Raisin Crisp\", \"Post Nat. Raisin Bran\", \"Product 19\", \"Puffed Rice\", \"Puffed Wheat\", \"Quaker Oat Squares\", \"Quaker Oatmeal\", \"Raisin Bran\", \"Raisin Nut Bran\", \"Raisin Squares\", \"Rice Chex\", \"Rice Krispies\", \"Shredded Wheat\", \"Shredded Wheat 'n'Bran\", \"Shredded Wheat spoon size\", \"Smacks\", \"Special K\", \"Strawberry Fruit Wheats\", \"Total Corn Flakes\", \"Total Raisin Bran\", \"Total Whole Grain\", \"Triples\", \"Trix\", \"Walnuts & Oats\", \"Wheat Chex\", \"Wheaties\"], \"type\": \"scatter\", \"x\": [6, 8, 5, 0, 8, 10, 14, 6, 6, 5, 12, 1, 9, 7, 13, 3, 2, 12, 13, 7, 0, 3, 10, 5, 13, 11, 7, 8, 9, 12, 15, 9, 5, 3, 4, 11, 10, 11, 6, 7, 3, 6, 12, 3, 11, 11, 9, 6, 9, 5, 2, 8, 11, 3, 0, 0, 6, -1, 9, 8, 6, 2, 3, 0, 0, 0, 15, 3, 5, 3, 9, 3, 3, 12, 8, 3, 3], \"xaxis\": \"x\", \"y\": [70, 120, 70, 50, 110, 110, 110, 98, 90, 90, 120, 110, 120, 110, 110, 110, 100, 110, 110, 110, 100, 110, 100, 100, 110, 110, 100, 96, 90, 110, 100, 110, 100, 110, 120, 120, 110, 110, 110, 108, 110, 100, 110, 100, 150, 150, 107, 100, 120, 105, 90, 104, 90, 100, 100, 100, 100, 100, 90, 100, 90, 110, 110, 96, 90, 90, 110, 110, 90, 110, 93, 100, 110, 110, 96, 100, 100], \"yaxis\": \"y\"}, {\"marker\": {\"line\": {\"width\": 2}, \"size\": 5}, \"mode\": \"markers\", \"name\": \"Regression Fit\", \"type\": \"scatter\", \"x\": [-1.0, -0.8383838383838383, -0.6767676767676767, -0.5151515151515151, -0.3535353535353535, -0.19191919191919182, -0.030303030303030276, 0.1313131313131315, 0.29292929292929304, 0.4545454545454546, 0.6161616161616164, 0.7777777777777779, 0.9393939393939394, 1.1010101010101012, 1.262626262626263, 1.4242424242424243, 1.585858585858586, 1.7474747474747478, 1.9090909090909092, 2.070707070707071, 2.2323232323232327, 2.393939393939394, 2.555555555555556, 2.7171717171717176, 2.878787878787879, 3.0404040404040407, 3.2020202020202024, 3.363636363636364, 3.525252525252526, 3.686868686868687, 3.8484848484848486, 4.01010101010101, 4.171717171717172, 4.333333333333334, 4.494949494949496, 4.6565656565656575, 4.818181818181818, 4.97979797979798, 5.141414141414142, 5.303030303030304, 5.464646464646465, 5.626262626262627, 5.787878787878788, 5.94949494949495, 6.111111111111112, 6.272727272727273, 6.434343434343435, 6.595959595959597, 6.757575757575758, 6.91919191919192, 7.080808080808081, 7.242424242424244, 7.404040404040405, 7.565656565656566, 7.727272727272728, 7.888888888888889, 8.050505050505052, 8.212121212121213, 8.373737373737374, 8.535353535353536, 8.696969696969697, 8.85858585858586, 9.02020202020202, 9.181818181818183, 9.343434343434344, 9.505050505050505, 9.666666666666668, 9.828282828282829, 9.989898989898991, 10.151515151515152, 10.313131313131315, 10.474747474747476, 10.636363636363637, 10.7979797979798, 10.95959595959596, 11.121212121212123, 11.282828282828284, 11.444444444444445, 11.606060606060607, 11.767676767676768, 11.92929292929293, 12.090909090909092, 12.252525252525254, 12.414141414141415, 12.575757575757576, 12.737373737373739, 12.8989898989899, 13.060606060606062, 13.222222222222223, 13.383838383838386, 13.545454545454547, 13.707070707070708, 13.86868686868687, 14.030303030303031, 14.191919191919194, 14.353535353535355, 14.515151515151516, 14.676767676767678, 14.83838383838384, 15.0], \"xaxis\": \"x\", \"y\": [94.43368582737638, 94.63406937176654, 94.83445291615669, 95.03483646054686, 95.23522000493702, 95.43560354932718, 95.63598709371735, 95.8363706381075, 96.03675418249766, 96.23713772688782, 96.43752127127799, 96.63790481566815, 96.8382883600583, 97.03867190444846, 97.23905544883863, 97.43943899322879, 97.63982253761895, 97.84020608200912, 98.04058962639927, 98.24097317078943, 98.4413567151796, 98.64174025956976, 98.84212380395992, 99.04250734835009, 99.24289089274023, 99.4432744371304, 99.64365798152056, 99.84404152591073, 100.04442507030089, 100.24480861469104, 100.4451921590812, 100.64557570347137, 100.84595924786153, 101.04634279225169, 101.24672633664184, 101.447109881032, 101.64749342542217, 101.84787696981233, 102.0482605142025, 102.24864405859266, 102.44902760298281, 102.64941114737297, 102.84979469176314, 103.0501782361533, 103.25056178054346, 103.45094532493361, 103.65132886932378, 103.85171241371394, 104.0520959581041, 104.25247950249427, 104.45286304688443, 104.65324659127458, 104.85363013566474, 105.05401368005491, 105.25439722444507, 105.45478076883523, 105.65516431322538, 105.85554785761555, 106.05593140200571, 106.25631494639588, 106.45669849078604, 106.6570820351762, 106.85746557956635, 107.05784912395652, 107.25823266834668, 107.45861621273684, 107.658999757127, 107.85938330151716, 108.05976684590732, 108.26015039029748, 108.46053393468765, 108.66091747907781, 108.86130102346797, 109.06168456785812, 109.26206811224829, 109.46245165663845, 109.66283520102861, 109.86321874541878, 110.06360228980893, 110.26398583419909, 110.46436937858925, 110.66475292297942, 110.86513646736958, 111.06552001175973, 111.2659035561499, 111.46628710054006, 111.66667064493022, 111.86705418932038, 112.06743773371053, 112.26782127810071, 112.46820482249086, 112.66858836688102, 112.86897191127119, 113.06935545566135, 113.26973900005152, 113.47012254444167, 113.67050608883183, 113.87088963322199, 114.07127317761216, 114.27165672200232], \"yaxis\": \"y\"}, {\"marker\": {\"line\": {\"width\": 2}, \"size\": 5}, \"mode\": \"markers\", \"name\": \"2020\", \"text\": [\"Wheaties Honey Gold\", \"All-Bran Complete Wheat Flakes Cereal\", \"Eggo\", \"Honey Smacks\", \"Krave Double Chocolate\", \"Peeps\", \"Smart Start\", \"Annie's Whole Grain Cereal\", \"Cascadian Farm Organic Raisin Bran\", \"Cheerios Multi Grain\", \"Chex Wheat Cereal\", \"Cookie Crisp\", \"Dunkaroos\", \"Fiber One\", \"Good Belly\", \"Larabar (Peanut Butter)\", \"Oatmeal Crisp\", \"Wonderworks (Peanut Butter)\", \"Ahold 100% Whole Grain\", \"Hannaford Frosted Flakes\", \"Martin's Food Lion\", \"Hannaford Tasteeos Cereal\", \"Ahold Vanilla Almond Cereal\", \"Kelloggs Special Fruit & Yogurt\", \"Kelloggs Special Original Cereal\", \"Quaker Life Cinnamon Multigrain\", \"Quaker Life Original Multigrain\", \"Quaker Life Ltd. Edition, Pumpkin Spice\", \"All-Bran\", \"Apple Jacks\", \"Basic 4\", \"Cocoa Puffs\", \"Corn Flakes\", \"Corn Pops\", \"Cracklin' Oat Bran\", \"Crispix\", \"Froot Loops\", \"Frosted Flakes\", \"Golden Grahams\", \"Kix\", \"Oatmeal Raisin Crisp\", \"Raisin Bran\", \"Raisin Nut Bran\", \"Rice Krispies\", \"Special K\", \"Total Whole Grain\", \"Trix\", \"Wheaties\"], \"type\": \"scatter\", \"x\": [8, 5, 10, 14, 11, 13, 8, 7, 7, 6, 3, 9, 10, 0, 7, 5, 6, 1, 0, 10, 4, 1, 8, 9, 3, 6, 6, 4, 5, 10, 6, 9, 3, 11, 8, 4, 9, 9, 9, 3, 6, 9, 8, 3, 4, 4, 9, 4], \"xaxis\": \"x2\", \"y\": [110, 120, 160, 130, 170, 110, 240, 160, 210, 150, 210, 140, 150, 90, 170, 280, 230, 160, 170, 150, 120, 111, 104, 111, 97, 83, 111, 83, 92, 109, 103, 110, 101, 106, 116, 109, 109, 100, 106, 113, 109, 91, 105, 106, 109, 128, 116, 102], \"yaxis\": \"y2\"}, {\"marker\": {\"line\": {\"width\": 2}, \"size\": 5}, \"mode\": \"markers\", \"name\": \"Regression Fit\", \"type\": \"scatter\", \"x\": [0.0, 0.1414141414141414, 0.2828282828282828, 0.4242424242424242, 0.5656565656565656, 0.7070707070707071, 0.8484848484848484, 0.9898989898989898, 1.1313131313131313, 1.2727272727272727, 1.4141414141414141, 1.5555555555555556, 1.6969696969696968, 1.8383838383838382, 1.9797979797979797, 2.121212121212121, 2.2626262626262625, 2.404040404040404, 2.5454545454545454, 2.686868686868687, 2.8282828282828283, 2.9696969696969697, 3.111111111111111, 3.2525252525252526, 3.3939393939393936, 3.535353535353535, 3.6767676767676765, 3.818181818181818, 3.9595959595959593, 4.101010101010101, 4.242424242424242, 4.383838383838384, 4.525252525252525, 4.666666666666666, 4.808080808080808, 4.949494949494949, 5.090909090909091, 5.232323232323232, 5.373737373737374, 5.515151515151515, 5.656565656565657, 5.797979797979798, 5.9393939393939394, 6.08080808080808, 6.222222222222222, 6.363636363636363, 6.505050505050505, 6.646464646464646, 6.787878787878787, 6.929292929292929, 7.07070707070707, 7.212121212121212, 7.353535353535353, 7.494949494949495, 7.636363636363636, 7.777777777777778, 7.919191919191919, 8.06060606060606, 8.202020202020202, 8.343434343434343, 8.484848484848484, 8.626262626262626, 8.767676767676768, 8.909090909090908, 9.05050505050505, 9.191919191919192, 9.333333333333332, 9.474747474747474, 9.616161616161616, 9.757575757575758, 9.898989898989898, 10.04040404040404, 10.181818181818182, 10.323232323232324, 10.464646464646464, 10.606060606060606, 10.747474747474747, 10.88888888888889, 11.03030303030303, 11.171717171717171, 11.313131313131313, 11.454545454545453, 11.595959595959595, 11.737373737373737, 11.878787878787879, 12.020202020202019, 12.16161616161616, 12.303030303030303, 12.444444444444445, 12.585858585858585, 12.727272727272727, 12.868686868686869, 13.01010101010101, 13.15151515151515, 13.292929292929292, 13.434343434343434, 13.575757575757574, 13.717171717171716, 13.858585858585858, 14.0], \"xaxis\": \"x2\", \"y\": [130.3806242736178, 130.3859070532655, 130.39118983291323, 130.39647261256093, 130.40175539220866, 130.40703817185636, 130.41232095150409, 130.4176037311518, 130.42288651079951, 130.42816929044722, 130.43345207009494, 130.43873484974264, 130.44401762939037, 130.44930040903807, 130.4545831886858, 130.4598659683335, 130.46514874798123, 130.47043152762893, 130.47571430727666, 130.48099708692436, 130.4862798665721, 130.4915626462198, 130.49684542586752, 130.50212820551522, 130.50741098516295, 130.51269376481065, 130.51797654445835, 130.52325932410608, 130.52854210375378, 130.5338248834015, 130.5391076630492, 130.54439044269694, 130.54967322234464, 130.55495600199237, 130.56023878164007, 130.5655215612878, 130.5708043409355, 130.57608712058322, 130.58136990023092, 130.58665267987865, 130.59193545952635, 130.59721823917408, 130.60250101882178, 130.6077837984695, 130.6130665781172, 130.61834935776494, 130.62363213741264, 130.62891491706037, 130.63419769670807, 130.6394804763558, 130.6447632560035, 130.65004603565123, 130.65532881529893, 130.66061159494663, 130.66589437459436, 130.67117715424206, 130.6764599338898, 130.6817427135375, 130.68702549318522, 130.69230827283292, 130.69759105248065, 130.70287383212835, 130.70815661177608, 130.71343939142378, 130.7187221710715, 130.7240049507192, 130.72928773036693, 130.73457051001463, 130.73985328966236, 130.74513606931006, 130.7504188489578, 130.7557016286055, 130.76098440825322, 130.76626718790092, 130.77154996754865, 130.77683274719635, 130.78211552684408, 130.78739830649178, 130.79268108613948, 130.7979638657872, 130.8032466454349, 130.80852942508264, 130.81381220473034, 130.81909498437807, 130.82437776402577, 130.8296605436735, 130.8349433233212, 130.84022610296893, 130.84550888261663, 130.85079166226436, 130.85607444191206, 130.86135722155979, 130.8666400012075, 130.87192278085521, 130.87720556050292, 130.88248834015064, 130.88777111979834, 130.89305389944607, 130.89833667909377, 130.9036194587415], \"yaxis\": \"y2\"}],                        {\"annotations\": [{\"font\": {\"size\": 16}, \"showarrow\": false, \"text\": \"1993\", \"x\": 0.225, \"xanchor\": \"center\", \"xref\": \"paper\", \"y\": 1.0, \"yanchor\": \"bottom\", \"yref\": \"paper\"}, {\"font\": {\"size\": 16}, \"showarrow\": false, \"text\": \"2020\", \"x\": 0.775, \"xanchor\": \"center\", \"xref\": \"paper\", \"y\": 1.0, \"yanchor\": \"bottom\", \"yref\": \"paper\"}], \"showlegend\": false, \"template\": {\"data\": {\"bar\": [{\"error_x\": {\"color\": \"#2a3f5f\"}, \"error_y\": {\"color\": \"#2a3f5f\"}, \"marker\": {\"line\": {\"color\": \"#E5ECF6\", \"width\": 0.5}}, \"type\": \"bar\"}], \"barpolar\": [{\"marker\": {\"line\": {\"color\": \"#E5ECF6\", \"width\": 0.5}}, \"type\": \"barpolar\"}], \"carpet\": [{\"aaxis\": {\"endlinecolor\": \"#2a3f5f\", \"gridcolor\": \"white\", \"linecolor\": \"white\", \"minorgridcolor\": \"white\", \"startlinecolor\": \"#2a3f5f\"}, \"baxis\": {\"endlinecolor\": \"#2a3f5f\", \"gridcolor\": \"white\", \"linecolor\": \"white\", \"minorgridcolor\": \"white\", \"startlinecolor\": \"#2a3f5f\"}, \"type\": \"carpet\"}], \"choropleth\": [{\"colorbar\": {\"outlinewidth\": 0, \"ticks\": \"\"}, \"type\": \"choropleth\"}], \"contour\": [{\"colorbar\": {\"outlinewidth\": 0, \"ticks\": \"\"}, \"colorscale\": [[0.0, \"#0d0887\"], [0.1111111111111111, \"#46039f\"], [0.2222222222222222, \"#7201a8\"], [0.3333333333333333, \"#9c179e\"], [0.4444444444444444, \"#bd3786\"], [0.5555555555555556, \"#d8576b\"], [0.6666666666666666, \"#ed7953\"], [0.7777777777777778, \"#fb9f3a\"], [0.8888888888888888, \"#fdca26\"], [1.0, \"#f0f921\"]], \"type\": \"contour\"}], \"contourcarpet\": [{\"colorbar\": {\"outlinewidth\": 0, \"ticks\": \"\"}, \"type\": \"contourcarpet\"}], \"heatmap\": [{\"colorbar\": {\"outlinewidth\": 0, \"ticks\": \"\"}, \"colorscale\": [[0.0, \"#0d0887\"], [0.1111111111111111, \"#46039f\"], [0.2222222222222222, \"#7201a8\"], [0.3333333333333333, \"#9c179e\"], [0.4444444444444444, \"#bd3786\"], [0.5555555555555556, \"#d8576b\"], [0.6666666666666666, \"#ed7953\"], [0.7777777777777778, \"#fb9f3a\"], [0.8888888888888888, \"#fdca26\"], [1.0, \"#f0f921\"]], \"type\": \"heatmap\"}], \"heatmapgl\": [{\"colorbar\": {\"outlinewidth\": 0, \"ticks\": \"\"}, \"colorscale\": [[0.0, \"#0d0887\"], [0.1111111111111111, \"#46039f\"], [0.2222222222222222, \"#7201a8\"], [0.3333333333333333, \"#9c179e\"], [0.4444444444444444, \"#bd3786\"], [0.5555555555555556, \"#d8576b\"], [0.6666666666666666, \"#ed7953\"], [0.7777777777777778, \"#fb9f3a\"], [0.8888888888888888, \"#fdca26\"], [1.0, \"#f0f921\"]], \"type\": \"heatmapgl\"}], \"histogram\": [{\"marker\": {\"colorbar\": {\"outlinewidth\": 0, \"ticks\": \"\"}}, \"type\": \"histogram\"}], \"histogram2d\": [{\"colorbar\": {\"outlinewidth\": 0, \"ticks\": \"\"}, \"colorscale\": [[0.0, \"#0d0887\"], [0.1111111111111111, \"#46039f\"], [0.2222222222222222, \"#7201a8\"], [0.3333333333333333, \"#9c179e\"], [0.4444444444444444, \"#bd3786\"], [0.5555555555555556, \"#d8576b\"], [0.6666666666666666, \"#ed7953\"], [0.7777777777777778, \"#fb9f3a\"], [0.8888888888888888, \"#fdca26\"], [1.0, \"#f0f921\"]], \"type\": \"histogram2d\"}], \"histogram2dcontour\": [{\"colorbar\": {\"outlinewidth\": 0, \"ticks\": \"\"}, \"colorscale\": [[0.0, \"#0d0887\"], [0.1111111111111111, \"#46039f\"], [0.2222222222222222, \"#7201a8\"], [0.3333333333333333, \"#9c179e\"], [0.4444444444444444, \"#bd3786\"], [0.5555555555555556, \"#d8576b\"], [0.6666666666666666, \"#ed7953\"], [0.7777777777777778, \"#fb9f3a\"], [0.8888888888888888, \"#fdca26\"], [1.0, \"#f0f921\"]], \"type\": \"histogram2dcontour\"}], \"mesh3d\": [{\"colorbar\": {\"outlinewidth\": 0, \"ticks\": \"\"}, \"type\": \"mesh3d\"}], \"parcoords\": [{\"line\": {\"colorbar\": {\"outlinewidth\": 0, \"ticks\": \"\"}}, \"type\": \"parcoords\"}], \"pie\": [{\"automargin\": true, \"type\": \"pie\"}], \"scatter\": [{\"marker\": {\"colorbar\": {\"outlinewidth\": 0, \"ticks\": \"\"}}, \"type\": \"scatter\"}], \"scatter3d\": [{\"line\": {\"colorbar\": {\"outlinewidth\": 0, \"ticks\": \"\"}}, \"marker\": {\"colorbar\": {\"outlinewidth\": 0, \"ticks\": \"\"}}, \"type\": \"scatter3d\"}], \"scattercarpet\": [{\"marker\": {\"colorbar\": {\"outlinewidth\": 0, \"ticks\": \"\"}}, \"type\": \"scattercarpet\"}], \"scattergeo\": [{\"marker\": {\"colorbar\": {\"outlinewidth\": 0, \"ticks\": \"\"}}, \"type\": \"scattergeo\"}], \"scattergl\": [{\"marker\": {\"colorbar\": {\"outlinewidth\": 0, \"ticks\": \"\"}}, \"type\": \"scattergl\"}], \"scattermapbox\": [{\"marker\": {\"colorbar\": {\"outlinewidth\": 0, \"ticks\": \"\"}}, \"type\": \"scattermapbox\"}], \"scatterpolar\": [{\"marker\": {\"colorbar\": {\"outlinewidth\": 0, \"ticks\": \"\"}}, \"type\": \"scatterpolar\"}], \"scatterpolargl\": [{\"marker\": {\"colorbar\": {\"outlinewidth\": 0, \"ticks\": \"\"}}, \"type\": \"scatterpolargl\"}], \"scatterternary\": [{\"marker\": {\"colorbar\": {\"outlinewidth\": 0, \"ticks\": \"\"}}, \"type\": \"scatterternary\"}], \"surface\": [{\"colorbar\": {\"outlinewidth\": 0, \"ticks\": \"\"}, \"colorscale\": [[0.0, \"#0d0887\"], [0.1111111111111111, \"#46039f\"], [0.2222222222222222, \"#7201a8\"], [0.3333333333333333, \"#9c179e\"], [0.4444444444444444, \"#bd3786\"], [0.5555555555555556, \"#d8576b\"], [0.6666666666666666, \"#ed7953\"], [0.7777777777777778, \"#fb9f3a\"], [0.8888888888888888, \"#fdca26\"], [1.0, \"#f0f921\"]], \"type\": \"surface\"}], \"table\": [{\"cells\": {\"fill\": {\"color\": \"#EBF0F8\"}, \"line\": {\"color\": \"white\"}}, \"header\": {\"fill\": {\"color\": \"#C8D4E3\"}, \"line\": {\"color\": \"white\"}}, \"type\": \"table\"}]}, \"layout\": {\"annotationdefaults\": {\"arrowcolor\": \"#2a3f5f\", \"arrowhead\": 0, \"arrowwidth\": 1}, \"coloraxis\": {\"colorbar\": {\"outlinewidth\": 0, \"ticks\": \"\"}}, \"colorscale\": {\"diverging\": [[0, \"#8e0152\"], [0.1, \"#c51b7d\"], [0.2, \"#de77ae\"], [0.3, \"#f1b6da\"], [0.4, \"#fde0ef\"], [0.5, \"#f7f7f7\"], [0.6, \"#e6f5d0\"], [0.7, \"#b8e186\"], [0.8, \"#7fbc41\"], [0.9, \"#4d9221\"], [1, \"#276419\"]], \"sequential\": [[0.0, \"#0d0887\"], [0.1111111111111111, \"#46039f\"], [0.2222222222222222, \"#7201a8\"], [0.3333333333333333, \"#9c179e\"], [0.4444444444444444, \"#bd3786\"], [0.5555555555555556, \"#d8576b\"], [0.6666666666666666, \"#ed7953\"], [0.7777777777777778, \"#fb9f3a\"], [0.8888888888888888, \"#fdca26\"], [1.0, \"#f0f921\"]], \"sequentialminus\": [[0.0, \"#0d0887\"], [0.1111111111111111, \"#46039f\"], [0.2222222222222222, \"#7201a8\"], [0.3333333333333333, \"#9c179e\"], [0.4444444444444444, \"#bd3786\"], [0.5555555555555556, \"#d8576b\"], [0.6666666666666666, \"#ed7953\"], [0.7777777777777778, \"#fb9f3a\"], [0.8888888888888888, \"#fdca26\"], [1.0, \"#f0f921\"]]}, \"colorway\": [\"#636efa\", \"#EF553B\", \"#00cc96\", \"#ab63fa\", \"#FFA15A\", \"#19d3f3\", \"#FF6692\", \"#B6E880\", \"#FF97FF\", \"#FECB52\"], \"font\": {\"color\": \"#2a3f5f\"}, \"geo\": {\"bgcolor\": \"white\", \"lakecolor\": \"white\", \"landcolor\": \"#E5ECF6\", \"showlakes\": true, \"showland\": true, \"subunitcolor\": \"white\"}, \"hoverlabel\": {\"align\": \"left\"}, \"hovermode\": \"closest\", \"mapbox\": {\"style\": \"light\"}, \"paper_bgcolor\": \"white\", \"plot_bgcolor\": \"#E5ECF6\", \"polar\": {\"angularaxis\": {\"gridcolor\": \"white\", \"linecolor\": \"white\", \"ticks\": \"\"}, \"bgcolor\": \"#E5ECF6\", \"radialaxis\": {\"gridcolor\": \"white\", \"linecolor\": \"white\", \"ticks\": \"\"}}, \"scene\": {\"xaxis\": {\"backgroundcolor\": \"#E5ECF6\", \"gridcolor\": \"white\", \"gridwidth\": 2, \"linecolor\": \"white\", \"showbackground\": true, \"ticks\": \"\", \"zerolinecolor\": \"white\"}, \"yaxis\": {\"backgroundcolor\": \"#E5ECF6\", \"gridcolor\": \"white\", \"gridwidth\": 2, \"linecolor\": \"white\", \"showbackground\": true, \"ticks\": \"\", \"zerolinecolor\": \"white\"}, \"zaxis\": {\"backgroundcolor\": \"#E5ECF6\", \"gridcolor\": \"white\", \"gridwidth\": 2, \"linecolor\": \"white\", \"showbackground\": true, \"ticks\": \"\", \"zerolinecolor\": \"white\"}}, \"shapedefaults\": {\"line\": {\"color\": \"#2a3f5f\"}}, \"ternary\": {\"aaxis\": {\"gridcolor\": \"white\", \"linecolor\": \"white\", \"ticks\": \"\"}, \"baxis\": {\"gridcolor\": \"white\", \"linecolor\": \"white\", \"ticks\": \"\"}, \"bgcolor\": \"#E5ECF6\", \"caxis\": {\"gridcolor\": \"white\", \"linecolor\": \"white\", \"ticks\": \"\"}}, \"title\": {\"x\": 0.05}, \"xaxis\": {\"automargin\": true, \"gridcolor\": \"white\", \"linecolor\": \"white\", \"ticks\": \"\", \"title\": {\"standoff\": 15}, \"zerolinecolor\": \"white\", \"zerolinewidth\": 2}, \"yaxis\": {\"automargin\": true, \"gridcolor\": \"white\", \"linecolor\": \"white\", \"ticks\": \"\", \"title\": {\"standoff\": 15}, \"zerolinecolor\": \"white\", \"zerolinewidth\": 2}}}, \"title\": {\"text\": \"Calories vs Sugar in 1993 and 2020\"}, \"xaxis\": {\"anchor\": \"y\", \"domain\": [0.0, 0.45], \"title\": {\"text\": \"Sugar\"}}, \"xaxis2\": {\"anchor\": \"y2\", \"domain\": [0.55, 1.0], \"title\": {\"text\": \"Sugar\"}}, \"yaxis\": {\"anchor\": \"x\", \"domain\": [0.0, 1.0], \"title\": {\"text\": \"Calories\"}}, \"yaxis2\": {\"anchor\": \"x2\", \"domain\": [0.0, 1.0], \"matches\": \"y\", \"showticklabels\": false}},                        {\"responsive\": true}                    ).then(function(){\n",
       "                            \n",
       "var gd = document.getElementById('52a5d63c-a854-4770-887f-7a75e10c3040');\n",
       "var x = new MutationObserver(function (mutations, observer) {{\n",
       "        var display = window.getComputedStyle(gd).display;\n",
       "        if (!display || display === 'none') {{\n",
       "            console.log([gd, 'removed!']);\n",
       "            Plotly.purge(gd);\n",
       "            observer.disconnect();\n",
       "        }}\n",
       "}});\n",
       "\n",
       "// Listen for the removal of the full notebook cells\n",
       "var notebookContainer = gd.closest('#notebook-container');\n",
       "if (notebookContainer) {{\n",
       "    x.observe(notebookContainer, {childList: true});\n",
       "}}\n",
       "\n",
       "// Listen for the clearing of the current output cell\n",
       "var outputEl = gd.closest('.output');\n",
       "if (outputEl) {{\n",
       "    x.observe(outputEl, {childList: true});\n",
       "}}\n",
       "\n",
       "                        })                };                });            </script>        </div>"
      ]
     },
     "metadata": {},
     "output_type": "display_data"
    }
   ],
   "source": [
    "ings = ['Protein', 'Fat', 'Fiber', 'Carbohydrate', 'Sugar']\n",
    "\n",
    "for i in range(len(ings)):\n",
    "    fig = make_subplots(rows = 1, cols = len(years),\n",
    "                        shared_yaxes = True,\n",
    "                        subplot_titles = (years[0], years[1]))\n",
    "    \n",
    "    for j in range(len(years)):\n",
    "        df = df_main_old if j == 0 else df_main_new\n",
    "\n",
    "        X = df[ings[i]].values.reshape(-1, 1)\n",
    "\n",
    "        # Make prediction\n",
    "        model = LinearRegression()\n",
    "        _ = model.fit(X, df.Calories)\n",
    "\n",
    "        x_range = np.linspace(X.min(), X.max(), 100)\n",
    "        y_range = model.predict(x_range.reshape(-1, 1))\n",
    "\n",
    "        _ = fig.add_trace(go.Scatter(x = df[ings[i]], y = df.Calories, text = df.Name, name = years[j]), row = 1, col = j + 1)\n",
    "        _ = fig.add_trace(go.Scatter(x = x_range, y = y_range, name = 'Regression Fit'), row = 1, col = j + 1)\n",
    "        _ = fig.update_xaxes(title_text = ings[i], row = 1, col = j + 1)\n",
    "        if j == 0:\n",
    "            _ = fig.update_yaxes(title_text = 'Calories', row = 1, col = j + 1)\n",
    "\n",
    "    # Set options common to all traces with fig.update_traces\n",
    "    _ = fig.update_traces(mode = 'markers', marker_line_width=2, marker_size=5)\n",
    "    _ = fig.update_layout(showlegend = False,\n",
    "                      title_text = 'Calories vs ' + ings[i] + ' in 1993 and 2020')\n",
    "    \n",
    "    fig.show()"
   ]
  },
  {
   "cell_type": "markdown",
   "metadata": {},
   "source": [
    "### Comparison of common cereals between 1993 and 2020"
   ]
  },
  {
   "cell_type": "code",
   "execution_count": 25,
   "metadata": {
    "ExecuteTime": {
     "end_time": "2021-03-21T10:46:08.460181Z",
     "start_time": "2021-03-21T10:46:08.444184Z"
    }
   },
   "outputs": [],
   "source": [
    "InteractiveShell.ast_node_interactivity = 'all'"
   ]
  },
  {
   "cell_type": "code",
   "execution_count": 26,
   "metadata": {
    "ExecuteTime": {
     "end_time": "2021-03-21T10:46:08.624344Z",
     "start_time": "2021-03-21T10:46:08.460181Z"
    }
   },
   "outputs": [
    {
     "data": {
      "text/plain": [
       "(40, 17)"
      ]
     },
     "execution_count": 26,
     "metadata": {},
     "output_type": "execute_result"
    },
    {
     "data": {
      "text/html": [
       "<div>\n",
       "<style scoped>\n",
       "    .dataframe tbody tr th:only-of-type {\n",
       "        vertical-align: middle;\n",
       "    }\n",
       "\n",
       "    .dataframe tbody tr th {\n",
       "        vertical-align: top;\n",
       "    }\n",
       "\n",
       "    .dataframe thead th {\n",
       "        text-align: right;\n",
       "    }\n",
       "</style>\n",
       "<table border=\"1\" class=\"dataframe\">\n",
       "  <thead>\n",
       "    <tr style=\"text-align: right;\">\n",
       "      <th></th>\n",
       "      <th>Year</th>\n",
       "      <th>CerealId</th>\n",
       "      <th>Calories</th>\n",
       "      <th>Protein</th>\n",
       "      <th>Fat</th>\n",
       "      <th>Sodium</th>\n",
       "      <th>Fiber</th>\n",
       "      <th>Carbohydrate</th>\n",
       "      <th>Sugar</th>\n",
       "      <th>Potassium</th>\n",
       "      <th>Vitamins</th>\n",
       "      <th>Shelf</th>\n",
       "      <th>Cups</th>\n",
       "      <th>Rating</th>\n",
       "    </tr>\n",
       "  </thead>\n",
       "  <tbody>\n",
       "    <tr>\n",
       "      <th>count</th>\n",
       "      <td>20.0</td>\n",
       "      <td>20.000000</td>\n",
       "      <td>20.000000</td>\n",
       "      <td>20.000000</td>\n",
       "      <td>20.000000</td>\n",
       "      <td>20.000000</td>\n",
       "      <td>20.000000</td>\n",
       "      <td>20.000000</td>\n",
       "      <td>20.000000</td>\n",
       "      <td>20.000000</td>\n",
       "      <td>20.00000</td>\n",
       "      <td>20.000000</td>\n",
       "      <td>20.000000</td>\n",
       "      <td>20.000000</td>\n",
       "    </tr>\n",
       "    <tr>\n",
       "      <th>mean</th>\n",
       "      <td>1993.0</td>\n",
       "      <td>37.950000</td>\n",
       "      <td>104.100000</td>\n",
       "      <td>2.250000</td>\n",
       "      <td>0.900000</td>\n",
       "      <td>0.191000</td>\n",
       "      <td>1.750000</td>\n",
       "      <td>14.300000</td>\n",
       "      <td>7.350000</td>\n",
       "      <td>0.081500</td>\n",
       "      <td>28.75000</td>\n",
       "      <td>1.950000</td>\n",
       "      <td>0.842500</td>\n",
       "      <td>1.942500</td>\n",
       "    </tr>\n",
       "    <tr>\n",
       "      <th>std</th>\n",
       "      <td>0.0</td>\n",
       "      <td>25.144791</td>\n",
       "      <td>9.957277</td>\n",
       "      <td>1.208522</td>\n",
       "      <td>0.852242</td>\n",
       "      <td>0.061721</td>\n",
       "      <td>2.124419</td>\n",
       "      <td>4.293201</td>\n",
       "      <td>4.107439</td>\n",
       "      <td>0.074429</td>\n",
       "      <td>16.77051</td>\n",
       "      <td>0.759155</td>\n",
       "      <td>0.287912</td>\n",
       "      <td>0.485439</td>\n",
       "    </tr>\n",
       "    <tr>\n",
       "      <th>min</th>\n",
       "      <td>1993.0</td>\n",
       "      <td>3.000000</td>\n",
       "      <td>70.000000</td>\n",
       "      <td>1.000000</td>\n",
       "      <td>0.000000</td>\n",
       "      <td>0.090000</td>\n",
       "      <td>0.000000</td>\n",
       "      <td>7.000000</td>\n",
       "      <td>2.000000</td>\n",
       "      <td>0.020000</td>\n",
       "      <td>25.00000</td>\n",
       "      <td>1.000000</td>\n",
       "      <td>0.330000</td>\n",
       "      <td>1.140000</td>\n",
       "    </tr>\n",
       "    <tr>\n",
       "      <th>25%</th>\n",
       "      <td>1993.0</td>\n",
       "      <td>17.750000</td>\n",
       "      <td>100.000000</td>\n",
       "      <td>1.750000</td>\n",
       "      <td>0.000000</td>\n",
       "      <td>0.140000</td>\n",
       "      <td>0.750000</td>\n",
       "      <td>11.000000</td>\n",
       "      <td>3.000000</td>\n",
       "      <td>0.030000</td>\n",
       "      <td>25.00000</td>\n",
       "      <td>1.000000</td>\n",
       "      <td>0.560000</td>\n",
       "      <td>1.600000</td>\n",
       "    </tr>\n",
       "    <tr>\n",
       "      <th>50%</th>\n",
       "      <td>1993.0</td>\n",
       "      <td>29.000000</td>\n",
       "      <td>110.000000</td>\n",
       "      <td>2.000000</td>\n",
       "      <td>1.000000</td>\n",
       "      <td>0.190000</td>\n",
       "      <td>1.000000</td>\n",
       "      <td>13.500000</td>\n",
       "      <td>7.500000</td>\n",
       "      <td>0.050000</td>\n",
       "      <td>25.00000</td>\n",
       "      <td>2.000000</td>\n",
       "      <td>1.000000</td>\n",
       "      <td>1.960000</td>\n",
       "    </tr>\n",
       "    <tr>\n",
       "      <th>75%</th>\n",
       "      <td>1993.0</td>\n",
       "      <td>60.750000</td>\n",
       "      <td>110.000000</td>\n",
       "      <td>3.000000</td>\n",
       "      <td>1.000000</td>\n",
       "      <td>0.237500</td>\n",
       "      <td>2.250000</td>\n",
       "      <td>16.250000</td>\n",
       "      <td>11.250000</td>\n",
       "      <td>0.110000</td>\n",
       "      <td>25.00000</td>\n",
       "      <td>2.250000</td>\n",
       "      <td>1.000000</td>\n",
       "      <td>2.300000</td>\n",
       "    </tr>\n",
       "    <tr>\n",
       "      <th>max</th>\n",
       "      <td>1993.0</td>\n",
       "      <td>77.000000</td>\n",
       "      <td>110.000000</td>\n",
       "      <td>6.000000</td>\n",
       "      <td>3.000000</td>\n",
       "      <td>0.290000</td>\n",
       "      <td>9.000000</td>\n",
       "      <td>22.000000</td>\n",
       "      <td>14.000000</td>\n",
       "      <td>0.320000</td>\n",
       "      <td>100.00000</td>\n",
       "      <td>3.000000</td>\n",
       "      <td>1.500000</td>\n",
       "      <td>2.970000</td>\n",
       "    </tr>\n",
       "  </tbody>\n",
       "</table>\n",
       "</div>"
      ],
      "text/plain": [
       "         Year   CerealId    Calories    Protein        Fat     Sodium  \\\n",
       "count    20.0  20.000000   20.000000  20.000000  20.000000  20.000000   \n",
       "mean   1993.0  37.950000  104.100000   2.250000   0.900000   0.191000   \n",
       "std       0.0  25.144791    9.957277   1.208522   0.852242   0.061721   \n",
       "min    1993.0   3.000000   70.000000   1.000000   0.000000   0.090000   \n",
       "25%    1993.0  17.750000  100.000000   1.750000   0.000000   0.140000   \n",
       "50%    1993.0  29.000000  110.000000   2.000000   1.000000   0.190000   \n",
       "75%    1993.0  60.750000  110.000000   3.000000   1.000000   0.237500   \n",
       "max    1993.0  77.000000  110.000000   6.000000   3.000000   0.290000   \n",
       "\n",
       "           Fiber  Carbohydrate      Sugar  Potassium   Vitamins      Shelf  \\\n",
       "count  20.000000     20.000000  20.000000  20.000000   20.00000  20.000000   \n",
       "mean    1.750000     14.300000   7.350000   0.081500   28.75000   1.950000   \n",
       "std     2.124419      4.293201   4.107439   0.074429   16.77051   0.759155   \n",
       "min     0.000000      7.000000   2.000000   0.020000   25.00000   1.000000   \n",
       "25%     0.750000     11.000000   3.000000   0.030000   25.00000   1.000000   \n",
       "50%     1.000000     13.500000   7.500000   0.050000   25.00000   2.000000   \n",
       "75%     2.250000     16.250000  11.250000   0.110000   25.00000   2.250000   \n",
       "max     9.000000     22.000000  14.000000   0.320000  100.00000   3.000000   \n",
       "\n",
       "            Cups     Rating  \n",
       "count  20.000000  20.000000  \n",
       "mean    0.842500   1.942500  \n",
       "std     0.287912   0.485439  \n",
       "min     0.330000   1.140000  \n",
       "25%     0.560000   1.600000  \n",
       "50%     1.000000   1.960000  \n",
       "75%     1.000000   2.300000  \n",
       "max     1.500000   2.970000  "
      ]
     },
     "execution_count": 26,
     "metadata": {},
     "output_type": "execute_result"
    },
    {
     "data": {
      "text/html": [
       "<div>\n",
       "<style scoped>\n",
       "    .dataframe tbody tr th:only-of-type {\n",
       "        vertical-align: middle;\n",
       "    }\n",
       "\n",
       "    .dataframe tbody tr th {\n",
       "        vertical-align: top;\n",
       "    }\n",
       "\n",
       "    .dataframe thead th {\n",
       "        text-align: right;\n",
       "    }\n",
       "</style>\n",
       "<table border=\"1\" class=\"dataframe\">\n",
       "  <thead>\n",
       "    <tr style=\"text-align: right;\">\n",
       "      <th></th>\n",
       "      <th>Year</th>\n",
       "      <th>CerealId</th>\n",
       "      <th>Calories</th>\n",
       "      <th>Protein</th>\n",
       "      <th>Fat</th>\n",
       "      <th>Sodium</th>\n",
       "      <th>Fiber</th>\n",
       "      <th>Carbohydrate</th>\n",
       "      <th>Sugar</th>\n",
       "      <th>Potassium</th>\n",
       "      <th>Vitamins</th>\n",
       "      <th>Shelf</th>\n",
       "      <th>Cups</th>\n",
       "      <th>Rating</th>\n",
       "    </tr>\n",
       "  </thead>\n",
       "  <tbody>\n",
       "    <tr>\n",
       "      <th>count</th>\n",
       "      <td>20.0</td>\n",
       "      <td>20.000000</td>\n",
       "      <td>20.000000</td>\n",
       "      <td>20.000000</td>\n",
       "      <td>20.000000</td>\n",
       "      <td>20.000000</td>\n",
       "      <td>20.000000</td>\n",
       "      <td>20.00000</td>\n",
       "      <td>20.00000</td>\n",
       "      <td>20.0000</td>\n",
       "      <td>20.000000</td>\n",
       "      <td>20.000000</td>\n",
       "      <td>20.000000</td>\n",
       "      <td>20.000000</td>\n",
       "    </tr>\n",
       "    <tr>\n",
       "      <th>mean</th>\n",
       "      <td>2020.0</td>\n",
       "      <td>37.950000</td>\n",
       "      <td>107.000000</td>\n",
       "      <td>2.100000</td>\n",
       "      <td>0.900000</td>\n",
       "      <td>0.145500</td>\n",
       "      <td>1.850000</td>\n",
       "      <td>13.90000</td>\n",
       "      <td>6.65000</td>\n",
       "      <td>0.0645</td>\n",
       "      <td>52.500000</td>\n",
       "      <td>2.100000</td>\n",
       "      <td>1.687000</td>\n",
       "      <td>4.620000</td>\n",
       "    </tr>\n",
       "    <tr>\n",
       "      <th>std</th>\n",
       "      <td>0.0</td>\n",
       "      <td>25.144791</td>\n",
       "      <td>8.214237</td>\n",
       "      <td>1.293709</td>\n",
       "      <td>1.020836</td>\n",
       "      <td>0.048718</td>\n",
       "      <td>1.386969</td>\n",
       "      <td>4.19147</td>\n",
       "      <td>2.70039</td>\n",
       "      <td>0.0627</td>\n",
       "      <td>19.701723</td>\n",
       "      <td>0.788069</td>\n",
       "      <td>0.438635</td>\n",
       "      <td>0.167332</td>\n",
       "    </tr>\n",
       "    <tr>\n",
       "      <th>min</th>\n",
       "      <td>2020.0</td>\n",
       "      <td>3.000000</td>\n",
       "      <td>91.000000</td>\n",
       "      <td>1.000000</td>\n",
       "      <td>0.000000</td>\n",
       "      <td>0.030000</td>\n",
       "      <td>0.000000</td>\n",
       "      <td>6.00000</td>\n",
       "      <td>3.00000</td>\n",
       "      <td>0.0000</td>\n",
       "      <td>0.000000</td>\n",
       "      <td>1.000000</td>\n",
       "      <td>0.520000</td>\n",
       "      <td>4.100000</td>\n",
       "    </tr>\n",
       "    <tr>\n",
       "      <th>25%</th>\n",
       "      <td>2020.0</td>\n",
       "      <td>17.750000</td>\n",
       "      <td>102.750000</td>\n",
       "      <td>1.000000</td>\n",
       "      <td>0.000000</td>\n",
       "      <td>0.117500</td>\n",
       "      <td>1.000000</td>\n",
       "      <td>12.00000</td>\n",
       "      <td>4.00000</td>\n",
       "      <td>0.0175</td>\n",
       "      <td>50.000000</td>\n",
       "      <td>1.750000</td>\n",
       "      <td>1.385000</td>\n",
       "      <td>4.575000</td>\n",
       "    </tr>\n",
       "    <tr>\n",
       "      <th>50%</th>\n",
       "      <td>2020.0</td>\n",
       "      <td>29.000000</td>\n",
       "      <td>107.500000</td>\n",
       "      <td>2.000000</td>\n",
       "      <td>1.000000</td>\n",
       "      <td>0.150000</td>\n",
       "      <td>1.500000</td>\n",
       "      <td>13.50000</td>\n",
       "      <td>7.00000</td>\n",
       "      <td>0.0400</td>\n",
       "      <td>50.000000</td>\n",
       "      <td>2.000000</td>\n",
       "      <td>1.775000</td>\n",
       "      <td>4.700000</td>\n",
       "    </tr>\n",
       "    <tr>\n",
       "      <th>75%</th>\n",
       "      <td>2020.0</td>\n",
       "      <td>60.750000</td>\n",
       "      <td>109.250000</td>\n",
       "      <td>2.000000</td>\n",
       "      <td>1.000000</td>\n",
       "      <td>0.190000</td>\n",
       "      <td>3.000000</td>\n",
       "      <td>15.25000</td>\n",
       "      <td>9.00000</td>\n",
       "      <td>0.1000</td>\n",
       "      <td>50.000000</td>\n",
       "      <td>3.000000</td>\n",
       "      <td>2.090000</td>\n",
       "      <td>4.700000</td>\n",
       "    </tr>\n",
       "    <tr>\n",
       "      <th>max</th>\n",
       "      <td>2020.0</td>\n",
       "      <td>77.000000</td>\n",
       "      <td>128.000000</td>\n",
       "      <td>6.000000</td>\n",
       "      <td>4.000000</td>\n",
       "      <td>0.210000</td>\n",
       "      <td>5.000000</td>\n",
       "      <td>23.00000</td>\n",
       "      <td>11.00000</td>\n",
       "      <td>0.2400</td>\n",
       "      <td>100.000000</td>\n",
       "      <td>3.000000</td>\n",
       "      <td>2.290000</td>\n",
       "      <td>4.900000</td>\n",
       "    </tr>\n",
       "  </tbody>\n",
       "</table>\n",
       "</div>"
      ],
      "text/plain": [
       "         Year   CerealId    Calories    Protein        Fat     Sodium  \\\n",
       "count    20.0  20.000000   20.000000  20.000000  20.000000  20.000000   \n",
       "mean   2020.0  37.950000  107.000000   2.100000   0.900000   0.145500   \n",
       "std       0.0  25.144791    8.214237   1.293709   1.020836   0.048718   \n",
       "min    2020.0   3.000000   91.000000   1.000000   0.000000   0.030000   \n",
       "25%    2020.0  17.750000  102.750000   1.000000   0.000000   0.117500   \n",
       "50%    2020.0  29.000000  107.500000   2.000000   1.000000   0.150000   \n",
       "75%    2020.0  60.750000  109.250000   2.000000   1.000000   0.190000   \n",
       "max    2020.0  77.000000  128.000000   6.000000   4.000000   0.210000   \n",
       "\n",
       "           Fiber  Carbohydrate     Sugar  Potassium    Vitamins      Shelf  \\\n",
       "count  20.000000      20.00000  20.00000    20.0000   20.000000  20.000000   \n",
       "mean    1.850000      13.90000   6.65000     0.0645   52.500000   2.100000   \n",
       "std     1.386969       4.19147   2.70039     0.0627   19.701723   0.788069   \n",
       "min     0.000000       6.00000   3.00000     0.0000    0.000000   1.000000   \n",
       "25%     1.000000      12.00000   4.00000     0.0175   50.000000   1.750000   \n",
       "50%     1.500000      13.50000   7.00000     0.0400   50.000000   2.000000   \n",
       "75%     3.000000      15.25000   9.00000     0.1000   50.000000   3.000000   \n",
       "max     5.000000      23.00000  11.00000     0.2400  100.000000   3.000000   \n",
       "\n",
       "            Cups     Rating  \n",
       "count  20.000000  20.000000  \n",
       "mean    1.687000   4.620000  \n",
       "std     0.438635   0.167332  \n",
       "min     0.520000   4.100000  \n",
       "25%     1.385000   4.575000  \n",
       "50%     1.775000   4.700000  \n",
       "75%     2.090000   4.700000  \n",
       "max     2.290000   4.900000  "
      ]
     },
     "execution_count": 26,
     "metadata": {},
     "output_type": "execute_result"
    }
   ],
   "source": [
    "# Extract common cereals into a new dataset\n",
    "df_common = df_main.copy()\n",
    "df_common['Count'] = df_common.groupby(['CerealId'])['Year'].transform('count')\n",
    "df_common = df_common[df_common.Count == 2].drop('Count', axis = 1).reset_index(drop = True)\n",
    "\n",
    "df_common_old = df_common[df_common.Year == 1993]\n",
    "df_common_new = df_common[df_common.Year == 2020]\n",
    "\n",
    "df_common.shape\n",
    "\n",
    "df_common_old.describe()\n",
    "df_common_new.describe()"
   ]
  },
  {
   "cell_type": "code",
   "execution_count": 27,
   "metadata": {
    "ExecuteTime": {
     "end_time": "2021-03-21T10:46:08.640326Z",
     "start_time": "2021-03-21T10:46:08.624344Z"
    }
   },
   "outputs": [],
   "source": [
    "InteractiveShell.ast_node_interactivity = 'last'"
   ]
  },
  {
   "cell_type": "code",
   "execution_count": 28,
   "metadata": {
    "ExecuteTime": {
     "end_time": "2021-03-21T10:46:08.872915Z",
     "start_time": "2021-03-21T10:46:08.642365Z"
    },
    "scrolled": false
   },
   "outputs": [
    {
     "data": {
      "application/vnd.plotly.v1+json": {
       "config": {
        "plotlyServerURL": "https://plotly.com"
       },
       "data": [
        {
         "marker": {
          "line": {
           "width": 0
          },
          "size": 12
         },
         "mode": "lines+markers",
         "name": "1993",
         "type": "scatter",
         "x": [
          "All-Bran",
          "Apple Jacks",
          "Basic 4",
          "Cocoa Puffs",
          "Corn Flakes",
          "Corn Pops",
          "Cracklin' Oat Bran",
          "Crispix",
          "Froot Loops",
          "Frosted Flakes",
          "Golden Grahams",
          "Kix",
          "Oatmeal Raisin Crisp",
          "Raisin Bran",
          "Raisin Nut Bran",
          "Rice Krispies",
          "Special K",
          "Total Whole Grain",
          "Trix",
          "Wheaties"
         ],
         "y": [
          4,
          2,
          2,
          1,
          2,
          1,
          3,
          2,
          2,
          1,
          1,
          2,
          2,
          2,
          3,
          2,
          6,
          3,
          1,
          3
         ]
        },
        {
         "marker": {
          "line": {
           "width": 0
          },
          "size": 12
         },
         "mode": "lines+markers",
         "name": "2020",
         "type": "scatter",
         "x": [
          "All-Bran",
          "Apple Jacks",
          "Basic 4",
          "Cocoa Puffs",
          "Corn Flakes",
          "Corn Pops",
          "Cracklin' Oat Bran",
          "Crispix",
          "Froot Loops",
          "Frosted Flakes",
          "Golden Grahams",
          "Kix",
          "Oatmeal Raisin Crisp",
          "Raisin Bran",
          "Raisin Nut Bran",
          "Rice Krispies",
          "Special K",
          "Total Whole Grain",
          "Trix",
          "Wheaties"
         ],
         "y": [
          3,
          1,
          2,
          2,
          2,
          1,
          2,
          2,
          1,
          2,
          1,
          2,
          1,
          2,
          2,
          2,
          5,
          6,
          1,
          2
         ]
        }
       ],
       "layout": {
        "showlegend": true,
        "template": {
         "data": {
          "bar": [
           {
            "error_x": {
             "color": "#2a3f5f"
            },
            "error_y": {
             "color": "#2a3f5f"
            },
            "marker": {
             "line": {
              "color": "#E5ECF6",
              "width": 0.5
             }
            },
            "type": "bar"
           }
          ],
          "barpolar": [
           {
            "marker": {
             "line": {
              "color": "#E5ECF6",
              "width": 0.5
             }
            },
            "type": "barpolar"
           }
          ],
          "carpet": [
           {
            "aaxis": {
             "endlinecolor": "#2a3f5f",
             "gridcolor": "white",
             "linecolor": "white",
             "minorgridcolor": "white",
             "startlinecolor": "#2a3f5f"
            },
            "baxis": {
             "endlinecolor": "#2a3f5f",
             "gridcolor": "white",
             "linecolor": "white",
             "minorgridcolor": "white",
             "startlinecolor": "#2a3f5f"
            },
            "type": "carpet"
           }
          ],
          "choropleth": [
           {
            "colorbar": {
             "outlinewidth": 0,
             "ticks": ""
            },
            "type": "choropleth"
           }
          ],
          "contour": [
           {
            "colorbar": {
             "outlinewidth": 0,
             "ticks": ""
            },
            "colorscale": [
             [
              0,
              "#0d0887"
             ],
             [
              0.1111111111111111,
              "#46039f"
             ],
             [
              0.2222222222222222,
              "#7201a8"
             ],
             [
              0.3333333333333333,
              "#9c179e"
             ],
             [
              0.4444444444444444,
              "#bd3786"
             ],
             [
              0.5555555555555556,
              "#d8576b"
             ],
             [
              0.6666666666666666,
              "#ed7953"
             ],
             [
              0.7777777777777778,
              "#fb9f3a"
             ],
             [
              0.8888888888888888,
              "#fdca26"
             ],
             [
              1,
              "#f0f921"
             ]
            ],
            "type": "contour"
           }
          ],
          "contourcarpet": [
           {
            "colorbar": {
             "outlinewidth": 0,
             "ticks": ""
            },
            "type": "contourcarpet"
           }
          ],
          "heatmap": [
           {
            "colorbar": {
             "outlinewidth": 0,
             "ticks": ""
            },
            "colorscale": [
             [
              0,
              "#0d0887"
             ],
             [
              0.1111111111111111,
              "#46039f"
             ],
             [
              0.2222222222222222,
              "#7201a8"
             ],
             [
              0.3333333333333333,
              "#9c179e"
             ],
             [
              0.4444444444444444,
              "#bd3786"
             ],
             [
              0.5555555555555556,
              "#d8576b"
             ],
             [
              0.6666666666666666,
              "#ed7953"
             ],
             [
              0.7777777777777778,
              "#fb9f3a"
             ],
             [
              0.8888888888888888,
              "#fdca26"
             ],
             [
              1,
              "#f0f921"
             ]
            ],
            "type": "heatmap"
           }
          ],
          "heatmapgl": [
           {
            "colorbar": {
             "outlinewidth": 0,
             "ticks": ""
            },
            "colorscale": [
             [
              0,
              "#0d0887"
             ],
             [
              0.1111111111111111,
              "#46039f"
             ],
             [
              0.2222222222222222,
              "#7201a8"
             ],
             [
              0.3333333333333333,
              "#9c179e"
             ],
             [
              0.4444444444444444,
              "#bd3786"
             ],
             [
              0.5555555555555556,
              "#d8576b"
             ],
             [
              0.6666666666666666,
              "#ed7953"
             ],
             [
              0.7777777777777778,
              "#fb9f3a"
             ],
             [
              0.8888888888888888,
              "#fdca26"
             ],
             [
              1,
              "#f0f921"
             ]
            ],
            "type": "heatmapgl"
           }
          ],
          "histogram": [
           {
            "marker": {
             "colorbar": {
              "outlinewidth": 0,
              "ticks": ""
             }
            },
            "type": "histogram"
           }
          ],
          "histogram2d": [
           {
            "colorbar": {
             "outlinewidth": 0,
             "ticks": ""
            },
            "colorscale": [
             [
              0,
              "#0d0887"
             ],
             [
              0.1111111111111111,
              "#46039f"
             ],
             [
              0.2222222222222222,
              "#7201a8"
             ],
             [
              0.3333333333333333,
              "#9c179e"
             ],
             [
              0.4444444444444444,
              "#bd3786"
             ],
             [
              0.5555555555555556,
              "#d8576b"
             ],
             [
              0.6666666666666666,
              "#ed7953"
             ],
             [
              0.7777777777777778,
              "#fb9f3a"
             ],
             [
              0.8888888888888888,
              "#fdca26"
             ],
             [
              1,
              "#f0f921"
             ]
            ],
            "type": "histogram2d"
           }
          ],
          "histogram2dcontour": [
           {
            "colorbar": {
             "outlinewidth": 0,
             "ticks": ""
            },
            "colorscale": [
             [
              0,
              "#0d0887"
             ],
             [
              0.1111111111111111,
              "#46039f"
             ],
             [
              0.2222222222222222,
              "#7201a8"
             ],
             [
              0.3333333333333333,
              "#9c179e"
             ],
             [
              0.4444444444444444,
              "#bd3786"
             ],
             [
              0.5555555555555556,
              "#d8576b"
             ],
             [
              0.6666666666666666,
              "#ed7953"
             ],
             [
              0.7777777777777778,
              "#fb9f3a"
             ],
             [
              0.8888888888888888,
              "#fdca26"
             ],
             [
              1,
              "#f0f921"
             ]
            ],
            "type": "histogram2dcontour"
           }
          ],
          "mesh3d": [
           {
            "colorbar": {
             "outlinewidth": 0,
             "ticks": ""
            },
            "type": "mesh3d"
           }
          ],
          "parcoords": [
           {
            "line": {
             "colorbar": {
              "outlinewidth": 0,
              "ticks": ""
             }
            },
            "type": "parcoords"
           }
          ],
          "pie": [
           {
            "automargin": true,
            "type": "pie"
           }
          ],
          "scatter": [
           {
            "marker": {
             "colorbar": {
              "outlinewidth": 0,
              "ticks": ""
             }
            },
            "type": "scatter"
           }
          ],
          "scatter3d": [
           {
            "line": {
             "colorbar": {
              "outlinewidth": 0,
              "ticks": ""
             }
            },
            "marker": {
             "colorbar": {
              "outlinewidth": 0,
              "ticks": ""
             }
            },
            "type": "scatter3d"
           }
          ],
          "scattercarpet": [
           {
            "marker": {
             "colorbar": {
              "outlinewidth": 0,
              "ticks": ""
             }
            },
            "type": "scattercarpet"
           }
          ],
          "scattergeo": [
           {
            "marker": {
             "colorbar": {
              "outlinewidth": 0,
              "ticks": ""
             }
            },
            "type": "scattergeo"
           }
          ],
          "scattergl": [
           {
            "marker": {
             "colorbar": {
              "outlinewidth": 0,
              "ticks": ""
             }
            },
            "type": "scattergl"
           }
          ],
          "scattermapbox": [
           {
            "marker": {
             "colorbar": {
              "outlinewidth": 0,
              "ticks": ""
             }
            },
            "type": "scattermapbox"
           }
          ],
          "scatterpolar": [
           {
            "marker": {
             "colorbar": {
              "outlinewidth": 0,
              "ticks": ""
             }
            },
            "type": "scatterpolar"
           }
          ],
          "scatterpolargl": [
           {
            "marker": {
             "colorbar": {
              "outlinewidth": 0,
              "ticks": ""
             }
            },
            "type": "scatterpolargl"
           }
          ],
          "scatterternary": [
           {
            "marker": {
             "colorbar": {
              "outlinewidth": 0,
              "ticks": ""
             }
            },
            "type": "scatterternary"
           }
          ],
          "surface": [
           {
            "colorbar": {
             "outlinewidth": 0,
             "ticks": ""
            },
            "colorscale": [
             [
              0,
              "#0d0887"
             ],
             [
              0.1111111111111111,
              "#46039f"
             ],
             [
              0.2222222222222222,
              "#7201a8"
             ],
             [
              0.3333333333333333,
              "#9c179e"
             ],
             [
              0.4444444444444444,
              "#bd3786"
             ],
             [
              0.5555555555555556,
              "#d8576b"
             ],
             [
              0.6666666666666666,
              "#ed7953"
             ],
             [
              0.7777777777777778,
              "#fb9f3a"
             ],
             [
              0.8888888888888888,
              "#fdca26"
             ],
             [
              1,
              "#f0f921"
             ]
            ],
            "type": "surface"
           }
          ],
          "table": [
           {
            "cells": {
             "fill": {
              "color": "#EBF0F8"
             },
             "line": {
              "color": "white"
             }
            },
            "header": {
             "fill": {
              "color": "#C8D4E3"
             },
             "line": {
              "color": "white"
             }
            },
            "type": "table"
           }
          ]
         },
         "layout": {
          "annotationdefaults": {
           "arrowcolor": "#2a3f5f",
           "arrowhead": 0,
           "arrowwidth": 1
          },
          "coloraxis": {
           "colorbar": {
            "outlinewidth": 0,
            "ticks": ""
           }
          },
          "colorscale": {
           "diverging": [
            [
             0,
             "#8e0152"
            ],
            [
             0.1,
             "#c51b7d"
            ],
            [
             0.2,
             "#de77ae"
            ],
            [
             0.3,
             "#f1b6da"
            ],
            [
             0.4,
             "#fde0ef"
            ],
            [
             0.5,
             "#f7f7f7"
            ],
            [
             0.6,
             "#e6f5d0"
            ],
            [
             0.7,
             "#b8e186"
            ],
            [
             0.8,
             "#7fbc41"
            ],
            [
             0.9,
             "#4d9221"
            ],
            [
             1,
             "#276419"
            ]
           ],
           "sequential": [
            [
             0,
             "#0d0887"
            ],
            [
             0.1111111111111111,
             "#46039f"
            ],
            [
             0.2222222222222222,
             "#7201a8"
            ],
            [
             0.3333333333333333,
             "#9c179e"
            ],
            [
             0.4444444444444444,
             "#bd3786"
            ],
            [
             0.5555555555555556,
             "#d8576b"
            ],
            [
             0.6666666666666666,
             "#ed7953"
            ],
            [
             0.7777777777777778,
             "#fb9f3a"
            ],
            [
             0.8888888888888888,
             "#fdca26"
            ],
            [
             1,
             "#f0f921"
            ]
           ],
           "sequentialminus": [
            [
             0,
             "#0d0887"
            ],
            [
             0.1111111111111111,
             "#46039f"
            ],
            [
             0.2222222222222222,
             "#7201a8"
            ],
            [
             0.3333333333333333,
             "#9c179e"
            ],
            [
             0.4444444444444444,
             "#bd3786"
            ],
            [
             0.5555555555555556,
             "#d8576b"
            ],
            [
             0.6666666666666666,
             "#ed7953"
            ],
            [
             0.7777777777777778,
             "#fb9f3a"
            ],
            [
             0.8888888888888888,
             "#fdca26"
            ],
            [
             1,
             "#f0f921"
            ]
           ]
          },
          "colorway": [
           "#636efa",
           "#EF553B",
           "#00cc96",
           "#ab63fa",
           "#FFA15A",
           "#19d3f3",
           "#FF6692",
           "#B6E880",
           "#FF97FF",
           "#FECB52"
          ],
          "font": {
           "color": "#2a3f5f"
          },
          "geo": {
           "bgcolor": "white",
           "lakecolor": "white",
           "landcolor": "#E5ECF6",
           "showlakes": true,
           "showland": true,
           "subunitcolor": "white"
          },
          "hoverlabel": {
           "align": "left"
          },
          "hovermode": "closest",
          "mapbox": {
           "style": "light"
          },
          "paper_bgcolor": "white",
          "plot_bgcolor": "#E5ECF6",
          "polar": {
           "angularaxis": {
            "gridcolor": "white",
            "linecolor": "white",
            "ticks": ""
           },
           "bgcolor": "#E5ECF6",
           "radialaxis": {
            "gridcolor": "white",
            "linecolor": "white",
            "ticks": ""
           }
          },
          "scene": {
           "xaxis": {
            "backgroundcolor": "#E5ECF6",
            "gridcolor": "white",
            "gridwidth": 2,
            "linecolor": "white",
            "showbackground": true,
            "ticks": "",
            "zerolinecolor": "white"
           },
           "yaxis": {
            "backgroundcolor": "#E5ECF6",
            "gridcolor": "white",
            "gridwidth": 2,
            "linecolor": "white",
            "showbackground": true,
            "ticks": "",
            "zerolinecolor": "white"
           },
           "zaxis": {
            "backgroundcolor": "#E5ECF6",
            "gridcolor": "white",
            "gridwidth": 2,
            "linecolor": "white",
            "showbackground": true,
            "ticks": "",
            "zerolinecolor": "white"
           }
          },
          "shapedefaults": {
           "line": {
            "color": "#2a3f5f"
           }
          },
          "ternary": {
           "aaxis": {
            "gridcolor": "white",
            "linecolor": "white",
            "ticks": ""
           },
           "baxis": {
            "gridcolor": "white",
            "linecolor": "white",
            "ticks": ""
           },
           "bgcolor": "#E5ECF6",
           "caxis": {
            "gridcolor": "white",
            "linecolor": "white",
            "ticks": ""
           }
          },
          "title": {
           "x": 0.05
          },
          "xaxis": {
           "automargin": true,
           "gridcolor": "white",
           "linecolor": "white",
           "ticks": "",
           "title": {
            "standoff": 15
           },
           "zerolinecolor": "white",
           "zerolinewidth": 2
          },
          "yaxis": {
           "automargin": true,
           "gridcolor": "white",
           "linecolor": "white",
           "ticks": "",
           "title": {
            "standoff": 15
           },
           "zerolinecolor": "white",
           "zerolinewidth": 2
          }
         }
        },
        "title": {
         "text": "Protein levels of common cereals in 1993 and 2020"
        },
        "xaxis": {
         "title": {
          "text": "Common Cereals"
         }
        },
        "yaxis": {
         "title": {
          "text": "Protein (grams/ounce)"
         }
        }
       }
      },
      "text/html": [
       "<div>                            <div id=\"626126cd-c69b-48e2-85a1-29f8d70f103f\" class=\"plotly-graph-div\" style=\"height:525px; width:100%;\"></div>            <script type=\"text/javascript\">                require([\"plotly\"], function(Plotly) {                    window.PLOTLYENV=window.PLOTLYENV || {};                                    if (document.getElementById(\"626126cd-c69b-48e2-85a1-29f8d70f103f\")) {                    Plotly.newPlot(                        \"626126cd-c69b-48e2-85a1-29f8d70f103f\",                        [{\"marker\": {\"line\": {\"width\": 0}, \"size\": 12}, \"mode\": \"lines+markers\", \"name\": \"1993\", \"type\": \"scatter\", \"x\": [\"All-Bran\", \"Apple Jacks\", \"Basic 4\", \"Cocoa Puffs\", \"Corn Flakes\", \"Corn Pops\", \"Cracklin' Oat Bran\", \"Crispix\", \"Froot Loops\", \"Frosted Flakes\", \"Golden Grahams\", \"Kix\", \"Oatmeal Raisin Crisp\", \"Raisin Bran\", \"Raisin Nut Bran\", \"Rice Krispies\", \"Special K\", \"Total Whole Grain\", \"Trix\", \"Wheaties\"], \"y\": [4, 2, 2, 1, 2, 1, 3, 2, 2, 1, 1, 2, 2, 2, 3, 2, 6, 3, 1, 3]}, {\"marker\": {\"line\": {\"width\": 0}, \"size\": 12}, \"mode\": \"lines+markers\", \"name\": \"2020\", \"type\": \"scatter\", \"x\": [\"All-Bran\", \"Apple Jacks\", \"Basic 4\", \"Cocoa Puffs\", \"Corn Flakes\", \"Corn Pops\", \"Cracklin' Oat Bran\", \"Crispix\", \"Froot Loops\", \"Frosted Flakes\", \"Golden Grahams\", \"Kix\", \"Oatmeal Raisin Crisp\", \"Raisin Bran\", \"Raisin Nut Bran\", \"Rice Krispies\", \"Special K\", \"Total Whole Grain\", \"Trix\", \"Wheaties\"], \"y\": [3, 1, 2, 2, 2, 1, 2, 2, 1, 2, 1, 2, 1, 2, 2, 2, 5, 6, 1, 2]}],                        {\"showlegend\": true, \"template\": {\"data\": {\"bar\": [{\"error_x\": {\"color\": \"#2a3f5f\"}, \"error_y\": {\"color\": \"#2a3f5f\"}, \"marker\": {\"line\": {\"color\": \"#E5ECF6\", \"width\": 0.5}}, \"type\": \"bar\"}], \"barpolar\": [{\"marker\": {\"line\": {\"color\": \"#E5ECF6\", \"width\": 0.5}}, \"type\": \"barpolar\"}], \"carpet\": [{\"aaxis\": {\"endlinecolor\": \"#2a3f5f\", \"gridcolor\": \"white\", \"linecolor\": \"white\", \"minorgridcolor\": \"white\", \"startlinecolor\": \"#2a3f5f\"}, \"baxis\": {\"endlinecolor\": \"#2a3f5f\", \"gridcolor\": \"white\", \"linecolor\": \"white\", \"minorgridcolor\": \"white\", \"startlinecolor\": \"#2a3f5f\"}, \"type\": \"carpet\"}], \"choropleth\": [{\"colorbar\": {\"outlinewidth\": 0, \"ticks\": \"\"}, \"type\": \"choropleth\"}], \"contour\": [{\"colorbar\": {\"outlinewidth\": 0, \"ticks\": \"\"}, \"colorscale\": [[0.0, \"#0d0887\"], [0.1111111111111111, \"#46039f\"], [0.2222222222222222, \"#7201a8\"], [0.3333333333333333, \"#9c179e\"], [0.4444444444444444, \"#bd3786\"], [0.5555555555555556, \"#d8576b\"], [0.6666666666666666, \"#ed7953\"], [0.7777777777777778, \"#fb9f3a\"], [0.8888888888888888, \"#fdca26\"], [1.0, \"#f0f921\"]], \"type\": \"contour\"}], \"contourcarpet\": [{\"colorbar\": {\"outlinewidth\": 0, \"ticks\": \"\"}, \"type\": \"contourcarpet\"}], \"heatmap\": [{\"colorbar\": {\"outlinewidth\": 0, \"ticks\": \"\"}, \"colorscale\": [[0.0, \"#0d0887\"], [0.1111111111111111, \"#46039f\"], [0.2222222222222222, \"#7201a8\"], [0.3333333333333333, \"#9c179e\"], [0.4444444444444444, \"#bd3786\"], [0.5555555555555556, \"#d8576b\"], [0.6666666666666666, \"#ed7953\"], [0.7777777777777778, \"#fb9f3a\"], [0.8888888888888888, \"#fdca26\"], [1.0, \"#f0f921\"]], \"type\": \"heatmap\"}], \"heatmapgl\": [{\"colorbar\": {\"outlinewidth\": 0, \"ticks\": \"\"}, \"colorscale\": [[0.0, \"#0d0887\"], [0.1111111111111111, \"#46039f\"], [0.2222222222222222, \"#7201a8\"], [0.3333333333333333, \"#9c179e\"], [0.4444444444444444, \"#bd3786\"], [0.5555555555555556, \"#d8576b\"], [0.6666666666666666, \"#ed7953\"], [0.7777777777777778, \"#fb9f3a\"], [0.8888888888888888, \"#fdca26\"], [1.0, \"#f0f921\"]], \"type\": \"heatmapgl\"}], \"histogram\": [{\"marker\": {\"colorbar\": {\"outlinewidth\": 0, \"ticks\": \"\"}}, \"type\": \"histogram\"}], \"histogram2d\": [{\"colorbar\": {\"outlinewidth\": 0, \"ticks\": \"\"}, \"colorscale\": [[0.0, \"#0d0887\"], [0.1111111111111111, \"#46039f\"], [0.2222222222222222, \"#7201a8\"], [0.3333333333333333, \"#9c179e\"], [0.4444444444444444, \"#bd3786\"], [0.5555555555555556, \"#d8576b\"], [0.6666666666666666, \"#ed7953\"], [0.7777777777777778, \"#fb9f3a\"], [0.8888888888888888, \"#fdca26\"], [1.0, \"#f0f921\"]], \"type\": \"histogram2d\"}], \"histogram2dcontour\": [{\"colorbar\": {\"outlinewidth\": 0, \"ticks\": \"\"}, \"colorscale\": [[0.0, \"#0d0887\"], [0.1111111111111111, \"#46039f\"], [0.2222222222222222, \"#7201a8\"], [0.3333333333333333, \"#9c179e\"], [0.4444444444444444, \"#bd3786\"], [0.5555555555555556, \"#d8576b\"], [0.6666666666666666, \"#ed7953\"], [0.7777777777777778, \"#fb9f3a\"], [0.8888888888888888, \"#fdca26\"], [1.0, \"#f0f921\"]], \"type\": \"histogram2dcontour\"}], \"mesh3d\": [{\"colorbar\": {\"outlinewidth\": 0, \"ticks\": \"\"}, \"type\": \"mesh3d\"}], \"parcoords\": [{\"line\": {\"colorbar\": {\"outlinewidth\": 0, \"ticks\": \"\"}}, \"type\": \"parcoords\"}], \"pie\": [{\"automargin\": true, \"type\": \"pie\"}], \"scatter\": [{\"marker\": {\"colorbar\": {\"outlinewidth\": 0, \"ticks\": \"\"}}, \"type\": \"scatter\"}], \"scatter3d\": [{\"line\": {\"colorbar\": {\"outlinewidth\": 0, \"ticks\": \"\"}}, \"marker\": {\"colorbar\": {\"outlinewidth\": 0, \"ticks\": \"\"}}, \"type\": \"scatter3d\"}], \"scattercarpet\": [{\"marker\": {\"colorbar\": {\"outlinewidth\": 0, \"ticks\": \"\"}}, \"type\": \"scattercarpet\"}], \"scattergeo\": [{\"marker\": {\"colorbar\": {\"outlinewidth\": 0, \"ticks\": \"\"}}, \"type\": \"scattergeo\"}], \"scattergl\": [{\"marker\": {\"colorbar\": {\"outlinewidth\": 0, \"ticks\": \"\"}}, \"type\": \"scattergl\"}], \"scattermapbox\": [{\"marker\": {\"colorbar\": {\"outlinewidth\": 0, \"ticks\": \"\"}}, \"type\": \"scattermapbox\"}], \"scatterpolar\": [{\"marker\": {\"colorbar\": {\"outlinewidth\": 0, \"ticks\": \"\"}}, \"type\": \"scatterpolar\"}], \"scatterpolargl\": [{\"marker\": {\"colorbar\": {\"outlinewidth\": 0, \"ticks\": \"\"}}, \"type\": \"scatterpolargl\"}], \"scatterternary\": [{\"marker\": {\"colorbar\": {\"outlinewidth\": 0, \"ticks\": \"\"}}, \"type\": \"scatterternary\"}], \"surface\": [{\"colorbar\": {\"outlinewidth\": 0, \"ticks\": \"\"}, \"colorscale\": [[0.0, \"#0d0887\"], [0.1111111111111111, \"#46039f\"], [0.2222222222222222, \"#7201a8\"], [0.3333333333333333, \"#9c179e\"], [0.4444444444444444, \"#bd3786\"], [0.5555555555555556, \"#d8576b\"], [0.6666666666666666, \"#ed7953\"], [0.7777777777777778, \"#fb9f3a\"], [0.8888888888888888, \"#fdca26\"], [1.0, \"#f0f921\"]], \"type\": \"surface\"}], \"table\": [{\"cells\": {\"fill\": {\"color\": \"#EBF0F8\"}, \"line\": {\"color\": \"white\"}}, \"header\": {\"fill\": {\"color\": \"#C8D4E3\"}, \"line\": {\"color\": \"white\"}}, \"type\": \"table\"}]}, \"layout\": {\"annotationdefaults\": {\"arrowcolor\": \"#2a3f5f\", \"arrowhead\": 0, \"arrowwidth\": 1}, \"coloraxis\": {\"colorbar\": {\"outlinewidth\": 0, \"ticks\": \"\"}}, \"colorscale\": {\"diverging\": [[0, \"#8e0152\"], [0.1, \"#c51b7d\"], [0.2, \"#de77ae\"], [0.3, \"#f1b6da\"], [0.4, \"#fde0ef\"], [0.5, \"#f7f7f7\"], [0.6, \"#e6f5d0\"], [0.7, \"#b8e186\"], [0.8, \"#7fbc41\"], [0.9, \"#4d9221\"], [1, \"#276419\"]], \"sequential\": [[0.0, \"#0d0887\"], [0.1111111111111111, \"#46039f\"], [0.2222222222222222, \"#7201a8\"], [0.3333333333333333, \"#9c179e\"], [0.4444444444444444, \"#bd3786\"], [0.5555555555555556, \"#d8576b\"], [0.6666666666666666, \"#ed7953\"], [0.7777777777777778, \"#fb9f3a\"], [0.8888888888888888, \"#fdca26\"], [1.0, \"#f0f921\"]], \"sequentialminus\": [[0.0, \"#0d0887\"], [0.1111111111111111, \"#46039f\"], [0.2222222222222222, \"#7201a8\"], [0.3333333333333333, \"#9c179e\"], [0.4444444444444444, \"#bd3786\"], [0.5555555555555556, \"#d8576b\"], [0.6666666666666666, \"#ed7953\"], [0.7777777777777778, \"#fb9f3a\"], [0.8888888888888888, \"#fdca26\"], [1.0, \"#f0f921\"]]}, \"colorway\": [\"#636efa\", \"#EF553B\", \"#00cc96\", \"#ab63fa\", \"#FFA15A\", \"#19d3f3\", \"#FF6692\", \"#B6E880\", \"#FF97FF\", \"#FECB52\"], \"font\": {\"color\": \"#2a3f5f\"}, \"geo\": {\"bgcolor\": \"white\", \"lakecolor\": \"white\", \"landcolor\": \"#E5ECF6\", \"showlakes\": true, \"showland\": true, \"subunitcolor\": \"white\"}, \"hoverlabel\": {\"align\": \"left\"}, \"hovermode\": \"closest\", \"mapbox\": {\"style\": \"light\"}, \"paper_bgcolor\": \"white\", \"plot_bgcolor\": \"#E5ECF6\", \"polar\": {\"angularaxis\": {\"gridcolor\": \"white\", \"linecolor\": \"white\", \"ticks\": \"\"}, \"bgcolor\": \"#E5ECF6\", \"radialaxis\": {\"gridcolor\": \"white\", \"linecolor\": \"white\", \"ticks\": \"\"}}, \"scene\": {\"xaxis\": {\"backgroundcolor\": \"#E5ECF6\", \"gridcolor\": \"white\", \"gridwidth\": 2, \"linecolor\": \"white\", \"showbackground\": true, \"ticks\": \"\", \"zerolinecolor\": \"white\"}, \"yaxis\": {\"backgroundcolor\": \"#E5ECF6\", \"gridcolor\": \"white\", \"gridwidth\": 2, \"linecolor\": \"white\", \"showbackground\": true, \"ticks\": \"\", \"zerolinecolor\": \"white\"}, \"zaxis\": {\"backgroundcolor\": \"#E5ECF6\", \"gridcolor\": \"white\", \"gridwidth\": 2, \"linecolor\": \"white\", \"showbackground\": true, \"ticks\": \"\", \"zerolinecolor\": \"white\"}}, \"shapedefaults\": {\"line\": {\"color\": \"#2a3f5f\"}}, \"ternary\": {\"aaxis\": {\"gridcolor\": \"white\", \"linecolor\": \"white\", \"ticks\": \"\"}, \"baxis\": {\"gridcolor\": \"white\", \"linecolor\": \"white\", \"ticks\": \"\"}, \"bgcolor\": \"#E5ECF6\", \"caxis\": {\"gridcolor\": \"white\", \"linecolor\": \"white\", \"ticks\": \"\"}}, \"title\": {\"x\": 0.05}, \"xaxis\": {\"automargin\": true, \"gridcolor\": \"white\", \"linecolor\": \"white\", \"ticks\": \"\", \"title\": {\"standoff\": 15}, \"zerolinecolor\": \"white\", \"zerolinewidth\": 2}, \"yaxis\": {\"automargin\": true, \"gridcolor\": \"white\", \"linecolor\": \"white\", \"ticks\": \"\", \"title\": {\"standoff\": 15}, \"zerolinecolor\": \"white\", \"zerolinewidth\": 2}}}, \"title\": {\"text\": \"Protein levels of common cereals in 1993 and 2020\"}, \"xaxis\": {\"title\": {\"text\": \"Common Cereals\"}}, \"yaxis\": {\"title\": {\"text\": \"Protein (grams/ounce)\"}}},                        {\"responsive\": true}                    ).then(function(){\n",
       "                            \n",
       "var gd = document.getElementById('626126cd-c69b-48e2-85a1-29f8d70f103f');\n",
       "var x = new MutationObserver(function (mutations, observer) {{\n",
       "        var display = window.getComputedStyle(gd).display;\n",
       "        if (!display || display === 'none') {{\n",
       "            console.log([gd, 'removed!']);\n",
       "            Plotly.purge(gd);\n",
       "            observer.disconnect();\n",
       "        }}\n",
       "}});\n",
       "\n",
       "// Listen for the removal of the full notebook cells\n",
       "var notebookContainer = gd.closest('#notebook-container');\n",
       "if (notebookContainer) {{\n",
       "    x.observe(notebookContainer, {childList: true});\n",
       "}}\n",
       "\n",
       "// Listen for the clearing of the current output cell\n",
       "var outputEl = gd.closest('.output');\n",
       "if (outputEl) {{\n",
       "    x.observe(outputEl, {childList: true});\n",
       "}}\n",
       "\n",
       "                        })                };                });            </script>        </div>"
      ]
     },
     "metadata": {},
     "output_type": "display_data"
    },
    {
     "data": {
      "application/vnd.plotly.v1+json": {
       "config": {
        "plotlyServerURL": "https://plotly.com"
       },
       "data": [
        {
         "boxpoints": "all",
         "name": "Protein",
         "text": [
          "100% Bran",
          "100% Natural Bran",
          "All-Bran",
          "All-Bran with Extra Fiber",
          "Almond Delight",
          "Apple Cinnamon Cheerios",
          "Apple Jacks",
          "Basic 4",
          "Bran Chex",
          "Bran Flakes",
          "Cap'n'Crunch",
          "Cheerios",
          "Cinnamon Toast Crunch",
          "Clusters",
          "Cocoa Puffs",
          "Corn Chex",
          "Corn Flakes",
          "Corn Pops",
          "Count Chocula",
          "Cracklin' Oat Bran",
          "Cream of Wheat (Quick)",
          "Crispix",
          "Crispy Wheat & Raisins",
          "Double Chex",
          "Froot Loops",
          "Frosted Flakes",
          "Frosted Mini-Wheats",
          "Fruit & Fibre Dates",
          "Fruitful Bran",
          "Fruity Pebbles",
          "Golden Crisp",
          "Golden Grahams",
          "Grape Nuts Flakes",
          "Grape-Nuts",
          "Great Grains Pecan",
          "Honey Graham Ohs",
          "Honey Nut Cheerios",
          "Honey-comb",
          "Just Right Crunchy  Nuggets",
          "Just Right Fruit & Nut",
          "Kix",
          "Life",
          "Lucky Charms",
          "Maypo",
          "Dates & Almonds",
          "Peaches & Pecans",
          "Mueslix Crispy Blend",
          "Multi-Grain Cheerios",
          "Nut&Honey Crunch",
          "Nutri-Grain Almond-Raisin",
          "Nutri-grain Wheat",
          "Oatmeal Raisin Crisp",
          "Post Nat. Raisin Bran",
          "Product 19",
          "Puffed Rice",
          "Puffed Wheat",
          "Quaker Oat Squares",
          "Quaker Oatmeal",
          "Raisin Bran",
          "Raisin Nut Bran",
          "Raisin Squares",
          "Rice Chex",
          "Rice Krispies",
          "Shredded Wheat",
          "Shredded Wheat 'n'Bran",
          "Shredded Wheat spoon size",
          "Smacks",
          "Special K",
          "Strawberry Fruit Wheats",
          "Total Corn Flakes",
          "Total Raisin Bran",
          "Total Whole Grain",
          "Triples",
          "Trix",
          "Walnuts & Oats",
          "Wheat Chex",
          "Wheaties",
          "Wheaties Honey Gold",
          "All-Bran Complete Wheat Flakes Cereal",
          "Eggo",
          "Honey Smacks",
          "Krave Double Chocolate",
          "Peeps",
          "Smart Start",
          "Annie's Whole Grain Cereal",
          "Cascadian Farm Organic Raisin Bran",
          "Cheerios Multi Grain",
          "Chex Wheat Cereal",
          "Cookie Crisp",
          "Dunkaroos",
          "Fiber One",
          "Good Belly",
          "Larabar (Peanut Butter)",
          "Oatmeal Crisp",
          "Wonderworks (Peanut Butter)",
          "Ahold 100% Whole Grain",
          "Hannaford Frosted Flakes",
          "Martin's Food Lion",
          "Hannaford Tasteeos Cereal",
          "Ahold Vanilla Almond Cereal",
          "Kelloggs Special Fruit & Yogurt",
          "Kelloggs Special Original Cereal",
          "Quaker Life Cinnamon Multigrain",
          "Quaker Life Original Multigrain",
          "Quaker Life Ltd. Edition, Pumpkin Spice",
          "All-Bran",
          "Apple Jacks",
          "Basic 4",
          "Cocoa Puffs",
          "Corn Flakes",
          "Corn Pops",
          "Cracklin' Oat Bran",
          "Crispix",
          "Froot Loops",
          "Frosted Flakes",
          "Golden Grahams",
          "Kix",
          "Oatmeal Raisin Crisp",
          "Raisin Bran",
          "Raisin Nut Bran",
          "Rice Krispies",
          "Special K",
          "Total Whole Grain",
          "Trix",
          "Wheaties"
         ],
         "type": "box",
         "x": [
          1993,
          1993,
          1993,
          1993,
          1993,
          1993,
          1993,
          1993,
          1993,
          1993,
          1993,
          1993,
          1993,
          1993,
          1993,
          1993,
          1993,
          1993,
          1993,
          1993,
          2020,
          2020,
          2020,
          2020,
          2020,
          2020,
          2020,
          2020,
          2020,
          2020,
          2020,
          2020,
          2020,
          2020,
          2020,
          2020,
          2020,
          2020,
          2020,
          2020
         ],
         "y": [
          4,
          2,
          2,
          1,
          2,
          1,
          3,
          2,
          2,
          1,
          1,
          2,
          2,
          2,
          3,
          2,
          6,
          3,
          1,
          3,
          3,
          1,
          2,
          2,
          2,
          1,
          2,
          2,
          1,
          2,
          1,
          2,
          1,
          2,
          2,
          2,
          5,
          6,
          1,
          2
         ]
        }
       ],
       "layout": {
        "boxmode": "group",
        "template": {
         "data": {
          "bar": [
           {
            "error_x": {
             "color": "#2a3f5f"
            },
            "error_y": {
             "color": "#2a3f5f"
            },
            "marker": {
             "line": {
              "color": "#E5ECF6",
              "width": 0.5
             }
            },
            "type": "bar"
           }
          ],
          "barpolar": [
           {
            "marker": {
             "line": {
              "color": "#E5ECF6",
              "width": 0.5
             }
            },
            "type": "barpolar"
           }
          ],
          "carpet": [
           {
            "aaxis": {
             "endlinecolor": "#2a3f5f",
             "gridcolor": "white",
             "linecolor": "white",
             "minorgridcolor": "white",
             "startlinecolor": "#2a3f5f"
            },
            "baxis": {
             "endlinecolor": "#2a3f5f",
             "gridcolor": "white",
             "linecolor": "white",
             "minorgridcolor": "white",
             "startlinecolor": "#2a3f5f"
            },
            "type": "carpet"
           }
          ],
          "choropleth": [
           {
            "colorbar": {
             "outlinewidth": 0,
             "ticks": ""
            },
            "type": "choropleth"
           }
          ],
          "contour": [
           {
            "colorbar": {
             "outlinewidth": 0,
             "ticks": ""
            },
            "colorscale": [
             [
              0,
              "#0d0887"
             ],
             [
              0.1111111111111111,
              "#46039f"
             ],
             [
              0.2222222222222222,
              "#7201a8"
             ],
             [
              0.3333333333333333,
              "#9c179e"
             ],
             [
              0.4444444444444444,
              "#bd3786"
             ],
             [
              0.5555555555555556,
              "#d8576b"
             ],
             [
              0.6666666666666666,
              "#ed7953"
             ],
             [
              0.7777777777777778,
              "#fb9f3a"
             ],
             [
              0.8888888888888888,
              "#fdca26"
             ],
             [
              1,
              "#f0f921"
             ]
            ],
            "type": "contour"
           }
          ],
          "contourcarpet": [
           {
            "colorbar": {
             "outlinewidth": 0,
             "ticks": ""
            },
            "type": "contourcarpet"
           }
          ],
          "heatmap": [
           {
            "colorbar": {
             "outlinewidth": 0,
             "ticks": ""
            },
            "colorscale": [
             [
              0,
              "#0d0887"
             ],
             [
              0.1111111111111111,
              "#46039f"
             ],
             [
              0.2222222222222222,
              "#7201a8"
             ],
             [
              0.3333333333333333,
              "#9c179e"
             ],
             [
              0.4444444444444444,
              "#bd3786"
             ],
             [
              0.5555555555555556,
              "#d8576b"
             ],
             [
              0.6666666666666666,
              "#ed7953"
             ],
             [
              0.7777777777777778,
              "#fb9f3a"
             ],
             [
              0.8888888888888888,
              "#fdca26"
             ],
             [
              1,
              "#f0f921"
             ]
            ],
            "type": "heatmap"
           }
          ],
          "heatmapgl": [
           {
            "colorbar": {
             "outlinewidth": 0,
             "ticks": ""
            },
            "colorscale": [
             [
              0,
              "#0d0887"
             ],
             [
              0.1111111111111111,
              "#46039f"
             ],
             [
              0.2222222222222222,
              "#7201a8"
             ],
             [
              0.3333333333333333,
              "#9c179e"
             ],
             [
              0.4444444444444444,
              "#bd3786"
             ],
             [
              0.5555555555555556,
              "#d8576b"
             ],
             [
              0.6666666666666666,
              "#ed7953"
             ],
             [
              0.7777777777777778,
              "#fb9f3a"
             ],
             [
              0.8888888888888888,
              "#fdca26"
             ],
             [
              1,
              "#f0f921"
             ]
            ],
            "type": "heatmapgl"
           }
          ],
          "histogram": [
           {
            "marker": {
             "colorbar": {
              "outlinewidth": 0,
              "ticks": ""
             }
            },
            "type": "histogram"
           }
          ],
          "histogram2d": [
           {
            "colorbar": {
             "outlinewidth": 0,
             "ticks": ""
            },
            "colorscale": [
             [
              0,
              "#0d0887"
             ],
             [
              0.1111111111111111,
              "#46039f"
             ],
             [
              0.2222222222222222,
              "#7201a8"
             ],
             [
              0.3333333333333333,
              "#9c179e"
             ],
             [
              0.4444444444444444,
              "#bd3786"
             ],
             [
              0.5555555555555556,
              "#d8576b"
             ],
             [
              0.6666666666666666,
              "#ed7953"
             ],
             [
              0.7777777777777778,
              "#fb9f3a"
             ],
             [
              0.8888888888888888,
              "#fdca26"
             ],
             [
              1,
              "#f0f921"
             ]
            ],
            "type": "histogram2d"
           }
          ],
          "histogram2dcontour": [
           {
            "colorbar": {
             "outlinewidth": 0,
             "ticks": ""
            },
            "colorscale": [
             [
              0,
              "#0d0887"
             ],
             [
              0.1111111111111111,
              "#46039f"
             ],
             [
              0.2222222222222222,
              "#7201a8"
             ],
             [
              0.3333333333333333,
              "#9c179e"
             ],
             [
              0.4444444444444444,
              "#bd3786"
             ],
             [
              0.5555555555555556,
              "#d8576b"
             ],
             [
              0.6666666666666666,
              "#ed7953"
             ],
             [
              0.7777777777777778,
              "#fb9f3a"
             ],
             [
              0.8888888888888888,
              "#fdca26"
             ],
             [
              1,
              "#f0f921"
             ]
            ],
            "type": "histogram2dcontour"
           }
          ],
          "mesh3d": [
           {
            "colorbar": {
             "outlinewidth": 0,
             "ticks": ""
            },
            "type": "mesh3d"
           }
          ],
          "parcoords": [
           {
            "line": {
             "colorbar": {
              "outlinewidth": 0,
              "ticks": ""
             }
            },
            "type": "parcoords"
           }
          ],
          "pie": [
           {
            "automargin": true,
            "type": "pie"
           }
          ],
          "scatter": [
           {
            "marker": {
             "colorbar": {
              "outlinewidth": 0,
              "ticks": ""
             }
            },
            "type": "scatter"
           }
          ],
          "scatter3d": [
           {
            "line": {
             "colorbar": {
              "outlinewidth": 0,
              "ticks": ""
             }
            },
            "marker": {
             "colorbar": {
              "outlinewidth": 0,
              "ticks": ""
             }
            },
            "type": "scatter3d"
           }
          ],
          "scattercarpet": [
           {
            "marker": {
             "colorbar": {
              "outlinewidth": 0,
              "ticks": ""
             }
            },
            "type": "scattercarpet"
           }
          ],
          "scattergeo": [
           {
            "marker": {
             "colorbar": {
              "outlinewidth": 0,
              "ticks": ""
             }
            },
            "type": "scattergeo"
           }
          ],
          "scattergl": [
           {
            "marker": {
             "colorbar": {
              "outlinewidth": 0,
              "ticks": ""
             }
            },
            "type": "scattergl"
           }
          ],
          "scattermapbox": [
           {
            "marker": {
             "colorbar": {
              "outlinewidth": 0,
              "ticks": ""
             }
            },
            "type": "scattermapbox"
           }
          ],
          "scatterpolar": [
           {
            "marker": {
             "colorbar": {
              "outlinewidth": 0,
              "ticks": ""
             }
            },
            "type": "scatterpolar"
           }
          ],
          "scatterpolargl": [
           {
            "marker": {
             "colorbar": {
              "outlinewidth": 0,
              "ticks": ""
             }
            },
            "type": "scatterpolargl"
           }
          ],
          "scatterternary": [
           {
            "marker": {
             "colorbar": {
              "outlinewidth": 0,
              "ticks": ""
             }
            },
            "type": "scatterternary"
           }
          ],
          "surface": [
           {
            "colorbar": {
             "outlinewidth": 0,
             "ticks": ""
            },
            "colorscale": [
             [
              0,
              "#0d0887"
             ],
             [
              0.1111111111111111,
              "#46039f"
             ],
             [
              0.2222222222222222,
              "#7201a8"
             ],
             [
              0.3333333333333333,
              "#9c179e"
             ],
             [
              0.4444444444444444,
              "#bd3786"
             ],
             [
              0.5555555555555556,
              "#d8576b"
             ],
             [
              0.6666666666666666,
              "#ed7953"
             ],
             [
              0.7777777777777778,
              "#fb9f3a"
             ],
             [
              0.8888888888888888,
              "#fdca26"
             ],
             [
              1,
              "#f0f921"
             ]
            ],
            "type": "surface"
           }
          ],
          "table": [
           {
            "cells": {
             "fill": {
              "color": "#EBF0F8"
             },
             "line": {
              "color": "white"
             }
            },
            "header": {
             "fill": {
              "color": "#C8D4E3"
             },
             "line": {
              "color": "white"
             }
            },
            "type": "table"
           }
          ]
         },
         "layout": {
          "annotationdefaults": {
           "arrowcolor": "#2a3f5f",
           "arrowhead": 0,
           "arrowwidth": 1
          },
          "coloraxis": {
           "colorbar": {
            "outlinewidth": 0,
            "ticks": ""
           }
          },
          "colorscale": {
           "diverging": [
            [
             0,
             "#8e0152"
            ],
            [
             0.1,
             "#c51b7d"
            ],
            [
             0.2,
             "#de77ae"
            ],
            [
             0.3,
             "#f1b6da"
            ],
            [
             0.4,
             "#fde0ef"
            ],
            [
             0.5,
             "#f7f7f7"
            ],
            [
             0.6,
             "#e6f5d0"
            ],
            [
             0.7,
             "#b8e186"
            ],
            [
             0.8,
             "#7fbc41"
            ],
            [
             0.9,
             "#4d9221"
            ],
            [
             1,
             "#276419"
            ]
           ],
           "sequential": [
            [
             0,
             "#0d0887"
            ],
            [
             0.1111111111111111,
             "#46039f"
            ],
            [
             0.2222222222222222,
             "#7201a8"
            ],
            [
             0.3333333333333333,
             "#9c179e"
            ],
            [
             0.4444444444444444,
             "#bd3786"
            ],
            [
             0.5555555555555556,
             "#d8576b"
            ],
            [
             0.6666666666666666,
             "#ed7953"
            ],
            [
             0.7777777777777778,
             "#fb9f3a"
            ],
            [
             0.8888888888888888,
             "#fdca26"
            ],
            [
             1,
             "#f0f921"
            ]
           ],
           "sequentialminus": [
            [
             0,
             "#0d0887"
            ],
            [
             0.1111111111111111,
             "#46039f"
            ],
            [
             0.2222222222222222,
             "#7201a8"
            ],
            [
             0.3333333333333333,
             "#9c179e"
            ],
            [
             0.4444444444444444,
             "#bd3786"
            ],
            [
             0.5555555555555556,
             "#d8576b"
            ],
            [
             0.6666666666666666,
             "#ed7953"
            ],
            [
             0.7777777777777778,
             "#fb9f3a"
            ],
            [
             0.8888888888888888,
             "#fdca26"
            ],
            [
             1,
             "#f0f921"
            ]
           ]
          },
          "colorway": [
           "#636efa",
           "#EF553B",
           "#00cc96",
           "#ab63fa",
           "#FFA15A",
           "#19d3f3",
           "#FF6692",
           "#B6E880",
           "#FF97FF",
           "#FECB52"
          ],
          "font": {
           "color": "#2a3f5f"
          },
          "geo": {
           "bgcolor": "white",
           "lakecolor": "white",
           "landcolor": "#E5ECF6",
           "showlakes": true,
           "showland": true,
           "subunitcolor": "white"
          },
          "hoverlabel": {
           "align": "left"
          },
          "hovermode": "closest",
          "mapbox": {
           "style": "light"
          },
          "paper_bgcolor": "white",
          "plot_bgcolor": "#E5ECF6",
          "polar": {
           "angularaxis": {
            "gridcolor": "white",
            "linecolor": "white",
            "ticks": ""
           },
           "bgcolor": "#E5ECF6",
           "radialaxis": {
            "gridcolor": "white",
            "linecolor": "white",
            "ticks": ""
           }
          },
          "scene": {
           "xaxis": {
            "backgroundcolor": "#E5ECF6",
            "gridcolor": "white",
            "gridwidth": 2,
            "linecolor": "white",
            "showbackground": true,
            "ticks": "",
            "zerolinecolor": "white"
           },
           "yaxis": {
            "backgroundcolor": "#E5ECF6",
            "gridcolor": "white",
            "gridwidth": 2,
            "linecolor": "white",
            "showbackground": true,
            "ticks": "",
            "zerolinecolor": "white"
           },
           "zaxis": {
            "backgroundcolor": "#E5ECF6",
            "gridcolor": "white",
            "gridwidth": 2,
            "linecolor": "white",
            "showbackground": true,
            "ticks": "",
            "zerolinecolor": "white"
           }
          },
          "shapedefaults": {
           "line": {
            "color": "#2a3f5f"
           }
          },
          "ternary": {
           "aaxis": {
            "gridcolor": "white",
            "linecolor": "white",
            "ticks": ""
           },
           "baxis": {
            "gridcolor": "white",
            "linecolor": "white",
            "ticks": ""
           },
           "bgcolor": "#E5ECF6",
           "caxis": {
            "gridcolor": "white",
            "linecolor": "white",
            "ticks": ""
           }
          },
          "title": {
           "x": 0.05
          },
          "xaxis": {
           "automargin": true,
           "gridcolor": "white",
           "linecolor": "white",
           "ticks": "",
           "title": {
            "standoff": 15
           },
           "zerolinecolor": "white",
           "zerolinewidth": 2
          },
          "yaxis": {
           "automargin": true,
           "gridcolor": "white",
           "linecolor": "white",
           "ticks": "",
           "title": {
            "standoff": 15
           },
           "zerolinecolor": "white",
           "zerolinewidth": 2
          }
         }
        },
        "title": {
         "text": "Protein level distribution change in common products between 1993 and 2020"
        },
        "xaxis": {
         "title": {
          "text": "Years"
         }
        },
        "yaxis": {
         "title": {
          "text": "Protein (grams/ounce)"
         }
        }
       }
      },
      "text/html": [
       "<div>                            <div id=\"c353cb12-f691-4608-8f22-319e43697954\" class=\"plotly-graph-div\" style=\"height:525px; width:100%;\"></div>            <script type=\"text/javascript\">                require([\"plotly\"], function(Plotly) {                    window.PLOTLYENV=window.PLOTLYENV || {};                                    if (document.getElementById(\"c353cb12-f691-4608-8f22-319e43697954\")) {                    Plotly.newPlot(                        \"c353cb12-f691-4608-8f22-319e43697954\",                        [{\"boxpoints\": \"all\", \"name\": \"Protein\", \"text\": [\"100% Bran\", \"100% Natural Bran\", \"All-Bran\", \"All-Bran with Extra Fiber\", \"Almond Delight\", \"Apple Cinnamon Cheerios\", \"Apple Jacks\", \"Basic 4\", \"Bran Chex\", \"Bran Flakes\", \"Cap'n'Crunch\", \"Cheerios\", \"Cinnamon Toast Crunch\", \"Clusters\", \"Cocoa Puffs\", \"Corn Chex\", \"Corn Flakes\", \"Corn Pops\", \"Count Chocula\", \"Cracklin' Oat Bran\", \"Cream of Wheat (Quick)\", \"Crispix\", \"Crispy Wheat & Raisins\", \"Double Chex\", \"Froot Loops\", \"Frosted Flakes\", \"Frosted Mini-Wheats\", \"Fruit & Fibre Dates\", \"Fruitful Bran\", \"Fruity Pebbles\", \"Golden Crisp\", \"Golden Grahams\", \"Grape Nuts Flakes\", \"Grape-Nuts\", \"Great Grains Pecan\", \"Honey Graham Ohs\", \"Honey Nut Cheerios\", \"Honey-comb\", \"Just Right Crunchy  Nuggets\", \"Just Right Fruit & Nut\", \"Kix\", \"Life\", \"Lucky Charms\", \"Maypo\", \"Dates & Almonds\", \"Peaches & Pecans\", \"Mueslix Crispy Blend\", \"Multi-Grain Cheerios\", \"Nut&Honey Crunch\", \"Nutri-Grain Almond-Raisin\", \"Nutri-grain Wheat\", \"Oatmeal Raisin Crisp\", \"Post Nat. Raisin Bran\", \"Product 19\", \"Puffed Rice\", \"Puffed Wheat\", \"Quaker Oat Squares\", \"Quaker Oatmeal\", \"Raisin Bran\", \"Raisin Nut Bran\", \"Raisin Squares\", \"Rice Chex\", \"Rice Krispies\", \"Shredded Wheat\", \"Shredded Wheat 'n'Bran\", \"Shredded Wheat spoon size\", \"Smacks\", \"Special K\", \"Strawberry Fruit Wheats\", \"Total Corn Flakes\", \"Total Raisin Bran\", \"Total Whole Grain\", \"Triples\", \"Trix\", \"Walnuts & Oats\", \"Wheat Chex\", \"Wheaties\", \"Wheaties Honey Gold\", \"All-Bran Complete Wheat Flakes Cereal\", \"Eggo\", \"Honey Smacks\", \"Krave Double Chocolate\", \"Peeps\", \"Smart Start\", \"Annie's Whole Grain Cereal\", \"Cascadian Farm Organic Raisin Bran\", \"Cheerios Multi Grain\", \"Chex Wheat Cereal\", \"Cookie Crisp\", \"Dunkaroos\", \"Fiber One\", \"Good Belly\", \"Larabar (Peanut Butter)\", \"Oatmeal Crisp\", \"Wonderworks (Peanut Butter)\", \"Ahold 100% Whole Grain\", \"Hannaford Frosted Flakes\", \"Martin's Food Lion\", \"Hannaford Tasteeos Cereal\", \"Ahold Vanilla Almond Cereal\", \"Kelloggs Special Fruit & Yogurt\", \"Kelloggs Special Original Cereal\", \"Quaker Life Cinnamon Multigrain\", \"Quaker Life Original Multigrain\", \"Quaker Life Ltd. Edition, Pumpkin Spice\", \"All-Bran\", \"Apple Jacks\", \"Basic 4\", \"Cocoa Puffs\", \"Corn Flakes\", \"Corn Pops\", \"Cracklin' Oat Bran\", \"Crispix\", \"Froot Loops\", \"Frosted Flakes\", \"Golden Grahams\", \"Kix\", \"Oatmeal Raisin Crisp\", \"Raisin Bran\", \"Raisin Nut Bran\", \"Rice Krispies\", \"Special K\", \"Total Whole Grain\", \"Trix\", \"Wheaties\"], \"type\": \"box\", \"x\": [1993, 1993, 1993, 1993, 1993, 1993, 1993, 1993, 1993, 1993, 1993, 1993, 1993, 1993, 1993, 1993, 1993, 1993, 1993, 1993, 2020, 2020, 2020, 2020, 2020, 2020, 2020, 2020, 2020, 2020, 2020, 2020, 2020, 2020, 2020, 2020, 2020, 2020, 2020, 2020], \"y\": [4, 2, 2, 1, 2, 1, 3, 2, 2, 1, 1, 2, 2, 2, 3, 2, 6, 3, 1, 3, 3, 1, 2, 2, 2, 1, 2, 2, 1, 2, 1, 2, 1, 2, 2, 2, 5, 6, 1, 2]}],                        {\"boxmode\": \"group\", \"template\": {\"data\": {\"bar\": [{\"error_x\": {\"color\": \"#2a3f5f\"}, \"error_y\": {\"color\": \"#2a3f5f\"}, \"marker\": {\"line\": {\"color\": \"#E5ECF6\", \"width\": 0.5}}, \"type\": \"bar\"}], \"barpolar\": [{\"marker\": {\"line\": {\"color\": \"#E5ECF6\", \"width\": 0.5}}, \"type\": \"barpolar\"}], \"carpet\": [{\"aaxis\": {\"endlinecolor\": \"#2a3f5f\", \"gridcolor\": \"white\", \"linecolor\": \"white\", \"minorgridcolor\": \"white\", \"startlinecolor\": \"#2a3f5f\"}, \"baxis\": {\"endlinecolor\": \"#2a3f5f\", \"gridcolor\": \"white\", \"linecolor\": \"white\", \"minorgridcolor\": \"white\", \"startlinecolor\": \"#2a3f5f\"}, \"type\": \"carpet\"}], \"choropleth\": [{\"colorbar\": {\"outlinewidth\": 0, \"ticks\": \"\"}, \"type\": \"choropleth\"}], \"contour\": [{\"colorbar\": {\"outlinewidth\": 0, \"ticks\": \"\"}, \"colorscale\": [[0.0, \"#0d0887\"], [0.1111111111111111, \"#46039f\"], [0.2222222222222222, \"#7201a8\"], [0.3333333333333333, \"#9c179e\"], [0.4444444444444444, \"#bd3786\"], [0.5555555555555556, \"#d8576b\"], [0.6666666666666666, \"#ed7953\"], [0.7777777777777778, \"#fb9f3a\"], [0.8888888888888888, \"#fdca26\"], [1.0, \"#f0f921\"]], \"type\": \"contour\"}], \"contourcarpet\": [{\"colorbar\": {\"outlinewidth\": 0, \"ticks\": \"\"}, \"type\": \"contourcarpet\"}], \"heatmap\": [{\"colorbar\": {\"outlinewidth\": 0, \"ticks\": \"\"}, \"colorscale\": [[0.0, \"#0d0887\"], [0.1111111111111111, \"#46039f\"], [0.2222222222222222, \"#7201a8\"], [0.3333333333333333, \"#9c179e\"], [0.4444444444444444, \"#bd3786\"], [0.5555555555555556, \"#d8576b\"], [0.6666666666666666, \"#ed7953\"], [0.7777777777777778, \"#fb9f3a\"], [0.8888888888888888, \"#fdca26\"], [1.0, \"#f0f921\"]], \"type\": \"heatmap\"}], \"heatmapgl\": [{\"colorbar\": {\"outlinewidth\": 0, \"ticks\": \"\"}, \"colorscale\": [[0.0, \"#0d0887\"], [0.1111111111111111, \"#46039f\"], [0.2222222222222222, \"#7201a8\"], [0.3333333333333333, \"#9c179e\"], [0.4444444444444444, \"#bd3786\"], [0.5555555555555556, \"#d8576b\"], [0.6666666666666666, \"#ed7953\"], [0.7777777777777778, \"#fb9f3a\"], [0.8888888888888888, \"#fdca26\"], [1.0, \"#f0f921\"]], \"type\": \"heatmapgl\"}], \"histogram\": [{\"marker\": {\"colorbar\": {\"outlinewidth\": 0, \"ticks\": \"\"}}, \"type\": \"histogram\"}], \"histogram2d\": [{\"colorbar\": {\"outlinewidth\": 0, \"ticks\": \"\"}, \"colorscale\": [[0.0, \"#0d0887\"], [0.1111111111111111, \"#46039f\"], [0.2222222222222222, \"#7201a8\"], [0.3333333333333333, \"#9c179e\"], [0.4444444444444444, \"#bd3786\"], [0.5555555555555556, \"#d8576b\"], [0.6666666666666666, \"#ed7953\"], [0.7777777777777778, \"#fb9f3a\"], [0.8888888888888888, \"#fdca26\"], [1.0, \"#f0f921\"]], \"type\": \"histogram2d\"}], \"histogram2dcontour\": [{\"colorbar\": {\"outlinewidth\": 0, \"ticks\": \"\"}, \"colorscale\": [[0.0, \"#0d0887\"], [0.1111111111111111, \"#46039f\"], [0.2222222222222222, \"#7201a8\"], [0.3333333333333333, \"#9c179e\"], [0.4444444444444444, \"#bd3786\"], [0.5555555555555556, \"#d8576b\"], [0.6666666666666666, \"#ed7953\"], [0.7777777777777778, \"#fb9f3a\"], [0.8888888888888888, \"#fdca26\"], [1.0, \"#f0f921\"]], \"type\": \"histogram2dcontour\"}], \"mesh3d\": [{\"colorbar\": {\"outlinewidth\": 0, \"ticks\": \"\"}, \"type\": \"mesh3d\"}], \"parcoords\": [{\"line\": {\"colorbar\": {\"outlinewidth\": 0, \"ticks\": \"\"}}, \"type\": \"parcoords\"}], \"pie\": [{\"automargin\": true, \"type\": \"pie\"}], \"scatter\": [{\"marker\": {\"colorbar\": {\"outlinewidth\": 0, \"ticks\": \"\"}}, \"type\": \"scatter\"}], \"scatter3d\": [{\"line\": {\"colorbar\": {\"outlinewidth\": 0, \"ticks\": \"\"}}, \"marker\": {\"colorbar\": {\"outlinewidth\": 0, \"ticks\": \"\"}}, \"type\": \"scatter3d\"}], \"scattercarpet\": [{\"marker\": {\"colorbar\": {\"outlinewidth\": 0, \"ticks\": \"\"}}, \"type\": \"scattercarpet\"}], \"scattergeo\": [{\"marker\": {\"colorbar\": {\"outlinewidth\": 0, \"ticks\": \"\"}}, \"type\": \"scattergeo\"}], \"scattergl\": [{\"marker\": {\"colorbar\": {\"outlinewidth\": 0, \"ticks\": \"\"}}, \"type\": \"scattergl\"}], \"scattermapbox\": [{\"marker\": {\"colorbar\": {\"outlinewidth\": 0, \"ticks\": \"\"}}, \"type\": \"scattermapbox\"}], \"scatterpolar\": [{\"marker\": {\"colorbar\": {\"outlinewidth\": 0, \"ticks\": \"\"}}, \"type\": \"scatterpolar\"}], \"scatterpolargl\": [{\"marker\": {\"colorbar\": {\"outlinewidth\": 0, \"ticks\": \"\"}}, \"type\": \"scatterpolargl\"}], \"scatterternary\": [{\"marker\": {\"colorbar\": {\"outlinewidth\": 0, \"ticks\": \"\"}}, \"type\": \"scatterternary\"}], \"surface\": [{\"colorbar\": {\"outlinewidth\": 0, \"ticks\": \"\"}, \"colorscale\": [[0.0, \"#0d0887\"], [0.1111111111111111, \"#46039f\"], [0.2222222222222222, \"#7201a8\"], [0.3333333333333333, \"#9c179e\"], [0.4444444444444444, \"#bd3786\"], [0.5555555555555556, \"#d8576b\"], [0.6666666666666666, \"#ed7953\"], [0.7777777777777778, \"#fb9f3a\"], [0.8888888888888888, \"#fdca26\"], [1.0, \"#f0f921\"]], \"type\": \"surface\"}], \"table\": [{\"cells\": {\"fill\": {\"color\": \"#EBF0F8\"}, \"line\": {\"color\": \"white\"}}, \"header\": {\"fill\": {\"color\": \"#C8D4E3\"}, \"line\": {\"color\": \"white\"}}, \"type\": \"table\"}]}, \"layout\": {\"annotationdefaults\": {\"arrowcolor\": \"#2a3f5f\", \"arrowhead\": 0, \"arrowwidth\": 1}, \"coloraxis\": {\"colorbar\": {\"outlinewidth\": 0, \"ticks\": \"\"}}, \"colorscale\": {\"diverging\": [[0, \"#8e0152\"], [0.1, \"#c51b7d\"], [0.2, \"#de77ae\"], [0.3, \"#f1b6da\"], [0.4, \"#fde0ef\"], [0.5, \"#f7f7f7\"], [0.6, \"#e6f5d0\"], [0.7, \"#b8e186\"], [0.8, \"#7fbc41\"], [0.9, \"#4d9221\"], [1, \"#276419\"]], \"sequential\": [[0.0, \"#0d0887\"], [0.1111111111111111, \"#46039f\"], [0.2222222222222222, \"#7201a8\"], [0.3333333333333333, \"#9c179e\"], [0.4444444444444444, \"#bd3786\"], [0.5555555555555556, \"#d8576b\"], [0.6666666666666666, \"#ed7953\"], [0.7777777777777778, \"#fb9f3a\"], [0.8888888888888888, \"#fdca26\"], [1.0, \"#f0f921\"]], \"sequentialminus\": [[0.0, \"#0d0887\"], [0.1111111111111111, \"#46039f\"], [0.2222222222222222, \"#7201a8\"], [0.3333333333333333, \"#9c179e\"], [0.4444444444444444, \"#bd3786\"], [0.5555555555555556, \"#d8576b\"], [0.6666666666666666, \"#ed7953\"], [0.7777777777777778, \"#fb9f3a\"], [0.8888888888888888, \"#fdca26\"], [1.0, \"#f0f921\"]]}, \"colorway\": [\"#636efa\", \"#EF553B\", \"#00cc96\", \"#ab63fa\", \"#FFA15A\", \"#19d3f3\", \"#FF6692\", \"#B6E880\", \"#FF97FF\", \"#FECB52\"], \"font\": {\"color\": \"#2a3f5f\"}, \"geo\": {\"bgcolor\": \"white\", \"lakecolor\": \"white\", \"landcolor\": \"#E5ECF6\", \"showlakes\": true, \"showland\": true, \"subunitcolor\": \"white\"}, \"hoverlabel\": {\"align\": \"left\"}, \"hovermode\": \"closest\", \"mapbox\": {\"style\": \"light\"}, \"paper_bgcolor\": \"white\", \"plot_bgcolor\": \"#E5ECF6\", \"polar\": {\"angularaxis\": {\"gridcolor\": \"white\", \"linecolor\": \"white\", \"ticks\": \"\"}, \"bgcolor\": \"#E5ECF6\", \"radialaxis\": {\"gridcolor\": \"white\", \"linecolor\": \"white\", \"ticks\": \"\"}}, \"scene\": {\"xaxis\": {\"backgroundcolor\": \"#E5ECF6\", \"gridcolor\": \"white\", \"gridwidth\": 2, \"linecolor\": \"white\", \"showbackground\": true, \"ticks\": \"\", \"zerolinecolor\": \"white\"}, \"yaxis\": {\"backgroundcolor\": \"#E5ECF6\", \"gridcolor\": \"white\", \"gridwidth\": 2, \"linecolor\": \"white\", \"showbackground\": true, \"ticks\": \"\", \"zerolinecolor\": \"white\"}, \"zaxis\": {\"backgroundcolor\": \"#E5ECF6\", \"gridcolor\": \"white\", \"gridwidth\": 2, \"linecolor\": \"white\", \"showbackground\": true, \"ticks\": \"\", \"zerolinecolor\": \"white\"}}, \"shapedefaults\": {\"line\": {\"color\": \"#2a3f5f\"}}, \"ternary\": {\"aaxis\": {\"gridcolor\": \"white\", \"linecolor\": \"white\", \"ticks\": \"\"}, \"baxis\": {\"gridcolor\": \"white\", \"linecolor\": \"white\", \"ticks\": \"\"}, \"bgcolor\": \"#E5ECF6\", \"caxis\": {\"gridcolor\": \"white\", \"linecolor\": \"white\", \"ticks\": \"\"}}, \"title\": {\"x\": 0.05}, \"xaxis\": {\"automargin\": true, \"gridcolor\": \"white\", \"linecolor\": \"white\", \"ticks\": \"\", \"title\": {\"standoff\": 15}, \"zerolinecolor\": \"white\", \"zerolinewidth\": 2}, \"yaxis\": {\"automargin\": true, \"gridcolor\": \"white\", \"linecolor\": \"white\", \"ticks\": \"\", \"title\": {\"standoff\": 15}, \"zerolinecolor\": \"white\", \"zerolinewidth\": 2}}}, \"title\": {\"text\": \"Protein level distribution change in common products between 1993 and 2020\"}, \"xaxis\": {\"title\": {\"text\": \"Years\"}}, \"yaxis\": {\"title\": {\"text\": \"Protein (grams/ounce)\"}}},                        {\"responsive\": true}                    ).then(function(){\n",
       "                            \n",
       "var gd = document.getElementById('c353cb12-f691-4608-8f22-319e43697954');\n",
       "var x = new MutationObserver(function (mutations, observer) {{\n",
       "        var display = window.getComputedStyle(gd).display;\n",
       "        if (!display || display === 'none') {{\n",
       "            console.log([gd, 'removed!']);\n",
       "            Plotly.purge(gd);\n",
       "            observer.disconnect();\n",
       "        }}\n",
       "}});\n",
       "\n",
       "// Listen for the removal of the full notebook cells\n",
       "var notebookContainer = gd.closest('#notebook-container');\n",
       "if (notebookContainer) {{\n",
       "    x.observe(notebookContainer, {childList: true});\n",
       "}}\n",
       "\n",
       "// Listen for the clearing of the current output cell\n",
       "var outputEl = gd.closest('.output');\n",
       "if (outputEl) {{\n",
       "    x.observe(outputEl, {childList: true});\n",
       "}}\n",
       "\n",
       "                        })                };                });            </script>        </div>"
      ]
     },
     "metadata": {},
     "output_type": "display_data"
    },
    {
     "data": {
      "application/vnd.plotly.v1+json": {
       "config": {
        "plotlyServerURL": "https://plotly.com"
       },
       "data": [
        {
         "marker": {
          "line": {
           "width": 0
          },
          "size": 12
         },
         "mode": "lines+markers",
         "name": "1993",
         "type": "scatter",
         "x": [
          "All-Bran",
          "Apple Jacks",
          "Basic 4",
          "Cocoa Puffs",
          "Corn Flakes",
          "Corn Pops",
          "Cracklin' Oat Bran",
          "Crispix",
          "Froot Loops",
          "Frosted Flakes",
          "Golden Grahams",
          "Kix",
          "Oatmeal Raisin Crisp",
          "Raisin Bran",
          "Raisin Nut Bran",
          "Rice Krispies",
          "Special K",
          "Total Whole Grain",
          "Trix",
          "Wheaties"
         ],
         "y": [
          1,
          0,
          2,
          1,
          0,
          0,
          3,
          0,
          1,
          0,
          1,
          1,
          2,
          1,
          2,
          0,
          0,
          1,
          1,
          1
         ]
        },
        {
         "marker": {
          "line": {
           "width": 0
          },
          "size": 12
         },
         "mode": "lines+markers",
         "name": "2020",
         "type": "scatter",
         "x": [
          "All-Bran",
          "Apple Jacks",
          "Basic 4",
          "Cocoa Puffs",
          "Corn Flakes",
          "Corn Pops",
          "Cracklin' Oat Bran",
          "Crispix",
          "Froot Loops",
          "Frosted Flakes",
          "Golden Grahams",
          "Kix",
          "Oatmeal Raisin Crisp",
          "Raisin Bran",
          "Raisin Nut Bran",
          "Rice Krispies",
          "Special K",
          "Total Whole Grain",
          "Trix",
          "Wheaties"
         ],
         "y": [
          1,
          1,
          1,
          2,
          0,
          0,
          4,
          0,
          1,
          0,
          1,
          1,
          2,
          0,
          2,
          0,
          0,
          1,
          1,
          0
         ]
        }
       ],
       "layout": {
        "showlegend": true,
        "template": {
         "data": {
          "bar": [
           {
            "error_x": {
             "color": "#2a3f5f"
            },
            "error_y": {
             "color": "#2a3f5f"
            },
            "marker": {
             "line": {
              "color": "#E5ECF6",
              "width": 0.5
             }
            },
            "type": "bar"
           }
          ],
          "barpolar": [
           {
            "marker": {
             "line": {
              "color": "#E5ECF6",
              "width": 0.5
             }
            },
            "type": "barpolar"
           }
          ],
          "carpet": [
           {
            "aaxis": {
             "endlinecolor": "#2a3f5f",
             "gridcolor": "white",
             "linecolor": "white",
             "minorgridcolor": "white",
             "startlinecolor": "#2a3f5f"
            },
            "baxis": {
             "endlinecolor": "#2a3f5f",
             "gridcolor": "white",
             "linecolor": "white",
             "minorgridcolor": "white",
             "startlinecolor": "#2a3f5f"
            },
            "type": "carpet"
           }
          ],
          "choropleth": [
           {
            "colorbar": {
             "outlinewidth": 0,
             "ticks": ""
            },
            "type": "choropleth"
           }
          ],
          "contour": [
           {
            "colorbar": {
             "outlinewidth": 0,
             "ticks": ""
            },
            "colorscale": [
             [
              0,
              "#0d0887"
             ],
             [
              0.1111111111111111,
              "#46039f"
             ],
             [
              0.2222222222222222,
              "#7201a8"
             ],
             [
              0.3333333333333333,
              "#9c179e"
             ],
             [
              0.4444444444444444,
              "#bd3786"
             ],
             [
              0.5555555555555556,
              "#d8576b"
             ],
             [
              0.6666666666666666,
              "#ed7953"
             ],
             [
              0.7777777777777778,
              "#fb9f3a"
             ],
             [
              0.8888888888888888,
              "#fdca26"
             ],
             [
              1,
              "#f0f921"
             ]
            ],
            "type": "contour"
           }
          ],
          "contourcarpet": [
           {
            "colorbar": {
             "outlinewidth": 0,
             "ticks": ""
            },
            "type": "contourcarpet"
           }
          ],
          "heatmap": [
           {
            "colorbar": {
             "outlinewidth": 0,
             "ticks": ""
            },
            "colorscale": [
             [
              0,
              "#0d0887"
             ],
             [
              0.1111111111111111,
              "#46039f"
             ],
             [
              0.2222222222222222,
              "#7201a8"
             ],
             [
              0.3333333333333333,
              "#9c179e"
             ],
             [
              0.4444444444444444,
              "#bd3786"
             ],
             [
              0.5555555555555556,
              "#d8576b"
             ],
             [
              0.6666666666666666,
              "#ed7953"
             ],
             [
              0.7777777777777778,
              "#fb9f3a"
             ],
             [
              0.8888888888888888,
              "#fdca26"
             ],
             [
              1,
              "#f0f921"
             ]
            ],
            "type": "heatmap"
           }
          ],
          "heatmapgl": [
           {
            "colorbar": {
             "outlinewidth": 0,
             "ticks": ""
            },
            "colorscale": [
             [
              0,
              "#0d0887"
             ],
             [
              0.1111111111111111,
              "#46039f"
             ],
             [
              0.2222222222222222,
              "#7201a8"
             ],
             [
              0.3333333333333333,
              "#9c179e"
             ],
             [
              0.4444444444444444,
              "#bd3786"
             ],
             [
              0.5555555555555556,
              "#d8576b"
             ],
             [
              0.6666666666666666,
              "#ed7953"
             ],
             [
              0.7777777777777778,
              "#fb9f3a"
             ],
             [
              0.8888888888888888,
              "#fdca26"
             ],
             [
              1,
              "#f0f921"
             ]
            ],
            "type": "heatmapgl"
           }
          ],
          "histogram": [
           {
            "marker": {
             "colorbar": {
              "outlinewidth": 0,
              "ticks": ""
             }
            },
            "type": "histogram"
           }
          ],
          "histogram2d": [
           {
            "colorbar": {
             "outlinewidth": 0,
             "ticks": ""
            },
            "colorscale": [
             [
              0,
              "#0d0887"
             ],
             [
              0.1111111111111111,
              "#46039f"
             ],
             [
              0.2222222222222222,
              "#7201a8"
             ],
             [
              0.3333333333333333,
              "#9c179e"
             ],
             [
              0.4444444444444444,
              "#bd3786"
             ],
             [
              0.5555555555555556,
              "#d8576b"
             ],
             [
              0.6666666666666666,
              "#ed7953"
             ],
             [
              0.7777777777777778,
              "#fb9f3a"
             ],
             [
              0.8888888888888888,
              "#fdca26"
             ],
             [
              1,
              "#f0f921"
             ]
            ],
            "type": "histogram2d"
           }
          ],
          "histogram2dcontour": [
           {
            "colorbar": {
             "outlinewidth": 0,
             "ticks": ""
            },
            "colorscale": [
             [
              0,
              "#0d0887"
             ],
             [
              0.1111111111111111,
              "#46039f"
             ],
             [
              0.2222222222222222,
              "#7201a8"
             ],
             [
              0.3333333333333333,
              "#9c179e"
             ],
             [
              0.4444444444444444,
              "#bd3786"
             ],
             [
              0.5555555555555556,
              "#d8576b"
             ],
             [
              0.6666666666666666,
              "#ed7953"
             ],
             [
              0.7777777777777778,
              "#fb9f3a"
             ],
             [
              0.8888888888888888,
              "#fdca26"
             ],
             [
              1,
              "#f0f921"
             ]
            ],
            "type": "histogram2dcontour"
           }
          ],
          "mesh3d": [
           {
            "colorbar": {
             "outlinewidth": 0,
             "ticks": ""
            },
            "type": "mesh3d"
           }
          ],
          "parcoords": [
           {
            "line": {
             "colorbar": {
              "outlinewidth": 0,
              "ticks": ""
             }
            },
            "type": "parcoords"
           }
          ],
          "pie": [
           {
            "automargin": true,
            "type": "pie"
           }
          ],
          "scatter": [
           {
            "marker": {
             "colorbar": {
              "outlinewidth": 0,
              "ticks": ""
             }
            },
            "type": "scatter"
           }
          ],
          "scatter3d": [
           {
            "line": {
             "colorbar": {
              "outlinewidth": 0,
              "ticks": ""
             }
            },
            "marker": {
             "colorbar": {
              "outlinewidth": 0,
              "ticks": ""
             }
            },
            "type": "scatter3d"
           }
          ],
          "scattercarpet": [
           {
            "marker": {
             "colorbar": {
              "outlinewidth": 0,
              "ticks": ""
             }
            },
            "type": "scattercarpet"
           }
          ],
          "scattergeo": [
           {
            "marker": {
             "colorbar": {
              "outlinewidth": 0,
              "ticks": ""
             }
            },
            "type": "scattergeo"
           }
          ],
          "scattergl": [
           {
            "marker": {
             "colorbar": {
              "outlinewidth": 0,
              "ticks": ""
             }
            },
            "type": "scattergl"
           }
          ],
          "scattermapbox": [
           {
            "marker": {
             "colorbar": {
              "outlinewidth": 0,
              "ticks": ""
             }
            },
            "type": "scattermapbox"
           }
          ],
          "scatterpolar": [
           {
            "marker": {
             "colorbar": {
              "outlinewidth": 0,
              "ticks": ""
             }
            },
            "type": "scatterpolar"
           }
          ],
          "scatterpolargl": [
           {
            "marker": {
             "colorbar": {
              "outlinewidth": 0,
              "ticks": ""
             }
            },
            "type": "scatterpolargl"
           }
          ],
          "scatterternary": [
           {
            "marker": {
             "colorbar": {
              "outlinewidth": 0,
              "ticks": ""
             }
            },
            "type": "scatterternary"
           }
          ],
          "surface": [
           {
            "colorbar": {
             "outlinewidth": 0,
             "ticks": ""
            },
            "colorscale": [
             [
              0,
              "#0d0887"
             ],
             [
              0.1111111111111111,
              "#46039f"
             ],
             [
              0.2222222222222222,
              "#7201a8"
             ],
             [
              0.3333333333333333,
              "#9c179e"
             ],
             [
              0.4444444444444444,
              "#bd3786"
             ],
             [
              0.5555555555555556,
              "#d8576b"
             ],
             [
              0.6666666666666666,
              "#ed7953"
             ],
             [
              0.7777777777777778,
              "#fb9f3a"
             ],
             [
              0.8888888888888888,
              "#fdca26"
             ],
             [
              1,
              "#f0f921"
             ]
            ],
            "type": "surface"
           }
          ],
          "table": [
           {
            "cells": {
             "fill": {
              "color": "#EBF0F8"
             },
             "line": {
              "color": "white"
             }
            },
            "header": {
             "fill": {
              "color": "#C8D4E3"
             },
             "line": {
              "color": "white"
             }
            },
            "type": "table"
           }
          ]
         },
         "layout": {
          "annotationdefaults": {
           "arrowcolor": "#2a3f5f",
           "arrowhead": 0,
           "arrowwidth": 1
          },
          "coloraxis": {
           "colorbar": {
            "outlinewidth": 0,
            "ticks": ""
           }
          },
          "colorscale": {
           "diverging": [
            [
             0,
             "#8e0152"
            ],
            [
             0.1,
             "#c51b7d"
            ],
            [
             0.2,
             "#de77ae"
            ],
            [
             0.3,
             "#f1b6da"
            ],
            [
             0.4,
             "#fde0ef"
            ],
            [
             0.5,
             "#f7f7f7"
            ],
            [
             0.6,
             "#e6f5d0"
            ],
            [
             0.7,
             "#b8e186"
            ],
            [
             0.8,
             "#7fbc41"
            ],
            [
             0.9,
             "#4d9221"
            ],
            [
             1,
             "#276419"
            ]
           ],
           "sequential": [
            [
             0,
             "#0d0887"
            ],
            [
             0.1111111111111111,
             "#46039f"
            ],
            [
             0.2222222222222222,
             "#7201a8"
            ],
            [
             0.3333333333333333,
             "#9c179e"
            ],
            [
             0.4444444444444444,
             "#bd3786"
            ],
            [
             0.5555555555555556,
             "#d8576b"
            ],
            [
             0.6666666666666666,
             "#ed7953"
            ],
            [
             0.7777777777777778,
             "#fb9f3a"
            ],
            [
             0.8888888888888888,
             "#fdca26"
            ],
            [
             1,
             "#f0f921"
            ]
           ],
           "sequentialminus": [
            [
             0,
             "#0d0887"
            ],
            [
             0.1111111111111111,
             "#46039f"
            ],
            [
             0.2222222222222222,
             "#7201a8"
            ],
            [
             0.3333333333333333,
             "#9c179e"
            ],
            [
             0.4444444444444444,
             "#bd3786"
            ],
            [
             0.5555555555555556,
             "#d8576b"
            ],
            [
             0.6666666666666666,
             "#ed7953"
            ],
            [
             0.7777777777777778,
             "#fb9f3a"
            ],
            [
             0.8888888888888888,
             "#fdca26"
            ],
            [
             1,
             "#f0f921"
            ]
           ]
          },
          "colorway": [
           "#636efa",
           "#EF553B",
           "#00cc96",
           "#ab63fa",
           "#FFA15A",
           "#19d3f3",
           "#FF6692",
           "#B6E880",
           "#FF97FF",
           "#FECB52"
          ],
          "font": {
           "color": "#2a3f5f"
          },
          "geo": {
           "bgcolor": "white",
           "lakecolor": "white",
           "landcolor": "#E5ECF6",
           "showlakes": true,
           "showland": true,
           "subunitcolor": "white"
          },
          "hoverlabel": {
           "align": "left"
          },
          "hovermode": "closest",
          "mapbox": {
           "style": "light"
          },
          "paper_bgcolor": "white",
          "plot_bgcolor": "#E5ECF6",
          "polar": {
           "angularaxis": {
            "gridcolor": "white",
            "linecolor": "white",
            "ticks": ""
           },
           "bgcolor": "#E5ECF6",
           "radialaxis": {
            "gridcolor": "white",
            "linecolor": "white",
            "ticks": ""
           }
          },
          "scene": {
           "xaxis": {
            "backgroundcolor": "#E5ECF6",
            "gridcolor": "white",
            "gridwidth": 2,
            "linecolor": "white",
            "showbackground": true,
            "ticks": "",
            "zerolinecolor": "white"
           },
           "yaxis": {
            "backgroundcolor": "#E5ECF6",
            "gridcolor": "white",
            "gridwidth": 2,
            "linecolor": "white",
            "showbackground": true,
            "ticks": "",
            "zerolinecolor": "white"
           },
           "zaxis": {
            "backgroundcolor": "#E5ECF6",
            "gridcolor": "white",
            "gridwidth": 2,
            "linecolor": "white",
            "showbackground": true,
            "ticks": "",
            "zerolinecolor": "white"
           }
          },
          "shapedefaults": {
           "line": {
            "color": "#2a3f5f"
           }
          },
          "ternary": {
           "aaxis": {
            "gridcolor": "white",
            "linecolor": "white",
            "ticks": ""
           },
           "baxis": {
            "gridcolor": "white",
            "linecolor": "white",
            "ticks": ""
           },
           "bgcolor": "#E5ECF6",
           "caxis": {
            "gridcolor": "white",
            "linecolor": "white",
            "ticks": ""
           }
          },
          "title": {
           "x": 0.05
          },
          "xaxis": {
           "automargin": true,
           "gridcolor": "white",
           "linecolor": "white",
           "ticks": "",
           "title": {
            "standoff": 15
           },
           "zerolinecolor": "white",
           "zerolinewidth": 2
          },
          "yaxis": {
           "automargin": true,
           "gridcolor": "white",
           "linecolor": "white",
           "ticks": "",
           "title": {
            "standoff": 15
           },
           "zerolinecolor": "white",
           "zerolinewidth": 2
          }
         }
        },
        "title": {
         "text": "Fat levels of common cereals in 1993 and 2020"
        },
        "xaxis": {
         "title": {
          "text": "Common Cereals"
         }
        },
        "yaxis": {
         "title": {
          "text": "Fat (grams/ounce)"
         }
        }
       }
      },
      "text/html": [
       "<div>                            <div id=\"b48911a6-1325-4479-8467-b63db11f9ce9\" class=\"plotly-graph-div\" style=\"height:525px; width:100%;\"></div>            <script type=\"text/javascript\">                require([\"plotly\"], function(Plotly) {                    window.PLOTLYENV=window.PLOTLYENV || {};                                    if (document.getElementById(\"b48911a6-1325-4479-8467-b63db11f9ce9\")) {                    Plotly.newPlot(                        \"b48911a6-1325-4479-8467-b63db11f9ce9\",                        [{\"marker\": {\"line\": {\"width\": 0}, \"size\": 12}, \"mode\": \"lines+markers\", \"name\": \"1993\", \"type\": \"scatter\", \"x\": [\"All-Bran\", \"Apple Jacks\", \"Basic 4\", \"Cocoa Puffs\", \"Corn Flakes\", \"Corn Pops\", \"Cracklin' Oat Bran\", \"Crispix\", \"Froot Loops\", \"Frosted Flakes\", \"Golden Grahams\", \"Kix\", \"Oatmeal Raisin Crisp\", \"Raisin Bran\", \"Raisin Nut Bran\", \"Rice Krispies\", \"Special K\", \"Total Whole Grain\", \"Trix\", \"Wheaties\"], \"y\": [1, 0, 2, 1, 0, 0, 3, 0, 1, 0, 1, 1, 2, 1, 2, 0, 0, 1, 1, 1]}, {\"marker\": {\"line\": {\"width\": 0}, \"size\": 12}, \"mode\": \"lines+markers\", \"name\": \"2020\", \"type\": \"scatter\", \"x\": [\"All-Bran\", \"Apple Jacks\", \"Basic 4\", \"Cocoa Puffs\", \"Corn Flakes\", \"Corn Pops\", \"Cracklin' Oat Bran\", \"Crispix\", \"Froot Loops\", \"Frosted Flakes\", \"Golden Grahams\", \"Kix\", \"Oatmeal Raisin Crisp\", \"Raisin Bran\", \"Raisin Nut Bran\", \"Rice Krispies\", \"Special K\", \"Total Whole Grain\", \"Trix\", \"Wheaties\"], \"y\": [1, 1, 1, 2, 0, 0, 4, 0, 1, 0, 1, 1, 2, 0, 2, 0, 0, 1, 1, 0]}],                        {\"showlegend\": true, \"template\": {\"data\": {\"bar\": [{\"error_x\": {\"color\": \"#2a3f5f\"}, \"error_y\": {\"color\": \"#2a3f5f\"}, \"marker\": {\"line\": {\"color\": \"#E5ECF6\", \"width\": 0.5}}, \"type\": \"bar\"}], \"barpolar\": [{\"marker\": {\"line\": {\"color\": \"#E5ECF6\", \"width\": 0.5}}, \"type\": \"barpolar\"}], \"carpet\": [{\"aaxis\": {\"endlinecolor\": \"#2a3f5f\", \"gridcolor\": \"white\", \"linecolor\": \"white\", \"minorgridcolor\": \"white\", \"startlinecolor\": \"#2a3f5f\"}, \"baxis\": {\"endlinecolor\": \"#2a3f5f\", \"gridcolor\": \"white\", \"linecolor\": \"white\", \"minorgridcolor\": \"white\", \"startlinecolor\": \"#2a3f5f\"}, \"type\": \"carpet\"}], \"choropleth\": [{\"colorbar\": {\"outlinewidth\": 0, \"ticks\": \"\"}, \"type\": \"choropleth\"}], \"contour\": [{\"colorbar\": {\"outlinewidth\": 0, \"ticks\": \"\"}, \"colorscale\": [[0.0, \"#0d0887\"], [0.1111111111111111, \"#46039f\"], [0.2222222222222222, \"#7201a8\"], [0.3333333333333333, \"#9c179e\"], [0.4444444444444444, \"#bd3786\"], [0.5555555555555556, \"#d8576b\"], [0.6666666666666666, \"#ed7953\"], [0.7777777777777778, \"#fb9f3a\"], [0.8888888888888888, \"#fdca26\"], [1.0, \"#f0f921\"]], \"type\": \"contour\"}], \"contourcarpet\": [{\"colorbar\": {\"outlinewidth\": 0, \"ticks\": \"\"}, \"type\": \"contourcarpet\"}], \"heatmap\": [{\"colorbar\": {\"outlinewidth\": 0, \"ticks\": \"\"}, \"colorscale\": [[0.0, \"#0d0887\"], [0.1111111111111111, \"#46039f\"], [0.2222222222222222, \"#7201a8\"], [0.3333333333333333, \"#9c179e\"], [0.4444444444444444, \"#bd3786\"], [0.5555555555555556, \"#d8576b\"], [0.6666666666666666, \"#ed7953\"], [0.7777777777777778, \"#fb9f3a\"], [0.8888888888888888, \"#fdca26\"], [1.0, \"#f0f921\"]], \"type\": \"heatmap\"}], \"heatmapgl\": [{\"colorbar\": {\"outlinewidth\": 0, \"ticks\": \"\"}, \"colorscale\": [[0.0, \"#0d0887\"], [0.1111111111111111, \"#46039f\"], [0.2222222222222222, \"#7201a8\"], [0.3333333333333333, \"#9c179e\"], [0.4444444444444444, \"#bd3786\"], [0.5555555555555556, \"#d8576b\"], [0.6666666666666666, \"#ed7953\"], [0.7777777777777778, \"#fb9f3a\"], [0.8888888888888888, \"#fdca26\"], [1.0, \"#f0f921\"]], \"type\": \"heatmapgl\"}], \"histogram\": [{\"marker\": {\"colorbar\": {\"outlinewidth\": 0, \"ticks\": \"\"}}, \"type\": \"histogram\"}], \"histogram2d\": [{\"colorbar\": {\"outlinewidth\": 0, \"ticks\": \"\"}, \"colorscale\": [[0.0, \"#0d0887\"], [0.1111111111111111, \"#46039f\"], [0.2222222222222222, \"#7201a8\"], [0.3333333333333333, \"#9c179e\"], [0.4444444444444444, \"#bd3786\"], [0.5555555555555556, \"#d8576b\"], [0.6666666666666666, \"#ed7953\"], [0.7777777777777778, \"#fb9f3a\"], [0.8888888888888888, \"#fdca26\"], [1.0, \"#f0f921\"]], \"type\": \"histogram2d\"}], \"histogram2dcontour\": [{\"colorbar\": {\"outlinewidth\": 0, \"ticks\": \"\"}, \"colorscale\": [[0.0, \"#0d0887\"], [0.1111111111111111, \"#46039f\"], [0.2222222222222222, \"#7201a8\"], [0.3333333333333333, \"#9c179e\"], [0.4444444444444444, \"#bd3786\"], [0.5555555555555556, \"#d8576b\"], [0.6666666666666666, \"#ed7953\"], [0.7777777777777778, \"#fb9f3a\"], [0.8888888888888888, \"#fdca26\"], [1.0, \"#f0f921\"]], \"type\": \"histogram2dcontour\"}], \"mesh3d\": [{\"colorbar\": {\"outlinewidth\": 0, \"ticks\": \"\"}, \"type\": \"mesh3d\"}], \"parcoords\": [{\"line\": {\"colorbar\": {\"outlinewidth\": 0, \"ticks\": \"\"}}, \"type\": \"parcoords\"}], \"pie\": [{\"automargin\": true, \"type\": \"pie\"}], \"scatter\": [{\"marker\": {\"colorbar\": {\"outlinewidth\": 0, \"ticks\": \"\"}}, \"type\": \"scatter\"}], \"scatter3d\": [{\"line\": {\"colorbar\": {\"outlinewidth\": 0, \"ticks\": \"\"}}, \"marker\": {\"colorbar\": {\"outlinewidth\": 0, \"ticks\": \"\"}}, \"type\": \"scatter3d\"}], \"scattercarpet\": [{\"marker\": {\"colorbar\": {\"outlinewidth\": 0, \"ticks\": \"\"}}, \"type\": \"scattercarpet\"}], \"scattergeo\": [{\"marker\": {\"colorbar\": {\"outlinewidth\": 0, \"ticks\": \"\"}}, \"type\": \"scattergeo\"}], \"scattergl\": [{\"marker\": {\"colorbar\": {\"outlinewidth\": 0, \"ticks\": \"\"}}, \"type\": \"scattergl\"}], \"scattermapbox\": [{\"marker\": {\"colorbar\": {\"outlinewidth\": 0, \"ticks\": \"\"}}, \"type\": \"scattermapbox\"}], \"scatterpolar\": [{\"marker\": {\"colorbar\": {\"outlinewidth\": 0, \"ticks\": \"\"}}, \"type\": \"scatterpolar\"}], \"scatterpolargl\": [{\"marker\": {\"colorbar\": {\"outlinewidth\": 0, \"ticks\": \"\"}}, \"type\": \"scatterpolargl\"}], \"scatterternary\": [{\"marker\": {\"colorbar\": {\"outlinewidth\": 0, \"ticks\": \"\"}}, \"type\": \"scatterternary\"}], \"surface\": [{\"colorbar\": {\"outlinewidth\": 0, \"ticks\": \"\"}, \"colorscale\": [[0.0, \"#0d0887\"], [0.1111111111111111, \"#46039f\"], [0.2222222222222222, \"#7201a8\"], [0.3333333333333333, \"#9c179e\"], [0.4444444444444444, \"#bd3786\"], [0.5555555555555556, \"#d8576b\"], [0.6666666666666666, \"#ed7953\"], [0.7777777777777778, \"#fb9f3a\"], [0.8888888888888888, \"#fdca26\"], [1.0, \"#f0f921\"]], \"type\": \"surface\"}], \"table\": [{\"cells\": {\"fill\": {\"color\": \"#EBF0F8\"}, \"line\": {\"color\": \"white\"}}, \"header\": {\"fill\": {\"color\": \"#C8D4E3\"}, \"line\": {\"color\": \"white\"}}, \"type\": \"table\"}]}, \"layout\": {\"annotationdefaults\": {\"arrowcolor\": \"#2a3f5f\", \"arrowhead\": 0, \"arrowwidth\": 1}, \"coloraxis\": {\"colorbar\": {\"outlinewidth\": 0, \"ticks\": \"\"}}, \"colorscale\": {\"diverging\": [[0, \"#8e0152\"], [0.1, \"#c51b7d\"], [0.2, \"#de77ae\"], [0.3, \"#f1b6da\"], [0.4, \"#fde0ef\"], [0.5, \"#f7f7f7\"], [0.6, \"#e6f5d0\"], [0.7, \"#b8e186\"], [0.8, \"#7fbc41\"], [0.9, \"#4d9221\"], [1, \"#276419\"]], \"sequential\": [[0.0, \"#0d0887\"], [0.1111111111111111, \"#46039f\"], [0.2222222222222222, \"#7201a8\"], [0.3333333333333333, \"#9c179e\"], [0.4444444444444444, \"#bd3786\"], [0.5555555555555556, \"#d8576b\"], [0.6666666666666666, \"#ed7953\"], [0.7777777777777778, \"#fb9f3a\"], [0.8888888888888888, \"#fdca26\"], [1.0, \"#f0f921\"]], \"sequentialminus\": [[0.0, \"#0d0887\"], [0.1111111111111111, \"#46039f\"], [0.2222222222222222, \"#7201a8\"], [0.3333333333333333, \"#9c179e\"], [0.4444444444444444, \"#bd3786\"], [0.5555555555555556, \"#d8576b\"], [0.6666666666666666, \"#ed7953\"], [0.7777777777777778, \"#fb9f3a\"], [0.8888888888888888, \"#fdca26\"], [1.0, \"#f0f921\"]]}, \"colorway\": [\"#636efa\", \"#EF553B\", \"#00cc96\", \"#ab63fa\", \"#FFA15A\", \"#19d3f3\", \"#FF6692\", \"#B6E880\", \"#FF97FF\", \"#FECB52\"], \"font\": {\"color\": \"#2a3f5f\"}, \"geo\": {\"bgcolor\": \"white\", \"lakecolor\": \"white\", \"landcolor\": \"#E5ECF6\", \"showlakes\": true, \"showland\": true, \"subunitcolor\": \"white\"}, \"hoverlabel\": {\"align\": \"left\"}, \"hovermode\": \"closest\", \"mapbox\": {\"style\": \"light\"}, \"paper_bgcolor\": \"white\", \"plot_bgcolor\": \"#E5ECF6\", \"polar\": {\"angularaxis\": {\"gridcolor\": \"white\", \"linecolor\": \"white\", \"ticks\": \"\"}, \"bgcolor\": \"#E5ECF6\", \"radialaxis\": {\"gridcolor\": \"white\", \"linecolor\": \"white\", \"ticks\": \"\"}}, \"scene\": {\"xaxis\": {\"backgroundcolor\": \"#E5ECF6\", \"gridcolor\": \"white\", \"gridwidth\": 2, \"linecolor\": \"white\", \"showbackground\": true, \"ticks\": \"\", \"zerolinecolor\": \"white\"}, \"yaxis\": {\"backgroundcolor\": \"#E5ECF6\", \"gridcolor\": \"white\", \"gridwidth\": 2, \"linecolor\": \"white\", \"showbackground\": true, \"ticks\": \"\", \"zerolinecolor\": \"white\"}, \"zaxis\": {\"backgroundcolor\": \"#E5ECF6\", \"gridcolor\": \"white\", \"gridwidth\": 2, \"linecolor\": \"white\", \"showbackground\": true, \"ticks\": \"\", \"zerolinecolor\": \"white\"}}, \"shapedefaults\": {\"line\": {\"color\": \"#2a3f5f\"}}, \"ternary\": {\"aaxis\": {\"gridcolor\": \"white\", \"linecolor\": \"white\", \"ticks\": \"\"}, \"baxis\": {\"gridcolor\": \"white\", \"linecolor\": \"white\", \"ticks\": \"\"}, \"bgcolor\": \"#E5ECF6\", \"caxis\": {\"gridcolor\": \"white\", \"linecolor\": \"white\", \"ticks\": \"\"}}, \"title\": {\"x\": 0.05}, \"xaxis\": {\"automargin\": true, \"gridcolor\": \"white\", \"linecolor\": \"white\", \"ticks\": \"\", \"title\": {\"standoff\": 15}, \"zerolinecolor\": \"white\", \"zerolinewidth\": 2}, \"yaxis\": {\"automargin\": true, \"gridcolor\": \"white\", \"linecolor\": \"white\", \"ticks\": \"\", \"title\": {\"standoff\": 15}, \"zerolinecolor\": \"white\", \"zerolinewidth\": 2}}}, \"title\": {\"text\": \"Fat levels of common cereals in 1993 and 2020\"}, \"xaxis\": {\"title\": {\"text\": \"Common Cereals\"}}, \"yaxis\": {\"title\": {\"text\": \"Fat (grams/ounce)\"}}},                        {\"responsive\": true}                    ).then(function(){\n",
       "                            \n",
       "var gd = document.getElementById('b48911a6-1325-4479-8467-b63db11f9ce9');\n",
       "var x = new MutationObserver(function (mutations, observer) {{\n",
       "        var display = window.getComputedStyle(gd).display;\n",
       "        if (!display || display === 'none') {{\n",
       "            console.log([gd, 'removed!']);\n",
       "            Plotly.purge(gd);\n",
       "            observer.disconnect();\n",
       "        }}\n",
       "}});\n",
       "\n",
       "// Listen for the removal of the full notebook cells\n",
       "var notebookContainer = gd.closest('#notebook-container');\n",
       "if (notebookContainer) {{\n",
       "    x.observe(notebookContainer, {childList: true});\n",
       "}}\n",
       "\n",
       "// Listen for the clearing of the current output cell\n",
       "var outputEl = gd.closest('.output');\n",
       "if (outputEl) {{\n",
       "    x.observe(outputEl, {childList: true});\n",
       "}}\n",
       "\n",
       "                        })                };                });            </script>        </div>"
      ]
     },
     "metadata": {},
     "output_type": "display_data"
    },
    {
     "data": {
      "application/vnd.plotly.v1+json": {
       "config": {
        "plotlyServerURL": "https://plotly.com"
       },
       "data": [
        {
         "boxpoints": "all",
         "name": "Fat",
         "text": [
          "100% Bran",
          "100% Natural Bran",
          "All-Bran",
          "All-Bran with Extra Fiber",
          "Almond Delight",
          "Apple Cinnamon Cheerios",
          "Apple Jacks",
          "Basic 4",
          "Bran Chex",
          "Bran Flakes",
          "Cap'n'Crunch",
          "Cheerios",
          "Cinnamon Toast Crunch",
          "Clusters",
          "Cocoa Puffs",
          "Corn Chex",
          "Corn Flakes",
          "Corn Pops",
          "Count Chocula",
          "Cracklin' Oat Bran",
          "Cream of Wheat (Quick)",
          "Crispix",
          "Crispy Wheat & Raisins",
          "Double Chex",
          "Froot Loops",
          "Frosted Flakes",
          "Frosted Mini-Wheats",
          "Fruit & Fibre Dates",
          "Fruitful Bran",
          "Fruity Pebbles",
          "Golden Crisp",
          "Golden Grahams",
          "Grape Nuts Flakes",
          "Grape-Nuts",
          "Great Grains Pecan",
          "Honey Graham Ohs",
          "Honey Nut Cheerios",
          "Honey-comb",
          "Just Right Crunchy  Nuggets",
          "Just Right Fruit & Nut",
          "Kix",
          "Life",
          "Lucky Charms",
          "Maypo",
          "Dates & Almonds",
          "Peaches & Pecans",
          "Mueslix Crispy Blend",
          "Multi-Grain Cheerios",
          "Nut&Honey Crunch",
          "Nutri-Grain Almond-Raisin",
          "Nutri-grain Wheat",
          "Oatmeal Raisin Crisp",
          "Post Nat. Raisin Bran",
          "Product 19",
          "Puffed Rice",
          "Puffed Wheat",
          "Quaker Oat Squares",
          "Quaker Oatmeal",
          "Raisin Bran",
          "Raisin Nut Bran",
          "Raisin Squares",
          "Rice Chex",
          "Rice Krispies",
          "Shredded Wheat",
          "Shredded Wheat 'n'Bran",
          "Shredded Wheat spoon size",
          "Smacks",
          "Special K",
          "Strawberry Fruit Wheats",
          "Total Corn Flakes",
          "Total Raisin Bran",
          "Total Whole Grain",
          "Triples",
          "Trix",
          "Walnuts & Oats",
          "Wheat Chex",
          "Wheaties",
          "Wheaties Honey Gold",
          "All-Bran Complete Wheat Flakes Cereal",
          "Eggo",
          "Honey Smacks",
          "Krave Double Chocolate",
          "Peeps",
          "Smart Start",
          "Annie's Whole Grain Cereal",
          "Cascadian Farm Organic Raisin Bran",
          "Cheerios Multi Grain",
          "Chex Wheat Cereal",
          "Cookie Crisp",
          "Dunkaroos",
          "Fiber One",
          "Good Belly",
          "Larabar (Peanut Butter)",
          "Oatmeal Crisp",
          "Wonderworks (Peanut Butter)",
          "Ahold 100% Whole Grain",
          "Hannaford Frosted Flakes",
          "Martin's Food Lion",
          "Hannaford Tasteeos Cereal",
          "Ahold Vanilla Almond Cereal",
          "Kelloggs Special Fruit & Yogurt",
          "Kelloggs Special Original Cereal",
          "Quaker Life Cinnamon Multigrain",
          "Quaker Life Original Multigrain",
          "Quaker Life Ltd. Edition, Pumpkin Spice",
          "All-Bran",
          "Apple Jacks",
          "Basic 4",
          "Cocoa Puffs",
          "Corn Flakes",
          "Corn Pops",
          "Cracklin' Oat Bran",
          "Crispix",
          "Froot Loops",
          "Frosted Flakes",
          "Golden Grahams",
          "Kix",
          "Oatmeal Raisin Crisp",
          "Raisin Bran",
          "Raisin Nut Bran",
          "Rice Krispies",
          "Special K",
          "Total Whole Grain",
          "Trix",
          "Wheaties"
         ],
         "type": "box",
         "x": [
          1993,
          1993,
          1993,
          1993,
          1993,
          1993,
          1993,
          1993,
          1993,
          1993,
          1993,
          1993,
          1993,
          1993,
          1993,
          1993,
          1993,
          1993,
          1993,
          1993,
          2020,
          2020,
          2020,
          2020,
          2020,
          2020,
          2020,
          2020,
          2020,
          2020,
          2020,
          2020,
          2020,
          2020,
          2020,
          2020,
          2020,
          2020,
          2020,
          2020
         ],
         "y": [
          1,
          0,
          2,
          1,
          0,
          0,
          3,
          0,
          1,
          0,
          1,
          1,
          2,
          1,
          2,
          0,
          0,
          1,
          1,
          1,
          1,
          1,
          1,
          2,
          0,
          0,
          4,
          0,
          1,
          0,
          1,
          1,
          2,
          0,
          2,
          0,
          0,
          1,
          1,
          0
         ]
        }
       ],
       "layout": {
        "boxmode": "group",
        "template": {
         "data": {
          "bar": [
           {
            "error_x": {
             "color": "#2a3f5f"
            },
            "error_y": {
             "color": "#2a3f5f"
            },
            "marker": {
             "line": {
              "color": "#E5ECF6",
              "width": 0.5
             }
            },
            "type": "bar"
           }
          ],
          "barpolar": [
           {
            "marker": {
             "line": {
              "color": "#E5ECF6",
              "width": 0.5
             }
            },
            "type": "barpolar"
           }
          ],
          "carpet": [
           {
            "aaxis": {
             "endlinecolor": "#2a3f5f",
             "gridcolor": "white",
             "linecolor": "white",
             "minorgridcolor": "white",
             "startlinecolor": "#2a3f5f"
            },
            "baxis": {
             "endlinecolor": "#2a3f5f",
             "gridcolor": "white",
             "linecolor": "white",
             "minorgridcolor": "white",
             "startlinecolor": "#2a3f5f"
            },
            "type": "carpet"
           }
          ],
          "choropleth": [
           {
            "colorbar": {
             "outlinewidth": 0,
             "ticks": ""
            },
            "type": "choropleth"
           }
          ],
          "contour": [
           {
            "colorbar": {
             "outlinewidth": 0,
             "ticks": ""
            },
            "colorscale": [
             [
              0,
              "#0d0887"
             ],
             [
              0.1111111111111111,
              "#46039f"
             ],
             [
              0.2222222222222222,
              "#7201a8"
             ],
             [
              0.3333333333333333,
              "#9c179e"
             ],
             [
              0.4444444444444444,
              "#bd3786"
             ],
             [
              0.5555555555555556,
              "#d8576b"
             ],
             [
              0.6666666666666666,
              "#ed7953"
             ],
             [
              0.7777777777777778,
              "#fb9f3a"
             ],
             [
              0.8888888888888888,
              "#fdca26"
             ],
             [
              1,
              "#f0f921"
             ]
            ],
            "type": "contour"
           }
          ],
          "contourcarpet": [
           {
            "colorbar": {
             "outlinewidth": 0,
             "ticks": ""
            },
            "type": "contourcarpet"
           }
          ],
          "heatmap": [
           {
            "colorbar": {
             "outlinewidth": 0,
             "ticks": ""
            },
            "colorscale": [
             [
              0,
              "#0d0887"
             ],
             [
              0.1111111111111111,
              "#46039f"
             ],
             [
              0.2222222222222222,
              "#7201a8"
             ],
             [
              0.3333333333333333,
              "#9c179e"
             ],
             [
              0.4444444444444444,
              "#bd3786"
             ],
             [
              0.5555555555555556,
              "#d8576b"
             ],
             [
              0.6666666666666666,
              "#ed7953"
             ],
             [
              0.7777777777777778,
              "#fb9f3a"
             ],
             [
              0.8888888888888888,
              "#fdca26"
             ],
             [
              1,
              "#f0f921"
             ]
            ],
            "type": "heatmap"
           }
          ],
          "heatmapgl": [
           {
            "colorbar": {
             "outlinewidth": 0,
             "ticks": ""
            },
            "colorscale": [
             [
              0,
              "#0d0887"
             ],
             [
              0.1111111111111111,
              "#46039f"
             ],
             [
              0.2222222222222222,
              "#7201a8"
             ],
             [
              0.3333333333333333,
              "#9c179e"
             ],
             [
              0.4444444444444444,
              "#bd3786"
             ],
             [
              0.5555555555555556,
              "#d8576b"
             ],
             [
              0.6666666666666666,
              "#ed7953"
             ],
             [
              0.7777777777777778,
              "#fb9f3a"
             ],
             [
              0.8888888888888888,
              "#fdca26"
             ],
             [
              1,
              "#f0f921"
             ]
            ],
            "type": "heatmapgl"
           }
          ],
          "histogram": [
           {
            "marker": {
             "colorbar": {
              "outlinewidth": 0,
              "ticks": ""
             }
            },
            "type": "histogram"
           }
          ],
          "histogram2d": [
           {
            "colorbar": {
             "outlinewidth": 0,
             "ticks": ""
            },
            "colorscale": [
             [
              0,
              "#0d0887"
             ],
             [
              0.1111111111111111,
              "#46039f"
             ],
             [
              0.2222222222222222,
              "#7201a8"
             ],
             [
              0.3333333333333333,
              "#9c179e"
             ],
             [
              0.4444444444444444,
              "#bd3786"
             ],
             [
              0.5555555555555556,
              "#d8576b"
             ],
             [
              0.6666666666666666,
              "#ed7953"
             ],
             [
              0.7777777777777778,
              "#fb9f3a"
             ],
             [
              0.8888888888888888,
              "#fdca26"
             ],
             [
              1,
              "#f0f921"
             ]
            ],
            "type": "histogram2d"
           }
          ],
          "histogram2dcontour": [
           {
            "colorbar": {
             "outlinewidth": 0,
             "ticks": ""
            },
            "colorscale": [
             [
              0,
              "#0d0887"
             ],
             [
              0.1111111111111111,
              "#46039f"
             ],
             [
              0.2222222222222222,
              "#7201a8"
             ],
             [
              0.3333333333333333,
              "#9c179e"
             ],
             [
              0.4444444444444444,
              "#bd3786"
             ],
             [
              0.5555555555555556,
              "#d8576b"
             ],
             [
              0.6666666666666666,
              "#ed7953"
             ],
             [
              0.7777777777777778,
              "#fb9f3a"
             ],
             [
              0.8888888888888888,
              "#fdca26"
             ],
             [
              1,
              "#f0f921"
             ]
            ],
            "type": "histogram2dcontour"
           }
          ],
          "mesh3d": [
           {
            "colorbar": {
             "outlinewidth": 0,
             "ticks": ""
            },
            "type": "mesh3d"
           }
          ],
          "parcoords": [
           {
            "line": {
             "colorbar": {
              "outlinewidth": 0,
              "ticks": ""
             }
            },
            "type": "parcoords"
           }
          ],
          "pie": [
           {
            "automargin": true,
            "type": "pie"
           }
          ],
          "scatter": [
           {
            "marker": {
             "colorbar": {
              "outlinewidth": 0,
              "ticks": ""
             }
            },
            "type": "scatter"
           }
          ],
          "scatter3d": [
           {
            "line": {
             "colorbar": {
              "outlinewidth": 0,
              "ticks": ""
             }
            },
            "marker": {
             "colorbar": {
              "outlinewidth": 0,
              "ticks": ""
             }
            },
            "type": "scatter3d"
           }
          ],
          "scattercarpet": [
           {
            "marker": {
             "colorbar": {
              "outlinewidth": 0,
              "ticks": ""
             }
            },
            "type": "scattercarpet"
           }
          ],
          "scattergeo": [
           {
            "marker": {
             "colorbar": {
              "outlinewidth": 0,
              "ticks": ""
             }
            },
            "type": "scattergeo"
           }
          ],
          "scattergl": [
           {
            "marker": {
             "colorbar": {
              "outlinewidth": 0,
              "ticks": ""
             }
            },
            "type": "scattergl"
           }
          ],
          "scattermapbox": [
           {
            "marker": {
             "colorbar": {
              "outlinewidth": 0,
              "ticks": ""
             }
            },
            "type": "scattermapbox"
           }
          ],
          "scatterpolar": [
           {
            "marker": {
             "colorbar": {
              "outlinewidth": 0,
              "ticks": ""
             }
            },
            "type": "scatterpolar"
           }
          ],
          "scatterpolargl": [
           {
            "marker": {
             "colorbar": {
              "outlinewidth": 0,
              "ticks": ""
             }
            },
            "type": "scatterpolargl"
           }
          ],
          "scatterternary": [
           {
            "marker": {
             "colorbar": {
              "outlinewidth": 0,
              "ticks": ""
             }
            },
            "type": "scatterternary"
           }
          ],
          "surface": [
           {
            "colorbar": {
             "outlinewidth": 0,
             "ticks": ""
            },
            "colorscale": [
             [
              0,
              "#0d0887"
             ],
             [
              0.1111111111111111,
              "#46039f"
             ],
             [
              0.2222222222222222,
              "#7201a8"
             ],
             [
              0.3333333333333333,
              "#9c179e"
             ],
             [
              0.4444444444444444,
              "#bd3786"
             ],
             [
              0.5555555555555556,
              "#d8576b"
             ],
             [
              0.6666666666666666,
              "#ed7953"
             ],
             [
              0.7777777777777778,
              "#fb9f3a"
             ],
             [
              0.8888888888888888,
              "#fdca26"
             ],
             [
              1,
              "#f0f921"
             ]
            ],
            "type": "surface"
           }
          ],
          "table": [
           {
            "cells": {
             "fill": {
              "color": "#EBF0F8"
             },
             "line": {
              "color": "white"
             }
            },
            "header": {
             "fill": {
              "color": "#C8D4E3"
             },
             "line": {
              "color": "white"
             }
            },
            "type": "table"
           }
          ]
         },
         "layout": {
          "annotationdefaults": {
           "arrowcolor": "#2a3f5f",
           "arrowhead": 0,
           "arrowwidth": 1
          },
          "coloraxis": {
           "colorbar": {
            "outlinewidth": 0,
            "ticks": ""
           }
          },
          "colorscale": {
           "diverging": [
            [
             0,
             "#8e0152"
            ],
            [
             0.1,
             "#c51b7d"
            ],
            [
             0.2,
             "#de77ae"
            ],
            [
             0.3,
             "#f1b6da"
            ],
            [
             0.4,
             "#fde0ef"
            ],
            [
             0.5,
             "#f7f7f7"
            ],
            [
             0.6,
             "#e6f5d0"
            ],
            [
             0.7,
             "#b8e186"
            ],
            [
             0.8,
             "#7fbc41"
            ],
            [
             0.9,
             "#4d9221"
            ],
            [
             1,
             "#276419"
            ]
           ],
           "sequential": [
            [
             0,
             "#0d0887"
            ],
            [
             0.1111111111111111,
             "#46039f"
            ],
            [
             0.2222222222222222,
             "#7201a8"
            ],
            [
             0.3333333333333333,
             "#9c179e"
            ],
            [
             0.4444444444444444,
             "#bd3786"
            ],
            [
             0.5555555555555556,
             "#d8576b"
            ],
            [
             0.6666666666666666,
             "#ed7953"
            ],
            [
             0.7777777777777778,
             "#fb9f3a"
            ],
            [
             0.8888888888888888,
             "#fdca26"
            ],
            [
             1,
             "#f0f921"
            ]
           ],
           "sequentialminus": [
            [
             0,
             "#0d0887"
            ],
            [
             0.1111111111111111,
             "#46039f"
            ],
            [
             0.2222222222222222,
             "#7201a8"
            ],
            [
             0.3333333333333333,
             "#9c179e"
            ],
            [
             0.4444444444444444,
             "#bd3786"
            ],
            [
             0.5555555555555556,
             "#d8576b"
            ],
            [
             0.6666666666666666,
             "#ed7953"
            ],
            [
             0.7777777777777778,
             "#fb9f3a"
            ],
            [
             0.8888888888888888,
             "#fdca26"
            ],
            [
             1,
             "#f0f921"
            ]
           ]
          },
          "colorway": [
           "#636efa",
           "#EF553B",
           "#00cc96",
           "#ab63fa",
           "#FFA15A",
           "#19d3f3",
           "#FF6692",
           "#B6E880",
           "#FF97FF",
           "#FECB52"
          ],
          "font": {
           "color": "#2a3f5f"
          },
          "geo": {
           "bgcolor": "white",
           "lakecolor": "white",
           "landcolor": "#E5ECF6",
           "showlakes": true,
           "showland": true,
           "subunitcolor": "white"
          },
          "hoverlabel": {
           "align": "left"
          },
          "hovermode": "closest",
          "mapbox": {
           "style": "light"
          },
          "paper_bgcolor": "white",
          "plot_bgcolor": "#E5ECF6",
          "polar": {
           "angularaxis": {
            "gridcolor": "white",
            "linecolor": "white",
            "ticks": ""
           },
           "bgcolor": "#E5ECF6",
           "radialaxis": {
            "gridcolor": "white",
            "linecolor": "white",
            "ticks": ""
           }
          },
          "scene": {
           "xaxis": {
            "backgroundcolor": "#E5ECF6",
            "gridcolor": "white",
            "gridwidth": 2,
            "linecolor": "white",
            "showbackground": true,
            "ticks": "",
            "zerolinecolor": "white"
           },
           "yaxis": {
            "backgroundcolor": "#E5ECF6",
            "gridcolor": "white",
            "gridwidth": 2,
            "linecolor": "white",
            "showbackground": true,
            "ticks": "",
            "zerolinecolor": "white"
           },
           "zaxis": {
            "backgroundcolor": "#E5ECF6",
            "gridcolor": "white",
            "gridwidth": 2,
            "linecolor": "white",
            "showbackground": true,
            "ticks": "",
            "zerolinecolor": "white"
           }
          },
          "shapedefaults": {
           "line": {
            "color": "#2a3f5f"
           }
          },
          "ternary": {
           "aaxis": {
            "gridcolor": "white",
            "linecolor": "white",
            "ticks": ""
           },
           "baxis": {
            "gridcolor": "white",
            "linecolor": "white",
            "ticks": ""
           },
           "bgcolor": "#E5ECF6",
           "caxis": {
            "gridcolor": "white",
            "linecolor": "white",
            "ticks": ""
           }
          },
          "title": {
           "x": 0.05
          },
          "xaxis": {
           "automargin": true,
           "gridcolor": "white",
           "linecolor": "white",
           "ticks": "",
           "title": {
            "standoff": 15
           },
           "zerolinecolor": "white",
           "zerolinewidth": 2
          },
          "yaxis": {
           "automargin": true,
           "gridcolor": "white",
           "linecolor": "white",
           "ticks": "",
           "title": {
            "standoff": 15
           },
           "zerolinecolor": "white",
           "zerolinewidth": 2
          }
         }
        },
        "title": {
         "text": "Fat level distribution change in common products between 1993 and 2020"
        },
        "xaxis": {
         "title": {
          "text": "Years"
         }
        },
        "yaxis": {
         "title": {
          "text": "Fat (grams/ounce)"
         }
        }
       }
      },
      "text/html": [
       "<div>                            <div id=\"afd662a5-7336-45c0-b406-551d562e0e42\" class=\"plotly-graph-div\" style=\"height:525px; width:100%;\"></div>            <script type=\"text/javascript\">                require([\"plotly\"], function(Plotly) {                    window.PLOTLYENV=window.PLOTLYENV || {};                                    if (document.getElementById(\"afd662a5-7336-45c0-b406-551d562e0e42\")) {                    Plotly.newPlot(                        \"afd662a5-7336-45c0-b406-551d562e0e42\",                        [{\"boxpoints\": \"all\", \"name\": \"Fat\", \"text\": [\"100% Bran\", \"100% Natural Bran\", \"All-Bran\", \"All-Bran with Extra Fiber\", \"Almond Delight\", \"Apple Cinnamon Cheerios\", \"Apple Jacks\", \"Basic 4\", \"Bran Chex\", \"Bran Flakes\", \"Cap'n'Crunch\", \"Cheerios\", \"Cinnamon Toast Crunch\", \"Clusters\", \"Cocoa Puffs\", \"Corn Chex\", \"Corn Flakes\", \"Corn Pops\", \"Count Chocula\", \"Cracklin' Oat Bran\", \"Cream of Wheat (Quick)\", \"Crispix\", \"Crispy Wheat & Raisins\", \"Double Chex\", \"Froot Loops\", \"Frosted Flakes\", \"Frosted Mini-Wheats\", \"Fruit & Fibre Dates\", \"Fruitful Bran\", \"Fruity Pebbles\", \"Golden Crisp\", \"Golden Grahams\", \"Grape Nuts Flakes\", \"Grape-Nuts\", \"Great Grains Pecan\", \"Honey Graham Ohs\", \"Honey Nut Cheerios\", \"Honey-comb\", \"Just Right Crunchy  Nuggets\", \"Just Right Fruit & Nut\", \"Kix\", \"Life\", \"Lucky Charms\", \"Maypo\", \"Dates & Almonds\", \"Peaches & Pecans\", \"Mueslix Crispy Blend\", \"Multi-Grain Cheerios\", \"Nut&Honey Crunch\", \"Nutri-Grain Almond-Raisin\", \"Nutri-grain Wheat\", \"Oatmeal Raisin Crisp\", \"Post Nat. Raisin Bran\", \"Product 19\", \"Puffed Rice\", \"Puffed Wheat\", \"Quaker Oat Squares\", \"Quaker Oatmeal\", \"Raisin Bran\", \"Raisin Nut Bran\", \"Raisin Squares\", \"Rice Chex\", \"Rice Krispies\", \"Shredded Wheat\", \"Shredded Wheat 'n'Bran\", \"Shredded Wheat spoon size\", \"Smacks\", \"Special K\", \"Strawberry Fruit Wheats\", \"Total Corn Flakes\", \"Total Raisin Bran\", \"Total Whole Grain\", \"Triples\", \"Trix\", \"Walnuts & Oats\", \"Wheat Chex\", \"Wheaties\", \"Wheaties Honey Gold\", \"All-Bran Complete Wheat Flakes Cereal\", \"Eggo\", \"Honey Smacks\", \"Krave Double Chocolate\", \"Peeps\", \"Smart Start\", \"Annie's Whole Grain Cereal\", \"Cascadian Farm Organic Raisin Bran\", \"Cheerios Multi Grain\", \"Chex Wheat Cereal\", \"Cookie Crisp\", \"Dunkaroos\", \"Fiber One\", \"Good Belly\", \"Larabar (Peanut Butter)\", \"Oatmeal Crisp\", \"Wonderworks (Peanut Butter)\", \"Ahold 100% Whole Grain\", \"Hannaford Frosted Flakes\", \"Martin's Food Lion\", \"Hannaford Tasteeos Cereal\", \"Ahold Vanilla Almond Cereal\", \"Kelloggs Special Fruit & Yogurt\", \"Kelloggs Special Original Cereal\", \"Quaker Life Cinnamon Multigrain\", \"Quaker Life Original Multigrain\", \"Quaker Life Ltd. Edition, Pumpkin Spice\", \"All-Bran\", \"Apple Jacks\", \"Basic 4\", \"Cocoa Puffs\", \"Corn Flakes\", \"Corn Pops\", \"Cracklin' Oat Bran\", \"Crispix\", \"Froot Loops\", \"Frosted Flakes\", \"Golden Grahams\", \"Kix\", \"Oatmeal Raisin Crisp\", \"Raisin Bran\", \"Raisin Nut Bran\", \"Rice Krispies\", \"Special K\", \"Total Whole Grain\", \"Trix\", \"Wheaties\"], \"type\": \"box\", \"x\": [1993, 1993, 1993, 1993, 1993, 1993, 1993, 1993, 1993, 1993, 1993, 1993, 1993, 1993, 1993, 1993, 1993, 1993, 1993, 1993, 2020, 2020, 2020, 2020, 2020, 2020, 2020, 2020, 2020, 2020, 2020, 2020, 2020, 2020, 2020, 2020, 2020, 2020, 2020, 2020], \"y\": [1, 0, 2, 1, 0, 0, 3, 0, 1, 0, 1, 1, 2, 1, 2, 0, 0, 1, 1, 1, 1, 1, 1, 2, 0, 0, 4, 0, 1, 0, 1, 1, 2, 0, 2, 0, 0, 1, 1, 0]}],                        {\"boxmode\": \"group\", \"template\": {\"data\": {\"bar\": [{\"error_x\": {\"color\": \"#2a3f5f\"}, \"error_y\": {\"color\": \"#2a3f5f\"}, \"marker\": {\"line\": {\"color\": \"#E5ECF6\", \"width\": 0.5}}, \"type\": \"bar\"}], \"barpolar\": [{\"marker\": {\"line\": {\"color\": \"#E5ECF6\", \"width\": 0.5}}, \"type\": \"barpolar\"}], \"carpet\": [{\"aaxis\": {\"endlinecolor\": \"#2a3f5f\", \"gridcolor\": \"white\", \"linecolor\": \"white\", \"minorgridcolor\": \"white\", \"startlinecolor\": \"#2a3f5f\"}, \"baxis\": {\"endlinecolor\": \"#2a3f5f\", \"gridcolor\": \"white\", \"linecolor\": \"white\", \"minorgridcolor\": \"white\", \"startlinecolor\": \"#2a3f5f\"}, \"type\": \"carpet\"}], \"choropleth\": [{\"colorbar\": {\"outlinewidth\": 0, \"ticks\": \"\"}, \"type\": \"choropleth\"}], \"contour\": [{\"colorbar\": {\"outlinewidth\": 0, \"ticks\": \"\"}, \"colorscale\": [[0.0, \"#0d0887\"], [0.1111111111111111, \"#46039f\"], [0.2222222222222222, \"#7201a8\"], [0.3333333333333333, \"#9c179e\"], [0.4444444444444444, \"#bd3786\"], [0.5555555555555556, \"#d8576b\"], [0.6666666666666666, \"#ed7953\"], [0.7777777777777778, \"#fb9f3a\"], [0.8888888888888888, \"#fdca26\"], [1.0, \"#f0f921\"]], \"type\": \"contour\"}], \"contourcarpet\": [{\"colorbar\": {\"outlinewidth\": 0, \"ticks\": \"\"}, \"type\": \"contourcarpet\"}], \"heatmap\": [{\"colorbar\": {\"outlinewidth\": 0, \"ticks\": \"\"}, \"colorscale\": [[0.0, \"#0d0887\"], [0.1111111111111111, \"#46039f\"], [0.2222222222222222, \"#7201a8\"], [0.3333333333333333, \"#9c179e\"], [0.4444444444444444, \"#bd3786\"], [0.5555555555555556, \"#d8576b\"], [0.6666666666666666, \"#ed7953\"], [0.7777777777777778, \"#fb9f3a\"], [0.8888888888888888, \"#fdca26\"], [1.0, \"#f0f921\"]], \"type\": \"heatmap\"}], \"heatmapgl\": [{\"colorbar\": {\"outlinewidth\": 0, \"ticks\": \"\"}, \"colorscale\": [[0.0, \"#0d0887\"], [0.1111111111111111, \"#46039f\"], [0.2222222222222222, \"#7201a8\"], [0.3333333333333333, \"#9c179e\"], [0.4444444444444444, \"#bd3786\"], [0.5555555555555556, \"#d8576b\"], [0.6666666666666666, \"#ed7953\"], [0.7777777777777778, \"#fb9f3a\"], [0.8888888888888888, \"#fdca26\"], [1.0, \"#f0f921\"]], \"type\": \"heatmapgl\"}], \"histogram\": [{\"marker\": {\"colorbar\": {\"outlinewidth\": 0, \"ticks\": \"\"}}, \"type\": \"histogram\"}], \"histogram2d\": [{\"colorbar\": {\"outlinewidth\": 0, \"ticks\": \"\"}, \"colorscale\": [[0.0, \"#0d0887\"], [0.1111111111111111, \"#46039f\"], [0.2222222222222222, \"#7201a8\"], [0.3333333333333333, \"#9c179e\"], [0.4444444444444444, \"#bd3786\"], [0.5555555555555556, \"#d8576b\"], [0.6666666666666666, \"#ed7953\"], [0.7777777777777778, \"#fb9f3a\"], [0.8888888888888888, \"#fdca26\"], [1.0, \"#f0f921\"]], \"type\": \"histogram2d\"}], \"histogram2dcontour\": [{\"colorbar\": {\"outlinewidth\": 0, \"ticks\": \"\"}, \"colorscale\": [[0.0, \"#0d0887\"], [0.1111111111111111, \"#46039f\"], [0.2222222222222222, \"#7201a8\"], [0.3333333333333333, \"#9c179e\"], [0.4444444444444444, \"#bd3786\"], [0.5555555555555556, \"#d8576b\"], [0.6666666666666666, \"#ed7953\"], [0.7777777777777778, \"#fb9f3a\"], [0.8888888888888888, \"#fdca26\"], [1.0, \"#f0f921\"]], \"type\": \"histogram2dcontour\"}], \"mesh3d\": [{\"colorbar\": {\"outlinewidth\": 0, \"ticks\": \"\"}, \"type\": \"mesh3d\"}], \"parcoords\": [{\"line\": {\"colorbar\": {\"outlinewidth\": 0, \"ticks\": \"\"}}, \"type\": \"parcoords\"}], \"pie\": [{\"automargin\": true, \"type\": \"pie\"}], \"scatter\": [{\"marker\": {\"colorbar\": {\"outlinewidth\": 0, \"ticks\": \"\"}}, \"type\": \"scatter\"}], \"scatter3d\": [{\"line\": {\"colorbar\": {\"outlinewidth\": 0, \"ticks\": \"\"}}, \"marker\": {\"colorbar\": {\"outlinewidth\": 0, \"ticks\": \"\"}}, \"type\": \"scatter3d\"}], \"scattercarpet\": [{\"marker\": {\"colorbar\": {\"outlinewidth\": 0, \"ticks\": \"\"}}, \"type\": \"scattercarpet\"}], \"scattergeo\": [{\"marker\": {\"colorbar\": {\"outlinewidth\": 0, \"ticks\": \"\"}}, \"type\": \"scattergeo\"}], \"scattergl\": [{\"marker\": {\"colorbar\": {\"outlinewidth\": 0, \"ticks\": \"\"}}, \"type\": \"scattergl\"}], \"scattermapbox\": [{\"marker\": {\"colorbar\": {\"outlinewidth\": 0, \"ticks\": \"\"}}, \"type\": \"scattermapbox\"}], \"scatterpolar\": [{\"marker\": {\"colorbar\": {\"outlinewidth\": 0, \"ticks\": \"\"}}, \"type\": \"scatterpolar\"}], \"scatterpolargl\": [{\"marker\": {\"colorbar\": {\"outlinewidth\": 0, \"ticks\": \"\"}}, \"type\": \"scatterpolargl\"}], \"scatterternary\": [{\"marker\": {\"colorbar\": {\"outlinewidth\": 0, \"ticks\": \"\"}}, \"type\": \"scatterternary\"}], \"surface\": [{\"colorbar\": {\"outlinewidth\": 0, \"ticks\": \"\"}, \"colorscale\": [[0.0, \"#0d0887\"], [0.1111111111111111, \"#46039f\"], [0.2222222222222222, \"#7201a8\"], [0.3333333333333333, \"#9c179e\"], [0.4444444444444444, \"#bd3786\"], [0.5555555555555556, \"#d8576b\"], [0.6666666666666666, \"#ed7953\"], [0.7777777777777778, \"#fb9f3a\"], [0.8888888888888888, \"#fdca26\"], [1.0, \"#f0f921\"]], \"type\": \"surface\"}], \"table\": [{\"cells\": {\"fill\": {\"color\": \"#EBF0F8\"}, \"line\": {\"color\": \"white\"}}, \"header\": {\"fill\": {\"color\": \"#C8D4E3\"}, \"line\": {\"color\": \"white\"}}, \"type\": \"table\"}]}, \"layout\": {\"annotationdefaults\": {\"arrowcolor\": \"#2a3f5f\", \"arrowhead\": 0, \"arrowwidth\": 1}, \"coloraxis\": {\"colorbar\": {\"outlinewidth\": 0, \"ticks\": \"\"}}, \"colorscale\": {\"diverging\": [[0, \"#8e0152\"], [0.1, \"#c51b7d\"], [0.2, \"#de77ae\"], [0.3, \"#f1b6da\"], [0.4, \"#fde0ef\"], [0.5, \"#f7f7f7\"], [0.6, \"#e6f5d0\"], [0.7, \"#b8e186\"], [0.8, \"#7fbc41\"], [0.9, \"#4d9221\"], [1, \"#276419\"]], \"sequential\": [[0.0, \"#0d0887\"], [0.1111111111111111, \"#46039f\"], [0.2222222222222222, \"#7201a8\"], [0.3333333333333333, \"#9c179e\"], [0.4444444444444444, \"#bd3786\"], [0.5555555555555556, \"#d8576b\"], [0.6666666666666666, \"#ed7953\"], [0.7777777777777778, \"#fb9f3a\"], [0.8888888888888888, \"#fdca26\"], [1.0, \"#f0f921\"]], \"sequentialminus\": [[0.0, \"#0d0887\"], [0.1111111111111111, \"#46039f\"], [0.2222222222222222, \"#7201a8\"], [0.3333333333333333, \"#9c179e\"], [0.4444444444444444, \"#bd3786\"], [0.5555555555555556, \"#d8576b\"], [0.6666666666666666, \"#ed7953\"], [0.7777777777777778, \"#fb9f3a\"], [0.8888888888888888, \"#fdca26\"], [1.0, \"#f0f921\"]]}, \"colorway\": [\"#636efa\", \"#EF553B\", \"#00cc96\", \"#ab63fa\", \"#FFA15A\", \"#19d3f3\", \"#FF6692\", \"#B6E880\", \"#FF97FF\", \"#FECB52\"], \"font\": {\"color\": \"#2a3f5f\"}, \"geo\": {\"bgcolor\": \"white\", \"lakecolor\": \"white\", \"landcolor\": \"#E5ECF6\", \"showlakes\": true, \"showland\": true, \"subunitcolor\": \"white\"}, \"hoverlabel\": {\"align\": \"left\"}, \"hovermode\": \"closest\", \"mapbox\": {\"style\": \"light\"}, \"paper_bgcolor\": \"white\", \"plot_bgcolor\": \"#E5ECF6\", \"polar\": {\"angularaxis\": {\"gridcolor\": \"white\", \"linecolor\": \"white\", \"ticks\": \"\"}, \"bgcolor\": \"#E5ECF6\", \"radialaxis\": {\"gridcolor\": \"white\", \"linecolor\": \"white\", \"ticks\": \"\"}}, \"scene\": {\"xaxis\": {\"backgroundcolor\": \"#E5ECF6\", \"gridcolor\": \"white\", \"gridwidth\": 2, \"linecolor\": \"white\", \"showbackground\": true, \"ticks\": \"\", \"zerolinecolor\": \"white\"}, \"yaxis\": {\"backgroundcolor\": \"#E5ECF6\", \"gridcolor\": \"white\", \"gridwidth\": 2, \"linecolor\": \"white\", \"showbackground\": true, \"ticks\": \"\", \"zerolinecolor\": \"white\"}, \"zaxis\": {\"backgroundcolor\": \"#E5ECF6\", \"gridcolor\": \"white\", \"gridwidth\": 2, \"linecolor\": \"white\", \"showbackground\": true, \"ticks\": \"\", \"zerolinecolor\": \"white\"}}, \"shapedefaults\": {\"line\": {\"color\": \"#2a3f5f\"}}, \"ternary\": {\"aaxis\": {\"gridcolor\": \"white\", \"linecolor\": \"white\", \"ticks\": \"\"}, \"baxis\": {\"gridcolor\": \"white\", \"linecolor\": \"white\", \"ticks\": \"\"}, \"bgcolor\": \"#E5ECF6\", \"caxis\": {\"gridcolor\": \"white\", \"linecolor\": \"white\", \"ticks\": \"\"}}, \"title\": {\"x\": 0.05}, \"xaxis\": {\"automargin\": true, \"gridcolor\": \"white\", \"linecolor\": \"white\", \"ticks\": \"\", \"title\": {\"standoff\": 15}, \"zerolinecolor\": \"white\", \"zerolinewidth\": 2}, \"yaxis\": {\"automargin\": true, \"gridcolor\": \"white\", \"linecolor\": \"white\", \"ticks\": \"\", \"title\": {\"standoff\": 15}, \"zerolinecolor\": \"white\", \"zerolinewidth\": 2}}}, \"title\": {\"text\": \"Fat level distribution change in common products between 1993 and 2020\"}, \"xaxis\": {\"title\": {\"text\": \"Years\"}}, \"yaxis\": {\"title\": {\"text\": \"Fat (grams/ounce)\"}}},                        {\"responsive\": true}                    ).then(function(){\n",
       "                            \n",
       "var gd = document.getElementById('afd662a5-7336-45c0-b406-551d562e0e42');\n",
       "var x = new MutationObserver(function (mutations, observer) {{\n",
       "        var display = window.getComputedStyle(gd).display;\n",
       "        if (!display || display === 'none') {{\n",
       "            console.log([gd, 'removed!']);\n",
       "            Plotly.purge(gd);\n",
       "            observer.disconnect();\n",
       "        }}\n",
       "}});\n",
       "\n",
       "// Listen for the removal of the full notebook cells\n",
       "var notebookContainer = gd.closest('#notebook-container');\n",
       "if (notebookContainer) {{\n",
       "    x.observe(notebookContainer, {childList: true});\n",
       "}}\n",
       "\n",
       "// Listen for the clearing of the current output cell\n",
       "var outputEl = gd.closest('.output');\n",
       "if (outputEl) {{\n",
       "    x.observe(outputEl, {childList: true});\n",
       "}}\n",
       "\n",
       "                        })                };                });            </script>        </div>"
      ]
     },
     "metadata": {},
     "output_type": "display_data"
    },
    {
     "data": {
      "application/vnd.plotly.v1+json": {
       "config": {
        "plotlyServerURL": "https://plotly.com"
       },
       "data": [
        {
         "marker": {
          "line": {
           "width": 0
          },
          "size": 12
         },
         "mode": "lines+markers",
         "name": "1993",
         "type": "scatter",
         "x": [
          "All-Bran",
          "Apple Jacks",
          "Basic 4",
          "Cocoa Puffs",
          "Corn Flakes",
          "Corn Pops",
          "Cracklin' Oat Bran",
          "Crispix",
          "Froot Loops",
          "Frosted Flakes",
          "Golden Grahams",
          "Kix",
          "Oatmeal Raisin Crisp",
          "Raisin Bran",
          "Raisin Nut Bran",
          "Rice Krispies",
          "Special K",
          "Total Whole Grain",
          "Trix",
          "Wheaties"
         ],
         "y": [
          9,
          1,
          2,
          0,
          1,
          1,
          4,
          1,
          1,
          1,
          0,
          0,
          1,
          4,
          2,
          0,
          1,
          3,
          0,
          3
         ]
        },
        {
         "marker": {
          "line": {
           "width": 0
          },
          "size": 12
         },
         "mode": "lines+markers",
         "name": "2020",
         "type": "scatter",
         "x": [
          "All-Bran",
          "Apple Jacks",
          "Basic 4",
          "Cocoa Puffs",
          "Corn Flakes",
          "Corn Pops",
          "Cracklin' Oat Bran",
          "Crispix",
          "Froot Loops",
          "Frosted Flakes",
          "Golden Grahams",
          "Kix",
          "Oatmeal Raisin Crisp",
          "Raisin Bran",
          "Raisin Nut Bran",
          "Rice Krispies",
          "Special K",
          "Total Whole Grain",
          "Trix",
          "Wheaties"
         ],
         "y": [
          5,
          1,
          3,
          2,
          1,
          0,
          4,
          0,
          1,
          1,
          1,
          2,
          3,
          2,
          3,
          0,
          1,
          3,
          1,
          3
         ]
        }
       ],
       "layout": {
        "showlegend": true,
        "template": {
         "data": {
          "bar": [
           {
            "error_x": {
             "color": "#2a3f5f"
            },
            "error_y": {
             "color": "#2a3f5f"
            },
            "marker": {
             "line": {
              "color": "#E5ECF6",
              "width": 0.5
             }
            },
            "type": "bar"
           }
          ],
          "barpolar": [
           {
            "marker": {
             "line": {
              "color": "#E5ECF6",
              "width": 0.5
             }
            },
            "type": "barpolar"
           }
          ],
          "carpet": [
           {
            "aaxis": {
             "endlinecolor": "#2a3f5f",
             "gridcolor": "white",
             "linecolor": "white",
             "minorgridcolor": "white",
             "startlinecolor": "#2a3f5f"
            },
            "baxis": {
             "endlinecolor": "#2a3f5f",
             "gridcolor": "white",
             "linecolor": "white",
             "minorgridcolor": "white",
             "startlinecolor": "#2a3f5f"
            },
            "type": "carpet"
           }
          ],
          "choropleth": [
           {
            "colorbar": {
             "outlinewidth": 0,
             "ticks": ""
            },
            "type": "choropleth"
           }
          ],
          "contour": [
           {
            "colorbar": {
             "outlinewidth": 0,
             "ticks": ""
            },
            "colorscale": [
             [
              0,
              "#0d0887"
             ],
             [
              0.1111111111111111,
              "#46039f"
             ],
             [
              0.2222222222222222,
              "#7201a8"
             ],
             [
              0.3333333333333333,
              "#9c179e"
             ],
             [
              0.4444444444444444,
              "#bd3786"
             ],
             [
              0.5555555555555556,
              "#d8576b"
             ],
             [
              0.6666666666666666,
              "#ed7953"
             ],
             [
              0.7777777777777778,
              "#fb9f3a"
             ],
             [
              0.8888888888888888,
              "#fdca26"
             ],
             [
              1,
              "#f0f921"
             ]
            ],
            "type": "contour"
           }
          ],
          "contourcarpet": [
           {
            "colorbar": {
             "outlinewidth": 0,
             "ticks": ""
            },
            "type": "contourcarpet"
           }
          ],
          "heatmap": [
           {
            "colorbar": {
             "outlinewidth": 0,
             "ticks": ""
            },
            "colorscale": [
             [
              0,
              "#0d0887"
             ],
             [
              0.1111111111111111,
              "#46039f"
             ],
             [
              0.2222222222222222,
              "#7201a8"
             ],
             [
              0.3333333333333333,
              "#9c179e"
             ],
             [
              0.4444444444444444,
              "#bd3786"
             ],
             [
              0.5555555555555556,
              "#d8576b"
             ],
             [
              0.6666666666666666,
              "#ed7953"
             ],
             [
              0.7777777777777778,
              "#fb9f3a"
             ],
             [
              0.8888888888888888,
              "#fdca26"
             ],
             [
              1,
              "#f0f921"
             ]
            ],
            "type": "heatmap"
           }
          ],
          "heatmapgl": [
           {
            "colorbar": {
             "outlinewidth": 0,
             "ticks": ""
            },
            "colorscale": [
             [
              0,
              "#0d0887"
             ],
             [
              0.1111111111111111,
              "#46039f"
             ],
             [
              0.2222222222222222,
              "#7201a8"
             ],
             [
              0.3333333333333333,
              "#9c179e"
             ],
             [
              0.4444444444444444,
              "#bd3786"
             ],
             [
              0.5555555555555556,
              "#d8576b"
             ],
             [
              0.6666666666666666,
              "#ed7953"
             ],
             [
              0.7777777777777778,
              "#fb9f3a"
             ],
             [
              0.8888888888888888,
              "#fdca26"
             ],
             [
              1,
              "#f0f921"
             ]
            ],
            "type": "heatmapgl"
           }
          ],
          "histogram": [
           {
            "marker": {
             "colorbar": {
              "outlinewidth": 0,
              "ticks": ""
             }
            },
            "type": "histogram"
           }
          ],
          "histogram2d": [
           {
            "colorbar": {
             "outlinewidth": 0,
             "ticks": ""
            },
            "colorscale": [
             [
              0,
              "#0d0887"
             ],
             [
              0.1111111111111111,
              "#46039f"
             ],
             [
              0.2222222222222222,
              "#7201a8"
             ],
             [
              0.3333333333333333,
              "#9c179e"
             ],
             [
              0.4444444444444444,
              "#bd3786"
             ],
             [
              0.5555555555555556,
              "#d8576b"
             ],
             [
              0.6666666666666666,
              "#ed7953"
             ],
             [
              0.7777777777777778,
              "#fb9f3a"
             ],
             [
              0.8888888888888888,
              "#fdca26"
             ],
             [
              1,
              "#f0f921"
             ]
            ],
            "type": "histogram2d"
           }
          ],
          "histogram2dcontour": [
           {
            "colorbar": {
             "outlinewidth": 0,
             "ticks": ""
            },
            "colorscale": [
             [
              0,
              "#0d0887"
             ],
             [
              0.1111111111111111,
              "#46039f"
             ],
             [
              0.2222222222222222,
              "#7201a8"
             ],
             [
              0.3333333333333333,
              "#9c179e"
             ],
             [
              0.4444444444444444,
              "#bd3786"
             ],
             [
              0.5555555555555556,
              "#d8576b"
             ],
             [
              0.6666666666666666,
              "#ed7953"
             ],
             [
              0.7777777777777778,
              "#fb9f3a"
             ],
             [
              0.8888888888888888,
              "#fdca26"
             ],
             [
              1,
              "#f0f921"
             ]
            ],
            "type": "histogram2dcontour"
           }
          ],
          "mesh3d": [
           {
            "colorbar": {
             "outlinewidth": 0,
             "ticks": ""
            },
            "type": "mesh3d"
           }
          ],
          "parcoords": [
           {
            "line": {
             "colorbar": {
              "outlinewidth": 0,
              "ticks": ""
             }
            },
            "type": "parcoords"
           }
          ],
          "pie": [
           {
            "automargin": true,
            "type": "pie"
           }
          ],
          "scatter": [
           {
            "marker": {
             "colorbar": {
              "outlinewidth": 0,
              "ticks": ""
             }
            },
            "type": "scatter"
           }
          ],
          "scatter3d": [
           {
            "line": {
             "colorbar": {
              "outlinewidth": 0,
              "ticks": ""
             }
            },
            "marker": {
             "colorbar": {
              "outlinewidth": 0,
              "ticks": ""
             }
            },
            "type": "scatter3d"
           }
          ],
          "scattercarpet": [
           {
            "marker": {
             "colorbar": {
              "outlinewidth": 0,
              "ticks": ""
             }
            },
            "type": "scattercarpet"
           }
          ],
          "scattergeo": [
           {
            "marker": {
             "colorbar": {
              "outlinewidth": 0,
              "ticks": ""
             }
            },
            "type": "scattergeo"
           }
          ],
          "scattergl": [
           {
            "marker": {
             "colorbar": {
              "outlinewidth": 0,
              "ticks": ""
             }
            },
            "type": "scattergl"
           }
          ],
          "scattermapbox": [
           {
            "marker": {
             "colorbar": {
              "outlinewidth": 0,
              "ticks": ""
             }
            },
            "type": "scattermapbox"
           }
          ],
          "scatterpolar": [
           {
            "marker": {
             "colorbar": {
              "outlinewidth": 0,
              "ticks": ""
             }
            },
            "type": "scatterpolar"
           }
          ],
          "scatterpolargl": [
           {
            "marker": {
             "colorbar": {
              "outlinewidth": 0,
              "ticks": ""
             }
            },
            "type": "scatterpolargl"
           }
          ],
          "scatterternary": [
           {
            "marker": {
             "colorbar": {
              "outlinewidth": 0,
              "ticks": ""
             }
            },
            "type": "scatterternary"
           }
          ],
          "surface": [
           {
            "colorbar": {
             "outlinewidth": 0,
             "ticks": ""
            },
            "colorscale": [
             [
              0,
              "#0d0887"
             ],
             [
              0.1111111111111111,
              "#46039f"
             ],
             [
              0.2222222222222222,
              "#7201a8"
             ],
             [
              0.3333333333333333,
              "#9c179e"
             ],
             [
              0.4444444444444444,
              "#bd3786"
             ],
             [
              0.5555555555555556,
              "#d8576b"
             ],
             [
              0.6666666666666666,
              "#ed7953"
             ],
             [
              0.7777777777777778,
              "#fb9f3a"
             ],
             [
              0.8888888888888888,
              "#fdca26"
             ],
             [
              1,
              "#f0f921"
             ]
            ],
            "type": "surface"
           }
          ],
          "table": [
           {
            "cells": {
             "fill": {
              "color": "#EBF0F8"
             },
             "line": {
              "color": "white"
             }
            },
            "header": {
             "fill": {
              "color": "#C8D4E3"
             },
             "line": {
              "color": "white"
             }
            },
            "type": "table"
           }
          ]
         },
         "layout": {
          "annotationdefaults": {
           "arrowcolor": "#2a3f5f",
           "arrowhead": 0,
           "arrowwidth": 1
          },
          "coloraxis": {
           "colorbar": {
            "outlinewidth": 0,
            "ticks": ""
           }
          },
          "colorscale": {
           "diverging": [
            [
             0,
             "#8e0152"
            ],
            [
             0.1,
             "#c51b7d"
            ],
            [
             0.2,
             "#de77ae"
            ],
            [
             0.3,
             "#f1b6da"
            ],
            [
             0.4,
             "#fde0ef"
            ],
            [
             0.5,
             "#f7f7f7"
            ],
            [
             0.6,
             "#e6f5d0"
            ],
            [
             0.7,
             "#b8e186"
            ],
            [
             0.8,
             "#7fbc41"
            ],
            [
             0.9,
             "#4d9221"
            ],
            [
             1,
             "#276419"
            ]
           ],
           "sequential": [
            [
             0,
             "#0d0887"
            ],
            [
             0.1111111111111111,
             "#46039f"
            ],
            [
             0.2222222222222222,
             "#7201a8"
            ],
            [
             0.3333333333333333,
             "#9c179e"
            ],
            [
             0.4444444444444444,
             "#bd3786"
            ],
            [
             0.5555555555555556,
             "#d8576b"
            ],
            [
             0.6666666666666666,
             "#ed7953"
            ],
            [
             0.7777777777777778,
             "#fb9f3a"
            ],
            [
             0.8888888888888888,
             "#fdca26"
            ],
            [
             1,
             "#f0f921"
            ]
           ],
           "sequentialminus": [
            [
             0,
             "#0d0887"
            ],
            [
             0.1111111111111111,
             "#46039f"
            ],
            [
             0.2222222222222222,
             "#7201a8"
            ],
            [
             0.3333333333333333,
             "#9c179e"
            ],
            [
             0.4444444444444444,
             "#bd3786"
            ],
            [
             0.5555555555555556,
             "#d8576b"
            ],
            [
             0.6666666666666666,
             "#ed7953"
            ],
            [
             0.7777777777777778,
             "#fb9f3a"
            ],
            [
             0.8888888888888888,
             "#fdca26"
            ],
            [
             1,
             "#f0f921"
            ]
           ]
          },
          "colorway": [
           "#636efa",
           "#EF553B",
           "#00cc96",
           "#ab63fa",
           "#FFA15A",
           "#19d3f3",
           "#FF6692",
           "#B6E880",
           "#FF97FF",
           "#FECB52"
          ],
          "font": {
           "color": "#2a3f5f"
          },
          "geo": {
           "bgcolor": "white",
           "lakecolor": "white",
           "landcolor": "#E5ECF6",
           "showlakes": true,
           "showland": true,
           "subunitcolor": "white"
          },
          "hoverlabel": {
           "align": "left"
          },
          "hovermode": "closest",
          "mapbox": {
           "style": "light"
          },
          "paper_bgcolor": "white",
          "plot_bgcolor": "#E5ECF6",
          "polar": {
           "angularaxis": {
            "gridcolor": "white",
            "linecolor": "white",
            "ticks": ""
           },
           "bgcolor": "#E5ECF6",
           "radialaxis": {
            "gridcolor": "white",
            "linecolor": "white",
            "ticks": ""
           }
          },
          "scene": {
           "xaxis": {
            "backgroundcolor": "#E5ECF6",
            "gridcolor": "white",
            "gridwidth": 2,
            "linecolor": "white",
            "showbackground": true,
            "ticks": "",
            "zerolinecolor": "white"
           },
           "yaxis": {
            "backgroundcolor": "#E5ECF6",
            "gridcolor": "white",
            "gridwidth": 2,
            "linecolor": "white",
            "showbackground": true,
            "ticks": "",
            "zerolinecolor": "white"
           },
           "zaxis": {
            "backgroundcolor": "#E5ECF6",
            "gridcolor": "white",
            "gridwidth": 2,
            "linecolor": "white",
            "showbackground": true,
            "ticks": "",
            "zerolinecolor": "white"
           }
          },
          "shapedefaults": {
           "line": {
            "color": "#2a3f5f"
           }
          },
          "ternary": {
           "aaxis": {
            "gridcolor": "white",
            "linecolor": "white",
            "ticks": ""
           },
           "baxis": {
            "gridcolor": "white",
            "linecolor": "white",
            "ticks": ""
           },
           "bgcolor": "#E5ECF6",
           "caxis": {
            "gridcolor": "white",
            "linecolor": "white",
            "ticks": ""
           }
          },
          "title": {
           "x": 0.05
          },
          "xaxis": {
           "automargin": true,
           "gridcolor": "white",
           "linecolor": "white",
           "ticks": "",
           "title": {
            "standoff": 15
           },
           "zerolinecolor": "white",
           "zerolinewidth": 2
          },
          "yaxis": {
           "automargin": true,
           "gridcolor": "white",
           "linecolor": "white",
           "ticks": "",
           "title": {
            "standoff": 15
           },
           "zerolinecolor": "white",
           "zerolinewidth": 2
          }
         }
        },
        "title": {
         "text": "Fiber levels of common cereals in 1993 and 2020"
        },
        "xaxis": {
         "title": {
          "text": "Common Cereals"
         }
        },
        "yaxis": {
         "title": {
          "text": "Fiber (grams/ounce)"
         }
        }
       }
      },
      "text/html": [
       "<div>                            <div id=\"5b2c8ec1-9a94-4244-85f2-a71a1cba2ee7\" class=\"plotly-graph-div\" style=\"height:525px; width:100%;\"></div>            <script type=\"text/javascript\">                require([\"plotly\"], function(Plotly) {                    window.PLOTLYENV=window.PLOTLYENV || {};                                    if (document.getElementById(\"5b2c8ec1-9a94-4244-85f2-a71a1cba2ee7\")) {                    Plotly.newPlot(                        \"5b2c8ec1-9a94-4244-85f2-a71a1cba2ee7\",                        [{\"marker\": {\"line\": {\"width\": 0}, \"size\": 12}, \"mode\": \"lines+markers\", \"name\": \"1993\", \"type\": \"scatter\", \"x\": [\"All-Bran\", \"Apple Jacks\", \"Basic 4\", \"Cocoa Puffs\", \"Corn Flakes\", \"Corn Pops\", \"Cracklin' Oat Bran\", \"Crispix\", \"Froot Loops\", \"Frosted Flakes\", \"Golden Grahams\", \"Kix\", \"Oatmeal Raisin Crisp\", \"Raisin Bran\", \"Raisin Nut Bran\", \"Rice Krispies\", \"Special K\", \"Total Whole Grain\", \"Trix\", \"Wheaties\"], \"y\": [9, 1, 2, 0, 1, 1, 4, 1, 1, 1, 0, 0, 1, 4, 2, 0, 1, 3, 0, 3]}, {\"marker\": {\"line\": {\"width\": 0}, \"size\": 12}, \"mode\": \"lines+markers\", \"name\": \"2020\", \"type\": \"scatter\", \"x\": [\"All-Bran\", \"Apple Jacks\", \"Basic 4\", \"Cocoa Puffs\", \"Corn Flakes\", \"Corn Pops\", \"Cracklin' Oat Bran\", \"Crispix\", \"Froot Loops\", \"Frosted Flakes\", \"Golden Grahams\", \"Kix\", \"Oatmeal Raisin Crisp\", \"Raisin Bran\", \"Raisin Nut Bran\", \"Rice Krispies\", \"Special K\", \"Total Whole Grain\", \"Trix\", \"Wheaties\"], \"y\": [5, 1, 3, 2, 1, 0, 4, 0, 1, 1, 1, 2, 3, 2, 3, 0, 1, 3, 1, 3]}],                        {\"showlegend\": true, \"template\": {\"data\": {\"bar\": [{\"error_x\": {\"color\": \"#2a3f5f\"}, \"error_y\": {\"color\": \"#2a3f5f\"}, \"marker\": {\"line\": {\"color\": \"#E5ECF6\", \"width\": 0.5}}, \"type\": \"bar\"}], \"barpolar\": [{\"marker\": {\"line\": {\"color\": \"#E5ECF6\", \"width\": 0.5}}, \"type\": \"barpolar\"}], \"carpet\": [{\"aaxis\": {\"endlinecolor\": \"#2a3f5f\", \"gridcolor\": \"white\", \"linecolor\": \"white\", \"minorgridcolor\": \"white\", \"startlinecolor\": \"#2a3f5f\"}, \"baxis\": {\"endlinecolor\": \"#2a3f5f\", \"gridcolor\": \"white\", \"linecolor\": \"white\", \"minorgridcolor\": \"white\", \"startlinecolor\": \"#2a3f5f\"}, \"type\": \"carpet\"}], \"choropleth\": [{\"colorbar\": {\"outlinewidth\": 0, \"ticks\": \"\"}, \"type\": \"choropleth\"}], \"contour\": [{\"colorbar\": {\"outlinewidth\": 0, \"ticks\": \"\"}, \"colorscale\": [[0.0, \"#0d0887\"], [0.1111111111111111, \"#46039f\"], [0.2222222222222222, \"#7201a8\"], [0.3333333333333333, \"#9c179e\"], [0.4444444444444444, \"#bd3786\"], [0.5555555555555556, \"#d8576b\"], [0.6666666666666666, \"#ed7953\"], [0.7777777777777778, \"#fb9f3a\"], [0.8888888888888888, \"#fdca26\"], [1.0, \"#f0f921\"]], \"type\": \"contour\"}], \"contourcarpet\": [{\"colorbar\": {\"outlinewidth\": 0, \"ticks\": \"\"}, \"type\": \"contourcarpet\"}], \"heatmap\": [{\"colorbar\": {\"outlinewidth\": 0, \"ticks\": \"\"}, \"colorscale\": [[0.0, \"#0d0887\"], [0.1111111111111111, \"#46039f\"], [0.2222222222222222, \"#7201a8\"], [0.3333333333333333, \"#9c179e\"], [0.4444444444444444, \"#bd3786\"], [0.5555555555555556, \"#d8576b\"], [0.6666666666666666, \"#ed7953\"], [0.7777777777777778, \"#fb9f3a\"], [0.8888888888888888, \"#fdca26\"], [1.0, \"#f0f921\"]], \"type\": \"heatmap\"}], \"heatmapgl\": [{\"colorbar\": {\"outlinewidth\": 0, \"ticks\": \"\"}, \"colorscale\": [[0.0, \"#0d0887\"], [0.1111111111111111, \"#46039f\"], [0.2222222222222222, \"#7201a8\"], [0.3333333333333333, \"#9c179e\"], [0.4444444444444444, \"#bd3786\"], [0.5555555555555556, \"#d8576b\"], [0.6666666666666666, \"#ed7953\"], [0.7777777777777778, \"#fb9f3a\"], [0.8888888888888888, \"#fdca26\"], [1.0, \"#f0f921\"]], \"type\": \"heatmapgl\"}], \"histogram\": [{\"marker\": {\"colorbar\": {\"outlinewidth\": 0, \"ticks\": \"\"}}, \"type\": \"histogram\"}], \"histogram2d\": [{\"colorbar\": {\"outlinewidth\": 0, \"ticks\": \"\"}, \"colorscale\": [[0.0, \"#0d0887\"], [0.1111111111111111, \"#46039f\"], [0.2222222222222222, \"#7201a8\"], [0.3333333333333333, \"#9c179e\"], [0.4444444444444444, \"#bd3786\"], [0.5555555555555556, \"#d8576b\"], [0.6666666666666666, \"#ed7953\"], [0.7777777777777778, \"#fb9f3a\"], [0.8888888888888888, \"#fdca26\"], [1.0, \"#f0f921\"]], \"type\": \"histogram2d\"}], \"histogram2dcontour\": [{\"colorbar\": {\"outlinewidth\": 0, \"ticks\": \"\"}, \"colorscale\": [[0.0, \"#0d0887\"], [0.1111111111111111, \"#46039f\"], [0.2222222222222222, \"#7201a8\"], [0.3333333333333333, \"#9c179e\"], [0.4444444444444444, \"#bd3786\"], [0.5555555555555556, \"#d8576b\"], [0.6666666666666666, \"#ed7953\"], [0.7777777777777778, \"#fb9f3a\"], [0.8888888888888888, \"#fdca26\"], [1.0, \"#f0f921\"]], \"type\": \"histogram2dcontour\"}], \"mesh3d\": [{\"colorbar\": {\"outlinewidth\": 0, \"ticks\": \"\"}, \"type\": \"mesh3d\"}], \"parcoords\": [{\"line\": {\"colorbar\": {\"outlinewidth\": 0, \"ticks\": \"\"}}, \"type\": \"parcoords\"}], \"pie\": [{\"automargin\": true, \"type\": \"pie\"}], \"scatter\": [{\"marker\": {\"colorbar\": {\"outlinewidth\": 0, \"ticks\": \"\"}}, \"type\": \"scatter\"}], \"scatter3d\": [{\"line\": {\"colorbar\": {\"outlinewidth\": 0, \"ticks\": \"\"}}, \"marker\": {\"colorbar\": {\"outlinewidth\": 0, \"ticks\": \"\"}}, \"type\": \"scatter3d\"}], \"scattercarpet\": [{\"marker\": {\"colorbar\": {\"outlinewidth\": 0, \"ticks\": \"\"}}, \"type\": \"scattercarpet\"}], \"scattergeo\": [{\"marker\": {\"colorbar\": {\"outlinewidth\": 0, \"ticks\": \"\"}}, \"type\": \"scattergeo\"}], \"scattergl\": [{\"marker\": {\"colorbar\": {\"outlinewidth\": 0, \"ticks\": \"\"}}, \"type\": \"scattergl\"}], \"scattermapbox\": [{\"marker\": {\"colorbar\": {\"outlinewidth\": 0, \"ticks\": \"\"}}, \"type\": \"scattermapbox\"}], \"scatterpolar\": [{\"marker\": {\"colorbar\": {\"outlinewidth\": 0, \"ticks\": \"\"}}, \"type\": \"scatterpolar\"}], \"scatterpolargl\": [{\"marker\": {\"colorbar\": {\"outlinewidth\": 0, \"ticks\": \"\"}}, \"type\": \"scatterpolargl\"}], \"scatterternary\": [{\"marker\": {\"colorbar\": {\"outlinewidth\": 0, \"ticks\": \"\"}}, \"type\": \"scatterternary\"}], \"surface\": [{\"colorbar\": {\"outlinewidth\": 0, \"ticks\": \"\"}, \"colorscale\": [[0.0, \"#0d0887\"], [0.1111111111111111, \"#46039f\"], [0.2222222222222222, \"#7201a8\"], [0.3333333333333333, \"#9c179e\"], [0.4444444444444444, \"#bd3786\"], [0.5555555555555556, \"#d8576b\"], [0.6666666666666666, \"#ed7953\"], [0.7777777777777778, \"#fb9f3a\"], [0.8888888888888888, \"#fdca26\"], [1.0, \"#f0f921\"]], \"type\": \"surface\"}], \"table\": [{\"cells\": {\"fill\": {\"color\": \"#EBF0F8\"}, \"line\": {\"color\": \"white\"}}, \"header\": {\"fill\": {\"color\": \"#C8D4E3\"}, \"line\": {\"color\": \"white\"}}, \"type\": \"table\"}]}, \"layout\": {\"annotationdefaults\": {\"arrowcolor\": \"#2a3f5f\", \"arrowhead\": 0, \"arrowwidth\": 1}, \"coloraxis\": {\"colorbar\": {\"outlinewidth\": 0, \"ticks\": \"\"}}, \"colorscale\": {\"diverging\": [[0, \"#8e0152\"], [0.1, \"#c51b7d\"], [0.2, \"#de77ae\"], [0.3, \"#f1b6da\"], [0.4, \"#fde0ef\"], [0.5, \"#f7f7f7\"], [0.6, \"#e6f5d0\"], [0.7, \"#b8e186\"], [0.8, \"#7fbc41\"], [0.9, \"#4d9221\"], [1, \"#276419\"]], \"sequential\": [[0.0, \"#0d0887\"], [0.1111111111111111, \"#46039f\"], [0.2222222222222222, \"#7201a8\"], [0.3333333333333333, \"#9c179e\"], [0.4444444444444444, \"#bd3786\"], [0.5555555555555556, \"#d8576b\"], [0.6666666666666666, \"#ed7953\"], [0.7777777777777778, \"#fb9f3a\"], [0.8888888888888888, \"#fdca26\"], [1.0, \"#f0f921\"]], \"sequentialminus\": [[0.0, \"#0d0887\"], [0.1111111111111111, \"#46039f\"], [0.2222222222222222, \"#7201a8\"], [0.3333333333333333, \"#9c179e\"], [0.4444444444444444, \"#bd3786\"], [0.5555555555555556, \"#d8576b\"], [0.6666666666666666, \"#ed7953\"], [0.7777777777777778, \"#fb9f3a\"], [0.8888888888888888, \"#fdca26\"], [1.0, \"#f0f921\"]]}, \"colorway\": [\"#636efa\", \"#EF553B\", \"#00cc96\", \"#ab63fa\", \"#FFA15A\", \"#19d3f3\", \"#FF6692\", \"#B6E880\", \"#FF97FF\", \"#FECB52\"], \"font\": {\"color\": \"#2a3f5f\"}, \"geo\": {\"bgcolor\": \"white\", \"lakecolor\": \"white\", \"landcolor\": \"#E5ECF6\", \"showlakes\": true, \"showland\": true, \"subunitcolor\": \"white\"}, \"hoverlabel\": {\"align\": \"left\"}, \"hovermode\": \"closest\", \"mapbox\": {\"style\": \"light\"}, \"paper_bgcolor\": \"white\", \"plot_bgcolor\": \"#E5ECF6\", \"polar\": {\"angularaxis\": {\"gridcolor\": \"white\", \"linecolor\": \"white\", \"ticks\": \"\"}, \"bgcolor\": \"#E5ECF6\", \"radialaxis\": {\"gridcolor\": \"white\", \"linecolor\": \"white\", \"ticks\": \"\"}}, \"scene\": {\"xaxis\": {\"backgroundcolor\": \"#E5ECF6\", \"gridcolor\": \"white\", \"gridwidth\": 2, \"linecolor\": \"white\", \"showbackground\": true, \"ticks\": \"\", \"zerolinecolor\": \"white\"}, \"yaxis\": {\"backgroundcolor\": \"#E5ECF6\", \"gridcolor\": \"white\", \"gridwidth\": 2, \"linecolor\": \"white\", \"showbackground\": true, \"ticks\": \"\", \"zerolinecolor\": \"white\"}, \"zaxis\": {\"backgroundcolor\": \"#E5ECF6\", \"gridcolor\": \"white\", \"gridwidth\": 2, \"linecolor\": \"white\", \"showbackground\": true, \"ticks\": \"\", \"zerolinecolor\": \"white\"}}, \"shapedefaults\": {\"line\": {\"color\": \"#2a3f5f\"}}, \"ternary\": {\"aaxis\": {\"gridcolor\": \"white\", \"linecolor\": \"white\", \"ticks\": \"\"}, \"baxis\": {\"gridcolor\": \"white\", \"linecolor\": \"white\", \"ticks\": \"\"}, \"bgcolor\": \"#E5ECF6\", \"caxis\": {\"gridcolor\": \"white\", \"linecolor\": \"white\", \"ticks\": \"\"}}, \"title\": {\"x\": 0.05}, \"xaxis\": {\"automargin\": true, \"gridcolor\": \"white\", \"linecolor\": \"white\", \"ticks\": \"\", \"title\": {\"standoff\": 15}, \"zerolinecolor\": \"white\", \"zerolinewidth\": 2}, \"yaxis\": {\"automargin\": true, \"gridcolor\": \"white\", \"linecolor\": \"white\", \"ticks\": \"\", \"title\": {\"standoff\": 15}, \"zerolinecolor\": \"white\", \"zerolinewidth\": 2}}}, \"title\": {\"text\": \"Fiber levels of common cereals in 1993 and 2020\"}, \"xaxis\": {\"title\": {\"text\": \"Common Cereals\"}}, \"yaxis\": {\"title\": {\"text\": \"Fiber (grams/ounce)\"}}},                        {\"responsive\": true}                    ).then(function(){\n",
       "                            \n",
       "var gd = document.getElementById('5b2c8ec1-9a94-4244-85f2-a71a1cba2ee7');\n",
       "var x = new MutationObserver(function (mutations, observer) {{\n",
       "        var display = window.getComputedStyle(gd).display;\n",
       "        if (!display || display === 'none') {{\n",
       "            console.log([gd, 'removed!']);\n",
       "            Plotly.purge(gd);\n",
       "            observer.disconnect();\n",
       "        }}\n",
       "}});\n",
       "\n",
       "// Listen for the removal of the full notebook cells\n",
       "var notebookContainer = gd.closest('#notebook-container');\n",
       "if (notebookContainer) {{\n",
       "    x.observe(notebookContainer, {childList: true});\n",
       "}}\n",
       "\n",
       "// Listen for the clearing of the current output cell\n",
       "var outputEl = gd.closest('.output');\n",
       "if (outputEl) {{\n",
       "    x.observe(outputEl, {childList: true});\n",
       "}}\n",
       "\n",
       "                        })                };                });            </script>        </div>"
      ]
     },
     "metadata": {},
     "output_type": "display_data"
    },
    {
     "data": {
      "application/vnd.plotly.v1+json": {
       "config": {
        "plotlyServerURL": "https://plotly.com"
       },
       "data": [
        {
         "boxpoints": "all",
         "name": "Fiber",
         "text": [
          "100% Bran",
          "100% Natural Bran",
          "All-Bran",
          "All-Bran with Extra Fiber",
          "Almond Delight",
          "Apple Cinnamon Cheerios",
          "Apple Jacks",
          "Basic 4",
          "Bran Chex",
          "Bran Flakes",
          "Cap'n'Crunch",
          "Cheerios",
          "Cinnamon Toast Crunch",
          "Clusters",
          "Cocoa Puffs",
          "Corn Chex",
          "Corn Flakes",
          "Corn Pops",
          "Count Chocula",
          "Cracklin' Oat Bran",
          "Cream of Wheat (Quick)",
          "Crispix",
          "Crispy Wheat & Raisins",
          "Double Chex",
          "Froot Loops",
          "Frosted Flakes",
          "Frosted Mini-Wheats",
          "Fruit & Fibre Dates",
          "Fruitful Bran",
          "Fruity Pebbles",
          "Golden Crisp",
          "Golden Grahams",
          "Grape Nuts Flakes",
          "Grape-Nuts",
          "Great Grains Pecan",
          "Honey Graham Ohs",
          "Honey Nut Cheerios",
          "Honey-comb",
          "Just Right Crunchy  Nuggets",
          "Just Right Fruit & Nut",
          "Kix",
          "Life",
          "Lucky Charms",
          "Maypo",
          "Dates & Almonds",
          "Peaches & Pecans",
          "Mueslix Crispy Blend",
          "Multi-Grain Cheerios",
          "Nut&Honey Crunch",
          "Nutri-Grain Almond-Raisin",
          "Nutri-grain Wheat",
          "Oatmeal Raisin Crisp",
          "Post Nat. Raisin Bran",
          "Product 19",
          "Puffed Rice",
          "Puffed Wheat",
          "Quaker Oat Squares",
          "Quaker Oatmeal",
          "Raisin Bran",
          "Raisin Nut Bran",
          "Raisin Squares",
          "Rice Chex",
          "Rice Krispies",
          "Shredded Wheat",
          "Shredded Wheat 'n'Bran",
          "Shredded Wheat spoon size",
          "Smacks",
          "Special K",
          "Strawberry Fruit Wheats",
          "Total Corn Flakes",
          "Total Raisin Bran",
          "Total Whole Grain",
          "Triples",
          "Trix",
          "Walnuts & Oats",
          "Wheat Chex",
          "Wheaties",
          "Wheaties Honey Gold",
          "All-Bran Complete Wheat Flakes Cereal",
          "Eggo",
          "Honey Smacks",
          "Krave Double Chocolate",
          "Peeps",
          "Smart Start",
          "Annie's Whole Grain Cereal",
          "Cascadian Farm Organic Raisin Bran",
          "Cheerios Multi Grain",
          "Chex Wheat Cereal",
          "Cookie Crisp",
          "Dunkaroos",
          "Fiber One",
          "Good Belly",
          "Larabar (Peanut Butter)",
          "Oatmeal Crisp",
          "Wonderworks (Peanut Butter)",
          "Ahold 100% Whole Grain",
          "Hannaford Frosted Flakes",
          "Martin's Food Lion",
          "Hannaford Tasteeos Cereal",
          "Ahold Vanilla Almond Cereal",
          "Kelloggs Special Fruit & Yogurt",
          "Kelloggs Special Original Cereal",
          "Quaker Life Cinnamon Multigrain",
          "Quaker Life Original Multigrain",
          "Quaker Life Ltd. Edition, Pumpkin Spice",
          "All-Bran",
          "Apple Jacks",
          "Basic 4",
          "Cocoa Puffs",
          "Corn Flakes",
          "Corn Pops",
          "Cracklin' Oat Bran",
          "Crispix",
          "Froot Loops",
          "Frosted Flakes",
          "Golden Grahams",
          "Kix",
          "Oatmeal Raisin Crisp",
          "Raisin Bran",
          "Raisin Nut Bran",
          "Rice Krispies",
          "Special K",
          "Total Whole Grain",
          "Trix",
          "Wheaties"
         ],
         "type": "box",
         "x": [
          1993,
          1993,
          1993,
          1993,
          1993,
          1993,
          1993,
          1993,
          1993,
          1993,
          1993,
          1993,
          1993,
          1993,
          1993,
          1993,
          1993,
          1993,
          1993,
          1993,
          2020,
          2020,
          2020,
          2020,
          2020,
          2020,
          2020,
          2020,
          2020,
          2020,
          2020,
          2020,
          2020,
          2020,
          2020,
          2020,
          2020,
          2020,
          2020,
          2020
         ],
         "y": [
          9,
          1,
          2,
          0,
          1,
          1,
          4,
          1,
          1,
          1,
          0,
          0,
          1,
          4,
          2,
          0,
          1,
          3,
          0,
          3,
          5,
          1,
          3,
          2,
          1,
          0,
          4,
          0,
          1,
          1,
          1,
          2,
          3,
          2,
          3,
          0,
          1,
          3,
          1,
          3
         ]
        }
       ],
       "layout": {
        "boxmode": "group",
        "template": {
         "data": {
          "bar": [
           {
            "error_x": {
             "color": "#2a3f5f"
            },
            "error_y": {
             "color": "#2a3f5f"
            },
            "marker": {
             "line": {
              "color": "#E5ECF6",
              "width": 0.5
             }
            },
            "type": "bar"
           }
          ],
          "barpolar": [
           {
            "marker": {
             "line": {
              "color": "#E5ECF6",
              "width": 0.5
             }
            },
            "type": "barpolar"
           }
          ],
          "carpet": [
           {
            "aaxis": {
             "endlinecolor": "#2a3f5f",
             "gridcolor": "white",
             "linecolor": "white",
             "minorgridcolor": "white",
             "startlinecolor": "#2a3f5f"
            },
            "baxis": {
             "endlinecolor": "#2a3f5f",
             "gridcolor": "white",
             "linecolor": "white",
             "minorgridcolor": "white",
             "startlinecolor": "#2a3f5f"
            },
            "type": "carpet"
           }
          ],
          "choropleth": [
           {
            "colorbar": {
             "outlinewidth": 0,
             "ticks": ""
            },
            "type": "choropleth"
           }
          ],
          "contour": [
           {
            "colorbar": {
             "outlinewidth": 0,
             "ticks": ""
            },
            "colorscale": [
             [
              0,
              "#0d0887"
             ],
             [
              0.1111111111111111,
              "#46039f"
             ],
             [
              0.2222222222222222,
              "#7201a8"
             ],
             [
              0.3333333333333333,
              "#9c179e"
             ],
             [
              0.4444444444444444,
              "#bd3786"
             ],
             [
              0.5555555555555556,
              "#d8576b"
             ],
             [
              0.6666666666666666,
              "#ed7953"
             ],
             [
              0.7777777777777778,
              "#fb9f3a"
             ],
             [
              0.8888888888888888,
              "#fdca26"
             ],
             [
              1,
              "#f0f921"
             ]
            ],
            "type": "contour"
           }
          ],
          "contourcarpet": [
           {
            "colorbar": {
             "outlinewidth": 0,
             "ticks": ""
            },
            "type": "contourcarpet"
           }
          ],
          "heatmap": [
           {
            "colorbar": {
             "outlinewidth": 0,
             "ticks": ""
            },
            "colorscale": [
             [
              0,
              "#0d0887"
             ],
             [
              0.1111111111111111,
              "#46039f"
             ],
             [
              0.2222222222222222,
              "#7201a8"
             ],
             [
              0.3333333333333333,
              "#9c179e"
             ],
             [
              0.4444444444444444,
              "#bd3786"
             ],
             [
              0.5555555555555556,
              "#d8576b"
             ],
             [
              0.6666666666666666,
              "#ed7953"
             ],
             [
              0.7777777777777778,
              "#fb9f3a"
             ],
             [
              0.8888888888888888,
              "#fdca26"
             ],
             [
              1,
              "#f0f921"
             ]
            ],
            "type": "heatmap"
           }
          ],
          "heatmapgl": [
           {
            "colorbar": {
             "outlinewidth": 0,
             "ticks": ""
            },
            "colorscale": [
             [
              0,
              "#0d0887"
             ],
             [
              0.1111111111111111,
              "#46039f"
             ],
             [
              0.2222222222222222,
              "#7201a8"
             ],
             [
              0.3333333333333333,
              "#9c179e"
             ],
             [
              0.4444444444444444,
              "#bd3786"
             ],
             [
              0.5555555555555556,
              "#d8576b"
             ],
             [
              0.6666666666666666,
              "#ed7953"
             ],
             [
              0.7777777777777778,
              "#fb9f3a"
             ],
             [
              0.8888888888888888,
              "#fdca26"
             ],
             [
              1,
              "#f0f921"
             ]
            ],
            "type": "heatmapgl"
           }
          ],
          "histogram": [
           {
            "marker": {
             "colorbar": {
              "outlinewidth": 0,
              "ticks": ""
             }
            },
            "type": "histogram"
           }
          ],
          "histogram2d": [
           {
            "colorbar": {
             "outlinewidth": 0,
             "ticks": ""
            },
            "colorscale": [
             [
              0,
              "#0d0887"
             ],
             [
              0.1111111111111111,
              "#46039f"
             ],
             [
              0.2222222222222222,
              "#7201a8"
             ],
             [
              0.3333333333333333,
              "#9c179e"
             ],
             [
              0.4444444444444444,
              "#bd3786"
             ],
             [
              0.5555555555555556,
              "#d8576b"
             ],
             [
              0.6666666666666666,
              "#ed7953"
             ],
             [
              0.7777777777777778,
              "#fb9f3a"
             ],
             [
              0.8888888888888888,
              "#fdca26"
             ],
             [
              1,
              "#f0f921"
             ]
            ],
            "type": "histogram2d"
           }
          ],
          "histogram2dcontour": [
           {
            "colorbar": {
             "outlinewidth": 0,
             "ticks": ""
            },
            "colorscale": [
             [
              0,
              "#0d0887"
             ],
             [
              0.1111111111111111,
              "#46039f"
             ],
             [
              0.2222222222222222,
              "#7201a8"
             ],
             [
              0.3333333333333333,
              "#9c179e"
             ],
             [
              0.4444444444444444,
              "#bd3786"
             ],
             [
              0.5555555555555556,
              "#d8576b"
             ],
             [
              0.6666666666666666,
              "#ed7953"
             ],
             [
              0.7777777777777778,
              "#fb9f3a"
             ],
             [
              0.8888888888888888,
              "#fdca26"
             ],
             [
              1,
              "#f0f921"
             ]
            ],
            "type": "histogram2dcontour"
           }
          ],
          "mesh3d": [
           {
            "colorbar": {
             "outlinewidth": 0,
             "ticks": ""
            },
            "type": "mesh3d"
           }
          ],
          "parcoords": [
           {
            "line": {
             "colorbar": {
              "outlinewidth": 0,
              "ticks": ""
             }
            },
            "type": "parcoords"
           }
          ],
          "pie": [
           {
            "automargin": true,
            "type": "pie"
           }
          ],
          "scatter": [
           {
            "marker": {
             "colorbar": {
              "outlinewidth": 0,
              "ticks": ""
             }
            },
            "type": "scatter"
           }
          ],
          "scatter3d": [
           {
            "line": {
             "colorbar": {
              "outlinewidth": 0,
              "ticks": ""
             }
            },
            "marker": {
             "colorbar": {
              "outlinewidth": 0,
              "ticks": ""
             }
            },
            "type": "scatter3d"
           }
          ],
          "scattercarpet": [
           {
            "marker": {
             "colorbar": {
              "outlinewidth": 0,
              "ticks": ""
             }
            },
            "type": "scattercarpet"
           }
          ],
          "scattergeo": [
           {
            "marker": {
             "colorbar": {
              "outlinewidth": 0,
              "ticks": ""
             }
            },
            "type": "scattergeo"
           }
          ],
          "scattergl": [
           {
            "marker": {
             "colorbar": {
              "outlinewidth": 0,
              "ticks": ""
             }
            },
            "type": "scattergl"
           }
          ],
          "scattermapbox": [
           {
            "marker": {
             "colorbar": {
              "outlinewidth": 0,
              "ticks": ""
             }
            },
            "type": "scattermapbox"
           }
          ],
          "scatterpolar": [
           {
            "marker": {
             "colorbar": {
              "outlinewidth": 0,
              "ticks": ""
             }
            },
            "type": "scatterpolar"
           }
          ],
          "scatterpolargl": [
           {
            "marker": {
             "colorbar": {
              "outlinewidth": 0,
              "ticks": ""
             }
            },
            "type": "scatterpolargl"
           }
          ],
          "scatterternary": [
           {
            "marker": {
             "colorbar": {
              "outlinewidth": 0,
              "ticks": ""
             }
            },
            "type": "scatterternary"
           }
          ],
          "surface": [
           {
            "colorbar": {
             "outlinewidth": 0,
             "ticks": ""
            },
            "colorscale": [
             [
              0,
              "#0d0887"
             ],
             [
              0.1111111111111111,
              "#46039f"
             ],
             [
              0.2222222222222222,
              "#7201a8"
             ],
             [
              0.3333333333333333,
              "#9c179e"
             ],
             [
              0.4444444444444444,
              "#bd3786"
             ],
             [
              0.5555555555555556,
              "#d8576b"
             ],
             [
              0.6666666666666666,
              "#ed7953"
             ],
             [
              0.7777777777777778,
              "#fb9f3a"
             ],
             [
              0.8888888888888888,
              "#fdca26"
             ],
             [
              1,
              "#f0f921"
             ]
            ],
            "type": "surface"
           }
          ],
          "table": [
           {
            "cells": {
             "fill": {
              "color": "#EBF0F8"
             },
             "line": {
              "color": "white"
             }
            },
            "header": {
             "fill": {
              "color": "#C8D4E3"
             },
             "line": {
              "color": "white"
             }
            },
            "type": "table"
           }
          ]
         },
         "layout": {
          "annotationdefaults": {
           "arrowcolor": "#2a3f5f",
           "arrowhead": 0,
           "arrowwidth": 1
          },
          "coloraxis": {
           "colorbar": {
            "outlinewidth": 0,
            "ticks": ""
           }
          },
          "colorscale": {
           "diverging": [
            [
             0,
             "#8e0152"
            ],
            [
             0.1,
             "#c51b7d"
            ],
            [
             0.2,
             "#de77ae"
            ],
            [
             0.3,
             "#f1b6da"
            ],
            [
             0.4,
             "#fde0ef"
            ],
            [
             0.5,
             "#f7f7f7"
            ],
            [
             0.6,
             "#e6f5d0"
            ],
            [
             0.7,
             "#b8e186"
            ],
            [
             0.8,
             "#7fbc41"
            ],
            [
             0.9,
             "#4d9221"
            ],
            [
             1,
             "#276419"
            ]
           ],
           "sequential": [
            [
             0,
             "#0d0887"
            ],
            [
             0.1111111111111111,
             "#46039f"
            ],
            [
             0.2222222222222222,
             "#7201a8"
            ],
            [
             0.3333333333333333,
             "#9c179e"
            ],
            [
             0.4444444444444444,
             "#bd3786"
            ],
            [
             0.5555555555555556,
             "#d8576b"
            ],
            [
             0.6666666666666666,
             "#ed7953"
            ],
            [
             0.7777777777777778,
             "#fb9f3a"
            ],
            [
             0.8888888888888888,
             "#fdca26"
            ],
            [
             1,
             "#f0f921"
            ]
           ],
           "sequentialminus": [
            [
             0,
             "#0d0887"
            ],
            [
             0.1111111111111111,
             "#46039f"
            ],
            [
             0.2222222222222222,
             "#7201a8"
            ],
            [
             0.3333333333333333,
             "#9c179e"
            ],
            [
             0.4444444444444444,
             "#bd3786"
            ],
            [
             0.5555555555555556,
             "#d8576b"
            ],
            [
             0.6666666666666666,
             "#ed7953"
            ],
            [
             0.7777777777777778,
             "#fb9f3a"
            ],
            [
             0.8888888888888888,
             "#fdca26"
            ],
            [
             1,
             "#f0f921"
            ]
           ]
          },
          "colorway": [
           "#636efa",
           "#EF553B",
           "#00cc96",
           "#ab63fa",
           "#FFA15A",
           "#19d3f3",
           "#FF6692",
           "#B6E880",
           "#FF97FF",
           "#FECB52"
          ],
          "font": {
           "color": "#2a3f5f"
          },
          "geo": {
           "bgcolor": "white",
           "lakecolor": "white",
           "landcolor": "#E5ECF6",
           "showlakes": true,
           "showland": true,
           "subunitcolor": "white"
          },
          "hoverlabel": {
           "align": "left"
          },
          "hovermode": "closest",
          "mapbox": {
           "style": "light"
          },
          "paper_bgcolor": "white",
          "plot_bgcolor": "#E5ECF6",
          "polar": {
           "angularaxis": {
            "gridcolor": "white",
            "linecolor": "white",
            "ticks": ""
           },
           "bgcolor": "#E5ECF6",
           "radialaxis": {
            "gridcolor": "white",
            "linecolor": "white",
            "ticks": ""
           }
          },
          "scene": {
           "xaxis": {
            "backgroundcolor": "#E5ECF6",
            "gridcolor": "white",
            "gridwidth": 2,
            "linecolor": "white",
            "showbackground": true,
            "ticks": "",
            "zerolinecolor": "white"
           },
           "yaxis": {
            "backgroundcolor": "#E5ECF6",
            "gridcolor": "white",
            "gridwidth": 2,
            "linecolor": "white",
            "showbackground": true,
            "ticks": "",
            "zerolinecolor": "white"
           },
           "zaxis": {
            "backgroundcolor": "#E5ECF6",
            "gridcolor": "white",
            "gridwidth": 2,
            "linecolor": "white",
            "showbackground": true,
            "ticks": "",
            "zerolinecolor": "white"
           }
          },
          "shapedefaults": {
           "line": {
            "color": "#2a3f5f"
           }
          },
          "ternary": {
           "aaxis": {
            "gridcolor": "white",
            "linecolor": "white",
            "ticks": ""
           },
           "baxis": {
            "gridcolor": "white",
            "linecolor": "white",
            "ticks": ""
           },
           "bgcolor": "#E5ECF6",
           "caxis": {
            "gridcolor": "white",
            "linecolor": "white",
            "ticks": ""
           }
          },
          "title": {
           "x": 0.05
          },
          "xaxis": {
           "automargin": true,
           "gridcolor": "white",
           "linecolor": "white",
           "ticks": "",
           "title": {
            "standoff": 15
           },
           "zerolinecolor": "white",
           "zerolinewidth": 2
          },
          "yaxis": {
           "automargin": true,
           "gridcolor": "white",
           "linecolor": "white",
           "ticks": "",
           "title": {
            "standoff": 15
           },
           "zerolinecolor": "white",
           "zerolinewidth": 2
          }
         }
        },
        "title": {
         "text": "Fiber level distribution change in common products between 1993 and 2020"
        },
        "xaxis": {
         "title": {
          "text": "Years"
         }
        },
        "yaxis": {
         "title": {
          "text": "Fiber (grams/ounce)"
         }
        }
       }
      },
      "text/html": [
       "<div>                            <div id=\"45909287-59f0-42b9-9d56-bc24af9c08d2\" class=\"plotly-graph-div\" style=\"height:525px; width:100%;\"></div>            <script type=\"text/javascript\">                require([\"plotly\"], function(Plotly) {                    window.PLOTLYENV=window.PLOTLYENV || {};                                    if (document.getElementById(\"45909287-59f0-42b9-9d56-bc24af9c08d2\")) {                    Plotly.newPlot(                        \"45909287-59f0-42b9-9d56-bc24af9c08d2\",                        [{\"boxpoints\": \"all\", \"name\": \"Fiber\", \"text\": [\"100% Bran\", \"100% Natural Bran\", \"All-Bran\", \"All-Bran with Extra Fiber\", \"Almond Delight\", \"Apple Cinnamon Cheerios\", \"Apple Jacks\", \"Basic 4\", \"Bran Chex\", \"Bran Flakes\", \"Cap'n'Crunch\", \"Cheerios\", \"Cinnamon Toast Crunch\", \"Clusters\", \"Cocoa Puffs\", \"Corn Chex\", \"Corn Flakes\", \"Corn Pops\", \"Count Chocula\", \"Cracklin' Oat Bran\", \"Cream of Wheat (Quick)\", \"Crispix\", \"Crispy Wheat & Raisins\", \"Double Chex\", \"Froot Loops\", \"Frosted Flakes\", \"Frosted Mini-Wheats\", \"Fruit & Fibre Dates\", \"Fruitful Bran\", \"Fruity Pebbles\", \"Golden Crisp\", \"Golden Grahams\", \"Grape Nuts Flakes\", \"Grape-Nuts\", \"Great Grains Pecan\", \"Honey Graham Ohs\", \"Honey Nut Cheerios\", \"Honey-comb\", \"Just Right Crunchy  Nuggets\", \"Just Right Fruit & Nut\", \"Kix\", \"Life\", \"Lucky Charms\", \"Maypo\", \"Dates & Almonds\", \"Peaches & Pecans\", \"Mueslix Crispy Blend\", \"Multi-Grain Cheerios\", \"Nut&Honey Crunch\", \"Nutri-Grain Almond-Raisin\", \"Nutri-grain Wheat\", \"Oatmeal Raisin Crisp\", \"Post Nat. Raisin Bran\", \"Product 19\", \"Puffed Rice\", \"Puffed Wheat\", \"Quaker Oat Squares\", \"Quaker Oatmeal\", \"Raisin Bran\", \"Raisin Nut Bran\", \"Raisin Squares\", \"Rice Chex\", \"Rice Krispies\", \"Shredded Wheat\", \"Shredded Wheat 'n'Bran\", \"Shredded Wheat spoon size\", \"Smacks\", \"Special K\", \"Strawberry Fruit Wheats\", \"Total Corn Flakes\", \"Total Raisin Bran\", \"Total Whole Grain\", \"Triples\", \"Trix\", \"Walnuts & Oats\", \"Wheat Chex\", \"Wheaties\", \"Wheaties Honey Gold\", \"All-Bran Complete Wheat Flakes Cereal\", \"Eggo\", \"Honey Smacks\", \"Krave Double Chocolate\", \"Peeps\", \"Smart Start\", \"Annie's Whole Grain Cereal\", \"Cascadian Farm Organic Raisin Bran\", \"Cheerios Multi Grain\", \"Chex Wheat Cereal\", \"Cookie Crisp\", \"Dunkaroos\", \"Fiber One\", \"Good Belly\", \"Larabar (Peanut Butter)\", \"Oatmeal Crisp\", \"Wonderworks (Peanut Butter)\", \"Ahold 100% Whole Grain\", \"Hannaford Frosted Flakes\", \"Martin's Food Lion\", \"Hannaford Tasteeos Cereal\", \"Ahold Vanilla Almond Cereal\", \"Kelloggs Special Fruit & Yogurt\", \"Kelloggs Special Original Cereal\", \"Quaker Life Cinnamon Multigrain\", \"Quaker Life Original Multigrain\", \"Quaker Life Ltd. Edition, Pumpkin Spice\", \"All-Bran\", \"Apple Jacks\", \"Basic 4\", \"Cocoa Puffs\", \"Corn Flakes\", \"Corn Pops\", \"Cracklin' Oat Bran\", \"Crispix\", \"Froot Loops\", \"Frosted Flakes\", \"Golden Grahams\", \"Kix\", \"Oatmeal Raisin Crisp\", \"Raisin Bran\", \"Raisin Nut Bran\", \"Rice Krispies\", \"Special K\", \"Total Whole Grain\", \"Trix\", \"Wheaties\"], \"type\": \"box\", \"x\": [1993, 1993, 1993, 1993, 1993, 1993, 1993, 1993, 1993, 1993, 1993, 1993, 1993, 1993, 1993, 1993, 1993, 1993, 1993, 1993, 2020, 2020, 2020, 2020, 2020, 2020, 2020, 2020, 2020, 2020, 2020, 2020, 2020, 2020, 2020, 2020, 2020, 2020, 2020, 2020], \"y\": [9, 1, 2, 0, 1, 1, 4, 1, 1, 1, 0, 0, 1, 4, 2, 0, 1, 3, 0, 3, 5, 1, 3, 2, 1, 0, 4, 0, 1, 1, 1, 2, 3, 2, 3, 0, 1, 3, 1, 3]}],                        {\"boxmode\": \"group\", \"template\": {\"data\": {\"bar\": [{\"error_x\": {\"color\": \"#2a3f5f\"}, \"error_y\": {\"color\": \"#2a3f5f\"}, \"marker\": {\"line\": {\"color\": \"#E5ECF6\", \"width\": 0.5}}, \"type\": \"bar\"}], \"barpolar\": [{\"marker\": {\"line\": {\"color\": \"#E5ECF6\", \"width\": 0.5}}, \"type\": \"barpolar\"}], \"carpet\": [{\"aaxis\": {\"endlinecolor\": \"#2a3f5f\", \"gridcolor\": \"white\", \"linecolor\": \"white\", \"minorgridcolor\": \"white\", \"startlinecolor\": \"#2a3f5f\"}, \"baxis\": {\"endlinecolor\": \"#2a3f5f\", \"gridcolor\": \"white\", \"linecolor\": \"white\", \"minorgridcolor\": \"white\", \"startlinecolor\": \"#2a3f5f\"}, \"type\": \"carpet\"}], \"choropleth\": [{\"colorbar\": {\"outlinewidth\": 0, \"ticks\": \"\"}, \"type\": \"choropleth\"}], \"contour\": [{\"colorbar\": {\"outlinewidth\": 0, \"ticks\": \"\"}, \"colorscale\": [[0.0, \"#0d0887\"], [0.1111111111111111, \"#46039f\"], [0.2222222222222222, \"#7201a8\"], [0.3333333333333333, \"#9c179e\"], [0.4444444444444444, \"#bd3786\"], [0.5555555555555556, \"#d8576b\"], [0.6666666666666666, \"#ed7953\"], [0.7777777777777778, \"#fb9f3a\"], [0.8888888888888888, \"#fdca26\"], [1.0, \"#f0f921\"]], \"type\": \"contour\"}], \"contourcarpet\": [{\"colorbar\": {\"outlinewidth\": 0, \"ticks\": \"\"}, \"type\": \"contourcarpet\"}], \"heatmap\": [{\"colorbar\": {\"outlinewidth\": 0, \"ticks\": \"\"}, \"colorscale\": [[0.0, \"#0d0887\"], [0.1111111111111111, \"#46039f\"], [0.2222222222222222, \"#7201a8\"], [0.3333333333333333, \"#9c179e\"], [0.4444444444444444, \"#bd3786\"], [0.5555555555555556, \"#d8576b\"], [0.6666666666666666, \"#ed7953\"], [0.7777777777777778, \"#fb9f3a\"], [0.8888888888888888, \"#fdca26\"], [1.0, \"#f0f921\"]], \"type\": \"heatmap\"}], \"heatmapgl\": [{\"colorbar\": {\"outlinewidth\": 0, \"ticks\": \"\"}, \"colorscale\": [[0.0, \"#0d0887\"], [0.1111111111111111, \"#46039f\"], [0.2222222222222222, \"#7201a8\"], [0.3333333333333333, \"#9c179e\"], [0.4444444444444444, \"#bd3786\"], [0.5555555555555556, \"#d8576b\"], [0.6666666666666666, \"#ed7953\"], [0.7777777777777778, \"#fb9f3a\"], [0.8888888888888888, \"#fdca26\"], [1.0, \"#f0f921\"]], \"type\": \"heatmapgl\"}], \"histogram\": [{\"marker\": {\"colorbar\": {\"outlinewidth\": 0, \"ticks\": \"\"}}, \"type\": \"histogram\"}], \"histogram2d\": [{\"colorbar\": {\"outlinewidth\": 0, \"ticks\": \"\"}, \"colorscale\": [[0.0, \"#0d0887\"], [0.1111111111111111, \"#46039f\"], [0.2222222222222222, \"#7201a8\"], [0.3333333333333333, \"#9c179e\"], [0.4444444444444444, \"#bd3786\"], [0.5555555555555556, \"#d8576b\"], [0.6666666666666666, \"#ed7953\"], [0.7777777777777778, \"#fb9f3a\"], [0.8888888888888888, \"#fdca26\"], [1.0, \"#f0f921\"]], \"type\": \"histogram2d\"}], \"histogram2dcontour\": [{\"colorbar\": {\"outlinewidth\": 0, \"ticks\": \"\"}, \"colorscale\": [[0.0, \"#0d0887\"], [0.1111111111111111, \"#46039f\"], [0.2222222222222222, \"#7201a8\"], [0.3333333333333333, \"#9c179e\"], [0.4444444444444444, \"#bd3786\"], [0.5555555555555556, \"#d8576b\"], [0.6666666666666666, \"#ed7953\"], [0.7777777777777778, \"#fb9f3a\"], [0.8888888888888888, \"#fdca26\"], [1.0, \"#f0f921\"]], \"type\": \"histogram2dcontour\"}], \"mesh3d\": [{\"colorbar\": {\"outlinewidth\": 0, \"ticks\": \"\"}, \"type\": \"mesh3d\"}], \"parcoords\": [{\"line\": {\"colorbar\": {\"outlinewidth\": 0, \"ticks\": \"\"}}, \"type\": \"parcoords\"}], \"pie\": [{\"automargin\": true, \"type\": \"pie\"}], \"scatter\": [{\"marker\": {\"colorbar\": {\"outlinewidth\": 0, \"ticks\": \"\"}}, \"type\": \"scatter\"}], \"scatter3d\": [{\"line\": {\"colorbar\": {\"outlinewidth\": 0, \"ticks\": \"\"}}, \"marker\": {\"colorbar\": {\"outlinewidth\": 0, \"ticks\": \"\"}}, \"type\": \"scatter3d\"}], \"scattercarpet\": [{\"marker\": {\"colorbar\": {\"outlinewidth\": 0, \"ticks\": \"\"}}, \"type\": \"scattercarpet\"}], \"scattergeo\": [{\"marker\": {\"colorbar\": {\"outlinewidth\": 0, \"ticks\": \"\"}}, \"type\": \"scattergeo\"}], \"scattergl\": [{\"marker\": {\"colorbar\": {\"outlinewidth\": 0, \"ticks\": \"\"}}, \"type\": \"scattergl\"}], \"scattermapbox\": [{\"marker\": {\"colorbar\": {\"outlinewidth\": 0, \"ticks\": \"\"}}, \"type\": \"scattermapbox\"}], \"scatterpolar\": [{\"marker\": {\"colorbar\": {\"outlinewidth\": 0, \"ticks\": \"\"}}, \"type\": \"scatterpolar\"}], \"scatterpolargl\": [{\"marker\": {\"colorbar\": {\"outlinewidth\": 0, \"ticks\": \"\"}}, \"type\": \"scatterpolargl\"}], \"scatterternary\": [{\"marker\": {\"colorbar\": {\"outlinewidth\": 0, \"ticks\": \"\"}}, \"type\": \"scatterternary\"}], \"surface\": [{\"colorbar\": {\"outlinewidth\": 0, \"ticks\": \"\"}, \"colorscale\": [[0.0, \"#0d0887\"], [0.1111111111111111, \"#46039f\"], [0.2222222222222222, \"#7201a8\"], [0.3333333333333333, \"#9c179e\"], [0.4444444444444444, \"#bd3786\"], [0.5555555555555556, \"#d8576b\"], [0.6666666666666666, \"#ed7953\"], [0.7777777777777778, \"#fb9f3a\"], [0.8888888888888888, \"#fdca26\"], [1.0, \"#f0f921\"]], \"type\": \"surface\"}], \"table\": [{\"cells\": {\"fill\": {\"color\": \"#EBF0F8\"}, \"line\": {\"color\": \"white\"}}, \"header\": {\"fill\": {\"color\": \"#C8D4E3\"}, \"line\": {\"color\": \"white\"}}, \"type\": \"table\"}]}, \"layout\": {\"annotationdefaults\": {\"arrowcolor\": \"#2a3f5f\", \"arrowhead\": 0, \"arrowwidth\": 1}, \"coloraxis\": {\"colorbar\": {\"outlinewidth\": 0, \"ticks\": \"\"}}, \"colorscale\": {\"diverging\": [[0, \"#8e0152\"], [0.1, \"#c51b7d\"], [0.2, \"#de77ae\"], [0.3, \"#f1b6da\"], [0.4, \"#fde0ef\"], [0.5, \"#f7f7f7\"], [0.6, \"#e6f5d0\"], [0.7, \"#b8e186\"], [0.8, \"#7fbc41\"], [0.9, \"#4d9221\"], [1, \"#276419\"]], \"sequential\": [[0.0, \"#0d0887\"], [0.1111111111111111, \"#46039f\"], [0.2222222222222222, \"#7201a8\"], [0.3333333333333333, \"#9c179e\"], [0.4444444444444444, \"#bd3786\"], [0.5555555555555556, \"#d8576b\"], [0.6666666666666666, \"#ed7953\"], [0.7777777777777778, \"#fb9f3a\"], [0.8888888888888888, \"#fdca26\"], [1.0, \"#f0f921\"]], \"sequentialminus\": [[0.0, \"#0d0887\"], [0.1111111111111111, \"#46039f\"], [0.2222222222222222, \"#7201a8\"], [0.3333333333333333, \"#9c179e\"], [0.4444444444444444, \"#bd3786\"], [0.5555555555555556, \"#d8576b\"], [0.6666666666666666, \"#ed7953\"], [0.7777777777777778, \"#fb9f3a\"], [0.8888888888888888, \"#fdca26\"], [1.0, \"#f0f921\"]]}, \"colorway\": [\"#636efa\", \"#EF553B\", \"#00cc96\", \"#ab63fa\", \"#FFA15A\", \"#19d3f3\", \"#FF6692\", \"#B6E880\", \"#FF97FF\", \"#FECB52\"], \"font\": {\"color\": \"#2a3f5f\"}, \"geo\": {\"bgcolor\": \"white\", \"lakecolor\": \"white\", \"landcolor\": \"#E5ECF6\", \"showlakes\": true, \"showland\": true, \"subunitcolor\": \"white\"}, \"hoverlabel\": {\"align\": \"left\"}, \"hovermode\": \"closest\", \"mapbox\": {\"style\": \"light\"}, \"paper_bgcolor\": \"white\", \"plot_bgcolor\": \"#E5ECF6\", \"polar\": {\"angularaxis\": {\"gridcolor\": \"white\", \"linecolor\": \"white\", \"ticks\": \"\"}, \"bgcolor\": \"#E5ECF6\", \"radialaxis\": {\"gridcolor\": \"white\", \"linecolor\": \"white\", \"ticks\": \"\"}}, \"scene\": {\"xaxis\": {\"backgroundcolor\": \"#E5ECF6\", \"gridcolor\": \"white\", \"gridwidth\": 2, \"linecolor\": \"white\", \"showbackground\": true, \"ticks\": \"\", \"zerolinecolor\": \"white\"}, \"yaxis\": {\"backgroundcolor\": \"#E5ECF6\", \"gridcolor\": \"white\", \"gridwidth\": 2, \"linecolor\": \"white\", \"showbackground\": true, \"ticks\": \"\", \"zerolinecolor\": \"white\"}, \"zaxis\": {\"backgroundcolor\": \"#E5ECF6\", \"gridcolor\": \"white\", \"gridwidth\": 2, \"linecolor\": \"white\", \"showbackground\": true, \"ticks\": \"\", \"zerolinecolor\": \"white\"}}, \"shapedefaults\": {\"line\": {\"color\": \"#2a3f5f\"}}, \"ternary\": {\"aaxis\": {\"gridcolor\": \"white\", \"linecolor\": \"white\", \"ticks\": \"\"}, \"baxis\": {\"gridcolor\": \"white\", \"linecolor\": \"white\", \"ticks\": \"\"}, \"bgcolor\": \"#E5ECF6\", \"caxis\": {\"gridcolor\": \"white\", \"linecolor\": \"white\", \"ticks\": \"\"}}, \"title\": {\"x\": 0.05}, \"xaxis\": {\"automargin\": true, \"gridcolor\": \"white\", \"linecolor\": \"white\", \"ticks\": \"\", \"title\": {\"standoff\": 15}, \"zerolinecolor\": \"white\", \"zerolinewidth\": 2}, \"yaxis\": {\"automargin\": true, \"gridcolor\": \"white\", \"linecolor\": \"white\", \"ticks\": \"\", \"title\": {\"standoff\": 15}, \"zerolinecolor\": \"white\", \"zerolinewidth\": 2}}}, \"title\": {\"text\": \"Fiber level distribution change in common products between 1993 and 2020\"}, \"xaxis\": {\"title\": {\"text\": \"Years\"}}, \"yaxis\": {\"title\": {\"text\": \"Fiber (grams/ounce)\"}}},                        {\"responsive\": true}                    ).then(function(){\n",
       "                            \n",
       "var gd = document.getElementById('45909287-59f0-42b9-9d56-bc24af9c08d2');\n",
       "var x = new MutationObserver(function (mutations, observer) {{\n",
       "        var display = window.getComputedStyle(gd).display;\n",
       "        if (!display || display === 'none') {{\n",
       "            console.log([gd, 'removed!']);\n",
       "            Plotly.purge(gd);\n",
       "            observer.disconnect();\n",
       "        }}\n",
       "}});\n",
       "\n",
       "// Listen for the removal of the full notebook cells\n",
       "var notebookContainer = gd.closest('#notebook-container');\n",
       "if (notebookContainer) {{\n",
       "    x.observe(notebookContainer, {childList: true});\n",
       "}}\n",
       "\n",
       "// Listen for the clearing of the current output cell\n",
       "var outputEl = gd.closest('.output');\n",
       "if (outputEl) {{\n",
       "    x.observe(outputEl, {childList: true});\n",
       "}}\n",
       "\n",
       "                        })                };                });            </script>        </div>"
      ]
     },
     "metadata": {},
     "output_type": "display_data"
    },
    {
     "data": {
      "application/vnd.plotly.v1+json": {
       "config": {
        "plotlyServerURL": "https://plotly.com"
       },
       "data": [
        {
         "marker": {
          "line": {
           "width": 0
          },
          "size": 12
         },
         "mode": "lines+markers",
         "name": "1993",
         "type": "scatter",
         "x": [
          "All-Bran",
          "Apple Jacks",
          "Basic 4",
          "Cocoa Puffs",
          "Corn Flakes",
          "Corn Pops",
          "Cracklin' Oat Bran",
          "Crispix",
          "Froot Loops",
          "Frosted Flakes",
          "Golden Grahams",
          "Kix",
          "Oatmeal Raisin Crisp",
          "Raisin Bran",
          "Raisin Nut Bran",
          "Rice Krispies",
          "Special K",
          "Total Whole Grain",
          "Trix",
          "Wheaties"
         ],
         "y": [
          7,
          11,
          14,
          12,
          21,
          13,
          10,
          21,
          11,
          14,
          15,
          21,
          11,
          11,
          10,
          22,
          16,
          16,
          13,
          17
         ]
        },
        {
         "marker": {
          "line": {
           "width": 0
          },
          "size": 12
         },
         "mode": "lines+markers",
         "name": "2020",
         "type": "scatter",
         "x": [
          "All-Bran",
          "Apple Jacks",
          "Basic 4",
          "Cocoa Puffs",
          "Corn Flakes",
          "Corn Pops",
          "Cracklin' Oat Bran",
          "Crispix",
          "Froot Loops",
          "Frosted Flakes",
          "Golden Grahams",
          "Kix",
          "Oatmeal Raisin Crisp",
          "Raisin Bran",
          "Raisin Nut Bran",
          "Rice Krispies",
          "Special K",
          "Total Whole Grain",
          "Trix",
          "Wheaties"
         ],
         "y": [
          8,
          14,
          13,
          12,
          20,
          15,
          6,
          21,
          13,
          15,
          13,
          17,
          10,
          9,
          12,
          23,
          16,
          14,
          14,
          13
         ]
        }
       ],
       "layout": {
        "showlegend": true,
        "template": {
         "data": {
          "bar": [
           {
            "error_x": {
             "color": "#2a3f5f"
            },
            "error_y": {
             "color": "#2a3f5f"
            },
            "marker": {
             "line": {
              "color": "#E5ECF6",
              "width": 0.5
             }
            },
            "type": "bar"
           }
          ],
          "barpolar": [
           {
            "marker": {
             "line": {
              "color": "#E5ECF6",
              "width": 0.5
             }
            },
            "type": "barpolar"
           }
          ],
          "carpet": [
           {
            "aaxis": {
             "endlinecolor": "#2a3f5f",
             "gridcolor": "white",
             "linecolor": "white",
             "minorgridcolor": "white",
             "startlinecolor": "#2a3f5f"
            },
            "baxis": {
             "endlinecolor": "#2a3f5f",
             "gridcolor": "white",
             "linecolor": "white",
             "minorgridcolor": "white",
             "startlinecolor": "#2a3f5f"
            },
            "type": "carpet"
           }
          ],
          "choropleth": [
           {
            "colorbar": {
             "outlinewidth": 0,
             "ticks": ""
            },
            "type": "choropleth"
           }
          ],
          "contour": [
           {
            "colorbar": {
             "outlinewidth": 0,
             "ticks": ""
            },
            "colorscale": [
             [
              0,
              "#0d0887"
             ],
             [
              0.1111111111111111,
              "#46039f"
             ],
             [
              0.2222222222222222,
              "#7201a8"
             ],
             [
              0.3333333333333333,
              "#9c179e"
             ],
             [
              0.4444444444444444,
              "#bd3786"
             ],
             [
              0.5555555555555556,
              "#d8576b"
             ],
             [
              0.6666666666666666,
              "#ed7953"
             ],
             [
              0.7777777777777778,
              "#fb9f3a"
             ],
             [
              0.8888888888888888,
              "#fdca26"
             ],
             [
              1,
              "#f0f921"
             ]
            ],
            "type": "contour"
           }
          ],
          "contourcarpet": [
           {
            "colorbar": {
             "outlinewidth": 0,
             "ticks": ""
            },
            "type": "contourcarpet"
           }
          ],
          "heatmap": [
           {
            "colorbar": {
             "outlinewidth": 0,
             "ticks": ""
            },
            "colorscale": [
             [
              0,
              "#0d0887"
             ],
             [
              0.1111111111111111,
              "#46039f"
             ],
             [
              0.2222222222222222,
              "#7201a8"
             ],
             [
              0.3333333333333333,
              "#9c179e"
             ],
             [
              0.4444444444444444,
              "#bd3786"
             ],
             [
              0.5555555555555556,
              "#d8576b"
             ],
             [
              0.6666666666666666,
              "#ed7953"
             ],
             [
              0.7777777777777778,
              "#fb9f3a"
             ],
             [
              0.8888888888888888,
              "#fdca26"
             ],
             [
              1,
              "#f0f921"
             ]
            ],
            "type": "heatmap"
           }
          ],
          "heatmapgl": [
           {
            "colorbar": {
             "outlinewidth": 0,
             "ticks": ""
            },
            "colorscale": [
             [
              0,
              "#0d0887"
             ],
             [
              0.1111111111111111,
              "#46039f"
             ],
             [
              0.2222222222222222,
              "#7201a8"
             ],
             [
              0.3333333333333333,
              "#9c179e"
             ],
             [
              0.4444444444444444,
              "#bd3786"
             ],
             [
              0.5555555555555556,
              "#d8576b"
             ],
             [
              0.6666666666666666,
              "#ed7953"
             ],
             [
              0.7777777777777778,
              "#fb9f3a"
             ],
             [
              0.8888888888888888,
              "#fdca26"
             ],
             [
              1,
              "#f0f921"
             ]
            ],
            "type": "heatmapgl"
           }
          ],
          "histogram": [
           {
            "marker": {
             "colorbar": {
              "outlinewidth": 0,
              "ticks": ""
             }
            },
            "type": "histogram"
           }
          ],
          "histogram2d": [
           {
            "colorbar": {
             "outlinewidth": 0,
             "ticks": ""
            },
            "colorscale": [
             [
              0,
              "#0d0887"
             ],
             [
              0.1111111111111111,
              "#46039f"
             ],
             [
              0.2222222222222222,
              "#7201a8"
             ],
             [
              0.3333333333333333,
              "#9c179e"
             ],
             [
              0.4444444444444444,
              "#bd3786"
             ],
             [
              0.5555555555555556,
              "#d8576b"
             ],
             [
              0.6666666666666666,
              "#ed7953"
             ],
             [
              0.7777777777777778,
              "#fb9f3a"
             ],
             [
              0.8888888888888888,
              "#fdca26"
             ],
             [
              1,
              "#f0f921"
             ]
            ],
            "type": "histogram2d"
           }
          ],
          "histogram2dcontour": [
           {
            "colorbar": {
             "outlinewidth": 0,
             "ticks": ""
            },
            "colorscale": [
             [
              0,
              "#0d0887"
             ],
             [
              0.1111111111111111,
              "#46039f"
             ],
             [
              0.2222222222222222,
              "#7201a8"
             ],
             [
              0.3333333333333333,
              "#9c179e"
             ],
             [
              0.4444444444444444,
              "#bd3786"
             ],
             [
              0.5555555555555556,
              "#d8576b"
             ],
             [
              0.6666666666666666,
              "#ed7953"
             ],
             [
              0.7777777777777778,
              "#fb9f3a"
             ],
             [
              0.8888888888888888,
              "#fdca26"
             ],
             [
              1,
              "#f0f921"
             ]
            ],
            "type": "histogram2dcontour"
           }
          ],
          "mesh3d": [
           {
            "colorbar": {
             "outlinewidth": 0,
             "ticks": ""
            },
            "type": "mesh3d"
           }
          ],
          "parcoords": [
           {
            "line": {
             "colorbar": {
              "outlinewidth": 0,
              "ticks": ""
             }
            },
            "type": "parcoords"
           }
          ],
          "pie": [
           {
            "automargin": true,
            "type": "pie"
           }
          ],
          "scatter": [
           {
            "marker": {
             "colorbar": {
              "outlinewidth": 0,
              "ticks": ""
             }
            },
            "type": "scatter"
           }
          ],
          "scatter3d": [
           {
            "line": {
             "colorbar": {
              "outlinewidth": 0,
              "ticks": ""
             }
            },
            "marker": {
             "colorbar": {
              "outlinewidth": 0,
              "ticks": ""
             }
            },
            "type": "scatter3d"
           }
          ],
          "scattercarpet": [
           {
            "marker": {
             "colorbar": {
              "outlinewidth": 0,
              "ticks": ""
             }
            },
            "type": "scattercarpet"
           }
          ],
          "scattergeo": [
           {
            "marker": {
             "colorbar": {
              "outlinewidth": 0,
              "ticks": ""
             }
            },
            "type": "scattergeo"
           }
          ],
          "scattergl": [
           {
            "marker": {
             "colorbar": {
              "outlinewidth": 0,
              "ticks": ""
             }
            },
            "type": "scattergl"
           }
          ],
          "scattermapbox": [
           {
            "marker": {
             "colorbar": {
              "outlinewidth": 0,
              "ticks": ""
             }
            },
            "type": "scattermapbox"
           }
          ],
          "scatterpolar": [
           {
            "marker": {
             "colorbar": {
              "outlinewidth": 0,
              "ticks": ""
             }
            },
            "type": "scatterpolar"
           }
          ],
          "scatterpolargl": [
           {
            "marker": {
             "colorbar": {
              "outlinewidth": 0,
              "ticks": ""
             }
            },
            "type": "scatterpolargl"
           }
          ],
          "scatterternary": [
           {
            "marker": {
             "colorbar": {
              "outlinewidth": 0,
              "ticks": ""
             }
            },
            "type": "scatterternary"
           }
          ],
          "surface": [
           {
            "colorbar": {
             "outlinewidth": 0,
             "ticks": ""
            },
            "colorscale": [
             [
              0,
              "#0d0887"
             ],
             [
              0.1111111111111111,
              "#46039f"
             ],
             [
              0.2222222222222222,
              "#7201a8"
             ],
             [
              0.3333333333333333,
              "#9c179e"
             ],
             [
              0.4444444444444444,
              "#bd3786"
             ],
             [
              0.5555555555555556,
              "#d8576b"
             ],
             [
              0.6666666666666666,
              "#ed7953"
             ],
             [
              0.7777777777777778,
              "#fb9f3a"
             ],
             [
              0.8888888888888888,
              "#fdca26"
             ],
             [
              1,
              "#f0f921"
             ]
            ],
            "type": "surface"
           }
          ],
          "table": [
           {
            "cells": {
             "fill": {
              "color": "#EBF0F8"
             },
             "line": {
              "color": "white"
             }
            },
            "header": {
             "fill": {
              "color": "#C8D4E3"
             },
             "line": {
              "color": "white"
             }
            },
            "type": "table"
           }
          ]
         },
         "layout": {
          "annotationdefaults": {
           "arrowcolor": "#2a3f5f",
           "arrowhead": 0,
           "arrowwidth": 1
          },
          "coloraxis": {
           "colorbar": {
            "outlinewidth": 0,
            "ticks": ""
           }
          },
          "colorscale": {
           "diverging": [
            [
             0,
             "#8e0152"
            ],
            [
             0.1,
             "#c51b7d"
            ],
            [
             0.2,
             "#de77ae"
            ],
            [
             0.3,
             "#f1b6da"
            ],
            [
             0.4,
             "#fde0ef"
            ],
            [
             0.5,
             "#f7f7f7"
            ],
            [
             0.6,
             "#e6f5d0"
            ],
            [
             0.7,
             "#b8e186"
            ],
            [
             0.8,
             "#7fbc41"
            ],
            [
             0.9,
             "#4d9221"
            ],
            [
             1,
             "#276419"
            ]
           ],
           "sequential": [
            [
             0,
             "#0d0887"
            ],
            [
             0.1111111111111111,
             "#46039f"
            ],
            [
             0.2222222222222222,
             "#7201a8"
            ],
            [
             0.3333333333333333,
             "#9c179e"
            ],
            [
             0.4444444444444444,
             "#bd3786"
            ],
            [
             0.5555555555555556,
             "#d8576b"
            ],
            [
             0.6666666666666666,
             "#ed7953"
            ],
            [
             0.7777777777777778,
             "#fb9f3a"
            ],
            [
             0.8888888888888888,
             "#fdca26"
            ],
            [
             1,
             "#f0f921"
            ]
           ],
           "sequentialminus": [
            [
             0,
             "#0d0887"
            ],
            [
             0.1111111111111111,
             "#46039f"
            ],
            [
             0.2222222222222222,
             "#7201a8"
            ],
            [
             0.3333333333333333,
             "#9c179e"
            ],
            [
             0.4444444444444444,
             "#bd3786"
            ],
            [
             0.5555555555555556,
             "#d8576b"
            ],
            [
             0.6666666666666666,
             "#ed7953"
            ],
            [
             0.7777777777777778,
             "#fb9f3a"
            ],
            [
             0.8888888888888888,
             "#fdca26"
            ],
            [
             1,
             "#f0f921"
            ]
           ]
          },
          "colorway": [
           "#636efa",
           "#EF553B",
           "#00cc96",
           "#ab63fa",
           "#FFA15A",
           "#19d3f3",
           "#FF6692",
           "#B6E880",
           "#FF97FF",
           "#FECB52"
          ],
          "font": {
           "color": "#2a3f5f"
          },
          "geo": {
           "bgcolor": "white",
           "lakecolor": "white",
           "landcolor": "#E5ECF6",
           "showlakes": true,
           "showland": true,
           "subunitcolor": "white"
          },
          "hoverlabel": {
           "align": "left"
          },
          "hovermode": "closest",
          "mapbox": {
           "style": "light"
          },
          "paper_bgcolor": "white",
          "plot_bgcolor": "#E5ECF6",
          "polar": {
           "angularaxis": {
            "gridcolor": "white",
            "linecolor": "white",
            "ticks": ""
           },
           "bgcolor": "#E5ECF6",
           "radialaxis": {
            "gridcolor": "white",
            "linecolor": "white",
            "ticks": ""
           }
          },
          "scene": {
           "xaxis": {
            "backgroundcolor": "#E5ECF6",
            "gridcolor": "white",
            "gridwidth": 2,
            "linecolor": "white",
            "showbackground": true,
            "ticks": "",
            "zerolinecolor": "white"
           },
           "yaxis": {
            "backgroundcolor": "#E5ECF6",
            "gridcolor": "white",
            "gridwidth": 2,
            "linecolor": "white",
            "showbackground": true,
            "ticks": "",
            "zerolinecolor": "white"
           },
           "zaxis": {
            "backgroundcolor": "#E5ECF6",
            "gridcolor": "white",
            "gridwidth": 2,
            "linecolor": "white",
            "showbackground": true,
            "ticks": "",
            "zerolinecolor": "white"
           }
          },
          "shapedefaults": {
           "line": {
            "color": "#2a3f5f"
           }
          },
          "ternary": {
           "aaxis": {
            "gridcolor": "white",
            "linecolor": "white",
            "ticks": ""
           },
           "baxis": {
            "gridcolor": "white",
            "linecolor": "white",
            "ticks": ""
           },
           "bgcolor": "#E5ECF6",
           "caxis": {
            "gridcolor": "white",
            "linecolor": "white",
            "ticks": ""
           }
          },
          "title": {
           "x": 0.05
          },
          "xaxis": {
           "automargin": true,
           "gridcolor": "white",
           "linecolor": "white",
           "ticks": "",
           "title": {
            "standoff": 15
           },
           "zerolinecolor": "white",
           "zerolinewidth": 2
          },
          "yaxis": {
           "automargin": true,
           "gridcolor": "white",
           "linecolor": "white",
           "ticks": "",
           "title": {
            "standoff": 15
           },
           "zerolinecolor": "white",
           "zerolinewidth": 2
          }
         }
        },
        "title": {
         "text": "Carbohydrate levels of common cereals in 1993 and 2020"
        },
        "xaxis": {
         "title": {
          "text": "Common Cereals"
         }
        },
        "yaxis": {
         "title": {
          "text": "Carbohydrate (grams/ounce)"
         }
        }
       }
      },
      "text/html": [
       "<div>                            <div id=\"d776b53e-565f-47ec-aa28-e2e20c85b672\" class=\"plotly-graph-div\" style=\"height:525px; width:100%;\"></div>            <script type=\"text/javascript\">                require([\"plotly\"], function(Plotly) {                    window.PLOTLYENV=window.PLOTLYENV || {};                                    if (document.getElementById(\"d776b53e-565f-47ec-aa28-e2e20c85b672\")) {                    Plotly.newPlot(                        \"d776b53e-565f-47ec-aa28-e2e20c85b672\",                        [{\"marker\": {\"line\": {\"width\": 0}, \"size\": 12}, \"mode\": \"lines+markers\", \"name\": \"1993\", \"type\": \"scatter\", \"x\": [\"All-Bran\", \"Apple Jacks\", \"Basic 4\", \"Cocoa Puffs\", \"Corn Flakes\", \"Corn Pops\", \"Cracklin' Oat Bran\", \"Crispix\", \"Froot Loops\", \"Frosted Flakes\", \"Golden Grahams\", \"Kix\", \"Oatmeal Raisin Crisp\", \"Raisin Bran\", \"Raisin Nut Bran\", \"Rice Krispies\", \"Special K\", \"Total Whole Grain\", \"Trix\", \"Wheaties\"], \"y\": [7, 11, 14, 12, 21, 13, 10, 21, 11, 14, 15, 21, 11, 11, 10, 22, 16, 16, 13, 17]}, {\"marker\": {\"line\": {\"width\": 0}, \"size\": 12}, \"mode\": \"lines+markers\", \"name\": \"2020\", \"type\": \"scatter\", \"x\": [\"All-Bran\", \"Apple Jacks\", \"Basic 4\", \"Cocoa Puffs\", \"Corn Flakes\", \"Corn Pops\", \"Cracklin' Oat Bran\", \"Crispix\", \"Froot Loops\", \"Frosted Flakes\", \"Golden Grahams\", \"Kix\", \"Oatmeal Raisin Crisp\", \"Raisin Bran\", \"Raisin Nut Bran\", \"Rice Krispies\", \"Special K\", \"Total Whole Grain\", \"Trix\", \"Wheaties\"], \"y\": [8, 14, 13, 12, 20, 15, 6, 21, 13, 15, 13, 17, 10, 9, 12, 23, 16, 14, 14, 13]}],                        {\"showlegend\": true, \"template\": {\"data\": {\"bar\": [{\"error_x\": {\"color\": \"#2a3f5f\"}, \"error_y\": {\"color\": \"#2a3f5f\"}, \"marker\": {\"line\": {\"color\": \"#E5ECF6\", \"width\": 0.5}}, \"type\": \"bar\"}], \"barpolar\": [{\"marker\": {\"line\": {\"color\": \"#E5ECF6\", \"width\": 0.5}}, \"type\": \"barpolar\"}], \"carpet\": [{\"aaxis\": {\"endlinecolor\": \"#2a3f5f\", \"gridcolor\": \"white\", \"linecolor\": \"white\", \"minorgridcolor\": \"white\", \"startlinecolor\": \"#2a3f5f\"}, \"baxis\": {\"endlinecolor\": \"#2a3f5f\", \"gridcolor\": \"white\", \"linecolor\": \"white\", \"minorgridcolor\": \"white\", \"startlinecolor\": \"#2a3f5f\"}, \"type\": \"carpet\"}], \"choropleth\": [{\"colorbar\": {\"outlinewidth\": 0, \"ticks\": \"\"}, \"type\": \"choropleth\"}], \"contour\": [{\"colorbar\": {\"outlinewidth\": 0, \"ticks\": \"\"}, \"colorscale\": [[0.0, \"#0d0887\"], [0.1111111111111111, \"#46039f\"], [0.2222222222222222, \"#7201a8\"], [0.3333333333333333, \"#9c179e\"], [0.4444444444444444, \"#bd3786\"], [0.5555555555555556, \"#d8576b\"], [0.6666666666666666, \"#ed7953\"], [0.7777777777777778, \"#fb9f3a\"], [0.8888888888888888, \"#fdca26\"], [1.0, \"#f0f921\"]], \"type\": \"contour\"}], \"contourcarpet\": [{\"colorbar\": {\"outlinewidth\": 0, \"ticks\": \"\"}, \"type\": \"contourcarpet\"}], \"heatmap\": [{\"colorbar\": {\"outlinewidth\": 0, \"ticks\": \"\"}, \"colorscale\": [[0.0, \"#0d0887\"], [0.1111111111111111, \"#46039f\"], [0.2222222222222222, \"#7201a8\"], [0.3333333333333333, \"#9c179e\"], [0.4444444444444444, \"#bd3786\"], [0.5555555555555556, \"#d8576b\"], [0.6666666666666666, \"#ed7953\"], [0.7777777777777778, \"#fb9f3a\"], [0.8888888888888888, \"#fdca26\"], [1.0, \"#f0f921\"]], \"type\": \"heatmap\"}], \"heatmapgl\": [{\"colorbar\": {\"outlinewidth\": 0, \"ticks\": \"\"}, \"colorscale\": [[0.0, \"#0d0887\"], [0.1111111111111111, \"#46039f\"], [0.2222222222222222, \"#7201a8\"], [0.3333333333333333, \"#9c179e\"], [0.4444444444444444, \"#bd3786\"], [0.5555555555555556, \"#d8576b\"], [0.6666666666666666, \"#ed7953\"], [0.7777777777777778, \"#fb9f3a\"], [0.8888888888888888, \"#fdca26\"], [1.0, \"#f0f921\"]], \"type\": \"heatmapgl\"}], \"histogram\": [{\"marker\": {\"colorbar\": {\"outlinewidth\": 0, \"ticks\": \"\"}}, \"type\": \"histogram\"}], \"histogram2d\": [{\"colorbar\": {\"outlinewidth\": 0, \"ticks\": \"\"}, \"colorscale\": [[0.0, \"#0d0887\"], [0.1111111111111111, \"#46039f\"], [0.2222222222222222, \"#7201a8\"], [0.3333333333333333, \"#9c179e\"], [0.4444444444444444, \"#bd3786\"], [0.5555555555555556, \"#d8576b\"], [0.6666666666666666, \"#ed7953\"], [0.7777777777777778, \"#fb9f3a\"], [0.8888888888888888, \"#fdca26\"], [1.0, \"#f0f921\"]], \"type\": \"histogram2d\"}], \"histogram2dcontour\": [{\"colorbar\": {\"outlinewidth\": 0, \"ticks\": \"\"}, \"colorscale\": [[0.0, \"#0d0887\"], [0.1111111111111111, \"#46039f\"], [0.2222222222222222, \"#7201a8\"], [0.3333333333333333, \"#9c179e\"], [0.4444444444444444, \"#bd3786\"], [0.5555555555555556, \"#d8576b\"], [0.6666666666666666, \"#ed7953\"], [0.7777777777777778, \"#fb9f3a\"], [0.8888888888888888, \"#fdca26\"], [1.0, \"#f0f921\"]], \"type\": \"histogram2dcontour\"}], \"mesh3d\": [{\"colorbar\": {\"outlinewidth\": 0, \"ticks\": \"\"}, \"type\": \"mesh3d\"}], \"parcoords\": [{\"line\": {\"colorbar\": {\"outlinewidth\": 0, \"ticks\": \"\"}}, \"type\": \"parcoords\"}], \"pie\": [{\"automargin\": true, \"type\": \"pie\"}], \"scatter\": [{\"marker\": {\"colorbar\": {\"outlinewidth\": 0, \"ticks\": \"\"}}, \"type\": \"scatter\"}], \"scatter3d\": [{\"line\": {\"colorbar\": {\"outlinewidth\": 0, \"ticks\": \"\"}}, \"marker\": {\"colorbar\": {\"outlinewidth\": 0, \"ticks\": \"\"}}, \"type\": \"scatter3d\"}], \"scattercarpet\": [{\"marker\": {\"colorbar\": {\"outlinewidth\": 0, \"ticks\": \"\"}}, \"type\": \"scattercarpet\"}], \"scattergeo\": [{\"marker\": {\"colorbar\": {\"outlinewidth\": 0, \"ticks\": \"\"}}, \"type\": \"scattergeo\"}], \"scattergl\": [{\"marker\": {\"colorbar\": {\"outlinewidth\": 0, \"ticks\": \"\"}}, \"type\": \"scattergl\"}], \"scattermapbox\": [{\"marker\": {\"colorbar\": {\"outlinewidth\": 0, \"ticks\": \"\"}}, \"type\": \"scattermapbox\"}], \"scatterpolar\": [{\"marker\": {\"colorbar\": {\"outlinewidth\": 0, \"ticks\": \"\"}}, \"type\": \"scatterpolar\"}], \"scatterpolargl\": [{\"marker\": {\"colorbar\": {\"outlinewidth\": 0, \"ticks\": \"\"}}, \"type\": \"scatterpolargl\"}], \"scatterternary\": [{\"marker\": {\"colorbar\": {\"outlinewidth\": 0, \"ticks\": \"\"}}, \"type\": \"scatterternary\"}], \"surface\": [{\"colorbar\": {\"outlinewidth\": 0, \"ticks\": \"\"}, \"colorscale\": [[0.0, \"#0d0887\"], [0.1111111111111111, \"#46039f\"], [0.2222222222222222, \"#7201a8\"], [0.3333333333333333, \"#9c179e\"], [0.4444444444444444, \"#bd3786\"], [0.5555555555555556, \"#d8576b\"], [0.6666666666666666, \"#ed7953\"], [0.7777777777777778, \"#fb9f3a\"], [0.8888888888888888, \"#fdca26\"], [1.0, \"#f0f921\"]], \"type\": \"surface\"}], \"table\": [{\"cells\": {\"fill\": {\"color\": \"#EBF0F8\"}, \"line\": {\"color\": \"white\"}}, \"header\": {\"fill\": {\"color\": \"#C8D4E3\"}, \"line\": {\"color\": \"white\"}}, \"type\": \"table\"}]}, \"layout\": {\"annotationdefaults\": {\"arrowcolor\": \"#2a3f5f\", \"arrowhead\": 0, \"arrowwidth\": 1}, \"coloraxis\": {\"colorbar\": {\"outlinewidth\": 0, \"ticks\": \"\"}}, \"colorscale\": {\"diverging\": [[0, \"#8e0152\"], [0.1, \"#c51b7d\"], [0.2, \"#de77ae\"], [0.3, \"#f1b6da\"], [0.4, \"#fde0ef\"], [0.5, \"#f7f7f7\"], [0.6, \"#e6f5d0\"], [0.7, \"#b8e186\"], [0.8, \"#7fbc41\"], [0.9, \"#4d9221\"], [1, \"#276419\"]], \"sequential\": [[0.0, \"#0d0887\"], [0.1111111111111111, \"#46039f\"], [0.2222222222222222, \"#7201a8\"], [0.3333333333333333, \"#9c179e\"], [0.4444444444444444, \"#bd3786\"], [0.5555555555555556, \"#d8576b\"], [0.6666666666666666, \"#ed7953\"], [0.7777777777777778, \"#fb9f3a\"], [0.8888888888888888, \"#fdca26\"], [1.0, \"#f0f921\"]], \"sequentialminus\": [[0.0, \"#0d0887\"], [0.1111111111111111, \"#46039f\"], [0.2222222222222222, \"#7201a8\"], [0.3333333333333333, \"#9c179e\"], [0.4444444444444444, \"#bd3786\"], [0.5555555555555556, \"#d8576b\"], [0.6666666666666666, \"#ed7953\"], [0.7777777777777778, \"#fb9f3a\"], [0.8888888888888888, \"#fdca26\"], [1.0, \"#f0f921\"]]}, \"colorway\": [\"#636efa\", \"#EF553B\", \"#00cc96\", \"#ab63fa\", \"#FFA15A\", \"#19d3f3\", \"#FF6692\", \"#B6E880\", \"#FF97FF\", \"#FECB52\"], \"font\": {\"color\": \"#2a3f5f\"}, \"geo\": {\"bgcolor\": \"white\", \"lakecolor\": \"white\", \"landcolor\": \"#E5ECF6\", \"showlakes\": true, \"showland\": true, \"subunitcolor\": \"white\"}, \"hoverlabel\": {\"align\": \"left\"}, \"hovermode\": \"closest\", \"mapbox\": {\"style\": \"light\"}, \"paper_bgcolor\": \"white\", \"plot_bgcolor\": \"#E5ECF6\", \"polar\": {\"angularaxis\": {\"gridcolor\": \"white\", \"linecolor\": \"white\", \"ticks\": \"\"}, \"bgcolor\": \"#E5ECF6\", \"radialaxis\": {\"gridcolor\": \"white\", \"linecolor\": \"white\", \"ticks\": \"\"}}, \"scene\": {\"xaxis\": {\"backgroundcolor\": \"#E5ECF6\", \"gridcolor\": \"white\", \"gridwidth\": 2, \"linecolor\": \"white\", \"showbackground\": true, \"ticks\": \"\", \"zerolinecolor\": \"white\"}, \"yaxis\": {\"backgroundcolor\": \"#E5ECF6\", \"gridcolor\": \"white\", \"gridwidth\": 2, \"linecolor\": \"white\", \"showbackground\": true, \"ticks\": \"\", \"zerolinecolor\": \"white\"}, \"zaxis\": {\"backgroundcolor\": \"#E5ECF6\", \"gridcolor\": \"white\", \"gridwidth\": 2, \"linecolor\": \"white\", \"showbackground\": true, \"ticks\": \"\", \"zerolinecolor\": \"white\"}}, \"shapedefaults\": {\"line\": {\"color\": \"#2a3f5f\"}}, \"ternary\": {\"aaxis\": {\"gridcolor\": \"white\", \"linecolor\": \"white\", \"ticks\": \"\"}, \"baxis\": {\"gridcolor\": \"white\", \"linecolor\": \"white\", \"ticks\": \"\"}, \"bgcolor\": \"#E5ECF6\", \"caxis\": {\"gridcolor\": \"white\", \"linecolor\": \"white\", \"ticks\": \"\"}}, \"title\": {\"x\": 0.05}, \"xaxis\": {\"automargin\": true, \"gridcolor\": \"white\", \"linecolor\": \"white\", \"ticks\": \"\", \"title\": {\"standoff\": 15}, \"zerolinecolor\": \"white\", \"zerolinewidth\": 2}, \"yaxis\": {\"automargin\": true, \"gridcolor\": \"white\", \"linecolor\": \"white\", \"ticks\": \"\", \"title\": {\"standoff\": 15}, \"zerolinecolor\": \"white\", \"zerolinewidth\": 2}}}, \"title\": {\"text\": \"Carbohydrate levels of common cereals in 1993 and 2020\"}, \"xaxis\": {\"title\": {\"text\": \"Common Cereals\"}}, \"yaxis\": {\"title\": {\"text\": \"Carbohydrate (grams/ounce)\"}}},                        {\"responsive\": true}                    ).then(function(){\n",
       "                            \n",
       "var gd = document.getElementById('d776b53e-565f-47ec-aa28-e2e20c85b672');\n",
       "var x = new MutationObserver(function (mutations, observer) {{\n",
       "        var display = window.getComputedStyle(gd).display;\n",
       "        if (!display || display === 'none') {{\n",
       "            console.log([gd, 'removed!']);\n",
       "            Plotly.purge(gd);\n",
       "            observer.disconnect();\n",
       "        }}\n",
       "}});\n",
       "\n",
       "// Listen for the removal of the full notebook cells\n",
       "var notebookContainer = gd.closest('#notebook-container');\n",
       "if (notebookContainer) {{\n",
       "    x.observe(notebookContainer, {childList: true});\n",
       "}}\n",
       "\n",
       "// Listen for the clearing of the current output cell\n",
       "var outputEl = gd.closest('.output');\n",
       "if (outputEl) {{\n",
       "    x.observe(outputEl, {childList: true});\n",
       "}}\n",
       "\n",
       "                        })                };                });            </script>        </div>"
      ]
     },
     "metadata": {},
     "output_type": "display_data"
    },
    {
     "data": {
      "application/vnd.plotly.v1+json": {
       "config": {
        "plotlyServerURL": "https://plotly.com"
       },
       "data": [
        {
         "boxpoints": "all",
         "name": "Carbohydrate",
         "text": [
          "100% Bran",
          "100% Natural Bran",
          "All-Bran",
          "All-Bran with Extra Fiber",
          "Almond Delight",
          "Apple Cinnamon Cheerios",
          "Apple Jacks",
          "Basic 4",
          "Bran Chex",
          "Bran Flakes",
          "Cap'n'Crunch",
          "Cheerios",
          "Cinnamon Toast Crunch",
          "Clusters",
          "Cocoa Puffs",
          "Corn Chex",
          "Corn Flakes",
          "Corn Pops",
          "Count Chocula",
          "Cracklin' Oat Bran",
          "Cream of Wheat (Quick)",
          "Crispix",
          "Crispy Wheat & Raisins",
          "Double Chex",
          "Froot Loops",
          "Frosted Flakes",
          "Frosted Mini-Wheats",
          "Fruit & Fibre Dates",
          "Fruitful Bran",
          "Fruity Pebbles",
          "Golden Crisp",
          "Golden Grahams",
          "Grape Nuts Flakes",
          "Grape-Nuts",
          "Great Grains Pecan",
          "Honey Graham Ohs",
          "Honey Nut Cheerios",
          "Honey-comb",
          "Just Right Crunchy  Nuggets",
          "Just Right Fruit & Nut",
          "Kix",
          "Life",
          "Lucky Charms",
          "Maypo",
          "Dates & Almonds",
          "Peaches & Pecans",
          "Mueslix Crispy Blend",
          "Multi-Grain Cheerios",
          "Nut&Honey Crunch",
          "Nutri-Grain Almond-Raisin",
          "Nutri-grain Wheat",
          "Oatmeal Raisin Crisp",
          "Post Nat. Raisin Bran",
          "Product 19",
          "Puffed Rice",
          "Puffed Wheat",
          "Quaker Oat Squares",
          "Quaker Oatmeal",
          "Raisin Bran",
          "Raisin Nut Bran",
          "Raisin Squares",
          "Rice Chex",
          "Rice Krispies",
          "Shredded Wheat",
          "Shredded Wheat 'n'Bran",
          "Shredded Wheat spoon size",
          "Smacks",
          "Special K",
          "Strawberry Fruit Wheats",
          "Total Corn Flakes",
          "Total Raisin Bran",
          "Total Whole Grain",
          "Triples",
          "Trix",
          "Walnuts & Oats",
          "Wheat Chex",
          "Wheaties",
          "Wheaties Honey Gold",
          "All-Bran Complete Wheat Flakes Cereal",
          "Eggo",
          "Honey Smacks",
          "Krave Double Chocolate",
          "Peeps",
          "Smart Start",
          "Annie's Whole Grain Cereal",
          "Cascadian Farm Organic Raisin Bran",
          "Cheerios Multi Grain",
          "Chex Wheat Cereal",
          "Cookie Crisp",
          "Dunkaroos",
          "Fiber One",
          "Good Belly",
          "Larabar (Peanut Butter)",
          "Oatmeal Crisp",
          "Wonderworks (Peanut Butter)",
          "Ahold 100% Whole Grain",
          "Hannaford Frosted Flakes",
          "Martin's Food Lion",
          "Hannaford Tasteeos Cereal",
          "Ahold Vanilla Almond Cereal",
          "Kelloggs Special Fruit & Yogurt",
          "Kelloggs Special Original Cereal",
          "Quaker Life Cinnamon Multigrain",
          "Quaker Life Original Multigrain",
          "Quaker Life Ltd. Edition, Pumpkin Spice",
          "All-Bran",
          "Apple Jacks",
          "Basic 4",
          "Cocoa Puffs",
          "Corn Flakes",
          "Corn Pops",
          "Cracklin' Oat Bran",
          "Crispix",
          "Froot Loops",
          "Frosted Flakes",
          "Golden Grahams",
          "Kix",
          "Oatmeal Raisin Crisp",
          "Raisin Bran",
          "Raisin Nut Bran",
          "Rice Krispies",
          "Special K",
          "Total Whole Grain",
          "Trix",
          "Wheaties"
         ],
         "type": "box",
         "x": [
          1993,
          1993,
          1993,
          1993,
          1993,
          1993,
          1993,
          1993,
          1993,
          1993,
          1993,
          1993,
          1993,
          1993,
          1993,
          1993,
          1993,
          1993,
          1993,
          1993,
          2020,
          2020,
          2020,
          2020,
          2020,
          2020,
          2020,
          2020,
          2020,
          2020,
          2020,
          2020,
          2020,
          2020,
          2020,
          2020,
          2020,
          2020,
          2020,
          2020
         ],
         "y": [
          7,
          11,
          14,
          12,
          21,
          13,
          10,
          21,
          11,
          14,
          15,
          21,
          11,
          11,
          10,
          22,
          16,
          16,
          13,
          17,
          8,
          14,
          13,
          12,
          20,
          15,
          6,
          21,
          13,
          15,
          13,
          17,
          10,
          9,
          12,
          23,
          16,
          14,
          14,
          13
         ]
        }
       ],
       "layout": {
        "boxmode": "group",
        "template": {
         "data": {
          "bar": [
           {
            "error_x": {
             "color": "#2a3f5f"
            },
            "error_y": {
             "color": "#2a3f5f"
            },
            "marker": {
             "line": {
              "color": "#E5ECF6",
              "width": 0.5
             }
            },
            "type": "bar"
           }
          ],
          "barpolar": [
           {
            "marker": {
             "line": {
              "color": "#E5ECF6",
              "width": 0.5
             }
            },
            "type": "barpolar"
           }
          ],
          "carpet": [
           {
            "aaxis": {
             "endlinecolor": "#2a3f5f",
             "gridcolor": "white",
             "linecolor": "white",
             "minorgridcolor": "white",
             "startlinecolor": "#2a3f5f"
            },
            "baxis": {
             "endlinecolor": "#2a3f5f",
             "gridcolor": "white",
             "linecolor": "white",
             "minorgridcolor": "white",
             "startlinecolor": "#2a3f5f"
            },
            "type": "carpet"
           }
          ],
          "choropleth": [
           {
            "colorbar": {
             "outlinewidth": 0,
             "ticks": ""
            },
            "type": "choropleth"
           }
          ],
          "contour": [
           {
            "colorbar": {
             "outlinewidth": 0,
             "ticks": ""
            },
            "colorscale": [
             [
              0,
              "#0d0887"
             ],
             [
              0.1111111111111111,
              "#46039f"
             ],
             [
              0.2222222222222222,
              "#7201a8"
             ],
             [
              0.3333333333333333,
              "#9c179e"
             ],
             [
              0.4444444444444444,
              "#bd3786"
             ],
             [
              0.5555555555555556,
              "#d8576b"
             ],
             [
              0.6666666666666666,
              "#ed7953"
             ],
             [
              0.7777777777777778,
              "#fb9f3a"
             ],
             [
              0.8888888888888888,
              "#fdca26"
             ],
             [
              1,
              "#f0f921"
             ]
            ],
            "type": "contour"
           }
          ],
          "contourcarpet": [
           {
            "colorbar": {
             "outlinewidth": 0,
             "ticks": ""
            },
            "type": "contourcarpet"
           }
          ],
          "heatmap": [
           {
            "colorbar": {
             "outlinewidth": 0,
             "ticks": ""
            },
            "colorscale": [
             [
              0,
              "#0d0887"
             ],
             [
              0.1111111111111111,
              "#46039f"
             ],
             [
              0.2222222222222222,
              "#7201a8"
             ],
             [
              0.3333333333333333,
              "#9c179e"
             ],
             [
              0.4444444444444444,
              "#bd3786"
             ],
             [
              0.5555555555555556,
              "#d8576b"
             ],
             [
              0.6666666666666666,
              "#ed7953"
             ],
             [
              0.7777777777777778,
              "#fb9f3a"
             ],
             [
              0.8888888888888888,
              "#fdca26"
             ],
             [
              1,
              "#f0f921"
             ]
            ],
            "type": "heatmap"
           }
          ],
          "heatmapgl": [
           {
            "colorbar": {
             "outlinewidth": 0,
             "ticks": ""
            },
            "colorscale": [
             [
              0,
              "#0d0887"
             ],
             [
              0.1111111111111111,
              "#46039f"
             ],
             [
              0.2222222222222222,
              "#7201a8"
             ],
             [
              0.3333333333333333,
              "#9c179e"
             ],
             [
              0.4444444444444444,
              "#bd3786"
             ],
             [
              0.5555555555555556,
              "#d8576b"
             ],
             [
              0.6666666666666666,
              "#ed7953"
             ],
             [
              0.7777777777777778,
              "#fb9f3a"
             ],
             [
              0.8888888888888888,
              "#fdca26"
             ],
             [
              1,
              "#f0f921"
             ]
            ],
            "type": "heatmapgl"
           }
          ],
          "histogram": [
           {
            "marker": {
             "colorbar": {
              "outlinewidth": 0,
              "ticks": ""
             }
            },
            "type": "histogram"
           }
          ],
          "histogram2d": [
           {
            "colorbar": {
             "outlinewidth": 0,
             "ticks": ""
            },
            "colorscale": [
             [
              0,
              "#0d0887"
             ],
             [
              0.1111111111111111,
              "#46039f"
             ],
             [
              0.2222222222222222,
              "#7201a8"
             ],
             [
              0.3333333333333333,
              "#9c179e"
             ],
             [
              0.4444444444444444,
              "#bd3786"
             ],
             [
              0.5555555555555556,
              "#d8576b"
             ],
             [
              0.6666666666666666,
              "#ed7953"
             ],
             [
              0.7777777777777778,
              "#fb9f3a"
             ],
             [
              0.8888888888888888,
              "#fdca26"
             ],
             [
              1,
              "#f0f921"
             ]
            ],
            "type": "histogram2d"
           }
          ],
          "histogram2dcontour": [
           {
            "colorbar": {
             "outlinewidth": 0,
             "ticks": ""
            },
            "colorscale": [
             [
              0,
              "#0d0887"
             ],
             [
              0.1111111111111111,
              "#46039f"
             ],
             [
              0.2222222222222222,
              "#7201a8"
             ],
             [
              0.3333333333333333,
              "#9c179e"
             ],
             [
              0.4444444444444444,
              "#bd3786"
             ],
             [
              0.5555555555555556,
              "#d8576b"
             ],
             [
              0.6666666666666666,
              "#ed7953"
             ],
             [
              0.7777777777777778,
              "#fb9f3a"
             ],
             [
              0.8888888888888888,
              "#fdca26"
             ],
             [
              1,
              "#f0f921"
             ]
            ],
            "type": "histogram2dcontour"
           }
          ],
          "mesh3d": [
           {
            "colorbar": {
             "outlinewidth": 0,
             "ticks": ""
            },
            "type": "mesh3d"
           }
          ],
          "parcoords": [
           {
            "line": {
             "colorbar": {
              "outlinewidth": 0,
              "ticks": ""
             }
            },
            "type": "parcoords"
           }
          ],
          "pie": [
           {
            "automargin": true,
            "type": "pie"
           }
          ],
          "scatter": [
           {
            "marker": {
             "colorbar": {
              "outlinewidth": 0,
              "ticks": ""
             }
            },
            "type": "scatter"
           }
          ],
          "scatter3d": [
           {
            "line": {
             "colorbar": {
              "outlinewidth": 0,
              "ticks": ""
             }
            },
            "marker": {
             "colorbar": {
              "outlinewidth": 0,
              "ticks": ""
             }
            },
            "type": "scatter3d"
           }
          ],
          "scattercarpet": [
           {
            "marker": {
             "colorbar": {
              "outlinewidth": 0,
              "ticks": ""
             }
            },
            "type": "scattercarpet"
           }
          ],
          "scattergeo": [
           {
            "marker": {
             "colorbar": {
              "outlinewidth": 0,
              "ticks": ""
             }
            },
            "type": "scattergeo"
           }
          ],
          "scattergl": [
           {
            "marker": {
             "colorbar": {
              "outlinewidth": 0,
              "ticks": ""
             }
            },
            "type": "scattergl"
           }
          ],
          "scattermapbox": [
           {
            "marker": {
             "colorbar": {
              "outlinewidth": 0,
              "ticks": ""
             }
            },
            "type": "scattermapbox"
           }
          ],
          "scatterpolar": [
           {
            "marker": {
             "colorbar": {
              "outlinewidth": 0,
              "ticks": ""
             }
            },
            "type": "scatterpolar"
           }
          ],
          "scatterpolargl": [
           {
            "marker": {
             "colorbar": {
              "outlinewidth": 0,
              "ticks": ""
             }
            },
            "type": "scatterpolargl"
           }
          ],
          "scatterternary": [
           {
            "marker": {
             "colorbar": {
              "outlinewidth": 0,
              "ticks": ""
             }
            },
            "type": "scatterternary"
           }
          ],
          "surface": [
           {
            "colorbar": {
             "outlinewidth": 0,
             "ticks": ""
            },
            "colorscale": [
             [
              0,
              "#0d0887"
             ],
             [
              0.1111111111111111,
              "#46039f"
             ],
             [
              0.2222222222222222,
              "#7201a8"
             ],
             [
              0.3333333333333333,
              "#9c179e"
             ],
             [
              0.4444444444444444,
              "#bd3786"
             ],
             [
              0.5555555555555556,
              "#d8576b"
             ],
             [
              0.6666666666666666,
              "#ed7953"
             ],
             [
              0.7777777777777778,
              "#fb9f3a"
             ],
             [
              0.8888888888888888,
              "#fdca26"
             ],
             [
              1,
              "#f0f921"
             ]
            ],
            "type": "surface"
           }
          ],
          "table": [
           {
            "cells": {
             "fill": {
              "color": "#EBF0F8"
             },
             "line": {
              "color": "white"
             }
            },
            "header": {
             "fill": {
              "color": "#C8D4E3"
             },
             "line": {
              "color": "white"
             }
            },
            "type": "table"
           }
          ]
         },
         "layout": {
          "annotationdefaults": {
           "arrowcolor": "#2a3f5f",
           "arrowhead": 0,
           "arrowwidth": 1
          },
          "coloraxis": {
           "colorbar": {
            "outlinewidth": 0,
            "ticks": ""
           }
          },
          "colorscale": {
           "diverging": [
            [
             0,
             "#8e0152"
            ],
            [
             0.1,
             "#c51b7d"
            ],
            [
             0.2,
             "#de77ae"
            ],
            [
             0.3,
             "#f1b6da"
            ],
            [
             0.4,
             "#fde0ef"
            ],
            [
             0.5,
             "#f7f7f7"
            ],
            [
             0.6,
             "#e6f5d0"
            ],
            [
             0.7,
             "#b8e186"
            ],
            [
             0.8,
             "#7fbc41"
            ],
            [
             0.9,
             "#4d9221"
            ],
            [
             1,
             "#276419"
            ]
           ],
           "sequential": [
            [
             0,
             "#0d0887"
            ],
            [
             0.1111111111111111,
             "#46039f"
            ],
            [
             0.2222222222222222,
             "#7201a8"
            ],
            [
             0.3333333333333333,
             "#9c179e"
            ],
            [
             0.4444444444444444,
             "#bd3786"
            ],
            [
             0.5555555555555556,
             "#d8576b"
            ],
            [
             0.6666666666666666,
             "#ed7953"
            ],
            [
             0.7777777777777778,
             "#fb9f3a"
            ],
            [
             0.8888888888888888,
             "#fdca26"
            ],
            [
             1,
             "#f0f921"
            ]
           ],
           "sequentialminus": [
            [
             0,
             "#0d0887"
            ],
            [
             0.1111111111111111,
             "#46039f"
            ],
            [
             0.2222222222222222,
             "#7201a8"
            ],
            [
             0.3333333333333333,
             "#9c179e"
            ],
            [
             0.4444444444444444,
             "#bd3786"
            ],
            [
             0.5555555555555556,
             "#d8576b"
            ],
            [
             0.6666666666666666,
             "#ed7953"
            ],
            [
             0.7777777777777778,
             "#fb9f3a"
            ],
            [
             0.8888888888888888,
             "#fdca26"
            ],
            [
             1,
             "#f0f921"
            ]
           ]
          },
          "colorway": [
           "#636efa",
           "#EF553B",
           "#00cc96",
           "#ab63fa",
           "#FFA15A",
           "#19d3f3",
           "#FF6692",
           "#B6E880",
           "#FF97FF",
           "#FECB52"
          ],
          "font": {
           "color": "#2a3f5f"
          },
          "geo": {
           "bgcolor": "white",
           "lakecolor": "white",
           "landcolor": "#E5ECF6",
           "showlakes": true,
           "showland": true,
           "subunitcolor": "white"
          },
          "hoverlabel": {
           "align": "left"
          },
          "hovermode": "closest",
          "mapbox": {
           "style": "light"
          },
          "paper_bgcolor": "white",
          "plot_bgcolor": "#E5ECF6",
          "polar": {
           "angularaxis": {
            "gridcolor": "white",
            "linecolor": "white",
            "ticks": ""
           },
           "bgcolor": "#E5ECF6",
           "radialaxis": {
            "gridcolor": "white",
            "linecolor": "white",
            "ticks": ""
           }
          },
          "scene": {
           "xaxis": {
            "backgroundcolor": "#E5ECF6",
            "gridcolor": "white",
            "gridwidth": 2,
            "linecolor": "white",
            "showbackground": true,
            "ticks": "",
            "zerolinecolor": "white"
           },
           "yaxis": {
            "backgroundcolor": "#E5ECF6",
            "gridcolor": "white",
            "gridwidth": 2,
            "linecolor": "white",
            "showbackground": true,
            "ticks": "",
            "zerolinecolor": "white"
           },
           "zaxis": {
            "backgroundcolor": "#E5ECF6",
            "gridcolor": "white",
            "gridwidth": 2,
            "linecolor": "white",
            "showbackground": true,
            "ticks": "",
            "zerolinecolor": "white"
           }
          },
          "shapedefaults": {
           "line": {
            "color": "#2a3f5f"
           }
          },
          "ternary": {
           "aaxis": {
            "gridcolor": "white",
            "linecolor": "white",
            "ticks": ""
           },
           "baxis": {
            "gridcolor": "white",
            "linecolor": "white",
            "ticks": ""
           },
           "bgcolor": "#E5ECF6",
           "caxis": {
            "gridcolor": "white",
            "linecolor": "white",
            "ticks": ""
           }
          },
          "title": {
           "x": 0.05
          },
          "xaxis": {
           "automargin": true,
           "gridcolor": "white",
           "linecolor": "white",
           "ticks": "",
           "title": {
            "standoff": 15
           },
           "zerolinecolor": "white",
           "zerolinewidth": 2
          },
          "yaxis": {
           "automargin": true,
           "gridcolor": "white",
           "linecolor": "white",
           "ticks": "",
           "title": {
            "standoff": 15
           },
           "zerolinecolor": "white",
           "zerolinewidth": 2
          }
         }
        },
        "title": {
         "text": "Carbohydrate level distribution change in common products between 1993 and 2020"
        },
        "xaxis": {
         "title": {
          "text": "Years"
         }
        },
        "yaxis": {
         "title": {
          "text": "Carbohydrate (grams/ounce)"
         }
        }
       }
      },
      "text/html": [
       "<div>                            <div id=\"c46d964f-87ad-4a32-9c4a-64b47b4ab651\" class=\"plotly-graph-div\" style=\"height:525px; width:100%;\"></div>            <script type=\"text/javascript\">                require([\"plotly\"], function(Plotly) {                    window.PLOTLYENV=window.PLOTLYENV || {};                                    if (document.getElementById(\"c46d964f-87ad-4a32-9c4a-64b47b4ab651\")) {                    Plotly.newPlot(                        \"c46d964f-87ad-4a32-9c4a-64b47b4ab651\",                        [{\"boxpoints\": \"all\", \"name\": \"Carbohydrate\", \"text\": [\"100% Bran\", \"100% Natural Bran\", \"All-Bran\", \"All-Bran with Extra Fiber\", \"Almond Delight\", \"Apple Cinnamon Cheerios\", \"Apple Jacks\", \"Basic 4\", \"Bran Chex\", \"Bran Flakes\", \"Cap'n'Crunch\", \"Cheerios\", \"Cinnamon Toast Crunch\", \"Clusters\", \"Cocoa Puffs\", \"Corn Chex\", \"Corn Flakes\", \"Corn Pops\", \"Count Chocula\", \"Cracklin' Oat Bran\", \"Cream of Wheat (Quick)\", \"Crispix\", \"Crispy Wheat & Raisins\", \"Double Chex\", \"Froot Loops\", \"Frosted Flakes\", \"Frosted Mini-Wheats\", \"Fruit & Fibre Dates\", \"Fruitful Bran\", \"Fruity Pebbles\", \"Golden Crisp\", \"Golden Grahams\", \"Grape Nuts Flakes\", \"Grape-Nuts\", \"Great Grains Pecan\", \"Honey Graham Ohs\", \"Honey Nut Cheerios\", \"Honey-comb\", \"Just Right Crunchy  Nuggets\", \"Just Right Fruit & Nut\", \"Kix\", \"Life\", \"Lucky Charms\", \"Maypo\", \"Dates & Almonds\", \"Peaches & Pecans\", \"Mueslix Crispy Blend\", \"Multi-Grain Cheerios\", \"Nut&Honey Crunch\", \"Nutri-Grain Almond-Raisin\", \"Nutri-grain Wheat\", \"Oatmeal Raisin Crisp\", \"Post Nat. Raisin Bran\", \"Product 19\", \"Puffed Rice\", \"Puffed Wheat\", \"Quaker Oat Squares\", \"Quaker Oatmeal\", \"Raisin Bran\", \"Raisin Nut Bran\", \"Raisin Squares\", \"Rice Chex\", \"Rice Krispies\", \"Shredded Wheat\", \"Shredded Wheat 'n'Bran\", \"Shredded Wheat spoon size\", \"Smacks\", \"Special K\", \"Strawberry Fruit Wheats\", \"Total Corn Flakes\", \"Total Raisin Bran\", \"Total Whole Grain\", \"Triples\", \"Trix\", \"Walnuts & Oats\", \"Wheat Chex\", \"Wheaties\", \"Wheaties Honey Gold\", \"All-Bran Complete Wheat Flakes Cereal\", \"Eggo\", \"Honey Smacks\", \"Krave Double Chocolate\", \"Peeps\", \"Smart Start\", \"Annie's Whole Grain Cereal\", \"Cascadian Farm Organic Raisin Bran\", \"Cheerios Multi Grain\", \"Chex Wheat Cereal\", \"Cookie Crisp\", \"Dunkaroos\", \"Fiber One\", \"Good Belly\", \"Larabar (Peanut Butter)\", \"Oatmeal Crisp\", \"Wonderworks (Peanut Butter)\", \"Ahold 100% Whole Grain\", \"Hannaford Frosted Flakes\", \"Martin's Food Lion\", \"Hannaford Tasteeos Cereal\", \"Ahold Vanilla Almond Cereal\", \"Kelloggs Special Fruit & Yogurt\", \"Kelloggs Special Original Cereal\", \"Quaker Life Cinnamon Multigrain\", \"Quaker Life Original Multigrain\", \"Quaker Life Ltd. Edition, Pumpkin Spice\", \"All-Bran\", \"Apple Jacks\", \"Basic 4\", \"Cocoa Puffs\", \"Corn Flakes\", \"Corn Pops\", \"Cracklin' Oat Bran\", \"Crispix\", \"Froot Loops\", \"Frosted Flakes\", \"Golden Grahams\", \"Kix\", \"Oatmeal Raisin Crisp\", \"Raisin Bran\", \"Raisin Nut Bran\", \"Rice Krispies\", \"Special K\", \"Total Whole Grain\", \"Trix\", \"Wheaties\"], \"type\": \"box\", \"x\": [1993, 1993, 1993, 1993, 1993, 1993, 1993, 1993, 1993, 1993, 1993, 1993, 1993, 1993, 1993, 1993, 1993, 1993, 1993, 1993, 2020, 2020, 2020, 2020, 2020, 2020, 2020, 2020, 2020, 2020, 2020, 2020, 2020, 2020, 2020, 2020, 2020, 2020, 2020, 2020], \"y\": [7, 11, 14, 12, 21, 13, 10, 21, 11, 14, 15, 21, 11, 11, 10, 22, 16, 16, 13, 17, 8, 14, 13, 12, 20, 15, 6, 21, 13, 15, 13, 17, 10, 9, 12, 23, 16, 14, 14, 13]}],                        {\"boxmode\": \"group\", \"template\": {\"data\": {\"bar\": [{\"error_x\": {\"color\": \"#2a3f5f\"}, \"error_y\": {\"color\": \"#2a3f5f\"}, \"marker\": {\"line\": {\"color\": \"#E5ECF6\", \"width\": 0.5}}, \"type\": \"bar\"}], \"barpolar\": [{\"marker\": {\"line\": {\"color\": \"#E5ECF6\", \"width\": 0.5}}, \"type\": \"barpolar\"}], \"carpet\": [{\"aaxis\": {\"endlinecolor\": \"#2a3f5f\", \"gridcolor\": \"white\", \"linecolor\": \"white\", \"minorgridcolor\": \"white\", \"startlinecolor\": \"#2a3f5f\"}, \"baxis\": {\"endlinecolor\": \"#2a3f5f\", \"gridcolor\": \"white\", \"linecolor\": \"white\", \"minorgridcolor\": \"white\", \"startlinecolor\": \"#2a3f5f\"}, \"type\": \"carpet\"}], \"choropleth\": [{\"colorbar\": {\"outlinewidth\": 0, \"ticks\": \"\"}, \"type\": \"choropleth\"}], \"contour\": [{\"colorbar\": {\"outlinewidth\": 0, \"ticks\": \"\"}, \"colorscale\": [[0.0, \"#0d0887\"], [0.1111111111111111, \"#46039f\"], [0.2222222222222222, \"#7201a8\"], [0.3333333333333333, \"#9c179e\"], [0.4444444444444444, \"#bd3786\"], [0.5555555555555556, \"#d8576b\"], [0.6666666666666666, \"#ed7953\"], [0.7777777777777778, \"#fb9f3a\"], [0.8888888888888888, \"#fdca26\"], [1.0, \"#f0f921\"]], \"type\": \"contour\"}], \"contourcarpet\": [{\"colorbar\": {\"outlinewidth\": 0, \"ticks\": \"\"}, \"type\": \"contourcarpet\"}], \"heatmap\": [{\"colorbar\": {\"outlinewidth\": 0, \"ticks\": \"\"}, \"colorscale\": [[0.0, \"#0d0887\"], [0.1111111111111111, \"#46039f\"], [0.2222222222222222, \"#7201a8\"], [0.3333333333333333, \"#9c179e\"], [0.4444444444444444, \"#bd3786\"], [0.5555555555555556, \"#d8576b\"], [0.6666666666666666, \"#ed7953\"], [0.7777777777777778, \"#fb9f3a\"], [0.8888888888888888, \"#fdca26\"], [1.0, \"#f0f921\"]], \"type\": \"heatmap\"}], \"heatmapgl\": [{\"colorbar\": {\"outlinewidth\": 0, \"ticks\": \"\"}, \"colorscale\": [[0.0, \"#0d0887\"], [0.1111111111111111, \"#46039f\"], [0.2222222222222222, \"#7201a8\"], [0.3333333333333333, \"#9c179e\"], [0.4444444444444444, \"#bd3786\"], [0.5555555555555556, \"#d8576b\"], [0.6666666666666666, \"#ed7953\"], [0.7777777777777778, \"#fb9f3a\"], [0.8888888888888888, \"#fdca26\"], [1.0, \"#f0f921\"]], \"type\": \"heatmapgl\"}], \"histogram\": [{\"marker\": {\"colorbar\": {\"outlinewidth\": 0, \"ticks\": \"\"}}, \"type\": \"histogram\"}], \"histogram2d\": [{\"colorbar\": {\"outlinewidth\": 0, \"ticks\": \"\"}, \"colorscale\": [[0.0, \"#0d0887\"], [0.1111111111111111, \"#46039f\"], [0.2222222222222222, \"#7201a8\"], [0.3333333333333333, \"#9c179e\"], [0.4444444444444444, \"#bd3786\"], [0.5555555555555556, \"#d8576b\"], [0.6666666666666666, \"#ed7953\"], [0.7777777777777778, \"#fb9f3a\"], [0.8888888888888888, \"#fdca26\"], [1.0, \"#f0f921\"]], \"type\": \"histogram2d\"}], \"histogram2dcontour\": [{\"colorbar\": {\"outlinewidth\": 0, \"ticks\": \"\"}, \"colorscale\": [[0.0, \"#0d0887\"], [0.1111111111111111, \"#46039f\"], [0.2222222222222222, \"#7201a8\"], [0.3333333333333333, \"#9c179e\"], [0.4444444444444444, \"#bd3786\"], [0.5555555555555556, \"#d8576b\"], [0.6666666666666666, \"#ed7953\"], [0.7777777777777778, \"#fb9f3a\"], [0.8888888888888888, \"#fdca26\"], [1.0, \"#f0f921\"]], \"type\": \"histogram2dcontour\"}], \"mesh3d\": [{\"colorbar\": {\"outlinewidth\": 0, \"ticks\": \"\"}, \"type\": \"mesh3d\"}], \"parcoords\": [{\"line\": {\"colorbar\": {\"outlinewidth\": 0, \"ticks\": \"\"}}, \"type\": \"parcoords\"}], \"pie\": [{\"automargin\": true, \"type\": \"pie\"}], \"scatter\": [{\"marker\": {\"colorbar\": {\"outlinewidth\": 0, \"ticks\": \"\"}}, \"type\": \"scatter\"}], \"scatter3d\": [{\"line\": {\"colorbar\": {\"outlinewidth\": 0, \"ticks\": \"\"}}, \"marker\": {\"colorbar\": {\"outlinewidth\": 0, \"ticks\": \"\"}}, \"type\": \"scatter3d\"}], \"scattercarpet\": [{\"marker\": {\"colorbar\": {\"outlinewidth\": 0, \"ticks\": \"\"}}, \"type\": \"scattercarpet\"}], \"scattergeo\": [{\"marker\": {\"colorbar\": {\"outlinewidth\": 0, \"ticks\": \"\"}}, \"type\": \"scattergeo\"}], \"scattergl\": [{\"marker\": {\"colorbar\": {\"outlinewidth\": 0, \"ticks\": \"\"}}, \"type\": \"scattergl\"}], \"scattermapbox\": [{\"marker\": {\"colorbar\": {\"outlinewidth\": 0, \"ticks\": \"\"}}, \"type\": \"scattermapbox\"}], \"scatterpolar\": [{\"marker\": {\"colorbar\": {\"outlinewidth\": 0, \"ticks\": \"\"}}, \"type\": \"scatterpolar\"}], \"scatterpolargl\": [{\"marker\": {\"colorbar\": {\"outlinewidth\": 0, \"ticks\": \"\"}}, \"type\": \"scatterpolargl\"}], \"scatterternary\": [{\"marker\": {\"colorbar\": {\"outlinewidth\": 0, \"ticks\": \"\"}}, \"type\": \"scatterternary\"}], \"surface\": [{\"colorbar\": {\"outlinewidth\": 0, \"ticks\": \"\"}, \"colorscale\": [[0.0, \"#0d0887\"], [0.1111111111111111, \"#46039f\"], [0.2222222222222222, \"#7201a8\"], [0.3333333333333333, \"#9c179e\"], [0.4444444444444444, \"#bd3786\"], [0.5555555555555556, \"#d8576b\"], [0.6666666666666666, \"#ed7953\"], [0.7777777777777778, \"#fb9f3a\"], [0.8888888888888888, \"#fdca26\"], [1.0, \"#f0f921\"]], \"type\": \"surface\"}], \"table\": [{\"cells\": {\"fill\": {\"color\": \"#EBF0F8\"}, \"line\": {\"color\": \"white\"}}, \"header\": {\"fill\": {\"color\": \"#C8D4E3\"}, \"line\": {\"color\": \"white\"}}, \"type\": \"table\"}]}, \"layout\": {\"annotationdefaults\": {\"arrowcolor\": \"#2a3f5f\", \"arrowhead\": 0, \"arrowwidth\": 1}, \"coloraxis\": {\"colorbar\": {\"outlinewidth\": 0, \"ticks\": \"\"}}, \"colorscale\": {\"diverging\": [[0, \"#8e0152\"], [0.1, \"#c51b7d\"], [0.2, \"#de77ae\"], [0.3, \"#f1b6da\"], [0.4, \"#fde0ef\"], [0.5, \"#f7f7f7\"], [0.6, \"#e6f5d0\"], [0.7, \"#b8e186\"], [0.8, \"#7fbc41\"], [0.9, \"#4d9221\"], [1, \"#276419\"]], \"sequential\": [[0.0, \"#0d0887\"], [0.1111111111111111, \"#46039f\"], [0.2222222222222222, \"#7201a8\"], [0.3333333333333333, \"#9c179e\"], [0.4444444444444444, \"#bd3786\"], [0.5555555555555556, \"#d8576b\"], [0.6666666666666666, \"#ed7953\"], [0.7777777777777778, \"#fb9f3a\"], [0.8888888888888888, \"#fdca26\"], [1.0, \"#f0f921\"]], \"sequentialminus\": [[0.0, \"#0d0887\"], [0.1111111111111111, \"#46039f\"], [0.2222222222222222, \"#7201a8\"], [0.3333333333333333, \"#9c179e\"], [0.4444444444444444, \"#bd3786\"], [0.5555555555555556, \"#d8576b\"], [0.6666666666666666, \"#ed7953\"], [0.7777777777777778, \"#fb9f3a\"], [0.8888888888888888, \"#fdca26\"], [1.0, \"#f0f921\"]]}, \"colorway\": [\"#636efa\", \"#EF553B\", \"#00cc96\", \"#ab63fa\", \"#FFA15A\", \"#19d3f3\", \"#FF6692\", \"#B6E880\", \"#FF97FF\", \"#FECB52\"], \"font\": {\"color\": \"#2a3f5f\"}, \"geo\": {\"bgcolor\": \"white\", \"lakecolor\": \"white\", \"landcolor\": \"#E5ECF6\", \"showlakes\": true, \"showland\": true, \"subunitcolor\": \"white\"}, \"hoverlabel\": {\"align\": \"left\"}, \"hovermode\": \"closest\", \"mapbox\": {\"style\": \"light\"}, \"paper_bgcolor\": \"white\", \"plot_bgcolor\": \"#E5ECF6\", \"polar\": {\"angularaxis\": {\"gridcolor\": \"white\", \"linecolor\": \"white\", \"ticks\": \"\"}, \"bgcolor\": \"#E5ECF6\", \"radialaxis\": {\"gridcolor\": \"white\", \"linecolor\": \"white\", \"ticks\": \"\"}}, \"scene\": {\"xaxis\": {\"backgroundcolor\": \"#E5ECF6\", \"gridcolor\": \"white\", \"gridwidth\": 2, \"linecolor\": \"white\", \"showbackground\": true, \"ticks\": \"\", \"zerolinecolor\": \"white\"}, \"yaxis\": {\"backgroundcolor\": \"#E5ECF6\", \"gridcolor\": \"white\", \"gridwidth\": 2, \"linecolor\": \"white\", \"showbackground\": true, \"ticks\": \"\", \"zerolinecolor\": \"white\"}, \"zaxis\": {\"backgroundcolor\": \"#E5ECF6\", \"gridcolor\": \"white\", \"gridwidth\": 2, \"linecolor\": \"white\", \"showbackground\": true, \"ticks\": \"\", \"zerolinecolor\": \"white\"}}, \"shapedefaults\": {\"line\": {\"color\": \"#2a3f5f\"}}, \"ternary\": {\"aaxis\": {\"gridcolor\": \"white\", \"linecolor\": \"white\", \"ticks\": \"\"}, \"baxis\": {\"gridcolor\": \"white\", \"linecolor\": \"white\", \"ticks\": \"\"}, \"bgcolor\": \"#E5ECF6\", \"caxis\": {\"gridcolor\": \"white\", \"linecolor\": \"white\", \"ticks\": \"\"}}, \"title\": {\"x\": 0.05}, \"xaxis\": {\"automargin\": true, \"gridcolor\": \"white\", \"linecolor\": \"white\", \"ticks\": \"\", \"title\": {\"standoff\": 15}, \"zerolinecolor\": \"white\", \"zerolinewidth\": 2}, \"yaxis\": {\"automargin\": true, \"gridcolor\": \"white\", \"linecolor\": \"white\", \"ticks\": \"\", \"title\": {\"standoff\": 15}, \"zerolinecolor\": \"white\", \"zerolinewidth\": 2}}}, \"title\": {\"text\": \"Carbohydrate level distribution change in common products between 1993 and 2020\"}, \"xaxis\": {\"title\": {\"text\": \"Years\"}}, \"yaxis\": {\"title\": {\"text\": \"Carbohydrate (grams/ounce)\"}}},                        {\"responsive\": true}                    ).then(function(){\n",
       "                            \n",
       "var gd = document.getElementById('c46d964f-87ad-4a32-9c4a-64b47b4ab651');\n",
       "var x = new MutationObserver(function (mutations, observer) {{\n",
       "        var display = window.getComputedStyle(gd).display;\n",
       "        if (!display || display === 'none') {{\n",
       "            console.log([gd, 'removed!']);\n",
       "            Plotly.purge(gd);\n",
       "            observer.disconnect();\n",
       "        }}\n",
       "}});\n",
       "\n",
       "// Listen for the removal of the full notebook cells\n",
       "var notebookContainer = gd.closest('#notebook-container');\n",
       "if (notebookContainer) {{\n",
       "    x.observe(notebookContainer, {childList: true});\n",
       "}}\n",
       "\n",
       "// Listen for the clearing of the current output cell\n",
       "var outputEl = gd.closest('.output');\n",
       "if (outputEl) {{\n",
       "    x.observe(outputEl, {childList: true});\n",
       "}}\n",
       "\n",
       "                        })                };                });            </script>        </div>"
      ]
     },
     "metadata": {},
     "output_type": "display_data"
    },
    {
     "data": {
      "application/vnd.plotly.v1+json": {
       "config": {
        "plotlyServerURL": "https://plotly.com"
       },
       "data": [
        {
         "marker": {
          "line": {
           "width": 0
          },
          "size": 12
         },
         "mode": "lines+markers",
         "name": "1993",
         "type": "scatter",
         "x": [
          "All-Bran",
          "Apple Jacks",
          "Basic 4",
          "Cocoa Puffs",
          "Corn Flakes",
          "Corn Pops",
          "Cracklin' Oat Bran",
          "Crispix",
          "Froot Loops",
          "Frosted Flakes",
          "Golden Grahams",
          "Kix",
          "Oatmeal Raisin Crisp",
          "Raisin Bran",
          "Raisin Nut Bran",
          "Rice Krispies",
          "Special K",
          "Total Whole Grain",
          "Trix",
          "Wheaties"
         ],
         "y": [
          5,
          14,
          6,
          13,
          2,
          12,
          7,
          3,
          13,
          11,
          9,
          3,
          8,
          9,
          8,
          3,
          3,
          3,
          12,
          3
         ]
        },
        {
         "marker": {
          "line": {
           "width": 0
          },
          "size": 12
         },
         "mode": "lines+markers",
         "name": "2020",
         "type": "scatter",
         "x": [
          "All-Bran",
          "Apple Jacks",
          "Basic 4",
          "Cocoa Puffs",
          "Corn Flakes",
          "Corn Pops",
          "Cracklin' Oat Bran",
          "Crispix",
          "Froot Loops",
          "Frosted Flakes",
          "Golden Grahams",
          "Kix",
          "Oatmeal Raisin Crisp",
          "Raisin Bran",
          "Raisin Nut Bran",
          "Rice Krispies",
          "Special K",
          "Total Whole Grain",
          "Trix",
          "Wheaties"
         ],
         "y": [
          5,
          10,
          6,
          9,
          3,
          11,
          8,
          4,
          9,
          9,
          9,
          3,
          6,
          9,
          8,
          3,
          4,
          4,
          9,
          4
         ]
        }
       ],
       "layout": {
        "showlegend": true,
        "template": {
         "data": {
          "bar": [
           {
            "error_x": {
             "color": "#2a3f5f"
            },
            "error_y": {
             "color": "#2a3f5f"
            },
            "marker": {
             "line": {
              "color": "#E5ECF6",
              "width": 0.5
             }
            },
            "type": "bar"
           }
          ],
          "barpolar": [
           {
            "marker": {
             "line": {
              "color": "#E5ECF6",
              "width": 0.5
             }
            },
            "type": "barpolar"
           }
          ],
          "carpet": [
           {
            "aaxis": {
             "endlinecolor": "#2a3f5f",
             "gridcolor": "white",
             "linecolor": "white",
             "minorgridcolor": "white",
             "startlinecolor": "#2a3f5f"
            },
            "baxis": {
             "endlinecolor": "#2a3f5f",
             "gridcolor": "white",
             "linecolor": "white",
             "minorgridcolor": "white",
             "startlinecolor": "#2a3f5f"
            },
            "type": "carpet"
           }
          ],
          "choropleth": [
           {
            "colorbar": {
             "outlinewidth": 0,
             "ticks": ""
            },
            "type": "choropleth"
           }
          ],
          "contour": [
           {
            "colorbar": {
             "outlinewidth": 0,
             "ticks": ""
            },
            "colorscale": [
             [
              0,
              "#0d0887"
             ],
             [
              0.1111111111111111,
              "#46039f"
             ],
             [
              0.2222222222222222,
              "#7201a8"
             ],
             [
              0.3333333333333333,
              "#9c179e"
             ],
             [
              0.4444444444444444,
              "#bd3786"
             ],
             [
              0.5555555555555556,
              "#d8576b"
             ],
             [
              0.6666666666666666,
              "#ed7953"
             ],
             [
              0.7777777777777778,
              "#fb9f3a"
             ],
             [
              0.8888888888888888,
              "#fdca26"
             ],
             [
              1,
              "#f0f921"
             ]
            ],
            "type": "contour"
           }
          ],
          "contourcarpet": [
           {
            "colorbar": {
             "outlinewidth": 0,
             "ticks": ""
            },
            "type": "contourcarpet"
           }
          ],
          "heatmap": [
           {
            "colorbar": {
             "outlinewidth": 0,
             "ticks": ""
            },
            "colorscale": [
             [
              0,
              "#0d0887"
             ],
             [
              0.1111111111111111,
              "#46039f"
             ],
             [
              0.2222222222222222,
              "#7201a8"
             ],
             [
              0.3333333333333333,
              "#9c179e"
             ],
             [
              0.4444444444444444,
              "#bd3786"
             ],
             [
              0.5555555555555556,
              "#d8576b"
             ],
             [
              0.6666666666666666,
              "#ed7953"
             ],
             [
              0.7777777777777778,
              "#fb9f3a"
             ],
             [
              0.8888888888888888,
              "#fdca26"
             ],
             [
              1,
              "#f0f921"
             ]
            ],
            "type": "heatmap"
           }
          ],
          "heatmapgl": [
           {
            "colorbar": {
             "outlinewidth": 0,
             "ticks": ""
            },
            "colorscale": [
             [
              0,
              "#0d0887"
             ],
             [
              0.1111111111111111,
              "#46039f"
             ],
             [
              0.2222222222222222,
              "#7201a8"
             ],
             [
              0.3333333333333333,
              "#9c179e"
             ],
             [
              0.4444444444444444,
              "#bd3786"
             ],
             [
              0.5555555555555556,
              "#d8576b"
             ],
             [
              0.6666666666666666,
              "#ed7953"
             ],
             [
              0.7777777777777778,
              "#fb9f3a"
             ],
             [
              0.8888888888888888,
              "#fdca26"
             ],
             [
              1,
              "#f0f921"
             ]
            ],
            "type": "heatmapgl"
           }
          ],
          "histogram": [
           {
            "marker": {
             "colorbar": {
              "outlinewidth": 0,
              "ticks": ""
             }
            },
            "type": "histogram"
           }
          ],
          "histogram2d": [
           {
            "colorbar": {
             "outlinewidth": 0,
             "ticks": ""
            },
            "colorscale": [
             [
              0,
              "#0d0887"
             ],
             [
              0.1111111111111111,
              "#46039f"
             ],
             [
              0.2222222222222222,
              "#7201a8"
             ],
             [
              0.3333333333333333,
              "#9c179e"
             ],
             [
              0.4444444444444444,
              "#bd3786"
             ],
             [
              0.5555555555555556,
              "#d8576b"
             ],
             [
              0.6666666666666666,
              "#ed7953"
             ],
             [
              0.7777777777777778,
              "#fb9f3a"
             ],
             [
              0.8888888888888888,
              "#fdca26"
             ],
             [
              1,
              "#f0f921"
             ]
            ],
            "type": "histogram2d"
           }
          ],
          "histogram2dcontour": [
           {
            "colorbar": {
             "outlinewidth": 0,
             "ticks": ""
            },
            "colorscale": [
             [
              0,
              "#0d0887"
             ],
             [
              0.1111111111111111,
              "#46039f"
             ],
             [
              0.2222222222222222,
              "#7201a8"
             ],
             [
              0.3333333333333333,
              "#9c179e"
             ],
             [
              0.4444444444444444,
              "#bd3786"
             ],
             [
              0.5555555555555556,
              "#d8576b"
             ],
             [
              0.6666666666666666,
              "#ed7953"
             ],
             [
              0.7777777777777778,
              "#fb9f3a"
             ],
             [
              0.8888888888888888,
              "#fdca26"
             ],
             [
              1,
              "#f0f921"
             ]
            ],
            "type": "histogram2dcontour"
           }
          ],
          "mesh3d": [
           {
            "colorbar": {
             "outlinewidth": 0,
             "ticks": ""
            },
            "type": "mesh3d"
           }
          ],
          "parcoords": [
           {
            "line": {
             "colorbar": {
              "outlinewidth": 0,
              "ticks": ""
             }
            },
            "type": "parcoords"
           }
          ],
          "pie": [
           {
            "automargin": true,
            "type": "pie"
           }
          ],
          "scatter": [
           {
            "marker": {
             "colorbar": {
              "outlinewidth": 0,
              "ticks": ""
             }
            },
            "type": "scatter"
           }
          ],
          "scatter3d": [
           {
            "line": {
             "colorbar": {
              "outlinewidth": 0,
              "ticks": ""
             }
            },
            "marker": {
             "colorbar": {
              "outlinewidth": 0,
              "ticks": ""
             }
            },
            "type": "scatter3d"
           }
          ],
          "scattercarpet": [
           {
            "marker": {
             "colorbar": {
              "outlinewidth": 0,
              "ticks": ""
             }
            },
            "type": "scattercarpet"
           }
          ],
          "scattergeo": [
           {
            "marker": {
             "colorbar": {
              "outlinewidth": 0,
              "ticks": ""
             }
            },
            "type": "scattergeo"
           }
          ],
          "scattergl": [
           {
            "marker": {
             "colorbar": {
              "outlinewidth": 0,
              "ticks": ""
             }
            },
            "type": "scattergl"
           }
          ],
          "scattermapbox": [
           {
            "marker": {
             "colorbar": {
              "outlinewidth": 0,
              "ticks": ""
             }
            },
            "type": "scattermapbox"
           }
          ],
          "scatterpolar": [
           {
            "marker": {
             "colorbar": {
              "outlinewidth": 0,
              "ticks": ""
             }
            },
            "type": "scatterpolar"
           }
          ],
          "scatterpolargl": [
           {
            "marker": {
             "colorbar": {
              "outlinewidth": 0,
              "ticks": ""
             }
            },
            "type": "scatterpolargl"
           }
          ],
          "scatterternary": [
           {
            "marker": {
             "colorbar": {
              "outlinewidth": 0,
              "ticks": ""
             }
            },
            "type": "scatterternary"
           }
          ],
          "surface": [
           {
            "colorbar": {
             "outlinewidth": 0,
             "ticks": ""
            },
            "colorscale": [
             [
              0,
              "#0d0887"
             ],
             [
              0.1111111111111111,
              "#46039f"
             ],
             [
              0.2222222222222222,
              "#7201a8"
             ],
             [
              0.3333333333333333,
              "#9c179e"
             ],
             [
              0.4444444444444444,
              "#bd3786"
             ],
             [
              0.5555555555555556,
              "#d8576b"
             ],
             [
              0.6666666666666666,
              "#ed7953"
             ],
             [
              0.7777777777777778,
              "#fb9f3a"
             ],
             [
              0.8888888888888888,
              "#fdca26"
             ],
             [
              1,
              "#f0f921"
             ]
            ],
            "type": "surface"
           }
          ],
          "table": [
           {
            "cells": {
             "fill": {
              "color": "#EBF0F8"
             },
             "line": {
              "color": "white"
             }
            },
            "header": {
             "fill": {
              "color": "#C8D4E3"
             },
             "line": {
              "color": "white"
             }
            },
            "type": "table"
           }
          ]
         },
         "layout": {
          "annotationdefaults": {
           "arrowcolor": "#2a3f5f",
           "arrowhead": 0,
           "arrowwidth": 1
          },
          "coloraxis": {
           "colorbar": {
            "outlinewidth": 0,
            "ticks": ""
           }
          },
          "colorscale": {
           "diverging": [
            [
             0,
             "#8e0152"
            ],
            [
             0.1,
             "#c51b7d"
            ],
            [
             0.2,
             "#de77ae"
            ],
            [
             0.3,
             "#f1b6da"
            ],
            [
             0.4,
             "#fde0ef"
            ],
            [
             0.5,
             "#f7f7f7"
            ],
            [
             0.6,
             "#e6f5d0"
            ],
            [
             0.7,
             "#b8e186"
            ],
            [
             0.8,
             "#7fbc41"
            ],
            [
             0.9,
             "#4d9221"
            ],
            [
             1,
             "#276419"
            ]
           ],
           "sequential": [
            [
             0,
             "#0d0887"
            ],
            [
             0.1111111111111111,
             "#46039f"
            ],
            [
             0.2222222222222222,
             "#7201a8"
            ],
            [
             0.3333333333333333,
             "#9c179e"
            ],
            [
             0.4444444444444444,
             "#bd3786"
            ],
            [
             0.5555555555555556,
             "#d8576b"
            ],
            [
             0.6666666666666666,
             "#ed7953"
            ],
            [
             0.7777777777777778,
             "#fb9f3a"
            ],
            [
             0.8888888888888888,
             "#fdca26"
            ],
            [
             1,
             "#f0f921"
            ]
           ],
           "sequentialminus": [
            [
             0,
             "#0d0887"
            ],
            [
             0.1111111111111111,
             "#46039f"
            ],
            [
             0.2222222222222222,
             "#7201a8"
            ],
            [
             0.3333333333333333,
             "#9c179e"
            ],
            [
             0.4444444444444444,
             "#bd3786"
            ],
            [
             0.5555555555555556,
             "#d8576b"
            ],
            [
             0.6666666666666666,
             "#ed7953"
            ],
            [
             0.7777777777777778,
             "#fb9f3a"
            ],
            [
             0.8888888888888888,
             "#fdca26"
            ],
            [
             1,
             "#f0f921"
            ]
           ]
          },
          "colorway": [
           "#636efa",
           "#EF553B",
           "#00cc96",
           "#ab63fa",
           "#FFA15A",
           "#19d3f3",
           "#FF6692",
           "#B6E880",
           "#FF97FF",
           "#FECB52"
          ],
          "font": {
           "color": "#2a3f5f"
          },
          "geo": {
           "bgcolor": "white",
           "lakecolor": "white",
           "landcolor": "#E5ECF6",
           "showlakes": true,
           "showland": true,
           "subunitcolor": "white"
          },
          "hoverlabel": {
           "align": "left"
          },
          "hovermode": "closest",
          "mapbox": {
           "style": "light"
          },
          "paper_bgcolor": "white",
          "plot_bgcolor": "#E5ECF6",
          "polar": {
           "angularaxis": {
            "gridcolor": "white",
            "linecolor": "white",
            "ticks": ""
           },
           "bgcolor": "#E5ECF6",
           "radialaxis": {
            "gridcolor": "white",
            "linecolor": "white",
            "ticks": ""
           }
          },
          "scene": {
           "xaxis": {
            "backgroundcolor": "#E5ECF6",
            "gridcolor": "white",
            "gridwidth": 2,
            "linecolor": "white",
            "showbackground": true,
            "ticks": "",
            "zerolinecolor": "white"
           },
           "yaxis": {
            "backgroundcolor": "#E5ECF6",
            "gridcolor": "white",
            "gridwidth": 2,
            "linecolor": "white",
            "showbackground": true,
            "ticks": "",
            "zerolinecolor": "white"
           },
           "zaxis": {
            "backgroundcolor": "#E5ECF6",
            "gridcolor": "white",
            "gridwidth": 2,
            "linecolor": "white",
            "showbackground": true,
            "ticks": "",
            "zerolinecolor": "white"
           }
          },
          "shapedefaults": {
           "line": {
            "color": "#2a3f5f"
           }
          },
          "ternary": {
           "aaxis": {
            "gridcolor": "white",
            "linecolor": "white",
            "ticks": ""
           },
           "baxis": {
            "gridcolor": "white",
            "linecolor": "white",
            "ticks": ""
           },
           "bgcolor": "#E5ECF6",
           "caxis": {
            "gridcolor": "white",
            "linecolor": "white",
            "ticks": ""
           }
          },
          "title": {
           "x": 0.05
          },
          "xaxis": {
           "automargin": true,
           "gridcolor": "white",
           "linecolor": "white",
           "ticks": "",
           "title": {
            "standoff": 15
           },
           "zerolinecolor": "white",
           "zerolinewidth": 2
          },
          "yaxis": {
           "automargin": true,
           "gridcolor": "white",
           "linecolor": "white",
           "ticks": "",
           "title": {
            "standoff": 15
           },
           "zerolinecolor": "white",
           "zerolinewidth": 2
          }
         }
        },
        "title": {
         "text": "Sugar levels of common cereals in 1993 and 2020"
        },
        "xaxis": {
         "title": {
          "text": "Common Cereals"
         }
        },
        "yaxis": {
         "title": {
          "text": "Sugar (grams/ounce)"
         }
        }
       }
      },
      "text/html": [
       "<div>                            <div id=\"7e4f4455-715a-4745-8a25-bcb0bdfd7de5\" class=\"plotly-graph-div\" style=\"height:525px; width:100%;\"></div>            <script type=\"text/javascript\">                require([\"plotly\"], function(Plotly) {                    window.PLOTLYENV=window.PLOTLYENV || {};                                    if (document.getElementById(\"7e4f4455-715a-4745-8a25-bcb0bdfd7de5\")) {                    Plotly.newPlot(                        \"7e4f4455-715a-4745-8a25-bcb0bdfd7de5\",                        [{\"marker\": {\"line\": {\"width\": 0}, \"size\": 12}, \"mode\": \"lines+markers\", \"name\": \"1993\", \"type\": \"scatter\", \"x\": [\"All-Bran\", \"Apple Jacks\", \"Basic 4\", \"Cocoa Puffs\", \"Corn Flakes\", \"Corn Pops\", \"Cracklin' Oat Bran\", \"Crispix\", \"Froot Loops\", \"Frosted Flakes\", \"Golden Grahams\", \"Kix\", \"Oatmeal Raisin Crisp\", \"Raisin Bran\", \"Raisin Nut Bran\", \"Rice Krispies\", \"Special K\", \"Total Whole Grain\", \"Trix\", \"Wheaties\"], \"y\": [5, 14, 6, 13, 2, 12, 7, 3, 13, 11, 9, 3, 8, 9, 8, 3, 3, 3, 12, 3]}, {\"marker\": {\"line\": {\"width\": 0}, \"size\": 12}, \"mode\": \"lines+markers\", \"name\": \"2020\", \"type\": \"scatter\", \"x\": [\"All-Bran\", \"Apple Jacks\", \"Basic 4\", \"Cocoa Puffs\", \"Corn Flakes\", \"Corn Pops\", \"Cracklin' Oat Bran\", \"Crispix\", \"Froot Loops\", \"Frosted Flakes\", \"Golden Grahams\", \"Kix\", \"Oatmeal Raisin Crisp\", \"Raisin Bran\", \"Raisin Nut Bran\", \"Rice Krispies\", \"Special K\", \"Total Whole Grain\", \"Trix\", \"Wheaties\"], \"y\": [5, 10, 6, 9, 3, 11, 8, 4, 9, 9, 9, 3, 6, 9, 8, 3, 4, 4, 9, 4]}],                        {\"showlegend\": true, \"template\": {\"data\": {\"bar\": [{\"error_x\": {\"color\": \"#2a3f5f\"}, \"error_y\": {\"color\": \"#2a3f5f\"}, \"marker\": {\"line\": {\"color\": \"#E5ECF6\", \"width\": 0.5}}, \"type\": \"bar\"}], \"barpolar\": [{\"marker\": {\"line\": {\"color\": \"#E5ECF6\", \"width\": 0.5}}, \"type\": \"barpolar\"}], \"carpet\": [{\"aaxis\": {\"endlinecolor\": \"#2a3f5f\", \"gridcolor\": \"white\", \"linecolor\": \"white\", \"minorgridcolor\": \"white\", \"startlinecolor\": \"#2a3f5f\"}, \"baxis\": {\"endlinecolor\": \"#2a3f5f\", \"gridcolor\": \"white\", \"linecolor\": \"white\", \"minorgridcolor\": \"white\", \"startlinecolor\": \"#2a3f5f\"}, \"type\": \"carpet\"}], \"choropleth\": [{\"colorbar\": {\"outlinewidth\": 0, \"ticks\": \"\"}, \"type\": \"choropleth\"}], \"contour\": [{\"colorbar\": {\"outlinewidth\": 0, \"ticks\": \"\"}, \"colorscale\": [[0.0, \"#0d0887\"], [0.1111111111111111, \"#46039f\"], [0.2222222222222222, \"#7201a8\"], [0.3333333333333333, \"#9c179e\"], [0.4444444444444444, \"#bd3786\"], [0.5555555555555556, \"#d8576b\"], [0.6666666666666666, \"#ed7953\"], [0.7777777777777778, \"#fb9f3a\"], [0.8888888888888888, \"#fdca26\"], [1.0, \"#f0f921\"]], \"type\": \"contour\"}], \"contourcarpet\": [{\"colorbar\": {\"outlinewidth\": 0, \"ticks\": \"\"}, \"type\": \"contourcarpet\"}], \"heatmap\": [{\"colorbar\": {\"outlinewidth\": 0, \"ticks\": \"\"}, \"colorscale\": [[0.0, \"#0d0887\"], [0.1111111111111111, \"#46039f\"], [0.2222222222222222, \"#7201a8\"], [0.3333333333333333, \"#9c179e\"], [0.4444444444444444, \"#bd3786\"], [0.5555555555555556, \"#d8576b\"], [0.6666666666666666, \"#ed7953\"], [0.7777777777777778, \"#fb9f3a\"], [0.8888888888888888, \"#fdca26\"], [1.0, \"#f0f921\"]], \"type\": \"heatmap\"}], \"heatmapgl\": [{\"colorbar\": {\"outlinewidth\": 0, \"ticks\": \"\"}, \"colorscale\": [[0.0, \"#0d0887\"], [0.1111111111111111, \"#46039f\"], [0.2222222222222222, \"#7201a8\"], [0.3333333333333333, \"#9c179e\"], [0.4444444444444444, \"#bd3786\"], [0.5555555555555556, \"#d8576b\"], [0.6666666666666666, \"#ed7953\"], [0.7777777777777778, \"#fb9f3a\"], [0.8888888888888888, \"#fdca26\"], [1.0, \"#f0f921\"]], \"type\": \"heatmapgl\"}], \"histogram\": [{\"marker\": {\"colorbar\": {\"outlinewidth\": 0, \"ticks\": \"\"}}, \"type\": \"histogram\"}], \"histogram2d\": [{\"colorbar\": {\"outlinewidth\": 0, \"ticks\": \"\"}, \"colorscale\": [[0.0, \"#0d0887\"], [0.1111111111111111, \"#46039f\"], [0.2222222222222222, \"#7201a8\"], [0.3333333333333333, \"#9c179e\"], [0.4444444444444444, \"#bd3786\"], [0.5555555555555556, \"#d8576b\"], [0.6666666666666666, \"#ed7953\"], [0.7777777777777778, \"#fb9f3a\"], [0.8888888888888888, \"#fdca26\"], [1.0, \"#f0f921\"]], \"type\": \"histogram2d\"}], \"histogram2dcontour\": [{\"colorbar\": {\"outlinewidth\": 0, \"ticks\": \"\"}, \"colorscale\": [[0.0, \"#0d0887\"], [0.1111111111111111, \"#46039f\"], [0.2222222222222222, \"#7201a8\"], [0.3333333333333333, \"#9c179e\"], [0.4444444444444444, \"#bd3786\"], [0.5555555555555556, \"#d8576b\"], [0.6666666666666666, \"#ed7953\"], [0.7777777777777778, \"#fb9f3a\"], [0.8888888888888888, \"#fdca26\"], [1.0, \"#f0f921\"]], \"type\": \"histogram2dcontour\"}], \"mesh3d\": [{\"colorbar\": {\"outlinewidth\": 0, \"ticks\": \"\"}, \"type\": \"mesh3d\"}], \"parcoords\": [{\"line\": {\"colorbar\": {\"outlinewidth\": 0, \"ticks\": \"\"}}, \"type\": \"parcoords\"}], \"pie\": [{\"automargin\": true, \"type\": \"pie\"}], \"scatter\": [{\"marker\": {\"colorbar\": {\"outlinewidth\": 0, \"ticks\": \"\"}}, \"type\": \"scatter\"}], \"scatter3d\": [{\"line\": {\"colorbar\": {\"outlinewidth\": 0, \"ticks\": \"\"}}, \"marker\": {\"colorbar\": {\"outlinewidth\": 0, \"ticks\": \"\"}}, \"type\": \"scatter3d\"}], \"scattercarpet\": [{\"marker\": {\"colorbar\": {\"outlinewidth\": 0, \"ticks\": \"\"}}, \"type\": \"scattercarpet\"}], \"scattergeo\": [{\"marker\": {\"colorbar\": {\"outlinewidth\": 0, \"ticks\": \"\"}}, \"type\": \"scattergeo\"}], \"scattergl\": [{\"marker\": {\"colorbar\": {\"outlinewidth\": 0, \"ticks\": \"\"}}, \"type\": \"scattergl\"}], \"scattermapbox\": [{\"marker\": {\"colorbar\": {\"outlinewidth\": 0, \"ticks\": \"\"}}, \"type\": \"scattermapbox\"}], \"scatterpolar\": [{\"marker\": {\"colorbar\": {\"outlinewidth\": 0, \"ticks\": \"\"}}, \"type\": \"scatterpolar\"}], \"scatterpolargl\": [{\"marker\": {\"colorbar\": {\"outlinewidth\": 0, \"ticks\": \"\"}}, \"type\": \"scatterpolargl\"}], \"scatterternary\": [{\"marker\": {\"colorbar\": {\"outlinewidth\": 0, \"ticks\": \"\"}}, \"type\": \"scatterternary\"}], \"surface\": [{\"colorbar\": {\"outlinewidth\": 0, \"ticks\": \"\"}, \"colorscale\": [[0.0, \"#0d0887\"], [0.1111111111111111, \"#46039f\"], [0.2222222222222222, \"#7201a8\"], [0.3333333333333333, \"#9c179e\"], [0.4444444444444444, \"#bd3786\"], [0.5555555555555556, \"#d8576b\"], [0.6666666666666666, \"#ed7953\"], [0.7777777777777778, \"#fb9f3a\"], [0.8888888888888888, \"#fdca26\"], [1.0, \"#f0f921\"]], \"type\": \"surface\"}], \"table\": [{\"cells\": {\"fill\": {\"color\": \"#EBF0F8\"}, \"line\": {\"color\": \"white\"}}, \"header\": {\"fill\": {\"color\": \"#C8D4E3\"}, \"line\": {\"color\": \"white\"}}, \"type\": \"table\"}]}, \"layout\": {\"annotationdefaults\": {\"arrowcolor\": \"#2a3f5f\", \"arrowhead\": 0, \"arrowwidth\": 1}, \"coloraxis\": {\"colorbar\": {\"outlinewidth\": 0, \"ticks\": \"\"}}, \"colorscale\": {\"diverging\": [[0, \"#8e0152\"], [0.1, \"#c51b7d\"], [0.2, \"#de77ae\"], [0.3, \"#f1b6da\"], [0.4, \"#fde0ef\"], [0.5, \"#f7f7f7\"], [0.6, \"#e6f5d0\"], [0.7, \"#b8e186\"], [0.8, \"#7fbc41\"], [0.9, \"#4d9221\"], [1, \"#276419\"]], \"sequential\": [[0.0, \"#0d0887\"], [0.1111111111111111, \"#46039f\"], [0.2222222222222222, \"#7201a8\"], [0.3333333333333333, \"#9c179e\"], [0.4444444444444444, \"#bd3786\"], [0.5555555555555556, \"#d8576b\"], [0.6666666666666666, \"#ed7953\"], [0.7777777777777778, \"#fb9f3a\"], [0.8888888888888888, \"#fdca26\"], [1.0, \"#f0f921\"]], \"sequentialminus\": [[0.0, \"#0d0887\"], [0.1111111111111111, \"#46039f\"], [0.2222222222222222, \"#7201a8\"], [0.3333333333333333, \"#9c179e\"], [0.4444444444444444, \"#bd3786\"], [0.5555555555555556, \"#d8576b\"], [0.6666666666666666, \"#ed7953\"], [0.7777777777777778, \"#fb9f3a\"], [0.8888888888888888, \"#fdca26\"], [1.0, \"#f0f921\"]]}, \"colorway\": [\"#636efa\", \"#EF553B\", \"#00cc96\", \"#ab63fa\", \"#FFA15A\", \"#19d3f3\", \"#FF6692\", \"#B6E880\", \"#FF97FF\", \"#FECB52\"], \"font\": {\"color\": \"#2a3f5f\"}, \"geo\": {\"bgcolor\": \"white\", \"lakecolor\": \"white\", \"landcolor\": \"#E5ECF6\", \"showlakes\": true, \"showland\": true, \"subunitcolor\": \"white\"}, \"hoverlabel\": {\"align\": \"left\"}, \"hovermode\": \"closest\", \"mapbox\": {\"style\": \"light\"}, \"paper_bgcolor\": \"white\", \"plot_bgcolor\": \"#E5ECF6\", \"polar\": {\"angularaxis\": {\"gridcolor\": \"white\", \"linecolor\": \"white\", \"ticks\": \"\"}, \"bgcolor\": \"#E5ECF6\", \"radialaxis\": {\"gridcolor\": \"white\", \"linecolor\": \"white\", \"ticks\": \"\"}}, \"scene\": {\"xaxis\": {\"backgroundcolor\": \"#E5ECF6\", \"gridcolor\": \"white\", \"gridwidth\": 2, \"linecolor\": \"white\", \"showbackground\": true, \"ticks\": \"\", \"zerolinecolor\": \"white\"}, \"yaxis\": {\"backgroundcolor\": \"#E5ECF6\", \"gridcolor\": \"white\", \"gridwidth\": 2, \"linecolor\": \"white\", \"showbackground\": true, \"ticks\": \"\", \"zerolinecolor\": \"white\"}, \"zaxis\": {\"backgroundcolor\": \"#E5ECF6\", \"gridcolor\": \"white\", \"gridwidth\": 2, \"linecolor\": \"white\", \"showbackground\": true, \"ticks\": \"\", \"zerolinecolor\": \"white\"}}, \"shapedefaults\": {\"line\": {\"color\": \"#2a3f5f\"}}, \"ternary\": {\"aaxis\": {\"gridcolor\": \"white\", \"linecolor\": \"white\", \"ticks\": \"\"}, \"baxis\": {\"gridcolor\": \"white\", \"linecolor\": \"white\", \"ticks\": \"\"}, \"bgcolor\": \"#E5ECF6\", \"caxis\": {\"gridcolor\": \"white\", \"linecolor\": \"white\", \"ticks\": \"\"}}, \"title\": {\"x\": 0.05}, \"xaxis\": {\"automargin\": true, \"gridcolor\": \"white\", \"linecolor\": \"white\", \"ticks\": \"\", \"title\": {\"standoff\": 15}, \"zerolinecolor\": \"white\", \"zerolinewidth\": 2}, \"yaxis\": {\"automargin\": true, \"gridcolor\": \"white\", \"linecolor\": \"white\", \"ticks\": \"\", \"title\": {\"standoff\": 15}, \"zerolinecolor\": \"white\", \"zerolinewidth\": 2}}}, \"title\": {\"text\": \"Sugar levels of common cereals in 1993 and 2020\"}, \"xaxis\": {\"title\": {\"text\": \"Common Cereals\"}}, \"yaxis\": {\"title\": {\"text\": \"Sugar (grams/ounce)\"}}},                        {\"responsive\": true}                    ).then(function(){\n",
       "                            \n",
       "var gd = document.getElementById('7e4f4455-715a-4745-8a25-bcb0bdfd7de5');\n",
       "var x = new MutationObserver(function (mutations, observer) {{\n",
       "        var display = window.getComputedStyle(gd).display;\n",
       "        if (!display || display === 'none') {{\n",
       "            console.log([gd, 'removed!']);\n",
       "            Plotly.purge(gd);\n",
       "            observer.disconnect();\n",
       "        }}\n",
       "}});\n",
       "\n",
       "// Listen for the removal of the full notebook cells\n",
       "var notebookContainer = gd.closest('#notebook-container');\n",
       "if (notebookContainer) {{\n",
       "    x.observe(notebookContainer, {childList: true});\n",
       "}}\n",
       "\n",
       "// Listen for the clearing of the current output cell\n",
       "var outputEl = gd.closest('.output');\n",
       "if (outputEl) {{\n",
       "    x.observe(outputEl, {childList: true});\n",
       "}}\n",
       "\n",
       "                        })                };                });            </script>        </div>"
      ]
     },
     "metadata": {},
     "output_type": "display_data"
    },
    {
     "data": {
      "application/vnd.plotly.v1+json": {
       "config": {
        "plotlyServerURL": "https://plotly.com"
       },
       "data": [
        {
         "boxpoints": "all",
         "name": "Sugar",
         "text": [
          "100% Bran",
          "100% Natural Bran",
          "All-Bran",
          "All-Bran with Extra Fiber",
          "Almond Delight",
          "Apple Cinnamon Cheerios",
          "Apple Jacks",
          "Basic 4",
          "Bran Chex",
          "Bran Flakes",
          "Cap'n'Crunch",
          "Cheerios",
          "Cinnamon Toast Crunch",
          "Clusters",
          "Cocoa Puffs",
          "Corn Chex",
          "Corn Flakes",
          "Corn Pops",
          "Count Chocula",
          "Cracklin' Oat Bran",
          "Cream of Wheat (Quick)",
          "Crispix",
          "Crispy Wheat & Raisins",
          "Double Chex",
          "Froot Loops",
          "Frosted Flakes",
          "Frosted Mini-Wheats",
          "Fruit & Fibre Dates",
          "Fruitful Bran",
          "Fruity Pebbles",
          "Golden Crisp",
          "Golden Grahams",
          "Grape Nuts Flakes",
          "Grape-Nuts",
          "Great Grains Pecan",
          "Honey Graham Ohs",
          "Honey Nut Cheerios",
          "Honey-comb",
          "Just Right Crunchy  Nuggets",
          "Just Right Fruit & Nut",
          "Kix",
          "Life",
          "Lucky Charms",
          "Maypo",
          "Dates & Almonds",
          "Peaches & Pecans",
          "Mueslix Crispy Blend",
          "Multi-Grain Cheerios",
          "Nut&Honey Crunch",
          "Nutri-Grain Almond-Raisin",
          "Nutri-grain Wheat",
          "Oatmeal Raisin Crisp",
          "Post Nat. Raisin Bran",
          "Product 19",
          "Puffed Rice",
          "Puffed Wheat",
          "Quaker Oat Squares",
          "Quaker Oatmeal",
          "Raisin Bran",
          "Raisin Nut Bran",
          "Raisin Squares",
          "Rice Chex",
          "Rice Krispies",
          "Shredded Wheat",
          "Shredded Wheat 'n'Bran",
          "Shredded Wheat spoon size",
          "Smacks",
          "Special K",
          "Strawberry Fruit Wheats",
          "Total Corn Flakes",
          "Total Raisin Bran",
          "Total Whole Grain",
          "Triples",
          "Trix",
          "Walnuts & Oats",
          "Wheat Chex",
          "Wheaties",
          "Wheaties Honey Gold",
          "All-Bran Complete Wheat Flakes Cereal",
          "Eggo",
          "Honey Smacks",
          "Krave Double Chocolate",
          "Peeps",
          "Smart Start",
          "Annie's Whole Grain Cereal",
          "Cascadian Farm Organic Raisin Bran",
          "Cheerios Multi Grain",
          "Chex Wheat Cereal",
          "Cookie Crisp",
          "Dunkaroos",
          "Fiber One",
          "Good Belly",
          "Larabar (Peanut Butter)",
          "Oatmeal Crisp",
          "Wonderworks (Peanut Butter)",
          "Ahold 100% Whole Grain",
          "Hannaford Frosted Flakes",
          "Martin's Food Lion",
          "Hannaford Tasteeos Cereal",
          "Ahold Vanilla Almond Cereal",
          "Kelloggs Special Fruit & Yogurt",
          "Kelloggs Special Original Cereal",
          "Quaker Life Cinnamon Multigrain",
          "Quaker Life Original Multigrain",
          "Quaker Life Ltd. Edition, Pumpkin Spice",
          "All-Bran",
          "Apple Jacks",
          "Basic 4",
          "Cocoa Puffs",
          "Corn Flakes",
          "Corn Pops",
          "Cracklin' Oat Bran",
          "Crispix",
          "Froot Loops",
          "Frosted Flakes",
          "Golden Grahams",
          "Kix",
          "Oatmeal Raisin Crisp",
          "Raisin Bran",
          "Raisin Nut Bran",
          "Rice Krispies",
          "Special K",
          "Total Whole Grain",
          "Trix",
          "Wheaties"
         ],
         "type": "box",
         "x": [
          1993,
          1993,
          1993,
          1993,
          1993,
          1993,
          1993,
          1993,
          1993,
          1993,
          1993,
          1993,
          1993,
          1993,
          1993,
          1993,
          1993,
          1993,
          1993,
          1993,
          2020,
          2020,
          2020,
          2020,
          2020,
          2020,
          2020,
          2020,
          2020,
          2020,
          2020,
          2020,
          2020,
          2020,
          2020,
          2020,
          2020,
          2020,
          2020,
          2020
         ],
         "y": [
          5,
          14,
          6,
          13,
          2,
          12,
          7,
          3,
          13,
          11,
          9,
          3,
          8,
          9,
          8,
          3,
          3,
          3,
          12,
          3,
          5,
          10,
          6,
          9,
          3,
          11,
          8,
          4,
          9,
          9,
          9,
          3,
          6,
          9,
          8,
          3,
          4,
          4,
          9,
          4
         ]
        }
       ],
       "layout": {
        "boxmode": "group",
        "template": {
         "data": {
          "bar": [
           {
            "error_x": {
             "color": "#2a3f5f"
            },
            "error_y": {
             "color": "#2a3f5f"
            },
            "marker": {
             "line": {
              "color": "#E5ECF6",
              "width": 0.5
             }
            },
            "type": "bar"
           }
          ],
          "barpolar": [
           {
            "marker": {
             "line": {
              "color": "#E5ECF6",
              "width": 0.5
             }
            },
            "type": "barpolar"
           }
          ],
          "carpet": [
           {
            "aaxis": {
             "endlinecolor": "#2a3f5f",
             "gridcolor": "white",
             "linecolor": "white",
             "minorgridcolor": "white",
             "startlinecolor": "#2a3f5f"
            },
            "baxis": {
             "endlinecolor": "#2a3f5f",
             "gridcolor": "white",
             "linecolor": "white",
             "minorgridcolor": "white",
             "startlinecolor": "#2a3f5f"
            },
            "type": "carpet"
           }
          ],
          "choropleth": [
           {
            "colorbar": {
             "outlinewidth": 0,
             "ticks": ""
            },
            "type": "choropleth"
           }
          ],
          "contour": [
           {
            "colorbar": {
             "outlinewidth": 0,
             "ticks": ""
            },
            "colorscale": [
             [
              0,
              "#0d0887"
             ],
             [
              0.1111111111111111,
              "#46039f"
             ],
             [
              0.2222222222222222,
              "#7201a8"
             ],
             [
              0.3333333333333333,
              "#9c179e"
             ],
             [
              0.4444444444444444,
              "#bd3786"
             ],
             [
              0.5555555555555556,
              "#d8576b"
             ],
             [
              0.6666666666666666,
              "#ed7953"
             ],
             [
              0.7777777777777778,
              "#fb9f3a"
             ],
             [
              0.8888888888888888,
              "#fdca26"
             ],
             [
              1,
              "#f0f921"
             ]
            ],
            "type": "contour"
           }
          ],
          "contourcarpet": [
           {
            "colorbar": {
             "outlinewidth": 0,
             "ticks": ""
            },
            "type": "contourcarpet"
           }
          ],
          "heatmap": [
           {
            "colorbar": {
             "outlinewidth": 0,
             "ticks": ""
            },
            "colorscale": [
             [
              0,
              "#0d0887"
             ],
             [
              0.1111111111111111,
              "#46039f"
             ],
             [
              0.2222222222222222,
              "#7201a8"
             ],
             [
              0.3333333333333333,
              "#9c179e"
             ],
             [
              0.4444444444444444,
              "#bd3786"
             ],
             [
              0.5555555555555556,
              "#d8576b"
             ],
             [
              0.6666666666666666,
              "#ed7953"
             ],
             [
              0.7777777777777778,
              "#fb9f3a"
             ],
             [
              0.8888888888888888,
              "#fdca26"
             ],
             [
              1,
              "#f0f921"
             ]
            ],
            "type": "heatmap"
           }
          ],
          "heatmapgl": [
           {
            "colorbar": {
             "outlinewidth": 0,
             "ticks": ""
            },
            "colorscale": [
             [
              0,
              "#0d0887"
             ],
             [
              0.1111111111111111,
              "#46039f"
             ],
             [
              0.2222222222222222,
              "#7201a8"
             ],
             [
              0.3333333333333333,
              "#9c179e"
             ],
             [
              0.4444444444444444,
              "#bd3786"
             ],
             [
              0.5555555555555556,
              "#d8576b"
             ],
             [
              0.6666666666666666,
              "#ed7953"
             ],
             [
              0.7777777777777778,
              "#fb9f3a"
             ],
             [
              0.8888888888888888,
              "#fdca26"
             ],
             [
              1,
              "#f0f921"
             ]
            ],
            "type": "heatmapgl"
           }
          ],
          "histogram": [
           {
            "marker": {
             "colorbar": {
              "outlinewidth": 0,
              "ticks": ""
             }
            },
            "type": "histogram"
           }
          ],
          "histogram2d": [
           {
            "colorbar": {
             "outlinewidth": 0,
             "ticks": ""
            },
            "colorscale": [
             [
              0,
              "#0d0887"
             ],
             [
              0.1111111111111111,
              "#46039f"
             ],
             [
              0.2222222222222222,
              "#7201a8"
             ],
             [
              0.3333333333333333,
              "#9c179e"
             ],
             [
              0.4444444444444444,
              "#bd3786"
             ],
             [
              0.5555555555555556,
              "#d8576b"
             ],
             [
              0.6666666666666666,
              "#ed7953"
             ],
             [
              0.7777777777777778,
              "#fb9f3a"
             ],
             [
              0.8888888888888888,
              "#fdca26"
             ],
             [
              1,
              "#f0f921"
             ]
            ],
            "type": "histogram2d"
           }
          ],
          "histogram2dcontour": [
           {
            "colorbar": {
             "outlinewidth": 0,
             "ticks": ""
            },
            "colorscale": [
             [
              0,
              "#0d0887"
             ],
             [
              0.1111111111111111,
              "#46039f"
             ],
             [
              0.2222222222222222,
              "#7201a8"
             ],
             [
              0.3333333333333333,
              "#9c179e"
             ],
             [
              0.4444444444444444,
              "#bd3786"
             ],
             [
              0.5555555555555556,
              "#d8576b"
             ],
             [
              0.6666666666666666,
              "#ed7953"
             ],
             [
              0.7777777777777778,
              "#fb9f3a"
             ],
             [
              0.8888888888888888,
              "#fdca26"
             ],
             [
              1,
              "#f0f921"
             ]
            ],
            "type": "histogram2dcontour"
           }
          ],
          "mesh3d": [
           {
            "colorbar": {
             "outlinewidth": 0,
             "ticks": ""
            },
            "type": "mesh3d"
           }
          ],
          "parcoords": [
           {
            "line": {
             "colorbar": {
              "outlinewidth": 0,
              "ticks": ""
             }
            },
            "type": "parcoords"
           }
          ],
          "pie": [
           {
            "automargin": true,
            "type": "pie"
           }
          ],
          "scatter": [
           {
            "marker": {
             "colorbar": {
              "outlinewidth": 0,
              "ticks": ""
             }
            },
            "type": "scatter"
           }
          ],
          "scatter3d": [
           {
            "line": {
             "colorbar": {
              "outlinewidth": 0,
              "ticks": ""
             }
            },
            "marker": {
             "colorbar": {
              "outlinewidth": 0,
              "ticks": ""
             }
            },
            "type": "scatter3d"
           }
          ],
          "scattercarpet": [
           {
            "marker": {
             "colorbar": {
              "outlinewidth": 0,
              "ticks": ""
             }
            },
            "type": "scattercarpet"
           }
          ],
          "scattergeo": [
           {
            "marker": {
             "colorbar": {
              "outlinewidth": 0,
              "ticks": ""
             }
            },
            "type": "scattergeo"
           }
          ],
          "scattergl": [
           {
            "marker": {
             "colorbar": {
              "outlinewidth": 0,
              "ticks": ""
             }
            },
            "type": "scattergl"
           }
          ],
          "scattermapbox": [
           {
            "marker": {
             "colorbar": {
              "outlinewidth": 0,
              "ticks": ""
             }
            },
            "type": "scattermapbox"
           }
          ],
          "scatterpolar": [
           {
            "marker": {
             "colorbar": {
              "outlinewidth": 0,
              "ticks": ""
             }
            },
            "type": "scatterpolar"
           }
          ],
          "scatterpolargl": [
           {
            "marker": {
             "colorbar": {
              "outlinewidth": 0,
              "ticks": ""
             }
            },
            "type": "scatterpolargl"
           }
          ],
          "scatterternary": [
           {
            "marker": {
             "colorbar": {
              "outlinewidth": 0,
              "ticks": ""
             }
            },
            "type": "scatterternary"
           }
          ],
          "surface": [
           {
            "colorbar": {
             "outlinewidth": 0,
             "ticks": ""
            },
            "colorscale": [
             [
              0,
              "#0d0887"
             ],
             [
              0.1111111111111111,
              "#46039f"
             ],
             [
              0.2222222222222222,
              "#7201a8"
             ],
             [
              0.3333333333333333,
              "#9c179e"
             ],
             [
              0.4444444444444444,
              "#bd3786"
             ],
             [
              0.5555555555555556,
              "#d8576b"
             ],
             [
              0.6666666666666666,
              "#ed7953"
             ],
             [
              0.7777777777777778,
              "#fb9f3a"
             ],
             [
              0.8888888888888888,
              "#fdca26"
             ],
             [
              1,
              "#f0f921"
             ]
            ],
            "type": "surface"
           }
          ],
          "table": [
           {
            "cells": {
             "fill": {
              "color": "#EBF0F8"
             },
             "line": {
              "color": "white"
             }
            },
            "header": {
             "fill": {
              "color": "#C8D4E3"
             },
             "line": {
              "color": "white"
             }
            },
            "type": "table"
           }
          ]
         },
         "layout": {
          "annotationdefaults": {
           "arrowcolor": "#2a3f5f",
           "arrowhead": 0,
           "arrowwidth": 1
          },
          "coloraxis": {
           "colorbar": {
            "outlinewidth": 0,
            "ticks": ""
           }
          },
          "colorscale": {
           "diverging": [
            [
             0,
             "#8e0152"
            ],
            [
             0.1,
             "#c51b7d"
            ],
            [
             0.2,
             "#de77ae"
            ],
            [
             0.3,
             "#f1b6da"
            ],
            [
             0.4,
             "#fde0ef"
            ],
            [
             0.5,
             "#f7f7f7"
            ],
            [
             0.6,
             "#e6f5d0"
            ],
            [
             0.7,
             "#b8e186"
            ],
            [
             0.8,
             "#7fbc41"
            ],
            [
             0.9,
             "#4d9221"
            ],
            [
             1,
             "#276419"
            ]
           ],
           "sequential": [
            [
             0,
             "#0d0887"
            ],
            [
             0.1111111111111111,
             "#46039f"
            ],
            [
             0.2222222222222222,
             "#7201a8"
            ],
            [
             0.3333333333333333,
             "#9c179e"
            ],
            [
             0.4444444444444444,
             "#bd3786"
            ],
            [
             0.5555555555555556,
             "#d8576b"
            ],
            [
             0.6666666666666666,
             "#ed7953"
            ],
            [
             0.7777777777777778,
             "#fb9f3a"
            ],
            [
             0.8888888888888888,
             "#fdca26"
            ],
            [
             1,
             "#f0f921"
            ]
           ],
           "sequentialminus": [
            [
             0,
             "#0d0887"
            ],
            [
             0.1111111111111111,
             "#46039f"
            ],
            [
             0.2222222222222222,
             "#7201a8"
            ],
            [
             0.3333333333333333,
             "#9c179e"
            ],
            [
             0.4444444444444444,
             "#bd3786"
            ],
            [
             0.5555555555555556,
             "#d8576b"
            ],
            [
             0.6666666666666666,
             "#ed7953"
            ],
            [
             0.7777777777777778,
             "#fb9f3a"
            ],
            [
             0.8888888888888888,
             "#fdca26"
            ],
            [
             1,
             "#f0f921"
            ]
           ]
          },
          "colorway": [
           "#636efa",
           "#EF553B",
           "#00cc96",
           "#ab63fa",
           "#FFA15A",
           "#19d3f3",
           "#FF6692",
           "#B6E880",
           "#FF97FF",
           "#FECB52"
          ],
          "font": {
           "color": "#2a3f5f"
          },
          "geo": {
           "bgcolor": "white",
           "lakecolor": "white",
           "landcolor": "#E5ECF6",
           "showlakes": true,
           "showland": true,
           "subunitcolor": "white"
          },
          "hoverlabel": {
           "align": "left"
          },
          "hovermode": "closest",
          "mapbox": {
           "style": "light"
          },
          "paper_bgcolor": "white",
          "plot_bgcolor": "#E5ECF6",
          "polar": {
           "angularaxis": {
            "gridcolor": "white",
            "linecolor": "white",
            "ticks": ""
           },
           "bgcolor": "#E5ECF6",
           "radialaxis": {
            "gridcolor": "white",
            "linecolor": "white",
            "ticks": ""
           }
          },
          "scene": {
           "xaxis": {
            "backgroundcolor": "#E5ECF6",
            "gridcolor": "white",
            "gridwidth": 2,
            "linecolor": "white",
            "showbackground": true,
            "ticks": "",
            "zerolinecolor": "white"
           },
           "yaxis": {
            "backgroundcolor": "#E5ECF6",
            "gridcolor": "white",
            "gridwidth": 2,
            "linecolor": "white",
            "showbackground": true,
            "ticks": "",
            "zerolinecolor": "white"
           },
           "zaxis": {
            "backgroundcolor": "#E5ECF6",
            "gridcolor": "white",
            "gridwidth": 2,
            "linecolor": "white",
            "showbackground": true,
            "ticks": "",
            "zerolinecolor": "white"
           }
          },
          "shapedefaults": {
           "line": {
            "color": "#2a3f5f"
           }
          },
          "ternary": {
           "aaxis": {
            "gridcolor": "white",
            "linecolor": "white",
            "ticks": ""
           },
           "baxis": {
            "gridcolor": "white",
            "linecolor": "white",
            "ticks": ""
           },
           "bgcolor": "#E5ECF6",
           "caxis": {
            "gridcolor": "white",
            "linecolor": "white",
            "ticks": ""
           }
          },
          "title": {
           "x": 0.05
          },
          "xaxis": {
           "automargin": true,
           "gridcolor": "white",
           "linecolor": "white",
           "ticks": "",
           "title": {
            "standoff": 15
           },
           "zerolinecolor": "white",
           "zerolinewidth": 2
          },
          "yaxis": {
           "automargin": true,
           "gridcolor": "white",
           "linecolor": "white",
           "ticks": "",
           "title": {
            "standoff": 15
           },
           "zerolinecolor": "white",
           "zerolinewidth": 2
          }
         }
        },
        "title": {
         "text": "Sugar level distribution change in common products between 1993 and 2020"
        },
        "xaxis": {
         "title": {
          "text": "Years"
         }
        },
        "yaxis": {
         "title": {
          "text": "Sugar (grams/ounce)"
         }
        }
       }
      },
      "text/html": [
       "<div>                            <div id=\"6f9f7fde-07a1-4db5-8600-e9af4f8ff35d\" class=\"plotly-graph-div\" style=\"height:525px; width:100%;\"></div>            <script type=\"text/javascript\">                require([\"plotly\"], function(Plotly) {                    window.PLOTLYENV=window.PLOTLYENV || {};                                    if (document.getElementById(\"6f9f7fde-07a1-4db5-8600-e9af4f8ff35d\")) {                    Plotly.newPlot(                        \"6f9f7fde-07a1-4db5-8600-e9af4f8ff35d\",                        [{\"boxpoints\": \"all\", \"name\": \"Sugar\", \"text\": [\"100% Bran\", \"100% Natural Bran\", \"All-Bran\", \"All-Bran with Extra Fiber\", \"Almond Delight\", \"Apple Cinnamon Cheerios\", \"Apple Jacks\", \"Basic 4\", \"Bran Chex\", \"Bran Flakes\", \"Cap'n'Crunch\", \"Cheerios\", \"Cinnamon Toast Crunch\", \"Clusters\", \"Cocoa Puffs\", \"Corn Chex\", \"Corn Flakes\", \"Corn Pops\", \"Count Chocula\", \"Cracklin' Oat Bran\", \"Cream of Wheat (Quick)\", \"Crispix\", \"Crispy Wheat & Raisins\", \"Double Chex\", \"Froot Loops\", \"Frosted Flakes\", \"Frosted Mini-Wheats\", \"Fruit & Fibre Dates\", \"Fruitful Bran\", \"Fruity Pebbles\", \"Golden Crisp\", \"Golden Grahams\", \"Grape Nuts Flakes\", \"Grape-Nuts\", \"Great Grains Pecan\", \"Honey Graham Ohs\", \"Honey Nut Cheerios\", \"Honey-comb\", \"Just Right Crunchy  Nuggets\", \"Just Right Fruit & Nut\", \"Kix\", \"Life\", \"Lucky Charms\", \"Maypo\", \"Dates & Almonds\", \"Peaches & Pecans\", \"Mueslix Crispy Blend\", \"Multi-Grain Cheerios\", \"Nut&Honey Crunch\", \"Nutri-Grain Almond-Raisin\", \"Nutri-grain Wheat\", \"Oatmeal Raisin Crisp\", \"Post Nat. Raisin Bran\", \"Product 19\", \"Puffed Rice\", \"Puffed Wheat\", \"Quaker Oat Squares\", \"Quaker Oatmeal\", \"Raisin Bran\", \"Raisin Nut Bran\", \"Raisin Squares\", \"Rice Chex\", \"Rice Krispies\", \"Shredded Wheat\", \"Shredded Wheat 'n'Bran\", \"Shredded Wheat spoon size\", \"Smacks\", \"Special K\", \"Strawberry Fruit Wheats\", \"Total Corn Flakes\", \"Total Raisin Bran\", \"Total Whole Grain\", \"Triples\", \"Trix\", \"Walnuts & Oats\", \"Wheat Chex\", \"Wheaties\", \"Wheaties Honey Gold\", \"All-Bran Complete Wheat Flakes Cereal\", \"Eggo\", \"Honey Smacks\", \"Krave Double Chocolate\", \"Peeps\", \"Smart Start\", \"Annie's Whole Grain Cereal\", \"Cascadian Farm Organic Raisin Bran\", \"Cheerios Multi Grain\", \"Chex Wheat Cereal\", \"Cookie Crisp\", \"Dunkaroos\", \"Fiber One\", \"Good Belly\", \"Larabar (Peanut Butter)\", \"Oatmeal Crisp\", \"Wonderworks (Peanut Butter)\", \"Ahold 100% Whole Grain\", \"Hannaford Frosted Flakes\", \"Martin's Food Lion\", \"Hannaford Tasteeos Cereal\", \"Ahold Vanilla Almond Cereal\", \"Kelloggs Special Fruit & Yogurt\", \"Kelloggs Special Original Cereal\", \"Quaker Life Cinnamon Multigrain\", \"Quaker Life Original Multigrain\", \"Quaker Life Ltd. Edition, Pumpkin Spice\", \"All-Bran\", \"Apple Jacks\", \"Basic 4\", \"Cocoa Puffs\", \"Corn Flakes\", \"Corn Pops\", \"Cracklin' Oat Bran\", \"Crispix\", \"Froot Loops\", \"Frosted Flakes\", \"Golden Grahams\", \"Kix\", \"Oatmeal Raisin Crisp\", \"Raisin Bran\", \"Raisin Nut Bran\", \"Rice Krispies\", \"Special K\", \"Total Whole Grain\", \"Trix\", \"Wheaties\"], \"type\": \"box\", \"x\": [1993, 1993, 1993, 1993, 1993, 1993, 1993, 1993, 1993, 1993, 1993, 1993, 1993, 1993, 1993, 1993, 1993, 1993, 1993, 1993, 2020, 2020, 2020, 2020, 2020, 2020, 2020, 2020, 2020, 2020, 2020, 2020, 2020, 2020, 2020, 2020, 2020, 2020, 2020, 2020], \"y\": [5, 14, 6, 13, 2, 12, 7, 3, 13, 11, 9, 3, 8, 9, 8, 3, 3, 3, 12, 3, 5, 10, 6, 9, 3, 11, 8, 4, 9, 9, 9, 3, 6, 9, 8, 3, 4, 4, 9, 4]}],                        {\"boxmode\": \"group\", \"template\": {\"data\": {\"bar\": [{\"error_x\": {\"color\": \"#2a3f5f\"}, \"error_y\": {\"color\": \"#2a3f5f\"}, \"marker\": {\"line\": {\"color\": \"#E5ECF6\", \"width\": 0.5}}, \"type\": \"bar\"}], \"barpolar\": [{\"marker\": {\"line\": {\"color\": \"#E5ECF6\", \"width\": 0.5}}, \"type\": \"barpolar\"}], \"carpet\": [{\"aaxis\": {\"endlinecolor\": \"#2a3f5f\", \"gridcolor\": \"white\", \"linecolor\": \"white\", \"minorgridcolor\": \"white\", \"startlinecolor\": \"#2a3f5f\"}, \"baxis\": {\"endlinecolor\": \"#2a3f5f\", \"gridcolor\": \"white\", \"linecolor\": \"white\", \"minorgridcolor\": \"white\", \"startlinecolor\": \"#2a3f5f\"}, \"type\": \"carpet\"}], \"choropleth\": [{\"colorbar\": {\"outlinewidth\": 0, \"ticks\": \"\"}, \"type\": \"choropleth\"}], \"contour\": [{\"colorbar\": {\"outlinewidth\": 0, \"ticks\": \"\"}, \"colorscale\": [[0.0, \"#0d0887\"], [0.1111111111111111, \"#46039f\"], [0.2222222222222222, \"#7201a8\"], [0.3333333333333333, \"#9c179e\"], [0.4444444444444444, \"#bd3786\"], [0.5555555555555556, \"#d8576b\"], [0.6666666666666666, \"#ed7953\"], [0.7777777777777778, \"#fb9f3a\"], [0.8888888888888888, \"#fdca26\"], [1.0, \"#f0f921\"]], \"type\": \"contour\"}], \"contourcarpet\": [{\"colorbar\": {\"outlinewidth\": 0, \"ticks\": \"\"}, \"type\": \"contourcarpet\"}], \"heatmap\": [{\"colorbar\": {\"outlinewidth\": 0, \"ticks\": \"\"}, \"colorscale\": [[0.0, \"#0d0887\"], [0.1111111111111111, \"#46039f\"], [0.2222222222222222, \"#7201a8\"], [0.3333333333333333, \"#9c179e\"], [0.4444444444444444, \"#bd3786\"], [0.5555555555555556, \"#d8576b\"], [0.6666666666666666, \"#ed7953\"], [0.7777777777777778, \"#fb9f3a\"], [0.8888888888888888, \"#fdca26\"], [1.0, \"#f0f921\"]], \"type\": \"heatmap\"}], \"heatmapgl\": [{\"colorbar\": {\"outlinewidth\": 0, \"ticks\": \"\"}, \"colorscale\": [[0.0, \"#0d0887\"], [0.1111111111111111, \"#46039f\"], [0.2222222222222222, \"#7201a8\"], [0.3333333333333333, \"#9c179e\"], [0.4444444444444444, \"#bd3786\"], [0.5555555555555556, \"#d8576b\"], [0.6666666666666666, \"#ed7953\"], [0.7777777777777778, \"#fb9f3a\"], [0.8888888888888888, \"#fdca26\"], [1.0, \"#f0f921\"]], \"type\": \"heatmapgl\"}], \"histogram\": [{\"marker\": {\"colorbar\": {\"outlinewidth\": 0, \"ticks\": \"\"}}, \"type\": \"histogram\"}], \"histogram2d\": [{\"colorbar\": {\"outlinewidth\": 0, \"ticks\": \"\"}, \"colorscale\": [[0.0, \"#0d0887\"], [0.1111111111111111, \"#46039f\"], [0.2222222222222222, \"#7201a8\"], [0.3333333333333333, \"#9c179e\"], [0.4444444444444444, \"#bd3786\"], [0.5555555555555556, \"#d8576b\"], [0.6666666666666666, \"#ed7953\"], [0.7777777777777778, \"#fb9f3a\"], [0.8888888888888888, \"#fdca26\"], [1.0, \"#f0f921\"]], \"type\": \"histogram2d\"}], \"histogram2dcontour\": [{\"colorbar\": {\"outlinewidth\": 0, \"ticks\": \"\"}, \"colorscale\": [[0.0, \"#0d0887\"], [0.1111111111111111, \"#46039f\"], [0.2222222222222222, \"#7201a8\"], [0.3333333333333333, \"#9c179e\"], [0.4444444444444444, \"#bd3786\"], [0.5555555555555556, \"#d8576b\"], [0.6666666666666666, \"#ed7953\"], [0.7777777777777778, \"#fb9f3a\"], [0.8888888888888888, \"#fdca26\"], [1.0, \"#f0f921\"]], \"type\": \"histogram2dcontour\"}], \"mesh3d\": [{\"colorbar\": {\"outlinewidth\": 0, \"ticks\": \"\"}, \"type\": \"mesh3d\"}], \"parcoords\": [{\"line\": {\"colorbar\": {\"outlinewidth\": 0, \"ticks\": \"\"}}, \"type\": \"parcoords\"}], \"pie\": [{\"automargin\": true, \"type\": \"pie\"}], \"scatter\": [{\"marker\": {\"colorbar\": {\"outlinewidth\": 0, \"ticks\": \"\"}}, \"type\": \"scatter\"}], \"scatter3d\": [{\"line\": {\"colorbar\": {\"outlinewidth\": 0, \"ticks\": \"\"}}, \"marker\": {\"colorbar\": {\"outlinewidth\": 0, \"ticks\": \"\"}}, \"type\": \"scatter3d\"}], \"scattercarpet\": [{\"marker\": {\"colorbar\": {\"outlinewidth\": 0, \"ticks\": \"\"}}, \"type\": \"scattercarpet\"}], \"scattergeo\": [{\"marker\": {\"colorbar\": {\"outlinewidth\": 0, \"ticks\": \"\"}}, \"type\": \"scattergeo\"}], \"scattergl\": [{\"marker\": {\"colorbar\": {\"outlinewidth\": 0, \"ticks\": \"\"}}, \"type\": \"scattergl\"}], \"scattermapbox\": [{\"marker\": {\"colorbar\": {\"outlinewidth\": 0, \"ticks\": \"\"}}, \"type\": \"scattermapbox\"}], \"scatterpolar\": [{\"marker\": {\"colorbar\": {\"outlinewidth\": 0, \"ticks\": \"\"}}, \"type\": \"scatterpolar\"}], \"scatterpolargl\": [{\"marker\": {\"colorbar\": {\"outlinewidth\": 0, \"ticks\": \"\"}}, \"type\": \"scatterpolargl\"}], \"scatterternary\": [{\"marker\": {\"colorbar\": {\"outlinewidth\": 0, \"ticks\": \"\"}}, \"type\": \"scatterternary\"}], \"surface\": [{\"colorbar\": {\"outlinewidth\": 0, \"ticks\": \"\"}, \"colorscale\": [[0.0, \"#0d0887\"], [0.1111111111111111, \"#46039f\"], [0.2222222222222222, \"#7201a8\"], [0.3333333333333333, \"#9c179e\"], [0.4444444444444444, \"#bd3786\"], [0.5555555555555556, \"#d8576b\"], [0.6666666666666666, \"#ed7953\"], [0.7777777777777778, \"#fb9f3a\"], [0.8888888888888888, \"#fdca26\"], [1.0, \"#f0f921\"]], \"type\": \"surface\"}], \"table\": [{\"cells\": {\"fill\": {\"color\": \"#EBF0F8\"}, \"line\": {\"color\": \"white\"}}, \"header\": {\"fill\": {\"color\": \"#C8D4E3\"}, \"line\": {\"color\": \"white\"}}, \"type\": \"table\"}]}, \"layout\": {\"annotationdefaults\": {\"arrowcolor\": \"#2a3f5f\", \"arrowhead\": 0, \"arrowwidth\": 1}, \"coloraxis\": {\"colorbar\": {\"outlinewidth\": 0, \"ticks\": \"\"}}, \"colorscale\": {\"diverging\": [[0, \"#8e0152\"], [0.1, \"#c51b7d\"], [0.2, \"#de77ae\"], [0.3, \"#f1b6da\"], [0.4, \"#fde0ef\"], [0.5, \"#f7f7f7\"], [0.6, \"#e6f5d0\"], [0.7, \"#b8e186\"], [0.8, \"#7fbc41\"], [0.9, \"#4d9221\"], [1, \"#276419\"]], \"sequential\": [[0.0, \"#0d0887\"], [0.1111111111111111, \"#46039f\"], [0.2222222222222222, \"#7201a8\"], [0.3333333333333333, \"#9c179e\"], [0.4444444444444444, \"#bd3786\"], [0.5555555555555556, \"#d8576b\"], [0.6666666666666666, \"#ed7953\"], [0.7777777777777778, \"#fb9f3a\"], [0.8888888888888888, \"#fdca26\"], [1.0, \"#f0f921\"]], \"sequentialminus\": [[0.0, \"#0d0887\"], [0.1111111111111111, \"#46039f\"], [0.2222222222222222, \"#7201a8\"], [0.3333333333333333, \"#9c179e\"], [0.4444444444444444, \"#bd3786\"], [0.5555555555555556, \"#d8576b\"], [0.6666666666666666, \"#ed7953\"], [0.7777777777777778, \"#fb9f3a\"], [0.8888888888888888, \"#fdca26\"], [1.0, \"#f0f921\"]]}, \"colorway\": [\"#636efa\", \"#EF553B\", \"#00cc96\", \"#ab63fa\", \"#FFA15A\", \"#19d3f3\", \"#FF6692\", \"#B6E880\", \"#FF97FF\", \"#FECB52\"], \"font\": {\"color\": \"#2a3f5f\"}, \"geo\": {\"bgcolor\": \"white\", \"lakecolor\": \"white\", \"landcolor\": \"#E5ECF6\", \"showlakes\": true, \"showland\": true, \"subunitcolor\": \"white\"}, \"hoverlabel\": {\"align\": \"left\"}, \"hovermode\": \"closest\", \"mapbox\": {\"style\": \"light\"}, \"paper_bgcolor\": \"white\", \"plot_bgcolor\": \"#E5ECF6\", \"polar\": {\"angularaxis\": {\"gridcolor\": \"white\", \"linecolor\": \"white\", \"ticks\": \"\"}, \"bgcolor\": \"#E5ECF6\", \"radialaxis\": {\"gridcolor\": \"white\", \"linecolor\": \"white\", \"ticks\": \"\"}}, \"scene\": {\"xaxis\": {\"backgroundcolor\": \"#E5ECF6\", \"gridcolor\": \"white\", \"gridwidth\": 2, \"linecolor\": \"white\", \"showbackground\": true, \"ticks\": \"\", \"zerolinecolor\": \"white\"}, \"yaxis\": {\"backgroundcolor\": \"#E5ECF6\", \"gridcolor\": \"white\", \"gridwidth\": 2, \"linecolor\": \"white\", \"showbackground\": true, \"ticks\": \"\", \"zerolinecolor\": \"white\"}, \"zaxis\": {\"backgroundcolor\": \"#E5ECF6\", \"gridcolor\": \"white\", \"gridwidth\": 2, \"linecolor\": \"white\", \"showbackground\": true, \"ticks\": \"\", \"zerolinecolor\": \"white\"}}, \"shapedefaults\": {\"line\": {\"color\": \"#2a3f5f\"}}, \"ternary\": {\"aaxis\": {\"gridcolor\": \"white\", \"linecolor\": \"white\", \"ticks\": \"\"}, \"baxis\": {\"gridcolor\": \"white\", \"linecolor\": \"white\", \"ticks\": \"\"}, \"bgcolor\": \"#E5ECF6\", \"caxis\": {\"gridcolor\": \"white\", \"linecolor\": \"white\", \"ticks\": \"\"}}, \"title\": {\"x\": 0.05}, \"xaxis\": {\"automargin\": true, \"gridcolor\": \"white\", \"linecolor\": \"white\", \"ticks\": \"\", \"title\": {\"standoff\": 15}, \"zerolinecolor\": \"white\", \"zerolinewidth\": 2}, \"yaxis\": {\"automargin\": true, \"gridcolor\": \"white\", \"linecolor\": \"white\", \"ticks\": \"\", \"title\": {\"standoff\": 15}, \"zerolinecolor\": \"white\", \"zerolinewidth\": 2}}}, \"title\": {\"text\": \"Sugar level distribution change in common products between 1993 and 2020\"}, \"xaxis\": {\"title\": {\"text\": \"Years\"}}, \"yaxis\": {\"title\": {\"text\": \"Sugar (grams/ounce)\"}}},                        {\"responsive\": true}                    ).then(function(){\n",
       "                            \n",
       "var gd = document.getElementById('6f9f7fde-07a1-4db5-8600-e9af4f8ff35d');\n",
       "var x = new MutationObserver(function (mutations, observer) {{\n",
       "        var display = window.getComputedStyle(gd).display;\n",
       "        if (!display || display === 'none') {{\n",
       "            console.log([gd, 'removed!']);\n",
       "            Plotly.purge(gd);\n",
       "            observer.disconnect();\n",
       "        }}\n",
       "}});\n",
       "\n",
       "// Listen for the removal of the full notebook cells\n",
       "var notebookContainer = gd.closest('#notebook-container');\n",
       "if (notebookContainer) {{\n",
       "    x.observe(notebookContainer, {childList: true});\n",
       "}}\n",
       "\n",
       "// Listen for the clearing of the current output cell\n",
       "var outputEl = gd.closest('.output');\n",
       "if (outputEl) {{\n",
       "    x.observe(outputEl, {childList: true});\n",
       "}}\n",
       "\n",
       "                        })                };                });            </script>        </div>"
      ]
     },
     "metadata": {},
     "output_type": "display_data"
    }
   ],
   "source": [
    "ings = ['Protein', 'Fat', 'Fiber', 'Carbohydrate', 'Sugar']\n",
    "\n",
    "for i in range(len(ings)):\n",
    "    # Scatter Plot\n",
    "    fig = go.Figure()\n",
    "    \n",
    "    _ = fig.add_trace(go.Scatter(x = df_common_old['Name'], y = df_common_old[ings[i]], \n",
    "                                 name = years[0], marker_size = 12, marker_line_width = 0))\n",
    "    _ = fig.add_trace(go.Scatter(x = df_common_new['Name'], y = df_common_new[ings[i]],\n",
    "                                 name = years[1], marker_size = 12, marker_line_width = 0))\n",
    "    _ = fig.update_xaxes(title_text = 'Common Cereals')\n",
    "    _ = fig.update_yaxes(title_text = ings[i] + ' (grams/ounce)')\n",
    "\n",
    "    # Set options common to all traces with fig.update_traces\n",
    "    _ = fig.update_traces(mode = 'lines+markers')\n",
    "    _ = fig.update_layout(showlegend = True,\n",
    "                          title_text = ings[i] + ' levels of common cereals in 1993 and 2020')\n",
    "    \n",
    "    fig.show()\n",
    "    \n",
    "    # Box Plot\n",
    "    fig = go.Figure()\n",
    "    \n",
    "    _ = fig.add_trace(go.Box(y = df_common[ings[i]], x = df_common.Year, \n",
    "                             name = ings[i], text = df_main['Name'], boxpoints='all'))\n",
    "    \n",
    "    _ = fig.update_xaxes(title_text = 'Years')\n",
    "    _ = fig.update_yaxes(title_text = ings[i] + ' (grams/ounce)')\n",
    "    \n",
    "    _ = fig.update_layout(boxmode = 'group',\n",
    "                         title_text = ings[i] + ' level distribution change in common products between 1993 and 2020')\n",
    "    \n",
    "    fig.show()"
   ]
  },
  {
   "cell_type": "markdown",
   "metadata": {},
   "source": [
    "### Pareto chart analysis of top manufacturers in 1993"
   ]
  },
  {
   "cell_type": "code",
   "execution_count": 34,
   "metadata": {
    "ExecuteTime": {
     "end_time": "2021-03-21T10:54:48.159304Z",
     "start_time": "2021-03-21T10:54:48.135284Z"
    }
   },
   "outputs": [],
   "source": [
    "def pareto_plot(df, x = None, y = None, title = None, show_pct_y = False, pct_format = '{0:.0%}', figsize = [6.4, 4.8]):\n",
    "    xlabel = x\n",
    "    ylabel = y\n",
    "    tmp = df.sort_values(y, ascending = False)\n",
    "    x = tmp[x].values\n",
    "    y = tmp[y].values\n",
    "    weights = y / y.sum()\n",
    "    cumsum = weights.cumsum()\n",
    "    \n",
    "    fig, ax1 = plt.subplots()\n",
    "    fig.set_figwidth(figsize[0])\n",
    "    fig.set_figheight(figsize[1])\n",
    "    ax1.bar(x, y)\n",
    "    ax1.set_xlabel(xlabel)\n",
    "    ax1.set_ylabel(ylabel)\n",
    "\n",
    "    ax2 = ax1.twinx()\n",
    "    ax2.plot(x, cumsum, '-ro', alpha = 0.5)\n",
    "    ax2.set_ylabel('', color='r')\n",
    "    ax2.tick_params('y', colors='r')\n",
    "    \n",
    "    vals = ax2.get_yticks()\n",
    "    ax2.set_yticklabels(['{:,.2%}'.format(x) for x in vals])\n",
    "\n",
    "    # hide y-labels on right side\n",
    "    if not show_pct_y:\n",
    "        ax2.set_yticks([])\n",
    "    \n",
    "    formatted_weights = [pct_format.format(x) for x in cumsum]\n",
    "    for i, txt in enumerate(formatted_weights):\n",
    "        ax2.annotate(txt, (x[i], cumsum[i]), fontweight='heavy')    \n",
    "    \n",
    "    if title:\n",
    "        plt.title(title)\n",
    "    \n",
    "    plt.tight_layout()\n",
    "    plt.show()"
   ]
  },
  {
   "cell_type": "code",
   "execution_count": 35,
   "metadata": {
    "ExecuteTime": {
     "end_time": "2021-03-21T10:54:49.132050Z",
     "start_time": "2021-03-21T10:54:49.100054Z"
    }
   },
   "outputs": [
    {
     "data": {
      "text/html": [
       "<div>\n",
       "<style scoped>\n",
       "    .dataframe tbody tr th:only-of-type {\n",
       "        vertical-align: middle;\n",
       "    }\n",
       "\n",
       "    .dataframe tbody tr th {\n",
       "        vertical-align: top;\n",
       "    }\n",
       "\n",
       "    .dataframe thead th {\n",
       "        text-align: right;\n",
       "    }\n",
       "</style>\n",
       "<table border=\"1\" class=\"dataframe\">\n",
       "  <thead>\n",
       "    <tr style=\"text-align: right;\">\n",
       "      <th></th>\n",
       "      <th>Manufacturer</th>\n",
       "      <th>Count</th>\n",
       "    </tr>\n",
       "  </thead>\n",
       "  <tbody>\n",
       "    <tr>\n",
       "      <th>0</th>\n",
       "      <td>American Home Food Products</td>\n",
       "      <td>1</td>\n",
       "    </tr>\n",
       "    <tr>\n",
       "      <th>1</th>\n",
       "      <td>General Mills</td>\n",
       "      <td>21</td>\n",
       "    </tr>\n",
       "    <tr>\n",
       "      <th>2</th>\n",
       "      <td>Kelloggs</td>\n",
       "      <td>23</td>\n",
       "    </tr>\n",
       "    <tr>\n",
       "      <th>3</th>\n",
       "      <td>Nabisco</td>\n",
       "      <td>6</td>\n",
       "    </tr>\n",
       "    <tr>\n",
       "      <th>4</th>\n",
       "      <td>Post Holdings</td>\n",
       "      <td>10</td>\n",
       "    </tr>\n",
       "    <tr>\n",
       "      <th>5</th>\n",
       "      <td>Quaker Oats</td>\n",
       "      <td>8</td>\n",
       "    </tr>\n",
       "    <tr>\n",
       "      <th>6</th>\n",
       "      <td>Ralston Purina</td>\n",
       "      <td>8</td>\n",
       "    </tr>\n",
       "  </tbody>\n",
       "</table>\n",
       "</div>"
      ],
      "text/plain": [
       "                  Manufacturer  Count\n",
       "0  American Home Food Products      1\n",
       "1                General Mills     21\n",
       "2                     Kelloggs     23\n",
       "3                      Nabisco      6\n",
       "4                Post Holdings     10\n",
       "5                  Quaker Oats      8\n",
       "6               Ralston Purina      8"
      ]
     },
     "execution_count": 35,
     "metadata": {},
     "output_type": "execute_result"
    }
   ],
   "source": [
    "df_tmp = df_main_old.groupby('Manufacturer')['Year'].count().reset_index().rename({'Year': 'Count'}, axis = 1)\n",
    "df_tmp"
   ]
  },
  {
   "cell_type": "code",
   "execution_count": 39,
   "metadata": {
    "ExecuteTime": {
     "end_time": "2021-03-21T10:55:18.467287Z",
     "start_time": "2021-03-21T10:55:18.115192Z"
    }
   },
   "outputs": [
    {
     "data": {
      "image/png": "[encoded data removed]",
      "text/plain": [
       "<Figure size 864x345.6 with 2 Axes>"
      ]
     },
     "metadata": {
      "needs_background": "light"
     },
     "output_type": "display_data"
    }
   ],
   "source": [
    "pareto_plot(df_tmp, x = 'Manufacturer', y = 'Count', title = 'Manufacturer Product Counts', figsize = [12, 4.8])"
   ]
  },
  {
   "cell_type": "markdown",
   "metadata": {},
   "source": [
    "## References"
   ]
  },
  {
   "cell_type": "markdown",
   "metadata": {
    "ExecuteTime": {
     "end_time": "2021-03-21T10:33:33.317094Z",
     "start_time": "2021-03-21T10:33:33.309093Z"
    }
   },
   "source": [
    " - [Plotly Python Open Source Graphing Library](https://plotly.com/python/)\n",
    " - [Unofficial Jupyter Notebook Extensions](https://jupyter-contrib-nbextensions.readthedocs.io/en/latest/index.html)\n",
    "     - [TOC 2 Extension](https://jupyter-contrib-nbextensions.readthedocs.io/en/latest/nbextensions/toc2/README.html)\n",
    " - [Pareto Plot With Matplotlib](https://tylermarrs.com/posts/pareto-plot-with-matplotlib/)\n",
    " - [nbconvert: Convert Notebooks to other formats](https://nbconvert.readthedocs.io/en/latest/)\n",
    "     - [PlotlyHTMLExporter](https://github.com/plotly/plotlyhtmlexporter)"
   ]
  }
 ],
 "metadata": {
  "kernelspec": {
   "display_name": "Python 3",
   "language": "python",
   "name": "python3"
  },
  "language_info": {
   "codemirror_mode": {
    "name": "ipython",
    "version": 3
   },
   "file_extension": ".py",
   "mimetype": "text/x-python",
   "name": "python",
   "nbconvert_exporter": "python",
   "pygments_lexer": "ipython3",
   "version": "3.8.5"
  },
  "toc": {
   "base_numbering": "1",
   "nav_menu": {},
   "number_sections": true,
   "sideBar": true,
   "skip_h1_title": false,
   "title_cell": "Table of Contents",
   "title_sidebar": "Contents",
   "toc_cell": true,
   "toc_position": {
    "height": "calc(100% - 180px)",
    "left": "10px",
    "top": "150px",
    "width": "458.396px"
   },
   "toc_section_display": true,
   "toc_window_display": true
  }
 },
 "nbformat": 4,
 "nbformat_minor": 4
}
